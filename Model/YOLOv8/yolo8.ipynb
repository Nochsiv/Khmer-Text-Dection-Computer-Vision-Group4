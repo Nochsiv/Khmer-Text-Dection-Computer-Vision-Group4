{
  "cells": [
    {
      "cell_type": "code",
      "execution_count": 1,
      "metadata": {
        "colab": {
          "base_uri": "https://localhost:8080/"
        },
        "id": "j9tqVIXtdrm5",
        "outputId": "3c5794ef-db35-45a0-b82d-b31a51c43594"
      },
      "outputs": [
        {
          "output_type": "stream",
          "name": "stdout",
          "text": [
            "Collecting roboflow\n",
            "  Downloading roboflow-1.1.50-py3-none-any.whl.metadata (9.7 kB)\n",
            "Requirement already satisfied: certifi in /usr/local/lib/python3.10/dist-packages (from roboflow) (2024.12.14)\n",
            "Collecting idna==3.7 (from roboflow)\n",
            "  Downloading idna-3.7-py3-none-any.whl.metadata (9.9 kB)\n",
            "Requirement already satisfied: cycler in /usr/local/lib/python3.10/dist-packages (from roboflow) (0.12.1)\n",
            "Requirement already satisfied: kiwisolver>=1.3.1 in /usr/local/lib/python3.10/dist-packages (from roboflow) (1.4.7)\n",
            "Requirement already satisfied: matplotlib in /usr/local/lib/python3.10/dist-packages (from roboflow) (3.8.0)\n",
            "Requirement already satisfied: numpy>=1.18.5 in /usr/local/lib/python3.10/dist-packages (from roboflow) (1.26.4)\n",
            "Requirement already satisfied: opencv-python-headless==4.10.0.84 in /usr/local/lib/python3.10/dist-packages (from roboflow) (4.10.0.84)\n",
            "Requirement already satisfied: Pillow>=7.1.2 in /usr/local/lib/python3.10/dist-packages (from roboflow) (11.0.0)\n",
            "Requirement already satisfied: python-dateutil in /usr/local/lib/python3.10/dist-packages (from roboflow) (2.8.2)\n",
            "Collecting python-dotenv (from roboflow)\n",
            "  Downloading python_dotenv-1.0.1-py3-none-any.whl.metadata (23 kB)\n",
            "Requirement already satisfied: requests in /usr/local/lib/python3.10/dist-packages (from roboflow) (2.32.3)\n",
            "Requirement already satisfied: six in /usr/local/lib/python3.10/dist-packages (from roboflow) (1.17.0)\n",
            "Requirement already satisfied: urllib3>=1.26.6 in /usr/local/lib/python3.10/dist-packages (from roboflow) (2.2.3)\n",
            "Requirement already satisfied: tqdm>=4.41.0 in /usr/local/lib/python3.10/dist-packages (from roboflow) (4.67.1)\n",
            "Requirement already satisfied: PyYAML>=5.3.1 in /usr/local/lib/python3.10/dist-packages (from roboflow) (6.0.2)\n",
            "Requirement already satisfied: requests-toolbelt in /usr/local/lib/python3.10/dist-packages (from roboflow) (1.0.0)\n",
            "Collecting filetype (from roboflow)\n",
            "  Downloading filetype-1.2.0-py2.py3-none-any.whl.metadata (6.5 kB)\n",
            "Requirement already satisfied: contourpy>=1.0.1 in /usr/local/lib/python3.10/dist-packages (from matplotlib->roboflow) (1.3.1)\n",
            "Requirement already satisfied: fonttools>=4.22.0 in /usr/local/lib/python3.10/dist-packages (from matplotlib->roboflow) (4.55.3)\n",
            "Requirement already satisfied: packaging>=20.0 in /usr/local/lib/python3.10/dist-packages (from matplotlib->roboflow) (24.2)\n",
            "Requirement already satisfied: pyparsing>=2.3.1 in /usr/local/lib/python3.10/dist-packages (from matplotlib->roboflow) (3.2.0)\n",
            "Requirement already satisfied: charset-normalizer<4,>=2 in /usr/local/lib/python3.10/dist-packages (from requests->roboflow) (3.4.0)\n",
            "Downloading roboflow-1.1.50-py3-none-any.whl (81 kB)\n",
            "\u001b[2K   \u001b[90m━━━━━━━━━━━━━━━━━━━━━━━━━━━━━━━━━━━━━━━━\u001b[0m \u001b[32m81.5/81.5 kB\u001b[0m \u001b[31m4.5 MB/s\u001b[0m eta \u001b[36m0:00:00\u001b[0m\n",
            "\u001b[?25hDownloading idna-3.7-py3-none-any.whl (66 kB)\n",
            "\u001b[2K   \u001b[90m━━━━━━━━━━━━━━━━━━━━━━━━━━━━━━━━━━━━━━━━\u001b[0m \u001b[32m66.8/66.8 kB\u001b[0m \u001b[31m5.4 MB/s\u001b[0m eta \u001b[36m0:00:00\u001b[0m\n",
            "\u001b[?25hDownloading filetype-1.2.0-py2.py3-none-any.whl (19 kB)\n",
            "Downloading python_dotenv-1.0.1-py3-none-any.whl (19 kB)\n",
            "Installing collected packages: filetype, python-dotenv, idna, roboflow\n",
            "  Attempting uninstall: idna\n",
            "    Found existing installation: idna 3.10\n",
            "    Uninstalling idna-3.10:\n",
            "      Successfully uninstalled idna-3.10\n",
            "Successfully installed filetype-1.2.0 idna-3.7 python-dotenv-1.0.1 roboflow-1.1.50\n",
            "loading Roboflow workspace...\n",
            "loading Roboflow project...\n"
          ]
        },
        {
          "output_type": "stream",
          "name": "stderr",
          "text": [
            "Downloading Dataset Version Zip in Scence-Text-Detection-4 to yolov8:: 100%|██████████| 346967/346967 [00:07<00:00, 47430.17it/s]"
          ]
        },
        {
          "output_type": "stream",
          "name": "stdout",
          "text": [
            "\n"
          ]
        },
        {
          "output_type": "stream",
          "name": "stderr",
          "text": [
            "\n",
            "Extracting Dataset Version Zip to Scence-Text-Detection-4 in yolov8:: 100%|██████████| 13210/13210 [00:02<00:00, 5335.05it/s]\n"
          ]
        }
      ],
      "source": [
        "!pip install roboflow\n",
        "\n",
        "from roboflow import Roboflow\n",
        "rf = Roboflow(api_key=\"87HQwXIJFUGfrixpzzLF\")\n",
        "project = rf.workspace(\"face-demotion-recognite\").project(\"scence-text-detection\")\n",
        "version = project.version(4)\n",
        "dataset = version.download(\"yolov8\")"
      ]
    },
    {
      "cell_type": "code",
      "execution_count": 6,
      "metadata": {
        "colab": {
          "base_uri": "https://localhost:8080/"
        },
        "id": "iFP_5G2Bdrm7",
        "outputId": "d843c54b-8268-4c46-ef0e-e1266a924fec"
      },
      "outputs": [
        {
          "output_type": "stream",
          "name": "stdout",
          "text": [
            "Ultralytics 8.3.53 🚀 Python-3.10.12 torch-2.5.1+cu121 CUDA:0 (Tesla T4, 15102MiB)\n",
            "\u001b[34m\u001b[1mengine/trainer: \u001b[0mtask=detect, mode=train, model=yolov8n.pt, data=/content/Scence-Text-Detection-4/data.yaml, epochs=100, time=None, patience=100, batch=16, imgsz=640, save=True, save_period=-1, cache=False, device=None, workers=8, project=None, name=train2, exist_ok=False, pretrained=True, optimizer=auto, verbose=True, seed=0, deterministic=True, single_cls=True, rect=False, cos_lr=False, close_mosaic=10, resume=False, amp=True, fraction=1.0, profile=False, freeze=None, multi_scale=False, overlap_mask=True, mask_ratio=4, dropout=0.0, val=True, split=val, save_json=False, save_hybrid=False, conf=None, iou=0.7, max_det=300, half=False, dnn=False, plots=True, source=None, vid_stride=1, stream_buffer=False, visualize=False, augment=False, agnostic_nms=False, classes=None, retina_masks=False, embed=None, show=False, save_frames=False, save_txt=False, save_conf=False, save_crop=False, show_labels=True, show_conf=True, show_boxes=True, line_width=None, format=torchscript, keras=False, optimize=False, int8=False, dynamic=False, simplify=True, opset=None, workspace=None, nms=False, lr0=0.01, lrf=0.01, momentum=0.937, weight_decay=0.0005, warmup_epochs=3.0, warmup_momentum=0.8, warmup_bias_lr=0.1, box=7.5, cls=0.5, dfl=1.5, pose=12.0, kobj=1.0, nbs=64, hsv_h=0.015, hsv_s=0.7, hsv_v=0.4, degrees=0.0, translate=0.1, scale=0.5, shear=0.0, perspective=0.0, flipud=0.0, fliplr=0.5, bgr=0.0, mosaic=1.0, mixup=0.0, copy_paste=0.0, copy_paste_mode=flip, auto_augment=randaugment, erasing=0.4, crop_fraction=1.0, cfg=None, tracker=botsort.yaml, save_dir=runs/detect/train2\n",
            "Overriding model.yaml nc=80 with nc=1\n",
            "\n",
            "                   from  n    params  module                                       arguments                     \n",
            "  0                  -1  1       464  ultralytics.nn.modules.conv.Conv             [3, 16, 3, 2]                 \n",
            "  1                  -1  1      4672  ultralytics.nn.modules.conv.Conv             [16, 32, 3, 2]                \n",
            "  2                  -1  1      7360  ultralytics.nn.modules.block.C2f             [32, 32, 1, True]             \n",
            "  3                  -1  1     18560  ultralytics.nn.modules.conv.Conv             [32, 64, 3, 2]                \n",
            "  4                  -1  2     49664  ultralytics.nn.modules.block.C2f             [64, 64, 2, True]             \n",
            "  5                  -1  1     73984  ultralytics.nn.modules.conv.Conv             [64, 128, 3, 2]               \n",
            "  6                  -1  2    197632  ultralytics.nn.modules.block.C2f             [128, 128, 2, True]           \n",
            "  7                  -1  1    295424  ultralytics.nn.modules.conv.Conv             [128, 256, 3, 2]              \n",
            "  8                  -1  1    460288  ultralytics.nn.modules.block.C2f             [256, 256, 1, True]           \n",
            "  9                  -1  1    164608  ultralytics.nn.modules.block.SPPF            [256, 256, 5]                 \n",
            " 10                  -1  1         0  torch.nn.modules.upsampling.Upsample         [None, 2, 'nearest']          \n",
            " 11             [-1, 6]  1         0  ultralytics.nn.modules.conv.Concat           [1]                           \n",
            " 12                  -1  1    148224  ultralytics.nn.modules.block.C2f             [384, 128, 1]                 \n",
            " 13                  -1  1         0  torch.nn.modules.upsampling.Upsample         [None, 2, 'nearest']          \n",
            " 14             [-1, 4]  1         0  ultralytics.nn.modules.conv.Concat           [1]                           \n",
            " 15                  -1  1     37248  ultralytics.nn.modules.block.C2f             [192, 64, 1]                  \n",
            " 16                  -1  1     36992  ultralytics.nn.modules.conv.Conv             [64, 64, 3, 2]                \n",
            " 17            [-1, 12]  1         0  ultralytics.nn.modules.conv.Concat           [1]                           \n",
            " 18                  -1  1    123648  ultralytics.nn.modules.block.C2f             [192, 128, 1]                 \n",
            " 19                  -1  1    147712  ultralytics.nn.modules.conv.Conv             [128, 128, 3, 2]              \n",
            " 20             [-1, 9]  1         0  ultralytics.nn.modules.conv.Concat           [1]                           \n",
            " 21                  -1  1    493056  ultralytics.nn.modules.block.C2f             [384, 256, 1]                 \n",
            " 22        [15, 18, 21]  1    751507  ultralytics.nn.modules.head.Detect           [1, [64, 128, 256]]           \n",
            "Model summary: 225 layers, 3,011,043 parameters, 3,011,027 gradients, 8.2 GFLOPs\n",
            "\n",
            "Transferred 319/355 items from pretrained weights\n",
            "\u001b[34m\u001b[1mTensorBoard: \u001b[0mStart with 'tensorboard --logdir runs/detect/train2', view at http://localhost:6006/\n",
            "Freezing layer 'model.22.dfl.conv.weight'\n",
            "\u001b[34m\u001b[1mAMP: \u001b[0mrunning Automatic Mixed Precision (AMP) checks...\n",
            "\u001b[34m\u001b[1mAMP: \u001b[0mchecks passed ✅\n"
          ]
        },
        {
          "output_type": "stream",
          "name": "stderr",
          "text": [
            "\u001b[34m\u001b[1mtrain: \u001b[0mScanning /content/Scence-Text-Detection-4/train/labels.cache... 5324 images, 14 backgrounds, 2198 corrupt: 100%|██████████| 5324/5324 [00:00<?, ?it/s]"
          ]
        },
        {
          "output_type": "stream",
          "name": "stdout",
          "text": [
            "\u001b[34m\u001b[1mtrain: \u001b[0mWARNING ⚠️ /content/Scence-Text-Detection-4/train/images/101_jpg.rf.50a453b3fb08495cc5d2d3fa893ed6e3.jpg: ignoring corrupt image/label: Label class 2 exceeds dataset class count 1. Possible class labels are 0-0\n",
            "\u001b[34m\u001b[1mtrain: \u001b[0mWARNING ⚠️ /content/Scence-Text-Detection-4/train/images/104_jpg.rf.e3ab13e1ae39a18d2eefc099acaf28bf.jpg: ignoring corrupt image/label: Label class 2 exceeds dataset class count 1. Possible class labels are 0-0\n",
            "\u001b[34m\u001b[1mtrain: \u001b[0mWARNING ⚠️ /content/Scence-Text-Detection-4/train/images/109_jpg.rf.ef7a756cb76867e93f6ed64db9a0612a.jpg: ignoring corrupt image/label: Label class 2069 exceeds dataset class count 1. Possible class labels are 0-0\n",
            "\u001b[34m\u001b[1mtrain: \u001b[0mWARNING ⚠️ /content/Scence-Text-Detection-4/train/images/110_jpg.rf.f1cd06b19293b9812150383dd7298362.jpg: ignoring corrupt image/label: Label class 2282 exceeds dataset class count 1. Possible class labels are 0-0\n",
            "\u001b[34m\u001b[1mtrain: \u001b[0mWARNING ⚠️ /content/Scence-Text-Detection-4/train/images/114_jpg.rf.99104b1343bcfc66e8ed93f50d89f8cf.jpg: ignoring corrupt image/label: Label class 2020 exceeds dataset class count 1. Possible class labels are 0-0\n",
            "\u001b[34m\u001b[1mtrain: \u001b[0mWARNING ⚠️ /content/Scence-Text-Detection-4/train/images/115_jpg.rf.64f6df8f6dbb0f44781785c9b700694f.jpg: ignoring corrupt image/label: Label class 66 exceeds dataset class count 1. Possible class labels are 0-0\n",
            "\u001b[34m\u001b[1mtrain: \u001b[0mWARNING ⚠️ /content/Scence-Text-Detection-4/train/images/116_jpg.rf.f8dc4b216e993462f5e0c015c729d5f7.jpg: ignoring corrupt image/label: Label class 2119 exceeds dataset class count 1. Possible class labels are 0-0\n",
            "\u001b[34m\u001b[1mtrain: \u001b[0mWARNING ⚠️ /content/Scence-Text-Detection-4/train/images/117_jpg.rf.a67e39645b03bb6882146e8e0d75edf1.jpg: ignoring corrupt image/label: Label class 2 exceeds dataset class count 1. Possible class labels are 0-0\n",
            "\u001b[34m\u001b[1mtrain: \u001b[0mWARNING ⚠️ /content/Scence-Text-Detection-4/train/images/118_jpg.rf.7ab7bc3fab3899fa22eaa757aa5fe96c.jpg: ignoring corrupt image/label: Label class 3 exceeds dataset class count 1. Possible class labels are 0-0\n",
            "\u001b[34m\u001b[1mtrain: \u001b[0mWARNING ⚠️ /content/Scence-Text-Detection-4/train/images/122_jpg.rf.65787cad6e37abfbcf0dff7203f2b77f.jpg: ignoring corrupt image/label: Label class 2069 exceeds dataset class count 1. Possible class labels are 0-0\n",
            "\u001b[34m\u001b[1mtrain: \u001b[0mWARNING ⚠️ /content/Scence-Text-Detection-4/train/images/123_jpg.rf.c22f09ce2df2128e18a2dcc5f41806c6.jpg: ignoring corrupt image/label: Label class 2069 exceeds dataset class count 1. Possible class labels are 0-0\n",
            "\u001b[34m\u001b[1mtrain: \u001b[0mWARNING ⚠️ /content/Scence-Text-Detection-4/train/images/124_jpg.rf.94c1526ad5a85501b6cb5a6f9f9f1579.jpg: ignoring corrupt image/label: Label class 32 exceeds dataset class count 1. Possible class labels are 0-0\n",
            "\u001b[34m\u001b[1mtrain: \u001b[0mWARNING ⚠️ /content/Scence-Text-Detection-4/train/images/129_jpg.rf.e3e3d914b130529b64552b426b78423d.jpg: ignoring corrupt image/label: Label class 177 exceeds dataset class count 1. Possible class labels are 0-0\n",
            "\u001b[34m\u001b[1mtrain: \u001b[0mWARNING ⚠️ /content/Scence-Text-Detection-4/train/images/12_jpg.rf.53d08e96176d22c47e6968e7ab0716a6.jpg: ignoring corrupt image/label: Label class 2 exceeds dataset class count 1. Possible class labels are 0-0\n",
            "\u001b[34m\u001b[1mtrain: \u001b[0mWARNING ⚠️ /content/Scence-Text-Detection-4/train/images/131_jpg.rf.2bed4690867e21524a30d5dd97b2ebac.jpg: ignoring corrupt image/label: Label class 2282 exceeds dataset class count 1. Possible class labels are 0-0\n",
            "\u001b[34m\u001b[1mtrain: \u001b[0mWARNING ⚠️ /content/Scence-Text-Detection-4/train/images/137_jpg.rf.5667151b68e37caa839e8cdcea15b506.jpg: ignoring corrupt image/label: Label class 4 exceeds dataset class count 1. Possible class labels are 0-0\n",
            "\u001b[34m\u001b[1mtrain: \u001b[0mWARNING ⚠️ /content/Scence-Text-Detection-4/train/images/138_jpg.rf.e7867219bcd970b207bcc0fc40f57619.jpg: ignoring corrupt image/label: Label class 2 exceeds dataset class count 1. Possible class labels are 0-0\n",
            "\u001b[34m\u001b[1mtrain: \u001b[0mWARNING ⚠️ /content/Scence-Text-Detection-4/train/images/141_jpg.rf.7ca3935455b7600af36375092e6706ac.jpg: ignoring corrupt image/label: Label class 284 exceeds dataset class count 1. Possible class labels are 0-0\n",
            "\u001b[34m\u001b[1mtrain: \u001b[0mWARNING ⚠️ /content/Scence-Text-Detection-4/train/images/149_jpg.rf.5d37dfafdebc362dda3a5c81884cf256.jpg: ignoring corrupt image/label: Label class 2 exceeds dataset class count 1. Possible class labels are 0-0\n",
            "\u001b[34m\u001b[1mtrain: \u001b[0mWARNING ⚠️ /content/Scence-Text-Detection-4/train/images/14_jpg.rf.c0ec9c808259f2f89e1894b5276430b4.jpg: ignoring corrupt image/label: Label class 2 exceeds dataset class count 1. Possible class labels are 0-0\n",
            "\u001b[34m\u001b[1mtrain: \u001b[0mWARNING ⚠️ /content/Scence-Text-Detection-4/train/images/150_jpg.rf.e07cfc76b7dca615a2644ab7bbfa9741.jpg: ignoring corrupt image/label: Label class 2 exceeds dataset class count 1. Possible class labels are 0-0\n",
            "\u001b[34m\u001b[1mtrain: \u001b[0mWARNING ⚠️ /content/Scence-Text-Detection-4/train/images/170_jpg.rf.872977d2f072bf4e96aaaf37be0f737c.jpg: ignoring corrupt image/label: Label class 2 exceeds dataset class count 1. Possible class labels are 0-0\n",
            "\u001b[34m\u001b[1mtrain: \u001b[0mWARNING ⚠️ /content/Scence-Text-Detection-4/train/images/171_jpg.rf.4cb71902ed8164eb0deeaa7139c2e7a5.jpg: ignoring corrupt image/label: Label class 459 exceeds dataset class count 1. Possible class labels are 0-0\n",
            "\u001b[34m\u001b[1mtrain: \u001b[0mWARNING ⚠️ /content/Scence-Text-Detection-4/train/images/176_jpg.rf.e6a41e5b435311b927e44b1e37e3bde7.jpg: ignoring corrupt image/label: Label class 3 exceeds dataset class count 1. Possible class labels are 0-0\n",
            "\u001b[34m\u001b[1mtrain: \u001b[0mWARNING ⚠️ /content/Scence-Text-Detection-4/train/images/178_jpg.rf.fe4fcbf6ad73a7e22f1ab757e88de0e8.jpg: ignoring corrupt image/label: Label class 2 exceeds dataset class count 1. Possible class labels are 0-0\n",
            "\u001b[34m\u001b[1mtrain: \u001b[0mWARNING ⚠️ /content/Scence-Text-Detection-4/train/images/182_jpg.rf.3f447eab416aa610da73c8bb0d8fbcd0.jpg: ignoring corrupt image/label: Label class 2 exceeds dataset class count 1. Possible class labels are 0-0\n",
            "\u001b[34m\u001b[1mtrain: \u001b[0mWARNING ⚠️ /content/Scence-Text-Detection-4/train/images/183_jpg.rf.3a5b809c6bb53c4a9f0a2d94c12ea4f6.jpg: ignoring corrupt image/label: Label class 508 exceeds dataset class count 1. Possible class labels are 0-0\n",
            "\u001b[34m\u001b[1mtrain: \u001b[0mWARNING ⚠️ /content/Scence-Text-Detection-4/train/images/185_jpg.rf.a85d15adb7fcdcdf6881519939d2726a.jpg: ignoring corrupt image/label: Label class 280 exceeds dataset class count 1. Possible class labels are 0-0\n",
            "\u001b[34m\u001b[1mtrain: \u001b[0mWARNING ⚠️ /content/Scence-Text-Detection-4/train/images/18_jpg.rf.967b1388ba13c953b1832b9824981d0a.jpg: ignoring corrupt image/label: Label class 2 exceeds dataset class count 1. Possible class labels are 0-0\n",
            "\u001b[34m\u001b[1mtrain: \u001b[0mWARNING ⚠️ /content/Scence-Text-Detection-4/train/images/190_jpg.rf.de3558a092090b9000ef484ff3f03daf.jpg: ignoring corrupt image/label: Label class 278 exceeds dataset class count 1. Possible class labels are 0-0\n",
            "\u001b[34m\u001b[1mtrain: \u001b[0mWARNING ⚠️ /content/Scence-Text-Detection-4/train/images/195_jpg.rf.a17003b3a03e694755c7f350e3490ffa.jpg: ignoring corrupt image/label: Label class 2 exceeds dataset class count 1. Possible class labels are 0-0\n",
            "\u001b[34m\u001b[1mtrain: \u001b[0mWARNING ⚠️ /content/Scence-Text-Detection-4/train/images/197_jpg.rf.07f0fd9d45eb862ced99f04ac8253d80.jpg: ignoring corrupt image/label: Label class 2 exceeds dataset class count 1. Possible class labels are 0-0\n",
            "\u001b[34m\u001b[1mtrain: \u001b[0mWARNING ⚠️ /content/Scence-Text-Detection-4/train/images/2024-10-31-10-30-37_jpg.rf.b3d0ff5d6a3570dad9f0b70580ea222a.jpg: ignoring corrupt image/label: Label class 2283 exceeds dataset class count 1. Possible class labels are 0-0\n",
            "\u001b[34m\u001b[1mtrain: \u001b[0mWARNING ⚠️ /content/Scence-Text-Detection-4/train/images/2024-10-31-10-32-41_jpg.rf.64d51174ab2ab8b4e61677a671765f52.jpg: ignoring corrupt image/label: Label class 2283 exceeds dataset class count 1. Possible class labels are 0-0\n",
            "\u001b[34m\u001b[1mtrain: \u001b[0mWARNING ⚠️ /content/Scence-Text-Detection-4/train/images/2024-10-31-10-32-51_jpg.rf.f9664f64917bb406e0be448ccfbe9011.jpg: ignoring corrupt image/label: Label class 2283 exceeds dataset class count 1. Possible class labels are 0-0\n",
            "\u001b[34m\u001b[1mtrain: \u001b[0mWARNING ⚠️ /content/Scence-Text-Detection-4/train/images/2024-10-31-10-32-56_jpg.rf.e33716c245172d93cf2426f606a7330a.jpg: ignoring corrupt image/label: Label class 2283 exceeds dataset class count 1. Possible class labels are 0-0\n",
            "\u001b[34m\u001b[1mtrain: \u001b[0mWARNING ⚠️ /content/Scence-Text-Detection-4/train/images/2024-10-31-10-33-26_jpg.rf.29cbd4473252bc7ea45ceb27e5f73f2a.jpg: ignoring corrupt image/label: Label class 2283 exceeds dataset class count 1. Possible class labels are 0-0\n",
            "\u001b[34m\u001b[1mtrain: \u001b[0mWARNING ⚠️ /content/Scence-Text-Detection-4/train/images/2024-10-31-10-33-30_jpg.rf.172f0a8dc8e84f7a6238047b7495c92d.jpg: ignoring corrupt image/label: Label class 2283 exceeds dataset class count 1. Possible class labels are 0-0\n",
            "\u001b[34m\u001b[1mtrain: \u001b[0mWARNING ⚠️ /content/Scence-Text-Detection-4/train/images/20241022_193732_jpg.rf.1226d53c8c3cff6f07c9dfd13a228473.jpg: ignoring corrupt image/label: Label class 1898 exceeds dataset class count 1. Possible class labels are 0-0\n",
            "\u001b[34m\u001b[1mtrain: \u001b[0mWARNING ⚠️ /content/Scence-Text-Detection-4/train/images/20241023_151117_jpg.rf.6c96f657a83c60b2a73d415f761c32d8.jpg: ignoring corrupt image/label: Label class 1221 exceeds dataset class count 1. Possible class labels are 0-0\n",
            "\u001b[34m\u001b[1mtrain: \u001b[0mWARNING ⚠️ /content/Scence-Text-Detection-4/train/images/20241023_151450_jpg.rf.c9f423d3c0e02e9405882f5603e53b99.jpg: ignoring corrupt image/label: Label class 2108 exceeds dataset class count 1. Possible class labels are 0-0\n",
            "\u001b[34m\u001b[1mtrain: \u001b[0mWARNING ⚠️ /content/Scence-Text-Detection-4/train/images/20241023_152041_jpg.rf.cd2674972bce74d38f49d4a7820e510d.jpg: ignoring corrupt image/label: Label class 1237 exceeds dataset class count 1. Possible class labels are 0-0\n",
            "\u001b[34m\u001b[1mtrain: \u001b[0mWARNING ⚠️ /content/Scence-Text-Detection-4/train/images/20241023_154407_jpg.rf.f8f2abc69e7cff35f8fdbcd3fd2f5f50.jpg: ignoring corrupt image/label: Label class 4 exceeds dataset class count 1. Possible class labels are 0-0\n",
            "\u001b[34m\u001b[1mtrain: \u001b[0mWARNING ⚠️ /content/Scence-Text-Detection-4/train/images/20241023_154626_jpg.rf.127c9f672ad1ba6e913bf5325bbebf06.jpg: ignoring corrupt image/label: Label class 1879 exceeds dataset class count 1. Possible class labels are 0-0\n",
            "\u001b[34m\u001b[1mtrain: \u001b[0mWARNING ⚠️ /content/Scence-Text-Detection-4/train/images/20241023_154826_jpg.rf.4e76b6955a686bea4f168a481cdbf357.jpg: ignoring corrupt image/label: Label class 2102 exceeds dataset class count 1. Possible class labels are 0-0\n",
            "\u001b[34m\u001b[1mtrain: \u001b[0mWARNING ⚠️ /content/Scence-Text-Detection-4/train/images/20241023_155634_jpg.rf.b8995ac034bd1d763c63bc8c1d83cad2.jpg: ignoring corrupt image/label: Label class 3 exceeds dataset class count 1. Possible class labels are 0-0\n",
            "\u001b[34m\u001b[1mtrain: \u001b[0mWARNING ⚠️ /content/Scence-Text-Detection-4/train/images/20241023_160415_jpg.rf.c8f749ba5ef97861c814a860ca13c8dc.jpg: ignoring corrupt image/label: Label class 2 exceeds dataset class count 1. Possible class labels are 0-0\n",
            "\u001b[34m\u001b[1mtrain: \u001b[0mWARNING ⚠️ /content/Scence-Text-Detection-4/train/images/20241023_160435_jpg.rf.610f85692f4224a6e75bcd9ec30d14ab.jpg: ignoring corrupt image/label: Label class 2066 exceeds dataset class count 1. Possible class labels are 0-0\n",
            "\u001b[34m\u001b[1mtrain: \u001b[0mWARNING ⚠️ /content/Scence-Text-Detection-4/train/images/20241023_160605_jpg.rf.87e1581d2abc33089138780b8be12350.jpg: ignoring corrupt image/label: Label class 1851 exceeds dataset class count 1. Possible class labels are 0-0\n",
            "\u001b[34m\u001b[1mtrain: \u001b[0mWARNING ⚠️ /content/Scence-Text-Detection-4/train/images/20241023_162642_jpg.rf.15ea6eebd922a867c3b4b56d919dfe49.jpg: ignoring corrupt image/label: Label class 1871 exceeds dataset class count 1. Possible class labels are 0-0\n",
            "\u001b[34m\u001b[1mtrain: \u001b[0mWARNING ⚠️ /content/Scence-Text-Detection-4/train/images/20241023_195228_jpg.rf.982679ad51f319fa08a9ae3655205edd.jpg: ignoring corrupt image/label: Label class 2 exceeds dataset class count 1. Possible class labels are 0-0\n",
            "\u001b[34m\u001b[1mtrain: \u001b[0mWARNING ⚠️ /content/Scence-Text-Detection-4/train/images/20241023_195235_jpg.rf.5ad8460b84bd7c76e3f4536b8fc9234c.jpg: ignoring corrupt image/label: Label class 2 exceeds dataset class count 1. Possible class labels are 0-0\n",
            "\u001b[34m\u001b[1mtrain: \u001b[0mWARNING ⚠️ /content/Scence-Text-Detection-4/train/images/20241023_195243_jpg.rf.7357b92b5cfedbe66b5e3e8d970970b2.jpg: ignoring corrupt image/label: Label class 3 exceeds dataset class count 1. Possible class labels are 0-0\n",
            "\u001b[34m\u001b[1mtrain: \u001b[0mWARNING ⚠️ /content/Scence-Text-Detection-4/train/images/20241023_195306_jpg.rf.7388182e5a87243f8aaa561bd4fe3e72.jpg: ignoring corrupt image/label: Label class 2 exceeds dataset class count 1. Possible class labels are 0-0\n",
            "\u001b[34m\u001b[1mtrain: \u001b[0mWARNING ⚠️ /content/Scence-Text-Detection-4/train/images/20241023_200013_jpg.rf.77a9b25675834763f96c1af20fc55205.jpg: ignoring corrupt image/label: Label class 2 exceeds dataset class count 1. Possible class labels are 0-0\n",
            "\u001b[34m\u001b[1mtrain: \u001b[0mWARNING ⚠️ /content/Scence-Text-Detection-4/train/images/20241023_200040_jpg.rf.a744141cff8b5089bf58fda61964418b.jpg: ignoring corrupt image/label: Label class 1568 exceeds dataset class count 1. Possible class labels are 0-0\n",
            "\u001b[34m\u001b[1mtrain: \u001b[0mWARNING ⚠️ /content/Scence-Text-Detection-4/train/images/20241023_200607_jpg.rf.284eb2d18e5df8fe352473cd5f0a0893.jpg: ignoring corrupt image/label: Label class 1256 exceeds dataset class count 1. Possible class labels are 0-0\n",
            "\u001b[34m\u001b[1mtrain: \u001b[0mWARNING ⚠️ /content/Scence-Text-Detection-4/train/images/20241023_200616_jpg.rf.025dee3386d31ccd676c4aa1729d1313.jpg: ignoring corrupt image/label: Label class 2160 exceeds dataset class count 1. Possible class labels are 0-0\n",
            "\u001b[34m\u001b[1mtrain: \u001b[0mWARNING ⚠️ /content/Scence-Text-Detection-4/train/images/20241023_201001_jpg.rf.f3e96e86e858f26248253d7f189bfc94.jpg: ignoring corrupt image/label: Label class 1796 exceeds dataset class count 1. Possible class labels are 0-0\n",
            "\u001b[34m\u001b[1mtrain: \u001b[0mWARNING ⚠️ /content/Scence-Text-Detection-4/train/images/20241023_201245_jpg.rf.71a8beba1b8f9e52493cf37e72bdb7b3.jpg: ignoring corrupt image/label: Label class 496 exceeds dataset class count 1. Possible class labels are 0-0\n",
            "\u001b[34m\u001b[1mtrain: \u001b[0mWARNING ⚠️ /content/Scence-Text-Detection-4/train/images/20241023_201307_jpg.rf.5b066213d225d0e3d6c52ea2437951e6.jpg: ignoring corrupt image/label: Label class 2063 exceeds dataset class count 1. Possible class labels are 0-0\n",
            "\u001b[34m\u001b[1mtrain: \u001b[0mWARNING ⚠️ /content/Scence-Text-Detection-4/train/images/20241023_201321_jpg.rf.14b44fce8070c8859dcc4afded55bb29.jpg: ignoring corrupt image/label: Label class 2063 exceeds dataset class count 1. Possible class labels are 0-0\n",
            "\u001b[34m\u001b[1mtrain: \u001b[0mWARNING ⚠️ /content/Scence-Text-Detection-4/train/images/20241023_201344_jpg.rf.71fc8232201aeb8528a0d23939dd6f4e.jpg: ignoring corrupt image/label: Label class 2018 exceeds dataset class count 1. Possible class labels are 0-0\n",
            "\u001b[34m\u001b[1mtrain: \u001b[0mWARNING ⚠️ /content/Scence-Text-Detection-4/train/images/20241023_201347_jpg.rf.9b333c662e1321eccb3ebad8b29dd829.jpg: ignoring corrupt image/label: Label class 2282 exceeds dataset class count 1. Possible class labels are 0-0\n",
            "\u001b[34m\u001b[1mtrain: \u001b[0mWARNING ⚠️ /content/Scence-Text-Detection-4/train/images/20241023_201351_jpg.rf.289ce01f3326855380363b9bfec6a911.jpg: ignoring corrupt image/label: Label class 2031 exceeds dataset class count 1. Possible class labels are 0-0\n",
            "\u001b[34m\u001b[1mtrain: \u001b[0mWARNING ⚠️ /content/Scence-Text-Detection-4/train/images/20241023_201429_jpg.rf.cf4840e87850cb564414dfe4af5af1ec.jpg: ignoring corrupt image/label: Label class 1527 exceeds dataset class count 1. Possible class labels are 0-0\n",
            "\u001b[34m\u001b[1mtrain: \u001b[0mWARNING ⚠️ /content/Scence-Text-Detection-4/train/images/20241023_201454_jpg.rf.6fc141c59535f590f399b40c5b4b9f7d.jpg: ignoring corrupt image/label: Label class 1263 exceeds dataset class count 1. Possible class labels are 0-0\n",
            "\u001b[34m\u001b[1mtrain: \u001b[0mWARNING ⚠️ /content/Scence-Text-Detection-4/train/images/20241023_201629_jpg.rf.d8aa82e04f9dc2c39b99530d13477bdf.jpg: ignoring corrupt image/label: Label class 2045 exceeds dataset class count 1. Possible class labels are 0-0\n",
            "\u001b[34m\u001b[1mtrain: \u001b[0mWARNING ⚠️ /content/Scence-Text-Detection-4/train/images/20241023_201757_jpg.rf.b771196ad83f8b0d744b26c72504caa1.jpg: ignoring corrupt image/label: Label class 1250 exceeds dataset class count 1. Possible class labels are 0-0\n",
            "\u001b[34m\u001b[1mtrain: \u001b[0mWARNING ⚠️ /content/Scence-Text-Detection-4/train/images/20241023_201935_jpg.rf.de4e5402e982a6340afbe4312cf138be.jpg: ignoring corrupt image/label: Label class 1461 exceeds dataset class count 1. Possible class labels are 0-0\n",
            "\u001b[34m\u001b[1mtrain: \u001b[0mWARNING ⚠️ /content/Scence-Text-Detection-4/train/images/20241023_201956_jpg.rf.bd346f26444602ad422d348d84565535.jpg: ignoring corrupt image/label: Label class 1057 exceeds dataset class count 1. Possible class labels are 0-0\n",
            "\u001b[34m\u001b[1mtrain: \u001b[0mWARNING ⚠️ /content/Scence-Text-Detection-4/train/images/20241023_202002_jpg.rf.f369d6d4ce42d1f7a38e4cc6d74a4ea6.jpg: ignoring corrupt image/label: Label class 1092 exceeds dataset class count 1. Possible class labels are 0-0\n",
            "\u001b[34m\u001b[1mtrain: \u001b[0mWARNING ⚠️ /content/Scence-Text-Detection-4/train/images/20241023_202451_jpg.rf.f8128bca11c63bf918806d47bdc0e611.jpg: ignoring corrupt image/label: Label class 1940 exceeds dataset class count 1. Possible class labels are 0-0\n",
            "\u001b[34m\u001b[1mtrain: \u001b[0mWARNING ⚠️ /content/Scence-Text-Detection-4/train/images/20241023_202454_jpg.rf.de2490eb3c4c2eca5a42156cbe0cc0a2.jpg: ignoring corrupt image/label: Label class 1940 exceeds dataset class count 1. Possible class labels are 0-0\n",
            "\u001b[34m\u001b[1mtrain: \u001b[0mWARNING ⚠️ /content/Scence-Text-Detection-4/train/images/20241023_202746_jpg.rf.a2ccd532020b440dc2dd05f3668f67e3.jpg: ignoring corrupt image/label: Label class 2 exceeds dataset class count 1. Possible class labels are 0-0\n",
            "\u001b[34m\u001b[1mtrain: \u001b[0mWARNING ⚠️ /content/Scence-Text-Detection-4/train/images/20241023_203400_jpg.rf.04cd0bedfa53d8a4feed01fa5e03b163.jpg: ignoring corrupt image/label: Label class 2182 exceeds dataset class count 1. Possible class labels are 0-0\n",
            "\u001b[34m\u001b[1mtrain: \u001b[0mWARNING ⚠️ /content/Scence-Text-Detection-4/train/images/20241023_203408_jpg.rf.16a644fa88b22ad93e0d51f598120929.jpg: ignoring corrupt image/label: Label class 2121 exceeds dataset class count 1. Possible class labels are 0-0\n",
            "\u001b[34m\u001b[1mtrain: \u001b[0mWARNING ⚠️ /content/Scence-Text-Detection-4/train/images/20241023_203432_jpg.rf.01d549abf711f46480a008887896f424.jpg: ignoring corrupt image/label: Label class 2172 exceeds dataset class count 1. Possible class labels are 0-0\n",
            "\u001b[34m\u001b[1mtrain: \u001b[0mWARNING ⚠️ /content/Scence-Text-Detection-4/train/images/20241023_203439_jpg.rf.738d5e70e5207c5fe7155304b141f17a.jpg: ignoring corrupt image/label: Label class 2201 exceeds dataset class count 1. Possible class labels are 0-0\n",
            "\u001b[34m\u001b[1mtrain: \u001b[0mWARNING ⚠️ /content/Scence-Text-Detection-4/train/images/20241023_203445_jpg.rf.bbdfcded8b0001748e264cfcf8b90961.jpg: ignoring corrupt image/label: Label class 2220 exceeds dataset class count 1. Possible class labels are 0-0\n",
            "\u001b[34m\u001b[1mtrain: \u001b[0mWARNING ⚠️ /content/Scence-Text-Detection-4/train/images/20241023_203450_jpg.rf.1beba84de643a25635ce55b311ffa80b.jpg: ignoring corrupt image/label: Label class 2226 exceeds dataset class count 1. Possible class labels are 0-0\n",
            "\u001b[34m\u001b[1mtrain: \u001b[0mWARNING ⚠️ /content/Scence-Text-Detection-4/train/images/20241023_203512_jpg.rf.7b542e2ea0e73327ee7b26ea8788ee11.jpg: ignoring corrupt image/label: Label class 2224 exceeds dataset class count 1. Possible class labels are 0-0\n",
            "\u001b[34m\u001b[1mtrain: \u001b[0mWARNING ⚠️ /content/Scence-Text-Detection-4/train/images/20241023_203519_jpg.rf.de4afaf2f60022066205a18079c7a316.jpg: ignoring corrupt image/label: Label class 2219 exceeds dataset class count 1. Possible class labels are 0-0\n",
            "\u001b[34m\u001b[1mtrain: \u001b[0mWARNING ⚠️ /content/Scence-Text-Detection-4/train/images/20241023_203524_jpg.rf.cbff3674c4ecd86d780c8ba22635de46.jpg: ignoring corrupt image/label: Label class 1923 exceeds dataset class count 1. Possible class labels are 0-0\n",
            "\u001b[34m\u001b[1mtrain: \u001b[0mWARNING ⚠️ /content/Scence-Text-Detection-4/train/images/20241023_203529_jpg.rf.3e02b370bcdf140e90fd61cf9fe396fd.jpg: ignoring corrupt image/label: Label class 2145 exceeds dataset class count 1. Possible class labels are 0-0\n",
            "\u001b[34m\u001b[1mtrain: \u001b[0mWARNING ⚠️ /content/Scence-Text-Detection-4/train/images/20241023_203548_jpg.rf.73c870592b5bc82a330ad32c6ff770bc.jpg: ignoring corrupt image/label: Label class 1923 exceeds dataset class count 1. Possible class labels are 0-0\n",
            "\u001b[34m\u001b[1mtrain: \u001b[0mWARNING ⚠️ /content/Scence-Text-Detection-4/train/images/20241023_203631_jpg.rf.c2af92ed399c21e5d26278539592bc28.jpg: ignoring corrupt image/label: Label class 2 exceeds dataset class count 1. Possible class labels are 0-0\n",
            "\u001b[34m\u001b[1mtrain: \u001b[0mWARNING ⚠️ /content/Scence-Text-Detection-4/train/images/20241023_203642_jpg.rf.71f8297c52c1ecd945824325a540d80f.jpg: ignoring corrupt image/label: Label class 2 exceeds dataset class count 1. Possible class labels are 0-0\n",
            "\u001b[34m\u001b[1mtrain: \u001b[0mWARNING ⚠️ /content/Scence-Text-Detection-4/train/images/20241023_203656_jpg.rf.f60c8e99f9582aef635ef4d8a352bbdc.jpg: ignoring corrupt image/label: Label class 2130 exceeds dataset class count 1. Possible class labels are 0-0\n",
            "\u001b[34m\u001b[1mtrain: \u001b[0mWARNING ⚠️ /content/Scence-Text-Detection-4/train/images/20241023_203657_jpg.rf.c2b3a7afe526a5d6cd4a5ab5c566e809.jpg: ignoring corrupt image/label: Label class 2130 exceeds dataset class count 1. Possible class labels are 0-0\n",
            "\u001b[34m\u001b[1mtrain: \u001b[0mWARNING ⚠️ /content/Scence-Text-Detection-4/train/images/20241023_203717_jpg.rf.e97bc647943a6fb5e3b1cc117f31929f.jpg: ignoring corrupt image/label: Label class 1112 exceeds dataset class count 1. Possible class labels are 0-0\n",
            "\u001b[34m\u001b[1mtrain: \u001b[0mWARNING ⚠️ /content/Scence-Text-Detection-4/train/images/20241023_203725_jpg.rf.27a10f0aee02c5ac1f4076cebcf8ea21.jpg: ignoring corrupt image/label: Label class 1748 exceeds dataset class count 1. Possible class labels are 0-0\n",
            "\u001b[34m\u001b[1mtrain: \u001b[0mWARNING ⚠️ /content/Scence-Text-Detection-4/train/images/20241023_203757_jpg.rf.c572e0e950fb1908557377acc507e0bc.jpg: ignoring corrupt image/label: Label class 1810 exceeds dataset class count 1. Possible class labels are 0-0\n",
            "\u001b[34m\u001b[1mtrain: \u001b[0mWARNING ⚠️ /content/Scence-Text-Detection-4/train/images/20241023_203834_jpg.rf.b30f017465231b15c26ed3e4fbf88de3.jpg: ignoring corrupt image/label: Label class 2120 exceeds dataset class count 1. Possible class labels are 0-0\n",
            "\u001b[34m\u001b[1mtrain: \u001b[0mWARNING ⚠️ /content/Scence-Text-Detection-4/train/images/20241023_203852_jpg.rf.42508fbae369769d0723b4accf547815.jpg: ignoring corrupt image/label: Label class 2 exceeds dataset class count 1. Possible class labels are 0-0\n",
            "\u001b[34m\u001b[1mtrain: \u001b[0mWARNING ⚠️ /content/Scence-Text-Detection-4/train/images/20241023_203941_jpg.rf.86676795efc2326f1a4b5fed76ceac23.jpg: ignoring corrupt image/label: Label class 1945 exceeds dataset class count 1. Possible class labels are 0-0\n",
            "\u001b[34m\u001b[1mtrain: \u001b[0mWARNING ⚠️ /content/Scence-Text-Detection-4/train/images/20241023_203957_jpg.rf.74067a394f83046f0371a898ab705afe.jpg: ignoring corrupt image/label: Label class 2234 exceeds dataset class count 1. Possible class labels are 0-0\n",
            "\u001b[34m\u001b[1mtrain: \u001b[0mWARNING ⚠️ /content/Scence-Text-Detection-4/train/images/20241023_204037_jpg.rf.6ff31f42fcbece880962e5b3f5cd6dce.jpg: ignoring corrupt image/label: Label class 2242 exceeds dataset class count 1. Possible class labels are 0-0\n",
            "\u001b[34m\u001b[1mtrain: \u001b[0mWARNING ⚠️ /content/Scence-Text-Detection-4/train/images/20241023_204059_jpg.rf.8e0d88aa64a3693ba348a4a453278d4f.jpg: ignoring corrupt image/label: Label class 2058 exceeds dataset class count 1. Possible class labels are 0-0\n",
            "\u001b[34m\u001b[1mtrain: \u001b[0mWARNING ⚠️ /content/Scence-Text-Detection-4/train/images/20241023_204149_jpg.rf.4d82ed94986b777321c8ea851f06ab28.jpg: ignoring corrupt image/label: Label class 2133 exceeds dataset class count 1. Possible class labels are 0-0\n",
            "\u001b[34m\u001b[1mtrain: \u001b[0mWARNING ⚠️ /content/Scence-Text-Detection-4/train/images/20241023_204235_jpg.rf.7f58767268ae74f9c32a467267660a0f.jpg: ignoring corrupt image/label: Label class 2165 exceeds dataset class count 1. Possible class labels are 0-0\n",
            "\u001b[34m\u001b[1mtrain: \u001b[0mWARNING ⚠️ /content/Scence-Text-Detection-4/train/images/20241023_204245_jpg.rf.1b48e76f7f8af763333da0271b46ca50.jpg: ignoring corrupt image/label: Label class 2038 exceeds dataset class count 1. Possible class labels are 0-0\n",
            "\u001b[34m\u001b[1mtrain: \u001b[0mWARNING ⚠️ /content/Scence-Text-Detection-4/train/images/20241023_204314_jpg.rf.15eefda586b128df69d48d38f4f5f149.jpg: ignoring corrupt image/label: Label class 1962 exceeds dataset class count 1. Possible class labels are 0-0\n",
            "\u001b[34m\u001b[1mtrain: \u001b[0mWARNING ⚠️ /content/Scence-Text-Detection-4/train/images/20241023_204415_jpg.rf.095a74dc5f5f48c8cfc41a5e399858d5.jpg: ignoring corrupt image/label: Label class 1767 exceeds dataset class count 1. Possible class labels are 0-0\n",
            "\u001b[34m\u001b[1mtrain: \u001b[0mWARNING ⚠️ /content/Scence-Text-Detection-4/train/images/20241023_204432_jpg.rf.07b243262b1f6ea564443380c68cb19a.jpg: ignoring corrupt image/label: Label class 2221 exceeds dataset class count 1. Possible class labels are 0-0\n",
            "\u001b[34m\u001b[1mtrain: \u001b[0mWARNING ⚠️ /content/Scence-Text-Detection-4/train/images/20241023_204446_jpg.rf.6a344d0ac7691a25aecf5a03fc432ad5.jpg: ignoring corrupt image/label: Label class 1660 exceeds dataset class count 1. Possible class labels are 0-0\n",
            "\u001b[34m\u001b[1mtrain: \u001b[0mWARNING ⚠️ /content/Scence-Text-Detection-4/train/images/20241023_204533_jpg.rf.9491b03abe0ba8bc5b503d7b0e3d0d36.jpg: ignoring corrupt image/label: Label class 1868 exceeds dataset class count 1. Possible class labels are 0-0\n",
            "\u001b[34m\u001b[1mtrain: \u001b[0mWARNING ⚠️ /content/Scence-Text-Detection-4/train/images/20241023_204614_jpg.rf.5ecb4670f0bc8d1c7914e999c6bac0ea.jpg: ignoring corrupt image/label: Label class 2124 exceeds dataset class count 1. Possible class labels are 0-0\n",
            "\u001b[34m\u001b[1mtrain: \u001b[0mWARNING ⚠️ /content/Scence-Text-Detection-4/train/images/20241023_204625_jpg.rf.052dbddb2c96a0a7b094253295cf9b27.jpg: ignoring corrupt image/label: Label class 1556 exceeds dataset class count 1. Possible class labels are 0-0\n",
            "\u001b[34m\u001b[1mtrain: \u001b[0mWARNING ⚠️ /content/Scence-Text-Detection-4/train/images/20241023_204634_jpg.rf.4e96a024dd6c268550a53710e98f734a.jpg: ignoring corrupt image/label: Label class 2217 exceeds dataset class count 1. Possible class labels are 0-0\n",
            "\u001b[34m\u001b[1mtrain: \u001b[0mWARNING ⚠️ /content/Scence-Text-Detection-4/train/images/20241023_205115_jpg.rf.7f781fd81559bcb7217261d31700154e.jpg: ignoring corrupt image/label: Label class 2049 exceeds dataset class count 1. Possible class labels are 0-0\n",
            "\u001b[34m\u001b[1mtrain: \u001b[0mWARNING ⚠️ /content/Scence-Text-Detection-4/train/images/20241023_205120_jpg.rf.237855a6877842642e1fd3d04d2ed9ad.jpg: ignoring corrupt image/label: Label class 2 exceeds dataset class count 1. Possible class labels are 0-0\n",
            "\u001b[34m\u001b[1mtrain: \u001b[0mWARNING ⚠️ /content/Scence-Text-Detection-4/train/images/20241023_205309_jpg.rf.d60059274972f43fe1ff69fc51c039ee.jpg: ignoring corrupt image/label: Label class 2135 exceeds dataset class count 1. Possible class labels are 0-0\n",
            "\u001b[34m\u001b[1mtrain: \u001b[0mWARNING ⚠️ /content/Scence-Text-Detection-4/train/images/20241023_210006_jpg.rf.7e4aca96cd32471db3d6163e74291f29.jpg: ignoring corrupt image/label: Label class 1660 exceeds dataset class count 1. Possible class labels are 0-0\n",
            "\u001b[34m\u001b[1mtrain: \u001b[0mWARNING ⚠️ /content/Scence-Text-Detection-4/train/images/20241023_210208_jpg.rf.230cc1893d6729df1fb83f900e569b3b.jpg: ignoring corrupt image/label: Label class 2234 exceeds dataset class count 1. Possible class labels are 0-0\n",
            "\u001b[34m\u001b[1mtrain: \u001b[0mWARNING ⚠️ /content/Scence-Text-Detection-4/train/images/20241023_210218_jpg.rf.7a8e7371a78c2892904a8e51756eba4b.jpg: ignoring corrupt image/label: Label class 2234 exceeds dataset class count 1. Possible class labels are 0-0\n",
            "\u001b[34m\u001b[1mtrain: \u001b[0mWARNING ⚠️ /content/Scence-Text-Detection-4/train/images/20241023_210423_jpg.rf.419890987a8f945489b8ceb793a1b620.jpg: ignoring corrupt image/label: Label class 2222 exceeds dataset class count 1. Possible class labels are 0-0\n",
            "\u001b[34m\u001b[1mtrain: \u001b[0mWARNING ⚠️ /content/Scence-Text-Detection-4/train/images/20241023_211527_jpg.rf.3fa290446a399967d758cafa842dc90a.jpg: ignoring corrupt image/label: Label class 1548 exceeds dataset class count 1. Possible class labels are 0-0\n",
            "\u001b[34m\u001b[1mtrain: \u001b[0mWARNING ⚠️ /content/Scence-Text-Detection-4/train/images/20241023_213859_jpg.rf.f4eb957ab35cba47442cde31a624b2ae.jpg: ignoring corrupt image/label: Label class 2282 exceeds dataset class count 1. Possible class labels are 0-0\n",
            "\u001b[34m\u001b[1mtrain: \u001b[0mWARNING ⚠️ /content/Scence-Text-Detection-4/train/images/20241023_213945_jpg.rf.13ec88010934f2b056ee3385fca85787.jpg: ignoring corrupt image/label: Label class 366 exceeds dataset class count 1. Possible class labels are 0-0\n",
            "\u001b[34m\u001b[1mtrain: \u001b[0mWARNING ⚠️ /content/Scence-Text-Detection-4/train/images/20241023_214049_jpg.rf.1a373854a56bfc6f294b2785a6acfca7.jpg: ignoring corrupt image/label: Label class 1842 exceeds dataset class count 1. Possible class labels are 0-0\n",
            "\u001b[34m\u001b[1mtrain: \u001b[0mWARNING ⚠️ /content/Scence-Text-Detection-4/train/images/20241023_214128_jpg.rf.510542c0bbbaf75a26a494d7beba058a.jpg: ignoring corrupt image/label: Label class 2132 exceeds dataset class count 1. Possible class labels are 0-0\n",
            "\u001b[34m\u001b[1mtrain: \u001b[0mWARNING ⚠️ /content/Scence-Text-Detection-4/train/images/20241023_214150_jpg.rf.bd92b1b4e6a425ab47ccc3a6b8859752.jpg: ignoring corrupt image/label: Label class 398 exceeds dataset class count 1. Possible class labels are 0-0\n",
            "\u001b[34m\u001b[1mtrain: \u001b[0mWARNING ⚠️ /content/Scence-Text-Detection-4/train/images/20241023_214253_jpg.rf.52d1e475a0de3d75e191822a2743b1ff.jpg: ignoring corrupt image/label: Label class 2 exceeds dataset class count 1. Possible class labels are 0-0\n",
            "\u001b[34m\u001b[1mtrain: \u001b[0mWARNING ⚠️ /content/Scence-Text-Detection-4/train/images/20241024_124847_jpg.rf.5ed8aaf0f8099194ac9f374c7c6a633b.jpg: ignoring corrupt image/label: Label class 2 exceeds dataset class count 1. Possible class labels are 0-0\n",
            "\u001b[34m\u001b[1mtrain: \u001b[0mWARNING ⚠️ /content/Scence-Text-Detection-4/train/images/20241024_163018_jpg.rf.d05820476d5f1f90737d49b42e368b2d.jpg: ignoring corrupt image/label: Label class 2 exceeds dataset class count 1. Possible class labels are 0-0\n",
            "\u001b[34m\u001b[1mtrain: \u001b[0mWARNING ⚠️ /content/Scence-Text-Detection-4/train/images/20241024_163058_jpg.rf.d02f1df28c3ed6bb4b45803d1f4402c2.jpg: ignoring corrupt image/label: Label class 853 exceeds dataset class count 1. Possible class labels are 0-0\n",
            "\u001b[34m\u001b[1mtrain: \u001b[0mWARNING ⚠️ /content/Scence-Text-Detection-4/train/images/20241024_163218_jpg.rf.d0ade2f93578015632881e775bf7240e.jpg: ignoring corrupt image/label: Label class 1101 exceeds dataset class count 1. Possible class labels are 0-0\n",
            "\u001b[34m\u001b[1mtrain: \u001b[0mWARNING ⚠️ /content/Scence-Text-Detection-4/train/images/20241024_163226_jpg.rf.32d96a6777518375780637ccfc828c0b.jpg: ignoring corrupt image/label: Label class 1464 exceeds dataset class count 1. Possible class labels are 0-0\n",
            "\u001b[34m\u001b[1mtrain: \u001b[0mWARNING ⚠️ /content/Scence-Text-Detection-4/train/images/20241024_163232_jpg.rf.daab6d33a48bb23f6b3fa8be33df6ff3.jpg: ignoring corrupt image/label: Label class 1595 exceeds dataset class count 1. Possible class labels are 0-0\n",
            "\u001b[34m\u001b[1mtrain: \u001b[0mWARNING ⚠️ /content/Scence-Text-Detection-4/train/images/20241024_163327_jpg.rf.82afa396efd45a942ab50f9ee2f944af.jpg: ignoring corrupt image/label: Label class 2 exceeds dataset class count 1. Possible class labels are 0-0\n",
            "\u001b[34m\u001b[1mtrain: \u001b[0mWARNING ⚠️ /content/Scence-Text-Detection-4/train/images/20241024_163416_jpg.rf.095587ce352755c1a0e0ed273980c283.jpg: ignoring corrupt image/label: Label class 1836 exceeds dataset class count 1. Possible class labels are 0-0\n",
            "\u001b[34m\u001b[1mtrain: \u001b[0mWARNING ⚠️ /content/Scence-Text-Detection-4/train/images/20241024_163450_jpg.rf.75f6158ec289f7a2f837ebb4ce5d7cb9.jpg: ignoring corrupt image/label: Label class 1418 exceeds dataset class count 1. Possible class labels are 0-0\n",
            "\u001b[34m\u001b[1mtrain: \u001b[0mWARNING ⚠️ /content/Scence-Text-Detection-4/train/images/20241024_164737_jpg.rf.325b8fde81e5f791b47054f03c32dee0.jpg: ignoring corrupt image/label: Label class 2019 exceeds dataset class count 1. Possible class labels are 0-0\n",
            "\u001b[34m\u001b[1mtrain: \u001b[0mWARNING ⚠️ /content/Scence-Text-Detection-4/train/images/20241024_164811_jpg.rf.18eb850c9ad658943c3482f7572bfbf2.jpg: ignoring corrupt image/label: Label class 1154 exceeds dataset class count 1. Possible class labels are 0-0\n",
            "\u001b[34m\u001b[1mtrain: \u001b[0mWARNING ⚠️ /content/Scence-Text-Detection-4/train/images/20241024_164824_jpg.rf.56058e917bd4b49991d9e4f82bfb2e58.jpg: ignoring corrupt image/label: Label class 895 exceeds dataset class count 1. Possible class labels are 0-0\n",
            "\u001b[34m\u001b[1mtrain: \u001b[0mWARNING ⚠️ /content/Scence-Text-Detection-4/train/images/20241024_164828_jpg.rf.bda18edb2f3f88435d49f1ab0679244e.jpg: ignoring corrupt image/label: Label class 894 exceeds dataset class count 1. Possible class labels are 0-0\n",
            "\u001b[34m\u001b[1mtrain: \u001b[0mWARNING ⚠️ /content/Scence-Text-Detection-4/train/images/20241024_164939_jpg.rf.2266a568bdb7c4959547f9b7e0c0cd73.jpg: ignoring corrupt image/label: Label class 1553 exceeds dataset class count 1. Possible class labels are 0-0\n",
            "\u001b[34m\u001b[1mtrain: \u001b[0mWARNING ⚠️ /content/Scence-Text-Detection-4/train/images/20241024_164948_jpg.rf.779cb7b17eb43d49f27577ee4a508a57.jpg: ignoring corrupt image/label: Label class 3 exceeds dataset class count 1. Possible class labels are 0-0\n",
            "\u001b[34m\u001b[1mtrain: \u001b[0mWARNING ⚠️ /content/Scence-Text-Detection-4/train/images/20241024_170743_jpg.rf.a9f2fb41134d70a8067e7d563d618f28.jpg: ignoring corrupt image/label: Label class 2283 exceeds dataset class count 1. Possible class labels are 0-0\n",
            "\u001b[34m\u001b[1mtrain: \u001b[0mWARNING ⚠️ /content/Scence-Text-Detection-4/train/images/20241024_190821_jpg.rf.80750195bb14898da5b40d08553a8e3a.jpg: ignoring corrupt image/label: Label class 2283 exceeds dataset class count 1. Possible class labels are 0-0\n",
            "\u001b[34m\u001b[1mtrain: \u001b[0mWARNING ⚠️ /content/Scence-Text-Detection-4/train/images/20241024_191007_jpg.rf.19258efca3aadd49e3ff23e8701f1611.jpg: ignoring corrupt image/label: Label class 2283 exceeds dataset class count 1. Possible class labels are 0-0\n",
            "\u001b[34m\u001b[1mtrain: \u001b[0mWARNING ⚠️ /content/Scence-Text-Detection-4/train/images/20241024_191045_jpg.rf.9fd0243c8bf4e6cdd7551ad45f11c3c3.jpg: ignoring corrupt image/label: Label class 2283 exceeds dataset class count 1. Possible class labels are 0-0\n",
            "\u001b[34m\u001b[1mtrain: \u001b[0mWARNING ⚠️ /content/Scence-Text-Detection-4/train/images/20241024_191343_jpg.rf.961549833b84b9f159fd547b4eaf139d.jpg: ignoring corrupt image/label: Label class 2283 exceeds dataset class count 1. Possible class labels are 0-0\n",
            "\u001b[34m\u001b[1mtrain: \u001b[0mWARNING ⚠️ /content/Scence-Text-Detection-4/train/images/20241108_192518_jpg.rf.bab63079fb4ebbd10644db3ea669de92.jpg: ignoring corrupt image/label: Label class 2283 exceeds dataset class count 1. Possible class labels are 0-0\n",
            "\u001b[34m\u001b[1mtrain: \u001b[0mWARNING ⚠️ /content/Scence-Text-Detection-4/train/images/20241108_192855_jpg.rf.dd11b069ec23b8c95c38c9a466362fbd.jpg: ignoring corrupt image/label: Label class 2283 exceeds dataset class count 1. Possible class labels are 0-0\n",
            "\u001b[34m\u001b[1mtrain: \u001b[0mWARNING ⚠️ /content/Scence-Text-Detection-4/train/images/20241108_192915_jpg.rf.c08adacbf3ccbc5799f47585c136cb67.jpg: ignoring corrupt image/label: Label class 2283 exceeds dataset class count 1. Possible class labels are 0-0\n",
            "\u001b[34m\u001b[1mtrain: \u001b[0mWARNING ⚠️ /content/Scence-Text-Detection-4/train/images/20241108_192920_jpg.rf.b95095d120bbbfd87edb7e316c3b7e33.jpg: ignoring corrupt image/label: Label class 2283 exceeds dataset class count 1. Possible class labels are 0-0\n",
            "\u001b[34m\u001b[1mtrain: \u001b[0mWARNING ⚠️ /content/Scence-Text-Detection-4/train/images/20241108_192927_jpg.rf.68bb22cec4c1bc7142086e5a0a578680.jpg: ignoring corrupt image/label: Label class 2283 exceeds dataset class count 1. Possible class labels are 0-0\n",
            "\u001b[34m\u001b[1mtrain: \u001b[0mWARNING ⚠️ /content/Scence-Text-Detection-4/train/images/20241108_192941_jpg.rf.22942d94daf197010acd98b8eb65aef5.jpg: ignoring corrupt image/label: Label class 2283 exceeds dataset class count 1. Possible class labels are 0-0\n",
            "\u001b[34m\u001b[1mtrain: \u001b[0mWARNING ⚠️ /content/Scence-Text-Detection-4/train/images/20241108_193039_jpg.rf.482ae76d3de16dae7820d588abfad0cf.jpg: ignoring corrupt image/label: Label class 2283 exceeds dataset class count 1. Possible class labels are 0-0\n",
            "\u001b[34m\u001b[1mtrain: \u001b[0mWARNING ⚠️ /content/Scence-Text-Detection-4/train/images/20241108_193045_jpg.rf.71c54a829e1a41f713fbab3a73f531e6.jpg: ignoring corrupt image/label: Label class 2283 exceeds dataset class count 1. Possible class labels are 0-0\n",
            "\u001b[34m\u001b[1mtrain: \u001b[0mWARNING ⚠️ /content/Scence-Text-Detection-4/train/images/20241108_193050_jpg.rf.192d1a47d14e0bacc1b19947d1208838.jpg: ignoring corrupt image/label: Label class 2283 exceeds dataset class count 1. Possible class labels are 0-0\n",
            "\u001b[34m\u001b[1mtrain: \u001b[0mWARNING ⚠️ /content/Scence-Text-Detection-4/train/images/20241108_193055_jpg.rf.ce0941848a21b15fbd59f42578a73aca.jpg: ignoring corrupt image/label: Label class 2283 exceeds dataset class count 1. Possible class labels are 0-0\n",
            "\u001b[34m\u001b[1mtrain: \u001b[0mWARNING ⚠️ /content/Scence-Text-Detection-4/train/images/20241108_193107_jpg.rf.4022cc887c81fadfa246ac3dc17a11b5.jpg: ignoring corrupt image/label: Label class 2283 exceeds dataset class count 1. Possible class labels are 0-0\n",
            "\u001b[34m\u001b[1mtrain: \u001b[0mWARNING ⚠️ /content/Scence-Text-Detection-4/train/images/20241108_193131_jpg.rf.460bf5d5ff22d8d19191df0dcccb30fb.jpg: ignoring corrupt image/label: Label class 2283 exceeds dataset class count 1. Possible class labels are 0-0\n",
            "\u001b[34m\u001b[1mtrain: \u001b[0mWARNING ⚠️ /content/Scence-Text-Detection-4/train/images/20241108_193216_jpg.rf.876acc5d3379fc02e0858aa352f38b92.jpg: ignoring corrupt image/label: Label class 2283 exceeds dataset class count 1. Possible class labels are 0-0\n",
            "\u001b[34m\u001b[1mtrain: \u001b[0mWARNING ⚠️ /content/Scence-Text-Detection-4/train/images/20241108_193223_jpg.rf.fc828703ffbf515977b22a62dc6beee4.jpg: ignoring corrupt image/label: Label class 2283 exceeds dataset class count 1. Possible class labels are 0-0\n",
            "\u001b[34m\u001b[1mtrain: \u001b[0mWARNING ⚠️ /content/Scence-Text-Detection-4/train/images/20241108_193228_jpg.rf.1fb716383a8173966086cf90b3f0bb22.jpg: ignoring corrupt image/label: Label class 2283 exceeds dataset class count 1. Possible class labels are 0-0\n",
            "\u001b[34m\u001b[1mtrain: \u001b[0mWARNING ⚠️ /content/Scence-Text-Detection-4/train/images/20241108_193235_jpg.rf.c136bdffc612b72d9e8dd63fef099264.jpg: ignoring corrupt image/label: Label class 2283 exceeds dataset class count 1. Possible class labels are 0-0\n",
            "\u001b[34m\u001b[1mtrain: \u001b[0mWARNING ⚠️ /content/Scence-Text-Detection-4/train/images/20241108_193246_jpg.rf.5577af657395de59fdb3c34f267a9aaf.jpg: ignoring corrupt image/label: Label class 2283 exceeds dataset class count 1. Possible class labels are 0-0\n",
            "\u001b[34m\u001b[1mtrain: \u001b[0mWARNING ⚠️ /content/Scence-Text-Detection-4/train/images/20241108_193305_jpg.rf.8e857606804c95483908b623b9584f6a.jpg: ignoring corrupt image/label: Label class 2283 exceeds dataset class count 1. Possible class labels are 0-0\n",
            "\u001b[34m\u001b[1mtrain: \u001b[0mWARNING ⚠️ /content/Scence-Text-Detection-4/train/images/20241108_193327_jpg.rf.e159851b49be04494a3d07efb68327c6.jpg: ignoring corrupt image/label: Label class 2283 exceeds dataset class count 1. Possible class labels are 0-0\n",
            "\u001b[34m\u001b[1mtrain: \u001b[0mWARNING ⚠️ /content/Scence-Text-Detection-4/train/images/20241108_193334_jpg.rf.5c63d7c566caf33e57de9861ce137f95.jpg: ignoring corrupt image/label: Label class 2283 exceeds dataset class count 1. Possible class labels are 0-0\n",
            "\u001b[34m\u001b[1mtrain: \u001b[0mWARNING ⚠️ /content/Scence-Text-Detection-4/train/images/20241108_193343_jpg.rf.e2561f979d4d2f38fae41f7706d4b7f2.jpg: ignoring corrupt image/label: Label class 2283 exceeds dataset class count 1. Possible class labels are 0-0\n",
            "\u001b[34m\u001b[1mtrain: \u001b[0mWARNING ⚠️ /content/Scence-Text-Detection-4/train/images/20241108_193349_jpg.rf.9ee557802f3503ae79e103b1cf601384.jpg: ignoring corrupt image/label: Label class 2283 exceeds dataset class count 1. Possible class labels are 0-0\n",
            "\u001b[34m\u001b[1mtrain: \u001b[0mWARNING ⚠️ /content/Scence-Text-Detection-4/train/images/20241108_193520_jpg.rf.5c9684fa138249d0269e3b7703607c3d.jpg: ignoring corrupt image/label: Label class 2283 exceeds dataset class count 1. Possible class labels are 0-0\n",
            "\u001b[34m\u001b[1mtrain: \u001b[0mWARNING ⚠️ /content/Scence-Text-Detection-4/train/images/20241108_193525_jpg.rf.f14aa3cde6066499384a9abd8649c6bf.jpg: ignoring corrupt image/label: Label class 2283 exceeds dataset class count 1. Possible class labels are 0-0\n",
            "\u001b[34m\u001b[1mtrain: \u001b[0mWARNING ⚠️ /content/Scence-Text-Detection-4/train/images/20241108_193530_jpg.rf.1d62f0ace3d5df180270c641749372d5.jpg: ignoring corrupt image/label: Label class 2283 exceeds dataset class count 1. Possible class labels are 0-0\n",
            "\u001b[34m\u001b[1mtrain: \u001b[0mWARNING ⚠️ /content/Scence-Text-Detection-4/train/images/20241108_193536_jpg.rf.2961dab94cd97b27b8657d4c725045dc.jpg: ignoring corrupt image/label: Label class 2283 exceeds dataset class count 1. Possible class labels are 0-0\n",
            "\u001b[34m\u001b[1mtrain: \u001b[0mWARNING ⚠️ /content/Scence-Text-Detection-4/train/images/20241108_193558_jpg.rf.01bc0dd38897978cfb479743f689d124.jpg: ignoring corrupt image/label: Label class 2283 exceeds dataset class count 1. Possible class labels are 0-0\n",
            "\u001b[34m\u001b[1mtrain: \u001b[0mWARNING ⚠️ /content/Scence-Text-Detection-4/train/images/20241108_193633_jpg.rf.af475b10f8727baabcdb2fc539cb5b7d.jpg: ignoring corrupt image/label: Label class 2283 exceeds dataset class count 1. Possible class labels are 0-0\n",
            "\u001b[34m\u001b[1mtrain: \u001b[0mWARNING ⚠️ /content/Scence-Text-Detection-4/train/images/20241108_193733_jpg.rf.dceb8dfa094d5b394f9a2be5ebb0c13d.jpg: ignoring corrupt image/label: Label class 2283 exceeds dataset class count 1. Possible class labels are 0-0\n",
            "\u001b[34m\u001b[1mtrain: \u001b[0mWARNING ⚠️ /content/Scence-Text-Detection-4/train/images/20241109_105537_jpg.rf.459fc4a1d98a28fbee89cc4f92adb6d0.jpg: ignoring corrupt image/label: Label class 672 exceeds dataset class count 1. Possible class labels are 0-0\n",
            "\u001b[34m\u001b[1mtrain: \u001b[0mWARNING ⚠️ /content/Scence-Text-Detection-4/train/images/20241109_105550_jpg.rf.bb71f29bd0bb8c9243d512fca75d5e13.jpg: ignoring corrupt image/label: Label class 1108 exceeds dataset class count 1. Possible class labels are 0-0\n",
            "\u001b[34m\u001b[1mtrain: \u001b[0mWARNING ⚠️ /content/Scence-Text-Detection-4/train/images/20241109_105614_jpg.rf.2e729d40683a210695099821ea483ca0.jpg: ignoring corrupt image/label: Label class 1360 exceeds dataset class count 1. Possible class labels are 0-0\n",
            "\u001b[34m\u001b[1mtrain: \u001b[0mWARNING ⚠️ /content/Scence-Text-Detection-4/train/images/20241109_105632_jpg.rf.e5b0058501c146fb709f7728c9189bab.jpg: ignoring corrupt image/label: Label class 1498 exceeds dataset class count 1. Possible class labels are 0-0\n",
            "\u001b[34m\u001b[1mtrain: \u001b[0mWARNING ⚠️ /content/Scence-Text-Detection-4/train/images/20241109_105647_jpg.rf.3d5bbe0fe184b290b603bb751e0cc0ea.jpg: ignoring corrupt image/label: Label class 642 exceeds dataset class count 1. Possible class labels are 0-0\n",
            "\u001b[34m\u001b[1mtrain: \u001b[0mWARNING ⚠️ /content/Scence-Text-Detection-4/train/images/20241109_105707_jpg.rf.a0c4505857f57747814e660c75dcec0c.jpg: ignoring corrupt image/label: Label class 1312 exceeds dataset class count 1. Possible class labels are 0-0\n",
            "\u001b[34m\u001b[1mtrain: \u001b[0mWARNING ⚠️ /content/Scence-Text-Detection-4/train/images/202_jpg.rf.73525a9fa1c49667f97b1915fae1695a.jpg: ignoring corrupt image/label: Label class 265 exceeds dataset class count 1. Possible class labels are 0-0\n",
            "\u001b[34m\u001b[1mtrain: \u001b[0mWARNING ⚠️ /content/Scence-Text-Detection-4/train/images/203_jpg.rf.9573c102eed06ac4ba82bca12c1636d9.jpg: ignoring corrupt image/label: Label class 2 exceeds dataset class count 1. Possible class labels are 0-0\n",
            "\u001b[34m\u001b[1mtrain: \u001b[0mWARNING ⚠️ /content/Scence-Text-Detection-4/train/images/208_jpg.rf.158ee8be5c125736aa00042aeed4c2fe.jpg: ignoring corrupt image/label: Label class 8 exceeds dataset class count 1. Possible class labels are 0-0\n",
            "\u001b[34m\u001b[1mtrain: \u001b[0mWARNING ⚠️ /content/Scence-Text-Detection-4/train/images/210_jpg.rf.3519ff210db9c59ddde5528dac6209de.jpg: ignoring corrupt image/label: Label class 4 exceeds dataset class count 1. Possible class labels are 0-0\n",
            "\u001b[34m\u001b[1mtrain: \u001b[0mWARNING ⚠️ /content/Scence-Text-Detection-4/train/images/212_jpg.rf.f8135cd1270172e13bb97e110e87f90e.jpg: ignoring corrupt image/label: Label class 3 exceeds dataset class count 1. Possible class labels are 0-0\n",
            "\u001b[34m\u001b[1mtrain: \u001b[0mWARNING ⚠️ /content/Scence-Text-Detection-4/train/images/214_jpg.rf.ffb94da09282b1e04970f91fa0f0c4ff.jpg: ignoring corrupt image/label: Label class 4 exceeds dataset class count 1. Possible class labels are 0-0\n",
            "\u001b[34m\u001b[1mtrain: \u001b[0mWARNING ⚠️ /content/Scence-Text-Detection-4/train/images/215_jpg.rf.ab3a0b042253cc6ea65910dacadaec27.jpg: ignoring corrupt image/label: Label class 275 exceeds dataset class count 1. Possible class labels are 0-0\n",
            "\u001b[34m\u001b[1mtrain: \u001b[0mWARNING ⚠️ /content/Scence-Text-Detection-4/train/images/219_jpg.rf.20d0521fe65b7c65e4f9b54c7aa21306.jpg: ignoring corrupt image/label: Label class 3 exceeds dataset class count 1. Possible class labels are 0-0\n",
            "\u001b[34m\u001b[1mtrain: \u001b[0mWARNING ⚠️ /content/Scence-Text-Detection-4/train/images/21_jpg.rf.8edd5dbe2c826c8d0275a3ed98de602e.jpg: ignoring corrupt image/label: Label class 3 exceeds dataset class count 1. Possible class labels are 0-0\n",
            "\u001b[34m\u001b[1mtrain: \u001b[0mWARNING ⚠️ /content/Scence-Text-Detection-4/train/images/233_jpg.rf.cc62aa822a11fa141e55abf2fb6f5d57.jpg: ignoring corrupt image/label: Label class 2 exceeds dataset class count 1. Possible class labels are 0-0\n",
            "\u001b[34m\u001b[1mtrain: \u001b[0mWARNING ⚠️ /content/Scence-Text-Detection-4/train/images/238_jpg.rf.fbedb9967c4c487e5c7607d115924028.jpg: ignoring corrupt image/label: Label class 3 exceeds dataset class count 1. Possible class labels are 0-0\n",
            "\u001b[34m\u001b[1mtrain: \u001b[0mWARNING ⚠️ /content/Scence-Text-Detection-4/train/images/241_jpg.rf.d3e4a6ba3ed751ed5795987fdf3c8df6.jpg: ignoring corrupt image/label: Label class 2 exceeds dataset class count 1. Possible class labels are 0-0\n",
            "\u001b[34m\u001b[1mtrain: \u001b[0mWARNING ⚠️ /content/Scence-Text-Detection-4/train/images/242_jpg.rf.be747484a8e04e30dc6803178cb01c0c.jpg: ignoring corrupt image/label: Label class 2 exceeds dataset class count 1. Possible class labels are 0-0\n",
            "\u001b[34m\u001b[1mtrain: \u001b[0mWARNING ⚠️ /content/Scence-Text-Detection-4/train/images/245_jpg.rf.e32dd35bfcfda0c829a99a464f01c352.jpg: ignoring corrupt image/label: Label class 239 exceeds dataset class count 1. Possible class labels are 0-0\n",
            "\u001b[34m\u001b[1mtrain: \u001b[0mWARNING ⚠️ /content/Scence-Text-Detection-4/train/images/248_jpg.rf.f21b868a3048903f811b41014973857e.jpg: ignoring corrupt image/label: Label class 1665 exceeds dataset class count 1. Possible class labels are 0-0\n",
            "\u001b[34m\u001b[1mtrain: \u001b[0mWARNING ⚠️ /content/Scence-Text-Detection-4/train/images/249_jpg.rf.c0cc679af7a21c25dc227b6ecfc47f76.jpg: ignoring corrupt image/label: Label class 244 exceeds dataset class count 1. Possible class labels are 0-0\n",
            "\u001b[34m\u001b[1mtrain: \u001b[0mWARNING ⚠️ /content/Scence-Text-Detection-4/train/images/27_jpg.rf.5dbecf272541bd24d125baa82c7469ba.jpg: ignoring corrupt image/label: Label class 2 exceeds dataset class count 1. Possible class labels are 0-0\n",
            "\u001b[34m\u001b[1mtrain: \u001b[0mWARNING ⚠️ /content/Scence-Text-Detection-4/train/images/2_jpg.rf.ddee3e8b0b930e6f97ccae1b73b04d50.jpg: ignoring corrupt image/label: Label class 3 exceeds dataset class count 1. Possible class labels are 0-0\n",
            "\u001b[34m\u001b[1mtrain: \u001b[0mWARNING ⚠️ /content/Scence-Text-Detection-4/train/images/32_jpg.rf.3cc1c4ca16daff3e4f85c8cb7fcb2b64.jpg: ignoring corrupt image/label: Label class 306 exceeds dataset class count 1. Possible class labels are 0-0\n",
            "\u001b[34m\u001b[1mtrain: \u001b[0mWARNING ⚠️ /content/Scence-Text-Detection-4/train/images/33_jpg.rf.088655b175739a9e296f054cf7f6f340.jpg: ignoring corrupt image/label: Label class 2 exceeds dataset class count 1. Possible class labels are 0-0\n",
            "\u001b[34m\u001b[1mtrain: \u001b[0mWARNING ⚠️ /content/Scence-Text-Detection-4/train/images/34_jpg.rf.7e6c12b1ff651510e52fc4940bc2c248.jpg: ignoring corrupt image/label: Label class 371 exceeds dataset class count 1. Possible class labels are 0-0\n",
            "\u001b[34m\u001b[1mtrain: \u001b[0mWARNING ⚠️ /content/Scence-Text-Detection-4/train/images/37_jpg.rf.85199e85c3389b508af25673559f2287.jpg: ignoring corrupt image/label: Label class 5 exceeds dataset class count 1. Possible class labels are 0-0\n",
            "\u001b[34m\u001b[1mtrain: \u001b[0mWARNING ⚠️ /content/Scence-Text-Detection-4/train/images/38_jpg.rf.4040a5d401b6d306ee8f27aa1bf78bea.jpg: ignoring corrupt image/label: Label class 369 exceeds dataset class count 1. Possible class labels are 0-0\n",
            "\u001b[34m\u001b[1mtrain: \u001b[0mWARNING ⚠️ /content/Scence-Text-Detection-4/train/images/51_jpg.rf.4636af8ab5b70e44b7ddda82bc155241.jpg: ignoring corrupt image/label: Label class 2 exceeds dataset class count 1. Possible class labels are 0-0\n",
            "\u001b[34m\u001b[1mtrain: \u001b[0mWARNING ⚠️ /content/Scence-Text-Detection-4/train/images/54_jpg.rf.2ad4119054083d7be8413b16d4517e2e.jpg: ignoring corrupt image/label: Label class 2 exceeds dataset class count 1. Possible class labels are 0-0\n",
            "\u001b[34m\u001b[1mtrain: \u001b[0mWARNING ⚠️ /content/Scence-Text-Detection-4/train/images/57_jpg.rf.b0aba7d8732bd61bc85ed80eddeb3b4b.jpg: ignoring corrupt image/label: Label class 2 exceeds dataset class count 1. Possible class labels are 0-0\n",
            "\u001b[34m\u001b[1mtrain: \u001b[0mWARNING ⚠️ /content/Scence-Text-Detection-4/train/images/61_jpg.rf.3f7cf8beb006bd8aa1fb6dbdb31ef87c.jpg: ignoring corrupt image/label: Label class 2 exceeds dataset class count 1. Possible class labels are 0-0\n",
            "\u001b[34m\u001b[1mtrain: \u001b[0mWARNING ⚠️ /content/Scence-Text-Detection-4/train/images/67_jpg.rf.8c2dfb8952e4af803f9e44b92b4adbb1.jpg: ignoring corrupt image/label: Label class 2 exceeds dataset class count 1. Possible class labels are 0-0\n",
            "\u001b[34m\u001b[1mtrain: \u001b[0mWARNING ⚠️ /content/Scence-Text-Detection-4/train/images/69_jpg.rf.c90a7108f191ec50258fb270809a2cc2.jpg: ignoring corrupt image/label: Label class 2 exceeds dataset class count 1. Possible class labels are 0-0\n",
            "\u001b[34m\u001b[1mtrain: \u001b[0mWARNING ⚠️ /content/Scence-Text-Detection-4/train/images/80_jpg.rf.12151d1ff302ea602032e3581c1e4db6.jpg: ignoring corrupt image/label: Label class 4 exceeds dataset class count 1. Possible class labels are 0-0\n",
            "\u001b[34m\u001b[1mtrain: \u001b[0mWARNING ⚠️ /content/Scence-Text-Detection-4/train/images/96_jpg.rf.f3f80a0264881ea3cea1a5d04e36458c.jpg: ignoring corrupt image/label: Label class 3 exceeds dataset class count 1. Possible class labels are 0-0\n",
            "\u001b[34m\u001b[1mtrain: \u001b[0mWARNING ⚠️ /content/Scence-Text-Detection-4/train/images/DB-f10img16_jpg.rf.3001b39831457118d38ba8c62fededbd.jpg: ignoring corrupt image/label: Label class 301 exceeds dataset class count 1. Possible class labels are 0-0\n",
            "\u001b[34m\u001b[1mtrain: \u001b[0mWARNING ⚠️ /content/Scence-Text-Detection-4/train/images/DB-f10img17_jpg.rf.406080f05a6814807576b0717ea06973.jpg: ignoring corrupt image/label: Label class 1664 exceeds dataset class count 1. Possible class labels are 0-0\n",
            "\u001b[34m\u001b[1mtrain: \u001b[0mWARNING ⚠️ /content/Scence-Text-Detection-4/train/images/DB-f10img4_jpg.rf.1e864a9bfdd2378ede5d2fda31072a2a.jpg: ignoring corrupt image/label: Label class 382 exceeds dataset class count 1. Possible class labels are 0-0\n",
            "\u001b[34m\u001b[1mtrain: \u001b[0mWARNING ⚠️ /content/Scence-Text-Detection-4/train/images/DB-f10img6_jpg.rf.cac77ecc281fd54d1697da54b01ab797.jpg: ignoring corrupt image/label: Label class 1990 exceeds dataset class count 1. Possible class labels are 0-0\n",
            "\u001b[34m\u001b[1mtrain: \u001b[0mWARNING ⚠️ /content/Scence-Text-Detection-4/train/images/DB-f11img12_jpg.rf.9cf40840e98b204ea9d367665978e693.jpg: ignoring corrupt image/label: Label class 1943 exceeds dataset class count 1. Possible class labels are 0-0\n",
            "\u001b[34m\u001b[1mtrain: \u001b[0mWARNING ⚠️ /content/Scence-Text-Detection-4/train/images/DB-f11img15_jpg.rf.4bd49b256a4d74c491b342b816bf0642.jpg: ignoring corrupt image/label: Label class 1950 exceeds dataset class count 1. Possible class labels are 0-0\n",
            "\u001b[34m\u001b[1mtrain: \u001b[0mWARNING ⚠️ /content/Scence-Text-Detection-4/train/images/DB-f11img19_jpg.rf.a87671fdd0f72f319feccd12546d25ed.jpg: ignoring corrupt image/label: Label class 1993 exceeds dataset class count 1. Possible class labels are 0-0\n",
            "\u001b[34m\u001b[1mtrain: \u001b[0mWARNING ⚠️ /content/Scence-Text-Detection-4/train/images/DB-f11img20_jpg.rf.d93f139464743250759b6def453a5e32.jpg: ignoring corrupt image/label: Label class 376 exceeds dataset class count 1. Possible class labels are 0-0\n",
            "\u001b[34m\u001b[1mtrain: \u001b[0mWARNING ⚠️ /content/Scence-Text-Detection-4/train/images/DB-f11img2_jpg.rf.8b01b802cb84f888d6902d6cdc606fdf.jpg: ignoring corrupt image/label: Label class 436 exceeds dataset class count 1. Possible class labels are 0-0\n",
            "\u001b[34m\u001b[1mtrain: \u001b[0mWARNING ⚠️ /content/Scence-Text-Detection-4/train/images/DB-f12img10_jpg.rf.67cc7089897fc495411b229841b49150.jpg: ignoring corrupt image/label: Label class 1942 exceeds dataset class count 1. Possible class labels are 0-0\n",
            "\u001b[34m\u001b[1mtrain: \u001b[0mWARNING ⚠️ /content/Scence-Text-Detection-4/train/images/DB-f12img16_jpg.rf.5d18f8a0c3c5d20f09feb2defb5dd873.jpg: ignoring corrupt image/label: Label class 1950 exceeds dataset class count 1. Possible class labels are 0-0\n",
            "\u001b[34m\u001b[1mtrain: \u001b[0mWARNING ⚠️ /content/Scence-Text-Detection-4/train/images/DB-f12img17_jpg.rf.e58d8c0fe010358145db10e17d331a80.jpg: ignoring corrupt image/label: Label class 2018 exceeds dataset class count 1. Possible class labels are 0-0\n",
            "\u001b[34m\u001b[1mtrain: \u001b[0mWARNING ⚠️ /content/Scence-Text-Detection-4/train/images/DB-f12img18_jpg.rf.308c9abf42c5a82d687fc880a5e356b0.jpg: ignoring corrupt image/label: Label class 421 exceeds dataset class count 1. Possible class labels are 0-0\n",
            "\u001b[34m\u001b[1mtrain: \u001b[0mWARNING ⚠️ /content/Scence-Text-Detection-4/train/images/DB-f12img1_jpg.rf.1d4816894ac57d88880c58314ab6d860.jpg: ignoring corrupt image/label: Label class 526 exceeds dataset class count 1. Possible class labels are 0-0\n",
            "\u001b[34m\u001b[1mtrain: \u001b[0mWARNING ⚠️ /content/Scence-Text-Detection-4/train/images/DB-f12img20_jpg.rf.eccb817c3bbd2b5513f2018175359427.jpg: ignoring corrupt image/label: Label class 2062 exceeds dataset class count 1. Possible class labels are 0-0\n",
            "\u001b[34m\u001b[1mtrain: \u001b[0mWARNING ⚠️ /content/Scence-Text-Detection-4/train/images/DB-f12img7_jpg.rf.95718ce62cf124c164fabb5c16fa8269.jpg: ignoring corrupt image/label: Label class 2171 exceeds dataset class count 1. Possible class labels are 0-0\n",
            "\u001b[34m\u001b[1mtrain: \u001b[0mWARNING ⚠️ /content/Scence-Text-Detection-4/train/images/DB-f12img9_jpg.rf.d7fc2d5b65cab59ab81244a55382377b.jpg: ignoring corrupt image/label: Label class 1491 exceeds dataset class count 1. Possible class labels are 0-0\n",
            "\u001b[34m\u001b[1mtrain: \u001b[0mWARNING ⚠️ /content/Scence-Text-Detection-4/train/images/DB-f13img10_jpg.rf.7ded5a6ecc5ee1d415b99ff314d129f0.jpg: ignoring corrupt image/label: Label class 439 exceeds dataset class count 1. Possible class labels are 0-0\n",
            "\u001b[34m\u001b[1mtrain: \u001b[0mWARNING ⚠️ /content/Scence-Text-Detection-4/train/images/DB-f13img11_jpg.rf.e22fa339bac4bd810b157390779c952e.jpg: ignoring corrupt image/label: Label class 2066 exceeds dataset class count 1. Possible class labels are 0-0\n",
            "\u001b[34m\u001b[1mtrain: \u001b[0mWARNING ⚠️ /content/Scence-Text-Detection-4/train/images/DB-f13img13_jpg.rf.2efe726c5e6f8be1dd95fba9f14fec0b.jpg: ignoring corrupt image/label: Label class 2063 exceeds dataset class count 1. Possible class labels are 0-0\n",
            "\u001b[34m\u001b[1mtrain: \u001b[0mWARNING ⚠️ /content/Scence-Text-Detection-4/train/images/DB-f13img14_jpg.rf.7af87f49666b4ba19d8fa3dd40e9e526.jpg: ignoring corrupt image/label: Label class 413 exceeds dataset class count 1. Possible class labels are 0-0\n",
            "\u001b[34m\u001b[1mtrain: \u001b[0mWARNING ⚠️ /content/Scence-Text-Detection-4/train/images/DB-f13img16_jpg.rf.1656d7ef44644ff0282f555bc813f6f2.jpg: ignoring corrupt image/label: Label class 537 exceeds dataset class count 1. Possible class labels are 0-0\n",
            "\u001b[34m\u001b[1mtrain: \u001b[0mWARNING ⚠️ /content/Scence-Text-Detection-4/train/images/DB-f13img1_jpg.rf.5c1e1b32135bb99c9b0a8082e203f6c2.jpg: ignoring corrupt image/label: Label class 2157 exceeds dataset class count 1. Possible class labels are 0-0\n",
            "\u001b[34m\u001b[1mtrain: \u001b[0mWARNING ⚠️ /content/Scence-Text-Detection-4/train/images/DB-f13img2_jpg.rf.8d14df66e4cf4b687bd751294e55e403.jpg: ignoring corrupt image/label: Label class 1950 exceeds dataset class count 1. Possible class labels are 0-0\n",
            "\u001b[34m\u001b[1mtrain: \u001b[0mWARNING ⚠️ /content/Scence-Text-Detection-4/train/images/DB-f13img3_jpg.rf.3711dd43cfa22014f5be2cbdd7114dec.jpg: ignoring corrupt image/label: Label class 2111 exceeds dataset class count 1. Possible class labels are 0-0\n",
            "\u001b[34m\u001b[1mtrain: \u001b[0mWARNING ⚠️ /content/Scence-Text-Detection-4/train/images/DB-f13img4_jpg.rf.5d9b15af873d78335e21e80c3ee47124.jpg: ignoring corrupt image/label: Label class 413 exceeds dataset class count 1. Possible class labels are 0-0\n",
            "\u001b[34m\u001b[1mtrain: \u001b[0mWARNING ⚠️ /content/Scence-Text-Detection-4/train/images/DB-f14img11_jpg.rf.cb6731bf17de2692788e7b3574b23683.jpg: ignoring corrupt image/label: Label class 436 exceeds dataset class count 1. Possible class labels are 0-0\n",
            "\u001b[34m\u001b[1mtrain: \u001b[0mWARNING ⚠️ /content/Scence-Text-Detection-4/train/images/DB-f14img15_jpg.rf.cf56500126e5e2424842eebd06ea7b6e.jpg: ignoring corrupt image/label: Label class 375 exceeds dataset class count 1. Possible class labels are 0-0\n",
            "\u001b[34m\u001b[1mtrain: \u001b[0mWARNING ⚠️ /content/Scence-Text-Detection-4/train/images/DB-f14img3_jpg.rf.17b751b4180dc3376fe15a96a6ac5cb2.jpg: ignoring corrupt image/label: Label class 1950 exceeds dataset class count 1. Possible class labels are 0-0\n",
            "\u001b[34m\u001b[1mtrain: \u001b[0mWARNING ⚠️ /content/Scence-Text-Detection-4/train/images/DB-f14img8_jpg.rf.0404f64b0afb5b9879c42513f23790ae.jpg: ignoring corrupt image/label: Label class 1639 exceeds dataset class count 1. Possible class labels are 0-0\n",
            "\u001b[34m\u001b[1mtrain: \u001b[0mWARNING ⚠️ /content/Scence-Text-Detection-4/train/images/DB-f15img13_jpg.rf.790b522a96ddd668ee0fc7be3586013d.jpg: ignoring corrupt image/label: Label class 375 exceeds dataset class count 1. Possible class labels are 0-0\n",
            "\u001b[34m\u001b[1mtrain: \u001b[0mWARNING ⚠️ /content/Scence-Text-Detection-4/train/images/DB-f15img14_jpg.rf.591ff1f5f241ffed24382fb0d51e03cd.jpg: ignoring corrupt image/label: Label class 375 exceeds dataset class count 1. Possible class labels are 0-0\n",
            "\u001b[34m\u001b[1mtrain: \u001b[0mWARNING ⚠️ /content/Scence-Text-Detection-4/train/images/DB-f15img1_jpg.rf.3ce05ea5f25e4fdf9483f6e9ce9f9271.jpg: ignoring corrupt image/label: Label class 381 exceeds dataset class count 1. Possible class labels are 0-0\n",
            "\u001b[34m\u001b[1mtrain: \u001b[0mWARNING ⚠️ /content/Scence-Text-Detection-4/train/images/DB-f15img20_jpg.rf.ff2117899e0a85a30835e1f207925dfb.jpg: ignoring corrupt image/label: Label class 375 exceeds dataset class count 1. Possible class labels are 0-0\n",
            "\u001b[34m\u001b[1mtrain: \u001b[0mWARNING ⚠️ /content/Scence-Text-Detection-4/train/images/DB-f15img2_jpg.rf.79e9da8fb45359accf8927dab2a914f6.jpg: ignoring corrupt image/label: Label class 301 exceeds dataset class count 1. Possible class labels are 0-0\n",
            "\u001b[34m\u001b[1mtrain: \u001b[0mWARNING ⚠️ /content/Scence-Text-Detection-4/train/images/DB-f15img3_jpg.rf.84e8d9940e0aa1429ff329ec23345b7b.jpg: ignoring corrupt image/label: Label class 465 exceeds dataset class count 1. Possible class labels are 0-0\n",
            "\u001b[34m\u001b[1mtrain: \u001b[0mWARNING ⚠️ /content/Scence-Text-Detection-4/train/images/DB-f15img5_jpg.rf.cd6fa6931efe15a68969799fe9799a2f.jpg: ignoring corrupt image/label: Label class 375 exceeds dataset class count 1. Possible class labels are 0-0\n",
            "\u001b[34m\u001b[1mtrain: \u001b[0mWARNING ⚠️ /content/Scence-Text-Detection-4/train/images/DB-f15img6_jpg.rf.9d5436466ef6301439504f3c9f1357ad.jpg: ignoring corrupt image/label: Label class 1971 exceeds dataset class count 1. Possible class labels are 0-0\n",
            "\u001b[34m\u001b[1mtrain: \u001b[0mWARNING ⚠️ /content/Scence-Text-Detection-4/train/images/DB-f15img9_jpg.rf.753778f88bf1f2de755e3604baab41ca.jpg: ignoring corrupt image/label: Label class 2013 exceeds dataset class count 1. Possible class labels are 0-0\n",
            "\u001b[34m\u001b[1mtrain: \u001b[0mWARNING ⚠️ /content/Scence-Text-Detection-4/train/images/DB-f16img11_jpg.rf.c9c8c64d9c4373e69623d630e9068cbb.jpg: ignoring corrupt image/label: Label class 381 exceeds dataset class count 1. Possible class labels are 0-0\n",
            "\u001b[34m\u001b[1mtrain: \u001b[0mWARNING ⚠️ /content/Scence-Text-Detection-4/train/images/DB-f16img13_jpg.rf.d83ad1a8b8c4b59fe9f8add83106cd87.jpg: ignoring corrupt image/label: Label class 407 exceeds dataset class count 1. Possible class labels are 0-0\n",
            "\u001b[34m\u001b[1mtrain: \u001b[0mWARNING ⚠️ /content/Scence-Text-Detection-4/train/images/DB-f16img18_jpg.rf.b2aa8601855472d839bb78d82177a89c.jpg: ignoring corrupt image/label: Label class 2066 exceeds dataset class count 1. Possible class labels are 0-0\n",
            "\u001b[34m\u001b[1mtrain: \u001b[0mWARNING ⚠️ /content/Scence-Text-Detection-4/train/images/DB-f16img5_jpg.rf.e36b523d5c40b63fc3ade23816fcc35e.jpg: ignoring corrupt image/label: Label class 300 exceeds dataset class count 1. Possible class labels are 0-0\n",
            "\u001b[34m\u001b[1mtrain: \u001b[0mWARNING ⚠️ /content/Scence-Text-Detection-4/train/images/DB-f16img6_jpg.rf.8bc44b80e045c8344e42e922ab9e7cbd.jpg: ignoring corrupt image/label: Label class 2068 exceeds dataset class count 1. Possible class labels are 0-0\n",
            "\u001b[34m\u001b[1mtrain: \u001b[0mWARNING ⚠️ /content/Scence-Text-Detection-4/train/images/DB-f16img8_jpg.rf.64659dcf4d3d89cd9ea78061d1c63023.jpg: ignoring corrupt image/label: Label class 2106 exceeds dataset class count 1. Possible class labels are 0-0\n",
            "\u001b[34m\u001b[1mtrain: \u001b[0mWARNING ⚠️ /content/Scence-Text-Detection-4/train/images/DB-f17img10_jpg.rf.fafa98884aff0dd13a0ef03ecf5a016b.jpg: ignoring corrupt image/label: Label class 431 exceeds dataset class count 1. Possible class labels are 0-0\n",
            "\u001b[34m\u001b[1mtrain: \u001b[0mWARNING ⚠️ /content/Scence-Text-Detection-4/train/images/DB-f17img11_jpg.rf.d0af243935a710679eb70dbe31d219a5.jpg: ignoring corrupt image/label: Label class 1664 exceeds dataset class count 1. Possible class labels are 0-0\n",
            "\u001b[34m\u001b[1mtrain: \u001b[0mWARNING ⚠️ /content/Scence-Text-Detection-4/train/images/DB-f17img13_jpg.rf.4ab3e3e00eaeef674baa20099eaf108b.jpg: ignoring corrupt image/label: Label class 398 exceeds dataset class count 1. Possible class labels are 0-0\n",
            "\u001b[34m\u001b[1mtrain: \u001b[0mWARNING ⚠️ /content/Scence-Text-Detection-4/train/images/DB-f17img14_jpg.rf.2ed90dc069b28bd72c92e66df3a98a20.jpg: ignoring corrupt image/label: Label class 329 exceeds dataset class count 1. Possible class labels are 0-0\n",
            "\u001b[34m\u001b[1mtrain: \u001b[0mWARNING ⚠️ /content/Scence-Text-Detection-4/train/images/DB-f17img16_jpg.rf.94026fad1c1809882dad222c2586dbe2.jpg: ignoring corrupt image/label: Label class 396 exceeds dataset class count 1. Possible class labels are 0-0\n",
            "\u001b[34m\u001b[1mtrain: \u001b[0mWARNING ⚠️ /content/Scence-Text-Detection-4/train/images/DB-f17img18_jpg.rf.e830a1fd5756ba443051dcc83d9a45eb.jpg: ignoring corrupt image/label: Label class 375 exceeds dataset class count 1. Possible class labels are 0-0\n",
            "\u001b[34m\u001b[1mtrain: \u001b[0mWARNING ⚠️ /content/Scence-Text-Detection-4/train/images/DB-f17img20_jpg.rf.cb978dff20d17543cefd9a26912bad6d.jpg: ignoring corrupt image/label: Label class 439 exceeds dataset class count 1. Possible class labels are 0-0\n",
            "\u001b[34m\u001b[1mtrain: \u001b[0mWARNING ⚠️ /content/Scence-Text-Detection-4/train/images/DB-f17img6_jpg.rf.459ce44f2df9dda5ceb632f8557d1a35.jpg: ignoring corrupt image/label: Label class 1977 exceeds dataset class count 1. Possible class labels are 0-0\n",
            "\u001b[34m\u001b[1mtrain: \u001b[0mWARNING ⚠️ /content/Scence-Text-Detection-4/train/images/DB-f17img7_jpg.rf.8ddbd134478399e29c234145e117722f.jpg: ignoring corrupt image/label: Label class 413 exceeds dataset class count 1. Possible class labels are 0-0\n",
            "\u001b[34m\u001b[1mtrain: \u001b[0mWARNING ⚠️ /content/Scence-Text-Detection-4/train/images/DB-f18img13_jpg.rf.211b0712f0b4ca931ea5fc9f0661b039.jpg: ignoring corrupt image/label: Label class 521 exceeds dataset class count 1. Possible class labels are 0-0\n",
            "\u001b[34m\u001b[1mtrain: \u001b[0mWARNING ⚠️ /content/Scence-Text-Detection-4/train/images/DB-f18img16_jpg.rf.9200c4ce47af8986f96b95143990b4ed.jpg: ignoring corrupt image/label: Label class 2170 exceeds dataset class count 1. Possible class labels are 0-0\n",
            "\u001b[34m\u001b[1mtrain: \u001b[0mWARNING ⚠️ /content/Scence-Text-Detection-4/train/images/DB-f18img19_jpg.rf.bb2f3ea38115f8564c93a7de782f4b31.jpg: ignoring corrupt image/label: Label class 1977 exceeds dataset class count 1. Possible class labels are 0-0\n",
            "\u001b[34m\u001b[1mtrain: \u001b[0mWARNING ⚠️ /content/Scence-Text-Detection-4/train/images/DB-f18img20_jpg.rf.c884c838a983dad98626dd86a673df89.jpg: ignoring corrupt image/label: Label class 467 exceeds dataset class count 1. Possible class labels are 0-0\n",
            "\u001b[34m\u001b[1mtrain: \u001b[0mWARNING ⚠️ /content/Scence-Text-Detection-4/train/images/DB-f18img5_jpg.rf.92b536a662f714be5464ab7c38f02f79.jpg: ignoring corrupt image/label: Label class 1971 exceeds dataset class count 1. Possible class labels are 0-0\n",
            "\u001b[34m\u001b[1mtrain: \u001b[0mWARNING ⚠️ /content/Scence-Text-Detection-4/train/images/DB-f18img6_jpg.rf.d8396aa3c2a6190a5138074903ef0c97.jpg: ignoring corrupt image/label: Label class 2027 exceeds dataset class count 1. Possible class labels are 0-0\n",
            "\u001b[34m\u001b[1mtrain: \u001b[0mWARNING ⚠️ /content/Scence-Text-Detection-4/train/images/DB-f18img9_jpg.rf.bac2c550b1a36768ada63a93cea1556a.jpg: ignoring corrupt image/label: Label class 2158 exceeds dataset class count 1. Possible class labels are 0-0\n",
            "\u001b[34m\u001b[1mtrain: \u001b[0mWARNING ⚠️ /content/Scence-Text-Detection-4/train/images/DB-f19img10_jpg.rf.9aa5de4a9ec765ed3535aca59b08c875.jpg: ignoring corrupt image/label: Label class 390 exceeds dataset class count 1. Possible class labels are 0-0\n",
            "\u001b[34m\u001b[1mtrain: \u001b[0mWARNING ⚠️ /content/Scence-Text-Detection-4/train/images/DB-f19img12_jpg.rf.62d0bdfb654eb2c734aba1f38b7f63de.jpg: ignoring corrupt image/label: Label class 1786 exceeds dataset class count 1. Possible class labels are 0-0\n",
            "\u001b[34m\u001b[1mtrain: \u001b[0mWARNING ⚠️ /content/Scence-Text-Detection-4/train/images/DB-f19img13_jpg.rf.313eb98939b99fe43fa3b4b080982006.jpg: ignoring corrupt image/label: Label class 467 exceeds dataset class count 1. Possible class labels are 0-0\n",
            "\u001b[34m\u001b[1mtrain: \u001b[0mWARNING ⚠️ /content/Scence-Text-Detection-4/train/images/DB-f19img16_jpg.rf.e181b804d103fa997fe9c2cb7fe2d485.jpg: ignoring corrupt image/label: Label class 396 exceeds dataset class count 1. Possible class labels are 0-0\n",
            "\u001b[34m\u001b[1mtrain: \u001b[0mWARNING ⚠️ /content/Scence-Text-Detection-4/train/images/DB-f19img18_jpg.rf.f1f4083974e2577ee2b57ae76fc9de57.jpg: ignoring corrupt image/label: Label class 2018 exceeds dataset class count 1. Possible class labels are 0-0\n",
            "\u001b[34m\u001b[1mtrain: \u001b[0mWARNING ⚠️ /content/Scence-Text-Detection-4/train/images/DB-f19img19_jpg.rf.8489b1881f965b9ec626aa0586183e6a.jpg: ignoring corrupt image/label: Label class 439 exceeds dataset class count 1. Possible class labels are 0-0\n",
            "\u001b[34m\u001b[1mtrain: \u001b[0mWARNING ⚠️ /content/Scence-Text-Detection-4/train/images/DB-f19img20_jpg.rf.f8d0cec285416dd30f9f4300c14d30a7.jpg: ignoring corrupt image/label: Label class 521 exceeds dataset class count 1. Possible class labels are 0-0\n",
            "\u001b[34m\u001b[1mtrain: \u001b[0mWARNING ⚠️ /content/Scence-Text-Detection-4/train/images/DB-f19img3_jpg.rf.2af437cf65fbafe3a8c035e89cb8f936.jpg: ignoring corrupt image/label: Label class 1964 exceeds dataset class count 1. Possible class labels are 0-0\n",
            "\u001b[34m\u001b[1mtrain: \u001b[0mWARNING ⚠️ /content/Scence-Text-Detection-4/train/images/DB-f19img8_jpg.rf.4c9dce9fdf284c84d96e43272f7d4bbe.jpg: ignoring corrupt image/label: Label class 1748 exceeds dataset class count 1. Possible class labels are 0-0\n",
            "\u001b[34m\u001b[1mtrain: \u001b[0mWARNING ⚠️ /content/Scence-Text-Detection-4/train/images/DB-f1img12_jpg.rf.08dfd8925463fc7c0a41a53b7d52ba59.jpg: ignoring corrupt image/label: Label class 1938 exceeds dataset class count 1. Possible class labels are 0-0\n",
            "\u001b[34m\u001b[1mtrain: \u001b[0mWARNING ⚠️ /content/Scence-Text-Detection-4/train/images/DB-f1img15_jpg.rf.fa9a4d766a6db81b4845dcbe558d7e6f.jpg: ignoring corrupt image/label: Label class 1950 exceeds dataset class count 1. Possible class labels are 0-0\n",
            "\u001b[34m\u001b[1mtrain: \u001b[0mWARNING ⚠️ /content/Scence-Text-Detection-4/train/images/DB-f1img17_jpg.rf.713b437275de5889950451958d9939a1.jpg: ignoring corrupt image/label: Label class 7 exceeds dataset class count 1. Possible class labels are 0-0\n",
            "\u001b[34m\u001b[1mtrain: \u001b[0mWARNING ⚠️ /content/Scence-Text-Detection-4/train/images/DB-f1img19_jpg.rf.e6f5e72b69cab60cf7c03929e44a60aa.jpg: ignoring corrupt image/label: Label class 1923 exceeds dataset class count 1. Possible class labels are 0-0\n",
            "\u001b[34m\u001b[1mtrain: \u001b[0mWARNING ⚠️ /content/Scence-Text-Detection-4/train/images/DB-f1img1_jpg.rf.6fe0dc6ffa73ea864e2d8f914b3679a8.jpg: ignoring corrupt image/label: Label class 226 exceeds dataset class count 1. Possible class labels are 0-0\n",
            "\u001b[34m\u001b[1mtrain: \u001b[0mWARNING ⚠️ /content/Scence-Text-Detection-4/train/images/DB-f1img2_jpg.rf.ae9c227b5853c6d00c5df311304b7eac.jpg: ignoring corrupt image/label: Label class 1892 exceeds dataset class count 1. Possible class labels are 0-0\n",
            "\u001b[34m\u001b[1mtrain: \u001b[0mWARNING ⚠️ /content/Scence-Text-Detection-4/train/images/DB-f20img10_jpg.rf.efbeb9c4e9811d71b150d452ad85b272.jpg: ignoring corrupt image/label: Label class 521 exceeds dataset class count 1. Possible class labels are 0-0\n",
            "\u001b[34m\u001b[1mtrain: \u001b[0mWARNING ⚠️ /content/Scence-Text-Detection-4/train/images/DB-f20img12_jpg.rf.ba26da0664d058fc21e3a443f0ef12d0.jpg: ignoring corrupt image/label: Label class 407 exceeds dataset class count 1. Possible class labels are 0-0\n",
            "\u001b[34m\u001b[1mtrain: \u001b[0mWARNING ⚠️ /content/Scence-Text-Detection-4/train/images/DB-f20img13_jpg.rf.a8afa926b1df64aa9788fb5f7289ff46.jpg: ignoring corrupt image/label: Label class 2061 exceeds dataset class count 1. Possible class labels are 0-0\n",
            "\u001b[34m\u001b[1mtrain: \u001b[0mWARNING ⚠️ /content/Scence-Text-Detection-4/train/images/DB-f20img14_jpg.rf.442d74b8581407615a201e6ec486973c.jpg: ignoring corrupt image/label: Label class 439 exceeds dataset class count 1. Possible class labels are 0-0\n",
            "\u001b[34m\u001b[1mtrain: \u001b[0mWARNING ⚠️ /content/Scence-Text-Detection-4/train/images/DB-f20img16_jpg.rf.ea20e2d0957a3ae10209028cc8ba8db1.jpg: ignoring corrupt image/label: Label class 1971 exceeds dataset class count 1. Possible class labels are 0-0\n",
            "\u001b[34m\u001b[1mtrain: \u001b[0mWARNING ⚠️ /content/Scence-Text-Detection-4/train/images/DB-f20img18_jpg.rf.7f3006a8e045cbfa6ac394c6e3a022f2.jpg: ignoring corrupt image/label: Label class 439 exceeds dataset class count 1. Possible class labels are 0-0\n",
            "\u001b[34m\u001b[1mtrain: \u001b[0mWARNING ⚠️ /content/Scence-Text-Detection-4/train/images/DB-f20img1_jpg.rf.be38f39e15b27d322d95fb1b15dd7dab.jpg: ignoring corrupt image/label: Label class 521 exceeds dataset class count 1. Possible class labels are 0-0\n",
            "\u001b[34m\u001b[1mtrain: \u001b[0mWARNING ⚠️ /content/Scence-Text-Detection-4/train/images/DB-f20img3_jpg.rf.7edd6935a2464a72295e302a200e08f4.jpg: ignoring corrupt image/label: Label class 1971 exceeds dataset class count 1. Possible class labels are 0-0\n",
            "\u001b[34m\u001b[1mtrain: \u001b[0mWARNING ⚠️ /content/Scence-Text-Detection-4/train/images/DB-f20img5_jpg.rf.8e283cac4ba29e78d6dc9b55c877a501.jpg: ignoring corrupt image/label: Label class 439 exceeds dataset class count 1. Possible class labels are 0-0\n",
            "\u001b[34m\u001b[1mtrain: \u001b[0mWARNING ⚠️ /content/Scence-Text-Detection-4/train/images/DB-f20img6_jpg.rf.0f2b5b36ae3e3ce7d4d2e51f8b51959f.jpg: ignoring corrupt image/label: Label class 521 exceeds dataset class count 1. Possible class labels are 0-0\n",
            "\u001b[34m\u001b[1mtrain: \u001b[0mWARNING ⚠️ /content/Scence-Text-Detection-4/train/images/DB-f20img8_jpg.rf.2a40436c2a1a0a6754aec4a6e7fe492f.jpg: ignoring corrupt image/label: Label class 1829 exceeds dataset class count 1. Possible class labels are 0-0\n",
            "\u001b[34m\u001b[1mtrain: \u001b[0mWARNING ⚠️ /content/Scence-Text-Detection-4/train/images/DB-f20img9_jpg.rf.5e86995e05e696963a39ce330b5f42c8.jpg: ignoring corrupt image/label: Label class 439 exceeds dataset class count 1. Possible class labels are 0-0\n",
            "\u001b[34m\u001b[1mtrain: \u001b[0mWARNING ⚠️ /content/Scence-Text-Detection-4/train/images/DB-f21img11_jpg.rf.0508a3d0263feb59240ef26ab05f858a.jpg: ignoring corrupt image/label: Label class 421 exceeds dataset class count 1. Possible class labels are 0-0\n",
            "\u001b[34m\u001b[1mtrain: \u001b[0mWARNING ⚠️ /content/Scence-Text-Detection-4/train/images/DB-f21img16_jpg.rf.5a6cc5d66701c9e927e8b03deefc72bb.jpg: ignoring corrupt image/label: Label class 439 exceeds dataset class count 1. Possible class labels are 0-0\n",
            "\u001b[34m\u001b[1mtrain: \u001b[0mWARNING ⚠️ /content/Scence-Text-Detection-4/train/images/DB-f21img18_jpg.rf.e2df4081b55c8ea47184650e26a27d66.jpg: ignoring corrupt image/label: Label class 439 exceeds dataset class count 1. Possible class labels are 0-0\n",
            "\u001b[34m\u001b[1mtrain: \u001b[0mWARNING ⚠️ /content/Scence-Text-Detection-4/train/images/DB-f21img19_jpg.rf.1292faf28c11415899c1d29a6baee72e.jpg: ignoring corrupt image/label: Label class 1823 exceeds dataset class count 1. Possible class labels are 0-0\n",
            "\u001b[34m\u001b[1mtrain: \u001b[0mWARNING ⚠️ /content/Scence-Text-Detection-4/train/images/DB-f21img1_jpg.rf.32a32e8931fc14d0490e14a144a4fab4.jpg: ignoring corrupt image/label: Label class 433 exceeds dataset class count 1. Possible class labels are 0-0\n",
            "\u001b[34m\u001b[1mtrain: \u001b[0mWARNING ⚠️ /content/Scence-Text-Detection-4/train/images/DB-f21img2_jpg.rf.18e41d3850b468619e5da92216e82273.jpg: ignoring corrupt image/label: Label class 2009 exceeds dataset class count 1. Possible class labels are 0-0\n",
            "\u001b[34m\u001b[1mtrain: \u001b[0mWARNING ⚠️ /content/Scence-Text-Detection-4/train/images/DB-f21img5_jpg.rf.6924a339de846066a474be3bbd7f5b78.jpg: ignoring corrupt image/label: Label class 439 exceeds dataset class count 1. Possible class labels are 0-0\n",
            "\u001b[34m\u001b[1mtrain: \u001b[0mWARNING ⚠️ /content/Scence-Text-Detection-4/train/images/DB-f21img6_jpg.rf.b15e67c198d91e359eaf7768a463aaad.jpg: ignoring corrupt image/label: Label class 300 exceeds dataset class count 1. Possible class labels are 0-0\n",
            "\u001b[34m\u001b[1mtrain: \u001b[0mWARNING ⚠️ /content/Scence-Text-Detection-4/train/images/DB-f21img8_jpg.rf.02367d0c783c93aa9b92d0fa90c5e6a6.jpg: ignoring corrupt image/label: Label class 2013 exceeds dataset class count 1. Possible class labels are 0-0\n",
            "\u001b[34m\u001b[1mtrain: \u001b[0mWARNING ⚠️ /content/Scence-Text-Detection-4/train/images/DB-f22img10_jpg.rf.4811f87ec259d6b25bd2edc36004f7ee.jpg: ignoring corrupt image/label: Label class 1964 exceeds dataset class count 1. Possible class labels are 0-0\n",
            "\u001b[34m\u001b[1mtrain: \u001b[0mWARNING ⚠️ /content/Scence-Text-Detection-4/train/images/DB-f22img13_jpg.rf.98c076dd7c07580e690e59676df765c7.jpg: ignoring corrupt image/label: Label class 2067 exceeds dataset class count 1. Possible class labels are 0-0\n",
            "\u001b[34m\u001b[1mtrain: \u001b[0mWARNING ⚠️ /content/Scence-Text-Detection-4/train/images/DB-f22img16_jpg.rf.07fe82318b7f512753a0a9d123d5422c.jpg: ignoring corrupt image/label: Label class 518 exceeds dataset class count 1. Possible class labels are 0-0\n",
            "\u001b[34m\u001b[1mtrain: \u001b[0mWARNING ⚠️ /content/Scence-Text-Detection-4/train/images/DB-f22img17_jpg.rf.af0acbdaafd6749213980df699b8f5d0.jpg: ignoring corrupt image/label: Label class 169 exceeds dataset class count 1. Possible class labels are 0-0\n",
            "\u001b[34m\u001b[1mtrain: \u001b[0mWARNING ⚠️ /content/Scence-Text-Detection-4/train/images/DB-f22img18_jpg.rf.d1da2870ea74d94649544f9953392d59.jpg: ignoring corrupt image/label: Label class 301 exceeds dataset class count 1. Possible class labels are 0-0\n",
            "\u001b[34m\u001b[1mtrain: \u001b[0mWARNING ⚠️ /content/Scence-Text-Detection-4/train/images/DB-f22img19_jpg.rf.1ee691e159ed77c1d89ccbf473044c79.jpg: ignoring corrupt image/label: Label class 407 exceeds dataset class count 1. Possible class labels are 0-0\n",
            "\u001b[34m\u001b[1mtrain: \u001b[0mWARNING ⚠️ /content/Scence-Text-Detection-4/train/images/DB-f22img20_jpg.rf.64b3190948f89aabb382899b53d9e7c2.jpg: ignoring corrupt image/label: Label class 2110 exceeds dataset class count 1. Possible class labels are 0-0\n",
            "\u001b[34m\u001b[1mtrain: \u001b[0mWARNING ⚠️ /content/Scence-Text-Detection-4/train/images/DB-f22img4_jpg.rf.37ab0821a0afcc5474a30ec7764b54d1.jpg: ignoring corrupt image/label: Label class 1944 exceeds dataset class count 1. Possible class labels are 0-0\n",
            "\u001b[34m\u001b[1mtrain: \u001b[0mWARNING ⚠️ /content/Scence-Text-Detection-4/train/images/DB-f22img8_jpg.rf.b9ef55bc3be6ffdf3ca22a8b4940a206.jpg: ignoring corrupt image/label: Label class 1827 exceeds dataset class count 1. Possible class labels are 0-0\n",
            "\u001b[34m\u001b[1mtrain: \u001b[0mWARNING ⚠️ /content/Scence-Text-Detection-4/train/images/DB-f23img10_jpg.rf.206cdc4418b31452dfd9cc6a80657b4b.jpg: ignoring corrupt image/label: Label class 2061 exceeds dataset class count 1. Possible class labels are 0-0\n",
            "\u001b[34m\u001b[1mtrain: \u001b[0mWARNING ⚠️ /content/Scence-Text-Detection-4/train/images/DB-f23img12_jpg.rf.47145a67224d8d8d7e08d8ffeaeb6cfc.jpg: ignoring corrupt image/label: Label class 453 exceeds dataset class count 1. Possible class labels are 0-0\n",
            "\u001b[34m\u001b[1mtrain: \u001b[0mWARNING ⚠️ /content/Scence-Text-Detection-4/train/images/DB-f23img18_jpg.rf.03087c34b0182cf7c24805e40968fc95.jpg: ignoring corrupt image/label: Label class 1836 exceeds dataset class count 1. Possible class labels are 0-0\n",
            "\u001b[34m\u001b[1mtrain: \u001b[0mWARNING ⚠️ /content/Scence-Text-Detection-4/train/images/DB-f23img1_jpg.rf.1f3743da136dabe6e33a50009e609dce.jpg: ignoring corrupt image/label: Label class 1945 exceeds dataset class count 1. Possible class labels are 0-0\n",
            "\u001b[34m\u001b[1mtrain: \u001b[0mWARNING ⚠️ /content/Scence-Text-Detection-4/train/images/DB-f23img2_jpg.rf.be0034995384fabced2226ae0e36aeca.jpg: ignoring corrupt image/label: Label class 2068 exceeds dataset class count 1. Possible class labels are 0-0\n",
            "\u001b[34m\u001b[1mtrain: \u001b[0mWARNING ⚠️ /content/Scence-Text-Detection-4/train/images/DB-f23img4_jpg.rf.0f58ee15947753700e7f7799a21d6b0b.jpg: ignoring corrupt image/label: Label class 2119 exceeds dataset class count 1. Possible class labels are 0-0\n",
            "\u001b[34m\u001b[1mtrain: \u001b[0mWARNING ⚠️ /content/Scence-Text-Detection-4/train/images/DB-f23img5_jpg.rf.9574f2d2528a02d738487dde2ce18fcd.jpg: ignoring corrupt image/label: Label class 336 exceeds dataset class count 1. Possible class labels are 0-0\n",
            "\u001b[34m\u001b[1mtrain: \u001b[0mWARNING ⚠️ /content/Scence-Text-Detection-4/train/images/DB-f23img6_jpg.rf.fc83122cb81487e6559985ba2856c498.jpg: ignoring corrupt image/label: Label class 1827 exceeds dataset class count 1. Possible class labels are 0-0\n",
            "\u001b[34m\u001b[1mtrain: \u001b[0mWARNING ⚠️ /content/Scence-Text-Detection-4/train/images/DB-f23img7_jpg.rf.01edfd7b682b62c6734ed2dc57a69395.jpg: ignoring corrupt image/label: Label class 1651 exceeds dataset class count 1. Possible class labels are 0-0\n",
            "\u001b[34m\u001b[1mtrain: \u001b[0mWARNING ⚠️ /content/Scence-Text-Detection-4/train/images/DB-f23img9_jpg.rf.ef5c81a20b5af8e2a0bc35db3671724a.jpg: ignoring corrupt image/label: Label class 413 exceeds dataset class count 1. Possible class labels are 0-0\n",
            "\u001b[34m\u001b[1mtrain: \u001b[0mWARNING ⚠️ /content/Scence-Text-Detection-4/train/images/DB-f24img10_jpg.rf.50c15394a5dfbff55ee31deac3ba7954.jpg: ignoring corrupt image/label: Label class 1836 exceeds dataset class count 1. Possible class labels are 0-0\n",
            "\u001b[34m\u001b[1mtrain: \u001b[0mWARNING ⚠️ /content/Scence-Text-Detection-4/train/images/DB-f24img12_jpg.rf.95cb1631d15d37dbb7b6eb5ccb3fbe7e.jpg: ignoring corrupt image/label: Label class 2052 exceeds dataset class count 1. Possible class labels are 0-0\n",
            "\u001b[34m\u001b[1mtrain: \u001b[0mWARNING ⚠️ /content/Scence-Text-Detection-4/train/images/DB-f24img2_jpg.rf.8ca74616d4c1603443e578d1c292da4c.jpg: ignoring corrupt image/label: Label class 407 exceeds dataset class count 1. Possible class labels are 0-0\n",
            "\u001b[34m\u001b[1mtrain: \u001b[0mWARNING ⚠️ /content/Scence-Text-Detection-4/train/images/DB-f24img5_jpg.rf.518921f2bb4b89e535cc0f6cf24316aa.jpg: ignoring corrupt image/label: Label class 1977 exceeds dataset class count 1. Possible class labels are 0-0\n",
            "\u001b[34m\u001b[1mtrain: \u001b[0mWARNING ⚠️ /content/Scence-Text-Detection-4/train/images/DB-f24img6_jpg.rf.f19e5049e971e122a0cda709ddf84161.jpg: ignoring corrupt image/label: Label class 407 exceeds dataset class count 1. Possible class labels are 0-0\n",
            "\u001b[34m\u001b[1mtrain: \u001b[0mWARNING ⚠️ /content/Scence-Text-Detection-4/train/images/DB-f24img8_jpg.rf.5806e3b2fade636965e5f864547039fe.jpg: ignoring corrupt image/label: Label class 2014 exceeds dataset class count 1. Possible class labels are 0-0\n",
            "\u001b[34m\u001b[1mtrain: \u001b[0mWARNING ⚠️ /content/Scence-Text-Detection-4/train/images/DB-f25img12_jpg.rf.52055bc09ef395e8c3f8490303555e8c.jpg: ignoring corrupt image/label: Label class 431 exceeds dataset class count 1. Possible class labels are 0-0\n",
            "\u001b[34m\u001b[1mtrain: \u001b[0mWARNING ⚠️ /content/Scence-Text-Detection-4/train/images/DB-f25img14_jpg.rf.2649042dcab908f487f196fa53a81494.jpg: ignoring corrupt image/label: Label class 440 exceeds dataset class count 1. Possible class labels are 0-0\n",
            "\u001b[34m\u001b[1mtrain: \u001b[0mWARNING ⚠️ /content/Scence-Text-Detection-4/train/images/DB-f25img4_jpg.rf.7064d93fe232fec577cddb4406170654.jpg: ignoring corrupt image/label: Label class 407 exceeds dataset class count 1. Possible class labels are 0-0\n",
            "\u001b[34m\u001b[1mtrain: \u001b[0mWARNING ⚠️ /content/Scence-Text-Detection-4/train/images/DB-f2img10_jpg.rf.e61786bef698b72b0fe36df9e4be7c98.jpg: ignoring corrupt image/label: Label class 329 exceeds dataset class count 1. Possible class labels are 0-0\n",
            "\u001b[34m\u001b[1mtrain: \u001b[0mWARNING ⚠️ /content/Scence-Text-Detection-4/train/images/DB-f2img12_jpg.rf.950b1ac7ed727bd1feceed9d66f61609.jpg: ignoring corrupt image/label: Label class 1821 exceeds dataset class count 1. Possible class labels are 0-0\n",
            "\u001b[34m\u001b[1mtrain: \u001b[0mWARNING ⚠️ /content/Scence-Text-Detection-4/train/images/DB-f2img13_jpg.rf.d77645c6b6152f3d7994ab86ffa9d920.jpg: ignoring corrupt image/label: Label class 152 exceeds dataset class count 1. Possible class labels are 0-0\n",
            "\u001b[34m\u001b[1mtrain: \u001b[0mWARNING ⚠️ /content/Scence-Text-Detection-4/train/images/DB-f2img15_jpg.rf.81856d2c828c0ec7af9e87184fae1d87.jpg: ignoring corrupt image/label: Label class 226 exceeds dataset class count 1. Possible class labels are 0-0\n",
            "\u001b[34m\u001b[1mtrain: \u001b[0mWARNING ⚠️ /content/Scence-Text-Detection-4/train/images/DB-f2img16_jpg.rf.03d64ce8ee0c75c0d843d9200f4e1d67.jpg: ignoring corrupt image/label: Label class 213 exceeds dataset class count 1. Possible class labels are 0-0\n",
            "\u001b[34m\u001b[1mtrain: \u001b[0mWARNING ⚠️ /content/Scence-Text-Detection-4/train/images/DB-f2img17_jpg.rf.d7202b48159634d2cadec0237f78c9f8.jpg: ignoring corrupt image/label: Label class 227 exceeds dataset class count 1. Possible class labels are 0-0\n",
            "\u001b[34m\u001b[1mtrain: \u001b[0mWARNING ⚠️ /content/Scence-Text-Detection-4/train/images/DB-f2img18_jpg.rf.3bb827cd798eb6f7a7d6a8acf54f01eb.jpg: ignoring corrupt image/label: Label class 226 exceeds dataset class count 1. Possible class labels are 0-0\n",
            "\u001b[34m\u001b[1mtrain: \u001b[0mWARNING ⚠️ /content/Scence-Text-Detection-4/train/images/DB-f2img2_jpg.rf.b73a3232f138988b07a554538af12851.jpg: ignoring corrupt image/label: Label class 439 exceeds dataset class count 1. Possible class labels are 0-0\n",
            "\u001b[34m\u001b[1mtrain: \u001b[0mWARNING ⚠️ /content/Scence-Text-Detection-4/train/images/DB-f2img6_jpg.rf.9b635e9f50da1314f6b5800440d57e51.jpg: ignoring corrupt image/label: Label class 2199 exceeds dataset class count 1. Possible class labels are 0-0\n",
            "\u001b[34m\u001b[1mtrain: \u001b[0mWARNING ⚠️ /content/Scence-Text-Detection-4/train/images/DB-f2img7_jpg.rf.13132379ab39e48786790cb74f7a8ff2.jpg: ignoring corrupt image/label: Label class 41 exceeds dataset class count 1. Possible class labels are 0-0\n",
            "\u001b[34m\u001b[1mtrain: \u001b[0mWARNING ⚠️ /content/Scence-Text-Detection-4/train/images/DB-f2img9_jpg.rf.a4f144aa9be8f38e122d0c2cdbfb3234.jpg: ignoring corrupt image/label: Label class 2066 exceeds dataset class count 1. Possible class labels are 0-0\n",
            "\u001b[34m\u001b[1mtrain: \u001b[0mWARNING ⚠️ /content/Scence-Text-Detection-4/train/images/DB-f3img11_jpg.rf.8131cc1fbb1852db11cbf3cea7278fa9.jpg: ignoring corrupt image/label: Label class 410 exceeds dataset class count 1. Possible class labels are 0-0\n",
            "\u001b[34m\u001b[1mtrain: \u001b[0mWARNING ⚠️ /content/Scence-Text-Detection-4/train/images/DB-f3img17_jpg.rf.4de406e9dfae854c1b131cfbeca06d14.jpg: ignoring corrupt image/label: Label class 352 exceeds dataset class count 1. Possible class labels are 0-0\n",
            "\u001b[34m\u001b[1mtrain: \u001b[0mWARNING ⚠️ /content/Scence-Text-Detection-4/train/images/DB-f3img1_jpg.rf.115f52ecf595233b6825a89ed916e0fe.jpg: ignoring corrupt image/label: Label class 141 exceeds dataset class count 1. Possible class labels are 0-0\n",
            "\u001b[34m\u001b[1mtrain: \u001b[0mWARNING ⚠️ /content/Scence-Text-Detection-4/train/images/DB-f3img4_jpg.rf.e8be5a9e926b96eb09f482c2ab911f61.jpg: ignoring corrupt image/label: Label class 1788 exceeds dataset class count 1. Possible class labels are 0-0\n",
            "\u001b[34m\u001b[1mtrain: \u001b[0mWARNING ⚠️ /content/Scence-Text-Detection-4/train/images/DB-f3img6_jpg.rf.4f56d70e712456ef15dfd1bc680688b7.jpg: ignoring corrupt image/label: Label class 2066 exceeds dataset class count 1. Possible class labels are 0-0\n",
            "\u001b[34m\u001b[1mtrain: \u001b[0mWARNING ⚠️ /content/Scence-Text-Detection-4/train/images/DB-f3img9_jpg.rf.1bf7c6f72817dc6423af4bd2c0161b07.jpg: ignoring corrupt image/label: Label class 314 exceeds dataset class count 1. Possible class labels are 0-0\n",
            "\u001b[34m\u001b[1mtrain: \u001b[0mWARNING ⚠️ /content/Scence-Text-Detection-4/train/images/DB-f4img14_jpg.rf.54992d4ab118be6761d005d517cb0435.jpg: ignoring corrupt image/label: Label class 1813 exceeds dataset class count 1. Possible class labels are 0-0\n",
            "\u001b[34m\u001b[1mtrain: \u001b[0mWARNING ⚠️ /content/Scence-Text-Detection-4/train/images/DB-f4img15_jpg.rf.cdbb619a6f064983157864467cf5d9c4.jpg: ignoring corrupt image/label: Label class 1490 exceeds dataset class count 1. Possible class labels are 0-0\n",
            "\u001b[34m\u001b[1mtrain: \u001b[0mWARNING ⚠️ /content/Scence-Text-Detection-4/train/images/DB-f4img6_jpg.rf.e1420f26a142af8fadfba2f3572ce7d4.jpg: ignoring corrupt image/label: Label class 1695 exceeds dataset class count 1. Possible class labels are 0-0\n",
            "\u001b[34m\u001b[1mtrain: \u001b[0mWARNING ⚠️ /content/Scence-Text-Detection-4/train/images/DB-f5img17_jpg.rf.c7165e26f8d816212d8fb5ee607b24b1.jpg: ignoring corrupt image/label: Label class 307 exceeds dataset class count 1. Possible class labels are 0-0\n",
            "\u001b[34m\u001b[1mtrain: \u001b[0mWARNING ⚠️ /content/Scence-Text-Detection-4/train/images/DB-f5img18_jpg.rf.2b0b5e74f96910e946d712661042be24.jpg: ignoring corrupt image/label: Label class 348 exceeds dataset class count 1. Possible class labels are 0-0\n",
            "\u001b[34m\u001b[1mtrain: \u001b[0mWARNING ⚠️ /content/Scence-Text-Detection-4/train/images/DB-f5img19_jpg.rf.3f82ba4d1ffa1dd44799b28824ffc7b9.jpg: ignoring corrupt image/label: Label class 337 exceeds dataset class count 1. Possible class labels are 0-0\n",
            "\u001b[34m\u001b[1mtrain: \u001b[0mWARNING ⚠️ /content/Scence-Text-Detection-4/train/images/DB-f5img20_jpg.rf.ec993d0f30c3394228640fef01befbe9.jpg: ignoring corrupt image/label: Label class 330 exceeds dataset class count 1. Possible class labels are 0-0\n",
            "\u001b[34m\u001b[1mtrain: \u001b[0mWARNING ⚠️ /content/Scence-Text-Detection-4/train/images/DB-f6img10_jpg.rf.253997440c5d74d9255ad11abd0469cc.jpg: ignoring corrupt image/label: Label class 337 exceeds dataset class count 1. Possible class labels are 0-0\n",
            "\u001b[34m\u001b[1mtrain: \u001b[0mWARNING ⚠️ /content/Scence-Text-Detection-4/train/images/DB-f6img11_jpg.rf.badfd0c7e0b859f40194dcb03f7baf89.jpg: ignoring corrupt image/label: Label class 330 exceeds dataset class count 1. Possible class labels are 0-0\n",
            "\u001b[34m\u001b[1mtrain: \u001b[0mWARNING ⚠️ /content/Scence-Text-Detection-4/train/images/DB-f6img12_jpg.rf.fb9fb999b608399cb28460a998b77bbb.jpg: ignoring corrupt image/label: Label class 1493 exceeds dataset class count 1. Possible class labels are 0-0\n",
            "\u001b[34m\u001b[1mtrain: \u001b[0mWARNING ⚠️ /content/Scence-Text-Detection-4/train/images/DB-f6img14_jpg.rf.a76f4554183ea25767978e957d066342.jpg: ignoring corrupt image/label: Label class 1804 exceeds dataset class count 1. Possible class labels are 0-0\n",
            "\u001b[34m\u001b[1mtrain: \u001b[0mWARNING ⚠️ /content/Scence-Text-Detection-4/train/images/DB-f6img17_jpg.rf.49e9ecefdbffb54fac80fd73edf88965.jpg: ignoring corrupt image/label: Label class 380 exceeds dataset class count 1. Possible class labels are 0-0\n",
            "\u001b[34m\u001b[1mtrain: \u001b[0mWARNING ⚠️ /content/Scence-Text-Detection-4/train/images/DB-f6img1_jpg.rf.62d1cd6a4f4789412d6ae03c83b64c6b.jpg: ignoring corrupt image/label: Label class 1428 exceeds dataset class count 1. Possible class labels are 0-0\n",
            "\u001b[34m\u001b[1mtrain: \u001b[0mWARNING ⚠️ /content/Scence-Text-Detection-4/train/images/DB-f6img2_jpg.rf.c21ffb7961ab91e1f2a90cdd54b5c27a.jpg: ignoring corrupt image/label: Label class 398 exceeds dataset class count 1. Possible class labels are 0-0\n",
            "\u001b[34m\u001b[1mtrain: \u001b[0mWARNING ⚠️ /content/Scence-Text-Detection-4/train/images/DB-f6img4_jpg.rf.54894cd11d89423ef28e3b2f61bcd5bd.jpg: ignoring corrupt image/label: Label class 337 exceeds dataset class count 1. Possible class labels are 0-0\n",
            "\u001b[34m\u001b[1mtrain: \u001b[0mWARNING ⚠️ /content/Scence-Text-Detection-4/train/images/DB-f6img5_jpg.rf.f828cd8c2b187ba60433664b0368ee73.jpg: ignoring corrupt image/label: Label class 411 exceeds dataset class count 1. Possible class labels are 0-0\n",
            "\u001b[34m\u001b[1mtrain: \u001b[0mWARNING ⚠️ /content/Scence-Text-Detection-4/train/images/DB-f6img6_jpg.rf.d02c04d979c2412a4858016283b91afd.jpg: ignoring corrupt image/label: Label class 330 exceeds dataset class count 1. Possible class labels are 0-0\n",
            "\u001b[34m\u001b[1mtrain: \u001b[0mWARNING ⚠️ /content/Scence-Text-Detection-4/train/images/DB-f6img8_jpg.rf.8d66d16410f12434d9e3265e779dfca0.jpg: ignoring corrupt image/label: Label class 482 exceeds dataset class count 1. Possible class labels are 0-0\n",
            "\u001b[34m\u001b[1mtrain: \u001b[0mWARNING ⚠️ /content/Scence-Text-Detection-4/train/images/DB-f7img11_jpg.rf.4c131f27e741c6edec80392a0b04a958.jpg: ignoring corrupt image/label: Label class 1826 exceeds dataset class count 1. Possible class labels are 0-0\n",
            "\u001b[34m\u001b[1mtrain: \u001b[0mWARNING ⚠️ /content/Scence-Text-Detection-4/train/images/DB-f7img12_jpg.rf.0fce36ac1d074352bd1e689f6b4f1d75.jpg: ignoring corrupt image/label: Label class 439 exceeds dataset class count 1. Possible class labels are 0-0\n",
            "\u001b[34m\u001b[1mtrain: \u001b[0mWARNING ⚠️ /content/Scence-Text-Detection-4/train/images/DB-f7img18_jpg.rf.ad565f13ac700d7e61b53291d7a374a2.jpg: ignoring corrupt image/label: Label class 1892 exceeds dataset class count 1. Possible class labels are 0-0\n",
            "\u001b[34m\u001b[1mtrain: \u001b[0mWARNING ⚠️ /content/Scence-Text-Detection-4/train/images/DB-f7img1_jpg.rf.01c434f7e3ff1289f60bdd2a9dd632dd.jpg: ignoring corrupt image/label: Label class 337 exceeds dataset class count 1. Possible class labels are 0-0\n",
            "\u001b[34m\u001b[1mtrain: \u001b[0mWARNING ⚠️ /content/Scence-Text-Detection-4/train/images/DB-f7img3_jpg.rf.6d7cecad8facaa51366cb97905e9fd77.jpg: ignoring corrupt image/label: Label class 142 exceeds dataset class count 1. Possible class labels are 0-0\n",
            "\u001b[34m\u001b[1mtrain: \u001b[0mWARNING ⚠️ /content/Scence-Text-Detection-4/train/images/DB-f7img7_jpg.rf.849f207a9810510d2ed8b46de8da84b1.jpg: ignoring corrupt image/label: Label class 2083 exceeds dataset class count 1. Possible class labels are 0-0\n",
            "\u001b[34m\u001b[1mtrain: \u001b[0mWARNING ⚠️ /content/Scence-Text-Detection-4/train/images/DB-f7img8_jpg.rf.e0d1b66567260f46adf4e05f651d1b3e.jpg: ignoring corrupt image/label: Label class 1586 exceeds dataset class count 1. Possible class labels are 0-0\n",
            "\u001b[34m\u001b[1mtrain: \u001b[0mWARNING ⚠️ /content/Scence-Text-Detection-4/train/images/DB-f8img11_jpg.rf.513525518dc4df6fe7b02968ac781e52.jpg: ignoring corrupt image/label: Label class 1786 exceeds dataset class count 1. Possible class labels are 0-0\n",
            "\u001b[34m\u001b[1mtrain: \u001b[0mWARNING ⚠️ /content/Scence-Text-Detection-4/train/images/DB-f8img12_jpg.rf.9f43219dbd6b53a09fa59c9b03726711.jpg: ignoring corrupt image/label: Label class 1651 exceeds dataset class count 1. Possible class labels are 0-0\n",
            "\u001b[34m\u001b[1mtrain: \u001b[0mWARNING ⚠️ /content/Scence-Text-Detection-4/train/images/DB-f8img13_jpg.rf.fb4cb94f191a6e534d8cc6c426a36793.jpg: ignoring corrupt image/label: Label class 399 exceeds dataset class count 1. Possible class labels are 0-0\n",
            "\u001b[34m\u001b[1mtrain: \u001b[0mWARNING ⚠️ /content/Scence-Text-Detection-4/train/images/DB-f8img15_jpg.rf.dba16c3c72c1f17d4141a65a284e92f3.jpg: ignoring corrupt image/label: Label class 2118 exceeds dataset class count 1. Possible class labels are 0-0\n",
            "\u001b[34m\u001b[1mtrain: \u001b[0mWARNING ⚠️ /content/Scence-Text-Detection-4/train/images/DB-f8img16_jpg.rf.c7d3af47920df88b866237ab152ee7a7.jpg: ignoring corrupt image/label: Label class 360 exceeds dataset class count 1. Possible class labels are 0-0\n",
            "\u001b[34m\u001b[1mtrain: \u001b[0mWARNING ⚠️ /content/Scence-Text-Detection-4/train/images/DB-f8img18_jpg.rf.161208c4879ec07975104eaf5c7c5074.jpg: ignoring corrupt image/label: Label class 468 exceeds dataset class count 1. Possible class labels are 0-0\n",
            "\u001b[34m\u001b[1mtrain: \u001b[0mWARNING ⚠️ /content/Scence-Text-Detection-4/train/images/DB-f8img19_jpg.rf.4134e37ccb5254e1440492e853181522.jpg: ignoring corrupt image/label: Label class 347 exceeds dataset class count 1. Possible class labels are 0-0\n",
            "\u001b[34m\u001b[1mtrain: \u001b[0mWARNING ⚠️ /content/Scence-Text-Detection-4/train/images/DB-f8img2_jpg.rf.c27bd082fc1c01aa0605cbc7528c69de.jpg: ignoring corrupt image/label: Label class 1198 exceeds dataset class count 1. Possible class labels are 0-0\n",
            "\u001b[34m\u001b[1mtrain: \u001b[0mWARNING ⚠️ /content/Scence-Text-Detection-4/train/images/DB-f8img9_jpg.rf.5459e07fb96b7b39cdef54d9de3c7c2a.jpg: ignoring corrupt image/label: Label class 1938 exceeds dataset class count 1. Possible class labels are 0-0\n",
            "\u001b[34m\u001b[1mtrain: \u001b[0mWARNING ⚠️ /content/Scence-Text-Detection-4/train/images/DB-f9img10_jpg.rf.749b0bcdead80fddbbe07185bd7fc301.jpg: ignoring corrupt image/label: Label class 2051 exceeds dataset class count 1. Possible class labels are 0-0\n",
            "\u001b[34m\u001b[1mtrain: \u001b[0mWARNING ⚠️ /content/Scence-Text-Detection-4/train/images/DB-f9img11_jpg.rf.1d4462a711e37b0dda3dbfc5ebf96add.jpg: ignoring corrupt image/label: Label class 300 exceeds dataset class count 1. Possible class labels are 0-0\n",
            "\u001b[34m\u001b[1mtrain: \u001b[0mWARNING ⚠️ /content/Scence-Text-Detection-4/train/images/DB-f9img12_jpg.rf.4e502f4088093c19a20e38e370122994.jpg: ignoring corrupt image/label: Label class 375 exceeds dataset class count 1. Possible class labels are 0-0\n",
            "\u001b[34m\u001b[1mtrain: \u001b[0mWARNING ⚠️ /content/Scence-Text-Detection-4/train/images/DB-f9img14_jpg.rf.53404d82cdd359e908af5512ee3299d2.jpg: ignoring corrupt image/label: Label class 421 exceeds dataset class count 1. Possible class labels are 0-0\n",
            "\u001b[34m\u001b[1mtrain: \u001b[0mWARNING ⚠️ /content/Scence-Text-Detection-4/train/images/DB-f9img15_jpg.rf.b8ad41e462aa216d0042f245d20b92ea.jpg: ignoring corrupt image/label: Label class 301 exceeds dataset class count 1. Possible class labels are 0-0\n",
            "\u001b[34m\u001b[1mtrain: \u001b[0mWARNING ⚠️ /content/Scence-Text-Detection-4/train/images/DB-f9img18_jpg.rf.61d596dcd0c010833428767c8366d367.jpg: ignoring corrupt image/label: Label class 365 exceeds dataset class count 1. Possible class labels are 0-0\n",
            "\u001b[34m\u001b[1mtrain: \u001b[0mWARNING ⚠️ /content/Scence-Text-Detection-4/train/images/DB-f9img19_jpg.rf.f942d5fa9fa671ef61af0c5f6e877ab1.jpg: ignoring corrupt image/label: Label class 1828 exceeds dataset class count 1. Possible class labels are 0-0\n",
            "\u001b[34m\u001b[1mtrain: \u001b[0mWARNING ⚠️ /content/Scence-Text-Detection-4/train/images/DB-f9img1_jpg.rf.7e2cdb9671740c21b151f4f2486e18b2.jpg: ignoring corrupt image/label: Label class 408 exceeds dataset class count 1. Possible class labels are 0-0\n",
            "\u001b[34m\u001b[1mtrain: \u001b[0mWARNING ⚠️ /content/Scence-Text-Detection-4/train/images/DB-f9img6_jpg.rf.f163834a4b528e41ab62f5a9e4a7aee7.jpg: ignoring corrupt image/label: Label class 1893 exceeds dataset class count 1. Possible class labels are 0-0\n",
            "\u001b[34m\u001b[1mtrain: \u001b[0mWARNING ⚠️ /content/Scence-Text-Detection-4/train/images/DB-f9img7_jpg.rf.7df90b7985b57ca91b87edfd20b8ccf4.jpg: ignoring corrupt image/label: Label class 1971 exceeds dataset class count 1. Possible class labels are 0-0\n",
            "\u001b[34m\u001b[1mtrain: \u001b[0mWARNING ⚠️ /content/Scence-Text-Detection-4/train/images/DB-f9img9_jpg.rf.0ce8c27cc5ba5010747f1b8ea7761a47.jpg: ignoring corrupt image/label: Label class 1882 exceeds dataset class count 1. Possible class labels are 0-0\n",
            "\u001b[34m\u001b[1mtrain: \u001b[0mWARNING ⚠️ /content/Scence-Text-Detection-4/train/images/Gen8Group4Noch252_jpg.rf.f50eea05cc59feef79a5019d16a34213.jpg: ignoring corrupt image/label: Label class 2282 exceeds dataset class count 1. Possible class labels are 0-0\n",
            "\u001b[34m\u001b[1mtrain: \u001b[0mWARNING ⚠️ /content/Scence-Text-Detection-4/train/images/Gen8Group4Noch254_jpg.rf.964e82efc2ac3430f3340203eb48bdf8.jpg: ignoring corrupt image/label: Label class 2 exceeds dataset class count 1. Possible class labels are 0-0\n",
            "\u001b[34m\u001b[1mtrain: \u001b[0mWARNING ⚠️ /content/Scence-Text-Detection-4/train/images/Gen8Group4Noch256_jpg.rf.28d0e5a3a20037867c6433448259ca56.jpg: ignoring corrupt image/label: Label class 1650 exceeds dataset class count 1. Possible class labels are 0-0\n",
            "\u001b[34m\u001b[1mtrain: \u001b[0mWARNING ⚠️ /content/Scence-Text-Detection-4/train/images/Gen8Group4Noch261_jpg.rf.cd9a6660adc795d14a3e25cc8b52cbf1.jpg: ignoring corrupt image/label: Label class 3 exceeds dataset class count 1. Possible class labels are 0-0\n",
            "\u001b[34m\u001b[1mtrain: \u001b[0mWARNING ⚠️ /content/Scence-Text-Detection-4/train/images/Gen8Group4Noch262_jpg.rf.4b090a236e24574e5b161cf500ffb89d.jpg: ignoring corrupt image/label: Label class 3 exceeds dataset class count 1. Possible class labels are 0-0\n",
            "\u001b[34m\u001b[1mtrain: \u001b[0mWARNING ⚠️ /content/Scence-Text-Detection-4/train/images/Gen8Group4Noch265_jpg.rf.9cef4f3a0da0bed7c45624a1cffc444a.jpg: ignoring corrupt image/label: Label class 5 exceeds dataset class count 1. Possible class labels are 0-0\n",
            "\u001b[34m\u001b[1mtrain: \u001b[0mWARNING ⚠️ /content/Scence-Text-Detection-4/train/images/Gen8Group4Noch269_jpg.rf.56f6437d78f600db9524817f5c06d694.jpg: ignoring corrupt image/label: Label class 2274 exceeds dataset class count 1. Possible class labels are 0-0\n",
            "\u001b[34m\u001b[1mtrain: \u001b[0mWARNING ⚠️ /content/Scence-Text-Detection-4/train/images/Gen8Group4Noch270_jpg.rf.6ddd65263359ef02170b037f729b861b.jpg: ignoring corrupt image/label: Label class 507 exceeds dataset class count 1. Possible class labels are 0-0\n",
            "\u001b[34m\u001b[1mtrain: \u001b[0mWARNING ⚠️ /content/Scence-Text-Detection-4/train/images/Gen8Group4Noch272_jpg.rf.03dd01002090df7eaddda7d189c3651d.jpg: ignoring corrupt image/label: Label class 2 exceeds dataset class count 1. Possible class labels are 0-0\n",
            "\u001b[34m\u001b[1mtrain: \u001b[0mWARNING ⚠️ /content/Scence-Text-Detection-4/train/images/Gen8Group4Noch276_jpg.rf.bc4463ecbffdad012f889b601d28d6a9.jpg: ignoring corrupt image/label: Label class 3 exceeds dataset class count 1. Possible class labels are 0-0\n",
            "\u001b[34m\u001b[1mtrain: \u001b[0mWARNING ⚠️ /content/Scence-Text-Detection-4/train/images/Gen8Group4Noch280_jpg.rf.b16be4aef808a08eb1845ef07ea30156.jpg: ignoring corrupt image/label: Label class 4 exceeds dataset class count 1. Possible class labels are 0-0\n",
            "\u001b[34m\u001b[1mtrain: \u001b[0mWARNING ⚠️ /content/Scence-Text-Detection-4/train/images/Gen8Group4Noch281_jpg.rf.a8649a52cedc9611be4945b00519d12d.jpg: ignoring corrupt image/label: Label class 2 exceeds dataset class count 1. Possible class labels are 0-0\n",
            "\u001b[34m\u001b[1mtrain: \u001b[0mWARNING ⚠️ /content/Scence-Text-Detection-4/train/images/Gen8Group4Noch284_jpg.rf.3605be9c2352834e008dc88170b04e93.jpg: ignoring corrupt image/label: Label class 2 exceeds dataset class count 1. Possible class labels are 0-0\n",
            "\u001b[34m\u001b[1mtrain: \u001b[0mWARNING ⚠️ /content/Scence-Text-Detection-4/train/images/Gen8Group4Noch288_jpg.rf.d04fb125c6e6ceca91a347c25f5e7064.jpg: ignoring corrupt image/label: Label class 2282 exceeds dataset class count 1. Possible class labels are 0-0\n",
            "\u001b[34m\u001b[1mtrain: \u001b[0mWARNING ⚠️ /content/Scence-Text-Detection-4/train/images/Gen8Group4Noch291_jpg.rf.df8679ad6d853f3656e2253df84a8da8.jpg: ignoring corrupt image/label: Label class 3 exceeds dataset class count 1. Possible class labels are 0-0\n",
            "\u001b[34m\u001b[1mtrain: \u001b[0mWARNING ⚠️ /content/Scence-Text-Detection-4/train/images/Gen8Group4Noch296_jpg.rf.0211abfd46259a8a33cbe259bab2c310.jpg: ignoring corrupt image/label: Label class 1952 exceeds dataset class count 1. Possible class labels are 0-0\n",
            "\u001b[34m\u001b[1mtrain: \u001b[0mWARNING ⚠️ /content/Scence-Text-Detection-4/train/images/Gen8Group4Noch307_jpg.rf.feac333a3144e9dd1e48618a709726b3.jpg: ignoring corrupt image/label: Label class 2 exceeds dataset class count 1. Possible class labels are 0-0\n",
            "\u001b[34m\u001b[1mtrain: \u001b[0mWARNING ⚠️ /content/Scence-Text-Detection-4/train/images/Gen8Group4Noch309_jpg.rf.e0597ddd13d3e7069313fda4c2927fb3.jpg: ignoring corrupt image/label: Label class 4 exceeds dataset class count 1. Possible class labels are 0-0\n",
            "\u001b[34m\u001b[1mtrain: \u001b[0mWARNING ⚠️ /content/Scence-Text-Detection-4/train/images/Gen8Group4Noch311_jpg.rf.88cabd16371c172f3c892a7c659da243.jpg: ignoring corrupt image/label: Label class 2 exceeds dataset class count 1. Possible class labels are 0-0\n",
            "\u001b[34m\u001b[1mtrain: \u001b[0mWARNING ⚠️ /content/Scence-Text-Detection-4/train/images/Gen8Group4Noch313_jpg.rf.de45accb3ac996cae42d837f8e3e3484.jpg: ignoring corrupt image/label: Label class 2 exceeds dataset class count 1. Possible class labels are 0-0\n",
            "\u001b[34m\u001b[1mtrain: \u001b[0mWARNING ⚠️ /content/Scence-Text-Detection-4/train/images/Gen8Group4Noch315_jpg.rf.bb8f86a170d812206e836353b50e7704.jpg: ignoring corrupt image/label: Label class 12 exceeds dataset class count 1. Possible class labels are 0-0\n",
            "\u001b[34m\u001b[1mtrain: \u001b[0mWARNING ⚠️ /content/Scence-Text-Detection-4/train/images/Gen8Group4Noch316_jpg.rf.f5629a76d8bd36642ed9c89d2d5d29df.jpg: ignoring corrupt image/label: Label class 609 exceeds dataset class count 1. Possible class labels are 0-0\n",
            "\u001b[34m\u001b[1mtrain: \u001b[0mWARNING ⚠️ /content/Scence-Text-Detection-4/train/images/Gen8Group4Noch329_jpg.rf.9d5590ed890829a0e910d11fd313a293.jpg: ignoring corrupt image/label: Label class 64 exceeds dataset class count 1. Possible class labels are 0-0\n",
            "\u001b[34m\u001b[1mtrain: \u001b[0mWARNING ⚠️ /content/Scence-Text-Detection-4/train/images/Gen8Group4Noch333_jpg.rf.12a4d9df46c1555e9a3665a514be20c1.jpg: ignoring corrupt image/label: Label class 1084 exceeds dataset class count 1. Possible class labels are 0-0\n",
            "\u001b[34m\u001b[1mtrain: \u001b[0mWARNING ⚠️ /content/Scence-Text-Detection-4/train/images/Gen8Group4Noch341_jpg.rf.c8519a49972f7fc4dcb331461f1c5696.jpg: ignoring corrupt image/label: Label class 279 exceeds dataset class count 1. Possible class labels are 0-0\n",
            "\u001b[34m\u001b[1mtrain: \u001b[0mWARNING ⚠️ /content/Scence-Text-Detection-4/train/images/Gen8Group4Noch342_jpg.rf.3ff085fd7f240838db38310410cdff1f.jpg: ignoring corrupt image/label: Label class 21 exceeds dataset class count 1. Possible class labels are 0-0\n",
            "\u001b[34m\u001b[1mtrain: \u001b[0mWARNING ⚠️ /content/Scence-Text-Detection-4/train/images/Gen8Group4Noch347_jpg.rf.099d928d03b0b197279477ff51653935.jpg: ignoring corrupt image/label: Label class 2 exceeds dataset class count 1. Possible class labels are 0-0\n",
            "\u001b[34m\u001b[1mtrain: \u001b[0mWARNING ⚠️ /content/Scence-Text-Detection-4/train/images/Gen8Group4Noch349_jpg.rf.92fa46adcdefaf032f829a4fc14d1e05.jpg: ignoring corrupt image/label: Label class 2 exceeds dataset class count 1. Possible class labels are 0-0\n",
            "\u001b[34m\u001b[1mtrain: \u001b[0mWARNING ⚠️ /content/Scence-Text-Detection-4/train/images/Gen8Group4Noch351_jpg.rf.bb1949f789f18f5b60505130e0f4e87c.jpg: ignoring corrupt image/label: Label class 139 exceeds dataset class count 1. Possible class labels are 0-0\n",
            "\u001b[34m\u001b[1mtrain: \u001b[0mWARNING ⚠️ /content/Scence-Text-Detection-4/train/images/Gen8Group4Noch354_jpg.rf.3bf67dc60d29273b2f09f68f4f713db4.jpg: ignoring corrupt image/label: Label class 1950 exceeds dataset class count 1. Possible class labels are 0-0\n",
            "\u001b[34m\u001b[1mtrain: \u001b[0mWARNING ⚠️ /content/Scence-Text-Detection-4/train/images/Gen8Group4Noch355_jpg.rf.75ee05239a8f176097531923cb658d37.jpg: ignoring corrupt image/label: Label class 2 exceeds dataset class count 1. Possible class labels are 0-0\n",
            "\u001b[34m\u001b[1mtrain: \u001b[0mWARNING ⚠️ /content/Scence-Text-Detection-4/train/images/Gen8Group4Noch356_jpg.rf.50eb21cffc84f5fb257ae4d1b4597b3c.jpg: ignoring corrupt image/label: Label class 193 exceeds dataset class count 1. Possible class labels are 0-0\n",
            "\u001b[34m\u001b[1mtrain: \u001b[0mWARNING ⚠️ /content/Scence-Text-Detection-4/train/images/Gen8Group4Noch366_jpg.rf.b6644e39f3b06931b1967e7f5f0cceb5.jpg: ignoring corrupt image/label: Label class 118 exceeds dataset class count 1. Possible class labels are 0-0\n",
            "\u001b[34m\u001b[1mtrain: \u001b[0mWARNING ⚠️ /content/Scence-Text-Detection-4/train/images/Gen8Group4Noch369_jpg.rf.280f432ed8863074239c8558d9e9e97b.jpg: ignoring corrupt image/label: Label class 2 exceeds dataset class count 1. Possible class labels are 0-0\n",
            "\u001b[34m\u001b[1mtrain: \u001b[0mWARNING ⚠️ /content/Scence-Text-Detection-4/train/images/Gen8Group4Noch370_jpg.rf.1871b16c9530aaef607c8946052098be.jpg: ignoring corrupt image/label: Label class 247 exceeds dataset class count 1. Possible class labels are 0-0\n",
            "\u001b[34m\u001b[1mtrain: \u001b[0mWARNING ⚠️ /content/Scence-Text-Detection-4/train/images/Gen8Group4Noch372_jpg.rf.d41f857102605d6fb9fc9bba6260ca9d.jpg: ignoring corrupt image/label: Label class 210 exceeds dataset class count 1. Possible class labels are 0-0\n",
            "\u001b[34m\u001b[1mtrain: \u001b[0mWARNING ⚠️ /content/Scence-Text-Detection-4/train/images/Gen8Group4Noch374_jpg.rf.4251a32169f954108a520a4ffa36ceea.jpg: ignoring corrupt image/label: Label class 1912 exceeds dataset class count 1. Possible class labels are 0-0\n",
            "\u001b[34m\u001b[1mtrain: \u001b[0mWARNING ⚠️ /content/Scence-Text-Detection-4/train/images/Gen8Group4Noch375_jpg.rf.bd5e161a7436dae02c65c40a3f9cbb18.jpg: ignoring corrupt image/label: Label class 3 exceeds dataset class count 1. Possible class labels are 0-0\n",
            "\u001b[34m\u001b[1mtrain: \u001b[0mWARNING ⚠️ /content/Scence-Text-Detection-4/train/images/Gen8Group4Noch379_jpg.rf.968bfee87021842dc8b067a114a95135.jpg: ignoring corrupt image/label: Label class 2276 exceeds dataset class count 1. Possible class labels are 0-0\n",
            "\u001b[34m\u001b[1mtrain: \u001b[0mWARNING ⚠️ /content/Scence-Text-Detection-4/train/images/Gen8Group4Noch381_jpg.rf.eee0a57b4373770e803d46aa907d3749.jpg: ignoring corrupt image/label: Label class 5 exceeds dataset class count 1. Possible class labels are 0-0\n",
            "\u001b[34m\u001b[1mtrain: \u001b[0mWARNING ⚠️ /content/Scence-Text-Detection-4/train/images/Gen8Group4Noch383_jpg.rf.4cac3e04d56a989fc1c4bb75ccb43ad5.jpg: ignoring corrupt image/label: Label class 1899 exceeds dataset class count 1. Possible class labels are 0-0\n",
            "\u001b[34m\u001b[1mtrain: \u001b[0mWARNING ⚠️ /content/Scence-Text-Detection-4/train/images/Gen8Group4Noch392_jpg.rf.4995171369f0618774e1f111bd886289.jpg: ignoring corrupt image/label: Label class 322 exceeds dataset class count 1. Possible class labels are 0-0\n",
            "\u001b[34m\u001b[1mtrain: \u001b[0mWARNING ⚠️ /content/Scence-Text-Detection-4/train/images/Gen8Group4Noch393_jpg.rf.b7a98f48f04b207d188b1ec9c14a8304.jpg: ignoring corrupt image/label: Label class 191 exceeds dataset class count 1. Possible class labels are 0-0\n",
            "\u001b[34m\u001b[1mtrain: \u001b[0mWARNING ⚠️ /content/Scence-Text-Detection-4/train/images/Gen8Group4Noch414_jpg.rf.cb67cf8c5a1cb6ca473b97eae3cc8647.jpg: ignoring corrupt image/label: Label class 2 exceeds dataset class count 1. Possible class labels are 0-0\n",
            "\u001b[34m\u001b[1mtrain: \u001b[0mWARNING ⚠️ /content/Scence-Text-Detection-4/train/images/Gen8Group4Noch424_jpg.rf.24870356b3e65b7a5347bbb031cd94b6.jpg: ignoring corrupt image/label: Label class 186 exceeds dataset class count 1. Possible class labels are 0-0\n",
            "\u001b[34m\u001b[1mtrain: \u001b[0mWARNING ⚠️ /content/Scence-Text-Detection-4/train/images/Gen8Group4Noch425_jpg.rf.0dce7b9d52167c5e54d5662fbc8452cf.jpg: ignoring corrupt image/label: Label class 2 exceeds dataset class count 1. Possible class labels are 0-0\n",
            "\u001b[34m\u001b[1mtrain: \u001b[0mWARNING ⚠️ /content/Scence-Text-Detection-4/train/images/Gen8Group4Noch431_jpg.rf.c4feaeb61e46031c22fd4b209a892f39.jpg: ignoring corrupt image/label: Label class 2 exceeds dataset class count 1. Possible class labels are 0-0\n",
            "\u001b[34m\u001b[1mtrain: \u001b[0mWARNING ⚠️ /content/Scence-Text-Detection-4/train/images/Gen8Group4Noch432_jpg.rf.f955fda295af347d22348948f0edb29c.jpg: ignoring corrupt image/label: Label class 2 exceeds dataset class count 1. Possible class labels are 0-0\n",
            "\u001b[34m\u001b[1mtrain: \u001b[0mWARNING ⚠️ /content/Scence-Text-Detection-4/train/images/Gen8Group4Noch444_jpg.rf.944c851dd98683e34eb3cdb5a1b1901d.jpg: ignoring corrupt image/label: Label class 2 exceeds dataset class count 1. Possible class labels are 0-0\n",
            "\u001b[34m\u001b[1mtrain: \u001b[0mWARNING ⚠️ /content/Scence-Text-Detection-4/train/images/Gen8Group4Noch445_jpg.rf.c21b9e9c626f1fea64add1fc2a3a56fb.jpg: ignoring corrupt image/label: Label class 3 exceeds dataset class count 1. Possible class labels are 0-0\n",
            "\u001b[34m\u001b[1mtrain: \u001b[0mWARNING ⚠️ /content/Scence-Text-Detection-4/train/images/Gen8Group4Noch448_jpg.rf.1e27236552bf39e6a5b52f3a2472f065.jpg: ignoring corrupt image/label: Label class 2 exceeds dataset class count 1. Possible class labels are 0-0\n",
            "\u001b[34m\u001b[1mtrain: \u001b[0mWARNING ⚠️ /content/Scence-Text-Detection-4/train/images/Gen8Group4Noch467_jpg.rf.915d8b513eee948fb39a49837326dfca.jpg: ignoring corrupt image/label: Label class 2 exceeds dataset class count 1. Possible class labels are 0-0\n",
            "\u001b[34m\u001b[1mtrain: \u001b[0mWARNING ⚠️ /content/Scence-Text-Detection-4/train/images/Gen8Group4Noch484_jpg.rf.555e44c10d80e4c383103353a1cc7dd9.jpg: ignoring corrupt image/label: Label class 2 exceeds dataset class count 1. Possible class labels are 0-0\n",
            "\u001b[34m\u001b[1mtrain: \u001b[0mWARNING ⚠️ /content/Scence-Text-Detection-4/train/images/Gen8Group4Noch486_jpg.rf.5c86ff2bf4bbd6c72ba56c167c8a7dd8.jpg: ignoring corrupt image/label: Label class 20 exceeds dataset class count 1. Possible class labels are 0-0\n",
            "\u001b[34m\u001b[1mtrain: \u001b[0mWARNING ⚠️ /content/Scence-Text-Detection-4/train/images/Gen8Group4Noch488_jpg.rf.1cc0951c96754d0e6228f4571b5ef1c1.jpg: ignoring corrupt image/label: Label class 5 exceeds dataset class count 1. Possible class labels are 0-0\n",
            "\u001b[34m\u001b[1mtrain: \u001b[0mWARNING ⚠️ /content/Scence-Text-Detection-4/train/images/Gen8Group4Noch494_jpg.rf.388bb8d030882e19188f6f8538fec494.jpg: ignoring corrupt image/label: Label class 2 exceeds dataset class count 1. Possible class labels are 0-0\n",
            "\u001b[34m\u001b[1mtrain: \u001b[0mWARNING ⚠️ /content/Scence-Text-Detection-4/train/images/IMG_0595_JPG.rf.cbe5425dd391417d2cd6c841df709fef.jpg: ignoring corrupt image/label: Label class 3 exceeds dataset class count 1. Possible class labels are 0-0\n",
            "\u001b[34m\u001b[1mtrain: \u001b[0mWARNING ⚠️ /content/Scence-Text-Detection-4/train/images/IMG_0609_JPG.rf.0428285805c0648f7f6653d493f52c81.jpg: ignoring corrupt image/label: Label class 297 exceeds dataset class count 1. Possible class labels are 0-0\n",
            "\u001b[34m\u001b[1mtrain: \u001b[0mWARNING ⚠️ /content/Scence-Text-Detection-4/train/images/IMG_0615_JPG.rf.a33209e5502799e31f3945e9413c03e2.jpg: ignoring corrupt image/label: Label class 2018 exceeds dataset class count 1. Possible class labels are 0-0\n",
            "\u001b[34m\u001b[1mtrain: \u001b[0mWARNING ⚠️ /content/Scence-Text-Detection-4/train/images/IMG_0620_JPG.rf.e41cb176bb88baf5dd1516d51694551a.jpg: ignoring corrupt image/label: Label class 1608 exceeds dataset class count 1. Possible class labels are 0-0\n",
            "\u001b[34m\u001b[1mtrain: \u001b[0mWARNING ⚠️ /content/Scence-Text-Detection-4/train/images/IMG_0621_JPG.rf.97e508b9ba7fb9b3024a7de82acc86c6.jpg: ignoring corrupt image/label: Label class 169 exceeds dataset class count 1. Possible class labels are 0-0\n",
            "\u001b[34m\u001b[1mtrain: \u001b[0mWARNING ⚠️ /content/Scence-Text-Detection-4/train/images/IMG_0623_JPG.rf.5fbe97ea17dbd301b01e8fa340bea410.jpg: ignoring corrupt image/label: Label class 369 exceeds dataset class count 1. Possible class labels are 0-0\n",
            "\u001b[34m\u001b[1mtrain: \u001b[0mWARNING ⚠️ /content/Scence-Text-Detection-4/train/images/IMG_0625_JPG.rf.17e6e7a95186549547f9ca08b7d6ad6a.jpg: ignoring corrupt image/label: Label class 2282 exceeds dataset class count 1. Possible class labels are 0-0\n",
            "\u001b[34m\u001b[1mtrain: \u001b[0mWARNING ⚠️ /content/Scence-Text-Detection-4/train/images/IMG_0626_JPG.rf.c9d5e00cab4bb6e3b9a29b03ebdb8083.jpg: ignoring corrupt image/label: Label class 2282 exceeds dataset class count 1. Possible class labels are 0-0\n",
            "\u001b[34m\u001b[1mtrain: \u001b[0mWARNING ⚠️ /content/Scence-Text-Detection-4/train/images/IMG_0629_JPG.rf.99c5845a36a228d54be6524151c8ed66.jpg: ignoring corrupt image/label: Label class 2045 exceeds dataset class count 1. Possible class labels are 0-0\n",
            "\u001b[34m\u001b[1mtrain: \u001b[0mWARNING ⚠️ /content/Scence-Text-Detection-4/train/images/IMG_0635_JPG.rf.a38b907918ce242d30597ecd0b8fde07.jpg: ignoring corrupt image/label: Label class 328 exceeds dataset class count 1. Possible class labels are 0-0\n",
            "\u001b[34m\u001b[1mtrain: \u001b[0mWARNING ⚠️ /content/Scence-Text-Detection-4/train/images/IMG_0658_JPG.rf.150fe6a6b197c6ba663f3ae176fa9ddb.jpg: ignoring corrupt image/label: Label class 5 exceeds dataset class count 1. Possible class labels are 0-0\n",
            "\u001b[34m\u001b[1mtrain: \u001b[0mWARNING ⚠️ /content/Scence-Text-Detection-4/train/images/IMG_0665_JPG.rf.95bc6d416ab7f4e3b2d964f088ebf607.jpg: ignoring corrupt image/label: Label class 1988 exceeds dataset class count 1. Possible class labels are 0-0\n",
            "\u001b[34m\u001b[1mtrain: \u001b[0mWARNING ⚠️ /content/Scence-Text-Detection-4/train/images/IMG_0667_JPG.rf.defab6c5bb29fd6017c7aa2dc36b2368.jpg: ignoring corrupt image/label: Label class 128 exceeds dataset class count 1. Possible class labels are 0-0\n",
            "\u001b[34m\u001b[1mtrain: \u001b[0mWARNING ⚠️ /content/Scence-Text-Detection-4/train/images/IMG_0668_JPG.rf.02549f1268ab10ffbf8eddd936cc025b.jpg: ignoring corrupt image/label: Label class 263 exceeds dataset class count 1. Possible class labels are 0-0\n",
            "\u001b[34m\u001b[1mtrain: \u001b[0mWARNING ⚠️ /content/Scence-Text-Detection-4/train/images/IMG_0669_JPG.rf.312a121d3beb7a3847f7e0bf8b2519f4.jpg: ignoring corrupt image/label: Label class 2 exceeds dataset class count 1. Possible class labels are 0-0\n",
            "\u001b[34m\u001b[1mtrain: \u001b[0mWARNING ⚠️ /content/Scence-Text-Detection-4/train/images/IMG_0670_JPG.rf.66508f29e928fe63321c4445cd8e6d8d.jpg: ignoring corrupt image/label: Label class 2 exceeds dataset class count 1. Possible class labels are 0-0\n",
            "\u001b[34m\u001b[1mtrain: \u001b[0mWARNING ⚠️ /content/Scence-Text-Detection-4/train/images/IMG_0692_JPG.rf.bd1868b0875ae4dd11a38f691b502bb3.jpg: ignoring corrupt image/label: Label class 2282 exceeds dataset class count 1. Possible class labels are 0-0\n",
            "\u001b[34m\u001b[1mtrain: \u001b[0mWARNING ⚠️ /content/Scence-Text-Detection-4/train/images/IMG_0820_JPG.rf.3e68a01a7610b9a8d896e3b6a6315189.jpg: ignoring corrupt image/label: Label class 2 exceeds dataset class count 1. Possible class labels are 0-0\n",
            "\u001b[34m\u001b[1mtrain: \u001b[0mWARNING ⚠️ /content/Scence-Text-Detection-4/train/images/IMG_0821_JPG.rf.c0b5f0038bebec68be049cca5f0e39d7.jpg: ignoring corrupt image/label: Label class 2 exceeds dataset class count 1. Possible class labels are 0-0\n",
            "\u001b[34m\u001b[1mtrain: \u001b[0mWARNING ⚠️ /content/Scence-Text-Detection-4/train/images/IMG_0828_JPG.rf.9a09536f401c62da3c83248bec6fb866.jpg: ignoring corrupt image/label: Label class 3 exceeds dataset class count 1. Possible class labels are 0-0\n",
            "\u001b[34m\u001b[1mtrain: \u001b[0mWARNING ⚠️ /content/Scence-Text-Detection-4/train/images/IMG_0836_JPG.rf.aa498d0f1eb7ece2b57c03802b4360a0.jpg: ignoring corrupt image/label: Label class 2 exceeds dataset class count 1. Possible class labels are 0-0\n",
            "\u001b[34m\u001b[1mtrain: \u001b[0mWARNING ⚠️ /content/Scence-Text-Detection-4/train/images/IMG_0842_JPG.rf.a45abdd354387bd500a1dadfa3d59b9d.jpg: ignoring corrupt image/label: Label class 437 exceeds dataset class count 1. Possible class labels are 0-0\n",
            "\u001b[34m\u001b[1mtrain: \u001b[0mWARNING ⚠️ /content/Scence-Text-Detection-4/train/images/IMG_0844_JPG.rf.259d5a1ae67c6bc4263ab5acb8ecfde2.jpg: ignoring corrupt image/label: Label class 2 exceeds dataset class count 1. Possible class labels are 0-0\n",
            "\u001b[34m\u001b[1mtrain: \u001b[0mWARNING ⚠️ /content/Scence-Text-Detection-4/train/images/IMG_0852_JPG.rf.0d55177dab9221cf6c69717a5591c528.jpg: ignoring corrupt image/label: Label class 2 exceeds dataset class count 1. Possible class labels are 0-0\n",
            "\u001b[34m\u001b[1mtrain: \u001b[0mWARNING ⚠️ /content/Scence-Text-Detection-4/train/images/IMG_0855_JPG.rf.7b9a33abbfcb578bc23d540f6ca86c89.jpg: ignoring corrupt image/label: Label class 3 exceeds dataset class count 1. Possible class labels are 0-0\n",
            "\u001b[34m\u001b[1mtrain: \u001b[0mWARNING ⚠️ /content/Scence-Text-Detection-4/train/images/IMG_0872_JPG.rf.3d4e03c4c567a5c2c15074f865eda86c.jpg: ignoring corrupt image/label: Label class 3 exceeds dataset class count 1. Possible class labels are 0-0\n",
            "\u001b[34m\u001b[1mtrain: \u001b[0mWARNING ⚠️ /content/Scence-Text-Detection-4/train/images/IMG_0876_JPG.rf.5b3d627119061914dfd2e2560d77d5b5.jpg: ignoring corrupt image/label: Label class 2 exceeds dataset class count 1. Possible class labels are 0-0\n",
            "\u001b[34m\u001b[1mtrain: \u001b[0mWARNING ⚠️ /content/Scence-Text-Detection-4/train/images/IMG_0887_JPG.rf.4159248baa8632116bc09478693b606b.jpg: ignoring corrupt image/label: Label class 2 exceeds dataset class count 1. Possible class labels are 0-0\n",
            "\u001b[34m\u001b[1mtrain: \u001b[0mWARNING ⚠️ /content/Scence-Text-Detection-4/train/images/IMG_0888_JPG.rf.3c9ebf9c3a740ca6fb8e7d4003f36a5c.jpg: ignoring corrupt image/label: Label class 2 exceeds dataset class count 1. Possible class labels are 0-0\n",
            "\u001b[34m\u001b[1mtrain: \u001b[0mWARNING ⚠️ /content/Scence-Text-Detection-4/train/images/IMG_0899_JPG.rf.47b73fc43d7d702d04bb660c56cb1064.jpg: ignoring corrupt image/label: Label class 2 exceeds dataset class count 1. Possible class labels are 0-0\n",
            "\u001b[34m\u001b[1mtrain: \u001b[0mWARNING ⚠️ /content/Scence-Text-Detection-4/train/images/IMG_0900_JPG.rf.c61d5716be5e294763a48430f80e0710.jpg: ignoring corrupt image/label: Label class 2 exceeds dataset class count 1. Possible class labels are 0-0\n",
            "\u001b[34m\u001b[1mtrain: \u001b[0mWARNING ⚠️ /content/Scence-Text-Detection-4/train/images/IMG_0908_JPG.rf.4123f0127026829a519e313d15c6a5b5.jpg: ignoring corrupt image/label: Label class 127 exceeds dataset class count 1. Possible class labels are 0-0\n",
            "\u001b[34m\u001b[1mtrain: \u001b[0mWARNING ⚠️ /content/Scence-Text-Detection-4/train/images/IMG_0910_JPG.rf.2b3cf43335c38ec8d8f5c673dd2e3fd9.jpg: ignoring corrupt image/label: Label class 328 exceeds dataset class count 1. Possible class labels are 0-0\n",
            "\u001b[34m\u001b[1mtrain: \u001b[0mWARNING ⚠️ /content/Scence-Text-Detection-4/train/images/IMG_0911_JPG.rf.bd4bbc493a27c19c8d698b1dae7bd199.jpg: ignoring corrupt image/label: Label class 431 exceeds dataset class count 1. Possible class labels are 0-0\n",
            "\u001b[34m\u001b[1mtrain: \u001b[0mWARNING ⚠️ /content/Scence-Text-Detection-4/train/images/IMG_0912_JPG.rf.696fc985f3050f95b4f4cefc398f86cc.jpg: ignoring corrupt image/label: Label class 1740 exceeds dataset class count 1. Possible class labels are 0-0\n",
            "\u001b[34m\u001b[1mtrain: \u001b[0mWARNING ⚠️ /content/Scence-Text-Detection-4/train/images/IMG_0913_JPG.rf.65e8dfe3d751047af4fdc8572dee1a9e.jpg: ignoring corrupt image/label: Label class 2243 exceeds dataset class count 1. Possible class labels are 0-0\n",
            "\u001b[34m\u001b[1mtrain: \u001b[0mWARNING ⚠️ /content/Scence-Text-Detection-4/train/images/IMG_0922_JPG.rf.bbe340173e5ffb1e86797158219a1020.jpg: ignoring corrupt image/label: Label class 2 exceeds dataset class count 1. Possible class labels are 0-0\n",
            "\u001b[34m\u001b[1mtrain: \u001b[0mWARNING ⚠️ /content/Scence-Text-Detection-4/train/images/IMG_0924_JPG.rf.6721da909fdc8772fcd9e1e1b9d74356.jpg: ignoring corrupt image/label: Label class 2 exceeds dataset class count 1. Possible class labels are 0-0\n",
            "\u001b[34m\u001b[1mtrain: \u001b[0mWARNING ⚠️ /content/Scence-Text-Detection-4/train/images/IMG_0926_JPG.rf.a152d3586fdd368c1f9ca4e541599db4.jpg: ignoring corrupt image/label: Label class 1608 exceeds dataset class count 1. Possible class labels are 0-0\n",
            "\u001b[34m\u001b[1mtrain: \u001b[0mWARNING ⚠️ /content/Scence-Text-Detection-4/train/images/IMG_0927_JPG.rf.0e7d04bbbdff6d6380e6a212a2ac55ee.jpg: ignoring corrupt image/label: Label class 1810 exceeds dataset class count 1. Possible class labels are 0-0\n",
            "\u001b[34m\u001b[1mtrain: \u001b[0mWARNING ⚠️ /content/Scence-Text-Detection-4/train/images/IMG_0928_JPG.rf.3820ee7e912fdda7d15164885e18a020.jpg: ignoring corrupt image/label: Label class 1923 exceeds dataset class count 1. Possible class labels are 0-0\n",
            "\u001b[34m\u001b[1mtrain: \u001b[0mWARNING ⚠️ /content/Scence-Text-Detection-4/train/images/IMG_0929_JPG.rf.dd6ccd6695c3a14e0420dbf49127366c.jpg: ignoring corrupt image/label: Label class 2045 exceeds dataset class count 1. Possible class labels are 0-0\n",
            "\u001b[34m\u001b[1mtrain: \u001b[0mWARNING ⚠️ /content/Scence-Text-Detection-4/train/images/IMG_0941_JPG.rf.42245d8917c336991f0665ad310c9656.jpg: ignoring corrupt image/label: Label class 2 exceeds dataset class count 1. Possible class labels are 0-0\n",
            "\u001b[34m\u001b[1mtrain: \u001b[0mWARNING ⚠️ /content/Scence-Text-Detection-4/train/images/IMG_0946_JPG.rf.ed8d2cb90867f502073231f71b7d932a.jpg: ignoring corrupt image/label: Label class 1923 exceeds dataset class count 1. Possible class labels are 0-0\n",
            "\u001b[34m\u001b[1mtrain: \u001b[0mWARNING ⚠️ /content/Scence-Text-Detection-4/train/images/IMG_0949_JPG.rf.fa0ee71897cca17043d1b43c29e6f027.jpg: ignoring corrupt image/label: Label class 2251 exceeds dataset class count 1. Possible class labels are 0-0\n",
            "\u001b[34m\u001b[1mtrain: \u001b[0mWARNING ⚠️ /content/Scence-Text-Detection-4/train/images/IMG_1022_JPG.rf.6d8332f554652d9a686206cb34781f04.jpg: ignoring corrupt image/label: Label class 354 exceeds dataset class count 1. Possible class labels are 0-0\n",
            "\u001b[34m\u001b[1mtrain: \u001b[0mWARNING ⚠️ /content/Scence-Text-Detection-4/train/images/IMG_1032_JPG.rf.1c93aadc2b664168ac245bce0b117e20.jpg: ignoring corrupt image/label: Label class 2003 exceeds dataset class count 1. Possible class labels are 0-0\n",
            "\u001b[34m\u001b[1mtrain: \u001b[0mWARNING ⚠️ /content/Scence-Text-Detection-4/train/images/IMG_1035_JPG.rf.1eb42b951b5a8623a3ab0223bd19fd2d.jpg: ignoring corrupt image/label: Label class 2 exceeds dataset class count 1. Possible class labels are 0-0\n",
            "\u001b[34m\u001b[1mtrain: \u001b[0mWARNING ⚠️ /content/Scence-Text-Detection-4/train/images/IMG_1048_JPG.rf.d65c48f61d7561c1cfa95463f0a15e53.jpg: ignoring corrupt image/label: Label class 455 exceeds dataset class count 1. Possible class labels are 0-0\n",
            "\u001b[34m\u001b[1mtrain: \u001b[0mWARNING ⚠️ /content/Scence-Text-Detection-4/train/images/IMG_1060_JPG.rf.60189a357efc16cdbed31e318bca24b9.jpg: ignoring corrupt image/label: Label class 1925 exceeds dataset class count 1. Possible class labels are 0-0\n",
            "\u001b[34m\u001b[1mtrain: \u001b[0mWARNING ⚠️ /content/Scence-Text-Detection-4/train/images/IMG_1075_JPG.rf.a98af554e98a78452be05c27d8f5e794.jpg: ignoring corrupt image/label: Label class 1011 exceeds dataset class count 1. Possible class labels are 0-0\n",
            "\u001b[34m\u001b[1mtrain: \u001b[0mWARNING ⚠️ /content/Scence-Text-Detection-4/train/images/IMG_1100_JPG.rf.391ff6af273bc0a7ade0e5826fbe2333.jpg: ignoring corrupt image/label: Label class 2 exceeds dataset class count 1. Possible class labels are 0-0\n",
            "\u001b[34m\u001b[1mtrain: \u001b[0mWARNING ⚠️ /content/Scence-Text-Detection-4/train/images/IMG_1101_JPG.rf.6751025f554c0810c6be76d9e3f0b02e.jpg: ignoring corrupt image/label: Label class 2 exceeds dataset class count 1. Possible class labels are 0-0\n",
            "\u001b[34m\u001b[1mtrain: \u001b[0mWARNING ⚠️ /content/Scence-Text-Detection-4/train/images/IMG_1110_JPG.rf.dca613ceeeece958a3a2e04f3bcfae39.jpg: ignoring corrupt image/label: Label class 2 exceeds dataset class count 1. Possible class labels are 0-0\n",
            "\u001b[34m\u001b[1mtrain: \u001b[0mWARNING ⚠️ /content/Scence-Text-Detection-4/train/images/IMG_1161_JPG.rf.bc13d932af08f5a25850dab56ba381a3.jpg: ignoring corrupt image/label: Label class 3 exceeds dataset class count 1. Possible class labels are 0-0\n",
            "\u001b[34m\u001b[1mtrain: \u001b[0mWARNING ⚠️ /content/Scence-Text-Detection-4/train/images/IMG_1163_JPG.rf.0c133085e9336961807124f0026f73d2.jpg: ignoring corrupt image/label: Label class 4 exceeds dataset class count 1. Possible class labels are 0-0\n",
            "\u001b[34m\u001b[1mtrain: \u001b[0mWARNING ⚠️ /content/Scence-Text-Detection-4/train/images/IMG_1164_JPG.rf.31face0ba98cdbb919b37d4e3f5ee447.jpg: ignoring corrupt image/label: Label class 398 exceeds dataset class count 1. Possible class labels are 0-0\n",
            "\u001b[34m\u001b[1mtrain: \u001b[0mWARNING ⚠️ /content/Scence-Text-Detection-4/train/images/IMG_1165_JPG.rf.f2e606a5424ac5ab90e20cb44c3484fc.jpg: ignoring corrupt image/label: Label class 301 exceeds dataset class count 1. Possible class labels are 0-0\n",
            "\u001b[34m\u001b[1mtrain: \u001b[0mWARNING ⚠️ /content/Scence-Text-Detection-4/train/images/IMG_1167_JPG.rf.9e09d89ef8b54fa47ae2b45df9888a6e.jpg: ignoring corrupt image/label: Label class 2015 exceeds dataset class count 1. Possible class labels are 0-0\n",
            "\u001b[34m\u001b[1mtrain: \u001b[0mWARNING ⚠️ /content/Scence-Text-Detection-4/train/images/IMG_1170_JPG.rf.13a96cc3c33daa490fcc12bcaf7798c8.jpg: ignoring corrupt image/label: Label class 397 exceeds dataset class count 1. Possible class labels are 0-0\n",
            "\u001b[34m\u001b[1mtrain: \u001b[0mWARNING ⚠️ /content/Scence-Text-Detection-4/train/images/IMG_1171_JPG.rf.efbf8d226e23b3a33b6b19d2cccf9eef.jpg: ignoring corrupt image/label: Label class 229 exceeds dataset class count 1. Possible class labels are 0-0\n",
            "\u001b[34m\u001b[1mtrain: \u001b[0mWARNING ⚠️ /content/Scence-Text-Detection-4/train/images/IMG_1172_JPG.rf.ebe9a1a1c555b900d328b070e15bf855.jpg: ignoring corrupt image/label: Label class 447 exceeds dataset class count 1. Possible class labels are 0-0\n",
            "\u001b[34m\u001b[1mtrain: \u001b[0mWARNING ⚠️ /content/Scence-Text-Detection-4/train/images/IMG_1173_JPG.rf.94bea46585453b9d3f811327815878dc.jpg: ignoring corrupt image/label: Label class 1759 exceeds dataset class count 1. Possible class labels are 0-0\n",
            "\u001b[34m\u001b[1mtrain: \u001b[0mWARNING ⚠️ /content/Scence-Text-Detection-4/train/images/IMG_1174_JPG.rf.98359f20a992597dd3a2044710dea3ef.jpg: ignoring corrupt image/label: Label class 1784 exceeds dataset class count 1. Possible class labels are 0-0\n",
            "\u001b[34m\u001b[1mtrain: \u001b[0mWARNING ⚠️ /content/Scence-Text-Detection-4/train/images/IMG_1182_JPG.rf.473e48fc61bf02866b47ac80e385500a.jpg: ignoring corrupt image/label: Label class 1703 exceeds dataset class count 1. Possible class labels are 0-0\n",
            "\u001b[34m\u001b[1mtrain: \u001b[0mWARNING ⚠️ /content/Scence-Text-Detection-4/train/images/IMG_1256_JPG.rf.6d6168ad8e2baf83012cdb4987e30d5c.jpg: ignoring corrupt image/label: Label class 2069 exceeds dataset class count 1. Possible class labels are 0-0\n",
            "\u001b[34m\u001b[1mtrain: \u001b[0mWARNING ⚠️ /content/Scence-Text-Detection-4/train/images/IMG_1258_JPG.rf.6f802a433f1317454a44291d0a9db4f4.jpg: ignoring corrupt image/label: Label class 988 exceeds dataset class count 1. Possible class labels are 0-0\n",
            "\u001b[34m\u001b[1mtrain: \u001b[0mWARNING ⚠️ /content/Scence-Text-Detection-4/train/images/IMG_1285_JPG.rf.447bf47e10fc1801de311fc766335bc9.jpg: ignoring corrupt image/label: Label class 416 exceeds dataset class count 1. Possible class labels are 0-0\n",
            "\u001b[34m\u001b[1mtrain: \u001b[0mWARNING ⚠️ /content/Scence-Text-Detection-4/train/images/IMG_1287_JPG.rf.713c110f4c746d428b4763de6b58ef6e.jpg: ignoring corrupt image/label: Label class 5 exceeds dataset class count 1. Possible class labels are 0-0\n",
            "\u001b[34m\u001b[1mtrain: \u001b[0mWARNING ⚠️ /content/Scence-Text-Detection-4/train/images/IMG_1289_JPG.rf.93e08ee56754b1e5be79c2a334726f00.jpg: ignoring corrupt image/label: Label class 2 exceeds dataset class count 1. Possible class labels are 0-0\n",
            "\u001b[34m\u001b[1mtrain: \u001b[0mWARNING ⚠️ /content/Scence-Text-Detection-4/train/images/IMG_1291_JPG.rf.88b5f120e6d4a2a85ccd39abc467a23c.jpg: ignoring corrupt image/label: Label class 4 exceeds dataset class count 1. Possible class labels are 0-0\n",
            "\u001b[34m\u001b[1mtrain: \u001b[0mWARNING ⚠️ /content/Scence-Text-Detection-4/train/images/IMG_1309_JPG.rf.92514d37489eca5f37267326ecc22470.jpg: ignoring corrupt image/label: Label class 968 exceeds dataset class count 1. Possible class labels are 0-0\n",
            "\u001b[34m\u001b[1mtrain: \u001b[0mWARNING ⚠️ /content/Scence-Text-Detection-4/train/images/IMG_1312_JPG.rf.634087c24d19714e4e46879ca992f94a.jpg: ignoring corrupt image/label: Label class 3 exceeds dataset class count 1. Possible class labels are 0-0\n",
            "\u001b[34m\u001b[1mtrain: \u001b[0mWARNING ⚠️ /content/Scence-Text-Detection-4/train/images/IMG_1339_JPG.rf.956ba408468572d8e5596f485aedcfc6.jpg: ignoring corrupt image/label: Label class 1231 exceeds dataset class count 1. Possible class labels are 0-0\n",
            "\u001b[34m\u001b[1mtrain: \u001b[0mWARNING ⚠️ /content/Scence-Text-Detection-4/train/images/IMG_1368_JPG.rf.43b68b6ceeb31180d20868f5ca45bc7b.jpg: ignoring corrupt image/label: Label class 1810 exceeds dataset class count 1. Possible class labels are 0-0\n",
            "\u001b[34m\u001b[1mtrain: \u001b[0mWARNING ⚠️ /content/Scence-Text-Detection-4/train/images/IMG_1372_JPG.rf.dbdc863c80ad471accc8196b4ae20782.jpg: ignoring corrupt image/label: Label class 2 exceeds dataset class count 1. Possible class labels are 0-0\n",
            "\u001b[34m\u001b[1mtrain: \u001b[0mWARNING ⚠️ /content/Scence-Text-Detection-4/train/images/IMG_1376_JPG.rf.b458954415f403f000edc36f6913ec66.jpg: ignoring corrupt image/label: Label class 2063 exceeds dataset class count 1. Possible class labels are 0-0\n",
            "\u001b[34m\u001b[1mtrain: \u001b[0mWARNING ⚠️ /content/Scence-Text-Detection-4/train/images/IMG_1377_JPG.rf.fdba59ad8b0d5819e2ecc444db783804.jpg: ignoring corrupt image/label: Label class 1829 exceeds dataset class count 1. Possible class labels are 0-0\n",
            "\u001b[34m\u001b[1mtrain: \u001b[0mWARNING ⚠️ /content/Scence-Text-Detection-4/train/images/IMG_1378_JPG.rf.a5ae076211afcf4437696981b59d90e4.jpg: ignoring corrupt image/label: Label class 456 exceeds dataset class count 1. Possible class labels are 0-0\n",
            "\u001b[34m\u001b[1mtrain: \u001b[0mWARNING ⚠️ /content/Scence-Text-Detection-4/train/images/IMG_1384_JPG.rf.635a3170699ab3271b5242a40c9eaa49.jpg: ignoring corrupt image/label: Label class 2282 exceeds dataset class count 1. Possible class labels are 0-0\n",
            "\u001b[34m\u001b[1mtrain: \u001b[0mWARNING ⚠️ /content/Scence-Text-Detection-4/train/images/IMG_1472_JPG.rf.b0e95c0989b00017343f37c5592fec05.jpg: ignoring corrupt image/label: Label class 427 exceeds dataset class count 1. Possible class labels are 0-0\n",
            "\u001b[34m\u001b[1mtrain: \u001b[0mWARNING ⚠️ /content/Scence-Text-Detection-4/train/images/IMG_1500_JPG.rf.ceeb3003b94782ea694636181a62ce03.jpg: ignoring corrupt image/label: Label class 2065 exceeds dataset class count 1. Possible class labels are 0-0\n",
            "\u001b[34m\u001b[1mtrain: \u001b[0mWARNING ⚠️ /content/Scence-Text-Detection-4/train/images/IMG_1501_JPG.rf.c6fb2a9570b15c860a744e60a6b8b6ee.jpg: ignoring corrupt image/label: Label class 1830 exceeds dataset class count 1. Possible class labels are 0-0\n",
            "\u001b[34m\u001b[1mtrain: \u001b[0mWARNING ⚠️ /content/Scence-Text-Detection-4/train/images/IMG_1509_JPG.rf.d4871730fd0b6fa143196616e92c6dde.jpg: ignoring corrupt image/label: Label class 2 exceeds dataset class count 1. Possible class labels are 0-0\n",
            "\u001b[34m\u001b[1mtrain: \u001b[0mWARNING ⚠️ /content/Scence-Text-Detection-4/train/images/IMG_1523_JPG.rf.cba825bd574a3ae279561aed4caf8aeb.jpg: ignoring corrupt image/label: Label class 2 exceeds dataset class count 1. Possible class labels are 0-0\n",
            "\u001b[34m\u001b[1mtrain: \u001b[0mWARNING ⚠️ /content/Scence-Text-Detection-4/train/images/IMG_1616_JPG.rf.0fd266e46e6ba9aee3125d9aeba1b170.jpg: ignoring corrupt image/label: Label class 2 exceeds dataset class count 1. Possible class labels are 0-0\n",
            "\u001b[34m\u001b[1mtrain: \u001b[0mWARNING ⚠️ /content/Scence-Text-Detection-4/train/images/IMG_1619_JPG.rf.d32779dddf4a93429926229df83d4dd0.jpg: ignoring corrupt image/label: Label class 324 exceeds dataset class count 1. Possible class labels are 0-0\n",
            "\u001b[34m\u001b[1mtrain: \u001b[0mWARNING ⚠️ /content/Scence-Text-Detection-4/train/images/IMG_1630_JPG.rf.c55f34cec8751ee6aee2aec131298b6f.jpg: ignoring corrupt image/label: Label class 448 exceeds dataset class count 1. Possible class labels are 0-0\n",
            "\u001b[34m\u001b[1mtrain: \u001b[0mWARNING ⚠️ /content/Scence-Text-Detection-4/train/images/IMG_20230413_005018_028_jpg.rf.c496e22208819a573eea28605f0a8253.jpg: ignoring corrupt image/label: Label class 2283 exceeds dataset class count 1. Possible class labels are 0-0\n",
            "\u001b[34m\u001b[1mtrain: \u001b[0mWARNING ⚠️ /content/Scence-Text-Detection-4/train/images/IMG_20231011_094838_360_jpg.rf.8507828eef36f80f9421fc496a7e56b0.jpg: ignoring corrupt image/label: Label class 2283 exceeds dataset class count 1. Possible class labels are 0-0\n",
            "\u001b[34m\u001b[1mtrain: \u001b[0mWARNING ⚠️ /content/Scence-Text-Detection-4/train/images/IMG_20240916_011452_547_JPG.rf.28c7e62b3debb6019c77539b5fd51b3a.jpg: ignoring corrupt image/label: Label class 2283 exceeds dataset class count 1. Possible class labels are 0-0\n",
            "\u001b[34m\u001b[1mtrain: \u001b[0mWARNING ⚠️ /content/Scence-Text-Detection-4/train/images/IMG_20241020_224041_046_jpg.rf.6946f09cbc86af56352c050f483465a2.jpg: ignoring corrupt image/label: Label class 2283 exceeds dataset class count 1. Possible class labels are 0-0\n",
            "\u001b[34m\u001b[1mtrain: \u001b[0mWARNING ⚠️ /content/Scence-Text-Detection-4/train/images/IMG_20241020_224144_081_jpg.rf.22775aed62f06d87a27dc0746c98d6e9.jpg: ignoring corrupt image/label: Label class 2283 exceeds dataset class count 1. Possible class labels are 0-0\n",
            "\u001b[34m\u001b[1mtrain: \u001b[0mWARNING ⚠️ /content/Scence-Text-Detection-4/train/images/IMG_20241020_224436_506_jpg.rf.0e55b8fe6017305d96b1dda9f9002ab9.jpg: ignoring corrupt image/label: Label class 2283 exceeds dataset class count 1. Possible class labels are 0-0\n",
            "\u001b[34m\u001b[1mtrain: \u001b[0mWARNING ⚠️ /content/Scence-Text-Detection-4/train/images/IMG_20241025_005201_360_jpg.rf.8284426eb50c5ecab867141a53139c7b.jpg: ignoring corrupt image/label: Label class 2283 exceeds dataset class count 1. Possible class labels are 0-0\n",
            "\u001b[34m\u001b[1mtrain: \u001b[0mWARNING ⚠️ /content/Scence-Text-Detection-4/train/images/IMG_20241025_005226_489_jpg.rf.df3693ac283c321b80b6bce8cfcb76b8.jpg: ignoring corrupt image/label: Label class 2283 exceeds dataset class count 1. Possible class labels are 0-0\n",
            "\u001b[34m\u001b[1mtrain: \u001b[0mWARNING ⚠️ /content/Scence-Text-Detection-4/train/images/IMG_20241025_005254_948_jpg.rf.20e169a19f2436030e5ecd892f8bf36c.jpg: ignoring corrupt image/label: Label class 2283 exceeds dataset class count 1. Possible class labels are 0-0\n",
            "\u001b[34m\u001b[1mtrain: \u001b[0mWARNING ⚠️ /content/Scence-Text-Detection-4/train/images/IMG_20241025_005428_838_jpg.rf.905be86ae452aa5964d1f71472ee083c.jpg: ignoring corrupt image/label: Label class 2283 exceeds dataset class count 1. Possible class labels are 0-0\n",
            "\u001b[34m\u001b[1mtrain: \u001b[0mWARNING ⚠️ /content/Scence-Text-Detection-4/train/images/IMG_20241025_005716_010_jpg.rf.d078b947bdbc6ca47d21033cb1a975e3.jpg: ignoring corrupt image/label: Label class 2283 exceeds dataset class count 1. Possible class labels are 0-0\n",
            "\u001b[34m\u001b[1mtrain: \u001b[0mWARNING ⚠️ /content/Scence-Text-Detection-4/train/images/IMG_2106_JPG.rf.be00b0159c501e3485c18f4422a8dc08.jpg: ignoring corrupt image/label: Label class 2282 exceeds dataset class count 1. Possible class labels are 0-0\n",
            "\u001b[34m\u001b[1mtrain: \u001b[0mWARNING ⚠️ /content/Scence-Text-Detection-4/train/images/IMG_2393_JPG.rf.e0e5e9fdb0d898f2d41cace3578f0a5c.jpg: ignoring corrupt image/label: Label class 2 exceeds dataset class count 1. Possible class labels are 0-0\n",
            "\u001b[34m\u001b[1mtrain: \u001b[0mWARNING ⚠️ /content/Scence-Text-Detection-4/train/images/IMG_2403_JPG.rf.b8b773ba39e4818f58fc6d4888f8c9e3.jpg: ignoring corrupt image/label: Label class 792 exceeds dataset class count 1. Possible class labels are 0-0\n",
            "\u001b[34m\u001b[1mtrain: \u001b[0mWARNING ⚠️ /content/Scence-Text-Detection-4/train/images/IMG_2406_JPG.rf.6e4b83610f1ce264b42dbc4e3894a605.jpg: ignoring corrupt image/label: Label class 2282 exceeds dataset class count 1. Possible class labels are 0-0\n",
            "\u001b[34m\u001b[1mtrain: \u001b[0mWARNING ⚠️ /content/Scence-Text-Detection-4/train/images/IMG_2411_JPG.rf.1f6973f06d392738373c8c881b36d5c6.jpg: ignoring corrupt image/label: Label class 2 exceeds dataset class count 1. Possible class labels are 0-0\n",
            "\u001b[34m\u001b[1mtrain: \u001b[0mWARNING ⚠️ /content/Scence-Text-Detection-4/train/images/IMG_2413_JPG.rf.4d5df2b9ef85d78fed7dfe081a4889c0.jpg: ignoring corrupt image/label: Label class 4 exceeds dataset class count 1. Possible class labels are 0-0\n",
            "\u001b[34m\u001b[1mtrain: \u001b[0mWARNING ⚠️ /content/Scence-Text-Detection-4/train/images/IMG_2415_JPG.rf.033eb1789171eefdf09fb65212606f55.jpg: ignoring corrupt image/label: Label class 1807 exceeds dataset class count 1. Possible class labels are 0-0\n",
            "\u001b[34m\u001b[1mtrain: \u001b[0mWARNING ⚠️ /content/Scence-Text-Detection-4/train/images/IMG_2419_JPG.rf.59e2b0d55b0cf848c25bb74d7354f9c1.jpg: ignoring corrupt image/label: Label class 954 exceeds dataset class count 1. Possible class labels are 0-0\n",
            "\u001b[34m\u001b[1mtrain: \u001b[0mWARNING ⚠️ /content/Scence-Text-Detection-4/train/images/IMG_4071_JPG.rf.e5865bd72ad42b0ddd4517624d826f38.jpg: ignoring corrupt image/label: Label class 1849 exceeds dataset class count 1. Possible class labels are 0-0\n",
            "\u001b[34m\u001b[1mtrain: \u001b[0mWARNING ⚠️ /content/Scence-Text-Detection-4/train/images/IMG_5331_JPG.rf.479c533ec5385e54e92bd103dcab5ea9.jpg: ignoring corrupt image/label: Label class 1847 exceeds dataset class count 1. Possible class labels are 0-0\n",
            "\u001b[34m\u001b[1mtrain: \u001b[0mWARNING ⚠️ /content/Scence-Text-Detection-4/train/images/IMG_5346_JPG.rf.4a2311499dc4d335cfab6b45930184de.jpg: ignoring corrupt image/label: Label class 2 exceeds dataset class count 1. Possible class labels are 0-0\n",
            "\u001b[34m\u001b[1mtrain: \u001b[0mWARNING ⚠️ /content/Scence-Text-Detection-4/train/images/IMG_5347_JPG.rf.ba7e6ff840bee6c4b3bdd2e6fb9f59c5.jpg: ignoring corrupt image/label: Label class 2 exceeds dataset class count 1. Possible class labels are 0-0\n",
            "\u001b[34m\u001b[1mtrain: \u001b[0mWARNING ⚠️ /content/Scence-Text-Detection-4/train/images/IMG_5362_JPG.rf.2c823bd408a790c9278f424808003a0d.jpg: ignoring corrupt image/label: Label class 2 exceeds dataset class count 1. Possible class labels are 0-0\n",
            "\u001b[34m\u001b[1mtrain: \u001b[0mWARNING ⚠️ /content/Scence-Text-Detection-4/train/images/IMG_5369_JPG.rf.6a9ec25989813a2552e155ffa526ae5b.jpg: ignoring corrupt image/label: Label class 2 exceeds dataset class count 1. Possible class labels are 0-0\n",
            "\u001b[34m\u001b[1mtrain: \u001b[0mWARNING ⚠️ /content/Scence-Text-Detection-4/train/images/IMG_5374_JPG.rf.8c1ba25f76d03496afc597cc43c920c6.jpg: ignoring corrupt image/label: Label class 5 exceeds dataset class count 1. Possible class labels are 0-0\n",
            "\u001b[34m\u001b[1mtrain: \u001b[0mWARNING ⚠️ /content/Scence-Text-Detection-4/train/images/IMG_5394_JPG.rf.22bfbb8716b607afe18b7fc80b09fb47.jpg: ignoring corrupt image/label: Label class 5 exceeds dataset class count 1. Possible class labels are 0-0\n",
            "\u001b[34m\u001b[1mtrain: \u001b[0mWARNING ⚠️ /content/Scence-Text-Detection-4/train/images/IMG_5395_JPG.rf.2868fdcad0d13178aa4e14e2b5e67afb.jpg: ignoring corrupt image/label: Label class 2 exceeds dataset class count 1. Possible class labels are 0-0\n",
            "\u001b[34m\u001b[1mtrain: \u001b[0mWARNING ⚠️ /content/Scence-Text-Detection-4/train/images/IMG_5401_JPG.rf.2258e6d50b5b27b51d6e898e212f95aa.jpg: ignoring corrupt image/label: Label class 5 exceeds dataset class count 1. Possible class labels are 0-0\n",
            "\u001b[34m\u001b[1mtrain: \u001b[0mWARNING ⚠️ /content/Scence-Text-Detection-4/train/images/IMG_5405_JPG.rf.3f3b925654a5746a6d0b402cedc64259.jpg: ignoring corrupt image/label: Label class 3 exceeds dataset class count 1. Possible class labels are 0-0\n",
            "\u001b[34m\u001b[1mtrain: \u001b[0mWARNING ⚠️ /content/Scence-Text-Detection-4/train/images/IMG_5410_JPG.rf.b600e097e08e4f10ba9dd5b284ee8345.jpg: ignoring corrupt image/label: Label class 2 exceeds dataset class count 1. Possible class labels are 0-0\n",
            "\u001b[34m\u001b[1mtrain: \u001b[0mWARNING ⚠️ /content/Scence-Text-Detection-4/train/images/IMG_5411_JPG.rf.69f31b086b05fdc6e9c750dfaf7e50f5.jpg: ignoring corrupt image/label: Label class 2 exceeds dataset class count 1. Possible class labels are 0-0\n",
            "\u001b[34m\u001b[1mtrain: \u001b[0mWARNING ⚠️ /content/Scence-Text-Detection-4/train/images/IMG_5415_JPG.rf.6cc2391305e28e23351084c0f9797768.jpg: ignoring corrupt image/label: Label class 431 exceeds dataset class count 1. Possible class labels are 0-0\n",
            "\u001b[34m\u001b[1mtrain: \u001b[0mWARNING ⚠️ /content/Scence-Text-Detection-4/train/images/IMG_5417_JPG.rf.3d9b86ee9a1413778bde3571d4b5e167.jpg: ignoring corrupt image/label: Label class 431 exceeds dataset class count 1. Possible class labels are 0-0\n",
            "\u001b[34m\u001b[1mtrain: \u001b[0mWARNING ⚠️ /content/Scence-Text-Detection-4/train/images/IMG_5419_JPG.rf.80d2550fb8628c58ca3ff335f71361d6.jpg: ignoring corrupt image/label: Label class 1605 exceeds dataset class count 1. Possible class labels are 0-0\n",
            "\u001b[34m\u001b[1mtrain: \u001b[0mWARNING ⚠️ /content/Scence-Text-Detection-4/train/images/IMG_5424_PNG.rf.77b8d07f8e40804f3416e990337f606f.jpg: ignoring corrupt image/label: Label class 2 exceeds dataset class count 1. Possible class labels are 0-0\n",
            "\u001b[34m\u001b[1mtrain: \u001b[0mWARNING ⚠️ /content/Scence-Text-Detection-4/train/images/IMG_5425_JPG.rf.aaf22321bdeef7c337096ca768561814.jpg: ignoring corrupt image/label: Label class 1749 exceeds dataset class count 1. Possible class labels are 0-0\n",
            "\u001b[34m\u001b[1mtrain: \u001b[0mWARNING ⚠️ /content/Scence-Text-Detection-4/train/images/IMG_5427_JPG.rf.6a89bf238eee0140e91846a11050d807.jpg: ignoring corrupt image/label: Label class 2282 exceeds dataset class count 1. Possible class labels are 0-0\n",
            "\u001b[34m\u001b[1mtrain: \u001b[0mWARNING ⚠️ /content/Scence-Text-Detection-4/train/images/IMG_5431_JPG.rf.153624ada3c2aa37d3cd95fa74b3d104.jpg: ignoring corrupt image/label: Label class 1514 exceeds dataset class count 1. Possible class labels are 0-0\n",
            "\u001b[34m\u001b[1mtrain: \u001b[0mWARNING ⚠️ /content/Scence-Text-Detection-4/train/images/IMG_5433_JPG.rf.ce477c33d022eacaf76bae6e2af1af5a.jpg: ignoring corrupt image/label: Label class 2040 exceeds dataset class count 1. Possible class labels are 0-0\n",
            "\u001b[34m\u001b[1mtrain: \u001b[0mWARNING ⚠️ /content/Scence-Text-Detection-4/train/images/IMG_5434_JPG.rf.a3c46b495d8ddfbbfd72ab36b10c4c74.jpg: ignoring corrupt image/label: Label class 2093 exceeds dataset class count 1. Possible class labels are 0-0\n",
            "\u001b[34m\u001b[1mtrain: \u001b[0mWARNING ⚠️ /content/Scence-Text-Detection-4/train/images/IMG_5446_JPG.rf.515a9e45773e642bd8bb21ddd07efbb6.jpg: ignoring corrupt image/label: Label class 1406 exceeds dataset class count 1. Possible class labels are 0-0\n",
            "\u001b[34m\u001b[1mtrain: \u001b[0mWARNING ⚠️ /content/Scence-Text-Detection-4/train/images/IMG_5450_png.rf.244944a5c45d8e58c5a6705b4e2a2261.jpg: ignoring corrupt image/label: Label class 1703 exceeds dataset class count 1. Possible class labels are 0-0\n",
            "\u001b[34m\u001b[1mtrain: \u001b[0mWARNING ⚠️ /content/Scence-Text-Detection-4/train/images/IMG_5457_JPG.rf.27b3cbf2119d593242b0dd02371b9053.jpg: ignoring corrupt image/label: Label class 1175 exceeds dataset class count 1. Possible class labels are 0-0\n",
            "\u001b[34m\u001b[1mtrain: \u001b[0mWARNING ⚠️ /content/Scence-Text-Detection-4/train/images/IMG_5459_JPG.rf.805c3610d6b89b35c239e85a00688366.jpg: ignoring corrupt image/label: Label class 1511 exceeds dataset class count 1. Possible class labels are 0-0\n",
            "\u001b[34m\u001b[1mtrain: \u001b[0mWARNING ⚠️ /content/Scence-Text-Detection-4/train/images/IMG_5460_JPG.rf.c06c69556f9e7b2b78f292cde29d14a8.jpg: ignoring corrupt image/label: Label class 1810 exceeds dataset class count 1. Possible class labels are 0-0\n",
            "\u001b[34m\u001b[1mtrain: \u001b[0mWARNING ⚠️ /content/Scence-Text-Detection-4/train/images/IMG_5473_JPG.rf.ffc42af7432a8feefa8f69219dc1e377.jpg: ignoring corrupt image/label: Label class 2 exceeds dataset class count 1. Possible class labels are 0-0\n",
            "\u001b[34m\u001b[1mtrain: \u001b[0mWARNING ⚠️ /content/Scence-Text-Detection-4/train/images/IMG_5482_JPG.rf.bb7c2a5c6274f73b2b3d464aeb0301e0.jpg: ignoring corrupt image/label: Label class 3 exceeds dataset class count 1. Possible class labels are 0-0\n",
            "\u001b[34m\u001b[1mtrain: \u001b[0mWARNING ⚠️ /content/Scence-Text-Detection-4/train/images/IMG_5483_JPG.rf.9e6a38cd88ce1fe9937d9aa736e94dc6.jpg: ignoring corrupt image/label: Label class 3 exceeds dataset class count 1. Possible class labels are 0-0\n",
            "\u001b[34m\u001b[1mtrain: \u001b[0mWARNING ⚠️ /content/Scence-Text-Detection-4/train/images/IMG_5484_JPG.rf.78a970f1b8b96d9acf7779ac0f26eb14.jpg: ignoring corrupt image/label: Label class 2 exceeds dataset class count 1. Possible class labels are 0-0\n",
            "\u001b[34m\u001b[1mtrain: \u001b[0mWARNING ⚠️ /content/Scence-Text-Detection-4/train/images/IMG_5485_JPG.rf.7f1a87b7c699214abe1406428221f378.jpg: ignoring corrupt image/label: Label class 1098 exceeds dataset class count 1. Possible class labels are 0-0\n",
            "\u001b[34m\u001b[1mtrain: \u001b[0mWARNING ⚠️ /content/Scence-Text-Detection-4/train/images/IMG_5486_JPG.rf.af317509b98fbd195b89ee41b4495f8a.jpg: ignoring corrupt image/label: Label class 1806 exceeds dataset class count 1. Possible class labels are 0-0\n",
            "\u001b[34m\u001b[1mtrain: \u001b[0mWARNING ⚠️ /content/Scence-Text-Detection-4/train/images/IMG_5487_JPG.rf.7f09605e769cb8f93339672e096ebaa4.jpg: ignoring corrupt image/label: Label class 1729 exceeds dataset class count 1. Possible class labels are 0-0\n",
            "\u001b[34m\u001b[1mtrain: \u001b[0mWARNING ⚠️ /content/Scence-Text-Detection-4/train/images/IMG_5489_JPG.rf.91a25685664b40d773ecc761230dd6b6.jpg: ignoring corrupt image/label: Label class 2282 exceeds dataset class count 1. Possible class labels are 0-0\n",
            "\u001b[34m\u001b[1mtrain: \u001b[0mWARNING ⚠️ /content/Scence-Text-Detection-4/train/images/IMG_5491_JPG.rf.dd24e6bbdff09c3be23f13d82eeee3ca.jpg: ignoring corrupt image/label: Label class 1608 exceeds dataset class count 1. Possible class labels are 0-0\n",
            "\u001b[34m\u001b[1mtrain: \u001b[0mWARNING ⚠️ /content/Scence-Text-Detection-4/train/images/IMG_5492_JPG.rf.a78b50d6246844f1c61ece8a036eb904.jpg: ignoring corrupt image/label: Label class 2255 exceeds dataset class count 1. Possible class labels are 0-0\n",
            "\u001b[34m\u001b[1mtrain: \u001b[0mWARNING ⚠️ /content/Scence-Text-Detection-4/train/images/IMG_5493_JPG.rf.2ace7a0a57c5301c30ad052994d6ebe1.jpg: ignoring corrupt image/label: Label class 1897 exceeds dataset class count 1. Possible class labels are 0-0\n",
            "\u001b[34m\u001b[1mtrain: \u001b[0mWARNING ⚠️ /content/Scence-Text-Detection-4/train/images/IMG_5494_JPG.rf.2299c078c11b257b00a0dbe70d123cf6.jpg: ignoring corrupt image/label: Label class 1897 exceeds dataset class count 1. Possible class labels are 0-0\n",
            "\u001b[34m\u001b[1mtrain: \u001b[0mWARNING ⚠️ /content/Scence-Text-Detection-4/train/images/IMG_5495_JPG.rf.b4d302c9cd30a937692faee0f6cb2862.jpg: ignoring corrupt image/label: Label class 2 exceeds dataset class count 1. Possible class labels are 0-0\n",
            "\u001b[34m\u001b[1mtrain: \u001b[0mWARNING ⚠️ /content/Scence-Text-Detection-4/train/images/IMG_5498_JPG.rf.ffe0b71292c24b5ce8008d82e6498a02.jpg: ignoring corrupt image/label: Label class 2282 exceeds dataset class count 1. Possible class labels are 0-0\n",
            "\u001b[34m\u001b[1mtrain: \u001b[0mWARNING ⚠️ /content/Scence-Text-Detection-4/train/images/IMG_5503_JPG.rf.3896a4b88c750072542a5197556709a7.jpg: ignoring corrupt image/label: Label class 2003 exceeds dataset class count 1. Possible class labels are 0-0\n",
            "\u001b[34m\u001b[1mtrain: \u001b[0mWARNING ⚠️ /content/Scence-Text-Detection-4/train/images/IMG_5506_JPG.rf.b1bd0be36815e919e78d0fcc0951923d.jpg: ignoring corrupt image/label: Label class 2 exceeds dataset class count 1. Possible class labels are 0-0\n",
            "\u001b[34m\u001b[1mtrain: \u001b[0mWARNING ⚠️ /content/Scence-Text-Detection-4/train/images/IMG_5507_JPG.rf.045f1cdc7c32644547716da469f3ec73.jpg: ignoring corrupt image/label: Label class 2 exceeds dataset class count 1. Possible class labels are 0-0\n",
            "\u001b[34m\u001b[1mtrain: \u001b[0mWARNING ⚠️ /content/Scence-Text-Detection-4/train/images/IMG_5508_JPG.rf.2430cacf906c4765f2c39fdba9c57697.jpg: ignoring corrupt image/label: Label class 976 exceeds dataset class count 1. Possible class labels are 0-0\n",
            "\u001b[34m\u001b[1mtrain: \u001b[0mWARNING ⚠️ /content/Scence-Text-Detection-4/train/images/IMG_5510_JPG.rf.cc3fe4db4fb026074a8247eaecb61aa3.jpg: ignoring corrupt image/label: Label class 1810 exceeds dataset class count 1. Possible class labels are 0-0\n",
            "\u001b[34m\u001b[1mtrain: \u001b[0mWARNING ⚠️ /content/Scence-Text-Detection-4/train/images/IMG_5512_JPG.rf.345ceb61d1d588db4674e0bee949e897.jpg: ignoring corrupt image/label: Label class 1851 exceeds dataset class count 1. Possible class labels are 0-0\n",
            "\u001b[34m\u001b[1mtrain: \u001b[0mWARNING ⚠️ /content/Scence-Text-Detection-4/train/images/IMG_5513_JPG.rf.09f68cbf5b92e9dfeb3c33bb6a6a2087.jpg: ignoring corrupt image/label: Label class 2162 exceeds dataset class count 1. Possible class labels are 0-0\n",
            "\u001b[34m\u001b[1mtrain: \u001b[0mWARNING ⚠️ /content/Scence-Text-Detection-4/train/images/IMG_5516_JPG.rf.3d296bcb273508aa1bc9491ee67e58f6.jpg: ignoring corrupt image/label: Label class 975 exceeds dataset class count 1. Possible class labels are 0-0\n",
            "\u001b[34m\u001b[1mtrain: \u001b[0mWARNING ⚠️ /content/Scence-Text-Detection-4/train/images/IMG_5519_JPG.rf.8e154133e56f9ff598ba1226564bdfd8.jpg: ignoring corrupt image/label: Label class 1928 exceeds dataset class count 1. Possible class labels are 0-0\n",
            "\u001b[34m\u001b[1mtrain: \u001b[0mWARNING ⚠️ /content/Scence-Text-Detection-4/train/images/IMG_5522_png.rf.4f2cee10da7c72a7634e10d1645bf30e.jpg: ignoring corrupt image/label: Label class 2052 exceeds dataset class count 1. Possible class labels are 0-0\n",
            "\u001b[34m\u001b[1mtrain: \u001b[0mWARNING ⚠️ /content/Scence-Text-Detection-4/train/images/IMG_5523_JPG.rf.9820ef4fe1363439af97d41ef4b2e931.jpg: ignoring corrupt image/label: Label class 2025 exceeds dataset class count 1. Possible class labels are 0-0\n",
            "\u001b[34m\u001b[1mtrain: \u001b[0mWARNING ⚠️ /content/Scence-Text-Detection-4/train/images/IMG_5533_JPG.rf.72f0e67b00f0808965856d49298b7ca1.jpg: ignoring corrupt image/label: Label class 2184 exceeds dataset class count 1. Possible class labels are 0-0\n",
            "\u001b[34m\u001b[1mtrain: \u001b[0mWARNING ⚠️ /content/Scence-Text-Detection-4/train/images/IMG_5535_JPG.rf.ea4aaffe8d379be2746a041d79942c60.jpg: ignoring corrupt image/label: Label class 4 exceeds dataset class count 1. Possible class labels are 0-0\n",
            "\u001b[34m\u001b[1mtrain: \u001b[0mWARNING ⚠️ /content/Scence-Text-Detection-4/train/images/IMG_5536_JPG.rf.923d78716f94b81bd04f2e4ab5fb399f.jpg: ignoring corrupt image/label: Label class 1982 exceeds dataset class count 1. Possible class labels are 0-0\n",
            "\u001b[34m\u001b[1mtrain: \u001b[0mWARNING ⚠️ /content/Scence-Text-Detection-4/train/images/IMG_5538_JPG.rf.4ace5351c02259bcef403d686b9b39c7.jpg: ignoring corrupt image/label: Label class 2282 exceeds dataset class count 1. Possible class labels are 0-0\n",
            "\u001b[34m\u001b[1mtrain: \u001b[0mWARNING ⚠️ /content/Scence-Text-Detection-4/train/images/IMG_5539_JPG.rf.14817ebb6c1d41d986e7b9e8ac2a8c24.jpg: ignoring corrupt image/label: Label class 314 exceeds dataset class count 1. Possible class labels are 0-0\n",
            "\u001b[34m\u001b[1mtrain: \u001b[0mWARNING ⚠️ /content/Scence-Text-Detection-4/train/images/IMG_5541_JPG.rf.1092b2037b2bf83d65c320122c287d8c.jpg: ignoring corrupt image/label: Label class 1810 exceeds dataset class count 1. Possible class labels are 0-0\n",
            "\u001b[34m\u001b[1mtrain: \u001b[0mWARNING ⚠️ /content/Scence-Text-Detection-4/train/images/IMG_5542_JPG.rf.da09b07099dfb308b177a17b5fa2c9db.jpg: ignoring corrupt image/label: Label class 2164 exceeds dataset class count 1. Possible class labels are 0-0\n",
            "\u001b[34m\u001b[1mtrain: \u001b[0mWARNING ⚠️ /content/Scence-Text-Detection-4/train/images/IMG_5545_JPG.rf.429ba14ff4fe8e9f4915c4f63401139a.jpg: ignoring corrupt image/label: Label class 1829 exceeds dataset class count 1. Possible class labels are 0-0\n",
            "\u001b[34m\u001b[1mtrain: \u001b[0mWARNING ⚠️ /content/Scence-Text-Detection-4/train/images/IMG_5547_JPG.rf.999d0758c5f61dbaeffed27be6b97a44.jpg: ignoring corrupt image/label: Label class 1810 exceeds dataset class count 1. Possible class labels are 0-0\n",
            "\u001b[34m\u001b[1mtrain: \u001b[0mWARNING ⚠️ /content/Scence-Text-Detection-4/train/images/IMG_5548_JPG.rf.5cc79952330f9485edcc5abf43a1ccb7.jpg: ignoring corrupt image/label: Label class 2282 exceeds dataset class count 1. Possible class labels are 0-0\n",
            "\u001b[34m\u001b[1mtrain: \u001b[0mWARNING ⚠️ /content/Scence-Text-Detection-4/train/images/IMG_5549_JPG.rf.9a8725f25544e7538c8192d58ca8fee6.jpg: ignoring corrupt image/label: Label class 1851 exceeds dataset class count 1. Possible class labels are 0-0\n",
            "\u001b[34m\u001b[1mtrain: \u001b[0mWARNING ⚠️ /content/Scence-Text-Detection-4/train/images/IMG_5552_JPG.rf.c14d946a23082a12f132d8422f5096e0.jpg: ignoring corrupt image/label: Label class 1802 exceeds dataset class count 1. Possible class labels are 0-0\n",
            "\u001b[34m\u001b[1mtrain: \u001b[0mWARNING ⚠️ /content/Scence-Text-Detection-4/train/images/IMG_5555_JPG.rf.152ebaf61d09bd94551b072c3c85ccfb.jpg: ignoring corrupt image/label: Label class 3 exceeds dataset class count 1. Possible class labels are 0-0\n",
            "\u001b[34m\u001b[1mtrain: \u001b[0mWARNING ⚠️ /content/Scence-Text-Detection-4/train/images/IMG_5557_JPG.rf.98c8f6a28a40a0ad6f11e4c136b0702c.jpg: ignoring corrupt image/label: Label class 2 exceeds dataset class count 1. Possible class labels are 0-0\n",
            "\u001b[34m\u001b[1mtrain: \u001b[0mWARNING ⚠️ /content/Scence-Text-Detection-4/train/images/IMG_5558_JPG.rf.8baf28d4e47d775a97da63547f61a952.jpg: ignoring corrupt image/label: Label class 1722 exceeds dataset class count 1. Possible class labels are 0-0\n",
            "\u001b[34m\u001b[1mtrain: \u001b[0mWARNING ⚠️ /content/Scence-Text-Detection-4/train/images/IMG_5560_JPG.rf.8a8b12d27e56a0deb74f1ed45143f24f.jpg: ignoring corrupt image/label: Label class 2 exceeds dataset class count 1. Possible class labels are 0-0\n",
            "\u001b[34m\u001b[1mtrain: \u001b[0mWARNING ⚠️ /content/Scence-Text-Detection-4/train/images/IMG_5563_JPG.rf.d4d2ef6cb975d6aa4bfcfc38680b54fa.jpg: ignoring corrupt image/label: Label class 1851 exceeds dataset class count 1. Possible class labels are 0-0\n",
            "\u001b[34m\u001b[1mtrain: \u001b[0mWARNING ⚠️ /content/Scence-Text-Detection-4/train/images/IMG_5564_JPG.rf.60a46bfcbbb3d4f0672b36cb3ec95a10.jpg: ignoring corrupt image/label: Label class 1722 exceeds dataset class count 1. Possible class labels are 0-0\n",
            "\u001b[34m\u001b[1mtrain: \u001b[0mWARNING ⚠️ /content/Scence-Text-Detection-4/train/images/IMG_5568_JPG.rf.f9bdaaa7145ab5e38b002644529ee223.jpg: ignoring corrupt image/label: Label class 2 exceeds dataset class count 1. Possible class labels are 0-0\n",
            "\u001b[34m\u001b[1mtrain: \u001b[0mWARNING ⚠️ /content/Scence-Text-Detection-4/train/images/IMG_5569_JPG.rf.3d0cd006271bdd40ba77aabf10c2490b.jpg: ignoring corrupt image/label: Label class 2082 exceeds dataset class count 1. Possible class labels are 0-0\n",
            "\u001b[34m\u001b[1mtrain: \u001b[0mWARNING ⚠️ /content/Scence-Text-Detection-4/train/images/IMG_5570_JPG.rf.75d8809ffc2ae28c70e4d73c8a2439f3.jpg: ignoring corrupt image/label: Label class 2101 exceeds dataset class count 1. Possible class labels are 0-0\n",
            "\u001b[34m\u001b[1mtrain: \u001b[0mWARNING ⚠️ /content/Scence-Text-Detection-4/train/images/IMG_5578_JPG.rf.8c8d4c07e43c6cf007f7d16248fad194.jpg: ignoring corrupt image/label: Label class 2045 exceeds dataset class count 1. Possible class labels are 0-0\n",
            "\u001b[34m\u001b[1mtrain: \u001b[0mWARNING ⚠️ /content/Scence-Text-Detection-4/train/images/IMG_5580_JPG.rf.d9bafbab7f4c33018eee2cf796b7bb50.jpg: ignoring corrupt image/label: Label class 1660 exceeds dataset class count 1. Possible class labels are 0-0\n",
            "\u001b[34m\u001b[1mtrain: \u001b[0mWARNING ⚠️ /content/Scence-Text-Detection-4/train/images/IMG_5582_JPG.rf.9033ccc593ad8390dd3f0948b8cec462.jpg: ignoring corrupt image/label: Label class 1648 exceeds dataset class count 1. Possible class labels are 0-0\n",
            "\u001b[34m\u001b[1mtrain: \u001b[0mWARNING ⚠️ /content/Scence-Text-Detection-4/train/images/IMG_5584_JPG.rf.5523f22c2f5202b51997f18dfb639b43.jpg: ignoring corrupt image/label: Label class 2176 exceeds dataset class count 1. Possible class labels are 0-0\n",
            "\u001b[34m\u001b[1mtrain: \u001b[0mWARNING ⚠️ /content/Scence-Text-Detection-4/train/images/IMG_5585_JPG.rf.f6248299a70a80e69cc5647b277dac82.jpg: ignoring corrupt image/label: Label class 2 exceeds dataset class count 1. Possible class labels are 0-0\n",
            "\u001b[34m\u001b[1mtrain: \u001b[0mWARNING ⚠️ /content/Scence-Text-Detection-4/train/images/IMG_5586_JPG.rf.3082a273ded9ac70cf5600a4a49e5717.jpg: ignoring corrupt image/label: Label class 3 exceeds dataset class count 1. Possible class labels are 0-0\n",
            "\u001b[34m\u001b[1mtrain: \u001b[0mWARNING ⚠️ /content/Scence-Text-Detection-4/train/images/IMG_5587_JPG.rf.b00b8631d0f06b85ea482f5a012cde5b.jpg: ignoring corrupt image/label: Label class 2282 exceeds dataset class count 1. Possible class labels are 0-0\n",
            "\u001b[34m\u001b[1mtrain: \u001b[0mWARNING ⚠️ /content/Scence-Text-Detection-4/train/images/IMG_5588_JPG.rf.c16a4bcc071fc29535c5920dfa179192.jpg: ignoring corrupt image/label: Label class 2282 exceeds dataset class count 1. Possible class labels are 0-0\n",
            "\u001b[34m\u001b[1mtrain: \u001b[0mWARNING ⚠️ /content/Scence-Text-Detection-4/train/images/IMG_5589_JPG.rf.f27cd0658fa214ad779f2758cfb6fcb1.jpg: ignoring corrupt image/label: Label class 1967 exceeds dataset class count 1. Possible class labels are 0-0\n",
            "\u001b[34m\u001b[1mtrain: \u001b[0mWARNING ⚠️ /content/Scence-Text-Detection-4/train/images/IMG_5590_JPG.rf.53625d80bec1fe73d89bf2d0a2c9254c.jpg: ignoring corrupt image/label: Label class 1432 exceeds dataset class count 1. Possible class labels are 0-0\n",
            "\u001b[34m\u001b[1mtrain: \u001b[0mWARNING ⚠️ /content/Scence-Text-Detection-4/train/images/IMG_5600_JPG.rf.dbcde76d343afef4a6c92fa5a63cf2f9.jpg: ignoring corrupt image/label: Label class 1047 exceeds dataset class count 1. Possible class labels are 0-0\n",
            "\u001b[34m\u001b[1mtrain: \u001b[0mWARNING ⚠️ /content/Scence-Text-Detection-4/train/images/IMG_5601_JPG.rf.8514c294bb03bfab139b1128cfac906e.jpg: ignoring corrupt image/label: Label class 1575 exceeds dataset class count 1. Possible class labels are 0-0\n",
            "\u001b[34m\u001b[1mtrain: \u001b[0mWARNING ⚠️ /content/Scence-Text-Detection-4/train/images/IMG_5602_JPG.rf.89ad4e9d23d9c7c96c948d5448809021.jpg: ignoring corrupt image/label: Label class 978 exceeds dataset class count 1. Possible class labels are 0-0\n",
            "\u001b[34m\u001b[1mtrain: \u001b[0mWARNING ⚠️ /content/Scence-Text-Detection-4/train/images/IMG_5616_JPG.rf.ab53df4d4e2c3fec5ae4417064cd8dcc.jpg: ignoring corrupt image/label: Label class 292 exceeds dataset class count 1. Possible class labels are 0-0\n",
            "\u001b[34m\u001b[1mtrain: \u001b[0mWARNING ⚠️ /content/Scence-Text-Detection-4/train/images/IMG_5624_JPG.rf.62f16987bb7eb413cca9f170fe65921c.jpg: ignoring corrupt image/label: Label class 2282 exceeds dataset class count 1. Possible class labels are 0-0\n",
            "\u001b[34m\u001b[1mtrain: \u001b[0mWARNING ⚠️ /content/Scence-Text-Detection-4/train/images/IMG_5625_JPG.rf.37f3206796c15602579816d5d474e679.jpg: ignoring corrupt image/label: Label class 2282 exceeds dataset class count 1. Possible class labels are 0-0\n",
            "\u001b[34m\u001b[1mtrain: \u001b[0mWARNING ⚠️ /content/Scence-Text-Detection-4/train/images/IMG_5628_JPG.rf.5664c477beb5f661ea453f60fd5855fd.jpg: ignoring corrupt image/label: Label class 2282 exceeds dataset class count 1. Possible class labels are 0-0\n",
            "\u001b[34m\u001b[1mtrain: \u001b[0mWARNING ⚠️ /content/Scence-Text-Detection-4/train/images/IMG_5629_JPG.rf.ba66d64be97cdadfa641906e866f225e.jpg: ignoring corrupt image/label: Label class 1945 exceeds dataset class count 1. Possible class labels are 0-0\n",
            "\u001b[34m\u001b[1mtrain: \u001b[0mWARNING ⚠️ /content/Scence-Text-Detection-4/train/images/IMG_5632_JPG.rf.bf5525582310e046d18de23596ed6b2c.jpg: ignoring corrupt image/label: Label class 2282 exceeds dataset class count 1. Possible class labels are 0-0\n",
            "\u001b[34m\u001b[1mtrain: \u001b[0mWARNING ⚠️ /content/Scence-Text-Detection-4/train/images/IMG_5633_JPG.rf.da36e14218c5bd8b6a84834ea5892957.jpg: ignoring corrupt image/label: Label class 2258 exceeds dataset class count 1. Possible class labels are 0-0\n",
            "\u001b[34m\u001b[1mtrain: \u001b[0mWARNING ⚠️ /content/Scence-Text-Detection-4/train/images/IMG_5635_JPG.rf.10e007dafa210435843df37d03164db2.jpg: ignoring corrupt image/label: Label class 2190 exceeds dataset class count 1. Possible class labels are 0-0\n",
            "\u001b[34m\u001b[1mtrain: \u001b[0mWARNING ⚠️ /content/Scence-Text-Detection-4/train/images/IMG_5638_JPG.rf.52ca65522e6a70c01ca8551dae3b2535.jpg: ignoring corrupt image/label: Label class 2282 exceeds dataset class count 1. Possible class labels are 0-0\n",
            "\u001b[34m\u001b[1mtrain: \u001b[0mWARNING ⚠️ /content/Scence-Text-Detection-4/train/images/IMG_5639_JPG.rf.0654dfd41eaf6131bd9f85f27f2738d7.jpg: ignoring corrupt image/label: Label class 1829 exceeds dataset class count 1. Possible class labels are 0-0\n",
            "\u001b[34m\u001b[1mtrain: \u001b[0mWARNING ⚠️ /content/Scence-Text-Detection-4/train/images/IMG_5644_JPG.rf.8639127dbe30d27df95a7e6f6f2553e0.jpg: ignoring corrupt image/label: Label class 2282 exceeds dataset class count 1. Possible class labels are 0-0\n",
            "\u001b[34m\u001b[1mtrain: \u001b[0mWARNING ⚠️ /content/Scence-Text-Detection-4/train/images/IMG_5648_JPG.rf.b76421ec88b015b14562b9950b09d265.jpg: ignoring corrupt image/label: Label class 1967 exceeds dataset class count 1. Possible class labels are 0-0\n",
            "\u001b[34m\u001b[1mtrain: \u001b[0mWARNING ⚠️ /content/Scence-Text-Detection-4/train/images/IMG_5656_JPG.rf.d476aaaca7db7ecbff70521eae4f4d02.jpg: ignoring corrupt image/label: Label class 1648 exceeds dataset class count 1. Possible class labels are 0-0\n",
            "\u001b[34m\u001b[1mtrain: \u001b[0mWARNING ⚠️ /content/Scence-Text-Detection-4/train/images/IMG_5657_JPG.rf.2b604ac96f032660b6531a0acceb908f.jpg: ignoring corrupt image/label: Label class 2282 exceeds dataset class count 1. Possible class labels are 0-0\n",
            "\u001b[34m\u001b[1mtrain: \u001b[0mWARNING ⚠️ /content/Scence-Text-Detection-4/train/images/IMG_5660_JPG.rf.b24643cbb0b3e6be777b67e967b5f718.jpg: ignoring corrupt image/label: Label class 3 exceeds dataset class count 1. Possible class labels are 0-0\n",
            "\u001b[34m\u001b[1mtrain: \u001b[0mWARNING ⚠️ /content/Scence-Text-Detection-4/train/images/IMG_5662_JPG.rf.a3e457f8eab66d39b8a9a155f3ee3a17.jpg: ignoring corrupt image/label: Label class 2021 exceeds dataset class count 1. Possible class labels are 0-0\n",
            "\u001b[34m\u001b[1mtrain: \u001b[0mWARNING ⚠️ /content/Scence-Text-Detection-4/train/images/IMG_5663_JPG.rf.83622f5c39f5e64648003f1a24844559.jpg: ignoring corrupt image/label: Label class 2045 exceeds dataset class count 1. Possible class labels are 0-0\n",
            "\u001b[34m\u001b[1mtrain: \u001b[0mWARNING ⚠️ /content/Scence-Text-Detection-4/train/images/IMG_5666_JPG.rf.aec48e44e1ec3ecc0ac08346db6c9793.jpg: ignoring corrupt image/label: Label class 2282 exceeds dataset class count 1. Possible class labels are 0-0\n",
            "\u001b[34m\u001b[1mtrain: \u001b[0mWARNING ⚠️ /content/Scence-Text-Detection-4/train/images/IMG_5667_JPG.rf.1ee3d19ba21ce9b924ebbdc677d7ab4a.jpg: ignoring corrupt image/label: Label class 922 exceeds dataset class count 1. Possible class labels are 0-0\n",
            "\u001b[34m\u001b[1mtrain: \u001b[0mWARNING ⚠️ /content/Scence-Text-Detection-4/train/images/IMG_5673_JPG.rf.cf591f1bb9c816e37c0d27c8118afdc8.jpg: ignoring corrupt image/label: Label class 1648 exceeds dataset class count 1. Possible class labels are 0-0\n",
            "\u001b[34m\u001b[1mtrain: \u001b[0mWARNING ⚠️ /content/Scence-Text-Detection-4/train/images/IMG_5676_JPG.rf.dde61f4f7d5174d6bf68fe4509fe5802.jpg: ignoring corrupt image/label: Label class 1608 exceeds dataset class count 1. Possible class labels are 0-0\n",
            "\u001b[34m\u001b[1mtrain: \u001b[0mWARNING ⚠️ /content/Scence-Text-Detection-4/train/images/IMG_5677_JPG.rf.4f371df78e0ef86765b78c3a3632261d.jpg: ignoring corrupt image/label: Label class 1648 exceeds dataset class count 1. Possible class labels are 0-0\n",
            "\u001b[34m\u001b[1mtrain: \u001b[0mWARNING ⚠️ /content/Scence-Text-Detection-4/train/images/IMG_5678_JPG.rf.9a35864d72a7b0fb18ee05b6aecc733d.jpg: ignoring corrupt image/label: Label class 1608 exceeds dataset class count 1. Possible class labels are 0-0\n",
            "\u001b[34m\u001b[1mtrain: \u001b[0mWARNING ⚠️ /content/Scence-Text-Detection-4/train/images/IMG_5682_JPG.rf.fc5eaf5f06b5e61813eee9f305609edd.jpg: ignoring corrupt image/label: Label class 1648 exceeds dataset class count 1. Possible class labels are 0-0\n",
            "\u001b[34m\u001b[1mtrain: \u001b[0mWARNING ⚠️ /content/Scence-Text-Detection-4/train/images/IMG_5683_JPG.rf.b19ce1f963f1afa3087f8ac0083bf6e2.jpg: ignoring corrupt image/label: Label class 2282 exceeds dataset class count 1. Possible class labels are 0-0\n",
            "\u001b[34m\u001b[1mtrain: \u001b[0mWARNING ⚠️ /content/Scence-Text-Detection-4/train/images/IMG_5689_JPG.rf.b76b74d337b9e864f0800c9d23ab28e7.jpg: ignoring corrupt image/label: Label class 1631 exceeds dataset class count 1. Possible class labels are 0-0\n",
            "\u001b[34m\u001b[1mtrain: \u001b[0mWARNING ⚠️ /content/Scence-Text-Detection-4/train/images/IMG_5697_JPG.rf.899bc17c8163e09e5c085dc56a356a61.jpg: ignoring corrupt image/label: Label class 1464 exceeds dataset class count 1. Possible class labels are 0-0\n",
            "\u001b[34m\u001b[1mtrain: \u001b[0mWARNING ⚠️ /content/Scence-Text-Detection-4/train/images/IMG_5698_JPG.rf.c22ab02eccb7980e0ee7d72d95dd8ea2.jpg: ignoring corrupt image/label: Label class 1517 exceeds dataset class count 1. Possible class labels are 0-0\n",
            "\u001b[34m\u001b[1mtrain: \u001b[0mWARNING ⚠️ /content/Scence-Text-Detection-4/train/images/IMG_5701_JPG.rf.f8666e5e2c3f4b7941f6f05e4ee2b6d9.jpg: ignoring corrupt image/label: Label class 2283 exceeds dataset class count 1. Possible class labels are 0-0\n",
            "\u001b[34m\u001b[1mtrain: \u001b[0mWARNING ⚠️ /content/Scence-Text-Detection-4/train/images/IMG_5705_JPG.rf.981c14081f4710cfeb000c6964d3baf3.jpg: ignoring corrupt image/label: Label class 1919 exceeds dataset class count 1. Possible class labels are 0-0\n",
            "\u001b[34m\u001b[1mtrain: \u001b[0mWARNING ⚠️ /content/Scence-Text-Detection-4/train/images/IMG_5706_JPG.rf.2609c43e28ec862136607e21311b8a93.jpg: ignoring corrupt image/label: Label class 2268 exceeds dataset class count 1. Possible class labels are 0-0\n",
            "\u001b[34m\u001b[1mtrain: \u001b[0mWARNING ⚠️ /content/Scence-Text-Detection-4/train/images/IMG_5708_JPG.rf.5db466427047bab4f685789421e0e842.jpg: ignoring corrupt image/label: Label class 2 exceeds dataset class count 1. Possible class labels are 0-0\n",
            "\u001b[34m\u001b[1mtrain: \u001b[0mWARNING ⚠️ /content/Scence-Text-Detection-4/train/images/IMG_5709_JPG.rf.47559356593bfbe1c26532813b9a1ac2.jpg: ignoring corrupt image/label: Label class 2019 exceeds dataset class count 1. Possible class labels are 0-0\n",
            "\u001b[34m\u001b[1mtrain: \u001b[0mWARNING ⚠️ /content/Scence-Text-Detection-4/train/images/IMG_5715_JPG.rf.1c87d2f86d9b56bda1ded742f03745ec.jpg: ignoring corrupt image/label: Label class 2044 exceeds dataset class count 1. Possible class labels are 0-0\n",
            "\u001b[34m\u001b[1mtrain: \u001b[0mWARNING ⚠️ /content/Scence-Text-Detection-4/train/images/IMG_5716_JPG.rf.ab918bea808f35eaaa5a5575bf7ed2cd.jpg: ignoring corrupt image/label: Label class 2086 exceeds dataset class count 1. Possible class labels are 0-0\n",
            "\u001b[34m\u001b[1mtrain: \u001b[0mWARNING ⚠️ /content/Scence-Text-Detection-4/train/images/IMG_5718_JPG.rf.07c09cf039b5f3d1cddbbdb0eb2c65c2.jpg: ignoring corrupt image/label: Label class 2044 exceeds dataset class count 1. Possible class labels are 0-0\n",
            "\u001b[34m\u001b[1mtrain: \u001b[0mWARNING ⚠️ /content/Scence-Text-Detection-4/train/images/IMG_5720_JPG.rf.28eb1e506423cc686602602a0b7ce439.jpg: ignoring corrupt image/label: Label class 2252 exceeds dataset class count 1. Possible class labels are 0-0\n",
            "\u001b[34m\u001b[1mtrain: \u001b[0mWARNING ⚠️ /content/Scence-Text-Detection-4/train/images/IMG_5723_JPG.rf.3533f14f68b7d33a3026c78e7ec77ea4.jpg: ignoring corrupt image/label: Label class 2043 exceeds dataset class count 1. Possible class labels are 0-0\n",
            "\u001b[34m\u001b[1mtrain: \u001b[0mWARNING ⚠️ /content/Scence-Text-Detection-4/train/images/IMG_5725_JPG.rf.13494cafa4149028ffc730a7b2b84120.jpg: ignoring corrupt image/label: Label class 2 exceeds dataset class count 1. Possible class labels are 0-0\n",
            "\u001b[34m\u001b[1mtrain: \u001b[0mWARNING ⚠️ /content/Scence-Text-Detection-4/train/images/IMG_5732_JPG.rf.e6203fde8d1078179e323a88e3350dc8.jpg: ignoring corrupt image/label: Label class 1904 exceeds dataset class count 1. Possible class labels are 0-0\n",
            "\u001b[34m\u001b[1mtrain: \u001b[0mWARNING ⚠️ /content/Scence-Text-Detection-4/train/images/IMG_5734_JPG.rf.d1c4d1965c16fd737e6d31e3b57168f2.jpg: ignoring corrupt image/label: Label class 2102 exceeds dataset class count 1. Possible class labels are 0-0\n",
            "\u001b[34m\u001b[1mtrain: \u001b[0mWARNING ⚠️ /content/Scence-Text-Detection-4/train/images/IMG_5737_JPG.rf.188e76d7c212037c16b9b58f4bfe9b81.jpg: ignoring corrupt image/label: Label class 1904 exceeds dataset class count 1. Possible class labels are 0-0\n",
            "\u001b[34m\u001b[1mtrain: \u001b[0mWARNING ⚠️ /content/Scence-Text-Detection-4/train/images/IMG_5743_JPG.rf.841d024c58c67a1ff22f23bfbee2e696.jpg: ignoring corrupt image/label: Label class 17 exceeds dataset class count 1. Possible class labels are 0-0\n",
            "\u001b[34m\u001b[1mtrain: \u001b[0mWARNING ⚠️ /content/Scence-Text-Detection-4/train/images/IMG_5748_JPG.rf.d9c4c4abaf02eb380c70e2f8596cefc9.jpg: ignoring corrupt image/label: Label class 1930 exceeds dataset class count 1. Possible class labels are 0-0\n",
            "\u001b[34m\u001b[1mtrain: \u001b[0mWARNING ⚠️ /content/Scence-Text-Detection-4/train/images/IMG_5750_JPG.rf.25b96b70b836d1b239fdea151a344a44.jpg: ignoring corrupt image/label: Label class 1957 exceeds dataset class count 1. Possible class labels are 0-0\n",
            "\u001b[34m\u001b[1mtrain: \u001b[0mWARNING ⚠️ /content/Scence-Text-Detection-4/train/images/IMG_5751_JPG.rf.1a88eda7d9b1e6e2b23f50f05765aae1.jpg: ignoring corrupt image/label: Label class 2045 exceeds dataset class count 1. Possible class labels are 0-0\n",
            "\u001b[34m\u001b[1mtrain: \u001b[0mWARNING ⚠️ /content/Scence-Text-Detection-4/train/images/IMG_5754_JPG.rf.595d90761a0b6b962723643ce421f691.jpg: ignoring corrupt image/label: Label class 2017 exceeds dataset class count 1. Possible class labels are 0-0\n",
            "\u001b[34m\u001b[1mtrain: \u001b[0mWARNING ⚠️ /content/Scence-Text-Detection-4/train/images/IMG_5758_JPG.rf.9372bd7e403d1bac50c0a007d16bdf34.jpg: ignoring corrupt image/label: Label class 370 exceeds dataset class count 1. Possible class labels are 0-0\n",
            "\u001b[34m\u001b[1mtrain: \u001b[0mWARNING ⚠️ /content/Scence-Text-Detection-4/train/images/IMG_5760_JPG.rf.11bee652ae971340eae9bb3dfdeb73be.jpg: ignoring corrupt image/label: Label class 1810 exceeds dataset class count 1. Possible class labels are 0-0\n",
            "\u001b[34m\u001b[1mtrain: \u001b[0mWARNING ⚠️ /content/Scence-Text-Detection-4/train/images/IMG_5762_JPG.rf.730cd1b0f9399625127dae1c667c34af.jpg: ignoring corrupt image/label: Label class 1650 exceeds dataset class count 1. Possible class labels are 0-0\n",
            "\u001b[34m\u001b[1mtrain: \u001b[0mWARNING ⚠️ /content/Scence-Text-Detection-4/train/images/IMG_5764_JPG.rf.df760a334f667974f8edab3aec8f7422.jpg: ignoring corrupt image/label: Label class 2234 exceeds dataset class count 1. Possible class labels are 0-0\n",
            "\u001b[34m\u001b[1mtrain: \u001b[0mWARNING ⚠️ /content/Scence-Text-Detection-4/train/images/IMG_5765_JPG.rf.530c2e3c9ed7c0a7267fcd50423d034b.jpg: ignoring corrupt image/label: Label class 2 exceeds dataset class count 1. Possible class labels are 0-0\n",
            "\u001b[34m\u001b[1mtrain: \u001b[0mWARNING ⚠️ /content/Scence-Text-Detection-4/train/images/IMG_5766_JPG.rf.7c9d3d659d760fdc23423cd966fa364f.jpg: ignoring corrupt image/label: Label class 6 exceeds dataset class count 1. Possible class labels are 0-0\n",
            "\u001b[34m\u001b[1mtrain: \u001b[0mWARNING ⚠️ /content/Scence-Text-Detection-4/train/images/IMG_5769_JPG.rf.6d05ccdf3d88d924079b1c2788e34b56.jpg: ignoring corrupt image/label: Label class 1608 exceeds dataset class count 1. Possible class labels are 0-0\n",
            "\u001b[34m\u001b[1mtrain: \u001b[0mWARNING ⚠️ /content/Scence-Text-Detection-4/train/images/IMG_5770_JPG.rf.bff6a6ad98a21731b032b24de95419d4.jpg: ignoring corrupt image/label: Label class 2223 exceeds dataset class count 1. Possible class labels are 0-0\n",
            "\u001b[34m\u001b[1mtrain: \u001b[0mWARNING ⚠️ /content/Scence-Text-Detection-4/train/images/IMG_5787_JPG.rf.ae3a29e0f843094cd5329ea9f2e5eae8.jpg: ignoring corrupt image/label: Label class 1828 exceeds dataset class count 1. Possible class labels are 0-0\n",
            "\u001b[34m\u001b[1mtrain: \u001b[0mWARNING ⚠️ /content/Scence-Text-Detection-4/train/images/IMG_5789_JPG.rf.93c47b403a162b8faa64c82c48e5d94d.jpg: ignoring corrupt image/label: Label class 1849 exceeds dataset class count 1. Possible class labels are 0-0\n",
            "\u001b[34m\u001b[1mtrain: \u001b[0mWARNING ⚠️ /content/Scence-Text-Detection-4/train/images/IMG_5793_JPG.rf.2c40b2c22ebabee8ed7a1a0d458fa762.jpg: ignoring corrupt image/label: Label class 1904 exceeds dataset class count 1. Possible class labels are 0-0\n",
            "\u001b[34m\u001b[1mtrain: \u001b[0mWARNING ⚠️ /content/Scence-Text-Detection-4/train/images/IMG_5799_JPG.rf.d6dcaa9b029948d2de405d3cd455dc4d.jpg: ignoring corrupt image/label: Label class 1759 exceeds dataset class count 1. Possible class labels are 0-0\n",
            "\u001b[34m\u001b[1mtrain: \u001b[0mWARNING ⚠️ /content/Scence-Text-Detection-4/train/images/IMG_5800_JPG.rf.fa846f3fb1876089ac1556fe83dfe6cf.jpg: ignoring corrupt image/label: Label class 1923 exceeds dataset class count 1. Possible class labels are 0-0\n",
            "\u001b[34m\u001b[1mtrain: \u001b[0mWARNING ⚠️ /content/Scence-Text-Detection-4/train/images/IMG_5801_JPG.rf.931f0066673879e9688e0aee361845fa.jpg: ignoring corrupt image/label: Label class 3 exceeds dataset class count 1. Possible class labels are 0-0\n",
            "\u001b[34m\u001b[1mtrain: \u001b[0mWARNING ⚠️ /content/Scence-Text-Detection-4/train/images/IMG_5804_JPG.rf.e5054e9ecd4a7470d3b02eef6722f76e.jpg: ignoring corrupt image/label: Label class 4 exceeds dataset class count 1. Possible class labels are 0-0\n",
            "\u001b[34m\u001b[1mtrain: \u001b[0mWARNING ⚠️ /content/Scence-Text-Detection-4/train/images/IMG_5805_JPG.rf.94069d3ec761b29a6b632684675d6ce1.jpg: ignoring corrupt image/label: Label class 341 exceeds dataset class count 1. Possible class labels are 0-0\n",
            "\u001b[34m\u001b[1mtrain: \u001b[0mWARNING ⚠️ /content/Scence-Text-Detection-4/train/images/IMG_5809_JPG.rf.21f57443e496c2cbc5ecb47992ea9c3c.jpg: ignoring corrupt image/label: Label class 2282 exceeds dataset class count 1. Possible class labels are 0-0\n",
            "\u001b[34m\u001b[1mtrain: \u001b[0mWARNING ⚠️ /content/Scence-Text-Detection-4/train/images/IMG_5811_JPG.rf.d5d01eb0f1bcf722f93efbc737c6f430.jpg: ignoring corrupt image/label: Label class 2 exceeds dataset class count 1. Possible class labels are 0-0\n",
            "\u001b[34m\u001b[1mtrain: \u001b[0mWARNING ⚠️ /content/Scence-Text-Detection-4/train/images/IMG_5812_JPG.rf.16519804157eb3ac6ba5b8ead027bc69.jpg: ignoring corrupt image/label: Label class 2162 exceeds dataset class count 1. Possible class labels are 0-0\n",
            "\u001b[34m\u001b[1mtrain: \u001b[0mWARNING ⚠️ /content/Scence-Text-Detection-4/train/images/IMG_5818_JPG.rf.fe7a33f68808d06fe678f4a30b135dd0.jpg: ignoring corrupt image/label: Label class 1891 exceeds dataset class count 1. Possible class labels are 0-0\n",
            "\u001b[34m\u001b[1mtrain: \u001b[0mWARNING ⚠️ /content/Scence-Text-Detection-4/train/images/IMG_5819_JPG.rf.36f770330fc9244cd190dca1c3114b0d.jpg: ignoring corrupt image/label: Label class 1759 exceeds dataset class count 1. Possible class labels are 0-0\n",
            "\u001b[34m\u001b[1mtrain: \u001b[0mWARNING ⚠️ /content/Scence-Text-Detection-4/train/images/IMG_5820_JPG.rf.b9e0b5a693e5c8c9f61981cbc9ec5e03.jpg: ignoring corrupt image/label: Label class 2065 exceeds dataset class count 1. Possible class labels are 0-0\n",
            "\u001b[34m\u001b[1mtrain: \u001b[0mWARNING ⚠️ /content/Scence-Text-Detection-4/train/images/IMG_5821_JPG.rf.61a355121682d80eca75f2301b78e52a.jpg: ignoring corrupt image/label: Label class 1816 exceeds dataset class count 1. Possible class labels are 0-0\n",
            "\u001b[34m\u001b[1mtrain: \u001b[0mWARNING ⚠️ /content/Scence-Text-Detection-4/train/images/IMG_5823_JPG.rf.0186688c64821ad3ddf3b7a26d9f09b9.jpg: ignoring corrupt image/label: Label class 315 exceeds dataset class count 1. Possible class labels are 0-0\n",
            "\u001b[34m\u001b[1mtrain: \u001b[0mWARNING ⚠️ /content/Scence-Text-Detection-4/train/images/IMG_5825_JPG.rf.56fcedf8cfcb764d3cd6362094c770e4.jpg: ignoring corrupt image/label: Label class 2 exceeds dataset class count 1. Possible class labels are 0-0\n",
            "\u001b[34m\u001b[1mtrain: \u001b[0mWARNING ⚠️ /content/Scence-Text-Detection-4/train/images/IMG_5826_JPG.rf.f047abedae5b343a7dc8351b0d053e8c.jpg: ignoring corrupt image/label: Label class 3 exceeds dataset class count 1. Possible class labels are 0-0\n",
            "\u001b[34m\u001b[1mtrain: \u001b[0mWARNING ⚠️ /content/Scence-Text-Detection-4/train/images/IMG_5827_JPG.rf.6427edb7a018fe992d057855ab62bd1b.jpg: ignoring corrupt image/label: Label class 398 exceeds dataset class count 1. Possible class labels are 0-0\n",
            "\u001b[34m\u001b[1mtrain: \u001b[0mWARNING ⚠️ /content/Scence-Text-Detection-4/train/images/IMG_5861_JPG.rf.1a0029be26ce4f3208ae9a4e6eabda29.jpg: ignoring corrupt image/label: Label class 2198 exceeds dataset class count 1. Possible class labels are 0-0\n",
            "\u001b[34m\u001b[1mtrain: \u001b[0mWARNING ⚠️ /content/Scence-Text-Detection-4/train/images/IMG_5863_JPG.rf.cce3575993ba8bccdf8d8102fad3c670.jpg: ignoring corrupt image/label: Label class 2282 exceeds dataset class count 1. Possible class labels are 0-0\n",
            "\u001b[34m\u001b[1mtrain: \u001b[0mWARNING ⚠️ /content/Scence-Text-Detection-4/train/images/IMG_5864_JPG.rf.32385198556df22e2ccf268e4ea6fee0.jpg: ignoring corrupt image/label: Label class 2065 exceeds dataset class count 1. Possible class labels are 0-0\n",
            "\u001b[34m\u001b[1mtrain: \u001b[0mWARNING ⚠️ /content/Scence-Text-Detection-4/train/images/IMG_5866_JPG.rf.e5903aa80e4b81e6ba6be33f55b395df.jpg: ignoring corrupt image/label: Label class 1612 exceeds dataset class count 1. Possible class labels are 0-0\n",
            "\u001b[34m\u001b[1mtrain: \u001b[0mWARNING ⚠️ /content/Scence-Text-Detection-4/train/images/IMG_5869_JPG.rf.5af4817de4031778c69a4854db3a596a.jpg: ignoring corrupt image/label: Label class 2045 exceeds dataset class count 1. Possible class labels are 0-0\n",
            "\u001b[34m\u001b[1mtrain: \u001b[0mWARNING ⚠️ /content/Scence-Text-Detection-4/train/images/IMG_5872_JPG.rf.025850d279ef9af7ddd39d44b05714bb.jpg: ignoring corrupt image/label: Label class 2236 exceeds dataset class count 1. Possible class labels are 0-0\n",
            "\u001b[34m\u001b[1mtrain: \u001b[0mWARNING ⚠️ /content/Scence-Text-Detection-4/train/images/IMG_5874_JPG.rf.089fd4d82b56f64949948bb5914b7124.jpg: ignoring corrupt image/label: Label class 1947 exceeds dataset class count 1. Possible class labels are 0-0\n",
            "\u001b[34m\u001b[1mtrain: \u001b[0mWARNING ⚠️ /content/Scence-Text-Detection-4/train/images/IMG_5876_JPG.rf.292bcb01fa5d707a018ed7b497484dbb.jpg: ignoring corrupt image/label: Label class 1069 exceeds dataset class count 1. Possible class labels are 0-0\n",
            "\u001b[34m\u001b[1mtrain: \u001b[0mWARNING ⚠️ /content/Scence-Text-Detection-4/train/images/IMG_5898_JPG.rf.96bfb8d26310a11444717e57b009e5a2.jpg: ignoring corrupt image/label: Label class 1923 exceeds dataset class count 1. Possible class labels are 0-0\n",
            "\u001b[34m\u001b[1mtrain: \u001b[0mWARNING ⚠️ /content/Scence-Text-Detection-4/train/images/IMG_5990_JPG.rf.fc98d733972a3e354ab4654b1ac5d982.jpg: ignoring corrupt image/label: Label class 1009 exceeds dataset class count 1. Possible class labels are 0-0\n",
            "\u001b[34m\u001b[1mtrain: \u001b[0mWARNING ⚠️ /content/Scence-Text-Detection-4/train/images/IMG_6381_JPG.rf.019fad5d1fa09b40c601ac8d2ed20303.jpg: ignoring corrupt image/label: Label class 2 exceeds dataset class count 1. Possible class labels are 0-0\n",
            "\u001b[34m\u001b[1mtrain: \u001b[0mWARNING ⚠️ /content/Scence-Text-Detection-4/train/images/IMG_6382_JPG.rf.e1fe71463b1b10a99430ee97770b4557.jpg: ignoring corrupt image/label: Label class 1148 exceeds dataset class count 1. Possible class labels are 0-0\n",
            "\u001b[34m\u001b[1mtrain: \u001b[0mWARNING ⚠️ /content/Scence-Text-Detection-4/train/images/IMG_6388_JPG.rf.498cc43f7fe7bc3eda27c0fca6e44efe.jpg: ignoring corrupt image/label: Label class 1968 exceeds dataset class count 1. Possible class labels are 0-0\n",
            "\u001b[34m\u001b[1mtrain: \u001b[0mWARNING ⚠️ /content/Scence-Text-Detection-4/train/images/IMG_6389_JPG.rf.6cb97fac866f3eb47f611d04ef9ddfad.jpg: ignoring corrupt image/label: Label class 1181 exceeds dataset class count 1. Possible class labels are 0-0\n",
            "\u001b[34m\u001b[1mtrain: \u001b[0mWARNING ⚠️ /content/Scence-Text-Detection-4/train/images/IMG_6392_JPG.rf.4934dedfe51b7adae540f8e33859ca2e.jpg: ignoring corrupt image/label: Label class 2 exceeds dataset class count 1. Possible class labels are 0-0\n",
            "\u001b[34m\u001b[1mtrain: \u001b[0mWARNING ⚠️ /content/Scence-Text-Detection-4/train/images/IMG_6396_JPG.rf.2e04e124355c37cd8ebe5822434e4643.jpg: ignoring corrupt image/label: Label class 3 exceeds dataset class count 1. Possible class labels are 0-0\n",
            "\u001b[34m\u001b[1mtrain: \u001b[0mWARNING ⚠️ /content/Scence-Text-Detection-4/train/images/LT-f13-img3_jpg.rf.ff459c33c7b88f07707fabe4b3128876.jpg: ignoring corrupt image/label: Label class 1070 exceeds dataset class count 1. Possible class labels are 0-0\n",
            "\u001b[34m\u001b[1mtrain: \u001b[0mWARNING ⚠️ /content/Scence-Text-Detection-4/train/images/LT-f14img10_jpg.rf.be3480e920be7485324b908a76d80e43.jpg: ignoring corrupt image/label: Label class 1608 exceeds dataset class count 1. Possible class labels are 0-0\n",
            "\u001b[34m\u001b[1mtrain: \u001b[0mWARNING ⚠️ /content/Scence-Text-Detection-4/train/images/LT-f14img12_jpg.rf.70cf37bad2e47a315cdd9f411b0947ce.jpg: ignoring corrupt image/label: Label class 1175 exceeds dataset class count 1. Possible class labels are 0-0\n",
            "\u001b[34m\u001b[1mtrain: \u001b[0mWARNING ⚠️ /content/Scence-Text-Detection-4/train/images/LT-f14img14_jpg.rf.1128c9b84af3673bc054ccf5b4a21a14.jpg: ignoring corrupt image/label: Label class 1923 exceeds dataset class count 1. Possible class labels are 0-0\n",
            "\u001b[34m\u001b[1mtrain: \u001b[0mWARNING ⚠️ /content/Scence-Text-Detection-4/train/images/LT-f14img15_jpg.rf.8cea39f2ae9052a003bfc5dc0b36eb37.jpg: ignoring corrupt image/label: Label class 2234 exceeds dataset class count 1. Possible class labels are 0-0\n",
            "\u001b[34m\u001b[1mtrain: \u001b[0mWARNING ⚠️ /content/Scence-Text-Detection-4/train/images/LT-f14img18_jpg.rf.6377b822ffd5087255d8114af6998739.jpg: ignoring corrupt image/label: Label class 2274 exceeds dataset class count 1. Possible class labels are 0-0\n",
            "\u001b[34m\u001b[1mtrain: \u001b[0mWARNING ⚠️ /content/Scence-Text-Detection-4/train/images/LT-f14img19_jpg.rf.a0164145bdbcc05e893b43588a94c6fd.jpg: ignoring corrupt image/label: Label class 1562 exceeds dataset class count 1. Possible class labels are 0-0\n",
            "\u001b[34m\u001b[1mtrain: \u001b[0mWARNING ⚠️ /content/Scence-Text-Detection-4/train/images/LT-f14img2_jpg.rf.1d500e43a0823da620473a55cac8154a.jpg: ignoring corrupt image/label: Label class 2184 exceeds dataset class count 1. Possible class labels are 0-0\n",
            "\u001b[34m\u001b[1mtrain: \u001b[0mWARNING ⚠️ /content/Scence-Text-Detection-4/train/images/LT-f14img3_jpg.rf.b98e21cbd6bb67c9d4bdd35c14c1699c.jpg: ignoring corrupt image/label: Label class 1999 exceeds dataset class count 1. Possible class labels are 0-0\n",
            "\u001b[34m\u001b[1mtrain: \u001b[0mWARNING ⚠️ /content/Scence-Text-Detection-4/train/images/LT-f14img8_jpg.rf.5d6243d93b53e7f3bf351c8125b2750a.jpg: ignoring corrupt image/label: Label class 2045 exceeds dataset class count 1. Possible class labels are 0-0\n",
            "\u001b[34m\u001b[1mtrain: \u001b[0mWARNING ⚠️ /content/Scence-Text-Detection-4/train/images/LT-f15img12_jpg.rf.6e758fece2f7d62608caee5d962a0e19.jpg: ignoring corrupt image/label: Label class 1562 exceeds dataset class count 1. Possible class labels are 0-0\n",
            "\u001b[34m\u001b[1mtrain: \u001b[0mWARNING ⚠️ /content/Scence-Text-Detection-4/train/images/LT-f15img16_jpg.rf.f0e6fa2c47932c45177a0e87ea2a715b.jpg: ignoring corrupt image/label: Label class 2 exceeds dataset class count 1. Possible class labels are 0-0\n",
            "\u001b[34m\u001b[1mtrain: \u001b[0mWARNING ⚠️ /content/Scence-Text-Detection-4/train/images/LT-f15img17_jpg.rf.0ddf4d952cf17f7e0265104e0f1da075.jpg: ignoring corrupt image/label: Label class 1562 exceeds dataset class count 1. Possible class labels are 0-0\n",
            "\u001b[34m\u001b[1mtrain: \u001b[0mWARNING ⚠️ /content/Scence-Text-Detection-4/train/images/LT-f15img19_jpg.rf.0bcfe5b653eab473dee40762a9b77ff2.jpg: ignoring corrupt image/label: Label class 1562 exceeds dataset class count 1. Possible class labels are 0-0\n",
            "\u001b[34m\u001b[1mtrain: \u001b[0mWARNING ⚠️ /content/Scence-Text-Detection-4/train/images/LT-f15img20_jpg.rf.b72755530981d021d396a09e6cdfea2e.jpg: ignoring corrupt image/label: Label class 2274 exceeds dataset class count 1. Possible class labels are 0-0\n",
            "\u001b[34m\u001b[1mtrain: \u001b[0mWARNING ⚠️ /content/Scence-Text-Detection-4/train/images/LT-f15img3_jpg.rf.40e8ef07535b615adccdac0986d8feff.jpg: ignoring corrupt image/label: Label class 2152 exceeds dataset class count 1. Possible class labels are 0-0\n",
            "\u001b[34m\u001b[1mtrain: \u001b[0mWARNING ⚠️ /content/Scence-Text-Detection-4/train/images/LT-f15img4_jpg.rf.eed1192476eefae4aa098c321508a075.jpg: ignoring corrupt image/label: Label class 1745 exceeds dataset class count 1. Possible class labels are 0-0\n",
            "\u001b[34m\u001b[1mtrain: \u001b[0mWARNING ⚠️ /content/Scence-Text-Detection-4/train/images/LT-f15img5_jpg.rf.8d7ccd70373a3ea469de86a612bb6e09.jpg: ignoring corrupt image/label: Label class 2063 exceeds dataset class count 1. Possible class labels are 0-0\n",
            "\u001b[34m\u001b[1mtrain: \u001b[0mWARNING ⚠️ /content/Scence-Text-Detection-4/train/images/LT-f15img6_jpg.rf.b3eb13ceceb57243ca18d36861a6f86c.jpg: ignoring corrupt image/label: Label class 1660 exceeds dataset class count 1. Possible class labels are 0-0\n",
            "\u001b[34m\u001b[1mtrain: \u001b[0mWARNING ⚠️ /content/Scence-Text-Detection-4/train/images/LT-f15img7_jpg.rf.6873e6cc51348b27ec1dc3ea48f378ca.jpg: ignoring corrupt image/label: Label class 2118 exceeds dataset class count 1. Possible class labels are 0-0\n",
            "\u001b[34m\u001b[1mtrain: \u001b[0mWARNING ⚠️ /content/Scence-Text-Detection-4/train/images/LT-f15img9_jpg.rf.e91bd6ae9492072c5db50a8fbfdb046a.jpg: ignoring corrupt image/label: Label class 1482 exceeds dataset class count 1. Possible class labels are 0-0\n",
            "\u001b[34m\u001b[1mtrain: \u001b[0mWARNING ⚠️ /content/Scence-Text-Detection-4/train/images/LT-f16img10_jpg.rf.60e92b90c19cb00627c3ff3e9d0477b6.jpg: ignoring corrupt image/label: Label class 1398 exceeds dataset class count 1. Possible class labels are 0-0\n",
            "\u001b[34m\u001b[1mtrain: \u001b[0mWARNING ⚠️ /content/Scence-Text-Detection-4/train/images/LT-f16img12_jpg.rf.aab04f3eef912f0f877a63db65f7ba72.jpg: ignoring corrupt image/label: Label class 5 exceeds dataset class count 1. Possible class labels are 0-0\n",
            "\u001b[34m\u001b[1mtrain: \u001b[0mWARNING ⚠️ /content/Scence-Text-Detection-4/train/images/LT-f16img13_jpg.rf.2a54f246a4da542facd34582ff4b8574.jpg: ignoring corrupt image/label: Label class 1721 exceeds dataset class count 1. Possible class labels are 0-0\n",
            "\u001b[34m\u001b[1mtrain: \u001b[0mWARNING ⚠️ /content/Scence-Text-Detection-4/train/images/LT-f16img14_jpg.rf.a980dabd0fd43c18e49e3445712f030e.jpg: ignoring corrupt image/label: Label class 1999 exceeds dataset class count 1. Possible class labels are 0-0\n",
            "\u001b[34m\u001b[1mtrain: \u001b[0mWARNING ⚠️ /content/Scence-Text-Detection-4/train/images/LT-f16img15_jpg.rf.8b12090fb022683813cf42d00de2dea3.jpg: ignoring corrupt image/label: Label class 939 exceeds dataset class count 1. Possible class labels are 0-0\n",
            "\u001b[34m\u001b[1mtrain: \u001b[0mWARNING ⚠️ /content/Scence-Text-Detection-4/train/images/LT-f16img17_jpg.rf.bdc812bad060975c1cbf7fbdd6ec4b11.jpg: ignoring corrupt image/label: Label class 726 exceeds dataset class count 1. Possible class labels are 0-0\n",
            "\u001b[34m\u001b[1mtrain: \u001b[0mWARNING ⚠️ /content/Scence-Text-Detection-4/train/images/LT-f16img18_jpg.rf.4bd61c53df8446e044d8da71e402f7bf.jpg: ignoring corrupt image/label: Label class 2184 exceeds dataset class count 1. Possible class labels are 0-0\n",
            "\u001b[34m\u001b[1mtrain: \u001b[0mWARNING ⚠️ /content/Scence-Text-Detection-4/train/images/LT-f16img1_jpg.rf.cb346b28917197886a8c34d8a641279a.jpg: ignoring corrupt image/label: Label class 1540 exceeds dataset class count 1. Possible class labels are 0-0\n",
            "\u001b[34m\u001b[1mtrain: \u001b[0mWARNING ⚠️ /content/Scence-Text-Detection-4/train/images/LT-f16img2_jpg.rf.d2120a92f30737836d72d6e98c218ad3.jpg: ignoring corrupt image/label: Label class 2097 exceeds dataset class count 1. Possible class labels are 0-0\n",
            "\u001b[34m\u001b[1mtrain: \u001b[0mWARNING ⚠️ /content/Scence-Text-Detection-4/train/images/LT-f16img5_jpg.rf.2eff083e36070f3730039bab458d309e.jpg: ignoring corrupt image/label: Label class 1876 exceeds dataset class count 1. Possible class labels are 0-0\n",
            "\u001b[34m\u001b[1mtrain: \u001b[0mWARNING ⚠️ /content/Scence-Text-Detection-4/train/images/LT-f16img6_jpg.rf.50a0808c738471703dddc7cd6be98e9b.jpg: ignoring corrupt image/label: Label class 1923 exceeds dataset class count 1. Possible class labels are 0-0\n",
            "\u001b[34m\u001b[1mtrain: \u001b[0mWARNING ⚠️ /content/Scence-Text-Detection-4/train/images/LT-f16img7_jpg.rf.be05e785978f8acd691bffb3e14d8603.jpg: ignoring corrupt image/label: Label class 718 exceeds dataset class count 1. Possible class labels are 0-0\n",
            "\u001b[34m\u001b[1mtrain: \u001b[0mWARNING ⚠️ /content/Scence-Text-Detection-4/train/images/LT-f16img8_jpg.rf.efd764680cb3af3cc78028b23894f80b.jpg: ignoring corrupt image/label: Label class 1398 exceeds dataset class count 1. Possible class labels are 0-0\n",
            "\u001b[34m\u001b[1mtrain: \u001b[0mWARNING ⚠️ /content/Scence-Text-Detection-4/train/images/LT-f17img11_jpg.rf.10c1b10e2ffb598d9b8b713cb3fb2791.jpg: ignoring corrupt image/label: Label class 2139 exceeds dataset class count 1. Possible class labels are 0-0\n",
            "\u001b[34m\u001b[1mtrain: \u001b[0mWARNING ⚠️ /content/Scence-Text-Detection-4/train/images/LT-f17img12_jpg.rf.73f7e66464160d8b9fa4f73720c4ad2f.jpg: ignoring corrupt image/label: Label class 1253 exceeds dataset class count 1. Possible class labels are 0-0\n",
            "\u001b[34m\u001b[1mtrain: \u001b[0mWARNING ⚠️ /content/Scence-Text-Detection-4/train/images/LT-f17img13_jpg.rf.80d620ce06b513ad052029134ed634dd.jpg: ignoring corrupt image/label: Label class 1485 exceeds dataset class count 1. Possible class labels are 0-0\n",
            "\u001b[34m\u001b[1mtrain: \u001b[0mWARNING ⚠️ /content/Scence-Text-Detection-4/train/images/LT-f17img14_jpg.rf.56828b52ab2eb2442226b19663d63b28.jpg: ignoring corrupt image/label: Label class 1549 exceeds dataset class count 1. Possible class labels are 0-0\n",
            "\u001b[34m\u001b[1mtrain: \u001b[0mWARNING ⚠️ /content/Scence-Text-Detection-4/train/images/LT-f17img17_jpg.rf.931f7231b15c113a32bc40b2f5a89919.jpg: ignoring corrupt image/label: Label class 1016 exceeds dataset class count 1. Possible class labels are 0-0\n",
            "\u001b[34m\u001b[1mtrain: \u001b[0mWARNING ⚠️ /content/Scence-Text-Detection-4/train/images/LT-f17img18_jpg.rf.8e91b5aa2ecfe8a8f5e3345ebe8ce978.jpg: ignoring corrupt image/label: Label class 7 exceeds dataset class count 1. Possible class labels are 0-0\n",
            "\u001b[34m\u001b[1mtrain: \u001b[0mWARNING ⚠️ /content/Scence-Text-Detection-4/train/images/LT-f17img19_jpg.rf.4d42509ddb97d921bfa68cd440ac2af5.jpg: ignoring corrupt image/label: Label class 2282 exceeds dataset class count 1. Possible class labels are 0-0\n",
            "\u001b[34m\u001b[1mtrain: \u001b[0mWARNING ⚠️ /content/Scence-Text-Detection-4/train/images/LT-f17img1_jpg.rf.3ba001d2bfde2e9a09b574db873e3f3c.jpg: ignoring corrupt image/label: Label class 2 exceeds dataset class count 1. Possible class labels are 0-0\n",
            "\u001b[34m\u001b[1mtrain: \u001b[0mWARNING ⚠️ /content/Scence-Text-Detection-4/train/images/LT-f17img2_jpg.rf.4762ce6a2ead033be930dad661b22d9c.jpg: ignoring corrupt image/label: Label class 1608 exceeds dataset class count 1. Possible class labels are 0-0\n",
            "\u001b[34m\u001b[1mtrain: \u001b[0mWARNING ⚠️ /content/Scence-Text-Detection-4/train/images/LT-f17img6_jpg.rf.034ce44b94cfac338155bbdcd3e0af07.jpg: ignoring corrupt image/label: Label class 2162 exceeds dataset class count 1. Possible class labels are 0-0\n",
            "\u001b[34m\u001b[1mtrain: \u001b[0mWARNING ⚠️ /content/Scence-Text-Detection-4/train/images/LT-f17img7_jpg.rf.09ba9bbec5b387105cd3eada490759bd.jpg: ignoring corrupt image/label: Label class 2202 exceeds dataset class count 1. Possible class labels are 0-0\n",
            "\u001b[34m\u001b[1mtrain: \u001b[0mWARNING ⚠️ /content/Scence-Text-Detection-4/train/images/LT-f18img10_jpg.rf.3c83decfd02e2819d4c65e30a81b44ff.jpg: ignoring corrupt image/label: Label class 1460 exceeds dataset class count 1. Possible class labels are 0-0\n",
            "\u001b[34m\u001b[1mtrain: \u001b[0mWARNING ⚠️ /content/Scence-Text-Detection-4/train/images/LT-f18img11_jpg.rf.eac4a6efc0b6fef7b04a8bf93f217651.jpg: ignoring corrupt image/label: Label class 1565 exceeds dataset class count 1. Possible class labels are 0-0\n",
            "\u001b[34m\u001b[1mtrain: \u001b[0mWARNING ⚠️ /content/Scence-Text-Detection-4/train/images/LT-f18img12_jpg.rf.7492f214359580007bac495e85496771.jpg: ignoring corrupt image/label: Label class 1180 exceeds dataset class count 1. Possible class labels are 0-0\n",
            "\u001b[34m\u001b[1mtrain: \u001b[0mWARNING ⚠️ /content/Scence-Text-Detection-4/train/images/LT-f18img14_jpg.rf.58e8a1e2bf1bbc96775f1038f639cbfe.jpg: ignoring corrupt image/label: Label class 1528 exceeds dataset class count 1. Possible class labels are 0-0\n",
            "\u001b[34m\u001b[1mtrain: \u001b[0mWARNING ⚠️ /content/Scence-Text-Detection-4/train/images/LT-f18img15_jpg.rf.f3a744536a55bc3ec8e6e1f0f7999400.jpg: ignoring corrupt image/label: Label class 1755 exceeds dataset class count 1. Possible class labels are 0-0\n",
            "\u001b[34m\u001b[1mtrain: \u001b[0mWARNING ⚠️ /content/Scence-Text-Detection-4/train/images/LT-f18img17_jpg.rf.ef9ed1079d9d987f3229c511b1e83a9b.jpg: ignoring corrupt image/label: Label class 2206 exceeds dataset class count 1. Possible class labels are 0-0\n",
            "\u001b[34m\u001b[1mtrain: \u001b[0mWARNING ⚠️ /content/Scence-Text-Detection-4/train/images/LT-f18img19_jpg.rf.bf9830455d6f36044f00add2457f84c0.jpg: ignoring corrupt image/label: Label class 1455 exceeds dataset class count 1. Possible class labels are 0-0\n",
            "\u001b[34m\u001b[1mtrain: \u001b[0mWARNING ⚠️ /content/Scence-Text-Detection-4/train/images/LT-f18img1_jpg.rf.b1c656760ee2bd9e8df9bf5a8b3747ed.jpg: ignoring corrupt image/label: Label class 1529 exceeds dataset class count 1. Possible class labels are 0-0\n",
            "\u001b[34m\u001b[1mtrain: \u001b[0mWARNING ⚠️ /content/Scence-Text-Detection-4/train/images/LT-f18img20_jpg.rf.eaa02ab1ecfe8e51929ab1e7b80a2508.jpg: ignoring corrupt image/label: Label class 1544 exceeds dataset class count 1. Possible class labels are 0-0\n",
            "\u001b[34m\u001b[1mtrain: \u001b[0mWARNING ⚠️ /content/Scence-Text-Detection-4/train/images/LT-f18img2_jpg.rf.c2a6811c408894cfa844cbe7409be51c.jpg: ignoring corrupt image/label: Label class 2257 exceeds dataset class count 1. Possible class labels are 0-0\n",
            "\u001b[34m\u001b[1mtrain: \u001b[0mWARNING ⚠️ /content/Scence-Text-Detection-4/train/images/LT-f18img3_jpg.rf.6c0525de31cffc315b4dae9c43a66fe4.jpg: ignoring corrupt image/label: Label class 2076 exceeds dataset class count 1. Possible class labels are 0-0\n",
            "\u001b[34m\u001b[1mtrain: \u001b[0mWARNING ⚠️ /content/Scence-Text-Detection-4/train/images/LT-f18img4_jpg.rf.9d8d866879cfcb661991a3c3fb1ad0ce.jpg: ignoring corrupt image/label: Label class 1569 exceeds dataset class count 1. Possible class labels are 0-0\n",
            "\u001b[34m\u001b[1mtrain: \u001b[0mWARNING ⚠️ /content/Scence-Text-Detection-4/train/images/LT-f18img5_jpg.rf.a6e56ccb78a160696a77dd90ae3905f8.jpg: ignoring corrupt image/label: Label class 1222 exceeds dataset class count 1. Possible class labels are 0-0\n",
            "\u001b[34m\u001b[1mtrain: \u001b[0mWARNING ⚠️ /content/Scence-Text-Detection-4/train/images/LT-f18img7_jpg.rf.38ca07a4c417df9b14972373486a0191.jpg: ignoring corrupt image/label: Label class 1475 exceeds dataset class count 1. Possible class labels are 0-0\n",
            "\u001b[34m\u001b[1mtrain: \u001b[0mWARNING ⚠️ /content/Scence-Text-Detection-4/train/images/LT-f18img8_jpg.rf.0b078cbe56443f5375e094356de7f130.jpg: ignoring corrupt image/label: Label class 2102 exceeds dataset class count 1. Possible class labels are 0-0\n",
            "\u001b[34m\u001b[1mtrain: \u001b[0mWARNING ⚠️ /content/Scence-Text-Detection-4/train/images/LT-f19img10_jpg.rf.6d55da337786164c9b1e673d3a0dd286.jpg: ignoring corrupt image/label: Label class 1030 exceeds dataset class count 1. Possible class labels are 0-0\n",
            "\u001b[34m\u001b[1mtrain: \u001b[0mWARNING ⚠️ /content/Scence-Text-Detection-4/train/images/LT-f19img11_jpg.rf.2e037fad447506493c5e36715b29e464.jpg: ignoring corrupt image/label: Label class 2045 exceeds dataset class count 1. Possible class labels are 0-0\n",
            "\u001b[34m\u001b[1mtrain: \u001b[0mWARNING ⚠️ /content/Scence-Text-Detection-4/train/images/LT-f19img12_jpg.rf.0004098ea1be183d111444eacfb505fe.jpg: ignoring corrupt image/label: Label class 1593 exceeds dataset class count 1. Possible class labels are 0-0\n",
            "\u001b[34m\u001b[1mtrain: \u001b[0mWARNING ⚠️ /content/Scence-Text-Detection-4/train/images/LT-f19img13_jpg.rf.539dd659cbf246e166cf3cd4dfabf054.jpg: ignoring corrupt image/label: Label class 1135 exceeds dataset class count 1. Possible class labels are 0-0\n",
            "\u001b[34m\u001b[1mtrain: \u001b[0mWARNING ⚠️ /content/Scence-Text-Detection-4/train/images/LT-f19img16_jpg.rf.4886f0ab08c450c438827a86c4f0af93.jpg: ignoring corrupt image/label: Label class 1127 exceeds dataset class count 1. Possible class labels are 0-0\n",
            "\u001b[34m\u001b[1mtrain: \u001b[0mWARNING ⚠️ /content/Scence-Text-Detection-4/train/images/LT-f19img17_jpg.rf.474ea54c14efb9b05255e9fc760e4e6a.jpg: ignoring corrupt image/label: Label class 2274 exceeds dataset class count 1. Possible class labels are 0-0\n",
            "\u001b[34m\u001b[1mtrain: \u001b[0mWARNING ⚠️ /content/Scence-Text-Detection-4/train/images/LT-f19img1_jpg.rf.c7dd1deaa6f1f536663d10d3ea972e67.jpg: ignoring corrupt image/label: Label class 1535 exceeds dataset class count 1. Possible class labels are 0-0\n",
            "\u001b[34m\u001b[1mtrain: \u001b[0mWARNING ⚠️ /content/Scence-Text-Detection-4/train/images/LT-f19img3_jpg.rf.3d172243f5f457066c4616e213262ee9.jpg: ignoring corrupt image/label: Label class 1161 exceeds dataset class count 1. Possible class labels are 0-0\n",
            "\u001b[34m\u001b[1mtrain: \u001b[0mWARNING ⚠️ /content/Scence-Text-Detection-4/train/images/LT-f19img4_jpg.rf.2d8d3755972c435437f304c9bdec4364.jpg: ignoring corrupt image/label: Label class 2282 exceeds dataset class count 1. Possible class labels are 0-0\n",
            "\u001b[34m\u001b[1mtrain: \u001b[0mWARNING ⚠️ /content/Scence-Text-Detection-4/train/images/LT-f19img6_jpg.rf.614cb070e5bee1197c2fede78d685fed.jpg: ignoring corrupt image/label: Label class 1402 exceeds dataset class count 1. Possible class labels are 0-0\n",
            "\u001b[34m\u001b[1mtrain: \u001b[0mWARNING ⚠️ /content/Scence-Text-Detection-4/train/images/LT-f19img7_jpg.rf.4aafe733fee346c82a6aa15a75b7ab61.jpg: ignoring corrupt image/label: Label class 1306 exceeds dataset class count 1. Possible class labels are 0-0\n",
            "\u001b[34m\u001b[1mtrain: \u001b[0mWARNING ⚠️ /content/Scence-Text-Detection-4/train/images/LT-f19img9_jpg.rf.a6a434c98b99dc2419d350f267f17d56.jpg: ignoring corrupt image/label: Label class 2 exceeds dataset class count 1. Possible class labels are 0-0\n",
            "\u001b[34m\u001b[1mtrain: \u001b[0mWARNING ⚠️ /content/Scence-Text-Detection-4/train/images/LT-f20img11_jpg.rf.a047cb68d76e8c7b5a0ba1078d29cf67.jpg: ignoring corrupt image/label: Label class 1550 exceeds dataset class count 1. Possible class labels are 0-0\n",
            "\u001b[34m\u001b[1mtrain: \u001b[0mWARNING ⚠️ /content/Scence-Text-Detection-4/train/images/LT-f20img12_jpg.rf.480f49b53f54c118cc1b47c9768f4f1a.jpg: ignoring corrupt image/label: Label class 1571 exceeds dataset class count 1. Possible class labels are 0-0\n",
            "\u001b[34m\u001b[1mtrain: \u001b[0mWARNING ⚠️ /content/Scence-Text-Detection-4/train/images/LT-f20img13_jpg.rf.ef79aafa8e348692d7f894c39aa38ee7.jpg: ignoring corrupt image/label: Label class 1849 exceeds dataset class count 1. Possible class labels are 0-0\n",
            "\u001b[34m\u001b[1mtrain: \u001b[0mWARNING ⚠️ /content/Scence-Text-Detection-4/train/images/LT-f20img14_jpg.rf.b38f29d527d6f6d7bc3769ee94248170.jpg: ignoring corrupt image/label: Label class 2034 exceeds dataset class count 1. Possible class labels are 0-0\n",
            "\u001b[34m\u001b[1mtrain: \u001b[0mWARNING ⚠️ /content/Scence-Text-Detection-4/train/images/LT-f20img19_jpg.rf.049635cd3f2a68ed309c1730cf8fd311.jpg: ignoring corrupt image/label: Label class 759 exceeds dataset class count 1. Possible class labels are 0-0\n",
            "\u001b[34m\u001b[1mtrain: \u001b[0mWARNING ⚠️ /content/Scence-Text-Detection-4/train/images/LT-f20img1_jpg.rf.b8977e8a22265963baf1552aedc73592.jpg: ignoring corrupt image/label: Label class 2 exceeds dataset class count 1. Possible class labels are 0-0\n",
            "\u001b[34m\u001b[1mtrain: \u001b[0mWARNING ⚠️ /content/Scence-Text-Detection-4/train/images/LT-f20img20_jpg.rf.43236235a50d1bf6b73851cbb1a7e43a.jpg: ignoring corrupt image/label: Label class 1889 exceeds dataset class count 1. Possible class labels are 0-0\n",
            "\u001b[34m\u001b[1mtrain: \u001b[0mWARNING ⚠️ /content/Scence-Text-Detection-4/train/images/LT-f20img4_jpg.rf.21c5628222e4db84eb4a17ab2569c113.jpg: ignoring corrupt image/label: Label class 1194 exceeds dataset class count 1. Possible class labels are 0-0\n",
            "\u001b[34m\u001b[1mtrain: \u001b[0mWARNING ⚠️ /content/Scence-Text-Detection-4/train/images/LT-f20img8_jpg.rf.527da405ebfb5d38dee6c013aaabe4e4.jpg: ignoring corrupt image/label: Label class 2 exceeds dataset class count 1. Possible class labels are 0-0\n",
            "\u001b[34m\u001b[1mtrain: \u001b[0mWARNING ⚠️ /content/Scence-Text-Detection-4/train/images/LT-f20img9_jpg.rf.58b5f3c0abdf6678b12c107083ee23ca.jpg: ignoring corrupt image/label: Label class 5 exceeds dataset class count 1. Possible class labels are 0-0\n",
            "\u001b[34m\u001b[1mtrain: \u001b[0mWARNING ⚠️ /content/Scence-Text-Detection-4/train/images/LT-f21img10_jpg.rf.44b217745d94bf76c3e7d09ecb8b8fb0.jpg: ignoring corrupt image/label: Label class 1979 exceeds dataset class count 1. Possible class labels are 0-0\n",
            "\u001b[34m\u001b[1mtrain: \u001b[0mWARNING ⚠️ /content/Scence-Text-Detection-4/train/images/LT-f21img12_jpg.rf.f9fdc8a64ef7e1ff453a0017d0260ace.jpg: ignoring corrupt image/label: Label class 1446 exceeds dataset class count 1. Possible class labels are 0-0\n",
            "\u001b[34m\u001b[1mtrain: \u001b[0mWARNING ⚠️ /content/Scence-Text-Detection-4/train/images/LT-f21img15_jpg.rf.133b657da83b2e93d30c008c457a6911.jpg: ignoring corrupt image/label: Label class 2 exceeds dataset class count 1. Possible class labels are 0-0\n",
            "\u001b[34m\u001b[1mtrain: \u001b[0mWARNING ⚠️ /content/Scence-Text-Detection-4/train/images/LT-f21img17_jpg.rf.1dfbe67a888c586e576246294dac1427.jpg: ignoring corrupt image/label: Label class 1330 exceeds dataset class count 1. Possible class labels are 0-0\n",
            "\u001b[34m\u001b[1mtrain: \u001b[0mWARNING ⚠️ /content/Scence-Text-Detection-4/train/images/LT-f21img19_jpg.rf.3c0bcb82ecd6f2e174eacfe9ac216103.jpg: ignoring corrupt image/label: Label class 1018 exceeds dataset class count 1. Possible class labels are 0-0\n",
            "\u001b[34m\u001b[1mtrain: \u001b[0mWARNING ⚠️ /content/Scence-Text-Detection-4/train/images/LT-f21img2_jpg.rf.02f3c5cd527fe5c3b475eff2039e135d.jpg: ignoring corrupt image/label: Label class 749 exceeds dataset class count 1. Possible class labels are 0-0\n",
            "\u001b[34m\u001b[1mtrain: \u001b[0mWARNING ⚠️ /content/Scence-Text-Detection-4/train/images/LT-f21img3_jpg.rf.0aa3c10c5d5cb82778b2b57f0b10b0e3.jpg: ignoring corrupt image/label: Label class 1445 exceeds dataset class count 1. Possible class labels are 0-0\n",
            "\u001b[34m\u001b[1mtrain: \u001b[0mWARNING ⚠️ /content/Scence-Text-Detection-4/train/images/LT-f21img4_jpg.rf.7957ca3fb37d679ec1cff7b0143e1384.jpg: ignoring corrupt image/label: Label class 1550 exceeds dataset class count 1. Possible class labels are 0-0\n",
            "\u001b[34m\u001b[1mtrain: \u001b[0mWARNING ⚠️ /content/Scence-Text-Detection-4/train/images/LT-f21img6_jpg.rf.01b8cb87672211c2dab0835d9aec79ca.jpg: ignoring corrupt image/label: Label class 1438 exceeds dataset class count 1. Possible class labels are 0-0\n",
            "\u001b[34m\u001b[1mtrain: \u001b[0mWARNING ⚠️ /content/Scence-Text-Detection-4/train/images/LT-f21img7_jpg.rf.62be8e081124f353eb3875b7cecc621a.jpg: ignoring corrupt image/label: Label class 258 exceeds dataset class count 1. Possible class labels are 0-0\n",
            "\u001b[34m\u001b[1mtrain: \u001b[0mWARNING ⚠️ /content/Scence-Text-Detection-4/train/images/LT-f21img8_jpg.rf.8f88c67dadb65a84cfb3fbb2c981ad9c.jpg: ignoring corrupt image/label: Label class 108 exceeds dataset class count 1. Possible class labels are 0-0\n",
            "\u001b[34m\u001b[1mtrain: \u001b[0mWARNING ⚠️ /content/Scence-Text-Detection-4/train/images/LT-f21img9_jpg.rf.1dc2b6de73c4c9a15b2d045b169fee3e.jpg: ignoring corrupt image/label: Label class 977 exceeds dataset class count 1. Possible class labels are 0-0\n",
            "\u001b[34m\u001b[1mtrain: \u001b[0mWARNING ⚠️ /content/Scence-Text-Detection-4/train/images/LT-f22img10_jpg.rf.5fa1c5ea4082fed8fc092a44e836a027.jpg: ignoring corrupt image/label: Label class 1073 exceeds dataset class count 1. Possible class labels are 0-0\n",
            "\u001b[34m\u001b[1mtrain: \u001b[0mWARNING ⚠️ /content/Scence-Text-Detection-4/train/images/LT-f22img11_jpg.rf.e39cae250fb4397c9b718c034bc898a6.jpg: ignoring corrupt image/label: Label class 812 exceeds dataset class count 1. Possible class labels are 0-0\n",
            "\u001b[34m\u001b[1mtrain: \u001b[0mWARNING ⚠️ /content/Scence-Text-Detection-4/train/images/LT-f22img12_jpg.rf.19d3678360a7942d2fd838e9dce6de08.jpg: ignoring corrupt image/label: Label class 1277 exceeds dataset class count 1. Possible class labels are 0-0\n",
            "\u001b[34m\u001b[1mtrain: \u001b[0mWARNING ⚠️ /content/Scence-Text-Detection-4/train/images/LT-f22img13_jpg.rf.2cad59b0396201205edc4420407a815c.jpg: ignoring corrupt image/label: Label class 1241 exceeds dataset class count 1. Possible class labels are 0-0\n",
            "\u001b[34m\u001b[1mtrain: \u001b[0mWARNING ⚠️ /content/Scence-Text-Detection-4/train/images/LT-f22img14_jpg.rf.fc9eb7cf99c91eb1fdbc68528a486543.jpg: ignoring corrupt image/label: Label class 1221 exceeds dataset class count 1. Possible class labels are 0-0\n",
            "\u001b[34m\u001b[1mtrain: \u001b[0mWARNING ⚠️ /content/Scence-Text-Detection-4/train/images/LT-f22img16_jpg.rf.c413666f1f82eb6ade52a04281621877.jpg: ignoring corrupt image/label: Label class 1298 exceeds dataset class count 1. Possible class labels are 0-0\n",
            "\u001b[34m\u001b[1mtrain: \u001b[0mWARNING ⚠️ /content/Scence-Text-Detection-4/train/images/LT-f22img18_jpg.rf.5550a0c63e0d6cbf8997f2302076fe9d.jpg: ignoring corrupt image/label: Label class 838 exceeds dataset class count 1. Possible class labels are 0-0\n",
            "\u001b[34m\u001b[1mtrain: \u001b[0mWARNING ⚠️ /content/Scence-Text-Detection-4/train/images/LT-f22img3_jpg.rf.13e5f060757cb34e99b9484d6fc63c29.jpg: ignoring corrupt image/label: Label class 867 exceeds dataset class count 1. Possible class labels are 0-0\n",
            "\u001b[34m\u001b[1mtrain: \u001b[0mWARNING ⚠️ /content/Scence-Text-Detection-4/train/images/LT-f22img5_jpg.rf.08a121a59b27e2a70bb9dbdc49864344.jpg: ignoring corrupt image/label: Label class 1241 exceeds dataset class count 1. Possible class labels are 0-0\n",
            "\u001b[34m\u001b[1mtrain: \u001b[0mWARNING ⚠️ /content/Scence-Text-Detection-4/train/images/LT-f23img11_jpg.rf.5f1bf2f90ebb73113149635a0926c137.jpg: ignoring corrupt image/label: Label class 1731 exceeds dataset class count 1. Possible class labels are 0-0\n",
            "\u001b[34m\u001b[1mtrain: \u001b[0mWARNING ⚠️ /content/Scence-Text-Detection-4/train/images/LT-f23img15_jpg.rf.2687c23413e9fcb18e929ea7b1ea59cb.jpg: ignoring corrupt image/label: Label class 587 exceeds dataset class count 1. Possible class labels are 0-0\n",
            "\u001b[34m\u001b[1mtrain: \u001b[0mWARNING ⚠️ /content/Scence-Text-Detection-4/train/images/LT-f23img16_jpg.rf.e73cc530aee4fd15ef55b12604f10993.jpg: ignoring corrupt image/label: Label class 3 exceeds dataset class count 1. Possible class labels are 0-0\n",
            "\u001b[34m\u001b[1mtrain: \u001b[0mWARNING ⚠️ /content/Scence-Text-Detection-4/train/images/LT-f23img17_jpg.rf.5befd2a853cb7bcc3c6dd2ac6fb39963.jpg: ignoring corrupt image/label: Label class 1544 exceeds dataset class count 1. Possible class labels are 0-0\n",
            "\u001b[34m\u001b[1mtrain: \u001b[0mWARNING ⚠️ /content/Scence-Text-Detection-4/train/images/LT-f23img2_jpg.rf.2bbb9377ab1c937165aaae081132eb04.jpg: ignoring corrupt image/label: Label class 2045 exceeds dataset class count 1. Possible class labels are 0-0\n",
            "\u001b[34m\u001b[1mtrain: \u001b[0mWARNING ⚠️ /content/Scence-Text-Detection-4/train/images/LT-f23img5_jpg.rf.8460f7d0491592ac25f060d3448487a1.jpg: ignoring corrupt image/label: Label class 2282 exceeds dataset class count 1. Possible class labels are 0-0\n",
            "\u001b[34m\u001b[1mtrain: \u001b[0mWARNING ⚠️ /content/Scence-Text-Detection-4/train/images/LT-f23img9_jpg.rf.64c5694c56e5978e0322a2e027c90893.jpg: ignoring corrupt image/label: Label class 2 exceeds dataset class count 1. Possible class labels are 0-0\n",
            "\u001b[34m\u001b[1mtrain: \u001b[0mWARNING ⚠️ /content/Scence-Text-Detection-4/train/images/LT-f24img10_jpg.rf.bfa7753d2161779196a6fd14adf075b2.jpg: ignoring corrupt image/label: Label class 814 exceeds dataset class count 1. Possible class labels are 0-0\n",
            "\u001b[34m\u001b[1mtrain: \u001b[0mWARNING ⚠️ /content/Scence-Text-Detection-4/train/images/LT-f24img12_jpg.rf.589f06db09e6223af25269dd3b098b0b.jpg: ignoring corrupt image/label: Label class 2102 exceeds dataset class count 1. Possible class labels are 0-0\n",
            "\u001b[34m\u001b[1mtrain: \u001b[0mWARNING ⚠️ /content/Scence-Text-Detection-4/train/images/LT-f24img13_jpg.rf.efbbe8978735714f063df9dda9404583.jpg: ignoring corrupt image/label: Label class 2 exceeds dataset class count 1. Possible class labels are 0-0\n",
            "\u001b[34m\u001b[1mtrain: \u001b[0mWARNING ⚠️ /content/Scence-Text-Detection-4/train/images/LT-f24img14_jpg.rf.d32eb0a6eff3439c7746a4219d71fc23.jpg: ignoring corrupt image/label: Label class 2 exceeds dataset class count 1. Possible class labels are 0-0\n",
            "\u001b[34m\u001b[1mtrain: \u001b[0mWARNING ⚠️ /content/Scence-Text-Detection-4/train/images/LT-f24img18_jpg.rf.297d476b226d8accd45cf4197c29c36d.jpg: ignoring corrupt image/label: Label class 680 exceeds dataset class count 1. Possible class labels are 0-0\n",
            "\u001b[34m\u001b[1mtrain: \u001b[0mWARNING ⚠️ /content/Scence-Text-Detection-4/train/images/LT-f24img19_jpg.rf.3d79e40d22aa7c8c27fd85d43a1b1ccc.jpg: ignoring corrupt image/label: Label class 679 exceeds dataset class count 1. Possible class labels are 0-0\n",
            "\u001b[34m\u001b[1mtrain: \u001b[0mWARNING ⚠️ /content/Scence-Text-Detection-4/train/images/LT-f24img20_jpg.rf.60f7c198e476c764989e96c68283b762.jpg: ignoring corrupt image/label: Label class 556 exceeds dataset class count 1. Possible class labels are 0-0\n",
            "\u001b[34m\u001b[1mtrain: \u001b[0mWARNING ⚠️ /content/Scence-Text-Detection-4/train/images/LT-f24img2_jpg.rf.004ec34a9c350d178bb3fb69737b06cd.jpg: ignoring corrupt image/label: Label class 2 exceeds dataset class count 1. Possible class labels are 0-0\n",
            "\u001b[34m\u001b[1mtrain: \u001b[0mWARNING ⚠️ /content/Scence-Text-Detection-4/train/images/LT-f24img4_jpg.rf.9bccd3bcc9e51caac91862b0e98f6459.jpg: ignoring corrupt image/label: Label class 648 exceeds dataset class count 1. Possible class labels are 0-0\n",
            "\u001b[34m\u001b[1mtrain: \u001b[0mWARNING ⚠️ /content/Scence-Text-Detection-4/train/images/LT-f24img5_jpg.rf.882cb63def98fef7eaa48740c7778093.jpg: ignoring corrupt image/label: Label class 2282 exceeds dataset class count 1. Possible class labels are 0-0\n",
            "\u001b[34m\u001b[1mtrain: \u001b[0mWARNING ⚠️ /content/Scence-Text-Detection-4/train/images/LT-f24img6_jpg.rf.176c82e2730bb42a898a724270aa8867.jpg: ignoring corrupt image/label: Label class 2 exceeds dataset class count 1. Possible class labels are 0-0\n",
            "\u001b[34m\u001b[1mtrain: \u001b[0mWARNING ⚠️ /content/Scence-Text-Detection-4/train/images/LT-f24img8_jpg.rf.0dd6cba24a356ddfd03c0b241de17c12.jpg: ignoring corrupt image/label: Label class 2275 exceeds dataset class count 1. Possible class labels are 0-0\n",
            "\u001b[34m\u001b[1mtrain: \u001b[0mWARNING ⚠️ /content/Scence-Text-Detection-4/train/images/LT-f25img10_jpg.rf.2d6c1e40624a7ea4866dc8e5494cbaf4.jpg: ignoring corrupt image/label: Label class 1608 exceeds dataset class count 1. Possible class labels are 0-0\n",
            "\u001b[34m\u001b[1mtrain: \u001b[0mWARNING ⚠️ /content/Scence-Text-Detection-4/train/images/LT-f25img15_jpg.rf.14c6baad2a8a1743c2792979a24f49e8.jpg: ignoring corrupt image/label: Label class 591 exceeds dataset class count 1. Possible class labels are 0-0\n",
            "\u001b[34m\u001b[1mtrain: \u001b[0mWARNING ⚠️ /content/Scence-Text-Detection-4/train/images/Messenger_creation_41863C85-80B7-4BE8-BBFE-B2381AC23587_jpeg.rf.2c2a2f72c380f1400adf7627f9a781e1.jpg: ignoring corrupt image/label: Label class 2283 exceeds dataset class count 1. Possible class labels are 0-0\n",
            "\u001b[34m\u001b[1mtrain: \u001b[0mWARNING ⚠️ /content/Scence-Text-Detection-4/train/images/Messenger_creation_4634A3AE-208E-4177-904D-F7EC05562B8E_jpeg.rf.11d6f04058ef3137255c17827ac6b1db.jpg: ignoring corrupt image/label: Label class 2283 exceeds dataset class count 1. Possible class labels are 0-0\n",
            "\u001b[34m\u001b[1mtrain: \u001b[0mWARNING ⚠️ /content/Scence-Text-Detection-4/train/images/Messenger_creation_4BC18541-CA1B-4433-9A3B-A9D69BCC0A2D_jpeg.rf.310e69285847d784aa577ead94a14302.jpg: ignoring corrupt image/label: Label class 2283 exceeds dataset class count 1. Possible class labels are 0-0\n",
            "\u001b[34m\u001b[1mtrain: \u001b[0mWARNING ⚠️ /content/Scence-Text-Detection-4/train/images/Messenger_creation_62F16EC3-8B03-4B2A-9CA2-85F300D9CB60_jpeg.rf.14b70cec9287f71343aa6c993a583fca.jpg: ignoring corrupt image/label: Label class 2283 exceeds dataset class count 1. Possible class labels are 0-0\n",
            "\u001b[34m\u001b[1mtrain: \u001b[0mWARNING ⚠️ /content/Scence-Text-Detection-4/train/images/Messenger_creation_8B092C6A-FF2E-4A70-A05A-50A17A563C55_jpeg.rf.7c542f9bc1ff9b06040d603a9e3c876a.jpg: ignoring corrupt image/label: Label class 2283 exceeds dataset class count 1. Possible class labels are 0-0\n",
            "\u001b[34m\u001b[1mtrain: \u001b[0mWARNING ⚠️ /content/Scence-Text-Detection-4/train/images/Messenger_creation_B05D5862-50C6-4BBF-B2E6-DD5252BBB77E_jpeg.rf.39bbf139e5a3d9f4ead03458b6061873.jpg: ignoring corrupt image/label: Label class 2283 exceeds dataset class count 1. Possible class labels are 0-0\n",
            "\u001b[34m\u001b[1mtrain: \u001b[0mWARNING ⚠️ /content/Scence-Text-Detection-4/train/images/Messenger_creation_C3772FCF-A349-428F-BB44-88608C2F4D89_jpeg.rf.3f555895fc2fbebe103c30a5bfdc16f2.jpg: ignoring corrupt image/label: Label class 2283 exceeds dataset class count 1. Possible class labels are 0-0\n",
            "\u001b[34m\u001b[1mtrain: \u001b[0mWARNING ⚠️ /content/Scence-Text-Detection-4/train/images/Messenger_creation_C415353B-E3AC-43D3-BC92-92284A5A33A8_jpeg.rf.f68017dd6ca33e8945ed98bb71b167d3.jpg: ignoring corrupt image/label: Label class 2283 exceeds dataset class count 1. Possible class labels are 0-0\n",
            "\u001b[34m\u001b[1mtrain: \u001b[0mWARNING ⚠️ /content/Scence-Text-Detection-4/train/images/Messenger_creation_CB21D21F-8843-4DEF-A867-D4B153D74DC5_jpeg.rf.3d785bdd9599a3ac987c8bd746291533.jpg: ignoring corrupt image/label: Label class 2283 exceeds dataset class count 1. Possible class labels are 0-0\n",
            "\u001b[34m\u001b[1mtrain: \u001b[0mWARNING ⚠️ /content/Scence-Text-Detection-4/train/images/Messenger_creation_D6F37F4D-11D1-491A-BE77-DBDC97290B4F_jpeg.rf.a020bb12fd44a13822695a344c25e701.jpg: ignoring corrupt image/label: Label class 2283 exceeds dataset class count 1. Possible class labels are 0-0\n",
            "\u001b[34m\u001b[1mtrain: \u001b[0mWARNING ⚠️ /content/Scence-Text-Detection-4/train/images/Messenger_creation_E236B95A-DC34-481D-B664-8F462101867C_jpeg.rf.b913d889ea3ded6dcc4c96951cc6a502.jpg: ignoring corrupt image/label: Label class 2283 exceeds dataset class count 1. Possible class labels are 0-0\n",
            "\u001b[34m\u001b[1mtrain: \u001b[0mWARNING ⚠️ /content/Scence-Text-Detection-4/train/images/Messenger_creation_EECFECFE-C3E9-494A-83DA-61F21B8D4E6F_jpeg.rf.e67ce6fa24158f22baeeb91f3212928d.jpg: ignoring corrupt image/label: Label class 2283 exceeds dataset class count 1. Possible class labels are 0-0\n",
            "\u001b[34m\u001b[1mtrain: \u001b[0mWARNING ⚠️ /content/Scence-Text-Detection-4/train/images/Messenger_creation_F1B03DF4-7F9E-4F23-891F-364A28669416_jpeg.rf.4a3a386b0a4979731289812045aac916.jpg: ignoring corrupt image/label: Label class 2283 exceeds dataset class count 1. Possible class labels are 0-0\n",
            "\u001b[34m\u001b[1mtrain: \u001b[0mWARNING ⚠️ /content/Scence-Text-Detection-4/train/images/Messenger_creation_F31CD20A-9FA6-4949-9C74-A7B4BA9E485A_jpeg.rf.89a4067e0ad80698c0f9eb9e6fd4bbad.jpg: ignoring corrupt image/label: Label class 2283 exceeds dataset class count 1. Possible class labels are 0-0\n",
            "\u001b[34m\u001b[1mtrain: \u001b[0mWARNING ⚠️ /content/Scence-Text-Detection-4/train/images/Messenger_creation_FFC955EC-16F0-4C39-9F1B-EB924E3F989F_jpeg.rf.763f5df0f55c10e4f379cf3b10594397.jpg: ignoring corrupt image/label: Label class 2283 exceeds dataset class count 1. Possible class labels are 0-0\n",
            "\u001b[34m\u001b[1mtrain: \u001b[0mWARNING ⚠️ /content/Scence-Text-Detection-4/train/images/TP-f1-img12_jpg.rf.531f7f93e6f05d5e3a48ed60314469c7.jpg: ignoring corrupt image/label: Label class 545 exceeds dataset class count 1. Possible class labels are 0-0\n",
            "\u001b[34m\u001b[1mtrain: \u001b[0mWARNING ⚠️ /content/Scence-Text-Detection-4/train/images/TP-f1-img14_jpg.rf.6dae4ef821ffed3bee0891091d91f3c8.jpg: ignoring corrupt image/label: Label class 546 exceeds dataset class count 1. Possible class labels are 0-0\n",
            "\u001b[34m\u001b[1mtrain: \u001b[0mWARNING ⚠️ /content/Scence-Text-Detection-4/train/images/TP-f1-img15_jpg.rf.b282baec6d8351acc89b5e0eed783f7a.jpg: ignoring corrupt image/label: Label class 547 exceeds dataset class count 1. Possible class labels are 0-0\n",
            "\u001b[34m\u001b[1mtrain: \u001b[0mWARNING ⚠️ /content/Scence-Text-Detection-4/train/images/TP-f1-img16_jpg.rf.303ee39193d84c31e24346893c20c45e.jpg: ignoring corrupt image/label: Label class 549 exceeds dataset class count 1. Possible class labels are 0-0\n",
            "\u001b[34m\u001b[1mtrain: \u001b[0mWARNING ⚠️ /content/Scence-Text-Detection-4/train/images/TP-f1-img18_jpg.rf.e6d03b8411bbcfc2c5f563dd9554debc.jpg: ignoring corrupt image/label: Label class 1679 exceeds dataset class count 1. Possible class labels are 0-0\n",
            "\u001b[34m\u001b[1mtrain: \u001b[0mWARNING ⚠️ /content/Scence-Text-Detection-4/train/images/TP-f1-img19_jpg.rf.b7ce5e01b3f6e860b65ec7ca96a392d2.jpg: ignoring corrupt image/label: Label class 1681 exceeds dataset class count 1. Possible class labels are 0-0\n",
            "\u001b[34m\u001b[1mtrain: \u001b[0mWARNING ⚠️ /content/Scence-Text-Detection-4/train/images/TP-f1-img20_jpg.rf.4fbfcbd8a1363f8b06b3877335f0264c.jpg: ignoring corrupt image/label: Label class 1676 exceeds dataset class count 1. Possible class labels are 0-0\n",
            "\u001b[34m\u001b[1mtrain: \u001b[0mWARNING ⚠️ /content/Scence-Text-Detection-4/train/images/TP-f1-img2_jpg.rf.6578a6f4033609eac83e160cb29a8cd8.jpg: ignoring corrupt image/label: Label class 1854 exceeds dataset class count 1. Possible class labels are 0-0\n",
            "\u001b[34m\u001b[1mtrain: \u001b[0mWARNING ⚠️ /content/Scence-Text-Detection-4/train/images/TP-f1-img5_jpg.rf.0e5433dab066a34cdd3355ab592a9f7f.jpg: ignoring corrupt image/label: Label class 4 exceeds dataset class count 1. Possible class labels are 0-0\n",
            "\u001b[34m\u001b[1mtrain: \u001b[0mWARNING ⚠️ /content/Scence-Text-Detection-4/train/images/TP-f10-img10_jpeg.rf.8052a05b3cc802a17bba76cde85134e4.jpg: ignoring corrupt image/label: Label class 2047 exceeds dataset class count 1. Possible class labels are 0-0\n",
            "\u001b[34m\u001b[1mtrain: \u001b[0mWARNING ⚠️ /content/Scence-Text-Detection-4/train/images/TP-f10-img11_jpeg.rf.3d05db046b0ba02d759bca2ea33bad54.jpg: ignoring corrupt image/label: Label class 189 exceeds dataset class count 1. Possible class labels are 0-0\n",
            "\u001b[34m\u001b[1mtrain: \u001b[0mWARNING ⚠️ /content/Scence-Text-Detection-4/train/images/TP-f10-img20_jpg.rf.509c09022038752d1403a4eba41a6bd2.jpg: ignoring corrupt image/label: Label class 1855 exceeds dataset class count 1. Possible class labels are 0-0\n",
            "\u001b[34m\u001b[1mtrain: \u001b[0mWARNING ⚠️ /content/Scence-Text-Detection-4/train/images/TP-f11-img6_jpg.rf.3ab1e97c7efa827a2edcc83d9b06cc7f.jpg: ignoring corrupt image/label: Label class 2065 exceeds dataset class count 1. Possible class labels are 0-0\n",
            "\u001b[34m\u001b[1mtrain: \u001b[0mWARNING ⚠️ /content/Scence-Text-Detection-4/train/images/TP-f12-img18_jpg.rf.69d987d8b58a79830e2219d9afb3c717.jpg: ignoring corrupt image/label: Label class 1817 exceeds dataset class count 1. Possible class labels are 0-0\n",
            "\u001b[34m\u001b[1mtrain: \u001b[0mWARNING ⚠️ /content/Scence-Text-Detection-4/train/images/TP-f13-img17_jpg.rf.4a8e60e12c7a56e2b5dec61dfa822928.jpg: ignoring corrupt image/label: Label class 2263 exceeds dataset class count 1. Possible class labels are 0-0\n",
            "\u001b[34m\u001b[1mtrain: \u001b[0mWARNING ⚠️ /content/Scence-Text-Detection-4/train/images/TP-f13-img6_jpg.rf.ee49cd38d91ad83013b5209bfa8833d5.jpg: ignoring corrupt image/label: Label class 655 exceeds dataset class count 1. Possible class labels are 0-0\n",
            "\u001b[34m\u001b[1mtrain: \u001b[0mWARNING ⚠️ /content/Scence-Text-Detection-4/train/images/TP-f13-img7_jpg.rf.95404026407d73b25d8343976518fdab.jpg: ignoring corrupt image/label: Label class 2254 exceeds dataset class count 1. Possible class labels are 0-0\n",
            "\u001b[34m\u001b[1mtrain: \u001b[0mWARNING ⚠️ /content/Scence-Text-Detection-4/train/images/TP-f13-img8_jpg.rf.b5b0ef0e44c52591a3290fc3eeb2b819.jpg: ignoring corrupt image/label: Label class 615 exceeds dataset class count 1. Possible class labels are 0-0\n",
            "\u001b[34m\u001b[1mtrain: \u001b[0mWARNING ⚠️ /content/Scence-Text-Detection-4/train/images/TP-f15-img14_jpg.rf.d967061e1ef537140cbd12b8b4bb728a.jpg: ignoring corrupt image/label: Label class 420 exceeds dataset class count 1. Possible class labels are 0-0\n",
            "\u001b[34m\u001b[1mtrain: \u001b[0mWARNING ⚠️ /content/Scence-Text-Detection-4/train/images/TP-f16-img17_jpg.rf.8615538976f23cb8c537238c54ca35ce.jpg: ignoring corrupt image/label: Label class 100 exceeds dataset class count 1. Possible class labels are 0-0\n",
            "\u001b[34m\u001b[1mtrain: \u001b[0mWARNING ⚠️ /content/Scence-Text-Detection-4/train/images/TP-f16-img9_jpg.rf.85662273d2cfdd7c6e6c6573a6efef64.jpg: ignoring corrupt image/label: Label class 2 exceeds dataset class count 1. Possible class labels are 0-0\n",
            "\u001b[34m\u001b[1mtrain: \u001b[0mWARNING ⚠️ /content/Scence-Text-Detection-4/train/images/TP-f17-img12_jpg.rf.4da3b24c213825eb5da7fc5ddcb72847.jpg: ignoring corrupt image/label: Label class 2130 exceeds dataset class count 1. Possible class labels are 0-0\n",
            "\u001b[34m\u001b[1mtrain: \u001b[0mWARNING ⚠️ /content/Scence-Text-Detection-4/train/images/TP-f17-img13_jpg.rf.826aaf3cfcea76d2bd10b8c9da78abd8.jpg: ignoring corrupt image/label: Label class 2283 exceeds dataset class count 1. Possible class labels are 0-0\n",
            "\u001b[34m\u001b[1mtrain: \u001b[0mWARNING ⚠️ /content/Scence-Text-Detection-4/train/images/TP-f17-img17_jpg.rf.e93d9fc0ec4b2a9b5eb5536a60c385c1.jpg: ignoring corrupt image/label: Label class 2184 exceeds dataset class count 1. Possible class labels are 0-0\n",
            "\u001b[34m\u001b[1mtrain: \u001b[0mWARNING ⚠️ /content/Scence-Text-Detection-4/train/images/TP-f17-img20_jpg.rf.571e8f45c02be5088941027b0c465d76.jpg: ignoring corrupt image/label: Label class 1913 exceeds dataset class count 1. Possible class labels are 0-0\n",
            "\u001b[34m\u001b[1mtrain: \u001b[0mWARNING ⚠️ /content/Scence-Text-Detection-4/train/images/TP-f17-img3_jpg.rf.36eadef79eb9c5cc84a38be53df3e5b4.jpg: ignoring corrupt image/label: Label class 2 exceeds dataset class count 1. Possible class labels are 0-0\n",
            "\u001b[34m\u001b[1mtrain: \u001b[0mWARNING ⚠️ /content/Scence-Text-Detection-4/train/images/TP-f19-img17_jpg.rf.fd87ea004edc92ec53e636536781aca4.jpg: ignoring corrupt image/label: Label class 1893 exceeds dataset class count 1. Possible class labels are 0-0\n",
            "\u001b[34m\u001b[1mtrain: \u001b[0mWARNING ⚠️ /content/Scence-Text-Detection-4/train/images/TP-f19-img8_jpg.rf.2b7a60e9ea149c08e11678a9fcb1d08d.jpg: ignoring corrupt image/label: Label class 1662 exceeds dataset class count 1. Possible class labels are 0-0\n",
            "\u001b[34m\u001b[1mtrain: \u001b[0mWARNING ⚠️ /content/Scence-Text-Detection-4/train/images/TP-f2-img10_jpg.rf.72081fdc6db24d3a732034714647323f.jpg: ignoring corrupt image/label: Label class 483 exceeds dataset class count 1. Possible class labels are 0-0\n",
            "\u001b[34m\u001b[1mtrain: \u001b[0mWARNING ⚠️ /content/Scence-Text-Detection-4/train/images/TP-f2-img13_jpg.rf.1bb9ccaa00f18e8f0a7b3b7ea5a488e7.jpg: ignoring corrupt image/label: Label class 2 exceeds dataset class count 1. Possible class labels are 0-0\n",
            "\u001b[34m\u001b[1mtrain: \u001b[0mWARNING ⚠️ /content/Scence-Text-Detection-4/train/images/TP-f2-img16_jpg.rf.e5301c16033e35e80d6f9a736f0fdd2e.jpg: ignoring corrupt image/label: Label class 364 exceeds dataset class count 1. Possible class labels are 0-0\n",
            "\u001b[34m\u001b[1mtrain: \u001b[0mWARNING ⚠️ /content/Scence-Text-Detection-4/train/images/TP-f2-img17_jpg.rf.4301112386c68132886e38b7eb3f878f.jpg: ignoring corrupt image/label: Label class 387 exceeds dataset class count 1. Possible class labels are 0-0\n",
            "\u001b[34m\u001b[1mtrain: \u001b[0mWARNING ⚠️ /content/Scence-Text-Detection-4/train/images/TP-f2-img1_jpg.rf.0973859748e1b06e35a191e83315887b.jpg: ignoring corrupt image/label: Label class 1675 exceeds dataset class count 1. Possible class labels are 0-0\n",
            "\u001b[34m\u001b[1mtrain: \u001b[0mWARNING ⚠️ /content/Scence-Text-Detection-4/train/images/TP-f2-img20_jpg.rf.fd97a21c97edddda6e08fbab9a397169.jpg: ignoring corrupt image/label: Label class 2 exceeds dataset class count 1. Possible class labels are 0-0\n",
            "\u001b[34m\u001b[1mtrain: \u001b[0mWARNING ⚠️ /content/Scence-Text-Detection-4/train/images/TP-f2-img2_jpg.rf.bfd258cc6c4de308e90d78313ea32cfb.jpg: ignoring corrupt image/label: Label class 1674 exceeds dataset class count 1. Possible class labels are 0-0\n",
            "\u001b[34m\u001b[1mtrain: \u001b[0mWARNING ⚠️ /content/Scence-Text-Detection-4/train/images/TP-f2-img9_jpg.rf.21d6c09640051558f74bdf141c9a54d3.jpg: ignoring corrupt image/label: Label class 431 exceeds dataset class count 1. Possible class labels are 0-0\n",
            "\u001b[34m\u001b[1mtrain: \u001b[0mWARNING ⚠️ /content/Scence-Text-Detection-4/train/images/TP-f20-img10_jpg.rf.96ac3905985a4664ab09cf99bdd5c170.jpg: ignoring corrupt image/label: Label class 2 exceeds dataset class count 1. Possible class labels are 0-0\n",
            "\u001b[34m\u001b[1mtrain: \u001b[0mWARNING ⚠️ /content/Scence-Text-Detection-4/train/images/TP-f20-img11_jpg.rf.18f73285f77ec42e4ffd1ff2bb6566e8.jpg: ignoring corrupt image/label: Label class 2 exceeds dataset class count 1. Possible class labels are 0-0\n",
            "\u001b[34m\u001b[1mtrain: \u001b[0mWARNING ⚠️ /content/Scence-Text-Detection-4/train/images/TP-f20-img12_jpg.rf.d402c6a6a35b9e6ae7efef3225f78abc.jpg: ignoring corrupt image/label: Label class 2 exceeds dataset class count 1. Possible class labels are 0-0\n",
            "\u001b[34m\u001b[1mtrain: \u001b[0mWARNING ⚠️ /content/Scence-Text-Detection-4/train/images/TP-f21-img14_jpg.rf.3488497edf978c80b4a41362a5f9dd22.jpg: ignoring corrupt image/label: Label class 476 exceeds dataset class count 1. Possible class labels are 0-0\n",
            "\u001b[34m\u001b[1mtrain: \u001b[0mWARNING ⚠️ /content/Scence-Text-Detection-4/train/images/TP-f21-img15_jpg.rf.457f6d6db11a95dd39c3ec7532789f7c.jpg: ignoring corrupt image/label: Label class 2102 exceeds dataset class count 1. Possible class labels are 0-0\n",
            "\u001b[34m\u001b[1mtrain: \u001b[0mWARNING ⚠️ /content/Scence-Text-Detection-4/train/images/TP-f21-img18_jpg.rf.46b16e9f8aec0ac89ed7ac5c19e390db.jpg: ignoring corrupt image/label: Label class 2264 exceeds dataset class count 1. Possible class labels are 0-0\n",
            "\u001b[34m\u001b[1mtrain: \u001b[0mWARNING ⚠️ /content/Scence-Text-Detection-4/train/images/TP-f21-img2_jpg.rf.31c07e745ba930e8f254ea7df4fe394b.jpg: ignoring corrupt image/label: Label class 2037 exceeds dataset class count 1. Possible class labels are 0-0\n",
            "\u001b[34m\u001b[1mtrain: \u001b[0mWARNING ⚠️ /content/Scence-Text-Detection-4/train/images/TP-f22-img10_jpg.rf.ed1f85e5ef3343c99bb90db6b643fa50.jpg: ignoring corrupt image/label: Label class 2010 exceeds dataset class count 1. Possible class labels are 0-0\n",
            "\u001b[34m\u001b[1mtrain: \u001b[0mWARNING ⚠️ /content/Scence-Text-Detection-4/train/images/TP-f22-img12_jpg.rf.2a752b35baac480c65aabedadf963664.jpg: ignoring corrupt image/label: Label class 481 exceeds dataset class count 1. Possible class labels are 0-0\n",
            "\u001b[34m\u001b[1mtrain: \u001b[0mWARNING ⚠️ /content/Scence-Text-Detection-4/train/images/TP-f22-img19_jpg.rf.61c162419f751df23652f6600eccf49e.jpg: ignoring corrupt image/label: Label class 2 exceeds dataset class count 1. Possible class labels are 0-0\n",
            "\u001b[34m\u001b[1mtrain: \u001b[0mWARNING ⚠️ /content/Scence-Text-Detection-4/train/images/TP-f22-img1_jpg.rf.509b07e51b0642033f70a83d6e087bde.jpg: ignoring corrupt image/label: Label class 2011 exceeds dataset class count 1. Possible class labels are 0-0\n",
            "\u001b[34m\u001b[1mtrain: \u001b[0mWARNING ⚠️ /content/Scence-Text-Detection-4/train/images/TP-f3-img12_jpg.rf.06b67213129337daab2c16a85dc7ded6.jpg: ignoring corrupt image/label: Label class 2 exceeds dataset class count 1. Possible class labels are 0-0\n",
            "\u001b[34m\u001b[1mtrain: \u001b[0mWARNING ⚠️ /content/Scence-Text-Detection-4/train/images/TP-f3-img16_jpg.rf.3a3f4425fd4d1b07d065b2d99bc4ef51.jpg: ignoring corrupt image/label: Label class 2 exceeds dataset class count 1. Possible class labels are 0-0\n",
            "\u001b[34m\u001b[1mtrain: \u001b[0mWARNING ⚠️ /content/Scence-Text-Detection-4/train/images/TP-f3-img19_jpg.rf.51656228887b7dfc2364227531ca8a59.jpg: ignoring corrupt image/label: Label class 387 exceeds dataset class count 1. Possible class labels are 0-0\n",
            "\u001b[34m\u001b[1mtrain: \u001b[0mWARNING ⚠️ /content/Scence-Text-Detection-4/train/images/TP-f3-img3_jpg.rf.f6d983bd0f6e248069a00ae7d6234e94.jpg: ignoring corrupt image/label: Label class 2036 exceeds dataset class count 1. Possible class labels are 0-0\n",
            "\u001b[34m\u001b[1mtrain: \u001b[0mWARNING ⚠️ /content/Scence-Text-Detection-4/train/images/TP-f3-img5_jpg.rf.2740fccf30dc4b63ac301729a7dbaebc.jpg: ignoring corrupt image/label: Label class 232 exceeds dataset class count 1. Possible class labels are 0-0\n",
            "\u001b[34m\u001b[1mtrain: \u001b[0mWARNING ⚠️ /content/Scence-Text-Detection-4/train/images/TP-f3-img6_jpg.rf.c841ca6e3ea2292b8c56c3209c45621c.jpg: ignoring corrupt image/label: Label class 1810 exceeds dataset class count 1. Possible class labels are 0-0\n",
            "\u001b[34m\u001b[1mtrain: \u001b[0mWARNING ⚠️ /content/Scence-Text-Detection-4/train/images/TP-f3-img7_jpg.rf.ecda496385755eb161aab04620929a43.jpg: ignoring corrupt image/label: Label class 966 exceeds dataset class count 1. Possible class labels are 0-0\n",
            "\u001b[34m\u001b[1mtrain: \u001b[0mWARNING ⚠️ /content/Scence-Text-Detection-4/train/images/TP-f3-img8_jpg.rf.2da7d91949aaae5d95ab2d7e8c5ff6b5.jpg: ignoring corrupt image/label: Label class 1650 exceeds dataset class count 1. Possible class labels are 0-0\n",
            "\u001b[34m\u001b[1mtrain: \u001b[0mWARNING ⚠️ /content/Scence-Text-Detection-4/train/images/TP-f4-img10_jpg.rf.bb5a3d8735ef1247d919338040db903c.jpg: ignoring corrupt image/label: Label class 1182 exceeds dataset class count 1. Possible class labels are 0-0\n",
            "\u001b[34m\u001b[1mtrain: \u001b[0mWARNING ⚠️ /content/Scence-Text-Detection-4/train/images/TP-f4-img18_jpg.rf.b662285ae731b7a474e3c3a736289f31.jpg: ignoring corrupt image/label: Label class 4 exceeds dataset class count 1. Possible class labels are 0-0\n",
            "\u001b[34m\u001b[1mtrain: \u001b[0mWARNING ⚠️ /content/Scence-Text-Detection-4/train/images/TP-f4-img19_jpg.rf.fdb26c9a5b0bd31ac0f4a46768f6156b.jpg: ignoring corrupt image/label: Label class 387 exceeds dataset class count 1. Possible class labels are 0-0\n",
            "\u001b[34m\u001b[1mtrain: \u001b[0mWARNING ⚠️ /content/Scence-Text-Detection-4/train/images/TP-f4-img6_jpg.rf.9083118812b2a67436768c876bb2ec2e.jpg: ignoring corrupt image/label: Label class 3 exceeds dataset class count 1. Possible class labels are 0-0\n",
            "\u001b[34m\u001b[1mtrain: \u001b[0mWARNING ⚠️ /content/Scence-Text-Detection-4/train/images/TP-f4-img7_jpg.rf.af1a6c57ad2611c9b709f0aee913b78d.jpg: ignoring corrupt image/label: Label class 1559 exceeds dataset class count 1. Possible class labels are 0-0\n",
            "\u001b[34m\u001b[1mtrain: \u001b[0mWARNING ⚠️ /content/Scence-Text-Detection-4/train/images/TP-f4-img8_jpg.rf.b063351d0daaa1888dd1eb8b5d0d1992.jpg: ignoring corrupt image/label: Label class 1592 exceeds dataset class count 1. Possible class labels are 0-0\n",
            "\u001b[34m\u001b[1mtrain: \u001b[0mWARNING ⚠️ /content/Scence-Text-Detection-4/train/images/TP-f4-img9_jpg.rf.5a8fda5661d6b4a19ad0166384c1d9bf.jpg: ignoring corrupt image/label: Label class 1437 exceeds dataset class count 1. Possible class labels are 0-0\n",
            "\u001b[34m\u001b[1mtrain: \u001b[0mWARNING ⚠️ /content/Scence-Text-Detection-4/train/images/TP-f5-img18_jpg.rf.9c5aa7d6e81a6352f83e1e80ae3563ce.jpg: ignoring corrupt image/label: Label class 364 exceeds dataset class count 1. Possible class labels are 0-0\n",
            "\u001b[34m\u001b[1mtrain: \u001b[0mWARNING ⚠️ /content/Scence-Text-Detection-4/train/images/TP-f5-img20_jpg.rf.c094465d0650ba46d81db1a3e44d29b2.jpg: ignoring corrupt image/label: Label class 2 exceeds dataset class count 1. Possible class labels are 0-0\n",
            "\u001b[34m\u001b[1mtrain: \u001b[0mWARNING ⚠️ /content/Scence-Text-Detection-4/train/images/TP-f6-img11_jpeg.rf.83dc3d9e250c260ff080838196783280.jpg: ignoring corrupt image/label: Label class 1947 exceeds dataset class count 1. Possible class labels are 0-0\n",
            "\u001b[34m\u001b[1mtrain: \u001b[0mWARNING ⚠️ /content/Scence-Text-Detection-4/train/images/TP-f6-img14_jpeg.rf.bbede3632a0c6163e44d38943d86e97f.jpg: ignoring corrupt image/label: Label class 2 exceeds dataset class count 1. Possible class labels are 0-0\n",
            "\u001b[34m\u001b[1mtrain: \u001b[0mWARNING ⚠️ /content/Scence-Text-Detection-4/train/images/TP-f6-img15_jpeg.rf.5e45a9e80cafe123195bbaad8f27cab6.jpg: ignoring corrupt image/label: Label class 358 exceeds dataset class count 1. Possible class labels are 0-0\n",
            "\u001b[34m\u001b[1mtrain: \u001b[0mWARNING ⚠️ /content/Scence-Text-Detection-4/train/images/TP-f6-img16_jpeg.rf.88eb809793d16ad640be4707196d9bf8.jpg: ignoring corrupt image/label: Label class 2 exceeds dataset class count 1. Possible class labels are 0-0\n",
            "\u001b[34m\u001b[1mtrain: \u001b[0mWARNING ⚠️ /content/Scence-Text-Detection-4/train/images/TP-f6-img9_jpeg.rf.a1d919655eb6e952a26d9dae62760f63.jpg: ignoring corrupt image/label: Label class 384 exceeds dataset class count 1. Possible class labels are 0-0\n",
            "\u001b[34m\u001b[1mtrain: \u001b[0mWARNING ⚠️ /content/Scence-Text-Detection-4/train/images/TP-f7-img11_jpeg.rf.a4de8e48076241b63a8bc6706d03d867.jpg: ignoring corrupt image/label: Label class 1969 exceeds dataset class count 1. Possible class labels are 0-0\n",
            "\u001b[34m\u001b[1mtrain: \u001b[0mWARNING ⚠️ /content/Scence-Text-Detection-4/train/images/TP-f7-img17_jpeg.rf.609f247c42f49ac4a2748910514f45c6.jpg: ignoring corrupt image/label: Label class 682 exceeds dataset class count 1. Possible class labels are 0-0\n",
            "\u001b[34m\u001b[1mtrain: \u001b[0mWARNING ⚠️ /content/Scence-Text-Detection-4/train/images/TP-f7-img19_jpeg.rf.fc3fc5afaa14cb2ba87d8b61fea5fbb1.jpg: ignoring corrupt image/label: Label class 1726 exceeds dataset class count 1. Possible class labels are 0-0\n",
            "\u001b[34m\u001b[1mtrain: \u001b[0mWARNING ⚠️ /content/Scence-Text-Detection-4/train/images/TP-f7-img1_jpeg.rf.1da8fa09fae11b7a76a906cf5b0e2d13.jpg: ignoring corrupt image/label: Label class 2 exceeds dataset class count 1. Possible class labels are 0-0\n",
            "\u001b[34m\u001b[1mtrain: \u001b[0mWARNING ⚠️ /content/Scence-Text-Detection-4/train/images/TP-f7-img20_jpeg.rf.cc588ac7eec91122eadc2518b91dbc0c.jpg: ignoring corrupt image/label: Label class 486 exceeds dataset class count 1. Possible class labels are 0-0\n",
            "\u001b[34m\u001b[1mtrain: \u001b[0mWARNING ⚠️ /content/Scence-Text-Detection-4/train/images/TP-f7-img6_jpeg.rf.e82401f8557bf96cba30fc7da91344f7.jpg: ignoring corrupt image/label: Label class 1876 exceeds dataset class count 1. Possible class labels are 0-0\n",
            "\u001b[34m\u001b[1mtrain: \u001b[0mWARNING ⚠️ /content/Scence-Text-Detection-4/train/images/TP-f8-img12_jpeg.rf.9e9ded73c40cf4d15d4c81065a1751c4.jpg: ignoring corrupt image/label: Label class 54 exceeds dataset class count 1. Possible class labels are 0-0\n",
            "\u001b[34m\u001b[1mtrain: \u001b[0mWARNING ⚠️ /content/Scence-Text-Detection-4/train/images/TP-f8-img13_jpeg.rf.70ec88b7eef3a1ce9cb7bd1123243ba3.jpg: ignoring corrupt image/label: Label class 1608 exceeds dataset class count 1. Possible class labels are 0-0\n",
            "\u001b[34m\u001b[1mtrain: \u001b[0mWARNING ⚠️ /content/Scence-Text-Detection-4/train/images/TP-f8-img3_jpeg.rf.ca4ab9857134d02e6f2a1414d7d98d5d.jpg: ignoring corrupt image/label: Label class 2 exceeds dataset class count 1. Possible class labels are 0-0\n",
            "\u001b[34m\u001b[1mtrain: \u001b[0mWARNING ⚠️ /content/Scence-Text-Detection-4/train/images/TP-f8-img8_jpeg.rf.1a4d45243394926f64831e4854fba524.jpg: ignoring corrupt image/label: Label class 3 exceeds dataset class count 1. Possible class labels are 0-0\n",
            "\u001b[34m\u001b[1mtrain: \u001b[0mWARNING ⚠️ /content/Scence-Text-Detection-4/train/images/TP-f8-img9_jpeg.rf.65ae7dd02ef403d9150c6fe87584a6dd.jpg: ignoring corrupt image/label: Label class 6 exceeds dataset class count 1. Possible class labels are 0-0\n",
            "\u001b[34m\u001b[1mtrain: \u001b[0mWARNING ⚠️ /content/Scence-Text-Detection-4/train/images/TP-f9-img13_jpeg.rf.19addd27850ff97bbc3fedbd9589e4d2.jpg: ignoring corrupt image/label: Label class 1797 exceeds dataset class count 1. Possible class labels are 0-0\n",
            "\u001b[34m\u001b[1mtrain: \u001b[0mWARNING ⚠️ /content/Scence-Text-Detection-4/train/images/TP-f9-img17_jpeg.rf.6a30ae26bdbb9c4a8d1aa38d70b213d7.jpg: ignoring corrupt image/label: Label class 228 exceeds dataset class count 1. Possible class labels are 0-0\n",
            "\u001b[34m\u001b[1mtrain: \u001b[0mWARNING ⚠️ /content/Scence-Text-Detection-4/train/images/TP-f9-img18_jpeg.rf.7f2a934abc39b7831725ed641291c2e5.jpg: ignoring corrupt image/label: Label class 674 exceeds dataset class count 1. Possible class labels are 0-0\n",
            "\u001b[34m\u001b[1mtrain: \u001b[0mWARNING ⚠️ /content/Scence-Text-Detection-4/train/images/TP-f9-img20_jpeg.rf.82eab87404af3e70754e19c4b37b8b35.jpg: ignoring corrupt image/label: Label class 1973 exceeds dataset class count 1. Possible class labels are 0-0\n",
            "\u001b[34m\u001b[1mtrain: \u001b[0mWARNING ⚠️ /content/Scence-Text-Detection-4/train/images/TP-f9-img2_jpeg.rf.3e8aec51e6d1a9785c363db701ed7efb.jpg: ignoring corrupt image/label: Label class 667 exceeds dataset class count 1. Possible class labels are 0-0\n",
            "\u001b[34m\u001b[1mtrain: \u001b[0mWARNING ⚠️ /content/Scence-Text-Detection-4/train/images/a11_jpg.rf.a07f86350ba6b215b5d38bec7edf79ce.jpg: ignoring corrupt image/label: Label class 2269 exceeds dataset class count 1. Possible class labels are 0-0\n",
            "\u001b[34m\u001b[1mtrain: \u001b[0mWARNING ⚠️ /content/Scence-Text-Detection-4/train/images/a13_jpg.rf.fc0efe1d3863207ff606695a5413ce45.jpg: ignoring corrupt image/label: Label class 1918 exceeds dataset class count 1. Possible class labels are 0-0\n",
            "\u001b[34m\u001b[1mtrain: \u001b[0mWARNING ⚠️ /content/Scence-Text-Detection-4/train/images/a14_jpg.rf.423af5bb65564e0718b1e97f6c0bb2cb.jpg: ignoring corrupt image/label: Label class 2008 exceeds dataset class count 1. Possible class labels are 0-0\n",
            "\u001b[34m\u001b[1mtrain: \u001b[0mWARNING ⚠️ /content/Scence-Text-Detection-4/train/images/a16_jpg.rf.502c40d43224d0ff210212fdf63c5778.jpg: ignoring corrupt image/label: Label class 2113 exceeds dataset class count 1. Possible class labels are 0-0\n",
            "\u001b[34m\u001b[1mtrain: \u001b[0mWARNING ⚠️ /content/Scence-Text-Detection-4/train/images/a17_jpg.rf.c9a2ea7a7a785ed59e1f5195f013f7c0.jpg: ignoring corrupt image/label: Label class 301 exceeds dataset class count 1. Possible class labels are 0-0\n",
            "\u001b[34m\u001b[1mtrain: \u001b[0mWARNING ⚠️ /content/Scence-Text-Detection-4/train/images/a20_jpg.rf.092029b0762791c5b6db7347b4b29784.jpg: ignoring corrupt image/label: Label class 2023 exceeds dataset class count 1. Possible class labels are 0-0\n",
            "\u001b[34m\u001b[1mtrain: \u001b[0mWARNING ⚠️ /content/Scence-Text-Detection-4/train/images/a2_jpg.rf.610d2af62e919a67f7e86e13cf461f46.jpg: ignoring corrupt image/label: Label class 935 exceeds dataset class count 1. Possible class labels are 0-0\n",
            "\u001b[34m\u001b[1mtrain: \u001b[0mWARNING ⚠️ /content/Scence-Text-Detection-4/train/images/a7_jpg.rf.70c3897ccbc493674384f3ec998016ad.jpg: ignoring corrupt image/label: Label class 2066 exceeds dataset class count 1. Possible class labels are 0-0\n",
            "\u001b[34m\u001b[1mtrain: \u001b[0mWARNING ⚠️ /content/Scence-Text-Detection-4/train/images/b11_jpg.rf.6a6c2e074cc9cce50521629c839050b5.jpg: ignoring corrupt image/label: Label class 692 exceeds dataset class count 1. Possible class labels are 0-0\n",
            "\u001b[34m\u001b[1mtrain: \u001b[0mWARNING ⚠️ /content/Scence-Text-Detection-4/train/images/b14_jpg.rf.b4a17b32ddfd8d98f9bae80b419e2304.jpg: ignoring corrupt image/label: Label class 1615 exceeds dataset class count 1. Possible class labels are 0-0\n",
            "\u001b[34m\u001b[1mtrain: \u001b[0mWARNING ⚠️ /content/Scence-Text-Detection-4/train/images/b18_jpg.rf.50bdba65a9b5c98be105e1e62c04a504.jpg: ignoring corrupt image/label: Label class 909 exceeds dataset class count 1. Possible class labels are 0-0\n",
            "\u001b[34m\u001b[1mtrain: \u001b[0mWARNING ⚠️ /content/Scence-Text-Detection-4/train/images/b2_jpg.rf.00931a402169b335746d92badfcb9638.jpg: ignoring corrupt image/label: Label class 1907 exceeds dataset class count 1. Possible class labels are 0-0\n",
            "\u001b[34m\u001b[1mtrain: \u001b[0mWARNING ⚠️ /content/Scence-Text-Detection-4/train/images/b3_jpg.rf.56465232619f1b0af4a602e0fe37908f.jpg: ignoring corrupt image/label: Label class 2244 exceeds dataset class count 1. Possible class labels are 0-0\n",
            "\u001b[34m\u001b[1mtrain: \u001b[0mWARNING ⚠️ /content/Scence-Text-Detection-4/train/images/b7_jpg.rf.052d38ebc6b182a16c6c983259e98ea2.jpg: ignoring corrupt image/label: Label class 1771 exceeds dataset class count 1. Possible class labels are 0-0\n",
            "\u001b[34m\u001b[1mtrain: \u001b[0mWARNING ⚠️ /content/Scence-Text-Detection-4/train/images/b9_jpg.rf.58bd7550d5307b7a359beb767771ad9d.jpg: ignoring corrupt image/label: Label class 1932 exceeds dataset class count 1. Possible class labels are 0-0\n",
            "\u001b[34m\u001b[1mtrain: \u001b[0mWARNING ⚠️ /content/Scence-Text-Detection-4/train/images/dv_101_jpg.rf.0468be8b9e4f5e5efd7888819d4949e0.jpg: ignoring corrupt image/label: Label class 248 exceeds dataset class count 1. Possible class labels are 0-0\n",
            "\u001b[34m\u001b[1mtrain: \u001b[0mWARNING ⚠️ /content/Scence-Text-Detection-4/train/images/dv_105_jpg.rf.35d1c3075571a41788fabef645927f6a.jpg: ignoring corrupt image/label: Label class 1784 exceeds dataset class count 1. Possible class labels are 0-0\n",
            "\u001b[34m\u001b[1mtrain: \u001b[0mWARNING ⚠️ /content/Scence-Text-Detection-4/train/images/dv_107_jpg.rf.8f7d0ed0830be6c1186f70010eeba3de.jpg: ignoring corrupt image/label: Label class 1737 exceeds dataset class count 1. Possible class labels are 0-0\n",
            "\u001b[34m\u001b[1mtrain: \u001b[0mWARNING ⚠️ /content/Scence-Text-Detection-4/train/images/dv_108_jpg.rf.57af87a7621854e16bf8c096b2b9f9a9.jpg: ignoring corrupt image/label: Label class 4 exceeds dataset class count 1. Possible class labels are 0-0\n",
            "\u001b[34m\u001b[1mtrain: \u001b[0mWARNING ⚠️ /content/Scence-Text-Detection-4/train/images/dv_109_jpg.rf.ae6d0b185c25b24aef511f39020062cd.jpg: ignoring corrupt image/label: Label class 1745 exceeds dataset class count 1. Possible class labels are 0-0\n",
            "\u001b[34m\u001b[1mtrain: \u001b[0mWARNING ⚠️ /content/Scence-Text-Detection-4/train/images/dv_110_jpg.rf.3f80c6b4e57f6d3a1b6cf1960a62225a.jpg: ignoring corrupt image/label: Label class 1985 exceeds dataset class count 1. Possible class labels are 0-0\n",
            "\u001b[34m\u001b[1mtrain: \u001b[0mWARNING ⚠️ /content/Scence-Text-Detection-4/train/images/dv_111_jpg.rf.8dcd72a705ba51c4ba9f47ef1417b648.jpg: ignoring corrupt image/label: Label class 1644 exceeds dataset class count 1. Possible class labels are 0-0\n",
            "\u001b[34m\u001b[1mtrain: \u001b[0mWARNING ⚠️ /content/Scence-Text-Detection-4/train/images/dv_113_jpg.rf.2c199f2554bcb1df48293ed70bdf2acd.jpg: ignoring corrupt image/label: Label class 1950 exceeds dataset class count 1. Possible class labels are 0-0\n",
            "\u001b[34m\u001b[1mtrain: \u001b[0mWARNING ⚠️ /content/Scence-Text-Detection-4/train/images/dv_115_jpg.rf.f55a452bc5ffca10df44663c79d607ab.jpg: ignoring corrupt image/label: Label class 1481 exceeds dataset class count 1. Possible class labels are 0-0\n",
            "\u001b[34m\u001b[1mtrain: \u001b[0mWARNING ⚠️ /content/Scence-Text-Detection-4/train/images/dv_118_jpg.rf.b2185316f2260f516116860c8a0842c7.jpg: ignoring corrupt image/label: Label class 1660 exceeds dataset class count 1. Possible class labels are 0-0\n",
            "\u001b[34m\u001b[1mtrain: \u001b[0mWARNING ⚠️ /content/Scence-Text-Detection-4/train/images/dv_119_jpg.rf.7f68d72a2102c9aa72267c9198c00684.jpg: ignoring corrupt image/label: Label class 2180 exceeds dataset class count 1. Possible class labels are 0-0\n",
            "\u001b[34m\u001b[1mtrain: \u001b[0mWARNING ⚠️ /content/Scence-Text-Detection-4/train/images/dv_121_jpg.rf.1f574bd269f3769efa024ef0dbae412e.jpg: ignoring corrupt image/label: Label class 1947 exceeds dataset class count 1. Possible class labels are 0-0\n",
            "\u001b[34m\u001b[1mtrain: \u001b[0mWARNING ⚠️ /content/Scence-Text-Detection-4/train/images/dv_122_jpg.rf.4fba6f7e83ec9d49507bd1d35d33c097.jpg: ignoring corrupt image/label: Label class 2 exceeds dataset class count 1. Possible class labels are 0-0\n",
            "\u001b[34m\u001b[1mtrain: \u001b[0mWARNING ⚠️ /content/Scence-Text-Detection-4/train/images/dv_123_jpg.rf.d69cdece50408356df5a6341072553a2.jpg: ignoring corrupt image/label: Label class 2202 exceeds dataset class count 1. Possible class labels are 0-0\n",
            "\u001b[34m\u001b[1mtrain: \u001b[0mWARNING ⚠️ /content/Scence-Text-Detection-4/train/images/dv_127_jpg.rf.a21a8addffeedea64271cf6322477f88.jpg: ignoring corrupt image/label: Label class 5 exceeds dataset class count 1. Possible class labels are 0-0\n",
            "\u001b[34m\u001b[1mtrain: \u001b[0mWARNING ⚠️ /content/Scence-Text-Detection-4/train/images/dv_128_jpg.rf.dee4614545975e4e73752e2b32a93273.jpg: ignoring corrupt image/label: Label class 1590 exceeds dataset class count 1. Possible class labels are 0-0\n",
            "\u001b[34m\u001b[1mtrain: \u001b[0mWARNING ⚠️ /content/Scence-Text-Detection-4/train/images/dv_132_jpg.rf.19dcffcbdde56d195dd34c2f644e20bb.jpg: ignoring corrupt image/label: Label class 2152 exceeds dataset class count 1. Possible class labels are 0-0\n",
            "\u001b[34m\u001b[1mtrain: \u001b[0mWARNING ⚠️ /content/Scence-Text-Detection-4/train/images/dv_133_jpg.rf.3054e81e3ebcc5ce741b124e9d94ada5.jpg: ignoring corrupt image/label: Label class 797 exceeds dataset class count 1. Possible class labels are 0-0\n",
            "\u001b[34m\u001b[1mtrain: \u001b[0mWARNING ⚠️ /content/Scence-Text-Detection-4/train/images/dv_134_jpg.rf.1dbfa2e78f7d1174ae052ab8d465de48.jpg: ignoring corrupt image/label: Label class 1389 exceeds dataset class count 1. Possible class labels are 0-0\n",
            "\u001b[34m\u001b[1mtrain: \u001b[0mWARNING ⚠️ /content/Scence-Text-Detection-4/train/images/dv_135_jpg.rf.d8ecf585d6128daa2a257df42ea9040b.jpg: ignoring corrupt image/label: Label class 842 exceeds dataset class count 1. Possible class labels are 0-0\n",
            "\u001b[34m\u001b[1mtrain: \u001b[0mWARNING ⚠️ /content/Scence-Text-Detection-4/train/images/dv_137_jpg.rf.61be06d1a7a6f8c7300a4fb62adde269.jpg: ignoring corrupt image/label: Label class 2140 exceeds dataset class count 1. Possible class labels are 0-0\n",
            "\u001b[34m\u001b[1mtrain: \u001b[0mWARNING ⚠️ /content/Scence-Text-Detection-4/train/images/dv_139_jpg.rf.c9a36e71424373ba8a08530d54accbdb.jpg: ignoring corrupt image/label: Label class 2100 exceeds dataset class count 1. Possible class labels are 0-0\n",
            "\u001b[34m\u001b[1mtrain: \u001b[0mWARNING ⚠️ /content/Scence-Text-Detection-4/train/images/dv_140_jpg.rf.8a1754ef19d10f3a55b15ddf768fa390.jpg: ignoring corrupt image/label: Label class 2 exceeds dataset class count 1. Possible class labels are 0-0\n",
            "\u001b[34m\u001b[1mtrain: \u001b[0mWARNING ⚠️ /content/Scence-Text-Detection-4/train/images/dv_141_jpg.rf.50b9ad21e440356d733123eeea6360cb.jpg: ignoring corrupt image/label: Label class 2114 exceeds dataset class count 1. Possible class labels are 0-0\n",
            "\u001b[34m\u001b[1mtrain: \u001b[0mWARNING ⚠️ /content/Scence-Text-Detection-4/train/images/dv_146_jpg.rf.12075f76b77071f234ba274edc2a4b61.jpg: ignoring corrupt image/label: Label class 1138 exceeds dataset class count 1. Possible class labels are 0-0\n",
            "\u001b[34m\u001b[1mtrain: \u001b[0mWARNING ⚠️ /content/Scence-Text-Detection-4/train/images/dv_150_jpg.rf.010f5887a0688d1266df03eed54c2c03.jpg: ignoring corrupt image/label: Label class 2 exceeds dataset class count 1. Possible class labels are 0-0\n",
            "\u001b[34m\u001b[1mtrain: \u001b[0mWARNING ⚠️ /content/Scence-Text-Detection-4/train/images/dv_152_jpg.rf.d8536f7a3b895d4e1617e5cd66501396.jpg: ignoring corrupt image/label: Label class 955 exceeds dataset class count 1. Possible class labels are 0-0\n",
            "\u001b[34m\u001b[1mtrain: \u001b[0mWARNING ⚠️ /content/Scence-Text-Detection-4/train/images/dv_153_jpg.rf.3567b07b6fe2bec528b4733951e5ccff.jpg: ignoring corrupt image/label: Label class 837 exceeds dataset class count 1. Possible class labels are 0-0\n",
            "\u001b[34m\u001b[1mtrain: \u001b[0mWARNING ⚠️ /content/Scence-Text-Detection-4/train/images/dv_154_jpg.rf.d02fe392c25af9be77d5af4caa0485ae.jpg: ignoring corrupt image/label: Label class 2229 exceeds dataset class count 1. Possible class labels are 0-0\n",
            "\u001b[34m\u001b[1mtrain: \u001b[0mWARNING ⚠️ /content/Scence-Text-Detection-4/train/images/dv_155_jpg.rf.a33f0eb8f651d6268d2d12e7fa91df19.jpg: ignoring corrupt image/label: Label class 1838 exceeds dataset class count 1. Possible class labels are 0-0\n",
            "\u001b[34m\u001b[1mtrain: \u001b[0mWARNING ⚠️ /content/Scence-Text-Detection-4/train/images/dv_156_jpg.rf.94c04538107c703acb9e28e235098be1.jpg: ignoring corrupt image/label: Label class 649 exceeds dataset class count 1. Possible class labels are 0-0\n",
            "\u001b[34m\u001b[1mtrain: \u001b[0mWARNING ⚠️ /content/Scence-Text-Detection-4/train/images/dv_158_jpg.rf.3d578b6a1c327a4bca6ed3aee9b3b10e.jpg: ignoring corrupt image/label: Label class 445 exceeds dataset class count 1. Possible class labels are 0-0\n",
            "\u001b[34m\u001b[1mtrain: \u001b[0mWARNING ⚠️ /content/Scence-Text-Detection-4/train/images/dv_159_jpg.rf.fb49bff0555b3e33b1e33db4d0e2f323.jpg: ignoring corrupt image/label: Label class 2129 exceeds dataset class count 1. Possible class labels are 0-0\n",
            "\u001b[34m\u001b[1mtrain: \u001b[0mWARNING ⚠️ /content/Scence-Text-Detection-4/train/images/dv_160_jpg.rf.d5dbe27c790298f4802324edb6e830d9.jpg: ignoring corrupt image/label: Label class 1031 exceeds dataset class count 1. Possible class labels are 0-0\n",
            "\u001b[34m\u001b[1mtrain: \u001b[0mWARNING ⚠️ /content/Scence-Text-Detection-4/train/images/dv_161_jpg.rf.fde0948ae340d7ea77b9c6302e7409c2.jpg: ignoring corrupt image/label: Label class 5 exceeds dataset class count 1. Possible class labels are 0-0\n",
            "\u001b[34m\u001b[1mtrain: \u001b[0mWARNING ⚠️ /content/Scence-Text-Detection-4/train/images/dv_162_jpg.rf.f1bd802e6ad48c9e54af401a5209c0a3.jpg: ignoring corrupt image/label: Label class 1978 exceeds dataset class count 1. Possible class labels are 0-0\n",
            "\u001b[34m\u001b[1mtrain: \u001b[0mWARNING ⚠️ /content/Scence-Text-Detection-4/train/images/dv_165_jpg.rf.ac9725862728b1e524b9cb9d995dea37.jpg: ignoring corrupt image/label: Label class 233 exceeds dataset class count 1. Possible class labels are 0-0\n",
            "\u001b[34m\u001b[1mtrain: \u001b[0mWARNING ⚠️ /content/Scence-Text-Detection-4/train/images/dv_166_jpg.rf.69d178dd72ce5f3944656f1c4bbc519f.jpg: ignoring corrupt image/label: Label class 1934 exceeds dataset class count 1. Possible class labels are 0-0\n",
            "\u001b[34m\u001b[1mtrain: \u001b[0mWARNING ⚠️ /content/Scence-Text-Detection-4/train/images/dv_167_jpg.rf.230aee5d0d00656a245adb2989c468ac.jpg: ignoring corrupt image/label: Label class 1068 exceeds dataset class count 1. Possible class labels are 0-0\n",
            "\u001b[34m\u001b[1mtrain: \u001b[0mWARNING ⚠️ /content/Scence-Text-Detection-4/train/images/dv_169_jpg.rf.4789338f37b8fb2c3d3de029ad0771d9.jpg: ignoring corrupt image/label: Label class 1415 exceeds dataset class count 1. Possible class labels are 0-0\n",
            "\u001b[34m\u001b[1mtrain: \u001b[0mWARNING ⚠️ /content/Scence-Text-Detection-4/train/images/dv_171_jpg.rf.115d90d3ede2002a375d80650f8cb4ba.jpg: ignoring corrupt image/label: Label class 1711 exceeds dataset class count 1. Possible class labels are 0-0\n",
            "\u001b[34m\u001b[1mtrain: \u001b[0mWARNING ⚠️ /content/Scence-Text-Detection-4/train/images/dv_172_jpg.rf.b4b88d8740428d0c9273bdf2fde547f3.jpg: ignoring corrupt image/label: Label class 2 exceeds dataset class count 1. Possible class labels are 0-0\n",
            "\u001b[34m\u001b[1mtrain: \u001b[0mWARNING ⚠️ /content/Scence-Text-Detection-4/train/images/dv_173_jpg.rf.fcd9b81170b7c536674b690c7f3348e0.jpg: ignoring corrupt image/label: Label class 2134 exceeds dataset class count 1. Possible class labels are 0-0\n",
            "\u001b[34m\u001b[1mtrain: \u001b[0mWARNING ⚠️ /content/Scence-Text-Detection-4/train/images/dv_174_jpg.rf.2e2ced22dbbc01faeba86c30c5cb1bd0.jpg: ignoring corrupt image/label: Label class 1702 exceeds dataset class count 1. Possible class labels are 0-0\n",
            "\u001b[34m\u001b[1mtrain: \u001b[0mWARNING ⚠️ /content/Scence-Text-Detection-4/train/images/dv_175_jpg.rf.a5fe8677acdf68ed1314bb293406330e.jpg: ignoring corrupt image/label: Label class 3 exceeds dataset class count 1. Possible class labels are 0-0\n",
            "\u001b[34m\u001b[1mtrain: \u001b[0mWARNING ⚠️ /content/Scence-Text-Detection-4/train/images/dv_176_jpg.rf.7b54210834865686b4b2ece9e291d564.jpg: ignoring corrupt image/label: Label class 2126 exceeds dataset class count 1. Possible class labels are 0-0\n",
            "\u001b[34m\u001b[1mtrain: \u001b[0mWARNING ⚠️ /content/Scence-Text-Detection-4/train/images/dv_178_jpg.rf.3114be7e1d360c34a9346989020f92de.jpg: ignoring corrupt image/label: Label class 384 exceeds dataset class count 1. Possible class labels are 0-0\n",
            "\u001b[34m\u001b[1mtrain: \u001b[0mWARNING ⚠️ /content/Scence-Text-Detection-4/train/images/dv_180_jpg.rf.07b41b393a18e49c1172d668d8bae5f3.jpg: ignoring corrupt image/label: Label class 2 exceeds dataset class count 1. Possible class labels are 0-0\n",
            "\u001b[34m\u001b[1mtrain: \u001b[0mWARNING ⚠️ /content/Scence-Text-Detection-4/train/images/dv_182_jpg.rf.6345ed301e41de62373e3b8248d90b26.jpg: ignoring corrupt image/label: Label class 1422 exceeds dataset class count 1. Possible class labels are 0-0\n",
            "\u001b[34m\u001b[1mtrain: \u001b[0mWARNING ⚠️ /content/Scence-Text-Detection-4/train/images/dv_183_jpg.rf.02901a44a4a18254d2d99d445779869d.jpg: ignoring corrupt image/label: Label class 153 exceeds dataset class count 1. Possible class labels are 0-0\n",
            "\u001b[34m\u001b[1mtrain: \u001b[0mWARNING ⚠️ /content/Scence-Text-Detection-4/train/images/dv_184_jpg.rf.6cf350e0cea51f1acbab7c4935c359ba.jpg: ignoring corrupt image/label: Label class 2102 exceeds dataset class count 1. Possible class labels are 0-0\n",
            "\u001b[34m\u001b[1mtrain: \u001b[0mWARNING ⚠️ /content/Scence-Text-Detection-4/train/images/dv_186_jpg.rf.7518288a979409f05d47e879bea8d10b.jpg: ignoring corrupt image/label: Label class 1404 exceeds dataset class count 1. Possible class labels are 0-0\n",
            "\u001b[34m\u001b[1mtrain: \u001b[0mWARNING ⚠️ /content/Scence-Text-Detection-4/train/images/dv_187_jpg.rf.cca0194466ac1500d1918644d0dac025.jpg: ignoring corrupt image/label: Label class 2 exceeds dataset class count 1. Possible class labels are 0-0\n",
            "\u001b[34m\u001b[1mtrain: \u001b[0mWARNING ⚠️ /content/Scence-Text-Detection-4/train/images/dv_188_jpg.rf.18eb0671a207bc1e3c07c712d8ae8402.jpg: ignoring corrupt image/label: Label class 1660 exceeds dataset class count 1. Possible class labels are 0-0\n",
            "\u001b[34m\u001b[1mtrain: \u001b[0mWARNING ⚠️ /content/Scence-Text-Detection-4/train/images/dv_189_jpg.rf.b11e6eb5c6b0779f6fffbc8d5487b35f.jpg: ignoring corrupt image/label: Label class 1405 exceeds dataset class count 1. Possible class labels are 0-0\n",
            "\u001b[34m\u001b[1mtrain: \u001b[0mWARNING ⚠️ /content/Scence-Text-Detection-4/train/images/dv_190_jpg.rf.3c0bf1ff2d3efd7f82ccce680b77bc9a.jpg: ignoring corrupt image/label: Label class 136 exceeds dataset class count 1. Possible class labels are 0-0\n",
            "\u001b[34m\u001b[1mtrain: \u001b[0mWARNING ⚠️ /content/Scence-Text-Detection-4/train/images/dv_194_jpg.rf.618bb3773bf415fde14d686681955d6d.jpg: ignoring corrupt image/label: Label class 4 exceeds dataset class count 1. Possible class labels are 0-0\n",
            "\u001b[34m\u001b[1mtrain: \u001b[0mWARNING ⚠️ /content/Scence-Text-Detection-4/train/images/dv_202_jpg.rf.f98939546cc9efe08f30b6c25d135796.jpg: ignoring corrupt image/label: Label class 1095 exceeds dataset class count 1. Possible class labels are 0-0\n",
            "\u001b[34m\u001b[1mtrain: \u001b[0mWARNING ⚠️ /content/Scence-Text-Detection-4/train/images/dv_203_jpg.rf.1094a7f9f78288ac14bfda257cd88b7e.jpg: ignoring corrupt image/label: Label class 1177 exceeds dataset class count 1. Possible class labels are 0-0\n",
            "\u001b[34m\u001b[1mtrain: \u001b[0mWARNING ⚠️ /content/Scence-Text-Detection-4/train/images/dv_204_jpg.rf.2e7547b5ae42604baa3bf5b3eb4b4ed9.jpg: ignoring corrupt image/label: Label class 500 exceeds dataset class count 1. Possible class labels are 0-0\n",
            "\u001b[34m\u001b[1mtrain: \u001b[0mWARNING ⚠️ /content/Scence-Text-Detection-4/train/images/dv_206_jpg.rf.ecd0410e20aafef15b933673375879ef.jpg: ignoring corrupt image/label: Label class 1638 exceeds dataset class count 1. Possible class labels are 0-0\n",
            "\u001b[34m\u001b[1mtrain: \u001b[0mWARNING ⚠️ /content/Scence-Text-Detection-4/train/images/dv_207_jpg.rf.d50e83a2d7a2e597a12ecf89df8bda3b.jpg: ignoring corrupt image/label: Label class 2 exceeds dataset class count 1. Possible class labels are 0-0\n",
            "\u001b[34m\u001b[1mtrain: \u001b[0mWARNING ⚠️ /content/Scence-Text-Detection-4/train/images/dv_209_jpg.rf.5dc637bd70b278b74da12daed8bb19c8.jpg: ignoring corrupt image/label: Label class 3 exceeds dataset class count 1. Possible class labels are 0-0\n",
            "\u001b[34m\u001b[1mtrain: \u001b[0mWARNING ⚠️ /content/Scence-Text-Detection-4/train/images/dv_210_jpg.rf.f67abffe3cf2353afa0f83edfac32304.jpg: ignoring corrupt image/label: Label class 1411 exceeds dataset class count 1. Possible class labels are 0-0\n",
            "\u001b[34m\u001b[1mtrain: \u001b[0mWARNING ⚠️ /content/Scence-Text-Detection-4/train/images/dv_211_jpg.rf.af492157aef20282621f87d7bb536ac0.jpg: ignoring corrupt image/label: Label class 2200 exceeds dataset class count 1. Possible class labels are 0-0\n",
            "\u001b[34m\u001b[1mtrain: \u001b[0mWARNING ⚠️ /content/Scence-Text-Detection-4/train/images/dv_212_jpg.rf.7507f5772c461f38ddb8794abf7f5575.jpg: ignoring corrupt image/label: Label class 2045 exceeds dataset class count 1. Possible class labels are 0-0\n",
            "\u001b[34m\u001b[1mtrain: \u001b[0mWARNING ⚠️ /content/Scence-Text-Detection-4/train/images/dv_213_jpg.rf.3f522ffba1832a36907da3db836e4b44.jpg: ignoring corrupt image/label: Label class 1116 exceeds dataset class count 1. Possible class labels are 0-0\n",
            "\u001b[34m\u001b[1mtrain: \u001b[0mWARNING ⚠️ /content/Scence-Text-Detection-4/train/images/dv_214_jpg.rf.e0ab77649fa3a5f4c072c03ce6b96eac.jpg: ignoring corrupt image/label: Label class 4 exceeds dataset class count 1. Possible class labels are 0-0\n",
            "\u001b[34m\u001b[1mtrain: \u001b[0mWARNING ⚠️ /content/Scence-Text-Detection-4/train/images/dv_215_jpg.rf.9ba8f8c23c34279c6ab71a4e7faf9a9f.jpg: ignoring corrupt image/label: Label class 943 exceeds dataset class count 1. Possible class labels are 0-0\n",
            "\u001b[34m\u001b[1mtrain: \u001b[0mWARNING ⚠️ /content/Scence-Text-Detection-4/train/images/dv_222_jpg.rf.c36f338756c6cd2a1afa7539dd54f8c7.jpg: ignoring corrupt image/label: Label class 2275 exceeds dataset class count 1. Possible class labels are 0-0\n",
            "\u001b[34m\u001b[1mtrain: \u001b[0mWARNING ⚠️ /content/Scence-Text-Detection-4/train/images/dv_225_jpg.rf.d2733467da517a3761c2d0a158e1ff3b.jpg: ignoring corrupt image/label: Label class 2 exceeds dataset class count 1. Possible class labels are 0-0\n",
            "\u001b[34m\u001b[1mtrain: \u001b[0mWARNING ⚠️ /content/Scence-Text-Detection-4/train/images/dv_227_jpg.rf.89e31092c754296681592a3557d483f3.jpg: ignoring corrupt image/label: Label class 1345 exceeds dataset class count 1. Possible class labels are 0-0\n",
            "\u001b[34m\u001b[1mtrain: \u001b[0mWARNING ⚠️ /content/Scence-Text-Detection-4/train/images/dv_228_jpg.rf.d77bd465938eeb37293cb39d93a3546e.jpg: ignoring corrupt image/label: Label class 1508 exceeds dataset class count 1. Possible class labels are 0-0\n",
            "\u001b[34m\u001b[1mtrain: \u001b[0mWARNING ⚠️ /content/Scence-Text-Detection-4/train/images/dv_231_jpg.rf.4244034bc376965538d2074375da17b0.jpg: ignoring corrupt image/label: Label class 238 exceeds dataset class count 1. Possible class labels are 0-0\n",
            "\u001b[34m\u001b[1mtrain: \u001b[0mWARNING ⚠️ /content/Scence-Text-Detection-4/train/images/dv_232_jpg.rf.550cb2d09a84ef46da5f185ff1f7b035.jpg: ignoring corrupt image/label: Label class 1355 exceeds dataset class count 1. Possible class labels are 0-0\n",
            "\u001b[34m\u001b[1mtrain: \u001b[0mWARNING ⚠️ /content/Scence-Text-Detection-4/train/images/dv_233_jpg.rf.0b71c70fb7bc740aeee5e82fb2392662.jpg: ignoring corrupt image/label: Label class 1254 exceeds dataset class count 1. Possible class labels are 0-0\n",
            "\u001b[34m\u001b[1mtrain: \u001b[0mWARNING ⚠️ /content/Scence-Text-Detection-4/train/images/dv_236_jpg.rf.821994b5b5d30d824d7a26eb2a2342cc.jpg: ignoring corrupt image/label: Label class 1000 exceeds dataset class count 1. Possible class labels are 0-0\n",
            "\u001b[34m\u001b[1mtrain: \u001b[0mWARNING ⚠️ /content/Scence-Text-Detection-4/train/images/dv_237_jpg.rf.77daaaf6fba0b25f4b3c4aa4c85d5c30.jpg: ignoring corrupt image/label: Label class 1456 exceeds dataset class count 1. Possible class labels are 0-0\n",
            "\u001b[34m\u001b[1mtrain: \u001b[0mWARNING ⚠️ /content/Scence-Text-Detection-4/train/images/dv_238_jpg.rf.9c5e241eab9c64ce3cc49008c6fb1de8.jpg: ignoring corrupt image/label: Label class 1328 exceeds dataset class count 1. Possible class labels are 0-0\n",
            "\u001b[34m\u001b[1mtrain: \u001b[0mWARNING ⚠️ /content/Scence-Text-Detection-4/train/images/dv_240_jpg.rf.405cfbdae1d5484f20955eddff1b8acb.jpg: ignoring corrupt image/label: Label class 2 exceeds dataset class count 1. Possible class labels are 0-0\n",
            "\u001b[34m\u001b[1mtrain: \u001b[0mWARNING ⚠️ /content/Scence-Text-Detection-4/train/images/dv_241_jpg.rf.ef1c3c124b267d826ce6afab72829ed8.jpg: ignoring corrupt image/label: Label class 1865 exceeds dataset class count 1. Possible class labels are 0-0\n",
            "\u001b[34m\u001b[1mtrain: \u001b[0mWARNING ⚠️ /content/Scence-Text-Detection-4/train/images/dv_242_jpg.rf.81811685190f8599e0344500b9404ea8.jpg: ignoring corrupt image/label: Label class 845 exceeds dataset class count 1. Possible class labels are 0-0\n",
            "\u001b[34m\u001b[1mtrain: \u001b[0mWARNING ⚠️ /content/Scence-Text-Detection-4/train/images/dv_243_jpg.rf.8736b2962d36c018ec5c2d6a3fcbd4ad.jpg: ignoring corrupt image/label: Label class 2142 exceeds dataset class count 1. Possible class labels are 0-0\n",
            "\u001b[34m\u001b[1mtrain: \u001b[0mWARNING ⚠️ /content/Scence-Text-Detection-4/train/images/dv_244_jpg.rf.7efeb157305ddc0c797e34976205d624.jpg: ignoring corrupt image/label: Label class 558 exceeds dataset class count 1. Possible class labels are 0-0\n",
            "\u001b[34m\u001b[1mtrain: \u001b[0mWARNING ⚠️ /content/Scence-Text-Detection-4/train/images/dv_246_jpg.rf.f07655eadeb04b05c1e80051bf7b5d4d.jpg: ignoring corrupt image/label: Label class 562 exceeds dataset class count 1. Possible class labels are 0-0\n",
            "\u001b[34m\u001b[1mtrain: \u001b[0mWARNING ⚠️ /content/Scence-Text-Detection-4/train/images/dv_247_jpg.rf.3db30308fa94d5143460e7600774654e.jpg: ignoring corrupt image/label: Label class 2238 exceeds dataset class count 1. Possible class labels are 0-0\n",
            "\u001b[34m\u001b[1mtrain: \u001b[0mWARNING ⚠️ /content/Scence-Text-Detection-4/train/images/dv_248_jpg.rf.54430961377552863d3c77e4944e8bb5.jpg: ignoring corrupt image/label: Label class 2 exceeds dataset class count 1. Possible class labels are 0-0\n",
            "\u001b[34m\u001b[1mtrain: \u001b[0mWARNING ⚠️ /content/Scence-Text-Detection-4/train/images/dv_249_jpg.rf.f9aa87d96ea265dfb68b869806fa1e48.jpg: ignoring corrupt image/label: Label class 1354 exceeds dataset class count 1. Possible class labels are 0-0\n",
            "\u001b[34m\u001b[1mtrain: \u001b[0mWARNING ⚠️ /content/Scence-Text-Detection-4/train/images/dv_250_jpg.rf.c2ae3d29a93432e07937f06c941e0a3f.jpg: ignoring corrupt image/label: Label class 1008 exceeds dataset class count 1. Possible class labels are 0-0\n",
            "\u001b[34m\u001b[1mtrain: \u001b[0mWARNING ⚠️ /content/Scence-Text-Detection-4/train/images/dv_251_jpg.rf.f10b0745de24f8bebb1c53d27723febb.jpg: ignoring corrupt image/label: Label class 1424 exceeds dataset class count 1. Possible class labels are 0-0\n",
            "\u001b[34m\u001b[1mtrain: \u001b[0mWARNING ⚠️ /content/Scence-Text-Detection-4/train/images/dv_255_jpg.rf.905dfadb35571b9765ed56814a49eb51.jpg: ignoring corrupt image/label: Label class 5 exceeds dataset class count 1. Possible class labels are 0-0\n",
            "\u001b[34m\u001b[1mtrain: \u001b[0mWARNING ⚠️ /content/Scence-Text-Detection-4/train/images/dv_256_jpg.rf.85aeca530529e79bac4ee5fbe4effeda.jpg: ignoring corrupt image/label: Label class 2232 exceeds dataset class count 1. Possible class labels are 0-0\n",
            "\u001b[34m\u001b[1mtrain: \u001b[0mWARNING ⚠️ /content/Scence-Text-Detection-4/train/images/dv_258_jpg.rf.946a7eb8b83c723ea906402850f1e99a.jpg: ignoring corrupt image/label: Label class 1069 exceeds dataset class count 1. Possible class labels are 0-0\n",
            "\u001b[34m\u001b[1mtrain: \u001b[0mWARNING ⚠️ /content/Scence-Text-Detection-4/train/images/dv_259_jpg.rf.3d8fac70bd7c6c4add07a2ca70f64859.jpg: ignoring corrupt image/label: Label class 1366 exceeds dataset class count 1. Possible class labels are 0-0\n",
            "\u001b[34m\u001b[1mtrain: \u001b[0mWARNING ⚠️ /content/Scence-Text-Detection-4/train/images/dv_260_jpg.rf.469f7d61af9315fdeb71f727c8dfff34.jpg: ignoring corrupt image/label: Label class 1073 exceeds dataset class count 1. Possible class labels are 0-0\n",
            "\u001b[34m\u001b[1mtrain: \u001b[0mWARNING ⚠️ /content/Scence-Text-Detection-4/train/images/dv_261_jpg.rf.5bda5df3cf514c78d2e1cd77b758d14f.jpg: ignoring corrupt image/label: Label class 3 exceeds dataset class count 1. Possible class labels are 0-0\n",
            "\u001b[34m\u001b[1mtrain: \u001b[0mWARNING ⚠️ /content/Scence-Text-Detection-4/train/images/dv_263_jpg.rf.7af9b819ca35bcdea11e7dbe6980d655.jpg: ignoring corrupt image/label: Label class 1069 exceeds dataset class count 1. Possible class labels are 0-0\n",
            "\u001b[34m\u001b[1mtrain: \u001b[0mWARNING ⚠️ /content/Scence-Text-Detection-4/train/images/dv_264_jpg.rf.c3c81b586896c3fd8139b47773bf7cd5.jpg: ignoring corrupt image/label: Label class 1553 exceeds dataset class count 1. Possible class labels are 0-0\n",
            "\u001b[34m\u001b[1mtrain: \u001b[0mWARNING ⚠️ /content/Scence-Text-Detection-4/train/images/dv_269_jpg.rf.e3d0b0951dff871089c246d140044724.jpg: ignoring corrupt image/label: Label class 3 exceeds dataset class count 1. Possible class labels are 0-0\n",
            "\u001b[34m\u001b[1mtrain: \u001b[0mWARNING ⚠️ /content/Scence-Text-Detection-4/train/images/dv_270_jpg.rf.fb781a0e700a609123ceb5d75a6ffcb7.jpg: ignoring corrupt image/label: Label class 1476 exceeds dataset class count 1. Possible class labels are 0-0\n",
            "\u001b[34m\u001b[1mtrain: \u001b[0mWARNING ⚠️ /content/Scence-Text-Detection-4/train/images/dv_271_jpg.rf.9114b436a627f70f2a00a7b63081aff6.jpg: ignoring corrupt image/label: Label class 1581 exceeds dataset class count 1. Possible class labels are 0-0\n",
            "\u001b[34m\u001b[1mtrain: \u001b[0mWARNING ⚠️ /content/Scence-Text-Detection-4/train/images/dv_272_jpg.rf.8d5aee04f686f9791945bf5c907dee90.jpg: ignoring corrupt image/label: Label class 1638 exceeds dataset class count 1. Possible class labels are 0-0\n",
            "\u001b[34m\u001b[1mtrain: \u001b[0mWARNING ⚠️ /content/Scence-Text-Detection-4/train/images/dv_275_jpg.rf.4949aa6299a69dc3c4149134a1113b12.jpg: ignoring corrupt image/label: Label class 1107 exceeds dataset class count 1. Possible class labels are 0-0\n",
            "\u001b[34m\u001b[1mtrain: \u001b[0mWARNING ⚠️ /content/Scence-Text-Detection-4/train/images/dv_276_jpg.rf.f1ad31bcbe54704ef0ac21ede01b0090.jpg: ignoring corrupt image/label: Label class 452 exceeds dataset class count 1. Possible class labels are 0-0\n",
            "\u001b[34m\u001b[1mtrain: \u001b[0mWARNING ⚠️ /content/Scence-Text-Detection-4/train/images/dv_279_jpg.rf.c79f59da6c75a0c8d6aef5554a93bec8.jpg: ignoring corrupt image/label: Label class 1848 exceeds dataset class count 1. Possible class labels are 0-0\n",
            "\u001b[34m\u001b[1mtrain: \u001b[0mWARNING ⚠️ /content/Scence-Text-Detection-4/train/images/dv_280_jpg.rf.160b20668c753ce7ac821e0ecc400f63.jpg: ignoring corrupt image/label: Label class 1941 exceeds dataset class count 1. Possible class labels are 0-0\n",
            "\u001b[34m\u001b[1mtrain: \u001b[0mWARNING ⚠️ /content/Scence-Text-Detection-4/train/images/dv_281_jpg.rf.1a27983ba399626bef45383c84f86a23.jpg: ignoring corrupt image/label: Label class 1168 exceeds dataset class count 1. Possible class labels are 0-0\n",
            "\u001b[34m\u001b[1mtrain: \u001b[0mWARNING ⚠️ /content/Scence-Text-Detection-4/train/images/dv_282_jpg.rf.abc7698c21412f876d0f7f53a0fa16d4.jpg: ignoring corrupt image/label: Label class 300 exceeds dataset class count 1. Possible class labels are 0-0\n",
            "\u001b[34m\u001b[1mtrain: \u001b[0mWARNING ⚠️ /content/Scence-Text-Detection-4/train/images/dv_283_jpg.rf.229c9fbefebca4abb50db7d834025e03.jpg: ignoring corrupt image/label: Label class 607 exceeds dataset class count 1. Possible class labels are 0-0\n",
            "\u001b[34m\u001b[1mtrain: \u001b[0mWARNING ⚠️ /content/Scence-Text-Detection-4/train/images/dv_284_jpg.rf.b8ee4d60efef9b9fcf9a8d8a14d03544.jpg: ignoring corrupt image/label: Label class 1528 exceeds dataset class count 1. Possible class labels are 0-0\n",
            "\u001b[34m\u001b[1mtrain: \u001b[0mWARNING ⚠️ /content/Scence-Text-Detection-4/train/images/dv_287_jpg.rf.7f62d326db785369a8d6723c92a575ac.jpg: ignoring corrupt image/label: Label class 1887 exceeds dataset class count 1. Possible class labels are 0-0\n",
            "\u001b[34m\u001b[1mtrain: \u001b[0mWARNING ⚠️ /content/Scence-Text-Detection-4/train/images/dv_288_jpg.rf.e9cf2a0581eb6793a808091560d5aeae.jpg: ignoring corrupt image/label: Label class 844 exceeds dataset class count 1. Possible class labels are 0-0\n",
            "\u001b[34m\u001b[1mtrain: \u001b[0mWARNING ⚠️ /content/Scence-Text-Detection-4/train/images/dv_291_jpg.rf.deec0de9de2221f4b3abf936999cd871.jpg: ignoring corrupt image/label: Label class 3 exceeds dataset class count 1. Possible class labels are 0-0\n",
            "\u001b[34m\u001b[1mtrain: \u001b[0mWARNING ⚠️ /content/Scence-Text-Detection-4/train/images/dv_292_jpg.rf.33cba20aacee5fa3c18d952f25eede19.jpg: ignoring corrupt image/label: Label class 272 exceeds dataset class count 1. Possible class labels are 0-0\n",
            "\u001b[34m\u001b[1mtrain: \u001b[0mWARNING ⚠️ /content/Scence-Text-Detection-4/train/images/dv_293_jpg.rf.a3ec8aef69cca7344b89f54816936695.jpg: ignoring corrupt image/label: Label class 3 exceeds dataset class count 1. Possible class labels are 0-0\n",
            "\u001b[34m\u001b[1mtrain: \u001b[0mWARNING ⚠️ /content/Scence-Text-Detection-4/train/images/dv_294_jpg.rf.e23a067ab6f5cd13a2534da2e707feaf.jpg: ignoring corrupt image/label: Label class 1187 exceeds dataset class count 1. Possible class labels are 0-0\n",
            "\u001b[34m\u001b[1mtrain: \u001b[0mWARNING ⚠️ /content/Scence-Text-Detection-4/train/images/dv_300_jpg.rf.e43ed3097978c32ff81027d5effc7f66.jpg: ignoring corrupt image/label: Label class 167 exceeds dataset class count 1. Possible class labels are 0-0\n",
            "\u001b[34m\u001b[1mtrain: \u001b[0mWARNING ⚠️ /content/Scence-Text-Detection-4/train/images/dv_301_jpg.rf.7416675400fc2439448ecda33b6cda57.jpg: ignoring corrupt image/label: Label class 2 exceeds dataset class count 1. Possible class labels are 0-0\n",
            "\u001b[34m\u001b[1mtrain: \u001b[0mWARNING ⚠️ /content/Scence-Text-Detection-4/train/images/dv_303_jpg.rf.039825560e796f967b731e8f57a25bc9.jpg: ignoring corrupt image/label: Label class 866 exceeds dataset class count 1. Possible class labels are 0-0\n",
            "\u001b[34m\u001b[1mtrain: \u001b[0mWARNING ⚠️ /content/Scence-Text-Detection-4/train/images/dv_310_jpg.rf.06e0d1b59b86ef6ba4f51eeba6ef3d1a.jpg: ignoring corrupt image/label: Label class 2 exceeds dataset class count 1. Possible class labels are 0-0\n",
            "\u001b[34m\u001b[1mtrain: \u001b[0mWARNING ⚠️ /content/Scence-Text-Detection-4/train/images/dv_313_jpg.rf.f32d1cd1b96ca09775d0cc8160f979f1.jpg: ignoring corrupt image/label: Label class 1221 exceeds dataset class count 1. Possible class labels are 0-0\n",
            "\u001b[34m\u001b[1mtrain: \u001b[0mWARNING ⚠️ /content/Scence-Text-Detection-4/train/images/dv_314_jpg.rf.baab0ba5c31bf2ffc877a6915c64e2c4.jpg: ignoring corrupt image/label: Label class 1397 exceeds dataset class count 1. Possible class labels are 0-0\n",
            "\u001b[34m\u001b[1mtrain: \u001b[0mWARNING ⚠️ /content/Scence-Text-Detection-4/train/images/dv_315_jpg.rf.33c215718f5786a9ff0239f99435affe.jpg: ignoring corrupt image/label: Label class 1336 exceeds dataset class count 1. Possible class labels are 0-0\n",
            "\u001b[34m\u001b[1mtrain: \u001b[0mWARNING ⚠️ /content/Scence-Text-Detection-4/train/images/dv_316_jpg.rf.7746d9d99762e7fcc2c1ae94a49fd8f1.jpg: ignoring corrupt image/label: Label class 1123 exceeds dataset class count 1. Possible class labels are 0-0\n",
            "\u001b[34m\u001b[1mtrain: \u001b[0mWARNING ⚠️ /content/Scence-Text-Detection-4/train/images/dv_317_jpg.rf.9b6b8cb7aa237cfafa0423c3a165eef8.jpg: ignoring corrupt image/label: Label class 2047 exceeds dataset class count 1. Possible class labels are 0-0\n",
            "\u001b[34m\u001b[1mtrain: \u001b[0mWARNING ⚠️ /content/Scence-Text-Detection-4/train/images/dv_318_jpg.rf.e8b7f8e1aba2ae66e076a950d52b7348.jpg: ignoring corrupt image/label: Label class 2047 exceeds dataset class count 1. Possible class labels are 0-0\n",
            "\u001b[34m\u001b[1mtrain: \u001b[0mWARNING ⚠️ /content/Scence-Text-Detection-4/train/images/dv_320_jpg.rf.4ec4f94bfadd4019448c0c89c386074e.jpg: ignoring corrupt image/label: Label class 69 exceeds dataset class count 1. Possible class labels are 0-0\n",
            "\u001b[34m\u001b[1mtrain: \u001b[0mWARNING ⚠️ /content/Scence-Text-Detection-4/train/images/dv_321_jpg.rf.e162b16deb5ad3f56bd3de042ffd4fc4.jpg: ignoring corrupt image/label: Label class 2085 exceeds dataset class count 1. Possible class labels are 0-0\n",
            "\u001b[34m\u001b[1mtrain: \u001b[0mWARNING ⚠️ /content/Scence-Text-Detection-4/train/images/dv_322_jpg.rf.629249a1af8bd8537e6c12432ef2e814.jpg: ignoring corrupt image/label: Label class 739 exceeds dataset class count 1. Possible class labels are 0-0\n",
            "\u001b[34m\u001b[1mtrain: \u001b[0mWARNING ⚠️ /content/Scence-Text-Detection-4/train/images/dv_323_jpg.rf.6b9f06bbcf25f4dd1318603912bdd0e1.jpg: ignoring corrupt image/label: Label class 729 exceeds dataset class count 1. Possible class labels are 0-0\n",
            "\u001b[34m\u001b[1mtrain: \u001b[0mWARNING ⚠️ /content/Scence-Text-Detection-4/train/images/dv_325_jpg.rf.90e38c621471f7c1e881e066e63c7e47.jpg: ignoring corrupt image/label: Label class 634 exceeds dataset class count 1. Possible class labels are 0-0\n",
            "\u001b[34m\u001b[1mtrain: \u001b[0mWARNING ⚠️ /content/Scence-Text-Detection-4/train/images/dv_326_jpg.rf.64676efb4ca4ce7b264b2eb3d5af59e5.jpg: ignoring corrupt image/label: Label class 1808 exceeds dataset class count 1. Possible class labels are 0-0\n",
            "\u001b[34m\u001b[1mtrain: \u001b[0mWARNING ⚠️ /content/Scence-Text-Detection-4/train/images/dv_327_jpg.rf.9c5d33bd4bba719029b21978f1af45e5.jpg: ignoring corrupt image/label: Label class 2 exceeds dataset class count 1. Possible class labels are 0-0\n",
            "\u001b[34m\u001b[1mtrain: \u001b[0mWARNING ⚠️ /content/Scence-Text-Detection-4/train/images/dv_328_jpg.rf.c40fc01b6f2046d938ac4addc7470939.jpg: ignoring corrupt image/label: Label class 1705 exceeds dataset class count 1. Possible class labels are 0-0\n",
            "\u001b[34m\u001b[1mtrain: \u001b[0mWARNING ⚠️ /content/Scence-Text-Detection-4/train/images/dv_329_jpg.rf.89e3f95114a2ea6b962d18b83c381079.jpg: ignoring corrupt image/label: Label class 3 exceeds dataset class count 1. Possible class labels are 0-0\n",
            "\u001b[34m\u001b[1mtrain: \u001b[0mWARNING ⚠️ /content/Scence-Text-Detection-4/train/images/dv_330_jpg.rf.1b7c2b4cc819b963a36a52680507c9e9.jpg: ignoring corrupt image/label: Label class 4 exceeds dataset class count 1. Possible class labels are 0-0\n",
            "\u001b[34m\u001b[1mtrain: \u001b[0mWARNING ⚠️ /content/Scence-Text-Detection-4/train/images/dv_331_jpg.rf.f67fcd78e0195a1168f8d7754cecb8e1.jpg: ignoring corrupt image/label: Label class 1541 exceeds dataset class count 1. Possible class labels are 0-0\n",
            "\u001b[34m\u001b[1mtrain: \u001b[0mWARNING ⚠️ /content/Scence-Text-Detection-4/train/images/dv_333_jpg.rf.0a236262d564b29c2e28d32034105d0e.jpg: ignoring corrupt image/label: Label class 6 exceeds dataset class count 1. Possible class labels are 0-0\n",
            "\u001b[34m\u001b[1mtrain: \u001b[0mWARNING ⚠️ /content/Scence-Text-Detection-4/train/images/dv_336_jpg.rf.1965e1a0e61f2f26f61cd92dbbb7e9b3.jpg: ignoring corrupt image/label: Label class 2138 exceeds dataset class count 1. Possible class labels are 0-0\n",
            "\u001b[34m\u001b[1mtrain: \u001b[0mWARNING ⚠️ /content/Scence-Text-Detection-4/train/images/dv_338_jpg.rf.2f0be09322c71c1fe914c9c0ff9d3cf7.jpg: ignoring corrupt image/label: Label class 3 exceeds dataset class count 1. Possible class labels are 0-0\n",
            "\u001b[34m\u001b[1mtrain: \u001b[0mWARNING ⚠️ /content/Scence-Text-Detection-4/train/images/dv_339_jpg.rf.ed93f4b85c371da0687eb2111b86619c.jpg: ignoring corrupt image/label: Label class 1353 exceeds dataset class count 1. Possible class labels are 0-0\n",
            "\u001b[34m\u001b[1mtrain: \u001b[0mWARNING ⚠️ /content/Scence-Text-Detection-4/train/images/dv_340_jpg.rf.3515332d8188c356c08b63d1116e3742.jpg: ignoring corrupt image/label: Label class 1430 exceeds dataset class count 1. Possible class labels are 0-0\n",
            "\u001b[34m\u001b[1mtrain: \u001b[0mWARNING ⚠️ /content/Scence-Text-Detection-4/train/images/dv_341_jpg.rf.393a842417e6d213c6be850358b8ad25.jpg: ignoring corrupt image/label: Label class 3 exceeds dataset class count 1. Possible class labels are 0-0\n",
            "\u001b[34m\u001b[1mtrain: \u001b[0mWARNING ⚠️ /content/Scence-Text-Detection-4/train/images/dv_342_jpg.rf.1ff00c38de64264fba064b1c91afdc86.jpg: ignoring corrupt image/label: Label class 4 exceeds dataset class count 1. Possible class labels are 0-0\n",
            "\u001b[34m\u001b[1mtrain: \u001b[0mWARNING ⚠️ /content/Scence-Text-Detection-4/train/images/dv_343_jpg.rf.31bde22c16f5bc544c2c058e6dbcd0fd.jpg: ignoring corrupt image/label: Label class 3 exceeds dataset class count 1. Possible class labels are 0-0\n",
            "\u001b[34m\u001b[1mtrain: \u001b[0mWARNING ⚠️ /content/Scence-Text-Detection-4/train/images/dv_344_jpg.rf.8f6519bf40e7cfd52558db6f1aa0ac95.jpg: ignoring corrupt image/label: Label class 2 exceeds dataset class count 1. Possible class labels are 0-0\n",
            "\u001b[34m\u001b[1mtrain: \u001b[0mWARNING ⚠️ /content/Scence-Text-Detection-4/train/images/dv_345_jpg.rf.f2418458d596f8053693035a96d78086.jpg: ignoring corrupt image/label: Label class 560 exceeds dataset class count 1. Possible class labels are 0-0\n",
            "\u001b[34m\u001b[1mtrain: \u001b[0mWARNING ⚠️ /content/Scence-Text-Detection-4/train/images/dv_346_jpg.rf.e8e5faf15090d50565643e5e1e22f15d.jpg: ignoring corrupt image/label: Label class 1144 exceeds dataset class count 1. Possible class labels are 0-0\n",
            "\u001b[34m\u001b[1mtrain: \u001b[0mWARNING ⚠️ /content/Scence-Text-Detection-4/train/images/dv_347_jpg.rf.d34e4a94c76b94373625374136715c49.jpg: ignoring corrupt image/label: Label class 1082 exceeds dataset class count 1. Possible class labels are 0-0\n",
            "\u001b[34m\u001b[1mtrain: \u001b[0mWARNING ⚠️ /content/Scence-Text-Detection-4/train/images/dv_349_jpg.rf.b5b0aaca782521e42b095b2841103093.jpg: ignoring corrupt image/label: Label class 1006 exceeds dataset class count 1. Possible class labels are 0-0\n",
            "\u001b[34m\u001b[1mtrain: \u001b[0mWARNING ⚠️ /content/Scence-Text-Detection-4/train/images/dv_350_jpg.rf.9f1147c297a98710867bd46ba053d152.jpg: ignoring corrupt image/label: Label class 1214 exceeds dataset class count 1. Possible class labels are 0-0\n",
            "\u001b[34m\u001b[1mtrain: \u001b[0mWARNING ⚠️ /content/Scence-Text-Detection-4/train/images/dv_352_PNG.rf.b18af62dd3b8b38453f93e066e4f8c2b.jpg: ignoring corrupt image/label: Label class 245 exceeds dataset class count 1. Possible class labels are 0-0\n",
            "\u001b[34m\u001b[1mtrain: \u001b[0mWARNING ⚠️ /content/Scence-Text-Detection-4/train/images/dv_353_PNG.rf.bb52c6515615b57cb88ebc66332b4c15.jpg: ignoring corrupt image/label: Label class 1365 exceeds dataset class count 1. Possible class labels are 0-0\n",
            "\u001b[34m\u001b[1mtrain: \u001b[0mWARNING ⚠️ /content/Scence-Text-Detection-4/train/images/dv_355_PNG.rf.a2c70b837fb0424cd3584cbd7d323011.jpg: ignoring corrupt image/label: Label class 2102 exceeds dataset class count 1. Possible class labels are 0-0\n",
            "\u001b[34m\u001b[1mtrain: \u001b[0mWARNING ⚠️ /content/Scence-Text-Detection-4/train/images/dv_356_PNG.rf.7f11b1f38dfe4305ed937a0598394385.jpg: ignoring corrupt image/label: Label class 1660 exceeds dataset class count 1. Possible class labels are 0-0\n",
            "\u001b[34m\u001b[1mtrain: \u001b[0mWARNING ⚠️ /content/Scence-Text-Detection-4/train/images/dv_357_PNG.rf.97d838eedf4d601ac87eb76fb59b7008.jpg: ignoring corrupt image/label: Label class 2 exceeds dataset class count 1. Possible class labels are 0-0\n",
            "\u001b[34m\u001b[1mtrain: \u001b[0mWARNING ⚠️ /content/Scence-Text-Detection-4/train/images/dv_360_PNG.rf.589f614381acd358ea718afa2f87280c.jpg: ignoring corrupt image/label: Label class 914 exceeds dataset class count 1. Possible class labels are 0-0\n",
            "\u001b[34m\u001b[1mtrain: \u001b[0mWARNING ⚠️ /content/Scence-Text-Detection-4/train/images/dv_361_PNG.rf.416ddc67d846ef3b7665ce274f7ff04a.jpg: ignoring corrupt image/label: Label class 1283 exceeds dataset class count 1. Possible class labels are 0-0\n",
            "\u001b[34m\u001b[1mtrain: \u001b[0mWARNING ⚠️ /content/Scence-Text-Detection-4/train/images/dv_362_jpg.rf.d88503fba37040b46263c2cc04c5444b.jpg: ignoring corrupt image/label: Label class 3 exceeds dataset class count 1. Possible class labels are 0-0\n",
            "\u001b[34m\u001b[1mtrain: \u001b[0mWARNING ⚠️ /content/Scence-Text-Detection-4/train/images/dv_363_jpg.rf.2c13a90be6cb9fb0f52a5e36436d5220.jpg: ignoring corrupt image/label: Label class 2 exceeds dataset class count 1. Possible class labels are 0-0\n",
            "\u001b[34m\u001b[1mtrain: \u001b[0mWARNING ⚠️ /content/Scence-Text-Detection-4/train/images/dv_365_jpg.rf.1959839cfb5bf776b36a7566ba5c4363.jpg: ignoring corrupt image/label: Label class 3 exceeds dataset class count 1. Possible class labels are 0-0\n",
            "\u001b[34m\u001b[1mtrain: \u001b[0mWARNING ⚠️ /content/Scence-Text-Detection-4/train/images/dv_373_jpg.rf.79bd0b12671096b14a0c7d1264d09811.jpg: ignoring corrupt image/label: Label class 3 exceeds dataset class count 1. Possible class labels are 0-0\n",
            "\u001b[34m\u001b[1mtrain: \u001b[0mWARNING ⚠️ /content/Scence-Text-Detection-4/train/images/dv_376_jpg.rf.c249e6e5d50149db6b482c3c7def0d97.jpg: ignoring corrupt image/label: Label class 3 exceeds dataset class count 1. Possible class labels are 0-0\n",
            "\u001b[34m\u001b[1mtrain: \u001b[0mWARNING ⚠️ /content/Scence-Text-Detection-4/train/images/dv_377_jpg.rf.080050cea0efd7bea1bd0926f9266870.jpg: ignoring corrupt image/label: Label class 2 exceeds dataset class count 1. Possible class labels are 0-0\n",
            "\u001b[34m\u001b[1mtrain: \u001b[0mWARNING ⚠️ /content/Scence-Text-Detection-4/train/images/dv_382_jpg.rf.3be08825a37d0ceb7cf8765304eaf534.jpg: ignoring corrupt image/label: Label class 860 exceeds dataset class count 1. Possible class labels are 0-0\n",
            "\u001b[34m\u001b[1mtrain: \u001b[0mWARNING ⚠️ /content/Scence-Text-Detection-4/train/images/dv_384_jpg.rf.45a53bddf99f7016ea790462410394a8.jpg: ignoring corrupt image/label: Label class 1982 exceeds dataset class count 1. Possible class labels are 0-0\n",
            "\u001b[34m\u001b[1mtrain: \u001b[0mWARNING ⚠️ /content/Scence-Text-Detection-4/train/images/dv_387_jpg.rf.7c1974802ec4f0578a8046a18a9c7f15.jpg: ignoring corrupt image/label: Label class 2178 exceeds dataset class count 1. Possible class labels are 0-0\n",
            "\u001b[34m\u001b[1mtrain: \u001b[0mWARNING ⚠️ /content/Scence-Text-Detection-4/train/images/dv_388_jpg.rf.c5bcb4fd279f99c35a5fb9836b39d570.jpg: ignoring corrupt image/label: Label class 3 exceeds dataset class count 1. Possible class labels are 0-0\n",
            "\u001b[34m\u001b[1mtrain: \u001b[0mWARNING ⚠️ /content/Scence-Text-Detection-4/train/images/dv_390_jpg.rf.6ffa87263d5f9d1ab8b02027294c6807.jpg: ignoring corrupt image/label: Label class 2181 exceeds dataset class count 1. Possible class labels are 0-0\n",
            "\u001b[34m\u001b[1mtrain: \u001b[0mWARNING ⚠️ /content/Scence-Text-Detection-4/train/images/dv_392_jpg.rf.0398d72b39a8841c4674931a037e4fc7.jpg: ignoring corrupt image/label: Label class 18 exceeds dataset class count 1. Possible class labels are 0-0\n",
            "\u001b[34m\u001b[1mtrain: \u001b[0mWARNING ⚠️ /content/Scence-Text-Detection-4/train/images/dv_396_jpg.rf.6885b2da7eef424e4b1517312355628f.jpg: ignoring corrupt image/label: Label class 1063 exceeds dataset class count 1. Possible class labels are 0-0\n",
            "\u001b[34m\u001b[1mtrain: \u001b[0mWARNING ⚠️ /content/Scence-Text-Detection-4/train/images/dv_402_jpg.rf.00ffc44dbd82ba744d4f966d80779e9f.jpg: ignoring corrupt image/label: Label class 188 exceeds dataset class count 1. Possible class labels are 0-0\n",
            "\u001b[34m\u001b[1mtrain: \u001b[0mWARNING ⚠️ /content/Scence-Text-Detection-4/train/images/dv_404_jpg.rf.5240f5a47c49f3c617722231e89c0ff0.jpg: ignoring corrupt image/label: Label class 2 exceeds dataset class count 1. Possible class labels are 0-0\n",
            "\u001b[34m\u001b[1mtrain: \u001b[0mWARNING ⚠️ /content/Scence-Text-Detection-4/train/images/dv_407_jpg.rf.a56e814836e8cf3585ab09989c0850dc.jpg: ignoring corrupt image/label: Label class 366 exceeds dataset class count 1. Possible class labels are 0-0\n",
            "\u001b[34m\u001b[1mtrain: \u001b[0mWARNING ⚠️ /content/Scence-Text-Detection-4/train/images/dv_412_jpg.rf.bfb3a4208f02948751b07311528ab75b.jpg: ignoring corrupt image/label: Label class 1789 exceeds dataset class count 1. Possible class labels are 0-0\n",
            "\u001b[34m\u001b[1mtrain: \u001b[0mWARNING ⚠️ /content/Scence-Text-Detection-4/train/images/dv_413_jpg.rf.175accc7ea71d35c89981f1c00fedc9c.jpg: ignoring corrupt image/label: Label class 1151 exceeds dataset class count 1. Possible class labels are 0-0\n",
            "\u001b[34m\u001b[1mtrain: \u001b[0mWARNING ⚠️ /content/Scence-Text-Detection-4/train/images/dv_414_jpg.rf.a7f1a4cddfff8fbd77b90f93cd5ae5bc.jpg: ignoring corrupt image/label: Label class 2102 exceeds dataset class count 1. Possible class labels are 0-0\n",
            "\u001b[34m\u001b[1mtrain: \u001b[0mWARNING ⚠️ /content/Scence-Text-Detection-4/train/images/dv_415_jpg.rf.a980df9cb52f490bbd2a2abcc27285e4.jpg: ignoring corrupt image/label: Label class 4 exceeds dataset class count 1. Possible class labels are 0-0\n",
            "\u001b[34m\u001b[1mtrain: \u001b[0mWARNING ⚠️ /content/Scence-Text-Detection-4/train/images/dv_417_jpg.rf.e628b8835dea96315362911d2a4f4a79.jpg: ignoring corrupt image/label: Label class 860 exceeds dataset class count 1. Possible class labels are 0-0\n",
            "\u001b[34m\u001b[1mtrain: \u001b[0mWARNING ⚠️ /content/Scence-Text-Detection-4/train/images/dv_418_jpg.rf.855d9b24ac875eab5013d002fb809802.jpg: ignoring corrupt image/label: Label class 2 exceeds dataset class count 1. Possible class labels are 0-0\n",
            "\u001b[34m\u001b[1mtrain: \u001b[0mWARNING ⚠️ /content/Scence-Text-Detection-4/train/images/dv_420_jpg.rf.e384dcaa0e364a1185fdc296b1780cce.jpg: ignoring corrupt image/label: Label class 493 exceeds dataset class count 1. Possible class labels are 0-0\n",
            "\u001b[34m\u001b[1mtrain: \u001b[0mWARNING ⚠️ /content/Scence-Text-Detection-4/train/images/dv_421_jpg.rf.62b516f8f721d3a4788b99ddd7acbaf4.jpg: ignoring corrupt image/label: Label class 2 exceeds dataset class count 1. Possible class labels are 0-0\n",
            "\u001b[34m\u001b[1mtrain: \u001b[0mWARNING ⚠️ /content/Scence-Text-Detection-4/train/images/dv_425_jpg.rf.00d670f0638cddfc805b293b02d55431.jpg: ignoring corrupt image/label: Label class 767 exceeds dataset class count 1. Possible class labels are 0-0\n",
            "\u001b[34m\u001b[1mtrain: \u001b[0mWARNING ⚠️ /content/Scence-Text-Detection-4/train/images/dv_427_jpg.rf.bf585432d68d26806eed3862abd27a5b.jpg: ignoring corrupt image/label: Label class 1483 exceeds dataset class count 1. Possible class labels are 0-0\n",
            "\u001b[34m\u001b[1mtrain: \u001b[0mWARNING ⚠️ /content/Scence-Text-Detection-4/train/images/dv_431_jpg.rf.10ff9dd835f425ef35f7fec77d565e12.jpg: ignoring corrupt image/label: Label class 2 exceeds dataset class count 1. Possible class labels are 0-0\n",
            "\u001b[34m\u001b[1mtrain: \u001b[0mWARNING ⚠️ /content/Scence-Text-Detection-4/train/images/dv_436_jpg.rf.6cc6826376b7367f5d7d8248d6018467.jpg: ignoring corrupt image/label: Label class 3 exceeds dataset class count 1. Possible class labels are 0-0\n",
            "\u001b[34m\u001b[1mtrain: \u001b[0mWARNING ⚠️ /content/Scence-Text-Detection-4/train/images/dv_437_jpg.rf.1df2a45cf4e86bcda0580a2d6b4229ae.jpg: ignoring corrupt image/label: Label class 2 exceeds dataset class count 1. Possible class labels are 0-0\n",
            "\u001b[34m\u001b[1mtrain: \u001b[0mWARNING ⚠️ /content/Scence-Text-Detection-4/train/images/dv_439_jpg.rf.bf5e3bef92b64ea5f6d324f238acd2e6.jpg: ignoring corrupt image/label: Label class 2 exceeds dataset class count 1. Possible class labels are 0-0\n",
            "\u001b[34m\u001b[1mtrain: \u001b[0mWARNING ⚠️ /content/Scence-Text-Detection-4/train/images/dv_441_jpg.rf.5466a5da30319f01d76288a650f24766.jpg: ignoring corrupt image/label: Label class 2 exceeds dataset class count 1. Possible class labels are 0-0\n",
            "\u001b[34m\u001b[1mtrain: \u001b[0mWARNING ⚠️ /content/Scence-Text-Detection-4/train/images/dv_443_jpg.rf.19bf548b6df3c1f0b081d6637ffeeefd.jpg: ignoring corrupt image/label: Label class 3 exceeds dataset class count 1. Possible class labels are 0-0\n",
            "\u001b[34m\u001b[1mtrain: \u001b[0mWARNING ⚠️ /content/Scence-Text-Detection-4/train/images/dv_445_jpg.rf.46f18d9289397b8f5f19dfe8f62ee81d.jpg: ignoring corrupt image/label: Label class 3 exceeds dataset class count 1. Possible class labels are 0-0\n",
            "\u001b[34m\u001b[1mtrain: \u001b[0mWARNING ⚠️ /content/Scence-Text-Detection-4/train/images/dv_446_jpg.rf.6ed7933f4c132434ff3c2bad1749e89c.jpg: ignoring corrupt image/label: Label class 9 exceeds dataset class count 1. Possible class labels are 0-0\n",
            "\u001b[34m\u001b[1mtrain: \u001b[0mWARNING ⚠️ /content/Scence-Text-Detection-4/train/images/dv_448_jpg.rf.27a9b9bf31d478613b45b579fa09eaa3.jpg: ignoring corrupt image/label: Label class 1362 exceeds dataset class count 1. Possible class labels are 0-0\n",
            "\u001b[34m\u001b[1mtrain: \u001b[0mWARNING ⚠️ /content/Scence-Text-Detection-4/train/images/dv_457_jpg.rf.4c6bb88b55321ddc7a87da68a55e790d.jpg: ignoring corrupt image/label: Label class 3 exceeds dataset class count 1. Possible class labels are 0-0\n",
            "\u001b[34m\u001b[1mtrain: \u001b[0mWARNING ⚠️ /content/Scence-Text-Detection-4/train/images/dv_460_jpg.rf.ae2c1691fde1d51eb3a3f52f01a9aa45.jpg: ignoring corrupt image/label: Label class 163 exceeds dataset class count 1. Possible class labels are 0-0\n",
            "\u001b[34m\u001b[1mtrain: \u001b[0mWARNING ⚠️ /content/Scence-Text-Detection-4/train/images/dv_461_jpg.rf.00df6d19c031eae86af6fdd453bd83d3.jpg: ignoring corrupt image/label: Label class 163 exceeds dataset class count 1. Possible class labels are 0-0\n",
            "\u001b[34m\u001b[1mtrain: \u001b[0mWARNING ⚠️ /content/Scence-Text-Detection-4/train/images/dv_463_jpg.rf.5ed39ef9af1cdee4f96d89e5fde7c805.jpg: ignoring corrupt image/label: Label class 163 exceeds dataset class count 1. Possible class labels are 0-0\n",
            "\u001b[34m\u001b[1mtrain: \u001b[0mWARNING ⚠️ /content/Scence-Text-Detection-4/train/images/dv_464_jpg.rf.a21dcc70a3a92d0151e464ca3e4bb94c.jpg: ignoring corrupt image/label: Label class 3 exceeds dataset class count 1. Possible class labels are 0-0\n",
            "\u001b[34m\u001b[1mtrain: \u001b[0mWARNING ⚠️ /content/Scence-Text-Detection-4/train/images/dv_471_jpg.rf.62c1cf898e632dc447fda4731a68bbe4.jpg: ignoring corrupt image/label: Label class 2115 exceeds dataset class count 1. Possible class labels are 0-0\n",
            "\u001b[34m\u001b[1mtrain: \u001b[0mWARNING ⚠️ /content/Scence-Text-Detection-4/train/images/dv_473_jpg.rf.cbf1a6831daf883be4ddcb7d2d2743dd.jpg: ignoring corrupt image/label: Label class 1904 exceeds dataset class count 1. Possible class labels are 0-0\n",
            "\u001b[34m\u001b[1mtrain: \u001b[0mWARNING ⚠️ /content/Scence-Text-Detection-4/train/images/dv_475_jpg.rf.cc7c5f42062fe6a554e3a529e8b85b0b.jpg: ignoring corrupt image/label: Label class 1851 exceeds dataset class count 1. Possible class labels are 0-0\n",
            "\u001b[34m\u001b[1mtrain: \u001b[0mWARNING ⚠️ /content/Scence-Text-Detection-4/train/images/dv_477_jpg.rf.e5d438c85ae04434eb343580249b3541.jpg: ignoring corrupt image/label: Label class 255 exceeds dataset class count 1. Possible class labels are 0-0\n",
            "\u001b[34m\u001b[1mtrain: \u001b[0mWARNING ⚠️ /content/Scence-Text-Detection-4/train/images/dv_480_jpg.rf.068f4d7d876cbcb3aa519ba824eabd80.jpg: ignoring corrupt image/label: Label class 4 exceeds dataset class count 1. Possible class labels are 0-0\n",
            "\u001b[34m\u001b[1mtrain: \u001b[0mWARNING ⚠️ /content/Scence-Text-Detection-4/train/images/dv_482_jpg.rf.a5fd05c88b098d7a6fce83657f33cc3a.jpg: ignoring corrupt image/label: Label class 3 exceeds dataset class count 1. Possible class labels are 0-0\n",
            "\u001b[34m\u001b[1mtrain: \u001b[0mWARNING ⚠️ /content/Scence-Text-Detection-4/train/images/dv_486_jpg.rf.47807f3c2d54e94f0ef575b69a47c3b1.jpg: ignoring corrupt image/label: Label class 2 exceeds dataset class count 1. Possible class labels are 0-0\n",
            "\u001b[34m\u001b[1mtrain: \u001b[0mWARNING ⚠️ /content/Scence-Text-Detection-4/train/images/dv_488_jpg.rf.794deae4223040e9f14803cf9e7e47cd.jpg: ignoring corrupt image/label: Label class 3 exceeds dataset class count 1. Possible class labels are 0-0\n",
            "\u001b[34m\u001b[1mtrain: \u001b[0mWARNING ⚠️ /content/Scence-Text-Detection-4/train/images/dv_491_jpg.rf.f4bd05ed07ec3f544cacb13711bf959a.jpg: ignoring corrupt image/label: Label class 2 exceeds dataset class count 1. Possible class labels are 0-0\n",
            "\u001b[34m\u001b[1mtrain: \u001b[0mWARNING ⚠️ /content/Scence-Text-Detection-4/train/images/f10_kl_g3_11_jpg.rf.4d88ac1f0057e094f5b23b0d2770b313.jpg: ignoring corrupt image/label: Label class 1097 exceeds dataset class count 1. Possible class labels are 0-0\n",
            "\u001b[34m\u001b[1mtrain: \u001b[0mWARNING ⚠️ /content/Scence-Text-Detection-4/train/images/f10_kl_g3_13_jpg.rf.674b65b42f758313ad69f8f17aa26b57.jpg: ignoring corrupt image/label: Label class 178 exceeds dataset class count 1. Possible class labels are 0-0\n",
            "\u001b[34m\u001b[1mtrain: \u001b[0mWARNING ⚠️ /content/Scence-Text-Detection-4/train/images/f10_kl_g3_15_jpg.rf.d4cee215f75a69df541fa6ba5244e231.jpg: ignoring corrupt image/label: Label class 2161 exceeds dataset class count 1. Possible class labels are 0-0\n",
            "\u001b[34m\u001b[1mtrain: \u001b[0mWARNING ⚠️ /content/Scence-Text-Detection-4/train/images/f10_kl_g3_17_jpg.rf.06e35cafae2a54eefa34bf39388a8aed.jpg: ignoring corrupt image/label: Label class 1810 exceeds dataset class count 1. Possible class labels are 0-0\n",
            "\u001b[34m\u001b[1mtrain: \u001b[0mWARNING ⚠️ /content/Scence-Text-Detection-4/train/images/f10_kl_g3_18_jpg.rf.9aed2e525717b7fc7fa1f4dad17bdc0d.jpg: ignoring corrupt image/label: Label class 915 exceeds dataset class count 1. Possible class labels are 0-0\n",
            "\u001b[34m\u001b[1mtrain: \u001b[0mWARNING ⚠️ /content/Scence-Text-Detection-4/train/images/f10_kl_g3_19_jpg.rf.04161eb949189baa1af1f70995d76d1b.jpg: ignoring corrupt image/label: Label class 1999 exceeds dataset class count 1. Possible class labels are 0-0\n",
            "\u001b[34m\u001b[1mtrain: \u001b[0mWARNING ⚠️ /content/Scence-Text-Detection-4/train/images/f10_kl_g3_1_jpg.rf.3293a6e53fe82c08b5757c549a88f321.jpg: ignoring corrupt image/label: Label class 366 exceeds dataset class count 1. Possible class labels are 0-0\n",
            "\u001b[34m\u001b[1mtrain: \u001b[0mWARNING ⚠️ /content/Scence-Text-Detection-4/train/images/f10_kl_g3_2_jpg.rf.f5bbeca2f030bef88d90dee4d786b5c9.jpg: ignoring corrupt image/label: Label class 2 exceeds dataset class count 1. Possible class labels are 0-0\n",
            "\u001b[34m\u001b[1mtrain: \u001b[0mWARNING ⚠️ /content/Scence-Text-Detection-4/train/images/f10_kl_g3_4_jpg.rf.0e457fbcb42363c2f7439e99b9f98844.jpg: ignoring corrupt image/label: Label class 1384 exceeds dataset class count 1. Possible class labels are 0-0\n",
            "\u001b[34m\u001b[1mtrain: \u001b[0mWARNING ⚠️ /content/Scence-Text-Detection-4/train/images/f10_kl_g3_9_jpg.rf.50e36309b9f5d62b79402c05b604c2e6.jpg: ignoring corrupt image/label: Label class 788 exceeds dataset class count 1. Possible class labels are 0-0\n",
            "\u001b[34m\u001b[1mtrain: \u001b[0mWARNING ⚠️ /content/Scence-Text-Detection-4/train/images/f10_kn_g3_12_jpg.rf.57a89f8cc3944ad3d5c6808e2670a8c3.jpg: ignoring corrupt image/label: Label class 2 exceeds dataset class count 1. Possible class labels are 0-0\n",
            "\u001b[34m\u001b[1mtrain: \u001b[0mWARNING ⚠️ /content/Scence-Text-Detection-4/train/images/f10_kn_g3_13_jpg.rf.052c8eeec87e27cac72b5bf4721a6c71.jpg: ignoring corrupt image/label: Label class 1585 exceeds dataset class count 1. Possible class labels are 0-0\n",
            "\u001b[34m\u001b[1mtrain: \u001b[0mWARNING ⚠️ /content/Scence-Text-Detection-4/train/images/f10_kn_g3_18_jpg.rf.6e70de234045aea6ea9d36849074b466.jpg: ignoring corrupt image/label: Label class 2 exceeds dataset class count 1. Possible class labels are 0-0\n",
            "\u001b[34m\u001b[1mtrain: \u001b[0mWARNING ⚠️ /content/Scence-Text-Detection-4/train/images/f10_sk_g3_20_jpg.rf.092bac699d78e0e4a27df7b02d687b8f.jpg: ignoring corrupt image/label: Label class 917 exceeds dataset class count 1. Possible class labels are 0-0\n",
            "\u001b[34m\u001b[1mtrain: \u001b[0mWARNING ⚠️ /content/Scence-Text-Detection-4/train/images/f10_sk_g3_9_jpg.rf.7284b0f7140f6a7187c00f1a95c0e643.jpg: ignoring corrupt image/label: Label class 1562 exceeds dataset class count 1. Possible class labels are 0-0\n",
            "\u001b[34m\u001b[1mtrain: \u001b[0mWARNING ⚠️ /content/Scence-Text-Detection-4/train/images/f11_kl_g3_10_jpg.rf.c82ff0ef8852b13635c86f57770d3f21.jpg: ignoring corrupt image/label: Label class 984 exceeds dataset class count 1. Possible class labels are 0-0\n",
            "\u001b[34m\u001b[1mtrain: \u001b[0mWARNING ⚠️ /content/Scence-Text-Detection-4/train/images/f11_kl_g3_13_jpg.rf.203c10a6680fc9de4661e993455b0026.jpg: ignoring corrupt image/label: Label class 3 exceeds dataset class count 1. Possible class labels are 0-0\n",
            "\u001b[34m\u001b[1mtrain: \u001b[0mWARNING ⚠️ /content/Scence-Text-Detection-4/train/images/f11_kl_g3_14_jpg.rf.f1969f5b326a0cb3ecd98318bfa388ea.jpg: ignoring corrupt image/label: Label class 763 exceeds dataset class count 1. Possible class labels are 0-0\n",
            "\u001b[34m\u001b[1mtrain: \u001b[0mWARNING ⚠️ /content/Scence-Text-Detection-4/train/images/f11_kl_g3_16_jpg.rf.f3dcf15af7861332c433cd0ddec91730.jpg: ignoring corrupt image/label: Label class 2 exceeds dataset class count 1. Possible class labels are 0-0\n",
            "\u001b[34m\u001b[1mtrain: \u001b[0mWARNING ⚠️ /content/Scence-Text-Detection-4/train/images/f11_kl_g3_1_jpg.rf.5ca5c9c6c3a0ff787a14d364a00936ca.jpg: ignoring corrupt image/label: Label class 2 exceeds dataset class count 1. Possible class labels are 0-0\n",
            "\u001b[34m\u001b[1mtrain: \u001b[0mWARNING ⚠️ /content/Scence-Text-Detection-4/train/images/f11_kl_g3_6_jpg.rf.750e78b2d2e26c3d96066881eaa9ec15.jpg: ignoring corrupt image/label: Label class 1888 exceeds dataset class count 1. Possible class labels are 0-0\n",
            "\u001b[34m\u001b[1mtrain: \u001b[0mWARNING ⚠️ /content/Scence-Text-Detection-4/train/images/f11_kn_g3_18_jpg.rf.5e20d5e7a5034dbc38f65724048d2041.jpg: ignoring corrupt image/label: Label class 2 exceeds dataset class count 1. Possible class labels are 0-0\n",
            "\u001b[34m\u001b[1mtrain: \u001b[0mWARNING ⚠️ /content/Scence-Text-Detection-4/train/images/f11_sk_g3_16_jpg.rf.0c1caa5ffac87ae05e0ea93e2cf46c71.jpg: ignoring corrupt image/label: Label class 265 exceeds dataset class count 1. Possible class labels are 0-0\n",
            "\u001b[34m\u001b[1mtrain: \u001b[0mWARNING ⚠️ /content/Scence-Text-Detection-4/train/images/f11_sr_g3_11_jpeg.rf.ef462229f22aaac4fde66d46d04d0160.jpg: ignoring corrupt image/label: Label class 1928 exceeds dataset class count 1. Possible class labels are 0-0\n",
            "\u001b[34m\u001b[1mtrain: \u001b[0mWARNING ⚠️ /content/Scence-Text-Detection-4/train/images/f11_sr_g3_13_jpeg.rf.337d25da23b0fc5910ebf84f15bb6d38.jpg: ignoring corrupt image/label: Label class 2 exceeds dataset class count 1. Possible class labels are 0-0\n",
            "\u001b[34m\u001b[1mtrain: \u001b[0mWARNING ⚠️ /content/Scence-Text-Detection-4/train/images/f11_sr_g3_19_jpeg.rf.366293cc62d153ffdd755d8183acf8af.jpg: ignoring corrupt image/label: Label class 2 exceeds dataset class count 1. Possible class labels are 0-0\n",
            "\u001b[34m\u001b[1mtrain: \u001b[0mWARNING ⚠️ /content/Scence-Text-Detection-4/train/images/f12_kl_g3_10_jpg.rf.3f97f1bcd405754d83728bbff723c108.jpg: ignoring corrupt image/label: Label class 686 exceeds dataset class count 1. Possible class labels are 0-0\n",
            "\u001b[34m\u001b[1mtrain: \u001b[0mWARNING ⚠️ /content/Scence-Text-Detection-4/train/images/f12_kl_g3_13_jpg.rf.ac98130f0234da84b769269fdf9247c7.jpg: ignoring corrupt image/label: Label class 1876 exceeds dataset class count 1. Possible class labels are 0-0\n",
            "\u001b[34m\u001b[1mtrain: \u001b[0mWARNING ⚠️ /content/Scence-Text-Detection-4/train/images/f12_kl_g3_14_jpg.rf.f43fc3d514296bfdf0353d2fb3bc278c.jpg: ignoring corrupt image/label: Label class 1928 exceeds dataset class count 1. Possible class labels are 0-0\n",
            "\u001b[34m\u001b[1mtrain: \u001b[0mWARNING ⚠️ /content/Scence-Text-Detection-4/train/images/f12_kl_g3_17_jpg.rf.49cafaa1abc3c86bc96ebd0f5d03f344.jpg: ignoring corrupt image/label: Label class 1876 exceeds dataset class count 1. Possible class labels are 0-0\n",
            "\u001b[34m\u001b[1mtrain: \u001b[0mWARNING ⚠️ /content/Scence-Text-Detection-4/train/images/f12_kl_g3_1_jpg.rf.15319697ccb2d9ac83d3ec1943af4ed5.jpg: ignoring corrupt image/label: Label class 1880 exceeds dataset class count 1. Possible class labels are 0-0\n",
            "\u001b[34m\u001b[1mtrain: \u001b[0mWARNING ⚠️ /content/Scence-Text-Detection-4/train/images/f12_kl_g3_2_jpg.rf.361ab2860e9cedfa8c09980d862c4d32.jpg: ignoring corrupt image/label: Label class 2 exceeds dataset class count 1. Possible class labels are 0-0\n",
            "\u001b[34m\u001b[1mtrain: \u001b[0mWARNING ⚠️ /content/Scence-Text-Detection-4/train/images/f12_kl_g3_9_jpg.rf.2ef4a90f9ffaa0cad28001efe9c65cc3.jpg: ignoring corrupt image/label: Label class 289 exceeds dataset class count 1. Possible class labels are 0-0\n",
            "\u001b[34m\u001b[1mtrain: \u001b[0mWARNING ⚠️ /content/Scence-Text-Detection-4/train/images/f12_kn_g3_19_jpg.rf.023b05e5267f078acd2b2e97e274aaed.jpg: ignoring corrupt image/label: Label class 848 exceeds dataset class count 1. Possible class labels are 0-0\n",
            "\u001b[34m\u001b[1mtrain: \u001b[0mWARNING ⚠️ /content/Scence-Text-Detection-4/train/images/f12_kn_g3_6_jpg.rf.0703b55760aed6d0410b8db6c6bf73a6.jpg: ignoring corrupt image/label: Label class 2 exceeds dataset class count 1. Possible class labels are 0-0\n",
            "\u001b[34m\u001b[1mtrain: \u001b[0mWARNING ⚠️ /content/Scence-Text-Detection-4/train/images/f12_kn_g3_7_jpg.rf.a60864d308a13e6d329934ea21918d21.jpg: ignoring corrupt image/label: Label class 416 exceeds dataset class count 1. Possible class labels are 0-0\n",
            "\u001b[34m\u001b[1mtrain: \u001b[0mWARNING ⚠️ /content/Scence-Text-Detection-4/train/images/f12_sr_g3_10_jpeg.rf.ad488b88ae2e30f1316a116cb6a7a43f.jpg: ignoring corrupt image/label: Label class 2045 exceeds dataset class count 1. Possible class labels are 0-0\n",
            "\u001b[34m\u001b[1mtrain: \u001b[0mWARNING ⚠️ /content/Scence-Text-Detection-4/train/images/f12_sr_g3_14_jpeg.rf.193d6888456cdde3e7aaacfbfd3ddbb2.jpg: ignoring corrupt image/label: Label class 446 exceeds dataset class count 1. Possible class labels are 0-0\n",
            "\u001b[34m\u001b[1mtrain: \u001b[0mWARNING ⚠️ /content/Scence-Text-Detection-4/train/images/f12_sr_g3_17_jpeg.rf.86dbc2778eaead52847a516b4964f0ee.jpg: ignoring corrupt image/label: Label class 1745 exceeds dataset class count 1. Possible class labels are 0-0\n",
            "\u001b[34m\u001b[1mtrain: \u001b[0mWARNING ⚠️ /content/Scence-Text-Detection-4/train/images/f12_sr_g3_18_jpeg.rf.1f1a9e7684a57a94823d9620d5baab61.jpg: ignoring corrupt image/label: Label class 1945 exceeds dataset class count 1. Possible class labels are 0-0\n",
            "\u001b[34m\u001b[1mtrain: \u001b[0mWARNING ⚠️ /content/Scence-Text-Detection-4/train/images/f12_sr_g3_19_jpeg.rf.39432fc07e9a153fdf3691b75d1909e9.jpg: ignoring corrupt image/label: Label class 2162 exceeds dataset class count 1. Possible class labels are 0-0\n",
            "\u001b[34m\u001b[1mtrain: \u001b[0mWARNING ⚠️ /content/Scence-Text-Detection-4/train/images/f12_sr_g3_6_jpeg.rf.73640f4a2f4a260d3ab1467f4871b83c.jpg: ignoring corrupt image/label: Label class 1096 exceeds dataset class count 1. Possible class labels are 0-0\n",
            "\u001b[34m\u001b[1mtrain: \u001b[0mWARNING ⚠️ /content/Scence-Text-Detection-4/train/images/f13_kl_g3_10_jpg.rf.5218101706b59b552fc580a57d5d8dd2.jpg: ignoring corrupt image/label: Label class 4 exceeds dataset class count 1. Possible class labels are 0-0\n",
            "\u001b[34m\u001b[1mtrain: \u001b[0mWARNING ⚠️ /content/Scence-Text-Detection-4/train/images/f13_kl_g3_17_jpg.rf.08aa59aba6caa5010d19aee4d202afbb.jpg: ignoring corrupt image/label: Label class 290 exceeds dataset class count 1. Possible class labels are 0-0\n",
            "\u001b[34m\u001b[1mtrain: \u001b[0mWARNING ⚠️ /content/Scence-Text-Detection-4/train/images/f13_kl_g3_18_jpg.rf.a7ba741e0356e63d29f0b98e9e411b54.jpg: ignoring corrupt image/label: Label class 1852 exceeds dataset class count 1. Possible class labels are 0-0\n",
            "\u001b[34m\u001b[1mtrain: \u001b[0mWARNING ⚠️ /content/Scence-Text-Detection-4/train/images/f13_kl_g3_19_jpg.rf.8782c728078ceaee203a97f0ad5fe57e.jpg: ignoring corrupt image/label: Label class 2 exceeds dataset class count 1. Possible class labels are 0-0\n",
            "\u001b[34m\u001b[1mtrain: \u001b[0mWARNING ⚠️ /content/Scence-Text-Detection-4/train/images/f13_kl_g3_1_jpg.rf.9f29bfa8ae4f7ecd6829a4c9a68e7dda.jpg: ignoring corrupt image/label: Label class 2277 exceeds dataset class count 1. Possible class labels are 0-0\n",
            "\u001b[34m\u001b[1mtrain: \u001b[0mWARNING ⚠️ /content/Scence-Text-Detection-4/train/images/f13_kl_g3_5_jpg.rf.afd18c6ae74a6e273272d5aca90f02dd.jpg: ignoring corrupt image/label: Label class 1772 exceeds dataset class count 1. Possible class labels are 0-0\n",
            "\u001b[34m\u001b[1mtrain: \u001b[0mWARNING ⚠️ /content/Scence-Text-Detection-4/train/images/f13_kl_g3_6_jpg.rf.16976d11a1eacb9af18aa248bc8074f5.jpg: ignoring corrupt image/label: Label class 1553 exceeds dataset class count 1. Possible class labels are 0-0\n",
            "\u001b[34m\u001b[1mtrain: \u001b[0mWARNING ⚠️ /content/Scence-Text-Detection-4/train/images/f13_kl_g3_9_jpg.rf.2abf21327b8a97d27fb68cb1f2a27d25.jpg: ignoring corrupt image/label: Label class 1876 exceeds dataset class count 1. Possible class labels are 0-0\n",
            "\u001b[34m\u001b[1mtrain: \u001b[0mWARNING ⚠️ /content/Scence-Text-Detection-4/train/images/f13_kn_g3_11_jpg.rf.e90ce7503cf9d3eeddcd37c8f9498adf.jpg: ignoring corrupt image/label: Label class 158 exceeds dataset class count 1. Possible class labels are 0-0\n",
            "\u001b[34m\u001b[1mtrain: \u001b[0mWARNING ⚠️ /content/Scence-Text-Detection-4/train/images/f13_kn_g3_13_jpg.rf.f74b1fc8a34d1fc9009dbf93ed333700.jpg: ignoring corrupt image/label: Label class 499 exceeds dataset class count 1. Possible class labels are 0-0\n",
            "\u001b[34m\u001b[1mtrain: \u001b[0mWARNING ⚠️ /content/Scence-Text-Detection-4/train/images/f13_kn_g3_15_jpg.rf.97570003791f2cb849a652014d74ae0e.jpg: ignoring corrupt image/label: Label class 5 exceeds dataset class count 1. Possible class labels are 0-0\n",
            "\u001b[34m\u001b[1mtrain: \u001b[0mWARNING ⚠️ /content/Scence-Text-Detection-4/train/images/f13_kn_g3_18_jpg.rf.97c4f1f0b74b49e39b175bb0e07d56dd.jpg: ignoring corrupt image/label: Label class 2 exceeds dataset class count 1. Possible class labels are 0-0\n",
            "\u001b[34m\u001b[1mtrain: \u001b[0mWARNING ⚠️ /content/Scence-Text-Detection-4/train/images/f13_kn_g3_7_jpg.rf.3b6389e3773ff286e9e95b5336a1f51c.jpg: ignoring corrupt image/label: Label class 235 exceeds dataset class count 1. Possible class labels are 0-0\n",
            "\u001b[34m\u001b[1mtrain: \u001b[0mWARNING ⚠️ /content/Scence-Text-Detection-4/train/images/f13_kn_g3_9_jpg.rf.d08c418bd783a9c1d66e0a2e96ec1820.jpg: ignoring corrupt image/label: Label class 1911 exceeds dataset class count 1. Possible class labels are 0-0\n",
            "\u001b[34m\u001b[1mtrain: \u001b[0mWARNING ⚠️ /content/Scence-Text-Detection-4/train/images/f13_sr_g3_12_jpeg.rf.534960214c8f24ba20640cb69443a7a6.jpg: ignoring corrupt image/label: Label class 369 exceeds dataset class count 1. Possible class labels are 0-0\n",
            "\u001b[34m\u001b[1mtrain: \u001b[0mWARNING ⚠️ /content/Scence-Text-Detection-4/train/images/f13_sr_g3_14_jpeg.rf.5d17dfc13a0ec2ed772f8009f9d5e1c8.jpg: ignoring corrupt image/label: Label class 2282 exceeds dataset class count 1. Possible class labels are 0-0\n",
            "\u001b[34m\u001b[1mtrain: \u001b[0mWARNING ⚠️ /content/Scence-Text-Detection-4/train/images/f13_sr_g3_15_jpeg.rf.a7b4e4a539d4badf247a57694c410c29.jpg: ignoring corrupt image/label: Label class 1637 exceeds dataset class count 1. Possible class labels are 0-0\n",
            "\u001b[34m\u001b[1mtrain: \u001b[0mWARNING ⚠️ /content/Scence-Text-Detection-4/train/images/f13_sr_g3_18_jpeg.rf.4793111b63b57e8ea0d3fb17a8436404.jpg: ignoring corrupt image/label: Label class 2102 exceeds dataset class count 1. Possible class labels are 0-0\n",
            "\u001b[34m\u001b[1mtrain: \u001b[0mWARNING ⚠️ /content/Scence-Text-Detection-4/train/images/f13_sr_g3_19_jpeg.rf.51978112b2e19d66929b53dab37caf03.jpg: ignoring corrupt image/label: Label class 300 exceeds dataset class count 1. Possible class labels are 0-0\n",
            "\u001b[34m\u001b[1mtrain: \u001b[0mWARNING ⚠️ /content/Scence-Text-Detection-4/train/images/f13_sr_g3_1_jpeg.rf.285a83a742d929e5b474fa4e8344f9a8.jpg: ignoring corrupt image/label: Label class 2 exceeds dataset class count 1. Possible class labels are 0-0\n",
            "\u001b[34m\u001b[1mtrain: \u001b[0mWARNING ⚠️ /content/Scence-Text-Detection-4/train/images/f14_kl_g3_18_jpg.rf.c2b1c9ac3ee814c5612a29c4cae754a1.jpg: ignoring corrupt image/label: Label class 818 exceeds dataset class count 1. Possible class labels are 0-0\n",
            "\u001b[34m\u001b[1mtrain: \u001b[0mWARNING ⚠️ /content/Scence-Text-Detection-4/train/images/f14_kl_g3_5_jpg.rf.dca6fad8a05685b066f50fdbcb44bcfc.jpg: ignoring corrupt image/label: Label class 1621 exceeds dataset class count 1. Possible class labels are 0-0\n",
            "\u001b[34m\u001b[1mtrain: \u001b[0mWARNING ⚠️ /content/Scence-Text-Detection-4/train/images/f14_kn_g3_10_jpg.rf.afa58e632f17010e1845c4b624451eef.jpg: ignoring corrupt image/label: Label class 1547 exceeds dataset class count 1. Possible class labels are 0-0\n",
            "\u001b[34m\u001b[1mtrain: \u001b[0mWARNING ⚠️ /content/Scence-Text-Detection-4/train/images/f14_kn_g3_11_jpg.rf.74bcc2d39ad32a33f534d405d5c187a1.jpg: ignoring corrupt image/label: Label class 2 exceeds dataset class count 1. Possible class labels are 0-0\n",
            "\u001b[34m\u001b[1mtrain: \u001b[0mWARNING ⚠️ /content/Scence-Text-Detection-4/train/images/f14_kn_g3_17_jpg.rf.42136d6c316d4924dcce5433d114a39f.jpg: ignoring corrupt image/label: Label class 2248 exceeds dataset class count 1. Possible class labels are 0-0\n",
            "\u001b[34m\u001b[1mtrain: \u001b[0mWARNING ⚠️ /content/Scence-Text-Detection-4/train/images/f14_kn_g3_19_jpg.rf.3545922e8e249a7301b1b05b64783f32.jpg: ignoring corrupt image/label: Label class 2152 exceeds dataset class count 1. Possible class labels are 0-0\n",
            "\u001b[34m\u001b[1mtrain: \u001b[0mWARNING ⚠️ /content/Scence-Text-Detection-4/train/images/f14_kn_g3_9_jpg.rf.2cd344faa5aacbeb734ec6d2bf8cb9cf.jpg: ignoring corrupt image/label: Label class 319 exceeds dataset class count 1. Possible class labels are 0-0\n",
            "\u001b[34m\u001b[1mtrain: \u001b[0mWARNING ⚠️ /content/Scence-Text-Detection-4/train/images/f14_sr_g3_10_jpeg.rf.a21342bebf62ded46d041c3d2d146cf0.jpg: ignoring corrupt image/label: Label class 1799 exceeds dataset class count 1. Possible class labels are 0-0\n",
            "\u001b[34m\u001b[1mtrain: \u001b[0mWARNING ⚠️ /content/Scence-Text-Detection-4/train/images/f14_sr_g3_14_jpeg.rf.51855f0f1b9f2bad92922172f5af4f42.jpg: ignoring corrupt image/label: Label class 2045 exceeds dataset class count 1. Possible class labels are 0-0\n",
            "\u001b[34m\u001b[1mtrain: \u001b[0mWARNING ⚠️ /content/Scence-Text-Detection-4/train/images/f14_sr_g3_17_jpeg.rf.bf95ddba9b108f8fac998816472ba7f9.jpg: ignoring corrupt image/label: Label class 1608 exceeds dataset class count 1. Possible class labels are 0-0\n",
            "\u001b[34m\u001b[1mtrain: \u001b[0mWARNING ⚠️ /content/Scence-Text-Detection-4/train/images/f14_sr_g3_2_jpeg.rf.8f2bfdb0d034e612c00a4b36e5f2cc99.jpg: ignoring corrupt image/label: Label class 2239 exceeds dataset class count 1. Possible class labels are 0-0\n",
            "\u001b[34m\u001b[1mtrain: \u001b[0mWARNING ⚠️ /content/Scence-Text-Detection-4/train/images/f14_sr_g3_4_jpeg.rf.c5b42105b677845aec0eb7e551cdc3fb.jpg: ignoring corrupt image/label: Label class 222 exceeds dataset class count 1. Possible class labels are 0-0\n",
            "\u001b[34m\u001b[1mtrain: \u001b[0mWARNING ⚠️ /content/Scence-Text-Detection-4/train/images/f14_sr_g3_6_jpeg.rf.f08ed280da39f354e45d6105f183711a.jpg: ignoring corrupt image/label: Label class 1373 exceeds dataset class count 1. Possible class labels are 0-0\n",
            "\u001b[34m\u001b[1mtrain: \u001b[0mWARNING ⚠️ /content/Scence-Text-Detection-4/train/images/f14_sr_g3_7_jpeg.rf.370e44d98459dded35a4e3fdfdb46191.jpg: ignoring corrupt image/label: Label class 1851 exceeds dataset class count 1. Possible class labels are 0-0\n",
            "\u001b[34m\u001b[1mtrain: \u001b[0mWARNING ⚠️ /content/Scence-Text-Detection-4/train/images/f14_sr_g3_8_jpeg.rf.9c5f9eea560bac75250b35f9ca84187f.jpg: ignoring corrupt image/label: Label class 1835 exceeds dataset class count 1. Possible class labels are 0-0\n",
            "\u001b[34m\u001b[1mtrain: \u001b[0mWARNING ⚠️ /content/Scence-Text-Detection-4/train/images/f14_sr_g3_9_jpeg.rf.ea50d86ffe0bc44927d30b40bcfa6748.jpg: ignoring corrupt image/label: Label class 1799 exceeds dataset class count 1. Possible class labels are 0-0\n",
            "\u001b[34m\u001b[1mtrain: \u001b[0mWARNING ⚠️ /content/Scence-Text-Detection-4/train/images/f15_kl_g3_2_jpg.rf.b735180e8777b26f968d043607d7bab1.jpg: ignoring corrupt image/label: Label class 1908 exceeds dataset class count 1. Possible class labels are 0-0\n",
            "\u001b[34m\u001b[1mtrain: \u001b[0mWARNING ⚠️ /content/Scence-Text-Detection-4/train/images/f15_kn_g3_15_jpg.rf.159c111efddbe8368bdd003cf5d81351.jpg: ignoring corrupt image/label: Label class 1434 exceeds dataset class count 1. Possible class labels are 0-0\n",
            "\u001b[34m\u001b[1mtrain: \u001b[0mWARNING ⚠️ /content/Scence-Text-Detection-4/train/images/f15_kn_g3_1_jpg.rf.de35f0c7481ff1ca1c264adff8ddd973.jpg: ignoring corrupt image/label: Label class 3 exceeds dataset class count 1. Possible class labels are 0-0\n",
            "\u001b[34m\u001b[1mtrain: \u001b[0mWARNING ⚠️ /content/Scence-Text-Detection-4/train/images/f15_kn_g3_6_jpg.rf.7c6ea9671d4785984281a443fe5cc1d5.jpg: ignoring corrupt image/label: Label class 2 exceeds dataset class count 1. Possible class labels are 0-0\n",
            "\u001b[34m\u001b[1mtrain: \u001b[0mWARNING ⚠️ /content/Scence-Text-Detection-4/train/images/f15_sr_g3_12_jpeg.rf.d1e49cf55055390aaef4ad49ee54cc36.jpg: ignoring corrupt image/label: Label class 2065 exceeds dataset class count 1. Possible class labels are 0-0\n",
            "\u001b[34m\u001b[1mtrain: \u001b[0mWARNING ⚠️ /content/Scence-Text-Detection-4/train/images/f15_sr_g3_14_jpeg.rf.4171aef0bc6e5af0caf0f2ba5593208d.jpg: ignoring corrupt image/label: Label class 1876 exceeds dataset class count 1. Possible class labels are 0-0\n",
            "\u001b[34m\u001b[1mtrain: \u001b[0mWARNING ⚠️ /content/Scence-Text-Detection-4/train/images/f15_sr_g3_17_jpeg.rf.bb2713be09fbe309719211157f20480b.jpg: ignoring corrupt image/label: Label class 300 exceeds dataset class count 1. Possible class labels are 0-0\n",
            "\u001b[34m\u001b[1mtrain: \u001b[0mWARNING ⚠️ /content/Scence-Text-Detection-4/train/images/f15_sr_g3_20_jpeg.rf.83cc005c1a89db4432adfb5ca1897f49.jpg: ignoring corrupt image/label: Label class 2259 exceeds dataset class count 1. Possible class labels are 0-0\n",
            "\u001b[34m\u001b[1mtrain: \u001b[0mWARNING ⚠️ /content/Scence-Text-Detection-4/train/images/f15_sr_g3_2_jpeg.rf.30c0b2cf4fb58f3c0fd0d80b9b8cafdb.jpg: ignoring corrupt image/label: Label class 2163 exceeds dataset class count 1. Possible class labels are 0-0\n",
            "\u001b[34m\u001b[1mtrain: \u001b[0mWARNING ⚠️ /content/Scence-Text-Detection-4/train/images/f15_sr_g3_4_jpeg.rf.f99e27cf93e2db9a96dfe1fd6c601488.jpg: ignoring corrupt image/label: Label class 2060 exceeds dataset class count 1. Possible class labels are 0-0\n",
            "\u001b[34m\u001b[1mtrain: \u001b[0mWARNING ⚠️ /content/Scence-Text-Detection-4/train/images/f16_kl_g3_19_jpg.rf.997df651a0628f8f00ccd2ec361fbede.jpg: ignoring corrupt image/label: Label class 1444 exceeds dataset class count 1. Possible class labels are 0-0\n",
            "\u001b[34m\u001b[1mtrain: \u001b[0mWARNING ⚠️ /content/Scence-Text-Detection-4/train/images/f16_kl_g3_1_jpg.rf.5e173de24a50b46f0b6ee077191485a4.jpg: ignoring corrupt image/label: Label class 2 exceeds dataset class count 1. Possible class labels are 0-0\n",
            "\u001b[34m\u001b[1mtrain: \u001b[0mWARNING ⚠️ /content/Scence-Text-Detection-4/train/images/f16_kn_g3_10_jpg.rf.d18d64c077712e6bba69458962b75dc7.jpg: ignoring corrupt image/label: Label class 1616 exceeds dataset class count 1. Possible class labels are 0-0\n",
            "\u001b[34m\u001b[1mtrain: \u001b[0mWARNING ⚠️ /content/Scence-Text-Detection-4/train/images/f16_kn_g3_12_jpg.rf.d42b47748119672167cb7cf68931e446.jpg: ignoring corrupt image/label: Label class 2 exceeds dataset class count 1. Possible class labels are 0-0\n",
            "\u001b[34m\u001b[1mtrain: \u001b[0mWARNING ⚠️ /content/Scence-Text-Detection-4/train/images/f16_kn_g3_20_jpg.rf.821bac47793507be6980c0808c3e058d.jpg: ignoring corrupt image/label: Label class 2 exceeds dataset class count 1. Possible class labels are 0-0\n",
            "\u001b[34m\u001b[1mtrain: \u001b[0mWARNING ⚠️ /content/Scence-Text-Detection-4/train/images/f16_kn_g3_6_jpg.rf.a598f96455a263773f9cafad38c5b1cc.jpg: ignoring corrupt image/label: Label class 1104 exceeds dataset class count 1. Possible class labels are 0-0\n",
            "\u001b[34m\u001b[1mtrain: \u001b[0mWARNING ⚠️ /content/Scence-Text-Detection-4/train/images/f16_kn_g3_7_jpg.rf.27df843e2be9ada2387b8c6bc3345abd.jpg: ignoring corrupt image/label: Label class 3 exceeds dataset class count 1. Possible class labels are 0-0\n",
            "\u001b[34m\u001b[1mtrain: \u001b[0mWARNING ⚠️ /content/Scence-Text-Detection-4/train/images/f16_sr_g3_11_jpeg.rf.75cbb16c6a22685b290befbfb701115d.jpg: ignoring corrupt image/label: Label class 684 exceeds dataset class count 1. Possible class labels are 0-0\n",
            "\u001b[34m\u001b[1mtrain: \u001b[0mWARNING ⚠️ /content/Scence-Text-Detection-4/train/images/f16_sr_g3_13_jpeg.rf.071c58aa71dd7ef8956b85b93782f54f.jpg: ignoring corrupt image/label: Label class 2184 exceeds dataset class count 1. Possible class labels are 0-0\n",
            "\u001b[34m\u001b[1mtrain: \u001b[0mWARNING ⚠️ /content/Scence-Text-Detection-4/train/images/f16_sr_g3_18_jpeg.rf.7212b4bda6766c8e83149b0109a7f86a.jpg: ignoring corrupt image/label: Label class 1179 exceeds dataset class count 1. Possible class labels are 0-0\n",
            "\u001b[34m\u001b[1mtrain: \u001b[0mWARNING ⚠️ /content/Scence-Text-Detection-4/train/images/f16_sr_g3_3_jpeg.rf.955119d26a185a7c77637bd92fa39595.jpg: ignoring corrupt image/label: Label class 1977 exceeds dataset class count 1. Possible class labels are 0-0\n",
            "\u001b[34m\u001b[1mtrain: \u001b[0mWARNING ⚠️ /content/Scence-Text-Detection-4/train/images/f16_sr_g3_4_jpeg.rf.e5b97155cfa377ba03b7a6c46dec1f62.jpg: ignoring corrupt image/label: Label class 2083 exceeds dataset class count 1. Possible class labels are 0-0\n",
            "\u001b[34m\u001b[1mtrain: \u001b[0mWARNING ⚠️ /content/Scence-Text-Detection-4/train/images/f16_sr_g3_5_jpeg.rf.9b39cc5d409e6780043544658216d45d.jpg: ignoring corrupt image/label: Label class 1882 exceeds dataset class count 1. Possible class labels are 0-0\n",
            "\u001b[34m\u001b[1mtrain: \u001b[0mWARNING ⚠️ /content/Scence-Text-Detection-4/train/images/f16_sr_g3_7_jpeg.rf.53c25ca7dbe3ffdb6843f15bae6a5b94.jpg: ignoring corrupt image/label: Label class 1869 exceeds dataset class count 1. Possible class labels are 0-0\n",
            "\u001b[34m\u001b[1mtrain: \u001b[0mWARNING ⚠️ /content/Scence-Text-Detection-4/train/images/f17_kl_g3_6_jpg.rf.9a0454aeb6732e3670764758ca76e43e.jpg: ignoring corrupt image/label: Label class 1318 exceeds dataset class count 1. Possible class labels are 0-0\n",
            "\u001b[34m\u001b[1mtrain: \u001b[0mWARNING ⚠️ /content/Scence-Text-Detection-4/train/images/f17_kn_g3_11_jpg.rf.feaf3d8f0b71bf46b299bbecfdd0cd3e.jpg: ignoring corrupt image/label: Label class 1770 exceeds dataset class count 1. Possible class labels are 0-0\n",
            "\u001b[34m\u001b[1mtrain: \u001b[0mWARNING ⚠️ /content/Scence-Text-Detection-4/train/images/f17_kn_g3_12_jpg.rf.3db83433130495092a46ddbf49b94b06.jpg: ignoring corrupt image/label: Label class 1999 exceeds dataset class count 1. Possible class labels are 0-0\n",
            "\u001b[34m\u001b[1mtrain: \u001b[0mWARNING ⚠️ /content/Scence-Text-Detection-4/train/images/f17_kn_g3_14_jpg.rf.8cc5be947f8289493b3619e509d229b2.jpg: ignoring corrupt image/label: Label class 298 exceeds dataset class count 1. Possible class labels are 0-0\n",
            "\u001b[34m\u001b[1mtrain: \u001b[0mWARNING ⚠️ /content/Scence-Text-Detection-4/train/images/f17_kn_g3_17_jpg.rf.6b38a18952521d1a11821b6a3efbd1ce.jpg: ignoring corrupt image/label: Label class 1358 exceeds dataset class count 1. Possible class labels are 0-0\n",
            "\u001b[34m\u001b[1mtrain: \u001b[0mWARNING ⚠️ /content/Scence-Text-Detection-4/train/images/f17_kn_g3_18_jpg.rf.216b21abb5841f9030fb949ed7055025.jpg: ignoring corrupt image/label: Label class 1111 exceeds dataset class count 1. Possible class labels are 0-0\n",
            "\u001b[34m\u001b[1mtrain: \u001b[0mWARNING ⚠️ /content/Scence-Text-Detection-4/train/images/f17_kn_g3_19_jpg.rf.94402c7676c5a139bf49e04e915dd369.jpg: ignoring corrupt image/label: Label class 105 exceeds dataset class count 1. Possible class labels are 0-0\n",
            "\u001b[34m\u001b[1mtrain: \u001b[0mWARNING ⚠️ /content/Scence-Text-Detection-4/train/images/f17_kn_g3_2_jpg.rf.116c4896570f0c7cc7dc618f8d6f8860.jpg: ignoring corrupt image/label: Label class 2054 exceeds dataset class count 1. Possible class labels are 0-0\n",
            "\u001b[34m\u001b[1mtrain: \u001b[0mWARNING ⚠️ /content/Scence-Text-Detection-4/train/images/f17_kn_g3_5_jpg.rf.6aa205fc7dbb4bb2c836fe14a9a363d8.jpg: ignoring corrupt image/label: Label class 2 exceeds dataset class count 1. Possible class labels are 0-0\n",
            "\u001b[34m\u001b[1mtrain: \u001b[0mWARNING ⚠️ /content/Scence-Text-Detection-4/train/images/f17_kn_g3_6_jpg.rf.6a520ad834c158071dcf72e545bec308.jpg: ignoring corrupt image/label: Label class 271 exceeds dataset class count 1. Possible class labels are 0-0\n",
            "\u001b[34m\u001b[1mtrain: \u001b[0mWARNING ⚠️ /content/Scence-Text-Detection-4/train/images/f17_sr_g3_10_jpeg.rf.5a8114c7910e109588d33b50571e9ecf.jpg: ignoring corrupt image/label: Label class 2163 exceeds dataset class count 1. Possible class labels are 0-0\n",
            "\u001b[34m\u001b[1mtrain: \u001b[0mWARNING ⚠️ /content/Scence-Text-Detection-4/train/images/f17_sr_g3_12_jpeg.rf.527105867034b9a4ced4f85b0f422d51.jpg: ignoring corrupt image/label: Label class 252 exceeds dataset class count 1. Possible class labels are 0-0\n",
            "\u001b[34m\u001b[1mtrain: \u001b[0mWARNING ⚠️ /content/Scence-Text-Detection-4/train/images/f17_sr_g3_13_jpeg.rf.6a55d5caff2209e17da153e609a05726.jpg: ignoring corrupt image/label: Label class 2094 exceeds dataset class count 1. Possible class labels are 0-0\n",
            "\u001b[34m\u001b[1mtrain: \u001b[0mWARNING ⚠️ /content/Scence-Text-Detection-4/train/images/f17_sr_g3_16_jpeg.rf.b7f70b601469fdd6cdc8db7d82076a56.jpg: ignoring corrupt image/label: Label class 1876 exceeds dataset class count 1. Possible class labels are 0-0\n",
            "\u001b[34m\u001b[1mtrain: \u001b[0mWARNING ⚠️ /content/Scence-Text-Detection-4/train/images/f17_sr_g3_18_jpeg.rf.b6fd21d1bf574e25fe9a4eb19506111e.jpg: ignoring corrupt image/label: Label class 632 exceeds dataset class count 1. Possible class labels are 0-0\n",
            "\u001b[34m\u001b[1mtrain: \u001b[0mWARNING ⚠️ /content/Scence-Text-Detection-4/train/images/f17_sr_g3_1_jpeg.rf.078b2f1c1f621b3f08b7bbe50f6c35cc.jpg: ignoring corrupt image/label: Label class 2237 exceeds dataset class count 1. Possible class labels are 0-0\n",
            "\u001b[34m\u001b[1mtrain: \u001b[0mWARNING ⚠️ /content/Scence-Text-Detection-4/train/images/f17_sr_g3_20_jpeg.rf.ea0af13ff852ff0606f7cc929618999a.jpg: ignoring corrupt image/label: Label class 1873 exceeds dataset class count 1. Possible class labels are 0-0\n",
            "\u001b[34m\u001b[1mtrain: \u001b[0mWARNING ⚠️ /content/Scence-Text-Detection-4/train/images/f17_sr_g3_2_jpeg.rf.937c8bcb2b37a4e0fdb0025e5f430c7a.jpg: ignoring corrupt image/label: Label class 675 exceeds dataset class count 1. Possible class labels are 0-0\n",
            "\u001b[34m\u001b[1mtrain: \u001b[0mWARNING ⚠️ /content/Scence-Text-Detection-4/train/images/f17_sr_g3_3_jpeg.rf.28bde95e94ad19de9fdc8d49867e064b.jpg: ignoring corrupt image/label: Label class 2162 exceeds dataset class count 1. Possible class labels are 0-0\n",
            "\u001b[34m\u001b[1mtrain: \u001b[0mWARNING ⚠️ /content/Scence-Text-Detection-4/train/images/f17_sr_g3_4_jpeg.rf.89bf34341bee3b526be2c0392bda2fb3.jpg: ignoring corrupt image/label: Label class 1774 exceeds dataset class count 1. Possible class labels are 0-0\n",
            "\u001b[34m\u001b[1mtrain: \u001b[0mWARNING ⚠️ /content/Scence-Text-Detection-4/train/images/f17_sr_g3_6_jpeg.rf.293a931d5bfc1e0a2d61a6975daf40fb.jpg: ignoring corrupt image/label: Label class 621 exceeds dataset class count 1. Possible class labels are 0-0\n",
            "\u001b[34m\u001b[1mtrain: \u001b[0mWARNING ⚠️ /content/Scence-Text-Detection-4/train/images/f17_sr_g3_7_jpeg.rf.3d86567d6bc12c82284e71c0d5aa0d17.jpg: ignoring corrupt image/label: Label class 1774 exceeds dataset class count 1. Possible class labels are 0-0\n",
            "\u001b[34m\u001b[1mtrain: \u001b[0mWARNING ⚠️ /content/Scence-Text-Detection-4/train/images/f17_sr_g3_8_jpeg.rf.7b3bbd1a81601ec1f0c864f2abb0843d.jpg: ignoring corrupt image/label: Label class 2234 exceeds dataset class count 1. Possible class labels are 0-0\n",
            "\u001b[34m\u001b[1mtrain: \u001b[0mWARNING ⚠️ /content/Scence-Text-Detection-4/train/images/f18_kn_g3_10_jpg.rf.196c899fa1bc26311b03f3dc4b745fed.jpg: ignoring corrupt image/label: Label class 2116 exceeds dataset class count 1. Possible class labels are 0-0\n",
            "\u001b[34m\u001b[1mtrain: \u001b[0mWARNING ⚠️ /content/Scence-Text-Detection-4/train/images/f18_kn_g3_20_jpg.rf.7b1557b0a9447cdce64b39bdd3d4b30e.jpg: ignoring corrupt image/label: Label class 2 exceeds dataset class count 1. Possible class labels are 0-0\n",
            "\u001b[34m\u001b[1mtrain: \u001b[0mWARNING ⚠️ /content/Scence-Text-Detection-4/train/images/f18_kn_g3_4_jpg.rf.9ea22200ae4d54f7dff9dab3c4869e23.jpg: ignoring corrupt image/label: Label class 2 exceeds dataset class count 1. Possible class labels are 0-0\n",
            "\u001b[34m\u001b[1mtrain: \u001b[0mWARNING ⚠️ /content/Scence-Text-Detection-4/train/images/f18_sr_g3_13_jpeg.rf.95d7e634194612bf4147ef113eac4b0d.jpg: ignoring corrupt image/label: Label class 2 exceeds dataset class count 1. Possible class labels are 0-0\n",
            "\u001b[34m\u001b[1mtrain: \u001b[0mWARNING ⚠️ /content/Scence-Text-Detection-4/train/images/f18_sr_g3_15_jpeg.rf.8915a11a506472a09c33611e9ab3f43a.jpg: ignoring corrupt image/label: Label class 1810 exceeds dataset class count 1. Possible class labels are 0-0\n",
            "\u001b[34m\u001b[1mtrain: \u001b[0mWARNING ⚠️ /content/Scence-Text-Detection-4/train/images/f18_sr_g3_16_jpeg.rf.e434758a7346d09f4bf48d362337b12d.jpg: ignoring corrupt image/label: Label class 2 exceeds dataset class count 1. Possible class labels are 0-0\n",
            "\u001b[34m\u001b[1mtrain: \u001b[0mWARNING ⚠️ /content/Scence-Text-Detection-4/train/images/f18_sr_g3_18_jpeg.rf.919afe6974f9f43922874aa2eb3c668c.jpg: ignoring corrupt image/label: Label class 1880 exceeds dataset class count 1. Possible class labels are 0-0\n",
            "\u001b[34m\u001b[1mtrain: \u001b[0mWARNING ⚠️ /content/Scence-Text-Detection-4/train/images/f18_sr_g3_19_jpeg.rf.cc812ee13cfd8c9a7b6bf4b41ffafb17.jpg: ignoring corrupt image/label: Label class 2 exceeds dataset class count 1. Possible class labels are 0-0\n",
            "\u001b[34m\u001b[1mtrain: \u001b[0mWARNING ⚠️ /content/Scence-Text-Detection-4/train/images/f18_sr_g3_7_jpeg.rf.a6e23e17880392c805b73e29b3760f69.jpg: ignoring corrupt image/label: Label class 1608 exceeds dataset class count 1. Possible class labels are 0-0\n",
            "\u001b[34m\u001b[1mtrain: \u001b[0mWARNING ⚠️ /content/Scence-Text-Detection-4/train/images/f19_kl_g3_9_jpg.rf.46cbee40edf1e7943f955f09363a1f61.jpg: ignoring corrupt image/label: Label class 1851 exceeds dataset class count 1. Possible class labels are 0-0\n",
            "\u001b[34m\u001b[1mtrain: \u001b[0mWARNING ⚠️ /content/Scence-Text-Detection-4/train/images/f19_kn_g3_10_jpg.rf.24ce71ab7734e9743d204789339c2c17.jpg: ignoring corrupt image/label: Label class 1576 exceeds dataset class count 1. Possible class labels are 0-0\n",
            "\u001b[34m\u001b[1mtrain: \u001b[0mWARNING ⚠️ /content/Scence-Text-Detection-4/train/images/f19_kn_g3_13_jpg.rf.01683c6a94d2447f5f79527133b4494e.jpg: ignoring corrupt image/label: Label class 431 exceeds dataset class count 1. Possible class labels are 0-0\n",
            "\u001b[34m\u001b[1mtrain: \u001b[0mWARNING ⚠️ /content/Scence-Text-Detection-4/train/images/f19_kn_g3_3_jpg.rf.6c6f3220c02434d4d5db23148c3affa9.jpg: ignoring corrupt image/label: Label class 3 exceeds dataset class count 1. Possible class labels are 0-0\n",
            "\u001b[34m\u001b[1mtrain: \u001b[0mWARNING ⚠️ /content/Scence-Text-Detection-4/train/images/f19_kn_g3_4_jpg.rf.5a53f61352d9b09c7cb0397bd4954e2b.jpg: ignoring corrupt image/label: Label class 1946 exceeds dataset class count 1. Possible class labels are 0-0\n",
            "\u001b[34m\u001b[1mtrain: \u001b[0mWARNING ⚠️ /content/Scence-Text-Detection-4/train/images/f19_kn_g3_8_jpg.rf.738b9cbeb6624604f99c705a1d05d015.jpg: ignoring corrupt image/label: Label class 164 exceeds dataset class count 1. Possible class labels are 0-0\n",
            "\u001b[34m\u001b[1mtrain: \u001b[0mWARNING ⚠️ /content/Scence-Text-Detection-4/train/images/f19_sr_g3_10_jpeg.rf.723671a58f076fce6e0ac1b0b3d81a5c.jpg: ignoring corrupt image/label: Label class 1324 exceeds dataset class count 1. Possible class labels are 0-0\n",
            "\u001b[34m\u001b[1mtrain: \u001b[0mWARNING ⚠️ /content/Scence-Text-Detection-4/train/images/f19_sr_g3_11_jpeg.rf.ac4ee862903cc44d0e590cfa894381e3.jpg: ignoring corrupt image/label: Label class 2 exceeds dataset class count 1. Possible class labels are 0-0\n",
            "\u001b[34m\u001b[1mtrain: \u001b[0mWARNING ⚠️ /content/Scence-Text-Detection-4/train/images/f19_sr_g3_15_jpeg.rf.a08ee786ee18da03415e7360122d9261.jpg: ignoring corrupt image/label: Label class 2 exceeds dataset class count 1. Possible class labels are 0-0\n",
            "\u001b[34m\u001b[1mtrain: \u001b[0mWARNING ⚠️ /content/Scence-Text-Detection-4/train/images/f19_sr_g3_1_jpeg.rf.56bafcdb98f92c12ae8b7921c0064a3d.jpg: ignoring corrupt image/label: Label class 2 exceeds dataset class count 1. Possible class labels are 0-0\n",
            "\u001b[34m\u001b[1mtrain: \u001b[0mWARNING ⚠️ /content/Scence-Text-Detection-4/train/images/f19_sr_g3_3_jpeg.rf.f5aec958b96dc4326f0352f51656b3fd.jpg: ignoring corrupt image/label: Label class 2 exceeds dataset class count 1. Possible class labels are 0-0\n",
            "\u001b[34m\u001b[1mtrain: \u001b[0mWARNING ⚠️ /content/Scence-Text-Detection-4/train/images/f19_sr_g3_6_jpeg.rf.2716d3c219dc20ecffee43ce87f962e7.jpg: ignoring corrupt image/label: Label class 1662 exceeds dataset class count 1. Possible class labels are 0-0\n",
            "\u001b[34m\u001b[1mtrain: \u001b[0mWARNING ⚠️ /content/Scence-Text-Detection-4/train/images/f19_sr_g3_7_jpeg.rf.a3b61a5aa7559e32597e9677404052e6.jpg: ignoring corrupt image/label: Label class 2 exceeds dataset class count 1. Possible class labels are 0-0\n",
            "\u001b[34m\u001b[1mtrain: \u001b[0mWARNING ⚠️ /content/Scence-Text-Detection-4/train/images/f19_sr_g3_8_jpeg.rf.ab28089e5bbcac684a1f9e60c6b77dc4.jpg: ignoring corrupt image/label: Label class 2 exceeds dataset class count 1. Possible class labels are 0-0\n",
            "\u001b[34m\u001b[1mtrain: \u001b[0mWARNING ⚠️ /content/Scence-Text-Detection-4/train/images/f19_sr_g3_9_jpeg.rf.dd7a5830ab3c263a0593f64274616dc4.jpg: ignoring corrupt image/label: Label class 1474 exceeds dataset class count 1. Possible class labels are 0-0\n",
            "\u001b[34m\u001b[1mtrain: \u001b[0mWARNING ⚠️ /content/Scence-Text-Detection-4/train/images/f1_kl_g3_14_jpg.rf.7221013581d0af2dca2cf1af8f993695.jpg: ignoring corrupt image/label: Label class 1407 exceeds dataset class count 1. Possible class labels are 0-0\n",
            "\u001b[34m\u001b[1mtrain: \u001b[0mWARNING ⚠️ /content/Scence-Text-Detection-4/train/images/f1_kl_g3_16_jpg.rf.0543054c592077e25976b815cbfca893.jpg: ignoring corrupt image/label: Label class 2037 exceeds dataset class count 1. Possible class labels are 0-0\n",
            "\u001b[34m\u001b[1mtrain: \u001b[0mWARNING ⚠️ /content/Scence-Text-Detection-4/train/images/f1_kl_g3_17_jpg.rf.44bb3249e8955e2856aee60833b7eb00.jpg: ignoring corrupt image/label: Label class 2 exceeds dataset class count 1. Possible class labels are 0-0\n",
            "\u001b[34m\u001b[1mtrain: \u001b[0mWARNING ⚠️ /content/Scence-Text-Detection-4/train/images/f1_kl_g3_18_jpg.rf.be30a0c1d27e6a8d7a2a46db8600b283.jpg: ignoring corrupt image/label: Label class 1086 exceeds dataset class count 1. Possible class labels are 0-0\n",
            "\u001b[34m\u001b[1mtrain: \u001b[0mWARNING ⚠️ /content/Scence-Text-Detection-4/train/images/f1_kl_g3_1_jpg.rf.8b47ac832815d91e128a091ad1c23532.jpg: ignoring corrupt image/label: Label class 1669 exceeds dataset class count 1. Possible class labels are 0-0\n",
            "\u001b[34m\u001b[1mtrain: \u001b[0mWARNING ⚠️ /content/Scence-Text-Detection-4/train/images/f1_kl_g3_20_jpg.rf.b6acb421eccf2ff41cdb095fcb123fc2.jpg: ignoring corrupt image/label: Label class 123 exceeds dataset class count 1. Possible class labels are 0-0\n",
            "\u001b[34m\u001b[1mtrain: \u001b[0mWARNING ⚠️ /content/Scence-Text-Detection-4/train/images/f1_kl_g3_3_jpg.rf.daf0bcfa11661a00997ae35e57bc411f.jpg: ignoring corrupt image/label: Label class 510 exceeds dataset class count 1. Possible class labels are 0-0\n",
            "\u001b[34m\u001b[1mtrain: \u001b[0mWARNING ⚠️ /content/Scence-Text-Detection-4/train/images/f1_kl_g3_5_jpg.rf.733623c24bf5d248888ec8fc20fe08be.jpg: ignoring corrupt image/label: Label class 1352 exceeds dataset class count 1. Possible class labels are 0-0\n",
            "\u001b[34m\u001b[1mtrain: \u001b[0mWARNING ⚠️ /content/Scence-Text-Detection-4/train/images/f1_kl_g3_6_jpg.rf.9dab0b09fb7e7af9d3374b0f956076c2.jpg: ignoring corrupt image/label: Label class 2281 exceeds dataset class count 1. Possible class labels are 0-0\n",
            "\u001b[34m\u001b[1mtrain: \u001b[0mWARNING ⚠️ /content/Scence-Text-Detection-4/train/images/f1_kl_g3_8_jpg.rf.cd4b99b30f5eb5dd4c8dee900f27d42f.jpg: ignoring corrupt image/label: Label class 2045 exceeds dataset class count 1. Possible class labels are 0-0\n",
            "\u001b[34m\u001b[1mtrain: \u001b[0mWARNING ⚠️ /content/Scence-Text-Detection-4/train/images/f1_kl_g3_9_jpg.rf.4d1a0f87dae3ab5fca24e038fdac69f1.jpg: ignoring corrupt image/label: Label class 657 exceeds dataset class count 1. Possible class labels are 0-0\n",
            "\u001b[34m\u001b[1mtrain: \u001b[0mWARNING ⚠️ /content/Scence-Text-Detection-4/train/images/f20_kn_g3_11_jpg.rf.2b308d79fb6ba8d0a215851dfd94f20d.jpg: ignoring corrupt image/label: Label class 2102 exceeds dataset class count 1. Possible class labels are 0-0\n",
            "\u001b[34m\u001b[1mtrain: \u001b[0mWARNING ⚠️ /content/Scence-Text-Detection-4/train/images/f20_kn_g3_15_jpg.rf.c32d63591b353b8c07e42a3febd2dd84.jpg: ignoring corrupt image/label: Label class 2 exceeds dataset class count 1. Possible class labels are 0-0\n",
            "\u001b[34m\u001b[1mtrain: \u001b[0mWARNING ⚠️ /content/Scence-Text-Detection-4/train/images/f20_sr_g3_20_jpeg.rf.7d57796ddcfb0e6c43e4a542967577d0.jpg: ignoring corrupt image/label: Label class 1923 exceeds dataset class count 1. Possible class labels are 0-0\n",
            "\u001b[34m\u001b[1mtrain: \u001b[0mWARNING ⚠️ /content/Scence-Text-Detection-4/train/images/f2_kl_g3_10_jpg.rf.196120ef2988937bfefd4c837a007386.jpg: ignoring corrupt image/label: Label class 1803 exceeds dataset class count 1. Possible class labels are 0-0\n",
            "\u001b[34m\u001b[1mtrain: \u001b[0mWARNING ⚠️ /content/Scence-Text-Detection-4/train/images/f2_kl_g3_11_jpg.rf.0546143543fcb0b44e280b8d4267764a.jpg: ignoring corrupt image/label: Label class 249 exceeds dataset class count 1. Possible class labels are 0-0\n",
            "\u001b[34m\u001b[1mtrain: \u001b[0mWARNING ⚠️ /content/Scence-Text-Detection-4/train/images/f2_kl_g3_13_jpg.rf.b95878dc3047b663d55abf7b0a8bd81a.jpg: ignoring corrupt image/label: Label class 1039 exceeds dataset class count 1. Possible class labels are 0-0\n",
            "\u001b[34m\u001b[1mtrain: \u001b[0mWARNING ⚠️ /content/Scence-Text-Detection-4/train/images/f2_kl_g3_14_jpg.rf.92ac689cfee349becc54851e5783d29f.jpg: ignoring corrupt image/label: Label class 276 exceeds dataset class count 1. Possible class labels are 0-0\n",
            "\u001b[34m\u001b[1mtrain: \u001b[0mWARNING ⚠️ /content/Scence-Text-Detection-4/train/images/f2_kl_g3_18_jpg.rf.41af6b1f7b81f7db9f0b255e163918f7.jpg: ignoring corrupt image/label: Label class 2042 exceeds dataset class count 1. Possible class labels are 0-0\n",
            "\u001b[34m\u001b[1mtrain: \u001b[0mWARNING ⚠️ /content/Scence-Text-Detection-4/train/images/f2_kl_g3_2_jpg.rf.4c455496459b3bddf239edeba0f5da99.jpg: ignoring corrupt image/label: Label class 2185 exceeds dataset class count 1. Possible class labels are 0-0\n",
            "\u001b[34m\u001b[1mtrain: \u001b[0mWARNING ⚠️ /content/Scence-Text-Detection-4/train/images/f2_kl_g3_5_jpg.rf.469671ef69951d1876c835d75c00e225.jpg: ignoring corrupt image/label: Label class 35 exceeds dataset class count 1. Possible class labels are 0-0\n",
            "\u001b[34m\u001b[1mtrain: \u001b[0mWARNING ⚠️ /content/Scence-Text-Detection-4/train/images/f2_kl_g3_6_jpg.rf.b97cee39e0bc8fee2b66883578361d88.jpg: ignoring corrupt image/label: Label class 155 exceeds dataset class count 1. Possible class labels are 0-0\n",
            "\u001b[34m\u001b[1mtrain: \u001b[0mWARNING ⚠️ /content/Scence-Text-Detection-4/train/images/f2_kl_g3_8_jpg.rf.5a0369f9ebb89969327363931df46090.jpg: ignoring corrupt image/label: Label class 1815 exceeds dataset class count 1. Possible class labels are 0-0\n",
            "\u001b[34m\u001b[1mtrain: \u001b[0mWARNING ⚠️ /content/Scence-Text-Detection-4/train/images/f2_sr_g3_2_jpeg.rf.a9f4fd93a11feabec50328400d9da614.jpg: ignoring corrupt image/label: Label class 1815 exceeds dataset class count 1. Possible class labels are 0-0\n",
            "\u001b[34m\u001b[1mtrain: \u001b[0mWARNING ⚠️ /content/Scence-Text-Detection-4/train/images/f3_kl_g3_10_jpg.rf.c79b8597b7bb23d51ca0c2f39f4e40ac.jpg: ignoring corrupt image/label: Label class 1391 exceeds dataset class count 1. Possible class labels are 0-0\n",
            "\u001b[34m\u001b[1mtrain: \u001b[0mWARNING ⚠️ /content/Scence-Text-Detection-4/train/images/f3_kl_g3_11_jpg.rf.489b4a908fcb7ba416c2cd2fa8db344f.jpg: ignoring corrupt image/label: Label class 386 exceeds dataset class count 1. Possible class labels are 0-0\n",
            "\u001b[34m\u001b[1mtrain: \u001b[0mWARNING ⚠️ /content/Scence-Text-Detection-4/train/images/f3_kl_g3_17_jpg.rf.91b19664d32e13371ad0f2d2883d3085.jpg: ignoring corrupt image/label: Label class 2169 exceeds dataset class count 1. Possible class labels are 0-0\n",
            "\u001b[34m\u001b[1mtrain: \u001b[0mWARNING ⚠️ /content/Scence-Text-Detection-4/train/images/f3_kl_g3_1_jpg.rf.fb86c4b63ffa0b84fd98e1ee11c7407a.jpg: ignoring corrupt image/label: Label class 774 exceeds dataset class count 1. Possible class labels are 0-0\n",
            "\u001b[34m\u001b[1mtrain: \u001b[0mWARNING ⚠️ /content/Scence-Text-Detection-4/train/images/f3_kl_g3_2_jpg.rf.c7ee63245b7afa8a74821d7f40c5c087.jpg: ignoring corrupt image/label: Label class 780 exceeds dataset class count 1. Possible class labels are 0-0\n",
            "\u001b[34m\u001b[1mtrain: \u001b[0mWARNING ⚠️ /content/Scence-Text-Detection-4/train/images/f3_kl_g3_7_jpg.rf.8fb982aea0052fefe8fc4bc9db7a3e57.jpg: ignoring corrupt image/label: Label class 2107 exceeds dataset class count 1. Possible class labels are 0-0\n",
            "\u001b[34m\u001b[1mtrain: \u001b[0mWARNING ⚠️ /content/Scence-Text-Detection-4/train/images/f3_kl_g3_8_jpg.rf.fea448762cb905da1ff3d56660de0fd1.jpg: ignoring corrupt image/label: Label class 1899 exceeds dataset class count 1. Possible class labels are 0-0\n",
            "\u001b[34m\u001b[1mtrain: \u001b[0mWARNING ⚠️ /content/Scence-Text-Detection-4/train/images/f3_kl_g3_9_jpg.rf.7588332e5d7a2cb1d6d6fe6afb3747f8.jpg: ignoring corrupt image/label: Label class 181 exceeds dataset class count 1. Possible class labels are 0-0\n",
            "\u001b[34m\u001b[1mtrain: \u001b[0mWARNING ⚠️ /content/Scence-Text-Detection-4/train/images/f3_sk_g3_11_jpg.rf.efe294936658140cef7a99ca5f3e1030.jpg: ignoring corrupt image/label: Label class 3 exceeds dataset class count 1. Possible class labels are 0-0\n",
            "\u001b[34m\u001b[1mtrain: \u001b[0mWARNING ⚠️ /content/Scence-Text-Detection-4/train/images/f3_sk_g3_16_jpg.rf.ee18359c19dcc840625ed2a7f590b448.jpg: ignoring corrupt image/label: Label class 2 exceeds dataset class count 1. Possible class labels are 0-0\n",
            "\u001b[34m\u001b[1mtrain: \u001b[0mWARNING ⚠️ /content/Scence-Text-Detection-4/train/images/f3_sk_g3_18_jpg.rf.3e33aec76bb598ea1dbbe203d561edb4.jpg: ignoring corrupt image/label: Label class 1035 exceeds dataset class count 1. Possible class labels are 0-0\n",
            "\u001b[34m\u001b[1mtrain: \u001b[0mWARNING ⚠️ /content/Scence-Text-Detection-4/train/images/f3_sk_g3_20_jpg.rf.476af7b0f7038cd61fb2bfdf6abd1873.jpg: ignoring corrupt image/label: Label class 1220 exceeds dataset class count 1. Possible class labels are 0-0\n",
            "\u001b[34m\u001b[1mtrain: \u001b[0mWARNING ⚠️ /content/Scence-Text-Detection-4/train/images/f3_sk_g3_2_jpg.rf.9c6c87f33e38536094e1d427f5d164b6.jpg: ignoring corrupt image/label: Label class 442 exceeds dataset class count 1. Possible class labels are 0-0\n",
            "\u001b[34m\u001b[1mtrain: \u001b[0mWARNING ⚠️ /content/Scence-Text-Detection-4/train/images/f4_kl_g3_13_jpg.rf.b03aadf717ee3058e05226727c5e764e.jpg: ignoring corrupt image/label: Label class 3 exceeds dataset class count 1. Possible class labels are 0-0\n",
            "\u001b[34m\u001b[1mtrain: \u001b[0mWARNING ⚠️ /content/Scence-Text-Detection-4/train/images/f4_kl_g3_14_jpg.rf.5c2f30d3a2db2b206be343da2c3255a9.jpg: ignoring corrupt image/label: Label class 1048 exceeds dataset class count 1. Possible class labels are 0-0\n",
            "\u001b[34m\u001b[1mtrain: \u001b[0mWARNING ⚠️ /content/Scence-Text-Detection-4/train/images/f4_kl_g3_15_jpg.rf.6e72bcfb6afb597e62b8cc973169dce1.jpg: ignoring corrupt image/label: Label class 2 exceeds dataset class count 1. Possible class labels are 0-0\n",
            "\u001b[34m\u001b[1mtrain: \u001b[0mWARNING ⚠️ /content/Scence-Text-Detection-4/train/images/f4_kl_g3_18_jpg.rf.d40e87212b131a1d1bc8e19c041b74b2.jpg: ignoring corrupt image/label: Label class 804 exceeds dataset class count 1. Possible class labels are 0-0\n",
            "\u001b[34m\u001b[1mtrain: \u001b[0mWARNING ⚠️ /content/Scence-Text-Detection-4/train/images/f4_kl_g3_2_jpg.rf.f515ea1aa97ba94793d39c8619ed7ee1.jpg: ignoring corrupt image/label: Label class 841 exceeds dataset class count 1. Possible class labels are 0-0\n",
            "\u001b[34m\u001b[1mtrain: \u001b[0mWARNING ⚠️ /content/Scence-Text-Detection-4/train/images/f4_kl_g3_4_jpg.rf.adf8afa37a8e602e18b4aa4fe0ad71b6.jpg: ignoring corrupt image/label: Label class 2 exceeds dataset class count 1. Possible class labels are 0-0\n",
            "\u001b[34m\u001b[1mtrain: \u001b[0mWARNING ⚠️ /content/Scence-Text-Detection-4/train/images/f4_kl_g3_5_jpg.rf.8a73f907735de8278d53ed18cb33fb5f.jpg: ignoring corrupt image/label: Label class 2009 exceeds dataset class count 1. Possible class labels are 0-0\n",
            "\u001b[34m\u001b[1mtrain: \u001b[0mWARNING ⚠️ /content/Scence-Text-Detection-4/train/images/f4_sk_g3_10_jpg.rf.c1d322382c31bbf3ee05275a8bd514c8.jpg: ignoring corrupt image/label: Label class 1325 exceeds dataset class count 1. Possible class labels are 0-0\n",
            "\u001b[34m\u001b[1mtrain: \u001b[0mWARNING ⚠️ /content/Scence-Text-Detection-4/train/images/f4_sk_g3_11_jpg.rf.253e2a33fa7b278dd3d63380873e9863.jpg: ignoring corrupt image/label: Label class 1457 exceeds dataset class count 1. Possible class labels are 0-0\n",
            "\u001b[34m\u001b[1mtrain: \u001b[0mWARNING ⚠️ /content/Scence-Text-Detection-4/train/images/f4_sk_g3_13_jpg.rf.daeaa87c7b9c9bae8af091544d1d050e.jpg: ignoring corrupt image/label: Label class 732 exceeds dataset class count 1. Possible class labels are 0-0\n",
            "\u001b[34m\u001b[1mtrain: \u001b[0mWARNING ⚠️ /content/Scence-Text-Detection-4/train/images/f4_sk_g3_14_jpg.rf.8433a45d05a7224e73f69e838e48a151.jpg: ignoring corrupt image/label: Label class 1928 exceeds dataset class count 1. Possible class labels are 0-0\n",
            "\u001b[34m\u001b[1mtrain: \u001b[0mWARNING ⚠️ /content/Scence-Text-Detection-4/train/images/f4_sk_g3_19_jpg.rf.9008158a1ef5ba20cba617ce362b296b.jpg: ignoring corrupt image/label: Label class 1389 exceeds dataset class count 1. Possible class labels are 0-0\n",
            "\u001b[34m\u001b[1mtrain: \u001b[0mWARNING ⚠️ /content/Scence-Text-Detection-4/train/images/f4_sk_g3_1_jpg.rf.2232317acfcc52519e20e36c77aaaba9.jpg: ignoring corrupt image/label: Label class 1451 exceeds dataset class count 1. Possible class labels are 0-0\n",
            "\u001b[34m\u001b[1mtrain: \u001b[0mWARNING ⚠️ /content/Scence-Text-Detection-4/train/images/f4_sk_g3_20_jpg.rf.74770b9d3962bd6ced710f4742407e62.jpg: ignoring corrupt image/label: Label class 1673 exceeds dataset class count 1. Possible class labels are 0-0\n",
            "\u001b[34m\u001b[1mtrain: \u001b[0mWARNING ⚠️ /content/Scence-Text-Detection-4/train/images/f4_sk_g3_2_jpg.rf.d33e87f3331dd43d6ae65a7a79f9574e.jpg: ignoring corrupt image/label: Label class 2262 exceeds dataset class count 1. Possible class labels are 0-0\n",
            "\u001b[34m\u001b[1mtrain: \u001b[0mWARNING ⚠️ /content/Scence-Text-Detection-4/train/images/f4_sk_g3_3_jpg.rf.ee540e0545ca976d1a4b91f60851b484.jpg: ignoring corrupt image/label: Label class 1536 exceeds dataset class count 1. Possible class labels are 0-0\n",
            "\u001b[34m\u001b[1mtrain: \u001b[0mWARNING ⚠️ /content/Scence-Text-Detection-4/train/images/f4_sk_g3_4_jpg.rf.9dd3fdcca68ede13f95e5e727cb52710.jpg: ignoring corrupt image/label: Label class 1105 exceeds dataset class count 1. Possible class labels are 0-0\n",
            "\u001b[34m\u001b[1mtrain: \u001b[0mWARNING ⚠️ /content/Scence-Text-Detection-4/train/images/f4_sk_g3_5_jpg.rf.d7ef9b15b59a92fa9a4b234cd3ed7784.jpg: ignoring corrupt image/label: Label class 1316 exceeds dataset class count 1. Possible class labels are 0-0\n",
            "\u001b[34m\u001b[1mtrain: \u001b[0mWARNING ⚠️ /content/Scence-Text-Detection-4/train/images/f4_sk_g3_8_jpg.rf.c3a5b0337c6e7055a8001bd393db8757.jpg: ignoring corrupt image/label: Label class 2 exceeds dataset class count 1. Possible class labels are 0-0\n",
            "\u001b[34m\u001b[1mtrain: \u001b[0mWARNING ⚠️ /content/Scence-Text-Detection-4/train/images/f5_kl_g3_13_jpg.rf.2dcca8af5d35ee8c7bdefd01daff81f3.jpg: ignoring corrupt image/label: Label class 1810 exceeds dataset class count 1. Possible class labels are 0-0\n",
            "\u001b[34m\u001b[1mtrain: \u001b[0mWARNING ⚠️ /content/Scence-Text-Detection-4/train/images/f5_kl_g3_14_jpg.rf.d9acc0dca5705f436a39e0c235c1237a.jpg: ignoring corrupt image/label: Label class 1599 exceeds dataset class count 1. Possible class labels are 0-0\n",
            "\u001b[34m\u001b[1mtrain: \u001b[0mWARNING ⚠️ /content/Scence-Text-Detection-4/train/images/f5_kl_g3_18_jpg.rf.ca25f498de4d3435a583dc37f541cbe8.jpg: ignoring corrupt image/label: Label class 1044 exceeds dataset class count 1. Possible class labels are 0-0\n",
            "\u001b[34m\u001b[1mtrain: \u001b[0mWARNING ⚠️ /content/Scence-Text-Detection-4/train/images/f5_kl_g3_19_jpg.rf.962e0a6aaf403aca3680dd3fdb64e488.jpg: ignoring corrupt image/label: Label class 507 exceeds dataset class count 1. Possible class labels are 0-0\n",
            "\u001b[34m\u001b[1mtrain: \u001b[0mWARNING ⚠️ /content/Scence-Text-Detection-4/train/images/f5_kl_g3_20_jpg.rf.754db4ede93639f4a7798c31aa311f55.jpg: ignoring corrupt image/label: Label class 1667 exceeds dataset class count 1. Possible class labels are 0-0\n",
            "\u001b[34m\u001b[1mtrain: \u001b[0mWARNING ⚠️ /content/Scence-Text-Detection-4/train/images/f5_kl_g3_3_jpg.rf.b4e1832c951b2c0cc16e58de8fdc01f9.jpg: ignoring corrupt image/label: Label class 863 exceeds dataset class count 1. Possible class labels are 0-0\n",
            "\u001b[34m\u001b[1mtrain: \u001b[0mWARNING ⚠️ /content/Scence-Text-Detection-4/train/images/f5_kl_g3_4_jpg.rf.4ba32dacc7b9b77ec672259323e9aaa7.jpg: ignoring corrupt image/label: Label class 1999 exceeds dataset class count 1. Possible class labels are 0-0\n",
            "\u001b[34m\u001b[1mtrain: \u001b[0mWARNING ⚠️ /content/Scence-Text-Detection-4/train/images/f5_kl_g3_5_jpg.rf.8b37a04077759f3b03a86ea201e5b0d7.jpg: ignoring corrupt image/label: Label class 1133 exceeds dataset class count 1. Possible class labels are 0-0\n",
            "\u001b[34m\u001b[1mtrain: \u001b[0mWARNING ⚠️ /content/Scence-Text-Detection-4/train/images/f5_kl_g3_6_jpg.rf.17a60a8b8374704b8cae8fdb0a4531d4.jpg: ignoring corrupt image/label: Label class 3 exceeds dataset class count 1. Possible class labels are 0-0\n",
            "\u001b[34m\u001b[1mtrain: \u001b[0mWARNING ⚠️ /content/Scence-Text-Detection-4/train/images/f5_kl_g3_7_jpg.rf.e21c05198376067b8f5595c552ad85e6.jpg: ignoring corrupt image/label: Label class 2 exceeds dataset class count 1. Possible class labels are 0-0\n",
            "\u001b[34m\u001b[1mtrain: \u001b[0mWARNING ⚠️ /content/Scence-Text-Detection-4/train/images/f5_kl_g3_8_jpg.rf.bc0f7ceceebf8e6654b5fe81e355c1c2.jpg: ignoring corrupt image/label: Label class 1759 exceeds dataset class count 1. Possible class labels are 0-0\n",
            "\u001b[34m\u001b[1mtrain: \u001b[0mWARNING ⚠️ /content/Scence-Text-Detection-4/train/images/f5_sk_g3_17_jpg.rf.da346a8ed5c4e7d30d4f443367d80c15.jpg: ignoring corrupt image/label: Label class 2231 exceeds dataset class count 1. Possible class labels are 0-0\n",
            "\u001b[34m\u001b[1mtrain: \u001b[0mWARNING ⚠️ /content/Scence-Text-Detection-4/train/images/f5_sk_g3_18_jpg.rf.7c08face424917a96950d39d205517b4.jpg: ignoring corrupt image/label: Label class 1770 exceeds dataset class count 1. Possible class labels are 0-0\n",
            "\u001b[34m\u001b[1mtrain: \u001b[0mWARNING ⚠️ /content/Scence-Text-Detection-4/train/images/f5_sk_g3_19_jpg.rf.d275526ce89dc2f9d5df053db8535202.jpg: ignoring corrupt image/label: Label class 1503 exceeds dataset class count 1. Possible class labels are 0-0\n",
            "\u001b[34m\u001b[1mtrain: \u001b[0mWARNING ⚠️ /content/Scence-Text-Detection-4/train/images/f5_sk_g3_1_jpg.rf.dd4148095cd2ba77fd95965f26b8128c.jpg: ignoring corrupt image/label: Label class 1525 exceeds dataset class count 1. Possible class labels are 0-0\n",
            "\u001b[34m\u001b[1mtrain: \u001b[0mWARNING ⚠️ /content/Scence-Text-Detection-4/train/images/f5_sk_g3_20_jpg.rf.3d5e0f1716092c129217cb4777805c5b.jpg: ignoring corrupt image/label: Label class 1271 exceeds dataset class count 1. Possible class labels are 0-0\n",
            "\u001b[34m\u001b[1mtrain: \u001b[0mWARNING ⚠️ /content/Scence-Text-Detection-4/train/images/f5_sk_g3_2_jpg.rf.dd57aa50c0233d552683155aa61bb67f.jpg: ignoring corrupt image/label: Label class 1648 exceeds dataset class count 1. Possible class labels are 0-0\n",
            "\u001b[34m\u001b[1mtrain: \u001b[0mWARNING ⚠️ /content/Scence-Text-Detection-4/train/images/f5_sk_g3_3_jpg.rf.0524d36e88a5d1c9f55588e2aca5c28d.jpg: ignoring corrupt image/label: Label class 2 exceeds dataset class count 1. Possible class labels are 0-0\n",
            "\u001b[34m\u001b[1mtrain: \u001b[0mWARNING ⚠️ /content/Scence-Text-Detection-4/train/images/f5_sk_g3_4_jpg.rf.7e73ae5806ec0b5b4f011b73e65713f1.jpg: ignoring corrupt image/label: Label class 1524 exceeds dataset class count 1. Possible class labels are 0-0\n",
            "\u001b[34m\u001b[1mtrain: \u001b[0mWARNING ⚠️ /content/Scence-Text-Detection-4/train/images/f5_sk_g3_5_jpg.rf.14452aeecbc7737f0904abb22ec24ed8.jpg: ignoring corrupt image/label: Label class 1497 exceeds dataset class count 1. Possible class labels are 0-0\n",
            "\u001b[34m\u001b[1mtrain: \u001b[0mWARNING ⚠️ /content/Scence-Text-Detection-4/train/images/f5_sk_g3_6_jpg.rf.1777e740dad04964dce5a1fa8a262041.jpg: ignoring corrupt image/label: Label class 1951 exceeds dataset class count 1. Possible class labels are 0-0\n",
            "\u001b[34m\u001b[1mtrain: \u001b[0mWARNING ⚠️ /content/Scence-Text-Detection-4/train/images/f5_sk_g3_7_jpg.rf.1a033ac47d502966b2860ff7dcb207ba.jpg: ignoring corrupt image/label: Label class 876 exceeds dataset class count 1. Possible class labels are 0-0\n",
            "\u001b[34m\u001b[1mtrain: \u001b[0mWARNING ⚠️ /content/Scence-Text-Detection-4/train/images/f5_sr_g3_5_jpeg.rf.26d406149190a52f5ffca2f014fd9972.jpg: ignoring corrupt image/label: Label class 2282 exceeds dataset class count 1. Possible class labels are 0-0\n",
            "\u001b[34m\u001b[1mtrain: \u001b[0mWARNING ⚠️ /content/Scence-Text-Detection-4/train/images/f6_kl_g3_15_jpg.rf.b78eae49f16dee8f8caa5aeadff77a7a.jpg: ignoring corrupt image/label: Label class 1999 exceeds dataset class count 1. Possible class labels are 0-0\n",
            "\u001b[34m\u001b[1mtrain: \u001b[0mWARNING ⚠️ /content/Scence-Text-Detection-4/train/images/f6_kl_g3_18_jpg.rf.f573ad88d33908e4243d2e0f60a973f2.jpg: ignoring corrupt image/label: Label class 2 exceeds dataset class count 1. Possible class labels are 0-0\n",
            "\u001b[34m\u001b[1mtrain: \u001b[0mWARNING ⚠️ /content/Scence-Text-Detection-4/train/images/f6_kl_g3_19_jpg.rf.d280c3129c57d39ff0982c1b1a265cfe.jpg: ignoring corrupt image/label: Label class 1167 exceeds dataset class count 1. Possible class labels are 0-0\n",
            "\u001b[34m\u001b[1mtrain: \u001b[0mWARNING ⚠️ /content/Scence-Text-Detection-4/train/images/f6_kl_g3_1_jpg.rf.1e2b426e1f9453bb9f343185354c5721.jpg: ignoring corrupt image/label: Label class 192 exceeds dataset class count 1. Possible class labels are 0-0\n",
            "\u001b[34m\u001b[1mtrain: \u001b[0mWARNING ⚠️ /content/Scence-Text-Detection-4/train/images/f6_kl_g3_6_jpg.rf.9866688067e737a3a5badc814a6115fc.jpg: ignoring corrupt image/label: Label class 2055 exceeds dataset class count 1. Possible class labels are 0-0\n",
            "\u001b[34m\u001b[1mtrain: \u001b[0mWARNING ⚠️ /content/Scence-Text-Detection-4/train/images/f6_kl_g3_9_jpg.rf.8317e7ce6d4803d2aee52608c0e762bc.jpg: ignoring corrupt image/label: Label class 1829 exceeds dataset class count 1. Possible class labels are 0-0\n",
            "\u001b[34m\u001b[1mtrain: \u001b[0mWARNING ⚠️ /content/Scence-Text-Detection-4/train/images/f6_sk_g3_11_jpg.rf.1bba15d8b91d9dae5ec8238cf0560e66.jpg: ignoring corrupt image/label: Label class 2 exceeds dataset class count 1. Possible class labels are 0-0\n",
            "\u001b[34m\u001b[1mtrain: \u001b[0mWARNING ⚠️ /content/Scence-Text-Detection-4/train/images/f6_sk_g3_15_jpg.rf.84b5ad4ed61a6632174477ecb7456f4f.jpg: ignoring corrupt image/label: Label class 1081 exceeds dataset class count 1. Possible class labels are 0-0\n",
            "\u001b[34m\u001b[1mtrain: \u001b[0mWARNING ⚠️ /content/Scence-Text-Detection-4/train/images/f6_sk_g3_16_jpg.rf.69588812abac6214249cf209eb66c1f8.jpg: ignoring corrupt image/label: Label class 1516 exceeds dataset class count 1. Possible class labels are 0-0\n",
            "\u001b[34m\u001b[1mtrain: \u001b[0mWARNING ⚠️ /content/Scence-Text-Detection-4/train/images/f6_sk_g3_17_jpg.rf.69a61a8c375e1eea065174e146053a8e.jpg: ignoring corrupt image/label: Label class 132 exceeds dataset class count 1. Possible class labels are 0-0\n",
            "\u001b[34m\u001b[1mtrain: \u001b[0mWARNING ⚠️ /content/Scence-Text-Detection-4/train/images/f6_sk_g3_1_jpg.rf.7a5fac0818ad27b00c1ff9d638e1e75d.jpg: ignoring corrupt image/label: Label class 2080 exceeds dataset class count 1. Possible class labels are 0-0\n",
            "\u001b[34m\u001b[1mtrain: \u001b[0mWARNING ⚠️ /content/Scence-Text-Detection-4/train/images/f6_sk_g3_2_jpg.rf.5f5aecd2b28f429a6a30ce6fdd46c836.jpg: ignoring corrupt image/label: Label class 1856 exceeds dataset class count 1. Possible class labels are 0-0\n",
            "\u001b[34m\u001b[1mtrain: \u001b[0mWARNING ⚠️ /content/Scence-Text-Detection-4/train/images/f6_sk_g3_3_jpg.rf.0092fc5ba8b324018b7d53bc5c3c7cc1.jpg: ignoring corrupt image/label: Label class 1606 exceeds dataset class count 1. Possible class labels are 0-0\n",
            "\u001b[34m\u001b[1mtrain: \u001b[0mWARNING ⚠️ /content/Scence-Text-Detection-4/train/images/f6_sk_g3_7_jpg.rf.2cf50da6241cc2e0e09ce9b897e70063.jpg: ignoring corrupt image/label: Label class 1054 exceeds dataset class count 1. Possible class labels are 0-0\n",
            "\u001b[34m\u001b[1mtrain: \u001b[0mWARNING ⚠️ /content/Scence-Text-Detection-4/train/images/f6_sk_g3_8_jpg.rf.3647fa72fd394fbe3aac9bf947ce8be1.jpg: ignoring corrupt image/label: Label class 1106 exceeds dataset class count 1. Possible class labels are 0-0\n",
            "\u001b[34m\u001b[1mtrain: \u001b[0mWARNING ⚠️ /content/Scence-Text-Detection-4/train/images/f6_sr_g3_10_jpeg.rf.84ac123c7c74ea478151da7e420482bd.jpg: ignoring corrupt image/label: Label class 1876 exceeds dataset class count 1. Possible class labels are 0-0\n",
            "\u001b[34m\u001b[1mtrain: \u001b[0mWARNING ⚠️ /content/Scence-Text-Detection-4/train/images/f6_sr_g3_20_jpeg.rf.0fd1b519735dfa0456c9556a6bcbe5da.jpg: ignoring corrupt image/label: Label class 2199 exceeds dataset class count 1. Possible class labels are 0-0\n",
            "\u001b[34m\u001b[1mtrain: \u001b[0mWARNING ⚠️ /content/Scence-Text-Detection-4/train/images/f7_kl_g3_11_jpg.rf.89169e8a3e7adbf689bbfec3f444369a.jpg: ignoring corrupt image/label: Label class 301 exceeds dataset class count 1. Possible class labels are 0-0\n",
            "\u001b[34m\u001b[1mtrain: \u001b[0mWARNING ⚠️ /content/Scence-Text-Detection-4/train/images/f7_kl_g3_14_jpg.rf.2711f29ef49e9f8a13b0ccf2735b96f6.jpg: ignoring corrupt image/label: Label class 1923 exceeds dataset class count 1. Possible class labels are 0-0\n",
            "\u001b[34m\u001b[1mtrain: \u001b[0mWARNING ⚠️ /content/Scence-Text-Detection-4/train/images/f7_kl_g3_15_jpg.rf.3b86eac3354d819579920daadb54962f.jpg: ignoring corrupt image/label: Label class 2 exceeds dataset class count 1. Possible class labels are 0-0\n",
            "\u001b[34m\u001b[1mtrain: \u001b[0mWARNING ⚠️ /content/Scence-Text-Detection-4/train/images/f7_kl_g3_2_jpg.rf.98ccfed8fd092b9e94e7aa94d9671d3b.jpg: ignoring corrupt image/label: Label class 2117 exceeds dataset class count 1. Possible class labels are 0-0\n",
            "\u001b[34m\u001b[1mtrain: \u001b[0mWARNING ⚠️ /content/Scence-Text-Detection-4/train/images/f7_kl_g3_3_jpg.rf.b9432494469943c6ff3b7428e3252b81.jpg: ignoring corrupt image/label: Label class 1934 exceeds dataset class count 1. Possible class labels are 0-0\n",
            "\u001b[34m\u001b[1mtrain: \u001b[0mWARNING ⚠️ /content/Scence-Text-Detection-4/train/images/f7_kl_g3_4_jpg.rf.27ff30f814c1e474f15a97d16cade603.jpg: ignoring corrupt image/label: Label class 225 exceeds dataset class count 1. Possible class labels are 0-0\n",
            "\u001b[34m\u001b[1mtrain: \u001b[0mWARNING ⚠️ /content/Scence-Text-Detection-4/train/images/f7_sk_g3_19_jpg.rf.b4c2d59e17713600135095f5b37f0561.jpg: ignoring corrupt image/label: Label class 2 exceeds dataset class count 1. Possible class labels are 0-0\n",
            "\u001b[34m\u001b[1mtrain: \u001b[0mWARNING ⚠️ /content/Scence-Text-Detection-4/train/images/f7_sk_g3_1_jpg.rf.b700567546ae02ad30310b6d6ec3a126.jpg: ignoring corrupt image/label: Label class 1641 exceeds dataset class count 1. Possible class labels are 0-0\n",
            "\u001b[34m\u001b[1mtrain: \u001b[0mWARNING ⚠️ /content/Scence-Text-Detection-4/train/images/f7_sk_g3_20_jpg.rf.f92838576d2e012bd1c0a7e22230eaad.jpg: ignoring corrupt image/label: Label class 2159 exceeds dataset class count 1. Possible class labels are 0-0\n",
            "\u001b[34m\u001b[1mtrain: \u001b[0mWARNING ⚠️ /content/Scence-Text-Detection-4/train/images/f7_sk_g3_2_jpg.rf.bd475786564f7985ab6e1eee49538e69.jpg: ignoring corrupt image/label: Label class 1280 exceeds dataset class count 1. Possible class labels are 0-0\n",
            "\u001b[34m\u001b[1mtrain: \u001b[0mWARNING ⚠️ /content/Scence-Text-Detection-4/train/images/f7_sk_g3_6_jpg.rf.c81cb7c8f63999dfdc7e6b7e16844ddf.jpg: ignoring corrupt image/label: Label class 373 exceeds dataset class count 1. Possible class labels are 0-0\n",
            "\u001b[34m\u001b[1mtrain: \u001b[0mWARNING ⚠️ /content/Scence-Text-Detection-4/train/images/f7_sk_g3_7_jpg.rf.fe464f9415d2d90d58f581d213e1bf9b.jpg: ignoring corrupt image/label: Label class 790 exceeds dataset class count 1. Possible class labels are 0-0\n",
            "\u001b[34m\u001b[1mtrain: \u001b[0mWARNING ⚠️ /content/Scence-Text-Detection-4/train/images/f7_sr_g3_4_jpeg.rf.e5c68c85708c32671b5ab95e43feb387.jpg: ignoring corrupt image/label: Label class 1648 exceeds dataset class count 1. Possible class labels are 0-0\n",
            "\u001b[34m\u001b[1mtrain: \u001b[0mWARNING ⚠️ /content/Scence-Text-Detection-4/train/images/f8_kl_g3_10_jpg.rf.459bf214f1fc181a0e3cfe804c3ed2e4.jpg: ignoring corrupt image/label: Label class 7 exceeds dataset class count 1. Possible class labels are 0-0\n",
            "\u001b[34m\u001b[1mtrain: \u001b[0mWARNING ⚠️ /content/Scence-Text-Detection-4/train/images/f8_kl_g3_13_jpg.rf.b3b6c0d82feda1916182515c71d33306.jpg: ignoring corrupt image/label: Label class 3 exceeds dataset class count 1. Possible class labels are 0-0\n",
            "\u001b[34m\u001b[1mtrain: \u001b[0mWARNING ⚠️ /content/Scence-Text-Detection-4/train/images/f8_kl_g3_17_jpg.rf.a586f4384f6cdf4e3bd3c0fe935b6615.jpg: ignoring corrupt image/label: Label class 1310 exceeds dataset class count 1. Possible class labels are 0-0\n",
            "\u001b[34m\u001b[1mtrain: \u001b[0mWARNING ⚠️ /content/Scence-Text-Detection-4/train/images/f8_kl_g3_18_jpg.rf.b8690505d3c12ac152a54b3893233b78.jpg: ignoring corrupt image/label: Label class 1554 exceeds dataset class count 1. Possible class labels are 0-0\n",
            "\u001b[34m\u001b[1mtrain: \u001b[0mWARNING ⚠️ /content/Scence-Text-Detection-4/train/images/f8_kl_g3_19_jpg.rf.2d9dee0bfd4db29685b52f11c9fb52c5.jpg: ignoring corrupt image/label: Label class 49 exceeds dataset class count 1. Possible class labels are 0-0\n",
            "\u001b[34m\u001b[1mtrain: \u001b[0mWARNING ⚠️ /content/Scence-Text-Detection-4/train/images/f8_kl_g3_20_jpg.rf.3cf746b7c9ba4d11443e4a63055ee703.jpg: ignoring corrupt image/label: Label class 2247 exceeds dataset class count 1. Possible class labels are 0-0\n",
            "\u001b[34m\u001b[1mtrain: \u001b[0mWARNING ⚠️ /content/Scence-Text-Detection-4/train/images/f8_kl_g3_2_jpg.rf.0e56ef472272dd13afafd1f9571022ba.jpg: ignoring corrupt image/label: Label class 1385 exceeds dataset class count 1. Possible class labels are 0-0\n",
            "\u001b[34m\u001b[1mtrain: \u001b[0mWARNING ⚠️ /content/Scence-Text-Detection-4/train/images/f8_kl_g3_5_jpg.rf.faefb81210daf75e8f210d57471761b8.jpg: ignoring corrupt image/label: Label class 2282 exceeds dataset class count 1. Possible class labels are 0-0\n",
            "\u001b[34m\u001b[1mtrain: \u001b[0mWARNING ⚠️ /content/Scence-Text-Detection-4/train/images/f8_kl_g3_6_jpg.rf.b820ab10eb235ae7d2a6fe0d1ccecda3.jpg: ignoring corrupt image/label: Label class 110 exceeds dataset class count 1. Possible class labels are 0-0\n",
            "\u001b[34m\u001b[1mtrain: \u001b[0mWARNING ⚠️ /content/Scence-Text-Detection-4/train/images/f8_kl_g3_9_jpg.rf.1c6e53b9cbddc5b946ba2e00d46fd1a3.jpg: ignoring corrupt image/label: Label class 760 exceeds dataset class count 1. Possible class labels are 0-0\n",
            "\u001b[34m\u001b[1mtrain: \u001b[0mWARNING ⚠️ /content/Scence-Text-Detection-4/train/images/f8_sk_g3_1_jpg.rf.4ba8b74ad3a2bc5ce0db60d19b86c8f2.jpg: ignoring corrupt image/label: Label class 2 exceeds dataset class count 1. Possible class labels are 0-0\n",
            "\u001b[34m\u001b[1mtrain: \u001b[0mWARNING ⚠️ /content/Scence-Text-Detection-4/train/images/f8_sk_g3_2_jpg.rf.86056cb18a3d887259d5e5f86b00d27c.jpg: ignoring corrupt image/label: Label class 2 exceeds dataset class count 1. Possible class labels are 0-0\n",
            "\u001b[34m\u001b[1mtrain: \u001b[0mWARNING ⚠️ /content/Scence-Text-Detection-4/train/images/f8_sk_g3_6_jpg.rf.0ce27c2ab9191abc143fffcc2e99095c.jpg: ignoring corrupt image/label: Label class 1947 exceeds dataset class count 1. Possible class labels are 0-0\n",
            "\u001b[34m\u001b[1mtrain: \u001b[0mWARNING ⚠️ /content/Scence-Text-Detection-4/train/images/f8_sk_g3_7_jpg.rf.7a55460b1c3b6b9bcbaa2980907607db.jpg: ignoring corrupt image/label: Label class 2 exceeds dataset class count 1. Possible class labels are 0-0\n",
            "\u001b[34m\u001b[1mtrain: \u001b[0mWARNING ⚠️ /content/Scence-Text-Detection-4/train/images/f9_kl_g3_14_jpg.rf.572dfeeef087ca4235dc87748fb94a02.jpg: ignoring corrupt image/label: Label class 952 exceeds dataset class count 1. Possible class labels are 0-0\n",
            "\u001b[34m\u001b[1mtrain: \u001b[0mWARNING ⚠️ /content/Scence-Text-Detection-4/train/images/f9_kl_g3_15_jpg.rf.6bc2d1a63c92bef2f677946b4949fc5e.jpg: ignoring corrupt image/label: Label class 2184 exceeds dataset class count 1. Possible class labels are 0-0\n",
            "\u001b[34m\u001b[1mtrain: \u001b[0mWARNING ⚠️ /content/Scence-Text-Detection-4/train/images/f9_kl_g3_16_jpg.rf.bb5fda94513655c060def3eda162051e.jpg: ignoring corrupt image/label: Label class 2069 exceeds dataset class count 1. Possible class labels are 0-0\n",
            "\u001b[34m\u001b[1mtrain: \u001b[0mWARNING ⚠️ /content/Scence-Text-Detection-4/train/images/f9_kl_g3_19_jpg.rf.0271876a319ba741350db74d68b423f0.jpg: ignoring corrupt image/label: Label class 93 exceeds dataset class count 1. Possible class labels are 0-0\n",
            "\u001b[34m\u001b[1mtrain: \u001b[0mWARNING ⚠️ /content/Scence-Text-Detection-4/train/images/f9_kl_g3_20_jpg.rf.d6fcf1de439b76e522100fd4fbab80b1.jpg: ignoring corrupt image/label: Label class 1858 exceeds dataset class count 1. Possible class labels are 0-0\n",
            "\u001b[34m\u001b[1mtrain: \u001b[0mWARNING ⚠️ /content/Scence-Text-Detection-4/train/images/f9_kl_g3_2_jpg.rf.b0730819047c8a1742417df7175e9d58.jpg: ignoring corrupt image/label: Label class 2 exceeds dataset class count 1. Possible class labels are 0-0\n",
            "\u001b[34m\u001b[1mtrain: \u001b[0mWARNING ⚠️ /content/Scence-Text-Detection-4/train/images/f9_kl_g3_4_jpg.rf.5a24d8b13b412c21a8efd19288fcee60.jpg: ignoring corrupt image/label: Label class 2069 exceeds dataset class count 1. Possible class labels are 0-0\n",
            "\u001b[34m\u001b[1mtrain: \u001b[0mWARNING ⚠️ /content/Scence-Text-Detection-4/train/images/f9_kl_g3_5_jpg.rf.3df18ca17afaa4d906b90f1c1fe447a6.jpg: ignoring corrupt image/label: Label class 1380 exceeds dataset class count 1. Possible class labels are 0-0\n",
            "\u001b[34m\u001b[1mtrain: \u001b[0mWARNING ⚠️ /content/Scence-Text-Detection-4/train/images/f9_kl_g3_8_jpg.rf.656d06d37def23e32ba0f69ca3a186f1.jpg: ignoring corrupt image/label: Label class 2084 exceeds dataset class count 1. Possible class labels are 0-0\n",
            "\u001b[34m\u001b[1mtrain: \u001b[0mWARNING ⚠️ /content/Scence-Text-Detection-4/train/images/f9_kl_g3_9_jpg.rf.23292bd755a7ae42709ca0f169e9c016.jpg: ignoring corrupt image/label: Label class 847 exceeds dataset class count 1. Possible class labels are 0-0\n",
            "\u001b[34m\u001b[1mtrain: \u001b[0mWARNING ⚠️ /content/Scence-Text-Detection-4/train/images/f9_sk_g3_1_jpg.rf.24fbd1bd478c779994e63118c56d88f0.jpg: ignoring corrupt image/label: Label class 1815 exceeds dataset class count 1. Possible class labels are 0-0\n",
            "\u001b[34m\u001b[1mtrain: \u001b[0mWARNING ⚠️ /content/Scence-Text-Detection-4/train/images/f9_sk_g3_3_jpg.rf.691f308ee1d27b8bcee0977d155b0ce0.jpg: ignoring corrupt image/label: Label class 706 exceeds dataset class count 1. Possible class labels are 0-0\n",
            "\u001b[34m\u001b[1mtrain: \u001b[0mWARNING ⚠️ /content/Scence-Text-Detection-4/train/images/f9_sk_g3_5_jpg.rf.f2197cad2d3637445526be858018d66e.jpg: ignoring corrupt image/label: Label class 4 exceeds dataset class count 1. Possible class labels are 0-0\n",
            "\u001b[34m\u001b[1mtrain: \u001b[0mWARNING ⚠️ /content/Scence-Text-Detection-4/train/images/f9_sr_g3_4_jpeg.rf.dad6ef1093eb864a29eed449f8f11a24.jpg: ignoring corrupt image/label: Label class 2282 exceeds dataset class count 1. Possible class labels are 0-0\n",
            "\u001b[34m\u001b[1mtrain: \u001b[0mWARNING ⚠️ /content/Scence-Text-Detection-4/train/images/img10_ls_g3_11_jpg.rf.94cc48c649e729d916e0fc57c4bb6b51.jpg: ignoring corrupt image/label: Label class 1396 exceeds dataset class count 1. Possible class labels are 0-0\n",
            "\u001b[34m\u001b[1mtrain: \u001b[0mWARNING ⚠️ /content/Scence-Text-Detection-4/train/images/img10_ls_g3_12_jpg.rf.98c693dccf052fa40d211fc1aeb46f8c.jpg: ignoring corrupt image/label: Label class 56 exceeds dataset class count 1. Possible class labels are 0-0\n",
            "\u001b[34m\u001b[1mtrain: \u001b[0mWARNING ⚠️ /content/Scence-Text-Detection-4/train/images/img10_ls_g3_17_jpg.rf.d0db7d416de9d3e6437c2cc391313af4.jpg: ignoring corrupt image/label: Label class 2236 exceeds dataset class count 1. Possible class labels are 0-0\n",
            "\u001b[34m\u001b[1mtrain: \u001b[0mWARNING ⚠️ /content/Scence-Text-Detection-4/train/images/img10_ls_g3_1_jpg.rf.5103feb9db923e85384367581238217b.jpg: ignoring corrupt image/label: Label class 1326 exceeds dataset class count 1. Possible class labels are 0-0\n",
            "\u001b[34m\u001b[1mtrain: \u001b[0mWARNING ⚠️ /content/Scence-Text-Detection-4/train/images/img10_ls_g3_20_jpg.rf.c2054ff7f8caeb344d1cef14922508b7.jpg: ignoring corrupt image/label: Label class 789 exceeds dataset class count 1. Possible class labels are 0-0\n",
            "\u001b[34m\u001b[1mtrain: \u001b[0mWARNING ⚠️ /content/Scence-Text-Detection-4/train/images/img10_ls_g3_3_jpg.rf.99102cb8c806c77decc74bc168dd8a42.jpg: ignoring corrupt image/label: Label class 2 exceeds dataset class count 1. Possible class labels are 0-0\n",
            "\u001b[34m\u001b[1mtrain: \u001b[0mWARNING ⚠️ /content/Scence-Text-Detection-4/train/images/img10_ls_g3_4_jpg.rf.651b2b882c4a4034c52493990e71c8a9.jpg: ignoring corrupt image/label: Label class 545 exceeds dataset class count 1. Possible class labels are 0-0\n",
            "\u001b[34m\u001b[1mtrain: \u001b[0mWARNING ⚠️ /content/Scence-Text-Detection-4/train/images/img10_ls_g3_5_jpg.rf.f84cf2a5b885de14a1d285cadea78a83.jpg: ignoring corrupt image/label: Label class 2 exceeds dataset class count 1. Possible class labels are 0-0\n",
            "\u001b[34m\u001b[1mtrain: \u001b[0mWARNING ⚠️ /content/Scence-Text-Detection-4/train/images/img10_ls_g3_7_jpg.rf.f6464b5d436715bca2c107cc4b660aed.jpg: ignoring corrupt image/label: Label class 549 exceeds dataset class count 1. Possible class labels are 0-0\n",
            "\u001b[34m\u001b[1mtrain: \u001b[0mWARNING ⚠️ /content/Scence-Text-Detection-4/train/images/img10_ls_g3_8_jpg.rf.cd8607933966523f4e548a36cb26933b.jpg: ignoring corrupt image/label: Label class 2179 exceeds dataset class count 1. Possible class labels are 0-0\n",
            "\u001b[34m\u001b[1mtrain: \u001b[0mWARNING ⚠️ /content/Scence-Text-Detection-4/train/images/img11_ls_g3_11_jpg.rf.974f37965fd6a93e47b3872944d4afb7.jpg: ignoring corrupt image/label: Label class 2063 exceeds dataset class count 1. Possible class labels are 0-0\n",
            "\u001b[34m\u001b[1mtrain: \u001b[0mWARNING ⚠️ /content/Scence-Text-Detection-4/train/images/img11_ls_g3_12_jpg.rf.982fb6040f6d86826daf84feb3d8dd6a.jpg: ignoring corrupt image/label: Label class 2213 exceeds dataset class count 1. Possible class labels are 0-0\n",
            "\u001b[34m\u001b[1mtrain: \u001b[0mWARNING ⚠️ /content/Scence-Text-Detection-4/train/images/img11_ls_g3_13_jpg.rf.514a3e3317cdfa6db479decfafdf3e2a.jpg: ignoring corrupt image/label: Label class 2282 exceeds dataset class count 1. Possible class labels are 0-0\n",
            "\u001b[34m\u001b[1mtrain: \u001b[0mWARNING ⚠️ /content/Scence-Text-Detection-4/train/images/img11_ls_g3_16_jpg.rf.3fc0303f8cb6c238c5be6323d4390917.jpg: ignoring corrupt image/label: Label class 2046 exceeds dataset class count 1. Possible class labels are 0-0\n",
            "\u001b[34m\u001b[1mtrain: \u001b[0mWARNING ⚠️ /content/Scence-Text-Detection-4/train/images/img11_ls_g3_2_jpg.rf.9debd59f8aabc19dcbb02485b2987f71.jpg: ignoring corrupt image/label: Label class 2260 exceeds dataset class count 1. Possible class labels are 0-0\n",
            "\u001b[34m\u001b[1mtrain: \u001b[0mWARNING ⚠️ /content/Scence-Text-Detection-4/train/images/img11_ls_g3_4_jpg.rf.967833ee85089b02ae3158aa04b6f5b5.jpg: ignoring corrupt image/label: Label class 2079 exceeds dataset class count 1. Possible class labels are 0-0\n",
            "\u001b[34m\u001b[1mtrain: \u001b[0mWARNING ⚠️ /content/Scence-Text-Detection-4/train/images/img11_ls_g3_5_jpg.rf.6ee3834524da229bab9731854425a9f3.jpg: ignoring corrupt image/label: Label class 2282 exceeds dataset class count 1. Possible class labels are 0-0\n",
            "\u001b[34m\u001b[1mtrain: \u001b[0mWARNING ⚠️ /content/Scence-Text-Detection-4/train/images/img11_ls_g3_6_jpg.rf.4988a7e022c6200a2840dea376c68686.jpg: ignoring corrupt image/label: Label class 926 exceeds dataset class count 1. Possible class labels are 0-0\n",
            "\u001b[34m\u001b[1mtrain: \u001b[0mWARNING ⚠️ /content/Scence-Text-Detection-4/train/images/img12_ls_g3_11_jpg.rf.855682fff4b3e96a009c90ad7bb52e43.jpg: ignoring corrupt image/label: Label class 1877 exceeds dataset class count 1. Possible class labels are 0-0\n",
            "\u001b[34m\u001b[1mtrain: \u001b[0mWARNING ⚠️ /content/Scence-Text-Detection-4/train/images/img12_ls_g3_17_jpg.rf.81f0e2a4f7a970c0a50af687047e1a9c.jpg: ignoring corrupt image/label: Label class 2 exceeds dataset class count 1. Possible class labels are 0-0\n",
            "\u001b[34m\u001b[1mtrain: \u001b[0mWARNING ⚠️ /content/Scence-Text-Detection-4/train/images/img12_ls_g3_18_jpg.rf.5c3fc39f5cd75dd51d1f5cd685825897.jpg: ignoring corrupt image/label: Label class 1751 exceeds dataset class count 1. Possible class labels are 0-0\n",
            "\u001b[34m\u001b[1mtrain: \u001b[0mWARNING ⚠️ /content/Scence-Text-Detection-4/train/images/img12_ls_g3_19_jpg.rf.b341cbc48613991d46ba55c0384facce.jpg: ignoring corrupt image/label: Label class 96 exceeds dataset class count 1. Possible class labels are 0-0\n",
            "\u001b[34m\u001b[1mtrain: \u001b[0mWARNING ⚠️ /content/Scence-Text-Detection-4/train/images/img12_ls_g3_5_jpg.rf.8483f21df212c63800738282a61c2408.jpg: ignoring corrupt image/label: Label class 1837 exceeds dataset class count 1. Possible class labels are 0-0\n",
            "\u001b[34m\u001b[1mtrain: \u001b[0mWARNING ⚠️ /content/Scence-Text-Detection-4/train/images/img12_ls_g3_7_jpg.rf.b1ef77f2e20cfdb1ae0464da0c5b3a46.jpg: ignoring corrupt image/label: Label class 2 exceeds dataset class count 1. Possible class labels are 0-0\n",
            "\u001b[34m\u001b[1mtrain: \u001b[0mWARNING ⚠️ /content/Scence-Text-Detection-4/train/images/img12_ls_g3_8_jpg.rf.684dfbdd4a429229019cb575a902ce6b.jpg: ignoring corrupt image/label: Label class 2 exceeds dataset class count 1. Possible class labels are 0-0\n",
            "\u001b[34m\u001b[1mtrain: \u001b[0mWARNING ⚠️ /content/Scence-Text-Detection-4/train/images/img13_ls_g3_5_jpg.rf.ef7a603a0c38603949f6eaa2654f6a21.jpg: ignoring corrupt image/label: Label class 2 exceeds dataset class count 1. Possible class labels are 0-0\n",
            "\u001b[34m\u001b[1mtrain: \u001b[0mWARNING ⚠️ /content/Scence-Text-Detection-4/train/images/img13_ls_g3_8_jpg.rf.4c8ac300d55923154aabc61ace6043e8.jpg: ignoring corrupt image/label: Label class 1666 exceeds dataset class count 1. Possible class labels are 0-0\n",
            "\u001b[34m\u001b[1mtrain: \u001b[0mWARNING ⚠️ /content/Scence-Text-Detection-4/train/images/img14_ls_g3_15_jpg.rf.cdbe12d68708d28d6874a00d83c05d91.jpg: ignoring corrupt image/label: Label class 1560 exceeds dataset class count 1. Possible class labels are 0-0\n",
            "\u001b[34m\u001b[1mtrain: \u001b[0mWARNING ⚠️ /content/Scence-Text-Detection-4/train/images/img14_ls_g3_17_jpg.rf.583fabe43da08eb57e46bc854d3ea4ee.jpg: ignoring corrupt image/label: Label class 3 exceeds dataset class count 1. Possible class labels are 0-0\n",
            "\u001b[34m\u001b[1mtrain: \u001b[0mWARNING ⚠️ /content/Scence-Text-Detection-4/train/images/img15_ls_g3_12_jpg.rf.b5b9a7270471b2c0edce6b9a7aeaef8d.jpg: ignoring corrupt image/label: Label class 3 exceeds dataset class count 1. Possible class labels are 0-0\n",
            "\u001b[34m\u001b[1mtrain: \u001b[0mWARNING ⚠️ /content/Scence-Text-Detection-4/train/images/img15_ls_g3_15_jpg.rf.c37889fc520ed54538dbdff4e23f7520.jpg: ignoring corrupt image/label: Label class 4 exceeds dataset class count 1. Possible class labels are 0-0\n",
            "\u001b[34m\u001b[1mtrain: \u001b[0mWARNING ⚠️ /content/Scence-Text-Detection-4/train/images/img15_ls_g3_17_jpg.rf.cca2e0e659856ce3580afe0600a4bb9b.jpg: ignoring corrupt image/label: Label class 752 exceeds dataset class count 1. Possible class labels are 0-0\n",
            "\u001b[34m\u001b[1mtrain: \u001b[0mWARNING ⚠️ /content/Scence-Text-Detection-4/train/images/img15_ls_g3_19_jpg.rf.b2c9f3e7acc217ed8e121096ab5e9d25.jpg: ignoring corrupt image/label: Label class 2 exceeds dataset class count 1. Possible class labels are 0-0\n",
            "\u001b[34m\u001b[1mtrain: \u001b[0mWARNING ⚠️ /content/Scence-Text-Detection-4/train/images/img15_ls_g3_20_jpg.rf.3db6e4ad6b0b3d8c3375757ddab43df2.jpg: ignoring corrupt image/label: Label class 910 exceeds dataset class count 1. Possible class labels are 0-0\n",
            "\u001b[34m\u001b[1mtrain: \u001b[0mWARNING ⚠️ /content/Scence-Text-Detection-4/train/images/img16_ls_g3_12_jpg.rf.a04a28c22cc6be7c24956aaabb5ce8aa.jpg: ignoring corrupt image/label: Label class 4 exceeds dataset class count 1. Possible class labels are 0-0\n",
            "\u001b[34m\u001b[1mtrain: \u001b[0mWARNING ⚠️ /content/Scence-Text-Detection-4/train/images/img16_ls_g3_13_jpg.rf.19c584e0120aa405a3d3b8663cb119a6.jpg: ignoring corrupt image/label: Label class 193 exceeds dataset class count 1. Possible class labels are 0-0\n",
            "\u001b[34m\u001b[1mtrain: \u001b[0mWARNING ⚠️ /content/Scence-Text-Detection-4/train/images/img16_ls_g3_15_jpg.rf.5f207d62f464f97c7b0e9b4193005fb0.jpg: ignoring corrupt image/label: Label class 2 exceeds dataset class count 1. Possible class labels are 0-0\n",
            "\u001b[34m\u001b[1mtrain: \u001b[0mWARNING ⚠️ /content/Scence-Text-Detection-4/train/images/img16_ls_g3_19_jpg.rf.b265d73069eed4cd9213980fb6ac6854.jpg: ignoring corrupt image/label: Label class 2 exceeds dataset class count 1. Possible class labels are 0-0\n",
            "\u001b[34m\u001b[1mtrain: \u001b[0mWARNING ⚠️ /content/Scence-Text-Detection-4/train/images/img16_ls_g3_1_jpg.rf.c31ae3274f6f9e6251b1f0ef3e8fcab2.jpg: ignoring corrupt image/label: Label class 2 exceeds dataset class count 1. Possible class labels are 0-0\n",
            "\u001b[34m\u001b[1mtrain: \u001b[0mWARNING ⚠️ /content/Scence-Text-Detection-4/train/images/img16_ls_g3_2_jpg.rf.3de4b30bf7c7a45f55a2250a371ee644.jpg: ignoring corrupt image/label: Label class 355 exceeds dataset class count 1. Possible class labels are 0-0\n",
            "\u001b[34m\u001b[1mtrain: \u001b[0mWARNING ⚠️ /content/Scence-Text-Detection-4/train/images/img17_ls_g3_11_jpg.rf.1e6f27b2bee167313863a980ade6151b.jpg: ignoring corrupt image/label: Label class 7 exceeds dataset class count 1. Possible class labels are 0-0\n",
            "\u001b[34m\u001b[1mtrain: \u001b[0mWARNING ⚠️ /content/Scence-Text-Detection-4/train/images/img17_ls_g3_15_jpg.rf.179bff4c6191631a77c08c83bd87b192.jpg: ignoring corrupt image/label: Label class 3 exceeds dataset class count 1. Possible class labels are 0-0\n",
            "\u001b[34m\u001b[1mtrain: \u001b[0mWARNING ⚠️ /content/Scence-Text-Detection-4/train/images/img17_ls_g3_16_jpg.rf.4fd0103327e7bb58a1c3c40bf0a3dfd2.jpg: ignoring corrupt image/label: Label class 924 exceeds dataset class count 1. Possible class labels are 0-0\n",
            "\u001b[34m\u001b[1mtrain: \u001b[0mWARNING ⚠️ /content/Scence-Text-Detection-4/train/images/img17_ls_g3_19_jpg.rf.b5909f25f83bedb86a7cb693474afc52.jpg: ignoring corrupt image/label: Label class 356 exceeds dataset class count 1. Possible class labels are 0-0\n",
            "\u001b[34m\u001b[1mtrain: \u001b[0mWARNING ⚠️ /content/Scence-Text-Detection-4/train/images/img17_ls_g3_1_jpg.rf.b9b09c0d4021406bd2d545e1f96a4645.jpg: ignoring corrupt image/label: Label class 214 exceeds dataset class count 1. Possible class labels are 0-0\n",
            "\u001b[34m\u001b[1mtrain: \u001b[0mWARNING ⚠️ /content/Scence-Text-Detection-4/train/images/img17_ls_g3_3_jpg.rf.4a49c3972ece6857f954dffcea5c7981.jpg: ignoring corrupt image/label: Label class 145 exceeds dataset class count 1. Possible class labels are 0-0\n",
            "\u001b[34m\u001b[1mtrain: \u001b[0mWARNING ⚠️ /content/Scence-Text-Detection-4/train/images/img17_ls_g3_6_jpg.rf.79b158012f56c12e9c883bf6ef673fee.jpg: ignoring corrupt image/label: Label class 3 exceeds dataset class count 1. Possible class labels are 0-0\n",
            "\u001b[34m\u001b[1mtrain: \u001b[0mWARNING ⚠️ /content/Scence-Text-Detection-4/train/images/img18_ls_g3_11_jpg.rf.6b2257ffd3cfdfb15b27c4b6e63f466f.jpg: ignoring corrupt image/label: Label class 2 exceeds dataset class count 1. Possible class labels are 0-0\n",
            "\u001b[34m\u001b[1mtrain: \u001b[0mWARNING ⚠️ /content/Scence-Text-Detection-4/train/images/img18_ls_g3_14_jpg.rf.79fcf80c028f17b0dc188f42f8b949a3.jpg: ignoring corrupt image/label: Label class 2 exceeds dataset class count 1. Possible class labels are 0-0\n",
            "\u001b[34m\u001b[1mtrain: \u001b[0mWARNING ⚠️ /content/Scence-Text-Detection-4/train/images/img18_ls_g3_15_jpg.rf.e40ca33c247eb68cac3d7562e676e161.jpg: ignoring corrupt image/label: Label class 2 exceeds dataset class count 1. Possible class labels are 0-0\n",
            "\u001b[34m\u001b[1mtrain: \u001b[0mWARNING ⚠️ /content/Scence-Text-Detection-4/train/images/img18_ls_g3_2_jpg.rf.0b6b44d787bab1248152ed3392f227cf.jpg: ignoring corrupt image/label: Label class 1386 exceeds dataset class count 1. Possible class labels are 0-0\n",
            "\u001b[34m\u001b[1mtrain: \u001b[0mWARNING ⚠️ /content/Scence-Text-Detection-4/train/images/img18_ls_g3_3_jpg.rf.3c2ca061ad7efb90dc1440e9d193f717.jpg: ignoring corrupt image/label: Label class 2 exceeds dataset class count 1. Possible class labels are 0-0\n",
            "\u001b[34m\u001b[1mtrain: \u001b[0mWARNING ⚠️ /content/Scence-Text-Detection-4/train/images/img18_ls_g3_4_jpg.rf.109d6165c9e6cb346eb1eabd7b69d2aa.jpg: ignoring corrupt image/label: Label class 1974 exceeds dataset class count 1. Possible class labels are 0-0\n",
            "\u001b[34m\u001b[1mtrain: \u001b[0mWARNING ⚠️ /content/Scence-Text-Detection-4/train/images/img18_ls_g3_7_jpg.rf.c59f43ba6d5669a245a6860c02a634ef.jpg: ignoring corrupt image/label: Label class 2 exceeds dataset class count 1. Possible class labels are 0-0\n",
            "\u001b[34m\u001b[1mtrain: \u001b[0mWARNING ⚠️ /content/Scence-Text-Detection-4/train/images/img19_ls_g3_12_jpg.rf.7d14fc8995a1ddc0ee67fd8559a928ee.jpg: ignoring corrupt image/label: Label class 2 exceeds dataset class count 1. Possible class labels are 0-0\n",
            "\u001b[34m\u001b[1mtrain: \u001b[0mWARNING ⚠️ /content/Scence-Text-Detection-4/train/images/img19_ls_g3_14_jpg.rf.6ed46928957f616a57c5ef95dd743eb5.jpg: ignoring corrupt image/label: Label class 2282 exceeds dataset class count 1. Possible class labels are 0-0\n",
            "\u001b[34m\u001b[1mtrain: \u001b[0mWARNING ⚠️ /content/Scence-Text-Detection-4/train/images/img19_ls_g3_16_jpg.rf.750af532185992e15d7ac99e05f3cd94.jpg: ignoring corrupt image/label: Label class 3 exceeds dataset class count 1. Possible class labels are 0-0\n",
            "\u001b[34m\u001b[1mtrain: \u001b[0mWARNING ⚠️ /content/Scence-Text-Detection-4/train/images/img19_ls_g3_18_jpg.rf.869976445cd6cb7b053f79f47f2baa90.jpg: ignoring corrupt image/label: Label class 2 exceeds dataset class count 1. Possible class labels are 0-0\n",
            "\u001b[34m\u001b[1mtrain: \u001b[0mWARNING ⚠️ /content/Scence-Text-Detection-4/train/images/img19_ls_g3_1_jpg.rf.343eb158137188d04e40751dda667750.jpg: ignoring corrupt image/label: Label class 2 exceeds dataset class count 1. Possible class labels are 0-0\n",
            "\u001b[34m\u001b[1mtrain: \u001b[0mWARNING ⚠️ /content/Scence-Text-Detection-4/train/images/img19_ls_g3_6_jpg.rf.836de25db7af2beb49ef86200b3e9ba3.jpg: ignoring corrupt image/label: Label class 1078 exceeds dataset class count 1. Possible class labels are 0-0\n",
            "\u001b[34m\u001b[1mtrain: \u001b[0mWARNING ⚠️ /content/Scence-Text-Detection-4/train/images/img19_ls_g3_9_jpg.rf.390ae6b751e7f8df230240ff3c6391e2.jpg: ignoring corrupt image/label: Label class 230 exceeds dataset class count 1. Possible class labels are 0-0\n",
            "\u001b[34m\u001b[1mtrain: \u001b[0mWARNING ⚠️ /content/Scence-Text-Detection-4/train/images/img1_ls_g3_6_jpg.rf.a4a9cc912e8e071263b465e4a7530d4c.jpg: ignoring corrupt image/label: Label class 2 exceeds dataset class count 1. Possible class labels are 0-0\n",
            "\u001b[34m\u001b[1mtrain: \u001b[0mWARNING ⚠️ /content/Scence-Text-Detection-4/train/images/img1_ls_g3_7_jpg.rf.37fb5e119600c832d77f57b0b8bd162e.jpg: ignoring corrupt image/label: Label class 242 exceeds dataset class count 1. Possible class labels are 0-0\n",
            "\u001b[34m\u001b[1mtrain: \u001b[0mWARNING ⚠️ /content/Scence-Text-Detection-4/train/images/img1_ls_g3_9_jpg.rf.77ab44af1f7940a4552ab4682dedfda2.jpg: ignoring corrupt image/label: Label class 219 exceeds dataset class count 1. Possible class labels are 0-0\n",
            "\u001b[34m\u001b[1mtrain: \u001b[0mWARNING ⚠️ /content/Scence-Text-Detection-4/train/images/img20_ls_g3_16_jpg.rf.4d8d388fe24f306d9222e89febb8b7f6.jpg: ignoring corrupt image/label: Label class 1703 exceeds dataset class count 1. Possible class labels are 0-0\n",
            "\u001b[34m\u001b[1mtrain: \u001b[0mWARNING ⚠️ /content/Scence-Text-Detection-4/train/images/img20_ls_g3_6_jpg.rf.9c5c00dc41ac3ed4dc896bf928aff906.jpg: ignoring corrupt image/label: Label class 3 exceeds dataset class count 1. Possible class labels are 0-0\n",
            "\u001b[34m\u001b[1mtrain: \u001b[0mWARNING ⚠️ /content/Scence-Text-Detection-4/train/images/img20_ls_g3_7_jpg.rf.50710476ed50ac43511077d1c16fa2b4.jpg: ignoring corrupt image/label: Label class 7 exceeds dataset class count 1. Possible class labels are 0-0\n",
            "\u001b[34m\u001b[1mtrain: \u001b[0mWARNING ⚠️ /content/Scence-Text-Detection-4/train/images/img20_ls_g3_9_jpg.rf.a9d85f6330a58f4765dc2b15649ac4fb.jpg: ignoring corrupt image/label: Label class 3 exceeds dataset class count 1. Possible class labels are 0-0\n",
            "\u001b[34m\u001b[1mtrain: \u001b[0mWARNING ⚠️ /content/Scence-Text-Detection-4/train/images/img2_ls_g3_10_jpg.rf.52113b0288e8c77119d1c55c14eea8d6.jpg: ignoring corrupt image/label: Label class 5 exceeds dataset class count 1. Possible class labels are 0-0\n",
            "\u001b[34m\u001b[1mtrain: \u001b[0mWARNING ⚠️ /content/Scence-Text-Detection-4/train/images/img2_ls_g3_20_jpg.rf.6af6a3570cb934cff74ad55f11754cdd.jpg: ignoring corrupt image/label: Label class 117 exceeds dataset class count 1. Possible class labels are 0-0\n",
            "\u001b[34m\u001b[1mtrain: \u001b[0mWARNING ⚠️ /content/Scence-Text-Detection-4/train/images/img2_ls_g3_9_jpg.rf.27151e8884e3edb7e5ca3b0c006d53c6.jpg: ignoring corrupt image/label: Label class 2030 exceeds dataset class count 1. Possible class labels are 0-0\n",
            "\u001b[34m\u001b[1mtrain: \u001b[0mWARNING ⚠️ /content/Scence-Text-Detection-4/train/images/img3_ls_g3_13_jpg.rf.953e7e7870c7ec9dd48116da79a16968.jpg: ignoring corrupt image/label: Label class 256 exceeds dataset class count 1. Possible class labels are 0-0\n",
            "\u001b[34m\u001b[1mtrain: \u001b[0mWARNING ⚠️ /content/Scence-Text-Detection-4/train/images/img3_ls_g3_15_jpg.rf.4536e185b8691ba5dbe3e2aa0aea50d0.jpg: ignoring corrupt image/label: Label class 2045 exceeds dataset class count 1. Possible class labels are 0-0\n",
            "\u001b[34m\u001b[1mtrain: \u001b[0mWARNING ⚠️ /content/Scence-Text-Detection-4/train/images/img3_ls_g3_1_jpg.rf.b4ce6c39d0467ee329febde3a63c34ef.jpg: ignoring corrupt image/label: Label class 2064 exceeds dataset class count 1. Possible class labels are 0-0\n",
            "\u001b[34m\u001b[1mtrain: \u001b[0mWARNING ⚠️ /content/Scence-Text-Detection-4/train/images/img3_ls_g3_3_jpg.rf.9a1db5b55fd8c2145342c7dacb3dc927.jpg: ignoring corrupt image/label: Label class 2 exceeds dataset class count 1. Possible class labels are 0-0\n",
            "\u001b[34m\u001b[1mtrain: \u001b[0mWARNING ⚠️ /content/Scence-Text-Detection-4/train/images/img3_ls_g3_8_JPG.rf.2f55b1a8c119b13dd55b51d6f55f15a4.jpg: ignoring corrupt image/label: Label class 3 exceeds dataset class count 1. Possible class labels are 0-0\n",
            "\u001b[34m\u001b[1mtrain: \u001b[0mWARNING ⚠️ /content/Scence-Text-Detection-4/train/images/img4_ls_g3_20_jpg.rf.73d4401ad66edc3e36cd972d8e1ee712.jpg: ignoring corrupt image/label: Label class 2 exceeds dataset class count 1. Possible class labels are 0-0\n",
            "\u001b[34m\u001b[1mtrain: \u001b[0mWARNING ⚠️ /content/Scence-Text-Detection-4/train/images/img4_ls_g3_6_jpg.rf.15fbe0d33e5c8be1537a89586364d0d9.jpg: ignoring corrupt image/label: Label class 1539 exceeds dataset class count 1. Possible class labels are 0-0\n",
            "\u001b[34m\u001b[1mtrain: \u001b[0mWARNING ⚠️ /content/Scence-Text-Detection-4/train/images/img4_ls_g3_8_jpg.rf.ed191bc8f1cfcf81eae55f978cad2fdd.jpg: ignoring corrupt image/label: Label class 2 exceeds dataset class count 1. Possible class labels are 0-0\n",
            "\u001b[34m\u001b[1mtrain: \u001b[0mWARNING ⚠️ /content/Scence-Text-Detection-4/train/images/img5_ls_g3_10_jpg.rf.0039cccab0b25677b3b61e9ed6e19a46.jpg: ignoring corrupt image/label: Label class 9 exceeds dataset class count 1. Possible class labels are 0-0\n",
            "\u001b[34m\u001b[1mtrain: \u001b[0mWARNING ⚠️ /content/Scence-Text-Detection-4/train/images/img5_ls_g3_16_jpg.rf.092bf2dd9401b57d9866910459e8a461.jpg: ignoring corrupt image/label: Label class 1229 exceeds dataset class count 1. Possible class labels are 0-0\n",
            "\u001b[34m\u001b[1mtrain: \u001b[0mWARNING ⚠️ /content/Scence-Text-Detection-4/train/images/img5_ls_g3_19_jpg.rf.7df5bed18cfedf5c6a363e553f316fba.jpg: ignoring corrupt image/label: Label class 2 exceeds dataset class count 1. Possible class labels are 0-0\n",
            "\u001b[34m\u001b[1mtrain: \u001b[0mWARNING ⚠️ /content/Scence-Text-Detection-4/train/images/img5_ls_g3_2_jpg.rf.590f74de978e0051edb3f2c2d280f634.jpg: ignoring corrupt image/label: Label class 2 exceeds dataset class count 1. Possible class labels are 0-0\n",
            "\u001b[34m\u001b[1mtrain: \u001b[0mWARNING ⚠️ /content/Scence-Text-Detection-4/train/images/img5_ls_g3_3_jpg.rf.beded1dd27ceff9de9ea7da5856fb892.jpg: ignoring corrupt image/label: Label class 2282 exceeds dataset class count 1. Possible class labels are 0-0\n",
            "\u001b[34m\u001b[1mtrain: \u001b[0mWARNING ⚠️ /content/Scence-Text-Detection-4/train/images/img6_ls_g3_10_jpg.rf.ca48ecdd94147f72b3eb53b038ac53b3.jpg: ignoring corrupt image/label: Label class 1125 exceeds dataset class count 1. Possible class labels are 0-0\n",
            "\u001b[34m\u001b[1mtrain: \u001b[0mWARNING ⚠️ /content/Scence-Text-Detection-4/train/images/img6_ls_g3_11_jpg.rf.490654c06f2200bf4a8c3d9210603232.jpg: ignoring corrupt image/label: Label class 1184 exceeds dataset class count 1. Possible class labels are 0-0\n",
            "\u001b[34m\u001b[1mtrain: \u001b[0mWARNING ⚠️ /content/Scence-Text-Detection-4/train/images/img6_ls_g3_12_jpg.rf.3dd43b1f9b617be78f532b8f08e1467f.jpg: ignoring corrupt image/label: Label class 302 exceeds dataset class count 1. Possible class labels are 0-0\n",
            "\u001b[34m\u001b[1mtrain: \u001b[0mWARNING ⚠️ /content/Scence-Text-Detection-4/train/images/img6_ls_g3_16_jpg.rf.4d63226fe9ee06bc8ebf36b3b239157d.jpg: ignoring corrupt image/label: Label class 1337 exceeds dataset class count 1. Possible class labels are 0-0\n",
            "\u001b[34m\u001b[1mtrain: \u001b[0mWARNING ⚠️ /content/Scence-Text-Detection-4/train/images/img6_ls_g3_17_jpg.rf.2cf2229ee7bcbc9b9d8475eb298f0e5c.jpg: ignoring corrupt image/label: Label class 913 exceeds dataset class count 1. Possible class labels are 0-0\n",
            "\u001b[34m\u001b[1mtrain: \u001b[0mWARNING ⚠️ /content/Scence-Text-Detection-4/train/images/img6_ls_g3_18_jpg.rf.12d18f5bca1a0bb0b56a2ea25a3c9bc7.jpg: ignoring corrupt image/label: Label class 1986 exceeds dataset class count 1. Possible class labels are 0-0\n",
            "\u001b[34m\u001b[1mtrain: \u001b[0mWARNING ⚠️ /content/Scence-Text-Detection-4/train/images/img6_ls_g3_19_jpg.rf.54f65cb4310cb8a64fa208c0ccbf4c83.jpg: ignoring corrupt image/label: Label class 2122 exceeds dataset class count 1. Possible class labels are 0-0\n",
            "\u001b[34m\u001b[1mtrain: \u001b[0mWARNING ⚠️ /content/Scence-Text-Detection-4/train/images/img6_ls_g3_1_jpg.rf.af595fa38cffffc6db3bcc4032db1449.jpg: ignoring corrupt image/label: Label class 1114 exceeds dataset class count 1. Possible class labels are 0-0\n",
            "\u001b[34m\u001b[1mtrain: \u001b[0mWARNING ⚠️ /content/Scence-Text-Detection-4/train/images/img6_ls_g3_5_jpg.rf.62240c41dc7fb462502169a460814205.jpg: ignoring corrupt image/label: Label class 2 exceeds dataset class count 1. Possible class labels are 0-0\n",
            "\u001b[34m\u001b[1mtrain: \u001b[0mWARNING ⚠️ /content/Scence-Text-Detection-4/train/images/img6_ls_g3_6_jpg.rf.20e4295dba7169c3df6c9a2afc7c596d.jpg: ignoring corrupt image/label: Label class 970 exceeds dataset class count 1. Possible class labels are 0-0\n",
            "\u001b[34m\u001b[1mtrain: \u001b[0mWARNING ⚠️ /content/Scence-Text-Detection-4/train/images/img6_ls_g3_7_jpg.rf.7557d455f553e03636da56c6ec6d1be6.jpg: ignoring corrupt image/label: Label class 862 exceeds dataset class count 1. Possible class labels are 0-0\n",
            "\u001b[34m\u001b[1mtrain: \u001b[0mWARNING ⚠️ /content/Scence-Text-Detection-4/train/images/img6_ls_g3_8_jpg.rf.2048602697e2111095db0f4956d3f8fe.jpg: ignoring corrupt image/label: Label class 6 exceeds dataset class count 1. Possible class labels are 0-0\n",
            "\u001b[34m\u001b[1mtrain: \u001b[0mWARNING ⚠️ /content/Scence-Text-Detection-4/train/images/img7_ls_g3_11_jpg.rf.228f2466b221db6f637e2a4aa34b6b33.jpg: ignoring corrupt image/label: Label class 2282 exceeds dataset class count 1. Possible class labels are 0-0\n",
            "\u001b[34m\u001b[1mtrain: \u001b[0mWARNING ⚠️ /content/Scence-Text-Detection-4/train/images/img7_ls_g3_13_jpg.rf.fcb1f13c815c02a8bfcc60ef97543df7.jpg: ignoring corrupt image/label: Label class 1425 exceeds dataset class count 1. Possible class labels are 0-0\n",
            "\u001b[34m\u001b[1mtrain: \u001b[0mWARNING ⚠️ /content/Scence-Text-Detection-4/train/images/img7_ls_g3_14_jpg.rf.c30d9914287a91c104f5aeec6138fcdb.jpg: ignoring corrupt image/label: Label class 1512 exceeds dataset class count 1. Possible class labels are 0-0\n",
            "\u001b[34m\u001b[1mtrain: \u001b[0mWARNING ⚠️ /content/Scence-Text-Detection-4/train/images/img7_ls_g3_15_jpg.rf.44ca44985c0d634984cd77cecf44ee31.jpg: ignoring corrupt image/label: Label class 546 exceeds dataset class count 1. Possible class labels are 0-0\n",
            "\u001b[34m\u001b[1mtrain: \u001b[0mWARNING ⚠️ /content/Scence-Text-Detection-4/train/images/img7_ls_g3_19_jpg.rf.8055283a23c958173a44d7215532ab62.jpg: ignoring corrupt image/label: Label class 6 exceeds dataset class count 1. Possible class labels are 0-0\n",
            "\u001b[34m\u001b[1mtrain: \u001b[0mWARNING ⚠️ /content/Scence-Text-Detection-4/train/images/img7_ls_g3_4_jpg.rf.5eeb9e24c351cae8b8a3c9eeb81c81fd.jpg: ignoring corrupt image/label: Label class 2035 exceeds dataset class count 1. Possible class labels are 0-0\n",
            "\u001b[34m\u001b[1mtrain: \u001b[0mWARNING ⚠️ /content/Scence-Text-Detection-4/train/images/img7_ls_g3_5_jpg.rf.983679348005ec65d9ade64985b468f5.jpg: ignoring corrupt image/label: Label class 1132 exceeds dataset class count 1. Possible class labels are 0-0\n",
            "\u001b[34m\u001b[1mtrain: \u001b[0mWARNING ⚠️ /content/Scence-Text-Detection-4/train/images/img7_ls_g3_7_jpg.rf.b4b8e38add173b481c06b37e8a044652.jpg: ignoring corrupt image/label: Label class 5 exceeds dataset class count 1. Possible class labels are 0-0\n",
            "\u001b[34m\u001b[1mtrain: \u001b[0mWARNING ⚠️ /content/Scence-Text-Detection-4/train/images/img7_ls_g3_8_jpg.rf.d122c33953ad4599557c10cf802db63a.jpg: ignoring corrupt image/label: Label class 2 exceeds dataset class count 1. Possible class labels are 0-0\n",
            "\u001b[34m\u001b[1mtrain: \u001b[0mWARNING ⚠️ /content/Scence-Text-Detection-4/train/images/img8_ls_g3_10_jpg.rf.9117c834504208534ca9976c479b9063.jpg: ignoring corrupt image/label: Label class 2102 exceeds dataset class count 1. Possible class labels are 0-0\n",
            "\u001b[34m\u001b[1mtrain: \u001b[0mWARNING ⚠️ /content/Scence-Text-Detection-4/train/images/img8_ls_g3_11_jpg.rf.454c56375ea8dbb52456c8c3df0b94ec.jpg: ignoring corrupt image/label: Label class 2 exceeds dataset class count 1. Possible class labels are 0-0\n",
            "\u001b[34m\u001b[1mtrain: \u001b[0mWARNING ⚠️ /content/Scence-Text-Detection-4/train/images/img8_ls_g3_13_jpg.rf.cfeaa9a7fff9f9c60b02d79b14811fc1.jpg: ignoring corrupt image/label: Label class 2282 exceeds dataset class count 1. Possible class labels are 0-0\n",
            "\u001b[34m\u001b[1mtrain: \u001b[0mWARNING ⚠️ /content/Scence-Text-Detection-4/train/images/img8_ls_g3_18_jpg.rf.2b3d1e062cc096626cd7049de24b25c2.jpg: ignoring corrupt image/label: Label class 2 exceeds dataset class count 1. Possible class labels are 0-0\n",
            "\u001b[34m\u001b[1mtrain: \u001b[0mWARNING ⚠️ /content/Scence-Text-Detection-4/train/images/img8_ls_g3_2_jpg.rf.b9138dfd729e05ac7e4ef1496d0eb45b.jpg: ignoring corrupt image/label: Label class 1557 exceeds dataset class count 1. Possible class labels are 0-0\n",
            "\u001b[34m\u001b[1mtrain: \u001b[0mWARNING ⚠️ /content/Scence-Text-Detection-4/train/images/img8_ls_g3_3_jpg.rf.833380b581dfa2e887a9714d90476d54.jpg: ignoring corrupt image/label: Label class 2 exceeds dataset class count 1. Possible class labels are 0-0\n",
            "\u001b[34m\u001b[1mtrain: \u001b[0mWARNING ⚠️ /content/Scence-Text-Detection-4/train/images/img8_ls_g3_7_jpg.rf.5945cc24f52b339ed592dbce6ac2d196.jpg: ignoring corrupt image/label: Label class 2087 exceeds dataset class count 1. Possible class labels are 0-0\n",
            "\u001b[34m\u001b[1mtrain: \u001b[0mWARNING ⚠️ /content/Scence-Text-Detection-4/train/images/img8_ls_g3_8_jpg.rf.12b52dc9c37bc99756fe7046440f91f0.jpg: ignoring corrupt image/label: Label class 2 exceeds dataset class count 1. Possible class labels are 0-0\n",
            "\u001b[34m\u001b[1mtrain: \u001b[0mWARNING ⚠️ /content/Scence-Text-Detection-4/train/images/img8_ls_g3_9_jpg.rf.d7e357227d0bef2a7bd78cd6509f3757.jpg: ignoring corrupt image/label: Label class 2 exceeds dataset class count 1. Possible class labels are 0-0\n",
            "\u001b[34m\u001b[1mtrain: \u001b[0mWARNING ⚠️ /content/Scence-Text-Detection-4/train/images/img9_ls_g3_11_jpg.rf.ec83e0b064eeffe2bdb5c28c82f1cfd7.jpg: ignoring corrupt image/label: Label class 2 exceeds dataset class count 1. Possible class labels are 0-0\n",
            "\u001b[34m\u001b[1mtrain: \u001b[0mWARNING ⚠️ /content/Scence-Text-Detection-4/train/images/img9_ls_g3_13_jpg.rf.e6f0e8093134773c76b312eace3ccefa.jpg: ignoring corrupt image/label: Label class 1003 exceeds dataset class count 1. Possible class labels are 0-0\n",
            "\u001b[34m\u001b[1mtrain: \u001b[0mWARNING ⚠️ /content/Scence-Text-Detection-4/train/images/img9_ls_g3_19_jpg.rf.f08560abcc0ae317070b927793b10d51.jpg: ignoring corrupt image/label: Label class 2204 exceeds dataset class count 1. Possible class labels are 0-0\n",
            "\u001b[34m\u001b[1mtrain: \u001b[0mWARNING ⚠️ /content/Scence-Text-Detection-4/train/images/img9_ls_g3_20_jpg.rf.0cc67c2fd9e76c9f0185c511d6758435.jpg: ignoring corrupt image/label: Label class 2282 exceeds dataset class count 1. Possible class labels are 0-0\n",
            "\u001b[34m\u001b[1mtrain: \u001b[0mWARNING ⚠️ /content/Scence-Text-Detection-4/train/images/img9_ls_g3_6_jpg.rf.10695883f58c02476adb3f0387e6e74d.jpg: ignoring corrupt image/label: Label class 2004 exceeds dataset class count 1. Possible class labels are 0-0\n",
            "\u001b[34m\u001b[1mtrain: \u001b[0mWARNING ⚠️ /content/Scence-Text-Detection-4/train/images/img9_ls_g3_8_jpg.rf.6bfa61c542c842b57fa46fb15d4fd2d3.jpg: ignoring corrupt image/label: Label class 301 exceeds dataset class count 1. Possible class labels are 0-0\n",
            "\u001b[34m\u001b[1mtrain: \u001b[0mWARNING ⚠️ /content/Scence-Text-Detection-4/train/images/img_12_jpg.rf.1fb196cb855a8495bff00baa75ebd6ae.jpg: ignoring corrupt image/label: Label class 2 exceeds dataset class count 1. Possible class labels are 0-0\n",
            "\u001b[34m\u001b[1mtrain: \u001b[0mWARNING ⚠️ /content/Scence-Text-Detection-4/train/images/img_1_jpg.rf.0aa54ce7476bdc7a1191f6f52810c08e.jpg: ignoring corrupt image/label: Label class 7 exceeds dataset class count 1. Possible class labels are 0-0\n",
            "\u001b[34m\u001b[1mtrain: \u001b[0mWARNING ⚠️ /content/Scence-Text-Detection-4/train/images/img_20_jpg.rf.f767d0cd46d17aed811f9ac76a873051.jpg: ignoring corrupt image/label: Label class 399 exceeds dataset class count 1. Possible class labels are 0-0\n",
            "\u001b[34m\u001b[1mtrain: \u001b[0mWARNING ⚠️ /content/Scence-Text-Detection-4/train/images/img_23_jpg.rf.80f7ac017c07c933798a7d628f471ed0.jpg: ignoring corrupt image/label: Label class 2 exceeds dataset class count 1. Possible class labels are 0-0\n",
            "\u001b[34m\u001b[1mtrain: \u001b[0mWARNING ⚠️ /content/Scence-Text-Detection-4/train/images/img_68_jpg.rf.0f27cee773fdc904dc6480fac7e21536.jpg: ignoring corrupt image/label: Label class 6 exceeds dataset class count 1. Possible class labels are 0-0\n",
            "\u001b[34m\u001b[1mtrain: \u001b[0mWARNING ⚠️ /content/Scence-Text-Detection-4/train/images/img_71_jpg.rf.8917138a56b01c2f29438daf997d0c75.jpg: ignoring corrupt image/label: Label class 2 exceeds dataset class count 1. Possible class labels are 0-0\n",
            "\u001b[34m\u001b[1mtrain: \u001b[0mWARNING ⚠️ /content/Scence-Text-Detection-4/train/images/img_73_jpg.rf.3fa374134c5f4b4f18df2003fc46b986.jpg: ignoring corrupt image/label: Label class 4 exceeds dataset class count 1. Possible class labels are 0-0\n",
            "\u001b[34m\u001b[1mtrain: \u001b[0mWARNING ⚠️ /content/Scence-Text-Detection-4/train/images/img_75_jpg.rf.332e4d3824e97410e21054a97b344a38.jpg: ignoring corrupt image/label: Label class 2 exceeds dataset class count 1. Possible class labels are 0-0\n",
            "\u001b[34m\u001b[1mtrain: \u001b[0mWARNING ⚠️ /content/Scence-Text-Detection-4/train/images/img_76_jpg.rf.6e18cacb1141fd8819b36c2ad8928fdd.jpg: ignoring corrupt image/label: Label class 2282 exceeds dataset class count 1. Possible class labels are 0-0\n",
            "\u001b[34m\u001b[1mtrain: \u001b[0mWARNING ⚠️ /content/Scence-Text-Detection-4/train/images/img_77_jpg.rf.143b4979ae9cf3d956aeb6d2122d3706.jpg: ignoring corrupt image/label: Label class 3 exceeds dataset class count 1. Possible class labels are 0-0\n",
            "\u001b[34m\u001b[1mtrain: \u001b[0mWARNING ⚠️ /content/Scence-Text-Detection-4/train/images/img_81_jpg.rf.f2fc1b094358bea93c2330ccfa3a1d53.jpg: ignoring corrupt image/label: Label class 2282 exceeds dataset class count 1. Possible class labels are 0-0\n",
            "\u001b[34m\u001b[1mtrain: \u001b[0mWARNING ⚠️ /content/Scence-Text-Detection-4/train/images/img_82_jpg.rf.c44d60781552d67266788299776717f5.jpg: ignoring corrupt image/label: Label class 2 exceeds dataset class count 1. Possible class labels are 0-0\n",
            "\u001b[34m\u001b[1mtrain: \u001b[0mWARNING ⚠️ /content/Scence-Text-Detection-4/train/images/img_84_jpg.rf.7a58af50f185201e9fadb102c79f6363.jpg: ignoring corrupt image/label: Label class 52 exceeds dataset class count 1. Possible class labels are 0-0\n",
            "\u001b[34m\u001b[1mtrain: \u001b[0mWARNING ⚠️ /content/Scence-Text-Detection-4/train/images/img_85_jpg.rf.a09797d53220e4d3e788c2b4be392dfb.jpg: ignoring corrupt image/label: Label class 2282 exceeds dataset class count 1. Possible class labels are 0-0\n",
            "\u001b[34m\u001b[1mtrain: \u001b[0mWARNING ⚠️ /content/Scence-Text-Detection-4/train/images/img_88_jpg.rf.949b9c5896f851459a362ebc71d09195.jpg: ignoring corrupt image/label: Label class 443 exceeds dataset class count 1. Possible class labels are 0-0\n",
            "\u001b[34m\u001b[1mtrain: \u001b[0mWARNING ⚠️ /content/Scence-Text-Detection-4/train/images/img_89_jpg.rf.a8616c57f55488213f582b5f1f978dc7.jpg: ignoring corrupt image/label: Label class 4 exceeds dataset class count 1. Possible class labels are 0-0\n",
            "\u001b[34m\u001b[1mtrain: \u001b[0mWARNING ⚠️ /content/Scence-Text-Detection-4/train/images/img_90_jpg.rf.5b2b621848d98aebd86ddd4ca0dd71a3.jpg: ignoring corrupt image/label: Label class 7 exceeds dataset class count 1. Possible class labels are 0-0\n",
            "\u001b[34m\u001b[1mtrain: \u001b[0mWARNING ⚠️ /content/Scence-Text-Detection-4/train/images/img_92_jpg.rf.9090a9407a34fa0b18a59b92ccf492f4.jpg: ignoring corrupt image/label: Label class 4 exceeds dataset class count 1. Possible class labels are 0-0\n",
            "\u001b[34m\u001b[1mtrain: \u001b[0mWARNING ⚠️ /content/Scence-Text-Detection-4/train/images/img_93_jpg.rf.6e44b989514de2635a146513d84432a0.jpg: ignoring corrupt image/label: Label class 2 exceeds dataset class count 1. Possible class labels are 0-0\n",
            "\u001b[34m\u001b[1mtrain: \u001b[0mWARNING ⚠️ /content/Scence-Text-Detection-4/train/images/img_94_jpg.rf.8c0d000f1967386b034e3c842f43cf02.jpg: ignoring corrupt image/label: Label class 4 exceeds dataset class count 1. Possible class labels are 0-0\n",
            "\u001b[34m\u001b[1mtrain: \u001b[0mWARNING ⚠️ /content/Scence-Text-Detection-4/train/images/img_95_jpg.rf.4d5c91f3f927356aeaa47a0ddedec0e8.jpg: ignoring corrupt image/label: Label class 3 exceeds dataset class count 1. Possible class labels are 0-0\n",
            "\u001b[34m\u001b[1mtrain: \u001b[0mWARNING ⚠️ /content/Scence-Text-Detection-4/train/images/img_96_jpg.rf.76fa5afc7e71b5ff6d507bd4b0b590c2.jpg: ignoring corrupt image/label: Label class 5 exceeds dataset class count 1. Possible class labels are 0-0\n",
            "\u001b[34m\u001b[1mtrain: \u001b[0mWARNING ⚠️ /content/Scence-Text-Detection-4/train/images/img_97_jpg.rf.bb45b7b9bd4942d11f6c1085b4e9d28a.jpg: ignoring corrupt image/label: Label class 2 exceeds dataset class count 1. Possible class labels are 0-0\n",
            "\u001b[34m\u001b[1mtrain: \u001b[0mWARNING ⚠️ /content/Scence-Text-Detection-4/train/images/img_98_jpg.rf.318b15f2bae379298c8bfcda1ed73ae9.jpg: ignoring corrupt image/label: Label class 3 exceeds dataset class count 1. Possible class labels are 0-0\n",
            "\u001b[34m\u001b[1mtrain: \u001b[0mWARNING ⚠️ /content/Scence-Text-Detection-4/train/images/img_99_jpg.rf.0a81f00aec6036fcaa38f35732c6a96a.jpg: ignoring corrupt image/label: Label class 5 exceeds dataset class count 1. Possible class labels are 0-0\n",
            "\u001b[34m\u001b[1mtrain: \u001b[0mWARNING ⚠️ /content/Scence-Text-Detection-4/train/images/photo_10_2024-10-26_23-16-21_jpg.rf.5058ac53b000af5ea283b9c0457fe0ae.jpg: ignoring corrupt image/label: Label class 2 exceeds dataset class count 1. Possible class labels are 0-0\n",
            "\u001b[34m\u001b[1mtrain: \u001b[0mWARNING ⚠️ /content/Scence-Text-Detection-4/train/images/photo_10_2024-11-02_17-08-43_jpg.rf.61990a426f64b0e964967c8713fc648b.jpg: ignoring corrupt image/label: Label class 1162 exceeds dataset class count 1. Possible class labels are 0-0\n",
            "\u001b[34m\u001b[1mtrain: \u001b[0mWARNING ⚠️ /content/Scence-Text-Detection-4/train/images/photo_11_2024-10-26_23-16-21_jpg.rf.02fe90583926aaecd235079c86a1b750.jpg: ignoring corrupt image/label: Label class 4 exceeds dataset class count 1. Possible class labels are 0-0\n",
            "\u001b[34m\u001b[1mtrain: \u001b[0mWARNING ⚠️ /content/Scence-Text-Detection-4/train/images/photo_11_2024-11-05_23-58-22_jpg.rf.cfd9e80dd2988f5b7d027ca8eb8aca33.jpg: ignoring corrupt image/label: Label class 1382 exceeds dataset class count 1. Possible class labels are 0-0\n",
            "\u001b[34m\u001b[1mtrain: \u001b[0mWARNING ⚠️ /content/Scence-Text-Detection-4/train/images/photo_11_2024-11-05_23-58-35_jpg.rf.d5294ef08d3e8f45f8a406d8b5280942.jpg: ignoring corrupt image/label: Label class 2 exceeds dataset class count 1. Possible class labels are 0-0\n",
            "\u001b[34m\u001b[1mtrain: \u001b[0mWARNING ⚠️ /content/Scence-Text-Detection-4/train/images/photo_11_2024-11-06_16-34-20_jpg.rf.2aaa6b003b78b0fea687a65dccfa7f4b.jpg: ignoring corrupt image/label: Label class 2237 exceeds dataset class count 1. Possible class labels are 0-0\n",
            "\u001b[34m\u001b[1mtrain: \u001b[0mWARNING ⚠️ /content/Scence-Text-Detection-4/train/images/photo_14_2024-11-02_17-08-43_jpg.rf.92fd92a1321bc42d1c7b8cb296c9d618.jpg: ignoring corrupt image/label: Label class 2 exceeds dataset class count 1. Possible class labels are 0-0\n",
            "\u001b[34m\u001b[1mtrain: \u001b[0mWARNING ⚠️ /content/Scence-Text-Detection-4/train/images/photo_14_2024-11-05_23-58-22_jpg.rf.de570a089f1d7b0537c83d4087c6fe39.jpg: ignoring corrupt image/label: Label class 221 exceeds dataset class count 1. Possible class labels are 0-0\n",
            "\u001b[34m\u001b[1mtrain: \u001b[0mWARNING ⚠️ /content/Scence-Text-Detection-4/train/images/photo_15_2024-11-02_17-08-43_jpg.rf.dd4c14817554bfe75c01ef061191a417.jpg: ignoring corrupt image/label: Label class 2 exceeds dataset class count 1. Possible class labels are 0-0\n",
            "\u001b[34m\u001b[1mtrain: \u001b[0mWARNING ⚠️ /content/Scence-Text-Detection-4/train/images/photo_15_2024-11-05_23-58-22_jpg.rf.8d35ef44b151889652c1e354a07888be.jpg: ignoring corrupt image/label: Label class 2282 exceeds dataset class count 1. Possible class labels are 0-0\n",
            "\u001b[34m\u001b[1mtrain: \u001b[0mWARNING ⚠️ /content/Scence-Text-Detection-4/train/images/photo_15_2024-11-05_23-58-35_jpg.rf.4a63b4055312639ccb1e5aa951888a0e.jpg: ignoring corrupt image/label: Label class 2 exceeds dataset class count 1. Possible class labels are 0-0\n",
            "\u001b[34m\u001b[1mtrain: \u001b[0mWARNING ⚠️ /content/Scence-Text-Detection-4/train/images/photo_16_2024-11-02_17-08-43_jpg.rf.2686d71ddb894eed3037b0aea3c53274.jpg: ignoring corrupt image/label: Label class 97 exceeds dataset class count 1. Possible class labels are 0-0\n",
            "\u001b[34m\u001b[1mtrain: \u001b[0mWARNING ⚠️ /content/Scence-Text-Detection-4/train/images/photo_16_2024-11-05_23-58-22_jpg.rf.287a3f3246c7398d3dc28f7a6a37b1b2.jpg: ignoring corrupt image/label: Label class 1690 exceeds dataset class count 1. Possible class labels are 0-0\n",
            "\u001b[34m\u001b[1mtrain: \u001b[0mWARNING ⚠️ /content/Scence-Text-Detection-4/train/images/photo_17_2024-10-26_23-16-21_jpg.rf.91f77351ca7089f323ae8dd6c5355bd3.jpg: ignoring corrupt image/label: Label class 180 exceeds dataset class count 1. Possible class labels are 0-0\n",
            "\u001b[34m\u001b[1mtrain: \u001b[0mWARNING ⚠️ /content/Scence-Text-Detection-4/train/images/photo_17_2024-11-02_17-08-43_jpg.rf.ccca42e98279d8e584688628ad505475.jpg: ignoring corrupt image/label: Label class 1159 exceeds dataset class count 1. Possible class labels are 0-0\n",
            "\u001b[34m\u001b[1mtrain: \u001b[0mWARNING ⚠️ /content/Scence-Text-Detection-4/train/images/photo_17_2024-11-05_23-58-22_jpg.rf.912c952bfc2f777496e57b4c8b58c869.jpg: ignoring corrupt image/label: Label class 2 exceeds dataset class count 1. Possible class labels are 0-0\n",
            "\u001b[34m\u001b[1mtrain: \u001b[0mWARNING ⚠️ /content/Scence-Text-Detection-4/train/images/photo_19_2024-10-26_23-16-21_jpg.rf.4a32870421d736289068d84e6648e941.jpg: ignoring corrupt image/label: Label class 4 exceeds dataset class count 1. Possible class labels are 0-0\n",
            "\u001b[34m\u001b[1mtrain: \u001b[0mWARNING ⚠️ /content/Scence-Text-Detection-4/train/images/photo_1_2024-11-05_23-58-35_jpg.rf.07b875cfa8a4b6143aae2ddf06b8d451.jpg: ignoring corrupt image/label: Label class 832 exceeds dataset class count 1. Possible class labels are 0-0\n",
            "\u001b[34m\u001b[1mtrain: \u001b[0mWARNING ⚠️ /content/Scence-Text-Detection-4/train/images/photo_1_2024-11-06_16-34-20_jpg.rf.0b2d48872fa20fa6b0594ab8072f875c.jpg: ignoring corrupt image/label: Label class 2 exceeds dataset class count 1. Possible class labels are 0-0\n",
            "\u001b[34m\u001b[1mtrain: \u001b[0mWARNING ⚠️ /content/Scence-Text-Detection-4/train/images/photo_2024-10-24-10-26-00_jpeg.rf.21a9cceee54a239b442b7e2ede9ca1db.jpg: ignoring corrupt image/label: Label class 2283 exceeds dataset class count 1. Possible class labels are 0-0\n",
            "\u001b[34m\u001b[1mtrain: \u001b[0mWARNING ⚠️ /content/Scence-Text-Detection-4/train/images/photo_2024-10-24-10-26-43_jpeg.rf.6ac7f5ca96d5bfa46b8a6ef5f7e559d9.jpg: ignoring corrupt image/label: Label class 2283 exceeds dataset class count 1. Possible class labels are 0-0\n",
            "\u001b[34m\u001b[1mtrain: \u001b[0mWARNING ⚠️ /content/Scence-Text-Detection-4/train/images/photo_2024-10-24-10-26-48_jpeg.rf.b2697fb39ee01c0797616b417da6fc65.jpg: ignoring corrupt image/label: Label class 2283 exceeds dataset class count 1. Possible class labels are 0-0\n",
            "\u001b[34m\u001b[1mtrain: \u001b[0mWARNING ⚠️ /content/Scence-Text-Detection-4/train/images/photo_2024-10-24-10-26-49_jpeg.rf.cc80de60e4083c38c9be179d4e43c5af.jpg: ignoring corrupt image/label: Label class 2283 exceeds dataset class count 1. Possible class labels are 0-0\n",
            "\u001b[34m\u001b[1mtrain: \u001b[0mWARNING ⚠️ /content/Scence-Text-Detection-4/train/images/photo_2024-10-24-10-26-52_jpeg.rf.7c78a902ce2bcd2696649c54088d0e21.jpg: ignoring corrupt image/label: Label class 2283 exceeds dataset class count 1. Possible class labels are 0-0\n",
            "\u001b[34m\u001b[1mtrain: \u001b[0mWARNING ⚠️ /content/Scence-Text-Detection-4/train/images/photo_2024-10-24-10-26-53_jpeg.rf.8eaf2013a8dcb3a1d5595855c75cc1ac.jpg: ignoring corrupt image/label: Label class 2283 exceeds dataset class count 1. Possible class labels are 0-0\n",
            "\u001b[34m\u001b[1mtrain: \u001b[0mWARNING ⚠️ /content/Scence-Text-Detection-4/train/images/photo_2024-10-24-10-26-55_jpeg.rf.d6b694cb532231e409c3fca6b7b33be2.jpg: ignoring corrupt image/label: Label class 2283 exceeds dataset class count 1. Possible class labels are 0-0\n",
            "\u001b[34m\u001b[1mtrain: \u001b[0mWARNING ⚠️ /content/Scence-Text-Detection-4/train/images/photo_2024-10-24-10-26-56_jpeg.rf.6879c1eebe362c63ac6e7dff185dbe6b.jpg: ignoring corrupt image/label: Label class 2283 exceeds dataset class count 1. Possible class labels are 0-0\n",
            "\u001b[34m\u001b[1mtrain: \u001b[0mWARNING ⚠️ /content/Scence-Text-Detection-4/train/images/photo_2024-10-24-10-27-00_jpeg.rf.63db101d0f7dd0f660512efeaf4f6366.jpg: ignoring corrupt image/label: Label class 2283 exceeds dataset class count 1. Possible class labels are 0-0\n",
            "\u001b[34m\u001b[1mtrain: \u001b[0mWARNING ⚠️ /content/Scence-Text-Detection-4/train/images/photo_2024-10-24-10-27-01-1-_jpeg.rf.28d0efa3a2dce8d8c9e31b4e8691340c.jpg: ignoring corrupt image/label: Label class 2283 exceeds dataset class count 1. Possible class labels are 0-0\n",
            "\u001b[34m\u001b[1mtrain: \u001b[0mWARNING ⚠️ /content/Scence-Text-Detection-4/train/images/photo_2024-10-24-10-27-01_jpeg.rf.38889b0a4932da86a1cfb6c6ae2708c8.jpg: ignoring corrupt image/label: Label class 2283 exceeds dataset class count 1. Possible class labels are 0-0\n",
            "\u001b[34m\u001b[1mtrain: \u001b[0mWARNING ⚠️ /content/Scence-Text-Detection-4/train/images/photo_2024-10-24-10-27-02_jpeg.rf.e3d01f79642cf9ee18edc46b02cd969a.jpg: ignoring corrupt image/label: Label class 2283 exceeds dataset class count 1. Possible class labels are 0-0\n",
            "\u001b[34m\u001b[1mtrain: \u001b[0mWARNING ⚠️ /content/Scence-Text-Detection-4/train/images/photo_2024-10-24-10-27-03_jpeg.rf.bb7f9269e539bb8ec4781a85c24eae65.jpg: ignoring corrupt image/label: Label class 2283 exceeds dataset class count 1. Possible class labels are 0-0\n",
            "\u001b[34m\u001b[1mtrain: \u001b[0mWARNING ⚠️ /content/Scence-Text-Detection-4/train/images/photo_2024-10-24-10-27-05_jpeg.rf.7f2ea4d9e127257abf37ff91e9ef20dd.jpg: ignoring corrupt image/label: Label class 2283 exceeds dataset class count 1. Possible class labels are 0-0\n",
            "\u001b[34m\u001b[1mtrain: \u001b[0mWARNING ⚠️ /content/Scence-Text-Detection-4/train/images/photo_2024-10-24-10-27-06_jpeg.rf.c61647b16895ec52f845d088dcace9d1.jpg: ignoring corrupt image/label: Label class 2283 exceeds dataset class count 1. Possible class labels are 0-0\n",
            "\u001b[34m\u001b[1mtrain: \u001b[0mWARNING ⚠️ /content/Scence-Text-Detection-4/train/images/photo_2024-10-24-10-27-07_jpeg.rf.c8be4caf44aff590b27a58df5918c611.jpg: ignoring corrupt image/label: Label class 2283 exceeds dataset class count 1. Possible class labels are 0-0\n",
            "\u001b[34m\u001b[1mtrain: \u001b[0mWARNING ⚠️ /content/Scence-Text-Detection-4/train/images/photo_2024-10-24-10-27-08_jpeg.rf.d04b0fd20dc80f72d9cdeb70fe153724.jpg: ignoring corrupt image/label: Label class 2283 exceeds dataset class count 1. Possible class labels are 0-0\n",
            "\u001b[34m\u001b[1mtrain: \u001b[0mWARNING ⚠️ /content/Scence-Text-Detection-4/train/images/photo_2024-10-24-10-27-09_jpeg.rf.dab895fe46a40c344452e758440d4300.jpg: ignoring corrupt image/label: Label class 2283 exceeds dataset class count 1. Possible class labels are 0-0\n",
            "\u001b[34m\u001b[1mtrain: \u001b[0mWARNING ⚠️ /content/Scence-Text-Detection-4/train/images/photo_2024-10-24-10-27-10_jpeg.rf.0ff7fde07b32f633532011e06fa71899.jpg: ignoring corrupt image/label: Label class 2283 exceeds dataset class count 1. Possible class labels are 0-0\n",
            "\u001b[34m\u001b[1mtrain: \u001b[0mWARNING ⚠️ /content/Scence-Text-Detection-4/train/images/photo_2024-10-24-10-27-11_jpeg.rf.80069563c56dfdb7e614fb5cc4f05afc.jpg: ignoring corrupt image/label: Label class 2283 exceeds dataset class count 1. Possible class labels are 0-0\n",
            "\u001b[34m\u001b[1mtrain: \u001b[0mWARNING ⚠️ /content/Scence-Text-Detection-4/train/images/photo_2024-10-24-10-27-12_jpeg.rf.afcc6d632a101fca7390b98da83df824.jpg: ignoring corrupt image/label: Label class 2283 exceeds dataset class count 1. Possible class labels are 0-0\n",
            "\u001b[34m\u001b[1mtrain: \u001b[0mWARNING ⚠️ /content/Scence-Text-Detection-4/train/images/photo_2024-10-24-10-27-13_jpeg.rf.f21ca178ad584fd99bfedd6f1d0d7539.jpg: ignoring corrupt image/label: Label class 2283 exceeds dataset class count 1. Possible class labels are 0-0\n",
            "\u001b[34m\u001b[1mtrain: \u001b[0mWARNING ⚠️ /content/Scence-Text-Detection-4/train/images/photo_2024-10-24-10-27-14_jpeg.rf.993f72246d113b045bcafe70522a1820.jpg: ignoring corrupt image/label: Label class 2283 exceeds dataset class count 1. Possible class labels are 0-0\n",
            "\u001b[34m\u001b[1mtrain: \u001b[0mWARNING ⚠️ /content/Scence-Text-Detection-4/train/images/photo_2024-10-24-10-27-15_jpeg.rf.9d0b2faf350d9d9c6ebace3efef431e9.jpg: ignoring corrupt image/label: Label class 2283 exceeds dataset class count 1. Possible class labels are 0-0\n",
            "\u001b[34m\u001b[1mtrain: \u001b[0mWARNING ⚠️ /content/Scence-Text-Detection-4/train/images/photo_2024-10-24-10-27-17_jpeg.rf.3bc3b42ee98f4fd24b8b27ce8f543c41.jpg: ignoring corrupt image/label: Label class 2283 exceeds dataset class count 1. Possible class labels are 0-0\n",
            "\u001b[34m\u001b[1mtrain: \u001b[0mWARNING ⚠️ /content/Scence-Text-Detection-4/train/images/photo_2024-10-24-10-27-18_jpeg.rf.a192a9e231f8f5d99bfc68f97dc2f2d1.jpg: ignoring corrupt image/label: Label class 2283 exceeds dataset class count 1. Possible class labels are 0-0\n",
            "\u001b[34m\u001b[1mtrain: \u001b[0mWARNING ⚠️ /content/Scence-Text-Detection-4/train/images/photo_2024-10-24-10-27-19_jpeg.rf.529240194820734cce4999b3c1fe43b3.jpg: ignoring corrupt image/label: Label class 2283 exceeds dataset class count 1. Possible class labels are 0-0\n",
            "\u001b[34m\u001b[1mtrain: \u001b[0mWARNING ⚠️ /content/Scence-Text-Detection-4/train/images/photo_2024-10-24-10-27-20_jpeg.rf.fbaa147dc99a06501b256b2d37ed12d4.jpg: ignoring corrupt image/label: Label class 2283 exceeds dataset class count 1. Possible class labels are 0-0\n",
            "\u001b[34m\u001b[1mtrain: \u001b[0mWARNING ⚠️ /content/Scence-Text-Detection-4/train/images/photo_2024-10-24-10-27-21_jpeg.rf.ac9fbb05ac1c9b9996a103fde9a949e6.jpg: ignoring corrupt image/label: Label class 2283 exceeds dataset class count 1. Possible class labels are 0-0\n",
            "\u001b[34m\u001b[1mtrain: \u001b[0mWARNING ⚠️ /content/Scence-Text-Detection-4/train/images/photo_2024-10-24-10-27-22_jpeg.rf.e9f56d7e47d321a838b7115eb73bd68d.jpg: ignoring corrupt image/label: Label class 2283 exceeds dataset class count 1. Possible class labels are 0-0\n",
            "\u001b[34m\u001b[1mtrain: \u001b[0mWARNING ⚠️ /content/Scence-Text-Detection-4/train/images/photo_2024-10-24-10-27-23_jpeg.rf.f7b8ea43262713b8bd9c6d7d64252bf5.jpg: ignoring corrupt image/label: Label class 2283 exceeds dataset class count 1. Possible class labels are 0-0\n",
            "\u001b[34m\u001b[1mtrain: \u001b[0mWARNING ⚠️ /content/Scence-Text-Detection-4/train/images/photo_2024-10-24-10-27-24_jpeg.rf.39a88573d415dda18473daf209c32b3d.jpg: ignoring corrupt image/label: Label class 2283 exceeds dataset class count 1. Possible class labels are 0-0\n",
            "\u001b[34m\u001b[1mtrain: \u001b[0mWARNING ⚠️ /content/Scence-Text-Detection-4/train/images/photo_2024-10-24-10-27-25_jpeg.rf.f5d5c65222f31b95271af2c10521fd41.jpg: ignoring corrupt image/label: Label class 2283 exceeds dataset class count 1. Possible class labels are 0-0\n",
            "\u001b[34m\u001b[1mtrain: \u001b[0mWARNING ⚠️ /content/Scence-Text-Detection-4/train/images/photo_2024-10-24-10-27-26_jpeg.rf.5da52d46faa4157a75218c3e7a0e8e66.jpg: ignoring corrupt image/label: Label class 2283 exceeds dataset class count 1. Possible class labels are 0-0\n",
            "\u001b[34m\u001b[1mtrain: \u001b[0mWARNING ⚠️ /content/Scence-Text-Detection-4/train/images/photo_2024-10-24-10-27-27_jpeg.rf.53e2d6b54e46e7e8a6b7b752f8d2dc8a.jpg: ignoring corrupt image/label: Label class 2283 exceeds dataset class count 1. Possible class labels are 0-0\n",
            "\u001b[34m\u001b[1mtrain: \u001b[0mWARNING ⚠️ /content/Scence-Text-Detection-4/train/images/photo_2024-10-24-10-27-28_jpeg.rf.8c49e25676b08c8821a7d4d9b7907b6c.jpg: ignoring corrupt image/label: Label class 2283 exceeds dataset class count 1. Possible class labels are 0-0\n",
            "\u001b[34m\u001b[1mtrain: \u001b[0mWARNING ⚠️ /content/Scence-Text-Detection-4/train/images/photo_2024-10-24-10-27-29_jpeg.rf.dd2e3611442b9e32ca1bd3abbf36a6fa.jpg: ignoring corrupt image/label: Label class 2283 exceeds dataset class count 1. Possible class labels are 0-0\n",
            "\u001b[34m\u001b[1mtrain: \u001b[0mWARNING ⚠️ /content/Scence-Text-Detection-4/train/images/photo_2024-10-24-10-27-30_jpeg.rf.3bd1f0d8407b9ff11dc934ea2a209df3.jpg: ignoring corrupt image/label: Label class 2283 exceeds dataset class count 1. Possible class labels are 0-0\n",
            "\u001b[34m\u001b[1mtrain: \u001b[0mWARNING ⚠️ /content/Scence-Text-Detection-4/train/images/photo_2024-10-24-10-27-31_jpeg.rf.3f29016cf6c9e8bd215ade82f531c3af.jpg: ignoring corrupt image/label: Label class 2283 exceeds dataset class count 1. Possible class labels are 0-0\n",
            "\u001b[34m\u001b[1mtrain: \u001b[0mWARNING ⚠️ /content/Scence-Text-Detection-4/train/images/photo_2024-10-24-10-27-32_jpeg.rf.f3b00a7d77dee894fc865dec6147bca5.jpg: ignoring corrupt image/label: Label class 2283 exceeds dataset class count 1. Possible class labels are 0-0\n",
            "\u001b[34m\u001b[1mtrain: \u001b[0mWARNING ⚠️ /content/Scence-Text-Detection-4/train/images/photo_2024-10-24-10-27-33_jpeg.rf.6eb3ddd775eab5cc4582871317cb7459.jpg: ignoring corrupt image/label: Label class 2283 exceeds dataset class count 1. Possible class labels are 0-0\n",
            "\u001b[34m\u001b[1mtrain: \u001b[0mWARNING ⚠️ /content/Scence-Text-Detection-4/train/images/photo_2024-10-24-10-27-34_jpeg.rf.6a796911836639e07a9892a24e002bfd.jpg: ignoring corrupt image/label: Label class 2283 exceeds dataset class count 1. Possible class labels are 0-0\n",
            "\u001b[34m\u001b[1mtrain: \u001b[0mWARNING ⚠️ /content/Scence-Text-Detection-4/train/images/photo_2024-10-24-10-27-35_jpeg.rf.79b392ff9a02bb4bb138d26b708a603e.jpg: ignoring corrupt image/label: Label class 2283 exceeds dataset class count 1. Possible class labels are 0-0\n",
            "\u001b[34m\u001b[1mtrain: \u001b[0mWARNING ⚠️ /content/Scence-Text-Detection-4/train/images/photo_2024-10-24-10-27-36_jpeg.rf.335076108c186bf37e5563121907991f.jpg: ignoring corrupt image/label: Label class 2283 exceeds dataset class count 1. Possible class labels are 0-0\n",
            "\u001b[34m\u001b[1mtrain: \u001b[0mWARNING ⚠️ /content/Scence-Text-Detection-4/train/images/photo_2024-10-24-10-27-37_jpeg.rf.b318190e1eadef0e25f5f343acf6025c.jpg: ignoring corrupt image/label: Label class 2283 exceeds dataset class count 1. Possible class labels are 0-0\n",
            "\u001b[34m\u001b[1mtrain: \u001b[0mWARNING ⚠️ /content/Scence-Text-Detection-4/train/images/photo_2024-10-24-10-27-38_jpeg.rf.307ce478e72b1a59374746952a245883.jpg: ignoring corrupt image/label: Label class 2283 exceeds dataset class count 1. Possible class labels are 0-0\n",
            "\u001b[34m\u001b[1mtrain: \u001b[0mWARNING ⚠️ /content/Scence-Text-Detection-4/train/images/photo_2024-10-24-10-27-40_jpeg.rf.8d5db104e5b000dd3f8a017d2950ccc6.jpg: ignoring corrupt image/label: Label class 2283 exceeds dataset class count 1. Possible class labels are 0-0\n",
            "\u001b[34m\u001b[1mtrain: \u001b[0mWARNING ⚠️ /content/Scence-Text-Detection-4/train/images/photo_2024-10-24-10-27-42-1-_jpeg.rf.9a3e658bf8918acc2f312edc0e6966c4.jpg: ignoring corrupt image/label: Label class 2283 exceeds dataset class count 1. Possible class labels are 0-0\n",
            "\u001b[34m\u001b[1mtrain: \u001b[0mWARNING ⚠️ /content/Scence-Text-Detection-4/train/images/photo_2024-10-24-10-27-42_jpeg.rf.bcc191a4c42062a09723848498b044e7.jpg: ignoring corrupt image/label: Label class 2283 exceeds dataset class count 1. Possible class labels are 0-0\n",
            "\u001b[34m\u001b[1mtrain: \u001b[0mWARNING ⚠️ /content/Scence-Text-Detection-4/train/images/photo_2024-10-24-10-27-43_jpeg.rf.d3f4b912b575e992f993e3c6732bdaad.jpg: ignoring corrupt image/label: Label class 2283 exceeds dataset class count 1. Possible class labels are 0-0\n",
            "\u001b[34m\u001b[1mtrain: \u001b[0mWARNING ⚠️ /content/Scence-Text-Detection-4/train/images/photo_2024-10-24-10-27-44_jpeg.rf.62cea1b2f1ac154f07f4a16bd5256094.jpg: ignoring corrupt image/label: Label class 2283 exceeds dataset class count 1. Possible class labels are 0-0\n",
            "\u001b[34m\u001b[1mtrain: \u001b[0mWARNING ⚠️ /content/Scence-Text-Detection-4/train/images/photo_2024-10-24-10-27-45_jpeg.rf.edd3698b29b7ccd9c6a153627ea2e799.jpg: ignoring corrupt image/label: Label class 2283 exceeds dataset class count 1. Possible class labels are 0-0\n",
            "\u001b[34m\u001b[1mtrain: \u001b[0mWARNING ⚠️ /content/Scence-Text-Detection-4/train/images/photo_2024-10-24-10-27-46_jpeg.rf.e80052decca973521c5e0a54eee9b6b9.jpg: ignoring corrupt image/label: Label class 2283 exceeds dataset class count 1. Possible class labels are 0-0\n",
            "\u001b[34m\u001b[1mtrain: \u001b[0mWARNING ⚠️ /content/Scence-Text-Detection-4/train/images/photo_2024-10-24-10-27-47_jpeg.rf.673022a49b5f12d014bc14e625c2e1c6.jpg: ignoring corrupt image/label: Label class 2283 exceeds dataset class count 1. Possible class labels are 0-0\n",
            "\u001b[34m\u001b[1mtrain: \u001b[0mWARNING ⚠️ /content/Scence-Text-Detection-4/train/images/photo_2024-10-24-10-27-48-1-_jpeg.rf.c7ab288ceb26f2dc580a69ba359befed.jpg: ignoring corrupt image/label: Label class 2283 exceeds dataset class count 1. Possible class labels are 0-0\n",
            "\u001b[34m\u001b[1mtrain: \u001b[0mWARNING ⚠️ /content/Scence-Text-Detection-4/train/images/photo_2024-10-24-10-27-48_jpeg.rf.d0f633f2af64be20fea20d55c062d29b.jpg: ignoring corrupt image/label: Label class 2283 exceeds dataset class count 1. Possible class labels are 0-0\n",
            "\u001b[34m\u001b[1mtrain: \u001b[0mWARNING ⚠️ /content/Scence-Text-Detection-4/train/images/photo_2024-10-24-10-27-49_jpeg.rf.5b74c86756598c46c920d49e2d90cc55.jpg: ignoring corrupt image/label: Label class 2283 exceeds dataset class count 1. Possible class labels are 0-0\n",
            "\u001b[34m\u001b[1mtrain: \u001b[0mWARNING ⚠️ /content/Scence-Text-Detection-4/train/images/photo_2024-10-24-10-27-50_jpeg.rf.377ec7a1a52151f1975e7acedac14986.jpg: ignoring corrupt image/label: Label class 2283 exceeds dataset class count 1. Possible class labels are 0-0\n",
            "\u001b[34m\u001b[1mtrain: \u001b[0mWARNING ⚠️ /content/Scence-Text-Detection-4/train/images/photo_2024-10-24-10-27-52_jpeg.rf.10e7fa5a95160c5989d961bbe821cb04.jpg: ignoring corrupt image/label: Label class 2283 exceeds dataset class count 1. Possible class labels are 0-0\n",
            "\u001b[34m\u001b[1mtrain: \u001b[0mWARNING ⚠️ /content/Scence-Text-Detection-4/train/images/photo_2024-10-24-10-27-53_jpeg.rf.fdde944c636c9223e19d29f3c2efe35e.jpg: ignoring corrupt image/label: Label class 2283 exceeds dataset class count 1. Possible class labels are 0-0\n",
            "\u001b[34m\u001b[1mtrain: \u001b[0mWARNING ⚠️ /content/Scence-Text-Detection-4/train/images/photo_2024-10-24-10-27-54-1-_jpeg.rf.5ba52dc65bad3a7e59803b98a109e1c7.jpg: ignoring corrupt image/label: Label class 2283 exceeds dataset class count 1. Possible class labels are 0-0\n",
            "\u001b[34m\u001b[1mtrain: \u001b[0mWARNING ⚠️ /content/Scence-Text-Detection-4/train/images/photo_2024-10-24-10-27-54_jpeg.rf.1b35b207b0d034fac8fb57f5291277af.jpg: ignoring corrupt image/label: Label class 2283 exceeds dataset class count 1. Possible class labels are 0-0\n",
            "\u001b[34m\u001b[1mtrain: \u001b[0mWARNING ⚠️ /content/Scence-Text-Detection-4/train/images/photo_2024-10-24-10-27-57_jpeg.rf.e553e9e1805858b713ab06f0d4cc979d.jpg: ignoring corrupt image/label: Label class 2283 exceeds dataset class count 1. Possible class labels are 0-0\n",
            "\u001b[34m\u001b[1mtrain: \u001b[0mWARNING ⚠️ /content/Scence-Text-Detection-4/train/images/photo_2024-10-24-10-28-00_jpeg.rf.40433799df16ecd86b2eb960a6b2fd50.jpg: ignoring corrupt image/label: Label class 2283 exceeds dataset class count 1. Possible class labels are 0-0\n",
            "\u001b[34m\u001b[1mtrain: \u001b[0mWARNING ⚠️ /content/Scence-Text-Detection-4/train/images/photo_2024-10-24-10-28-04_jpeg.rf.5793d2e1a9ca45560be6ad1c36184e1d.jpg: ignoring corrupt image/label: Label class 2283 exceeds dataset class count 1. Possible class labels are 0-0\n",
            "\u001b[34m\u001b[1mtrain: \u001b[0mWARNING ⚠️ /content/Scence-Text-Detection-4/train/images/photo_2024-10-24-10-28-06_jpeg.rf.58bbaa3327834d6a5107b070f6149193.jpg: ignoring corrupt image/label: Label class 2283 exceeds dataset class count 1. Possible class labels are 0-0\n",
            "\u001b[34m\u001b[1mtrain: \u001b[0mWARNING ⚠️ /content/Scence-Text-Detection-4/train/images/photo_2024-10-24-10-28-07_jpeg.rf.4a17350f94233805d2915bc9f4c3fe84.jpg: ignoring corrupt image/label: Label class 2283 exceeds dataset class count 1. Possible class labels are 0-0\n",
            "\u001b[34m\u001b[1mtrain: \u001b[0mWARNING ⚠️ /content/Scence-Text-Detection-4/train/images/photo_2024-10-24-10-28-10_jpeg.rf.a2c08c1b830ea7b540add15466c8ddeb.jpg: ignoring corrupt image/label: Label class 2283 exceeds dataset class count 1. Possible class labels are 0-0\n",
            "\u001b[34m\u001b[1mtrain: \u001b[0mWARNING ⚠️ /content/Scence-Text-Detection-4/train/images/photo_2024-10-31_13-53-43_jpg.rf.7240b65d0f94b67eb2b6c8491d1145b7.jpg: ignoring corrupt image/label: Label class 2 exceeds dataset class count 1. Possible class labels are 0-0\n",
            "\u001b[34m\u001b[1mtrain: \u001b[0mWARNING ⚠️ /content/Scence-Text-Detection-4/train/images/photo_20_2024-10-26_23-16-21_jpg.rf.856a7e9205014022407635c2f699b9ff.jpg: ignoring corrupt image/label: Label class 2 exceeds dataset class count 1. Possible class labels are 0-0\n",
            "\u001b[34m\u001b[1mtrain: \u001b[0mWARNING ⚠️ /content/Scence-Text-Detection-4/train/images/photo_21_2024-10-26_23-16-21_jpg.rf.a0d4cd6e7716434862b0cd755cdff063.jpg: ignoring corrupt image/label: Label class 134 exceeds dataset class count 1. Possible class labels are 0-0\n",
            "\u001b[34m\u001b[1mtrain: \u001b[0mWARNING ⚠️ /content/Scence-Text-Detection-4/train/images/photo_22_2024-10-26_23-16-21_jpg.rf.5ed4439ba44fd0ae404206b08794f229.jpg: ignoring corrupt image/label: Label class 2 exceeds dataset class count 1. Possible class labels are 0-0\n",
            "\u001b[34m\u001b[1mtrain: \u001b[0mWARNING ⚠️ /content/Scence-Text-Detection-4/train/images/photo_22_2024-11-05_23-58-22_jpg.rf.70e704e25eae79d26716fcca5708cdd9.jpg: ignoring corrupt image/label: Label class 1327 exceeds dataset class count 1. Possible class labels are 0-0\n",
            "\u001b[34m\u001b[1mtrain: \u001b[0mWARNING ⚠️ /content/Scence-Text-Detection-4/train/images/photo_24_2024-11-02_17-08-43_jpg.rf.a908308b308d8507cd6a14592b2561b6.jpg: ignoring corrupt image/label: Label class 3 exceeds dataset class count 1. Possible class labels are 0-0\n",
            "\u001b[34m\u001b[1mtrain: \u001b[0mWARNING ⚠️ /content/Scence-Text-Detection-4/train/images/photo_25_2024-11-05_23-58-35_jpg.rf.85270606e35151e41be8bdae08040c17.jpg: ignoring corrupt image/label: Label class 1594 exceeds dataset class count 1. Possible class labels are 0-0\n",
            "\u001b[34m\u001b[1mtrain: \u001b[0mWARNING ⚠️ /content/Scence-Text-Detection-4/train/images/photo_27_2024-11-05_23-58-22_jpg.rf.bac5a51e5a5bd7ac47856d0461406c52.jpg: ignoring corrupt image/label: Label class 47 exceeds dataset class count 1. Possible class labels are 0-0\n",
            "\u001b[34m\u001b[1mtrain: \u001b[0mWARNING ⚠️ /content/Scence-Text-Detection-4/train/images/photo_27_2024-11-05_23-58-35_jpg.rf.3d0ff715e3e079eb76e88a6f8f9b0628.jpg: ignoring corrupt image/label: Label class 4 exceeds dataset class count 1. Possible class labels are 0-0\n",
            "\u001b[34m\u001b[1mtrain: \u001b[0mWARNING ⚠️ /content/Scence-Text-Detection-4/train/images/photo_28_2024-11-05_23-58-35_jpg.rf.4feab83e52864da320cae03e14a2be74.jpg: ignoring corrupt image/label: Label class 1226 exceeds dataset class count 1. Possible class labels are 0-0\n",
            "\u001b[34m\u001b[1mtrain: \u001b[0mWARNING ⚠️ /content/Scence-Text-Detection-4/train/images/photo_29_2024-11-02_17-08-43_jpg.rf.1bbfefa3bf613d56bc3d0d37f1ede7b2.jpg: ignoring corrupt image/label: Label class 1793 exceeds dataset class count 1. Possible class labels are 0-0\n",
            "\u001b[34m\u001b[1mtrain: \u001b[0mWARNING ⚠️ /content/Scence-Text-Detection-4/train/images/photo_29_2024-11-05_23-58-35_jpg.rf.5418c1c0ca8638522036b4d16fad2b84.jpg: ignoring corrupt image/label: Label class 5 exceeds dataset class count 1. Possible class labels are 0-0\n",
            "\u001b[34m\u001b[1mtrain: \u001b[0mWARNING ⚠️ /content/Scence-Text-Detection-4/train/images/photo_2_2024-11-05_23-58-22_jpg.rf.f56d0b66b9efd837bf45dd704d2c7a68.jpg: ignoring corrupt image/label: Label class 2 exceeds dataset class count 1. Possible class labels are 0-0\n",
            "\u001b[34m\u001b[1mtrain: \u001b[0mWARNING ⚠️ /content/Scence-Text-Detection-4/train/images/photo_2_2024-11-06_16-34-20_jpg.rf.2a49cf1269b54d627fa86d129ff0b764.jpg: ignoring corrupt image/label: Label class 1365 exceeds dataset class count 1. Possible class labels are 0-0\n",
            "\u001b[34m\u001b[1mtrain: \u001b[0mWARNING ⚠️ /content/Scence-Text-Detection-4/train/images/photo_30_2024-11-05_23-58-22_jpg.rf.6c900605e14ea28015ea01cf125fc42e.jpg: ignoring corrupt image/label: Label class 89 exceeds dataset class count 1. Possible class labels are 0-0\n",
            "\u001b[34m\u001b[1mtrain: \u001b[0mWARNING ⚠️ /content/Scence-Text-Detection-4/train/images/photo_31_2024-11-02_17-08-43_jpg.rf.f62fdcc66c7b32f7586ffda68709fc0b.jpg: ignoring corrupt image/label: Label class 2 exceeds dataset class count 1. Possible class labels are 0-0\n",
            "\u001b[34m\u001b[1mtrain: \u001b[0mWARNING ⚠️ /content/Scence-Text-Detection-4/train/images/photo_32_2024-11-05_23-58-22_jpg.rf.fb0870bcca7d391268290994a6130fde.jpg: ignoring corrupt image/label: Label class 1558 exceeds dataset class count 1. Possible class labels are 0-0\n",
            "\u001b[34m\u001b[1mtrain: \u001b[0mWARNING ⚠️ /content/Scence-Text-Detection-4/train/images/photo_32_2024-11-05_23-58-35_jpg.rf.a3b2849f84aa9ee06fcc344319fb4374.jpg: ignoring corrupt image/label: Label class 2 exceeds dataset class count 1. Possible class labels are 0-0\n",
            "\u001b[34m\u001b[1mtrain: \u001b[0mWARNING ⚠️ /content/Scence-Text-Detection-4/train/images/photo_33_2024-10-26_23-16-21_jpg.rf.177b873260e17a9fe40ecba912fd3bdb.jpg: ignoring corrupt image/label: Label class 715 exceeds dataset class count 1. Possible class labels are 0-0\n",
            "\u001b[34m\u001b[1mtrain: \u001b[0mWARNING ⚠️ /content/Scence-Text-Detection-4/train/images/photo_33_2024-11-02_17-08-43_jpg.rf.05216d95f027572a6f3c55a08e1a2238.jpg: ignoring corrupt image/label: Label class 1291 exceeds dataset class count 1. Possible class labels are 0-0\n",
            "\u001b[34m\u001b[1mtrain: \u001b[0mWARNING ⚠️ /content/Scence-Text-Detection-4/train/images/photo_33_2024-11-05_23-58-35_jpg.rf.fac5cdc739345b57a2ade909d22b8c57.jpg: ignoring corrupt image/label: Label class 1286 exceeds dataset class count 1. Possible class labels are 0-0\n",
            "\u001b[34m\u001b[1mtrain: \u001b[0mWARNING ⚠️ /content/Scence-Text-Detection-4/train/images/photo_34_2024-10-26_23-16-21_jpg.rf.f074fa59385893e12660ddc57014fa3e.jpg: ignoring corrupt image/label: Label class 2162 exceeds dataset class count 1. Possible class labels are 0-0\n",
            "\u001b[34m\u001b[1mtrain: \u001b[0mWARNING ⚠️ /content/Scence-Text-Detection-4/train/images/photo_34_2024-11-05_23-58-35_jpg.rf.01ee8ee87810e79a17fd7359ec0c7755.jpg: ignoring corrupt image/label: Label class 2 exceeds dataset class count 1. Possible class labels are 0-0\n",
            "\u001b[34m\u001b[1mtrain: \u001b[0mWARNING ⚠️ /content/Scence-Text-Detection-4/train/images/photo_35_2024-11-05_23-58-22_jpg.rf.485c9174fa997d46d0b1524cba751073.jpg: ignoring corrupt image/label: Label class 628 exceeds dataset class count 1. Possible class labels are 0-0\n",
            "\u001b[34m\u001b[1mtrain: \u001b[0mWARNING ⚠️ /content/Scence-Text-Detection-4/train/images/photo_35_2024-11-05_23-58-35_jpg.rf.2e15a3c2bcf0883e226b32bee5940255.jpg: ignoring corrupt image/label: Label class 1136 exceeds dataset class count 1. Possible class labels are 0-0\n",
            "\u001b[34m\u001b[1mtrain: \u001b[0mWARNING ⚠️ /content/Scence-Text-Detection-4/train/images/photo_36_2024-10-26_23-16-21_jpg.rf.6ddea21f20a59544d0b6f719e3be94e2.jpg: ignoring corrupt image/label: Label class 5 exceeds dataset class count 1. Possible class labels are 0-0\n",
            "\u001b[34m\u001b[1mtrain: \u001b[0mWARNING ⚠️ /content/Scence-Text-Detection-4/train/images/photo_39_2024-11-05_23-58-35_jpg.rf.956ec0fb8463715919eb0c105ec3618f.jpg: ignoring corrupt image/label: Label class 1875 exceeds dataset class count 1. Possible class labels are 0-0\n",
            "\u001b[34m\u001b[1mtrain: \u001b[0mWARNING ⚠️ /content/Scence-Text-Detection-4/train/images/photo_3_2024-10-26_23-16-21_jpg.rf.e243bdeac7c39159315339925d82da6e.jpg: ignoring corrupt image/label: Label class 184 exceeds dataset class count 1. Possible class labels are 0-0\n",
            "\u001b[34m\u001b[1mtrain: \u001b[0mWARNING ⚠️ /content/Scence-Text-Detection-4/train/images/photo_3_2024-11-02_17-08-43_jpg.rf.3eb2dec81a96bf3d9e68f2b40ea772c8.jpg: ignoring corrupt image/label: Label class 1991 exceeds dataset class count 1. Possible class labels are 0-0\n",
            "\u001b[34m\u001b[1mtrain: \u001b[0mWARNING ⚠️ /content/Scence-Text-Detection-4/train/images/photo_3_2024-11-05_23-58-22_jpg.rf.15759d5ccb32f91bcfd1b2374b2da645.jpg: ignoring corrupt image/label: Label class 353 exceeds dataset class count 1. Possible class labels are 0-0\n",
            "\u001b[34m\u001b[1mtrain: \u001b[0mWARNING ⚠️ /content/Scence-Text-Detection-4/train/images/photo_40_2024-10-26_23-16-21_jpg.rf.12a88aadf2338325dc9cb86ae248586c.jpg: ignoring corrupt image/label: Label class 2102 exceeds dataset class count 1. Possible class labels are 0-0\n",
            "\u001b[34m\u001b[1mtrain: \u001b[0mWARNING ⚠️ /content/Scence-Text-Detection-4/train/images/photo_40_2024-11-02_17-08-43_jpg.rf.d19f855f77f44ce1a0c2ab845dd65799.jpg: ignoring corrupt image/label: Label class 1162 exceeds dataset class count 1. Possible class labels are 0-0\n",
            "\u001b[34m\u001b[1mtrain: \u001b[0mWARNING ⚠️ /content/Scence-Text-Detection-4/train/images/photo_40_2024-11-05_23-58-35_jpg.rf.668b672fffa1b5d2ccaef2771f088c94.jpg: ignoring corrupt image/label: Label class 1870 exceeds dataset class count 1. Possible class labels are 0-0\n",
            "\u001b[34m\u001b[1mtrain: \u001b[0mWARNING ⚠️ /content/Scence-Text-Detection-4/train/images/photo_42_2024-11-05_23-58-22_jpg.rf.0b08d79c08e6808c5d8d893f6c8b903e.jpg: ignoring corrupt image/label: Label class 2 exceeds dataset class count 1. Possible class labels are 0-0\n",
            "\u001b[34m\u001b[1mtrain: \u001b[0mWARNING ⚠️ /content/Scence-Text-Detection-4/train/images/photo_43_2024-10-26_23-16-21_jpg.rf.3eb84224d2e7019ffb6e55c798845022.jpg: ignoring corrupt image/label: Label class 431 exceeds dataset class count 1. Possible class labels are 0-0\n",
            "\u001b[34m\u001b[1mtrain: \u001b[0mWARNING ⚠️ /content/Scence-Text-Detection-4/train/images/photo_43_2024-11-05_23-58-35_jpg.rf.245a80826a4dc11a0672164cbe66be15.jpg: ignoring corrupt image/label: Label class 2272 exceeds dataset class count 1. Possible class labels are 0-0\n",
            "\u001b[34m\u001b[1mtrain: \u001b[0mWARNING ⚠️ /content/Scence-Text-Detection-4/train/images/photo_44_2024-10-26_23-16-21_jpg.rf.cf96b32a6abac6b79301fff49dac9df9.jpg: ignoring corrupt image/label: Label class 1467 exceeds dataset class count 1. Possible class labels are 0-0\n",
            "\u001b[34m\u001b[1mtrain: \u001b[0mWARNING ⚠️ /content/Scence-Text-Detection-4/train/images/photo_44_2024-11-05_23-58-22_jpg.rf.b14f2a2dd29d15381980d5b595e69d60.jpg: ignoring corrupt image/label: Label class 2 exceeds dataset class count 1. Possible class labels are 0-0\n",
            "\u001b[34m\u001b[1mtrain: \u001b[0mWARNING ⚠️ /content/Scence-Text-Detection-4/train/images/photo_45_2024-11-05_23-58-22_jpg.rf.fdfc9623cbc54be246b53f49352e13d9.jpg: ignoring corrupt image/label: Label class 1531 exceeds dataset class count 1. Possible class labels are 0-0\n",
            "\u001b[34m\u001b[1mtrain: \u001b[0mWARNING ⚠️ /content/Scence-Text-Detection-4/train/images/photo_45_2024-11-05_23-58-35_jpg.rf.cc5210c16d296ce84997dbb0f44f2d53.jpg: ignoring corrupt image/label: Label class 378 exceeds dataset class count 1. Possible class labels are 0-0\n",
            "\u001b[34m\u001b[1mtrain: \u001b[0mWARNING ⚠️ /content/Scence-Text-Detection-4/train/images/photo_46_2024-11-05_23-58-35_jpg.rf.77cdb0964a373900c6ac061977abc6cf.jpg: ignoring corrupt image/label: Label class 2 exceeds dataset class count 1. Possible class labels are 0-0\n",
            "\u001b[34m\u001b[1mtrain: \u001b[0mWARNING ⚠️ /content/Scence-Text-Detection-4/train/images/photo_47_2024-10-26_23-16-21_jpg.rf.02e78f936fceeb94d4ae0f562fdaefde.jpg: ignoring corrupt image/label: Label class 2 exceeds dataset class count 1. Possible class labels are 0-0\n",
            "\u001b[34m\u001b[1mtrain: \u001b[0mWARNING ⚠️ /content/Scence-Text-Detection-4/train/images/photo_47_2024-11-05_23-58-35_jpg.rf.1528120fa9e34dbff7ffbe94196e20c3.jpg: ignoring corrupt image/label: Label class 1947 exceeds dataset class count 1. Possible class labels are 0-0\n",
            "\u001b[34m\u001b[1mtrain: \u001b[0mWARNING ⚠️ /content/Scence-Text-Detection-4/train/images/photo_48_2024-11-05_23-58-35_jpg.rf.d0c3b35bde84c43af9e11069cbbbdd98.jpg: ignoring corrupt image/label: Label class 1178 exceeds dataset class count 1. Possible class labels are 0-0\n",
            "\u001b[34m\u001b[1mtrain: \u001b[0mWARNING ⚠️ /content/Scence-Text-Detection-4/train/images/photo_49_2024-11-05_23-58-22_jpg.rf.f422e7ce5e48d83514f1c6d36ef42631.jpg: ignoring corrupt image/label: Label class 734 exceeds dataset class count 1. Possible class labels are 0-0\n",
            "\u001b[34m\u001b[1mtrain: \u001b[0mWARNING ⚠️ /content/Scence-Text-Detection-4/train/images/photo_4_2024-11-05_23-58-22_jpg.rf.a90acfe6f9f67b8921f63c7f9c3a10c6.jpg: ignoring corrupt image/label: Label class 743 exceeds dataset class count 1. Possible class labels are 0-0\n",
            "\u001b[34m\u001b[1mtrain: \u001b[0mWARNING ⚠️ /content/Scence-Text-Detection-4/train/images/photo_4_2024-11-06_16-34-20_jpg.rf.9594b3b0ba22ea81dfd06e8b92c159ce.jpg: ignoring corrupt image/label: Label class 1534 exceeds dataset class count 1. Possible class labels are 0-0\n",
            "\u001b[34m\u001b[1mtrain: \u001b[0mWARNING ⚠️ /content/Scence-Text-Detection-4/train/images/photo_50_2024-11-05_23-58-22_jpg.rf.11d902d3d227fa39dd2038c2423d37b3.jpg: ignoring corrupt image/label: Label class 754 exceeds dataset class count 1. Possible class labels are 0-0\n",
            "\u001b[34m\u001b[1mtrain: \u001b[0mWARNING ⚠️ /content/Scence-Text-Detection-4/train/images/photo_51_2024-11-05_23-58-22_jpg.rf.8f92e06adf607851d22b6eeb8f5f26ad.jpg: ignoring corrupt image/label: Label class 1506 exceeds dataset class count 1. Possible class labels are 0-0\n",
            "\u001b[34m\u001b[1mtrain: \u001b[0mWARNING ⚠️ /content/Scence-Text-Detection-4/train/images/photo_52_2024-10-26_23-16-21_jpg.rf.0a93584e89c1ca39521c6361357d9dd9.jpg: ignoring corrupt image/label: Label class 1465 exceeds dataset class count 1. Possible class labels are 0-0\n",
            "\u001b[34m\u001b[1mtrain: \u001b[0mWARNING ⚠️ /content/Scence-Text-Detection-4/train/images/photo_52_2024-11-05_23-58-35_jpg.rf.9bbb7cec821e6eb5c4be0b0a04b1777d.jpg: ignoring corrupt image/label: Label class 2 exceeds dataset class count 1. Possible class labels are 0-0\n",
            "\u001b[34m\u001b[1mtrain: \u001b[0mWARNING ⚠️ /content/Scence-Text-Detection-4/train/images/photo_53_2024-11-05_23-58-22_jpg.rf.c858051c213da574133a439de0a64bfc.jpg: ignoring corrupt image/label: Label class 379 exceeds dataset class count 1. Possible class labels are 0-0\n",
            "\u001b[34m\u001b[1mtrain: \u001b[0mWARNING ⚠️ /content/Scence-Text-Detection-4/train/images/photo_54_2024-10-26_23-16-21_jpg.rf.44d4111d8707b91f0d692a71a54c62eb.jpg: ignoring corrupt image/label: Label class 3 exceeds dataset class count 1. Possible class labels are 0-0\n",
            "\u001b[34m\u001b[1mtrain: \u001b[0mWARNING ⚠️ /content/Scence-Text-Detection-4/train/images/photo_54_2024-11-05_23-58-22_jpg.rf.fd21a6afeaa193ff50f3a8b7a926a66d.jpg: ignoring corrupt image/label: Label class 991 exceeds dataset class count 1. Possible class labels are 0-0\n",
            "\u001b[34m\u001b[1mtrain: \u001b[0mWARNING ⚠️ /content/Scence-Text-Detection-4/train/images/photo_54_2024-11-05_23-58-35_jpg.rf.246cb67d1cd64dfb858f580d44d21055.jpg: ignoring corrupt image/label: Label class 1770 exceeds dataset class count 1. Possible class labels are 0-0\n",
            "\u001b[34m\u001b[1mtrain: \u001b[0mWARNING ⚠️ /content/Scence-Text-Detection-4/train/images/photo_57_2024-11-05_23-58-35_jpg.rf.1902d8d160a67e96abd464e420017199.jpg: ignoring corrupt image/label: Label class 1322 exceeds dataset class count 1. Possible class labels are 0-0\n",
            "\u001b[34m\u001b[1mtrain: \u001b[0mWARNING ⚠️ /content/Scence-Text-Detection-4/train/images/photo_58_2024-11-05_23-58-22_jpg.rf.d83662e55967ceaa45625a5bb82199aa.jpg: ignoring corrupt image/label: Label class 441 exceeds dataset class count 1. Possible class labels are 0-0\n",
            "\u001b[34m\u001b[1mtrain: \u001b[0mWARNING ⚠️ /content/Scence-Text-Detection-4/train/images/photo_59_2024-11-05_23-58-22_jpg.rf.045201baa9c0a797401b7595221cde2d.jpg: ignoring corrupt image/label: Label class 2250 exceeds dataset class count 1. Possible class labels are 0-0\n",
            "\u001b[34m\u001b[1mtrain: \u001b[0mWARNING ⚠️ /content/Scence-Text-Detection-4/train/images/photo_59_2024-11-05_23-58-35_jpg.rf.f2d78eb001255a45dbd12bfd40ed957f.jpg: ignoring corrupt image/label: Label class 2 exceeds dataset class count 1. Possible class labels are 0-0\n",
            "\u001b[34m\u001b[1mtrain: \u001b[0mWARNING ⚠️ /content/Scence-Text-Detection-4/train/images/photo_60_2024-11-05_23-58-22_jpg.rf.409f43bbe88a249af6a61384a1976c96.jpg: ignoring corrupt image/label: Label class 1346 exceeds dataset class count 1. Possible class labels are 0-0\n",
            "\u001b[34m\u001b[1mtrain: \u001b[0mWARNING ⚠️ /content/Scence-Text-Detection-4/train/images/photo_61_2024-11-05_23-58-22_jpg.rf.bc2c6492fc2865e68375c661380fb569.jpg: ignoring corrupt image/label: Label class 1416 exceeds dataset class count 1. Possible class labels are 0-0\n",
            "\u001b[34m\u001b[1mtrain: \u001b[0mWARNING ⚠️ /content/Scence-Text-Detection-4/train/images/photo_62_2024-11-06_16-34-45_jpg.rf.d13cb82a8613b47203a42eef4fb42702.jpg: ignoring corrupt image/label: Label class 2 exceeds dataset class count 1. Possible class labels are 0-0\n",
            "\u001b[34m\u001b[1mtrain: \u001b[0mWARNING ⚠️ /content/Scence-Text-Detection-4/train/images/photo_63_2024-11-05_23-58-22_jpg.rf.8ce0cb16402c5ea8f7523b9838300e07.jpg: ignoring corrupt image/label: Label class 1609 exceeds dataset class count 1. Possible class labels are 0-0\n",
            "\u001b[34m\u001b[1mtrain: \u001b[0mWARNING ⚠️ /content/Scence-Text-Detection-4/train/images/photo_63_2024-11-06_16-34-45_jpg.rf.f3b61a29639cc7c7f7c2978cf79ed65b.jpg: ignoring corrupt image/label: Label class 2271 exceeds dataset class count 1. Possible class labels are 0-0\n",
            "\u001b[34m\u001b[1mtrain: \u001b[0mWARNING ⚠️ /content/Scence-Text-Detection-4/train/images/photo_64_2024-11-06_16-34-45_jpg.rf.2e3b33519861ea02085ca24e7160e70d.jpg: ignoring corrupt image/label: Label class 2 exceeds dataset class count 1. Possible class labels are 0-0\n",
            "\u001b[34m\u001b[1mtrain: \u001b[0mWARNING ⚠️ /content/Scence-Text-Detection-4/train/images/photo_65_2024-11-05_23-58-22_jpg.rf.53b1a09373b3e48c289714cc8ce5bc9d.jpg: ignoring corrupt image/label: Label class 2 exceeds dataset class count 1. Possible class labels are 0-0\n",
            "\u001b[34m\u001b[1mtrain: \u001b[0mWARNING ⚠️ /content/Scence-Text-Detection-4/train/images/photo_65_2024-11-06_16-34-45_jpg.rf.0e13cdcbbe86557660fcbb2b0273ebef.jpg: ignoring corrupt image/label: Label class 1562 exceeds dataset class count 1. Possible class labels are 0-0\n",
            "\u001b[34m\u001b[1mtrain: \u001b[0mWARNING ⚠️ /content/Scence-Text-Detection-4/train/images/photo_67_2024-11-06_16-34-45_jpg.rf.a2e551cebf6d2bdfd4d17f36b3b5c6bc.jpg: ignoring corrupt image/label: Label class 2 exceeds dataset class count 1. Possible class labels are 0-0\n",
            "\u001b[34m\u001b[1mtrain: \u001b[0mWARNING ⚠️ /content/Scence-Text-Detection-4/train/images/photo_68_2024-11-06_16-34-45_jpg.rf.9ced4900720edb314a03f27f246dd681.jpg: ignoring corrupt image/label: Label class 2045 exceeds dataset class count 1. Possible class labels are 0-0\n",
            "\u001b[34m\u001b[1mtrain: \u001b[0mWARNING ⚠️ /content/Scence-Text-Detection-4/train/images/photo_69_2024-11-06_16-34-45_jpg.rf.0c8faa4a36ca688322ee17c3b567cab7.jpg: ignoring corrupt image/label: Label class 1016 exceeds dataset class count 1. Possible class labels are 0-0\n",
            "\u001b[34m\u001b[1mtrain: \u001b[0mWARNING ⚠️ /content/Scence-Text-Detection-4/train/images/photo_6_2024-11-05_23-58-22_jpg.rf.9cdf88298b15cd23c526ec85567681b7.jpg: ignoring corrupt image/label: Label class 509 exceeds dataset class count 1. Possible class labels are 0-0\n",
            "\u001b[34m\u001b[1mtrain: \u001b[0mWARNING ⚠️ /content/Scence-Text-Detection-4/train/images/photo_6_2024-11-06_16-34-20_jpg.rf.74280371c4c0b2ee836a3523ce3b02e1.jpg: ignoring corrupt image/label: Label class 828 exceeds dataset class count 1. Possible class labels are 0-0\n",
            "\u001b[34m\u001b[1mtrain: \u001b[0mWARNING ⚠️ /content/Scence-Text-Detection-4/train/images/photo_71_2024-11-06_16-34-45_jpg.rf.b9b6fc1dc50722f20b0426069649075e.jpg: ignoring corrupt image/label: Label class 1518 exceeds dataset class count 1. Possible class labels are 0-0\n",
            "\u001b[34m\u001b[1mtrain: \u001b[0mWARNING ⚠️ /content/Scence-Text-Detection-4/train/images/photo_7_2024-10-26_23-16-21_jpg.rf.428e92746ce26758dfbe57921d047410.jpg: ignoring corrupt image/label: Label class 3 exceeds dataset class count 1. Possible class labels are 0-0\n",
            "\u001b[34m\u001b[1mtrain: \u001b[0mWARNING ⚠️ /content/Scence-Text-Detection-4/train/images/photo_7_2024-11-02_17-08-43_jpg.rf.1574091dad268471cc52b4c4ffdf1601.jpg: ignoring corrupt image/label: Label class 2078 exceeds dataset class count 1. Possible class labels are 0-0\n",
            "\u001b[34m\u001b[1mtrain: \u001b[0mWARNING ⚠️ /content/Scence-Text-Detection-4/train/images/photo_7_2024-11-05_23-58-35_jpg.rf.6e4ac9698ec570467beff37caac9baca.jpg: ignoring corrupt image/label: Label class 1332 exceeds dataset class count 1. Possible class labels are 0-0\n",
            "\u001b[34m\u001b[1mtrain: \u001b[0mWARNING ⚠️ /content/Scence-Text-Detection-4/train/images/photo_7_2024-11-06_16-34-20_jpg.rf.4a8794e4f4a0420971ddb15e4bfa30fb.jpg: ignoring corrupt image/label: Label class 1071 exceeds dataset class count 1. Possible class labels are 0-0\n",
            "\u001b[34m\u001b[1mtrain: \u001b[0mWARNING ⚠️ /content/Scence-Text-Detection-4/train/images/photo_81_2024-11-06_16-34-45_jpg.rf.eac1c1e4cb1138f1ef43968d8bb8d867.jpg: ignoring corrupt image/label: Label class 2153 exceeds dataset class count 1. Possible class labels are 0-0\n",
            "\u001b[34m\u001b[1mtrain: \u001b[0mWARNING ⚠️ /content/Scence-Text-Detection-4/train/images/photo_87_2024-11-05_23-58-22_jpg.rf.3bac1bb961c035753bb9fb71fec0b585.jpg: ignoring corrupt image/label: Label class 209 exceeds dataset class count 1. Possible class labels are 0-0\n",
            "\u001b[34m\u001b[1mtrain: \u001b[0mWARNING ⚠️ /content/Scence-Text-Detection-4/train/images/photo_89_2024-11-06_16-34-45_jpg.rf.86c203d70249a2e5b52484b820556514.jpg: ignoring corrupt image/label: Label class 2 exceeds dataset class count 1. Possible class labels are 0-0\n",
            "\u001b[34m\u001b[1mtrain: \u001b[0mWARNING ⚠️ /content/Scence-Text-Detection-4/train/images/photo_8_2024-10-26_23-16-21_jpg.rf.4ae9586c96f5171f68536be02f7afcb8.jpg: ignoring corrupt image/label: Label class 2 exceeds dataset class count 1. Possible class labels are 0-0\n",
            "\u001b[34m\u001b[1mtrain: \u001b[0mWARNING ⚠️ /content/Scence-Text-Detection-4/train/images/photo_91_2024-11-06_16-34-45_jpg.rf.d0e4e545f9768c6e5043f51a5124baca.jpg: ignoring corrupt image/label: Label class 937 exceeds dataset class count 1. Possible class labels are 0-0\n",
            "\u001b[34m\u001b[1mtrain: \u001b[0mWARNING ⚠️ /content/Scence-Text-Detection-4/train/images/photo_92_2024-11-05_23-58-22_jpg.rf.33fb802d8fa394f10985edc3978e5455.jpg: ignoring corrupt image/label: Label class 2 exceeds dataset class count 1. Possible class labels are 0-0\n",
            "\u001b[34m\u001b[1mtrain: \u001b[0mWARNING ⚠️ /content/Scence-Text-Detection-4/train/images/photo_92_2024-11-06_16-34-45_jpg.rf.f07d4f05369c4d68cae566f839084fea.jpg: ignoring corrupt image/label: Label class 1562 exceeds dataset class count 1. Possible class labels are 0-0\n",
            "\u001b[34m\u001b[1mtrain: \u001b[0mWARNING ⚠️ /content/Scence-Text-Detection-4/train/images/photo_95_2024-11-05_23-58-22_jpg.rf.66b6d2304bc0ab589d42f127b681cf1a.jpg: ignoring corrupt image/label: Label class 3 exceeds dataset class count 1. Possible class labels are 0-0\n",
            "\u001b[34m\u001b[1mtrain: \u001b[0mWARNING ⚠️ /content/Scence-Text-Detection-4/train/images/photo_95_2024-11-06_16-34-45_jpg.rf.b3d9c32c021b992c60b964575f91a9c8.jpg: ignoring corrupt image/label: Label class 244 exceeds dataset class count 1. Possible class labels are 0-0\n",
            "\u001b[34m\u001b[1mtrain: \u001b[0mWARNING ⚠️ /content/Scence-Text-Detection-4/train/images/photo_96_2024-11-05_23-58-22_jpg.rf.09ff766a5a2e9137d8f4f126135442b1.jpg: ignoring corrupt image/label: Label class 3 exceeds dataset class count 1. Possible class labels are 0-0\n",
            "\u001b[34m\u001b[1mtrain: \u001b[0mWARNING ⚠️ /content/Scence-Text-Detection-4/train/images/photo_98_2024-11-05_23-58-22_jpg.rf.402d55380073d437c62f27330c30f995.jpg: ignoring corrupt image/label: Label class 2 exceeds dataset class count 1. Possible class labels are 0-0\n",
            "\u001b[34m\u001b[1mtrain: \u001b[0mWARNING ⚠️ /content/Scence-Text-Detection-4/train/images/photo_9_2024-10-26_23-16-21_jpg.rf.62a063e139457170a5f6d6d6aaf9d121.jpg: ignoring corrupt image/label: Label class 3 exceeds dataset class count 1. Possible class labels are 0-0\n",
            "\u001b[34m\u001b[1mtrain: \u001b[0mWARNING ⚠️ /content/Scence-Text-Detection-4/train/images/photo_9_2024-11-06_16-34-20_jpg.rf.cfdfd2bff2f4015c3a141c0ca529e2fc.jpg: ignoring corrupt image/label: Label class 534 exceeds dataset class count 1. Possible class labels are 0-0\n",
            "\u001b[34m\u001b[1mtrain: \u001b[0mWARNING ⚠️ /content/Scence-Text-Detection-4/train/images/received_1217959465843686_jpeg.rf.54029b4be412fee675dfbe2d5828e250.jpg: ignoring corrupt image/label: Label class 2283 exceeds dataset class count 1. Possible class labels are 0-0\n",
            "\u001b[34m\u001b[1mtrain: \u001b[0mWARNING ⚠️ /content/Scence-Text-Detection-4/train/images/received_1557487498199123_jpeg.rf.e2f2f757cc3943b45a12956596a3ea0e.jpg: ignoring corrupt image/label: Label class 2283 exceeds dataset class count 1. Possible class labels are 0-0\n",
            "\u001b[34m\u001b[1mtrain: \u001b[0mWARNING ⚠️ /content/Scence-Text-Detection-4/train/images/received_1624425135084535_jpeg.rf.d2d5368cfb8a9640842800b454615c02.jpg: ignoring corrupt image/label: Label class 2142 exceeds dataset class count 1. Possible class labels are 0-0\n",
            "\u001b[34m\u001b[1mtrain: \u001b[0mWARNING ⚠️ /content/Scence-Text-Detection-4/train/images/received_1635054310655330_jpeg.rf.9658fcc1f4b5da86cb4e81c397005104.jpg: ignoring corrupt image/label: Label class 2283 exceeds dataset class count 1. Possible class labels are 0-0\n",
            "\u001b[34m\u001b[1mtrain: \u001b[0mWARNING ⚠️ /content/Scence-Text-Detection-4/train/images/received_512407344932953_jpeg.rf.8076d0e3587e47a2577f74e66da5f886.jpg: ignoring corrupt image/label: Label class 2283 exceeds dataset class count 1. Possible class labels are 0-0\n",
            "\u001b[34m\u001b[1mtrain: \u001b[0mWARNING ⚠️ /content/Scence-Text-Detection-4/train/images/received_513563554772633_jpeg.rf.83a6b0a316e4b7eb562be025fda63b59.jpg: ignoring corrupt image/label: Label class 2283 exceeds dataset class count 1. Possible class labels are 0-0\n",
            "\u001b[34m\u001b[1mtrain: \u001b[0mWARNING ⚠️ /content/Scence-Text-Detection-4/train/images/received_737546828479989_jpeg.rf.8373abf084a906ed4eb8cf4cb02aee53.jpg: ignoring corrupt image/label: Label class 2283 exceeds dataset class count 1. Possible class labels are 0-0\n",
            "\u001b[34m\u001b[1mtrain: \u001b[0mWARNING ⚠️ /content/Scence-Text-Detection-4/train/images/received_809448774392911_jpeg.rf.06154b5e35de90c92ddd0e3519aec5ac.jpg: ignoring corrupt image/label: Label class 2283 exceeds dataset class count 1. Possible class labels are 0-0\n",
            "\u001b[34m\u001b[1mtrain: \u001b[0mWARNING ⚠️ /content/Scence-Text-Detection-4/train/images/received_939579477998090_jpeg.rf.7da9a11a891ce27ac65ff472d75bda5c.jpg: ignoring corrupt image/label: Label class 2283 exceeds dataset class count 1. Possible class labels are 0-0\n",
            "\u001b[34m\u001b[1mtrain: \u001b[0mWARNING ⚠️ /content/Scence-Text-Detection-4/train/images/received_990149236169193_jpeg.rf.08faaf86c1771284ce76555ca58edaed.jpg: ignoring corrupt image/label: Label class 2283 exceeds dataset class count 1. Possible class labels are 0-0\n",
            "\u001b[34m\u001b[1mtrain: \u001b[0mWARNING ⚠️ /content/Scence-Text-Detection-4/train/images/sb_107_jpg.rf.ddd028f56a1abb9f31b6b5fb4a63707f.jpg: ignoring corrupt image/label: Label class 1440 exceeds dataset class count 1. Possible class labels are 0-0\n",
            "\u001b[34m\u001b[1mtrain: \u001b[0mWARNING ⚠️ /content/Scence-Text-Detection-4/train/images/sb_109_jpg.rf.f69d20d0cba7c692449bc936843aaad0.jpg: ignoring corrupt image/label: Label class 1616 exceeds dataset class count 1. Possible class labels are 0-0\n",
            "\u001b[34m\u001b[1mtrain: \u001b[0mWARNING ⚠️ /content/Scence-Text-Detection-4/train/images/sb_10_jpg.rf.164a5f3a8f5022d6a9acd9a878a97e1f.jpg: ignoring corrupt image/label: Label class 2033 exceeds dataset class count 1. Possible class labels are 0-0\n",
            "\u001b[34m\u001b[1mtrain: \u001b[0mWARNING ⚠️ /content/Scence-Text-Detection-4/train/images/sb_112_jpg.rf.f9f6ce0a0f26216f1ee339f0f473555a.jpg: ignoring corrupt image/label: Label class 1208 exceeds dataset class count 1. Possible class labels are 0-0\n",
            "\u001b[34m\u001b[1mtrain: \u001b[0mWARNING ⚠️ /content/Scence-Text-Detection-4/train/images/sb_11_jpg.rf.8521c4e48f0e7937b9a23b83425cc260.jpg: ignoring corrupt image/label: Label class 2022 exceeds dataset class count 1. Possible class labels are 0-0\n",
            "\u001b[34m\u001b[1mtrain: \u001b[0mWARNING ⚠️ /content/Scence-Text-Detection-4/train/images/sb_123_jpg.rf.b933a938df02411567ab526a2278da6d.jpg: ignoring corrupt image/label: Label class 1193 exceeds dataset class count 1. Possible class labels are 0-0\n",
            "\u001b[34m\u001b[1mtrain: \u001b[0mWARNING ⚠️ /content/Scence-Text-Detection-4/train/images/sb_12_jpg.rf.251d0767868d05ccc24c84c9b9e73eee.jpg: ignoring corrupt image/label: Label class 1315 exceeds dataset class count 1. Possible class labels are 0-0\n",
            "\u001b[34m\u001b[1mtrain: \u001b[0mWARNING ⚠️ /content/Scence-Text-Detection-4/train/images/sb_132_jpg.rf.75372ff52ea64b407bbaeddfd6a1117a.jpg: ignoring corrupt image/label: Label class 2065 exceeds dataset class count 1. Possible class labels are 0-0\n",
            "\u001b[34m\u001b[1mtrain: \u001b[0mWARNING ⚠️ /content/Scence-Text-Detection-4/train/images/sb_133_jpg.rf.3d7612901de8027b013cd88b5d9e4359.jpg: ignoring corrupt image/label: Label class 577 exceeds dataset class count 1. Possible class labels are 0-0\n",
            "\u001b[34m\u001b[1mtrain: \u001b[0mWARNING ⚠️ /content/Scence-Text-Detection-4/train/images/sb_135_jpg.rf.77bf1c993064968f83d8a3240da60965.jpg: ignoring corrupt image/label: Label class 1278 exceeds dataset class count 1. Possible class labels are 0-0\n",
            "\u001b[34m\u001b[1mtrain: \u001b[0mWARNING ⚠️ /content/Scence-Text-Detection-4/train/images/sb_136_jpg.rf.3a96afd64496fa8b13fa44bbb062dd72.jpg: ignoring corrupt image/label: Label class 1567 exceeds dataset class count 1. Possible class labels are 0-0\n",
            "\u001b[34m\u001b[1mtrain: \u001b[0mWARNING ⚠️ /content/Scence-Text-Detection-4/train/images/sb_140_jpg.rf.2cbbc1610f753566f5a42d4bc03b2f7f.jpg: ignoring corrupt image/label: Label class 2065 exceeds dataset class count 1. Possible class labels are 0-0\n",
            "\u001b[34m\u001b[1mtrain: \u001b[0mWARNING ⚠️ /content/Scence-Text-Detection-4/train/images/sb_142_jpg.rf.c78ef774c464307b8c6428e6ad0b290d.jpg: ignoring corrupt image/label: Label class 1815 exceeds dataset class count 1. Possible class labels are 0-0\n",
            "\u001b[34m\u001b[1mtrain: \u001b[0mWARNING ⚠️ /content/Scence-Text-Detection-4/train/images/sb_14_jpg.rf.abe596c47a4779db03959ca245b03dbc.jpg: ignoring corrupt image/label: Label class 1810 exceeds dataset class count 1. Possible class labels are 0-0\n",
            "\u001b[34m\u001b[1mtrain: \u001b[0mWARNING ⚠️ /content/Scence-Text-Detection-4/train/images/sb_152_jpg.rf.db7aeaaad72647502a1a0075d884277e.jpg: ignoring corrupt image/label: Label class 1126 exceeds dataset class count 1. Possible class labels are 0-0\n",
            "\u001b[34m\u001b[1mtrain: \u001b[0mWARNING ⚠️ /content/Scence-Text-Detection-4/train/images/sb_153_jpg.rf.21477c2bb958c8c4a9b57ff1a2e34d65.jpg: ignoring corrupt image/label: Label class 653 exceeds dataset class count 1. Possible class labels are 0-0\n",
            "\u001b[34m\u001b[1mtrain: \u001b[0mWARNING ⚠️ /content/Scence-Text-Detection-4/train/images/sb_158_jpg.rf.0f9eea1e2657004f94a52ee8dec18ae7.jpg: ignoring corrupt image/label: Label class 503 exceeds dataset class count 1. Possible class labels are 0-0\n",
            "\u001b[34m\u001b[1mtrain: \u001b[0mWARNING ⚠️ /content/Scence-Text-Detection-4/train/images/sb_159_jpg.rf.53c6624cc00a02419f1e3f89a5ae9c0c.jpg: ignoring corrupt image/label: Label class 1229 exceeds dataset class count 1. Possible class labels are 0-0\n",
            "\u001b[34m\u001b[1mtrain: \u001b[0mWARNING ⚠️ /content/Scence-Text-Detection-4/train/images/sb_15_jpg.rf.0bd0d0bca2bf53419c25c7551d12777b.jpg: ignoring corrupt image/label: Label class 1205 exceeds dataset class count 1. Possible class labels are 0-0\n",
            "\u001b[34m\u001b[1mtrain: \u001b[0mWARNING ⚠️ /content/Scence-Text-Detection-4/train/images/sb_164_jpg.rf.03c43b97358543af28028b094a761dea.jpg: ignoring corrupt image/label: Label class 2 exceeds dataset class count 1. Possible class labels are 0-0\n",
            "\u001b[34m\u001b[1mtrain: \u001b[0mWARNING ⚠️ /content/Scence-Text-Detection-4/train/images/sb_178_jpg.rf.213f172204fb08af00227ba03649d22f.jpg: ignoring corrupt image/label: Label class 1521 exceeds dataset class count 1. Possible class labels are 0-0\n",
            "\u001b[34m\u001b[1mtrain: \u001b[0mWARNING ⚠️ /content/Scence-Text-Detection-4/train/images/sb_182_jpg.rf.280dee55070d7969a12a4f1f7441f081.jpg: ignoring corrupt image/label: Label class 2 exceeds dataset class count 1. Possible class labels are 0-0\n",
            "\u001b[34m\u001b[1mtrain: \u001b[0mWARNING ⚠️ /content/Scence-Text-Detection-4/train/images/sb_185_jpg.rf.60bcb08a4761edd7899b745f36425949.jpg: ignoring corrupt image/label: Label class 2 exceeds dataset class count 1. Possible class labels are 0-0\n",
            "\u001b[34m\u001b[1mtrain: \u001b[0mWARNING ⚠️ /content/Scence-Text-Detection-4/train/images/sb_189_jpg.rf.886c56ea1e2dea67d69aabc7b1787a8e.jpg: ignoring corrupt image/label: Label class 2 exceeds dataset class count 1. Possible class labels are 0-0\n",
            "\u001b[34m\u001b[1mtrain: \u001b[0mWARNING ⚠️ /content/Scence-Text-Detection-4/train/images/sb_196_jpg.rf.fcffedbfde1549cae6c0b305aef0d0f4.jpg: ignoring corrupt image/label: Label class 1609 exceeds dataset class count 1. Possible class labels are 0-0\n",
            "\u001b[34m\u001b[1mtrain: \u001b[0mWARNING ⚠️ /content/Scence-Text-Detection-4/train/images/sb_198_jpg.rf.4626e1d5141fe7fcbcf9d131702d2157.jpg: ignoring corrupt image/label: Label class 1069 exceeds dataset class count 1. Possible class labels are 0-0\n",
            "\u001b[34m\u001b[1mtrain: \u001b[0mWARNING ⚠️ /content/Scence-Text-Detection-4/train/images/sb_199_jpg.rf.d574d9e8818110be6008379c0b5fec56.jpg: ignoring corrupt image/label: Label class 1600 exceeds dataset class count 1. Possible class labels are 0-0\n",
            "\u001b[34m\u001b[1mtrain: \u001b[0mWARNING ⚠️ /content/Scence-Text-Detection-4/train/images/sb_200_jpg.rf.280f549244773f4dceb6b7352b1047d7.jpg: ignoring corrupt image/label: Label class 1069 exceeds dataset class count 1. Possible class labels are 0-0\n",
            "\u001b[34m\u001b[1mtrain: \u001b[0mWARNING ⚠️ /content/Scence-Text-Detection-4/train/images/sb_201_jpg.rf.8e3503cfa94e0054f3a3fc748494a274.jpg: ignoring corrupt image/label: Label class 2 exceeds dataset class count 1. Possible class labels are 0-0\n",
            "\u001b[34m\u001b[1mtrain: \u001b[0mWARNING ⚠️ /content/Scence-Text-Detection-4/train/images/sb_202_jpg.rf.00c972898c3850e23b3b909541e26156.jpg: ignoring corrupt image/label: Label class 505 exceeds dataset class count 1. Possible class labels are 0-0\n",
            "\u001b[34m\u001b[1mtrain: \u001b[0mWARNING ⚠️ /content/Scence-Text-Detection-4/train/images/sb_206_jpg.rf.a054ec4b195e50f5f524f6840e92fb81.jpg: ignoring corrupt image/label: Label class 2 exceeds dataset class count 1. Possible class labels are 0-0\n",
            "\u001b[34m\u001b[1mtrain: \u001b[0mWARNING ⚠️ /content/Scence-Text-Detection-4/train/images/sb_208_jpg.rf.b732421fa59ddc75ca924f0499cd992b.jpg: ignoring corrupt image/label: Label class 1244 exceeds dataset class count 1. Possible class labels are 0-0\n",
            "\u001b[34m\u001b[1mtrain: \u001b[0mWARNING ⚠️ /content/Scence-Text-Detection-4/train/images/sb_211_jpg.rf.c066293ceb1aefae84d4acf6eec395c0.jpg: ignoring corrupt image/label: Label class 1961 exceeds dataset class count 1. Possible class labels are 0-0\n",
            "\u001b[34m\u001b[1mtrain: \u001b[0mWARNING ⚠️ /content/Scence-Text-Detection-4/train/images/sb_217_jpg.rf.c599afdfdf15deea8530749bd81e27fe.jpg: ignoring corrupt image/label: Label class 2 exceeds dataset class count 1. Possible class labels are 0-0\n",
            "\u001b[34m\u001b[1mtrain: \u001b[0mWARNING ⚠️ /content/Scence-Text-Detection-4/train/images/sb_218_jpg.rf.29f53cccbafcd62f04e8beb81e105be2.jpg: ignoring corrupt image/label: Label class 2 exceeds dataset class count 1. Possible class labels are 0-0\n",
            "\u001b[34m\u001b[1mtrain: \u001b[0mWARNING ⚠️ /content/Scence-Text-Detection-4/train/images/sb_221_jpg.rf.3d5dc9366632d2e313bb5a2fec75d9b4.jpg: ignoring corrupt image/label: Label class 175 exceeds dataset class count 1. Possible class labels are 0-0\n",
            "\u001b[34m\u001b[1mtrain: \u001b[0mWARNING ⚠️ /content/Scence-Text-Detection-4/train/images/sb_225_jpg.rf.bff986839ff86a8d0e54021305ebdd69.jpg: ignoring corrupt image/label: Label class 2 exceeds dataset class count 1. Possible class labels are 0-0\n",
            "\u001b[34m\u001b[1mtrain: \u001b[0mWARNING ⚠️ /content/Scence-Text-Detection-4/train/images/sb_227_jpg.rf.b8600e3a7e5504dbd4343276b8536c5b.jpg: ignoring corrupt image/label: Label class 974 exceeds dataset class count 1. Possible class labels are 0-0\n",
            "\u001b[34m\u001b[1mtrain: \u001b[0mWARNING ⚠️ /content/Scence-Text-Detection-4/train/images/sb_228_jpg.rf.e496eddbb059fce4ff24bdf2a6aeed0a.jpg: ignoring corrupt image/label: Label class 5 exceeds dataset class count 1. Possible class labels are 0-0\n",
            "\u001b[34m\u001b[1mtrain: \u001b[0mWARNING ⚠️ /content/Scence-Text-Detection-4/train/images/sb_22_jpg.rf.f578428f084ec09d43e35aab550f18b2.jpg: ignoring corrupt image/label: Label class 1458 exceeds dataset class count 1. Possible class labels are 0-0\n",
            "\u001b[34m\u001b[1mtrain: \u001b[0mWARNING ⚠️ /content/Scence-Text-Detection-4/train/images/sb_236_jpg.rf.036fa6c20183335f33633bf5fa74275d.jpg: ignoring corrupt image/label: Label class 5 exceeds dataset class count 1. Possible class labels are 0-0\n",
            "\u001b[34m\u001b[1mtrain: \u001b[0mWARNING ⚠️ /content/Scence-Text-Detection-4/train/images/sb_237_jpg.rf.d07381af3cdd8397eacd2591e0c3d258.jpg: ignoring corrupt image/label: Label class 3 exceeds dataset class count 1. Possible class labels are 0-0\n",
            "\u001b[34m\u001b[1mtrain: \u001b[0mWARNING ⚠️ /content/Scence-Text-Detection-4/train/images/sb_241_jpg.rf.4eb157d8fb051a1f4a5d5b095fa532ad.jpg: ignoring corrupt image/label: Label class 1333 exceeds dataset class count 1. Possible class labels are 0-0\n",
            "\u001b[34m\u001b[1mtrain: \u001b[0mWARNING ⚠️ /content/Scence-Text-Detection-4/train/images/sb_244_jpg.rf.5de14fbf31c0619b8262bf35b110f7d3.jpg: ignoring corrupt image/label: Label class 2 exceeds dataset class count 1. Possible class labels are 0-0\n",
            "\u001b[34m\u001b[1mtrain: \u001b[0mWARNING ⚠️ /content/Scence-Text-Detection-4/train/images/sb_24_jpg.rf.c9dfe885c23842b08a52b1b80ebed994.jpg: ignoring corrupt image/label: Label class 2167 exceeds dataset class count 1. Possible class labels are 0-0\n",
            "\u001b[34m\u001b[1mtrain: \u001b[0mWARNING ⚠️ /content/Scence-Text-Detection-4/train/images/sb_252_jpg.rf.a01b837302eea0ca50c0ce6627f635dd.jpg: ignoring corrupt image/label: Label class 2 exceeds dataset class count 1. Possible class labels are 0-0\n",
            "\u001b[34m\u001b[1mtrain: \u001b[0mWARNING ⚠️ /content/Scence-Text-Detection-4/train/images/sb_253_jpg.rf.600b1ee8e571cfd0b6adbe0608af7502.jpg: ignoring corrupt image/label: Label class 2 exceeds dataset class count 1. Possible class labels are 0-0\n",
            "\u001b[34m\u001b[1mtrain: \u001b[0mWARNING ⚠️ /content/Scence-Text-Detection-4/train/images/sb_255_jpg.rf.7f0b5aeea2283439b1c847b6b0f1f444.jpg: ignoring corrupt image/label: Label class 1861 exceeds dataset class count 1. Possible class labels are 0-0\n",
            "\u001b[34m\u001b[1mtrain: \u001b[0mWARNING ⚠️ /content/Scence-Text-Detection-4/train/images/sb_257_jpg.rf.93c5549ab064936a0090aead5837de94.jpg: ignoring corrupt image/label: Label class 1815 exceeds dataset class count 1. Possible class labels are 0-0\n",
            "\u001b[34m\u001b[1mtrain: \u001b[0mWARNING ⚠️ /content/Scence-Text-Detection-4/train/images/sb_258_jpg.rf.f601ab156500ebb4cfd9cde46c79d809.jpg: ignoring corrupt image/label: Label class 3 exceeds dataset class count 1. Possible class labels are 0-0\n",
            "\u001b[34m\u001b[1mtrain: \u001b[0mWARNING ⚠️ /content/Scence-Text-Detection-4/train/images/sb_263_jpg.rf.c8b49476e268d04280d853b6c5ff295b.jpg: ignoring corrupt image/label: Label class 1947 exceeds dataset class count 1. Possible class labels are 0-0\n",
            "\u001b[34m\u001b[1mtrain: \u001b[0mWARNING ⚠️ /content/Scence-Text-Detection-4/train/images/sb_266_jpg.rf.899b5126f9f50a85a87c232f8b046714.jpg: ignoring corrupt image/label: Label class 1928 exceeds dataset class count 1. Possible class labels are 0-0\n",
            "\u001b[34m\u001b[1mtrain: \u001b[0mWARNING ⚠️ /content/Scence-Text-Detection-4/train/images/sb_267_jpg.rf.357320ffdaa90f826c9070acd650e2ce.jpg: ignoring corrupt image/label: Label class 1061 exceeds dataset class count 1. Possible class labels are 0-0\n",
            "\u001b[34m\u001b[1mtrain: \u001b[0mWARNING ⚠️ /content/Scence-Text-Detection-4/train/images/sb_26_jpg.rf.6c45c7454307835be463642a490173f4.jpg: ignoring corrupt image/label: Label class 1981 exceeds dataset class count 1. Possible class labels are 0-0\n",
            "\u001b[34m\u001b[1mtrain: \u001b[0mWARNING ⚠️ /content/Scence-Text-Detection-4/train/images/sb_271_jpg.rf.7177f5d524dd62ae536c0ca824eb1c94.jpg: ignoring corrupt image/label: Label class 1725 exceeds dataset class count 1. Possible class labels are 0-0\n",
            "\u001b[34m\u001b[1mtrain: \u001b[0mWARNING ⚠️ /content/Scence-Text-Detection-4/train/images/sb_272_jpg.rf.4a966ed92446580f21303bb90b09d8c5.jpg: ignoring corrupt image/label: Label class 2 exceeds dataset class count 1. Possible class labels are 0-0\n",
            "\u001b[34m\u001b[1mtrain: \u001b[0mWARNING ⚠️ /content/Scence-Text-Detection-4/train/images/sb_273_jpg.rf.4072844437d5c8792f70e5fccc0638f8.jpg: ignoring corrupt image/label: Label class 2 exceeds dataset class count 1. Possible class labels are 0-0\n",
            "\u001b[34m\u001b[1mtrain: \u001b[0mWARNING ⚠️ /content/Scence-Text-Detection-4/train/images/sb_276_jpg.rf.d5bc07ac1f1cc4066f977728d8e4014a.jpg: ignoring corrupt image/label: Label class 1890 exceeds dataset class count 1. Possible class labels are 0-0\n",
            "\u001b[34m\u001b[1mtrain: \u001b[0mWARNING ⚠️ /content/Scence-Text-Detection-4/train/images/sb_277_jpg.rf.21cba9e45d5e92062b96c1998d99280f.jpg: ignoring corrupt image/label: Label class 2136 exceeds dataset class count 1. Possible class labels are 0-0\n",
            "\u001b[34m\u001b[1mtrain: \u001b[0mWARNING ⚠️ /content/Scence-Text-Detection-4/train/images/sb_278_jpg.rf.79736f8069e5259bd47c9366fd537f5e.jpg: ignoring corrupt image/label: Label class 1745 exceeds dataset class count 1. Possible class labels are 0-0\n",
            "\u001b[34m\u001b[1mtrain: \u001b[0mWARNING ⚠️ /content/Scence-Text-Detection-4/train/images/sb_279_jpg.rf.bb4e4c866b38c899a8b27a3e62b446a4.jpg: ignoring corrupt image/label: Label class 1703 exceeds dataset class count 1. Possible class labels are 0-0\n",
            "\u001b[34m\u001b[1mtrain: \u001b[0mWARNING ⚠️ /content/Scence-Text-Detection-4/train/images/sb_27_jpg.rf.af52c1454f0877bfbc7373d78fc9f9ce.jpg: ignoring corrupt image/label: Label class 2155 exceeds dataset class count 1. Possible class labels are 0-0\n",
            "\u001b[34m\u001b[1mtrain: \u001b[0mWARNING ⚠️ /content/Scence-Text-Detection-4/train/images/sb_283_jpg.rf.b79d472711b2cdd56390a9e9e9b26d25.jpg: ignoring corrupt image/label: Label class 733 exceeds dataset class count 1. Possible class labels are 0-0\n",
            "\u001b[34m\u001b[1mtrain: \u001b[0mWARNING ⚠️ /content/Scence-Text-Detection-4/train/images/sb_288_jpg.rf.9fbf54f5513cc2155b54c160f32e1cc4.jpg: ignoring corrupt image/label: Label class 199 exceeds dataset class count 1. Possible class labels are 0-0\n",
            "\u001b[34m\u001b[1mtrain: \u001b[0mWARNING ⚠️ /content/Scence-Text-Detection-4/train/images/sb_289_jpg.rf.f8b7cabb26d790ec0cb2fca7e24d94cd.jpg: ignoring corrupt image/label: Label class 2240 exceeds dataset class count 1. Possible class labels are 0-0\n",
            "\u001b[34m\u001b[1mtrain: \u001b[0mWARNING ⚠️ /content/Scence-Text-Detection-4/train/images/sb_290_jpg.rf.16dcfce3fd581c39926d0640bc2fa750.jpg: ignoring corrupt image/label: Label class 3 exceeds dataset class count 1. Possible class labels are 0-0\n",
            "\u001b[34m\u001b[1mtrain: \u001b[0mWARNING ⚠️ /content/Scence-Text-Detection-4/train/images/sb_293_jpg.rf.143dc354c66e9b68c876285721f441c3.jpg: ignoring corrupt image/label: Label class 2195 exceeds dataset class count 1. Possible class labels are 0-0\n",
            "\u001b[34m\u001b[1mtrain: \u001b[0mWARNING ⚠️ /content/Scence-Text-Detection-4/train/images/sb_294_jpg.rf.1721e60b01207b4acfc11f241a9a41b3.jpg: ignoring corrupt image/label: Label class 5 exceeds dataset class count 1. Possible class labels are 0-0\n",
            "\u001b[34m\u001b[1mtrain: \u001b[0mWARNING ⚠️ /content/Scence-Text-Detection-4/train/images/sb_295_jpg.rf.5a45adbf8f2cd2b0d601ae88fe784e6e.jpg: ignoring corrupt image/label: Label class 322 exceeds dataset class count 1. Possible class labels are 0-0\n",
            "\u001b[34m\u001b[1mtrain: \u001b[0mWARNING ⚠️ /content/Scence-Text-Detection-4/train/images/sb_299_jpg.rf.8aac3258d506a2d71b882708cd64274a.jpg: ignoring corrupt image/label: Label class 2 exceeds dataset class count 1. Possible class labels are 0-0\n",
            "\u001b[34m\u001b[1mtrain: \u001b[0mWARNING ⚠️ /content/Scence-Text-Detection-4/train/images/sb_300_jpg.rf.53f15b5f18f4e4746b207afd9fd9271f.jpg: ignoring corrupt image/label: Label class 1849 exceeds dataset class count 1. Possible class labels are 0-0\n",
            "\u001b[34m\u001b[1mtrain: \u001b[0mWARNING ⚠️ /content/Scence-Text-Detection-4/train/images/sb_301_jpg.rf.e68d8d85bf21697467b73a2df847220e.jpg: ignoring corrupt image/label: Label class 2 exceeds dataset class count 1. Possible class labels are 0-0\n",
            "\u001b[34m\u001b[1mtrain: \u001b[0mWARNING ⚠️ /content/Scence-Text-Detection-4/train/images/sb_302_jpg.rf.6e38b82868e9d5048f4a1c29e5b6621d.jpg: ignoring corrupt image/label: Label class 301 exceeds dataset class count 1. Possible class labels are 0-0\n",
            "\u001b[34m\u001b[1mtrain: \u001b[0mWARNING ⚠️ /content/Scence-Text-Detection-4/train/images/sb_303_jpg.rf.8878910f72f8a6bff017a97d8c278d0f.jpg: ignoring corrupt image/label: Label class 1637 exceeds dataset class count 1. Possible class labels are 0-0\n",
            "\u001b[34m\u001b[1mtrain: \u001b[0mWARNING ⚠️ /content/Scence-Text-Detection-4/train/images/sb_305_jpg.rf.366d7b06563b617021b38a83765f8d38.jpg: ignoring corrupt image/label: Label class 269 exceeds dataset class count 1. Possible class labels are 0-0\n",
            "\u001b[34m\u001b[1mtrain: \u001b[0mWARNING ⚠️ /content/Scence-Text-Detection-4/train/images/sb_307_jpg.rf.1725fe36433310d46e535cf56d236734.jpg: ignoring corrupt image/label: Label class 7 exceeds dataset class count 1. Possible class labels are 0-0\n",
            "\u001b[34m\u001b[1mtrain: \u001b[0mWARNING ⚠️ /content/Scence-Text-Detection-4/train/images/sb_311_jpg.rf.90da43d18f90386891af16aacb19e0e7.jpg: ignoring corrupt image/label: Label class 5 exceeds dataset class count 1. Possible class labels are 0-0\n",
            "\u001b[34m\u001b[1mtrain: \u001b[0mWARNING ⚠️ /content/Scence-Text-Detection-4/train/images/sb_313_jpg.rf.e1d98cdf90dc5b93e0219c0a0b9434a0.jpg: ignoring corrupt image/label: Label class 898 exceeds dataset class count 1. Possible class labels are 0-0\n",
            "\u001b[34m\u001b[1mtrain: \u001b[0mWARNING ⚠️ /content/Scence-Text-Detection-4/train/images/sb_316_jpg.rf.385b52826bdbb12c1cf6b9c6822a639e.jpg: ignoring corrupt image/label: Label class 1851 exceeds dataset class count 1. Possible class labels are 0-0\n",
            "\u001b[34m\u001b[1mtrain: \u001b[0mWARNING ⚠️ /content/Scence-Text-Detection-4/train/images/sb_319_jpg.rf.d8a222636df1e5b2d57feacd129b693f.jpg: ignoring corrupt image/label: Label class 2 exceeds dataset class count 1. Possible class labels are 0-0\n",
            "\u001b[34m\u001b[1mtrain: \u001b[0mWARNING ⚠️ /content/Scence-Text-Detection-4/train/images/sb_320_jpg.rf.4d00f7c6aad70b1a550faf07a6860cae.jpg: ignoring corrupt image/label: Label class 4 exceeds dataset class count 1. Possible class labels are 0-0\n",
            "\u001b[34m\u001b[1mtrain: \u001b[0mWARNING ⚠️ /content/Scence-Text-Detection-4/train/images/sb_322_jpg.rf.96b230f372a14754ec804fc608c8e09b.jpg: ignoring corrupt image/label: Label class 3 exceeds dataset class count 1. Possible class labels are 0-0\n",
            "\u001b[34m\u001b[1mtrain: \u001b[0mWARNING ⚠️ /content/Scence-Text-Detection-4/train/images/sb_323_jpg.rf.e4387b04e7b00ced88b150dc24108ab3.jpg: ignoring corrupt image/label: Label class 469 exceeds dataset class count 1. Possible class labels are 0-0\n",
            "\u001b[34m\u001b[1mtrain: \u001b[0mWARNING ⚠️ /content/Scence-Text-Detection-4/train/images/sb_327_jpg.rf.3b6dfc4a346ba6208b0633b8bb3fb4f0.jpg: ignoring corrupt image/label: Label class 1110 exceeds dataset class count 1. Possible class labels are 0-0\n",
            "\u001b[34m\u001b[1mtrain: \u001b[0mWARNING ⚠️ /content/Scence-Text-Detection-4/train/images/sb_330_jpg.rf.907a4fed5dc0db1dbbd72e19ed5607c6.jpg: ignoring corrupt image/label: Label class 5 exceeds dataset class count 1. Possible class labels are 0-0\n",
            "\u001b[34m\u001b[1mtrain: \u001b[0mWARNING ⚠️ /content/Scence-Text-Detection-4/train/images/sb_331_jpg.rf.974b36ce4203c59802cb9d21d1ba1b05.jpg: ignoring corrupt image/label: Label class 2 exceeds dataset class count 1. Possible class labels are 0-0\n",
            "\u001b[34m\u001b[1mtrain: \u001b[0mWARNING ⚠️ /content/Scence-Text-Detection-4/train/images/sb_336_jpg.rf.0d3289159ea18a7c056d92dfa8ede00b.jpg: ignoring corrupt image/label: Label class 2 exceeds dataset class count 1. Possible class labels are 0-0\n",
            "\u001b[34m\u001b[1mtrain: \u001b[0mWARNING ⚠️ /content/Scence-Text-Detection-4/train/images/sb_337_jpg.rf.163a2eae26dc9c658e7868a3d542227c.jpg: ignoring corrupt image/label: Label class 2184 exceeds dataset class count 1. Possible class labels are 0-0\n",
            "\u001b[34m\u001b[1mtrain: \u001b[0mWARNING ⚠️ /content/Scence-Text-Detection-4/train/images/sb_338_jpg.rf.4e201200383398ef9bc10420bf2b30b6.jpg: ignoring corrupt image/label: Label class 2184 exceeds dataset class count 1. Possible class labels are 0-0\n",
            "\u001b[34m\u001b[1mtrain: \u001b[0mWARNING ⚠️ /content/Scence-Text-Detection-4/train/images/sb_339_jpg.rf.b215f755baf12f1a89023f6da4a1f2ce.jpg: ignoring corrupt image/label: Label class 2 exceeds dataset class count 1. Possible class labels are 0-0\n",
            "\u001b[34m\u001b[1mtrain: \u001b[0mWARNING ⚠️ /content/Scence-Text-Detection-4/train/images/sb_341_jpg.rf.51fca471bc1d6dd292b4eb5bfe8fb116.jpg: ignoring corrupt image/label: Label class 3 exceeds dataset class count 1. Possible class labels are 0-0\n",
            "\u001b[34m\u001b[1mtrain: \u001b[0mWARNING ⚠️ /content/Scence-Text-Detection-4/train/images/sb_347_jpg.rf.22a161a21590bf64f66d7ea5119f2f73.jpg: ignoring corrupt image/label: Label class 79 exceeds dataset class count 1. Possible class labels are 0-0\n",
            "\u001b[34m\u001b[1mtrain: \u001b[0mWARNING ⚠️ /content/Scence-Text-Detection-4/train/images/sb_348_jpg.rf.d62e177f29e0a6603412b5380bd4e591.jpg: ignoring corrupt image/label: Label class 1980 exceeds dataset class count 1. Possible class labels are 0-0\n",
            "\u001b[34m\u001b[1mtrain: \u001b[0mWARNING ⚠️ /content/Scence-Text-Detection-4/train/images/sb_349_jpg.rf.8cd48c8cf92255f5cb8532a6e111361d.jpg: ignoring corrupt image/label: Label class 1980 exceeds dataset class count 1. Possible class labels are 0-0\n",
            "\u001b[34m\u001b[1mtrain: \u001b[0mWARNING ⚠️ /content/Scence-Text-Detection-4/train/images/sb_352_jpg.rf.18e6b98fcadedf681f843e6e971cd411.jpg: ignoring corrupt image/label: Label class 2 exceeds dataset class count 1. Possible class labels are 0-0\n",
            "\u001b[34m\u001b[1mtrain: \u001b[0mWARNING ⚠️ /content/Scence-Text-Detection-4/train/images/sb_353_jpg.rf.bc2d58ec7aaac5d7f585da58b7339067.jpg: ignoring corrupt image/label: Label class 113 exceeds dataset class count 1. Possible class labels are 0-0\n",
            "\u001b[34m\u001b[1mtrain: \u001b[0mWARNING ⚠️ /content/Scence-Text-Detection-4/train/images/sb_357_jpg.rf.2e6383affd6062efe68c04ce6bdb79d6.jpg: ignoring corrupt image/label: Label class 3 exceeds dataset class count 1. Possible class labels are 0-0\n",
            "\u001b[34m\u001b[1mtrain: \u001b[0mWARNING ⚠️ /content/Scence-Text-Detection-4/train/images/sb_360_jpg.rf.650bd44f0e1c2ea77133cf2f03801167.jpg: ignoring corrupt image/label: Label class 504 exceeds dataset class count 1. Possible class labels are 0-0\n",
            "\u001b[34m\u001b[1mtrain: \u001b[0mWARNING ⚠️ /content/Scence-Text-Detection-4/train/images/sb_364_jpg.rf.0f40f2434a6fe271460eca97633038af.jpg: ignoring corrupt image/label: Label class 770 exceeds dataset class count 1. Possible class labels are 0-0\n",
            "\u001b[34m\u001b[1mtrain: \u001b[0mWARNING ⚠️ /content/Scence-Text-Detection-4/train/images/sb_365_jpg.rf.e81574c11d077d83b4730ad0b97c7c2a.jpg: ignoring corrupt image/label: Label class 2146 exceeds dataset class count 1. Possible class labels are 0-0\n",
            "\u001b[34m\u001b[1mtrain: \u001b[0mWARNING ⚠️ /content/Scence-Text-Detection-4/train/images/sb_366_jpg.rf.7303be7ce0c4d6234128667b1b2ce10b.jpg: ignoring corrupt image/label: Label class 1661 exceeds dataset class count 1. Possible class labels are 0-0\n",
            "\u001b[34m\u001b[1mtrain: \u001b[0mWARNING ⚠️ /content/Scence-Text-Detection-4/train/images/sb_368_jpg.rf.f72ee64a81023200e2ff73272f609f6e.jpg: ignoring corrupt image/label: Label class 869 exceeds dataset class count 1. Possible class labels are 0-0\n",
            "\u001b[34m\u001b[1mtrain: \u001b[0mWARNING ⚠️ /content/Scence-Text-Detection-4/train/images/sb_370_jpg.rf.358fc4ae2defd7e3de1745f57f783c72.jpg: ignoring corrupt image/label: Label class 1791 exceeds dataset class count 1. Possible class labels are 0-0\n",
            "\u001b[34m\u001b[1mtrain: \u001b[0mWARNING ⚠️ /content/Scence-Text-Detection-4/train/images/sb_371_jpg.rf.25e592399d33dfdb4f298e7dd4b8392c.jpg: ignoring corrupt image/label: Label class 800 exceeds dataset class count 1. Possible class labels are 0-0\n",
            "\u001b[34m\u001b[1mtrain: \u001b[0mWARNING ⚠️ /content/Scence-Text-Detection-4/train/images/sb_372_jpg.rf.987afe970430332beee2727352c61d6b.jpg: ignoring corrupt image/label: Label class 194 exceeds dataset class count 1. Possible class labels are 0-0\n",
            "\u001b[34m\u001b[1mtrain: \u001b[0mWARNING ⚠️ /content/Scence-Text-Detection-4/train/images/sb_373_jpg.rf.eb456fb66def90488f7c81002082337a.jpg: ignoring corrupt image/label: Label class 2063 exceeds dataset class count 1. Possible class labels are 0-0\n",
            "\u001b[34m\u001b[1mtrain: \u001b[0mWARNING ⚠️ /content/Scence-Text-Detection-4/train/images/sb_374_jpg.rf.cd1d87ec031011c03a64cab043337845.jpg: ignoring corrupt image/label: Label class 63 exceeds dataset class count 1. Possible class labels are 0-0\n",
            "\u001b[34m\u001b[1mtrain: \u001b[0mWARNING ⚠️ /content/Scence-Text-Detection-4/train/images/sb_375_jpg.rf.ee8fb0b57544deea05039a6e2e76ce9e.jpg: ignoring corrupt image/label: Label class 1488 exceeds dataset class count 1. Possible class labels are 0-0\n",
            "\u001b[34m\u001b[1mtrain: \u001b[0mWARNING ⚠️ /content/Scence-Text-Detection-4/train/images/sb_376_jpg.rf.ac47f54fb45e5c19b1cfedf6a0e2c833.jpg: ignoring corrupt image/label: Label class 948 exceeds dataset class count 1. Possible class labels are 0-0\n",
            "\u001b[34m\u001b[1mtrain: \u001b[0mWARNING ⚠️ /content/Scence-Text-Detection-4/train/images/sb_381_jpg.rf.d6f751a3d3859f62c1e5e168a05fdb68.jpg: ignoring corrupt image/label: Label class 1950 exceeds dataset class count 1. Possible class labels are 0-0\n",
            "\u001b[34m\u001b[1mtrain: \u001b[0mWARNING ⚠️ /content/Scence-Text-Detection-4/train/images/sb_382_jpg.rf.4ad50e265e4b62514964074adccc0b5a.jpg: ignoring corrupt image/label: Label class 1281 exceeds dataset class count 1. Possible class labels are 0-0\n",
            "\u001b[34m\u001b[1mtrain: \u001b[0mWARNING ⚠️ /content/Scence-Text-Detection-4/train/images/sb_384_jpg.rf.7b9b2b449f0d9928897890f6c29b2629.jpg: ignoring corrupt image/label: Label class 2063 exceeds dataset class count 1. Possible class labels are 0-0\n",
            "\u001b[34m\u001b[1mtrain: \u001b[0mWARNING ⚠️ /content/Scence-Text-Detection-4/train/images/sb_385_jpg.rf.5e1d6d0d93b90464e0aa28b9eb3349c1.jpg: ignoring corrupt image/label: Label class 236 exceeds dataset class count 1. Possible class labels are 0-0\n",
            "\u001b[34m\u001b[1mtrain: \u001b[0mWARNING ⚠️ /content/Scence-Text-Detection-4/train/images/sb_38_jpg.rf.4654d2a8850fc3b59f651161f0bd558f.jpg: ignoring corrupt image/label: Label class 1616 exceeds dataset class count 1. Possible class labels are 0-0\n",
            "\u001b[34m\u001b[1mtrain: \u001b[0mWARNING ⚠️ /content/Scence-Text-Detection-4/train/images/sb_390_jpg.rf.f3988e2e0450e237f1e88fe5f148b588.jpg: ignoring corrupt image/label: Label class 2003 exceeds dataset class count 1. Possible class labels are 0-0\n",
            "\u001b[34m\u001b[1mtrain: \u001b[0mWARNING ⚠️ /content/Scence-Text-Detection-4/train/images/sb_391_jpg.rf.1252a1a6b71876d0e9cf1fa45c50c21c.jpg: ignoring corrupt image/label: Label class 2045 exceeds dataset class count 1. Possible class labels are 0-0\n",
            "\u001b[34m\u001b[1mtrain: \u001b[0mWARNING ⚠️ /content/Scence-Text-Detection-4/train/images/sb_398_jpg.rf.9bf3790f688dd62b94083885357273eb.jpg: ignoring corrupt image/label: Label class 293 exceeds dataset class count 1. Possible class labels are 0-0\n",
            "\u001b[34m\u001b[1mtrain: \u001b[0mWARNING ⚠️ /content/Scence-Text-Detection-4/train/images/sb_3_jpg.rf.8d2f8f7c61db119b60a16b5113bf2d2e.jpg: ignoring corrupt image/label: Label class 1447 exceeds dataset class count 1. Possible class labels are 0-0\n",
            "\u001b[34m\u001b[1mtrain: \u001b[0mWARNING ⚠️ /content/Scence-Text-Detection-4/train/images/sb_400_jpg.rf.b5c8df304f9541a9a4a620fe693a3498.jpg: ignoring corrupt image/label: Label class 300 exceeds dataset class count 1. Possible class labels are 0-0\n",
            "\u001b[34m\u001b[1mtrain: \u001b[0mWARNING ⚠️ /content/Scence-Text-Detection-4/train/images/sb_401_jpg.rf.38d4d6f77b43e1eeeb707254e5a523a4.jpg: ignoring corrupt image/label: Label class 2282 exceeds dataset class count 1. Possible class labels are 0-0\n",
            "\u001b[34m\u001b[1mtrain: \u001b[0mWARNING ⚠️ /content/Scence-Text-Detection-4/train/images/sb_402_jpg.rf.6593ea88adc3dab177148751c702ea39.jpg: ignoring corrupt image/label: Label class 354 exceeds dataset class count 1. Possible class labels are 0-0\n",
            "\u001b[34m\u001b[1mtrain: \u001b[0mWARNING ⚠️ /content/Scence-Text-Detection-4/train/images/sb_405_jpg.rf.fba5c48e885392e8f0dfedc02ec59a2f.jpg: ignoring corrupt image/label: Label class 1956 exceeds dataset class count 1. Possible class labels are 0-0\n",
            "\u001b[34m\u001b[1mtrain: \u001b[0mWARNING ⚠️ /content/Scence-Text-Detection-4/train/images/sb_406_jpg.rf.84d26f1ecc12a3bb513a3c6f7dec8168.jpg: ignoring corrupt image/label: Label class 950 exceeds dataset class count 1. Possible class labels are 0-0\n",
            "\u001b[34m\u001b[1mtrain: \u001b[0mWARNING ⚠️ /content/Scence-Text-Detection-4/train/images/sb_411_jpg.rf.b8b503ead24dcbbbcc6c480ac7c1d997.jpg: ignoring corrupt image/label: Label class 2091 exceeds dataset class count 1. Possible class labels are 0-0\n",
            "\u001b[34m\u001b[1mtrain: \u001b[0mWARNING ⚠️ /content/Scence-Text-Detection-4/train/images/sb_412_jpg.rf.45bc311dd72ddfe238364c0ec03a0598.jpg: ignoring corrupt image/label: Label class 1064 exceeds dataset class count 1. Possible class labels are 0-0\n",
            "\u001b[34m\u001b[1mtrain: \u001b[0mWARNING ⚠️ /content/Scence-Text-Detection-4/train/images/sb_413_jpg.rf.7d0942c6863c1e2d0128284359180c91.jpg: ignoring corrupt image/label: Label class 179 exceeds dataset class count 1. Possible class labels are 0-0\n",
            "\u001b[34m\u001b[1mtrain: \u001b[0mWARNING ⚠️ /content/Scence-Text-Detection-4/train/images/sb_415_jpg.rf.fd6ebd1e226f24a5833b4b5acd8d86ac.jpg: ignoring corrupt image/label: Label class 2029 exceeds dataset class count 1. Possible class labels are 0-0\n",
            "\u001b[34m\u001b[1mtrain: \u001b[0mWARNING ⚠️ /content/Scence-Text-Detection-4/train/images/sb_417_jpg.rf.2d0cda17ae6c1b55170543fc3c439657.jpg: ignoring corrupt image/label: Label class 1478 exceeds dataset class count 1. Possible class labels are 0-0\n",
            "\u001b[34m\u001b[1mtrain: \u001b[0mWARNING ⚠️ /content/Scence-Text-Detection-4/train/images/sb_418_jpg.rf.8c9d0cf4047052664d003b3d846e84be.jpg: ignoring corrupt image/label: Label class 395 exceeds dataset class count 1. Possible class labels are 0-0\n",
            "\u001b[34m\u001b[1mtrain: \u001b[0mWARNING ⚠️ /content/Scence-Text-Detection-4/train/images/sb_419_jpg.rf.2c2b25589f0337b12f44714c4023a4bb.jpg: ignoring corrupt image/label: Label class 116 exceeds dataset class count 1. Possible class labels are 0-0\n",
            "\u001b[34m\u001b[1mtrain: \u001b[0mWARNING ⚠️ /content/Scence-Text-Detection-4/train/images/sb_422_jpg.rf.6592a2d757298d82a0456800f81fc4e2.jpg: ignoring corrupt image/label: Label class 1487 exceeds dataset class count 1. Possible class labels are 0-0\n",
            "\u001b[34m\u001b[1mtrain: \u001b[0mWARNING ⚠️ /content/Scence-Text-Detection-4/train/images/sb_423_jpg.rf.ad758d425a9ae48e77797843ff0ca424.jpg: ignoring corrupt image/label: Label class 769 exceeds dataset class count 1. Possible class labels are 0-0\n",
            "\u001b[34m\u001b[1mtrain: \u001b[0mWARNING ⚠️ /content/Scence-Text-Detection-4/train/images/sb_424_jpg.rf.a2090dad93de327936823052948254e5.jpg: ignoring corrupt image/label: Label class 2 exceeds dataset class count 1. Possible class labels are 0-0\n",
            "\u001b[34m\u001b[1mtrain: \u001b[0mWARNING ⚠️ /content/Scence-Text-Detection-4/train/images/sb_425_jpg.rf.0ff379f1f2fca2cde1b3c2ac7bb39ca0.jpg: ignoring corrupt image/label: Label class 755 exceeds dataset class count 1. Possible class labels are 0-0\n",
            "\u001b[34m\u001b[1mtrain: \u001b[0mWARNING ⚠️ /content/Scence-Text-Detection-4/train/images/sb_426_jpg.rf.9db671e97b65dfe59f6bf0655bdf79c9.jpg: ignoring corrupt image/label: Label class 1480 exceeds dataset class count 1. Possible class labels are 0-0\n",
            "\u001b[34m\u001b[1mtrain: \u001b[0mWARNING ⚠️ /content/Scence-Text-Detection-4/train/images/sb_427_jpg.rf.606c6eaa641e7af82ed30803ae4791ae.jpg: ignoring corrupt image/label: Label class 2 exceeds dataset class count 1. Possible class labels are 0-0\n",
            "\u001b[34m\u001b[1mtrain: \u001b[0mWARNING ⚠️ /content/Scence-Text-Detection-4/train/images/sb_428_jpg.rf.17f0990db176196debc270d129c29555.jpg: ignoring corrupt image/label: Label class 1023 exceeds dataset class count 1. Possible class labels are 0-0\n",
            "\u001b[34m\u001b[1mtrain: \u001b[0mWARNING ⚠️ /content/Scence-Text-Detection-4/train/images/sb_429_jpg.rf.57209c0524453d641eee2abc18ab137d.jpg: ignoring corrupt image/label: Label class 594 exceeds dataset class count 1. Possible class labels are 0-0\n",
            "\u001b[34m\u001b[1mtrain: \u001b[0mWARNING ⚠️ /content/Scence-Text-Detection-4/train/images/sb_433_jpg.rf.cccb8b6646aa4d79511f85d9841a8c80.jpg: ignoring corrupt image/label: Label class 394 exceeds dataset class count 1. Possible class labels are 0-0\n",
            "\u001b[34m\u001b[1mtrain: \u001b[0mWARNING ⚠️ /content/Scence-Text-Detection-4/train/images/sb_434_jpg.rf.78e5bd0a0f277b6ad9cd61f64ba07610.jpg: ignoring corrupt image/label: Label class 640 exceeds dataset class count 1. Possible class labels are 0-0\n",
            "\u001b[34m\u001b[1mtrain: \u001b[0mWARNING ⚠️ /content/Scence-Text-Detection-4/train/images/sb_439_jpg.rf.eb9a9a7e4f575807bfcb213111011020.jpg: ignoring corrupt image/label: Label class 78 exceeds dataset class count 1. Possible class labels are 0-0\n",
            "\u001b[34m\u001b[1mtrain: \u001b[0mWARNING ⚠️ /content/Scence-Text-Detection-4/train/images/sb_445_jpg.rf.0b299edcf361b111d36853a62873b65c.jpg: ignoring corrupt image/label: Label class 1342 exceeds dataset class count 1. Possible class labels are 0-0\n",
            "\u001b[34m\u001b[1mtrain: \u001b[0mWARNING ⚠️ /content/Scence-Text-Detection-4/train/images/sb_446_jpg.rf.866384d7a94cae3b7c4a3a0463946a62.jpg: ignoring corrupt image/label: Label class 2 exceeds dataset class count 1. Possible class labels are 0-0\n",
            "\u001b[34m\u001b[1mtrain: \u001b[0mWARNING ⚠️ /content/Scence-Text-Detection-4/train/images/sb_447_jpg.rf.e89c5e085d45f78e87e85d0a84628b23.jpg: ignoring corrupt image/label: Label class 2184 exceeds dataset class count 1. Possible class labels are 0-0\n",
            "\u001b[34m\u001b[1mtrain: \u001b[0mWARNING ⚠️ /content/Scence-Text-Detection-4/train/images/sb_448_jpg.rf.527ab57aa6548c0c5349f8c608f95775.jpg: ignoring corrupt image/label: Label class 1012 exceeds dataset class count 1. Possible class labels are 0-0\n",
            "\u001b[34m\u001b[1mtrain: \u001b[0mWARNING ⚠️ /content/Scence-Text-Detection-4/train/images/sb_449_jpg.rf.350c05203110eb2d44c55ec6a45fd6ec.jpg: ignoring corrupt image/label: Label class 101 exceeds dataset class count 1. Possible class labels are 0-0\n",
            "\u001b[34m\u001b[1mtrain: \u001b[0mWARNING ⚠️ /content/Scence-Text-Detection-4/train/images/sb_44_jpg.rf.466af380d5338fda8ac0bea5edf490a4.jpg: ignoring corrupt image/label: Label class 1100 exceeds dataset class count 1. Possible class labels are 0-0\n",
            "\u001b[34m\u001b[1mtrain: \u001b[0mWARNING ⚠️ /content/Scence-Text-Detection-4/train/images/sb_450_jpg.rf.c79779e8a105e0de840610dfd48a43db.jpg: ignoring corrupt image/label: Label class 73 exceeds dataset class count 1. Possible class labels are 0-0\n",
            "\u001b[34m\u001b[1mtrain: \u001b[0mWARNING ⚠️ /content/Scence-Text-Detection-4/train/images/sb_451_jpg.rf.e890e5e56e7ec1807888657ac41628f6.jpg: ignoring corrupt image/label: Label class 95 exceeds dataset class count 1. Possible class labels are 0-0\n",
            "\u001b[34m\u001b[1mtrain: \u001b[0mWARNING ⚠️ /content/Scence-Text-Detection-4/train/images/sb_454_jpg.rf.295ae3f3aab5c237f368a4ee0c9d670d.jpg: ignoring corrupt image/label: Label class 3 exceeds dataset class count 1. Possible class labels are 0-0\n",
            "\u001b[34m\u001b[1mtrain: \u001b[0mWARNING ⚠️ /content/Scence-Text-Detection-4/train/images/sb_455_jpg.rf.bd6d7fb688665cc5255941a44599e9c0.jpg: ignoring corrupt image/label: Label class 565 exceeds dataset class count 1. Possible class labels are 0-0\n",
            "\u001b[34m\u001b[1mtrain: \u001b[0mWARNING ⚠️ /content/Scence-Text-Detection-4/train/images/sb_457_jpg.rf.41e702638f1e70f93779ca0e478d50e8.jpg: ignoring corrupt image/label: Label class 220 exceeds dataset class count 1. Possible class labels are 0-0\n",
            "\u001b[34m\u001b[1mtrain: \u001b[0mWARNING ⚠️ /content/Scence-Text-Detection-4/train/images/sb_458_jpg.rf.f4a7ef989409095a6d5f46df7ae7c165.jpg: ignoring corrupt image/label: Label class 931 exceeds dataset class count 1. Possible class labels are 0-0\n",
            "\u001b[34m\u001b[1mtrain: \u001b[0mWARNING ⚠️ /content/Scence-Text-Detection-4/train/images/sb_459_jpg.rf.0b43418029d28c8f03143b34bd1387f5.jpg: ignoring corrupt image/label: Label class 1311 exceeds dataset class count 1. Possible class labels are 0-0\n",
            "\u001b[34m\u001b[1mtrain: \u001b[0mWARNING ⚠️ /content/Scence-Text-Detection-4/train/images/sb_460_jpg.rf.1b3d1570eae4f1f7be62a73ab688018d.jpg: ignoring corrupt image/label: Label class 927 exceeds dataset class count 1. Possible class labels are 0-0\n",
            "\u001b[34m\u001b[1mtrain: \u001b[0mWARNING ⚠️ /content/Scence-Text-Detection-4/train/images/sb_462_jpg.rf.769e83c98014a32fce6aacc06b5fc2f4.jpg: ignoring corrupt image/label: Label class 1876 exceeds dataset class count 1. Possible class labels are 0-0\n",
            "\u001b[34m\u001b[1mtrain: \u001b[0mWARNING ⚠️ /content/Scence-Text-Detection-4/train/images/sb_463_jpg.rf.5a0c889143f7089051661f2a9695e37b.jpg: ignoring corrupt image/label: Label class 1252 exceeds dataset class count 1. Possible class labels are 0-0\n",
            "\u001b[34m\u001b[1mtrain: \u001b[0mWARNING ⚠️ /content/Scence-Text-Detection-4/train/images/sb_464_jpg.rf.0b18a09954ccd107818c53ecf10bbec8.jpg: ignoring corrupt image/label: Label class 3 exceeds dataset class count 1. Possible class labels are 0-0\n",
            "\u001b[34m\u001b[1mtrain: \u001b[0mWARNING ⚠️ /content/Scence-Text-Detection-4/train/images/sb_465_jpg.rf.c3defc3d322f9e11877f8e0cf2f5344a.jpg: ignoring corrupt image/label: Label class 1090 exceeds dataset class count 1. Possible class labels are 0-0\n",
            "\u001b[34m\u001b[1mtrain: \u001b[0mWARNING ⚠️ /content/Scence-Text-Detection-4/train/images/sb_471_jpg.rf.108bc3694f9d01268910db84fec556be.jpg: ignoring corrupt image/label: Label class 777 exceeds dataset class count 1. Possible class labels are 0-0\n",
            "\u001b[34m\u001b[1mtrain: \u001b[0mWARNING ⚠️ /content/Scence-Text-Detection-4/train/images/sb_472_jpg.rf.dd8611d62d20cb33bc3c267a71e06278.jpg: ignoring corrupt image/label: Label class 1259 exceeds dataset class count 1. Possible class labels are 0-0\n",
            "\u001b[34m\u001b[1mtrain: \u001b[0mWARNING ⚠️ /content/Scence-Text-Detection-4/train/images/sb_474_jpg.rf.6f404d4e8e81db84185e1cfe0c297bc5.jpg: ignoring corrupt image/label: Label class 2 exceeds dataset class count 1. Possible class labels are 0-0\n",
            "\u001b[34m\u001b[1mtrain: \u001b[0mWARNING ⚠️ /content/Scence-Text-Detection-4/train/images/sb_476_jpg.rf.dc48db73ae5c767b1651b70080343d73.jpg: ignoring corrupt image/label: Label class 1375 exceeds dataset class count 1. Possible class labels are 0-0\n",
            "\u001b[34m\u001b[1mtrain: \u001b[0mWARNING ⚠️ /content/Scence-Text-Detection-4/train/images/sb_477_jpg.rf.715a12c2a740aa86ce8137c3467a027f.jpg: ignoring corrupt image/label: Label class 1429 exceeds dataset class count 1. Possible class labels are 0-0\n",
            "\u001b[34m\u001b[1mtrain: \u001b[0mWARNING ⚠️ /content/Scence-Text-Detection-4/train/images/sb_478_jpg.rf.a658ce15c823fd2e3fbc6c0f97dd032f.jpg: ignoring corrupt image/label: Label class 3 exceeds dataset class count 1. Possible class labels are 0-0\n",
            "\u001b[34m\u001b[1mtrain: \u001b[0mWARNING ⚠️ /content/Scence-Text-Detection-4/train/images/sb_479_jpg.rf.91ee7317a909f849a0281850bcf2e8b8.jpg: ignoring corrupt image/label: Label class 3 exceeds dataset class count 1. Possible class labels are 0-0\n",
            "\u001b[34m\u001b[1mtrain: \u001b[0mWARNING ⚠️ /content/Scence-Text-Detection-4/train/images/sb_480_jpg.rf.37e7a0eb5149312dade919d5313bcdb1.jpg: ignoring corrupt image/label: Label class 383 exceeds dataset class count 1. Possible class labels are 0-0\n",
            "\u001b[34m\u001b[1mtrain: \u001b[0mWARNING ⚠️ /content/Scence-Text-Detection-4/train/images/sb_481_jpg.rf.aeae99825a191dc2f486c11efa7aea49.jpg: ignoring corrupt image/label: Label class 1103 exceeds dataset class count 1. Possible class labels are 0-0\n",
            "\u001b[34m\u001b[1mtrain: \u001b[0mWARNING ⚠️ /content/Scence-Text-Detection-4/train/images/sb_482_jpg.rf.803aa5d8d5fde7c2ce3cf922a13644a7.jpg: ignoring corrupt image/label: Label class 234 exceeds dataset class count 1. Possible class labels are 0-0\n",
            "\u001b[34m\u001b[1mtrain: \u001b[0mWARNING ⚠️ /content/Scence-Text-Detection-4/train/images/sb_485_jpg.rf.95a81dcb11105d997b1b3ecf1adec474.jpg: ignoring corrupt image/label: Label class 2102 exceeds dataset class count 1. Possible class labels are 0-0\n",
            "\u001b[34m\u001b[1mtrain: \u001b[0mWARNING ⚠️ /content/Scence-Text-Detection-4/train/images/sb_487_jpg.rf.5601a0002c40839868f166bafbc4b56e.jpg: ignoring corrupt image/label: Label class 373 exceeds dataset class count 1. Possible class labels are 0-0\n",
            "\u001b[34m\u001b[1mtrain: \u001b[0mWARNING ⚠️ /content/Scence-Text-Detection-4/train/images/sb_488_jpg.rf.9c90aab98d1803544bb7778bdfd284f1.jpg: ignoring corrupt image/label: Label class 2020 exceeds dataset class count 1. Possible class labels are 0-0\n",
            "\u001b[34m\u001b[1mtrain: \u001b[0mWARNING ⚠️ /content/Scence-Text-Detection-4/train/images/sb_489_jpg.rf.ef65abcfce6f5364e8fc41ec9aaa6c5a.jpg: ignoring corrupt image/label: Label class 1439 exceeds dataset class count 1. Possible class labels are 0-0\n",
            "\u001b[34m\u001b[1mtrain: \u001b[0mWARNING ⚠️ /content/Scence-Text-Detection-4/train/images/sb_490_jpg.rf.9105438e05f3675f2253cd9a6e532ee2.jpg: ignoring corrupt image/label: Label class 1815 exceeds dataset class count 1. Possible class labels are 0-0\n",
            "\u001b[34m\u001b[1mtrain: \u001b[0mWARNING ⚠️ /content/Scence-Text-Detection-4/train/images/sb_491_jpg.rf.2fb82126f6cbb7f2f7d57d4713fb275b.jpg: ignoring corrupt image/label: Label class 779 exceeds dataset class count 1. Possible class labels are 0-0\n",
            "\u001b[34m\u001b[1mtrain: \u001b[0mWARNING ⚠️ /content/Scence-Text-Detection-4/train/images/sb_493_jpg.rf.85453b7c2377321f84e368d644cd53fe.jpg: ignoring corrupt image/label: Label class 1223 exceeds dataset class count 1. Possible class labels are 0-0\n",
            "\u001b[34m\u001b[1mtrain: \u001b[0mWARNING ⚠️ /content/Scence-Text-Detection-4/train/images/sb_494_jpg.rf.7f671dd6a7dbef58989568fe478a46c9.jpg: ignoring corrupt image/label: Label class 1815 exceeds dataset class count 1. Possible class labels are 0-0\n",
            "\u001b[34m\u001b[1mtrain: \u001b[0mWARNING ⚠️ /content/Scence-Text-Detection-4/train/images/sb_500_jpg.rf.12b98c206f7f985e5d20eecd4db1eb0e.jpg: ignoring corrupt image/label: Label class 1119 exceeds dataset class count 1. Possible class labels are 0-0\n",
            "\u001b[34m\u001b[1mtrain: \u001b[0mWARNING ⚠️ /content/Scence-Text-Detection-4/train/images/sb_51_jpg.rf.314d65354b0437cfb94a55eabebb5167.jpg: ignoring corrupt image/label: Label class 1664 exceeds dataset class count 1. Possible class labels are 0-0\n",
            "\u001b[34m\u001b[1mtrain: \u001b[0mWARNING ⚠️ /content/Scence-Text-Detection-4/train/images/sb_52_jpg.rf.de9d1d303657f98fe8ded474fa2fcc3c.jpg: ignoring corrupt image/label: Label class 333 exceeds dataset class count 1. Possible class labels are 0-0\n",
            "\u001b[34m\u001b[1mtrain: \u001b[0mWARNING ⚠️ /content/Scence-Text-Detection-4/train/images/sb_54_jpg.rf.340f4cfb6b179a5fe0633c6fac1ff598.jpg: ignoring corrupt image/label: Label class 2280 exceeds dataset class count 1. Possible class labels are 0-0\n",
            "\u001b[34m\u001b[1mtrain: \u001b[0mWARNING ⚠️ /content/Scence-Text-Detection-4/train/images/sb_58_jpg.rf.e5a257afa41551bba098e34a1d7fbe44.jpg: ignoring corrupt image/label: Label class 1344 exceeds dataset class count 1. Possible class labels are 0-0\n",
            "\u001b[34m\u001b[1mtrain: \u001b[0mWARNING ⚠️ /content/Scence-Text-Detection-4/train/images/sb_59_jpg.rf.afc9b6924a8d150a85adb7932f7d1dc1.jpg: ignoring corrupt image/label: Label class 711 exceeds dataset class count 1. Possible class labels are 0-0\n",
            "\u001b[34m\u001b[1mtrain: \u001b[0mWARNING ⚠️ /content/Scence-Text-Detection-4/train/images/sb_65_jpg.rf.80e38ecf6139eb3254f27328a607d7eb.jpg: ignoring corrupt image/label: Label class 1285 exceeds dataset class count 1. Possible class labels are 0-0\n",
            "\u001b[34m\u001b[1mtrain: \u001b[0mWARNING ⚠️ /content/Scence-Text-Detection-4/train/images/sb_67_jpg.rf.b320c675ea0c6239a2058a3df020e56e.jpg: ignoring corrupt image/label: Label class 1580 exceeds dataset class count 1. Possible class labels are 0-0\n",
            "\u001b[34m\u001b[1mtrain: \u001b[0mWARNING ⚠️ /content/Scence-Text-Detection-4/train/images/sb_84_jpg.rf.1c824a84a360a265283cef903e0b3c30.jpg: ignoring corrupt image/label: Label class 462 exceeds dataset class count 1. Possible class labels are 0-0\n",
            "\u001b[34m\u001b[1mtrain: \u001b[0mWARNING ⚠️ /content/Scence-Text-Detection-4/train/images/sb_86_jpg.rf.9c22b2939227677f0269029cc869f2c3.jpg: ignoring corrupt image/label: Label class 990 exceeds dataset class count 1. Possible class labels are 0-0\n",
            "\u001b[34m\u001b[1mtrain: \u001b[0mWARNING ⚠️ /content/Scence-Text-Detection-4/train/images/sb_94_jpg.rf.ed51550f2fdc35f96e0affd5e64ac195.jpg: ignoring corrupt image/label: Label class 702 exceeds dataset class count 1. Possible class labels are 0-0\n",
            "\u001b[34m\u001b[1mtrain: \u001b[0mWARNING ⚠️ /content/Scence-Text-Detection-4/train/images/sb_95_jpg.rf.e6eab02d9961368bac92def55596aafc.jpg: ignoring corrupt image/label: Label class 301 exceeds dataset class count 1. Possible class labels are 0-0\n",
            "\u001b[34m\u001b[1mtrain: \u001b[0mWARNING ⚠️ /content/Scence-Text-Detection-4/train/images/sy_-1-_jpg.rf.5ee44483736b881403e08546a9c1d14d.jpg: ignoring corrupt image/label: Label class 2 exceeds dataset class count 1. Possible class labels are 0-0\n",
            "\u001b[34m\u001b[1mtrain: \u001b[0mWARNING ⚠️ /content/Scence-Text-Detection-4/train/images/sy_-103-_jpg.rf.029f43e43f3c046074aac7c283cb9728.jpg: ignoring corrupt image/label: Label class 1128 exceeds dataset class count 1. Possible class labels are 0-0\n",
            "\u001b[34m\u001b[1mtrain: \u001b[0mWARNING ⚠️ /content/Scence-Text-Detection-4/train/images/sy_-113-_jpg.rf.261ccbdf694f6daff23393f04b896650.jpg: ignoring corrupt image/label: Label class 3 exceeds dataset class count 1. Possible class labels are 0-0\n",
            "\u001b[34m\u001b[1mtrain: \u001b[0mWARNING ⚠️ /content/Scence-Text-Detection-4/train/images/sy_-114-_jpg.rf.c9425fc3108d71bebcea24a2480a6310.jpg: ignoring corrupt image/label: Label class 495 exceeds dataset class count 1. Possible class labels are 0-0\n",
            "\u001b[34m\u001b[1mtrain: \u001b[0mWARNING ⚠️ /content/Scence-Text-Detection-4/train/images/sy_-115-_jpg.rf.b7c671014335f1b74d764f412ee9c36f.jpg: ignoring corrupt image/label: Label class 2 exceeds dataset class count 1. Possible class labels are 0-0\n",
            "\u001b[34m\u001b[1mtrain: \u001b[0mWARNING ⚠️ /content/Scence-Text-Detection-4/train/images/sy_-116-_jpg.rf.1ef9c1d8ec4a877765552ac21de952f5.jpg: ignoring corrupt image/label: Label class 589 exceeds dataset class count 1. Possible class labels are 0-0\n",
            "\u001b[34m\u001b[1mtrain: \u001b[0mWARNING ⚠️ /content/Scence-Text-Detection-4/train/images/sy_-122-_jpg.rf.f93c068076c1570586364421b12415f1.jpg: ignoring corrupt image/label: Label class 2 exceeds dataset class count 1. Possible class labels are 0-0\n",
            "\u001b[34m\u001b[1mtrain: \u001b[0mWARNING ⚠️ /content/Scence-Text-Detection-4/train/images/sy_-123-_jpg.rf.ac27ba7f4558c4d1fe1fad5fe8e89f49.jpg: ignoring corrupt image/label: Label class 1141 exceeds dataset class count 1. Possible class labels are 0-0\n",
            "\u001b[34m\u001b[1mtrain: \u001b[0mWARNING ⚠️ /content/Scence-Text-Detection-4/train/images/sy_-127-_jpg.rf.df85d56400e355a0a270af7d0210593a.jpg: ignoring corrupt image/label: Label class 641 exceeds dataset class count 1. Possible class labels are 0-0\n",
            "\u001b[34m\u001b[1mtrain: \u001b[0mWARNING ⚠️ /content/Scence-Text-Detection-4/train/images/sy_-128-_jpg.rf.820a56c9d515bbcdf8e5018da126f087.jpg: ignoring corrupt image/label: Label class 959 exceeds dataset class count 1. Possible class labels are 0-0\n",
            "\u001b[34m\u001b[1mtrain: \u001b[0mWARNING ⚠️ /content/Scence-Text-Detection-4/train/images/sy_-129-_jpg.rf.15e41b240c79dfad744f4b2530bfe82a.jpg: ignoring corrupt image/label: Label class 1118 exceeds dataset class count 1. Possible class labels are 0-0\n",
            "\u001b[34m\u001b[1mtrain: \u001b[0mWARNING ⚠️ /content/Scence-Text-Detection-4/train/images/sy_-136-_jpg.rf.c170706a623fd649f000cb45c6c12d8c.jpg: ignoring corrupt image/label: Label class 1134 exceeds dataset class count 1. Possible class labels are 0-0\n",
            "\u001b[34m\u001b[1mtrain: \u001b[0mWARNING ⚠️ /content/Scence-Text-Detection-4/train/images/sy_-139-_jpg.rf.ae375d82f04b4ba7003dc3773044bf4d.jpg: ignoring corrupt image/label: Label class 918 exceeds dataset class count 1. Possible class labels are 0-0\n",
            "\u001b[34m\u001b[1mtrain: \u001b[0mWARNING ⚠️ /content/Scence-Text-Detection-4/train/images/sy_-14-_jpg.rf.4886b37950850cbd2f371e26be3ef66c.jpg: ignoring corrupt image/label: Label class 1589 exceeds dataset class count 1. Possible class labels are 0-0\n",
            "\u001b[34m\u001b[1mtrain: \u001b[0mWARNING ⚠️ /content/Scence-Text-Detection-4/train/images/sy_-140-_jpg.rf.7995a702735336b8556db00c4268a77e.jpg: ignoring corrupt image/label: Label class 144 exceeds dataset class count 1. Possible class labels are 0-0\n",
            "\u001b[34m\u001b[1mtrain: \u001b[0mWARNING ⚠️ /content/Scence-Text-Detection-4/train/images/sy_-145-_jpg.rf.e72da3534d035d9878dd1c8968a06a31.jpg: ignoring corrupt image/label: Label class 1724 exceeds dataset class count 1. Possible class labels are 0-0\n",
            "\u001b[34m\u001b[1mtrain: \u001b[0mWARNING ⚠️ /content/Scence-Text-Detection-4/train/images/sy_-151-_jpg.rf.4a65a3d2a8a24e41960dac487bc3db23.jpg: ignoring corrupt image/label: Label class 1501 exceeds dataset class count 1. Possible class labels are 0-0\n",
            "\u001b[34m\u001b[1mtrain: \u001b[0mWARNING ⚠️ /content/Scence-Text-Detection-4/train/images/sy_-152-_jpg.rf.54bdb311e57692ae3630bc66f0aee459.jpg: ignoring corrupt image/label: Label class 1323 exceeds dataset class count 1. Possible class labels are 0-0\n",
            "\u001b[34m\u001b[1mtrain: \u001b[0mWARNING ⚠️ /content/Scence-Text-Detection-4/train/images/sy_-153-_jpg.rf.65ebdc2e1614f92dc64bd4b47ae561b2.jpg: ignoring corrupt image/label: Label class 1555 exceeds dataset class count 1. Possible class labels are 0-0\n",
            "\u001b[34m\u001b[1mtrain: \u001b[0mWARNING ⚠️ /content/Scence-Text-Detection-4/train/images/sy_-154-_jpg.rf.333f7685380095c5542137b4c61b99e6.jpg: ignoring corrupt image/label: Label class 1399 exceeds dataset class count 1. Possible class labels are 0-0\n",
            "\u001b[34m\u001b[1mtrain: \u001b[0mWARNING ⚠️ /content/Scence-Text-Detection-4/train/images/sy_-156-_jpg.rf.8bb9a467517074db2754b895ba705688.jpg: ignoring corrupt image/label: Label class 42 exceeds dataset class count 1. Possible class labels are 0-0\n",
            "\u001b[34m\u001b[1mtrain: \u001b[0mWARNING ⚠️ /content/Scence-Text-Detection-4/train/images/sy_-160-_jpg.rf.25a2b2acaf05d8c2d7922c9ca824d7e2.jpg: ignoring corrupt image/label: Label class 2 exceeds dataset class count 1. Possible class labels are 0-0\n",
            "\u001b[34m\u001b[1mtrain: \u001b[0mWARNING ⚠️ /content/Scence-Text-Detection-4/train/images/sy_-161-_jpg.rf.eda655efd19b103dd75ebbc688a2fc07.jpg: ignoring corrupt image/label: Label class 2102 exceeds dataset class count 1. Possible class labels are 0-0\n",
            "\u001b[34m\u001b[1mtrain: \u001b[0mWARNING ⚠️ /content/Scence-Text-Detection-4/train/images/sy_-163-_jpg.rf.0ba2ff2a2aa61ee395d7c9183e22d043.jpg: ignoring corrupt image/label: Label class 1453 exceeds dataset class count 1. Possible class labels are 0-0\n",
            "\u001b[34m\u001b[1mtrain: \u001b[0mWARNING ⚠️ /content/Scence-Text-Detection-4/train/images/sy_-165-_jpg.rf.b11f15eca4c7f3545faee0efb0bbe90c.jpg: ignoring corrupt image/label: Label class 1601 exceeds dataset class count 1. Possible class labels are 0-0\n",
            "\u001b[34m\u001b[1mtrain: \u001b[0mWARNING ⚠️ /content/Scence-Text-Detection-4/train/images/sy_-166-_jpg.rf.a3b58bb27680d79d7ecfcfdaa1122498.jpg: ignoring corrupt image/label: Label class 3 exceeds dataset class count 1. Possible class labels are 0-0\n",
            "\u001b[34m\u001b[1mtrain: \u001b[0mWARNING ⚠️ /content/Scence-Text-Detection-4/train/images/sy_-172-_jpg.rf.35fb22a4d33401fe726d361be8887916.jpg: ignoring corrupt image/label: Label class 843 exceeds dataset class count 1. Possible class labels are 0-0\n",
            "\u001b[34m\u001b[1mtrain: \u001b[0mWARNING ⚠️ /content/Scence-Text-Detection-4/train/images/sy_-173-_jpg.rf.d881483af5b94f60f4e13eb4d53cce40.jpg: ignoring corrupt image/label: Label class 2249 exceeds dataset class count 1. Possible class labels are 0-0\n",
            "\u001b[34m\u001b[1mtrain: \u001b[0mWARNING ⚠️ /content/Scence-Text-Detection-4/train/images/sy_-174-_jpg.rf.f7d443251976c325b801a64f447d9b90.jpg: ignoring corrupt image/label: Label class 744 exceeds dataset class count 1. Possible class labels are 0-0\n",
            "\u001b[34m\u001b[1mtrain: \u001b[0mWARNING ⚠️ /content/Scence-Text-Detection-4/train/images/sy_-179-_jpg.rf.9c26814becf45fb7f22ae726240919a5.jpg: ignoring corrupt image/label: Label class 2144 exceeds dataset class count 1. Possible class labels are 0-0\n",
            "\u001b[34m\u001b[1mtrain: \u001b[0mWARNING ⚠️ /content/Scence-Text-Detection-4/train/images/sy_-181-_jpg.rf.9d96f3ea91e010c57bb1909ed0d62bf9.jpg: ignoring corrupt image/label: Label class 4 exceeds dataset class count 1. Possible class labels are 0-0\n",
            "\u001b[34m\u001b[1mtrain: \u001b[0mWARNING ⚠️ /content/Scence-Text-Detection-4/train/images/sy_-184-_jpg.rf.28ebcedad23e7d2ff176768adb92109d.jpg: ignoring corrupt image/label: Label class 2197 exceeds dataset class count 1. Possible class labels are 0-0\n",
            "\u001b[34m\u001b[1mtrain: \u001b[0mWARNING ⚠️ /content/Scence-Text-Detection-4/train/images/sy_-185-_jpg.rf.5f0afb047eb44f99782c2b06121ed7d3.jpg: ignoring corrupt image/label: Label class 1218 exceeds dataset class count 1. Possible class labels are 0-0\n",
            "\u001b[34m\u001b[1mtrain: \u001b[0mWARNING ⚠️ /content/Scence-Text-Detection-4/train/images/sy_-186-_jpg.rf.00cf5fb090a64c4f576c8f9bd4cbb097.jpg: ignoring corrupt image/label: Label class 2 exceeds dataset class count 1. Possible class labels are 0-0\n",
            "\u001b[34m\u001b[1mtrain: \u001b[0mWARNING ⚠️ /content/Scence-Text-Detection-4/train/images/sy_-187-_jpg.rf.ba6a619d5900afdd35d55d9e86feab70.jpg: ignoring corrupt image/label: Label class 2 exceeds dataset class count 1. Possible class labels are 0-0\n",
            "\u001b[34m\u001b[1mtrain: \u001b[0mWARNING ⚠️ /content/Scence-Text-Detection-4/train/images/sy_-19-_jpg.rf.ceea71027e842c0f0db00589c3f2614e.jpg: ignoring corrupt image/label: Label class 1176 exceeds dataset class count 1. Possible class labels are 0-0\n",
            "\u001b[34m\u001b[1mtrain: \u001b[0mWARNING ⚠️ /content/Scence-Text-Detection-4/train/images/sy_-190-_jpg.rf.28648e8b2c87f3c6e4a72973fa454b85.jpg: ignoring corrupt image/label: Label class 1596 exceeds dataset class count 1. Possible class labels are 0-0\n",
            "\u001b[34m\u001b[1mtrain: \u001b[0mWARNING ⚠️ /content/Scence-Text-Detection-4/train/images/sy_-191-_jpg.rf.21acc5257cab35bc7a0d336a132017c3.jpg: ignoring corrupt image/label: Label class 1583 exceeds dataset class count 1. Possible class labels are 0-0\n",
            "\u001b[34m\u001b[1mtrain: \u001b[0mWARNING ⚠️ /content/Scence-Text-Detection-4/train/images/sy_-197-_jpg.rf.da43546d56f068ee5d8c93f6789e33f4.jpg: ignoring corrupt image/label: Label class 2252 exceeds dataset class count 1. Possible class labels are 0-0\n",
            "\u001b[34m\u001b[1mtrain: \u001b[0mWARNING ⚠️ /content/Scence-Text-Detection-4/train/images/sy_-198-_jpg.rf.177092f4291042c706e8c12bb4a97128.jpg: ignoring corrupt image/label: Label class 2 exceeds dataset class count 1. Possible class labels are 0-0\n",
            "\u001b[34m\u001b[1mtrain: \u001b[0mWARNING ⚠️ /content/Scence-Text-Detection-4/train/images/sy_-200-_jpg.rf.2b0c22840464a19333719748bae3e36a.jpg: ignoring corrupt image/label: Label class 761 exceeds dataset class count 1. Possible class labels are 0-0\n",
            "\u001b[34m\u001b[1mtrain: \u001b[0mWARNING ⚠️ /content/Scence-Text-Detection-4/train/images/sy_-201-_jpg.rf.f4777491e70c6d0567f47c0c46e6f5ac.jpg: ignoring corrupt image/label: Label class 1151 exceeds dataset class count 1. Possible class labels are 0-0\n",
            "\u001b[34m\u001b[1mtrain: \u001b[0mWARNING ⚠️ /content/Scence-Text-Detection-4/train/images/sy_-203-_jpg.rf.8ebad4a805c8e7cc9f112bfb45d641b6.jpg: ignoring corrupt image/label: Label class 2148 exceeds dataset class count 1. Possible class labels are 0-0\n",
            "\u001b[34m\u001b[1mtrain: \u001b[0mWARNING ⚠️ /content/Scence-Text-Detection-4/train/images/sy_-205-_jpg.rf.aafcd7e9c37748adfc8795b982e5519f.jpg: ignoring corrupt image/label: Label class 491 exceeds dataset class count 1. Possible class labels are 0-0\n",
            "\u001b[34m\u001b[1mtrain: \u001b[0mWARNING ⚠️ /content/Scence-Text-Detection-4/train/images/sy_-211-_jpg.rf.1cc1c65586b20e07705c86b054ed992c.jpg: ignoring corrupt image/label: Label class 117 exceeds dataset class count 1. Possible class labels are 0-0\n",
            "\u001b[34m\u001b[1mtrain: \u001b[0mWARNING ⚠️ /content/Scence-Text-Detection-4/train/images/sy_-213-_jpg.rf.593b8f45f0c542a048438f261aa2a5b6.jpg: ignoring corrupt image/label: Label class 3 exceeds dataset class count 1. Possible class labels are 0-0\n",
            "\u001b[34m\u001b[1mtrain: \u001b[0mWARNING ⚠️ /content/Scence-Text-Detection-4/train/images/sy_-214-_jpg.rf.bbd0f369491e3ceec4bc21416e0480a2.jpg: ignoring corrupt image/label: Label class 4 exceeds dataset class count 1. Possible class labels are 0-0\n",
            "\u001b[34m\u001b[1mtrain: \u001b[0mWARNING ⚠️ /content/Scence-Text-Detection-4/train/images/sy_-216-_jpg.rf.9982fc98c4b4fdacdf9efd2b09a40bd3.jpg: ignoring corrupt image/label: Label class 147 exceeds dataset class count 1. Possible class labels are 0-0\n",
            "\u001b[34m\u001b[1mtrain: \u001b[0mWARNING ⚠️ /content/Scence-Text-Detection-4/train/images/sy_-217-_jpg.rf.a778daa1db85f8dd51bf738dc63c7191.jpg: ignoring corrupt image/label: Label class 1794 exceeds dataset class count 1. Possible class labels are 0-0\n",
            "\u001b[34m\u001b[1mtrain: \u001b[0mWARNING ⚠️ /content/Scence-Text-Detection-4/train/images/sy_-218-_jpg.rf.2dcaa9a4b12a4a68a67072774045ea53.jpg: ignoring corrupt image/label: Label class 964 exceeds dataset class count 1. Possible class labels are 0-0\n",
            "\u001b[34m\u001b[1mtrain: \u001b[0mWARNING ⚠️ /content/Scence-Text-Detection-4/train/images/sy_-219-_jpg.rf.92f8bf19eeefcf260fbe0d3d5a2c1fee.jpg: ignoring corrupt image/label: Label class 1609 exceeds dataset class count 1. Possible class labels are 0-0\n",
            "\u001b[34m\u001b[1mtrain: \u001b[0mWARNING ⚠️ /content/Scence-Text-Detection-4/train/images/sy_-220-_jpg.rf.0ffbf1ad80d099f1ee5e0ad02c36a126.jpg: ignoring corrupt image/label: Label class 1290 exceeds dataset class count 1. Possible class labels are 0-0\n",
            "\u001b[34m\u001b[1mtrain: \u001b[0mWARNING ⚠️ /content/Scence-Text-Detection-4/train/images/sy_-224-_jpg.rf.6fbd82e081078ad4223330798c610f0e.jpg: ignoring corrupt image/label: Label class 2 exceeds dataset class count 1. Possible class labels are 0-0\n",
            "\u001b[34m\u001b[1mtrain: \u001b[0mWARNING ⚠️ /content/Scence-Text-Detection-4/train/images/sy_-226-_jpg.rf.70f4707dd7853b325fa9b74e5fce06ad.jpg: ignoring corrupt image/label: Label class 1770 exceeds dataset class count 1. Possible class labels are 0-0\n",
            "\u001b[34m\u001b[1mtrain: \u001b[0mWARNING ⚠️ /content/Scence-Text-Detection-4/train/images/sy_-227-_jpg.rf.dec6f861c060d86781223c68d2564063.jpg: ignoring corrupt image/label: Label class 2 exceeds dataset class count 1. Possible class labels are 0-0\n",
            "\u001b[34m\u001b[1mtrain: \u001b[0mWARNING ⚠️ /content/Scence-Text-Detection-4/train/images/sy_-228-_jpg.rf.85204b56a0e6d347e920af3dac0b1498.jpg: ignoring corrupt image/label: Label class 3 exceeds dataset class count 1. Possible class labels are 0-0\n",
            "\u001b[34m\u001b[1mtrain: \u001b[0mWARNING ⚠️ /content/Scence-Text-Detection-4/train/images/sy_-230-_jpg.rf.09611bf9e026dfc5a94d07b70808b9d4.jpg: ignoring corrupt image/label: Label class 1945 exceeds dataset class count 1. Possible class labels are 0-0\n",
            "\u001b[34m\u001b[1mtrain: \u001b[0mWARNING ⚠️ /content/Scence-Text-Detection-4/train/images/sy_-231-_jpg.rf.3b991dd00712df390c189c64f9d2be26.jpg: ignoring corrupt image/label: Label class 267 exceeds dataset class count 1. Possible class labels are 0-0\n",
            "\u001b[34m\u001b[1mtrain: \u001b[0mWARNING ⚠️ /content/Scence-Text-Detection-4/train/images/sy_-234-_jpg.rf.95d50394fcc3640c2822fb1b2189cabd.jpg: ignoring corrupt image/label: Label class 845 exceeds dataset class count 1. Possible class labels are 0-0\n",
            "\u001b[34m\u001b[1mtrain: \u001b[0mWARNING ⚠️ /content/Scence-Text-Detection-4/train/images/sy_-235-_jpg.rf.fa9349ac835b96446bdbca34bb3f244b.jpg: ignoring corrupt image/label: Label class 1462 exceeds dataset class count 1. Possible class labels are 0-0\n",
            "\u001b[34m\u001b[1mtrain: \u001b[0mWARNING ⚠️ /content/Scence-Text-Detection-4/train/images/sy_-238-_jpg.rf.0e65ae5cc93694b23b741cd4782322d5.jpg: ignoring corrupt image/label: Label class 2225 exceeds dataset class count 1. Possible class labels are 0-0\n",
            "\u001b[34m\u001b[1mtrain: \u001b[0mWARNING ⚠️ /content/Scence-Text-Detection-4/train/images/sy_-239-_jpg.rf.4202ec4243ddd284b221ae3071f52bcb.jpg: ignoring corrupt image/label: Label class 969 exceeds dataset class count 1. Possible class labels are 0-0\n",
            "\u001b[34m\u001b[1mtrain: \u001b[0mWARNING ⚠️ /content/Scence-Text-Detection-4/train/images/sy_-240-_jpg.rf.4d596cffe37ab167f0c4c4d71cad7085.jpg: ignoring corrupt image/label: Label class 1996 exceeds dataset class count 1. Possible class labels are 0-0\n",
            "\u001b[34m\u001b[1mtrain: \u001b[0mWARNING ⚠️ /content/Scence-Text-Detection-4/train/images/sy_-241-_jpg.rf.228b5869bb13362dff3260fb57af235e.jpg: ignoring corrupt image/label: Label class 6 exceeds dataset class count 1. Possible class labels are 0-0\n",
            "\u001b[34m\u001b[1mtrain: \u001b[0mWARNING ⚠️ /content/Scence-Text-Detection-4/train/images/sy_-246-_jpg.rf.ff5452d7950bee1bb10059d8f28d610f.jpg: ignoring corrupt image/label: Label class 57 exceeds dataset class count 1. Possible class labels are 0-0\n",
            "\u001b[34m\u001b[1mtrain: \u001b[0mWARNING ⚠️ /content/Scence-Text-Detection-4/train/images/sy_-248-_jpg.rf.be994d62ca39251e6797f7d6e1143c12.jpg: ignoring corrupt image/label: Label class 1584 exceeds dataset class count 1. Possible class labels are 0-0\n",
            "\u001b[34m\u001b[1mtrain: \u001b[0mWARNING ⚠️ /content/Scence-Text-Detection-4/train/images/sy_-252-_jpg.rf.a6bcd66f46d4c55030955ad9617ffacb.jpg: ignoring corrupt image/label: Label class 1413 exceeds dataset class count 1. Possible class labels are 0-0\n",
            "\u001b[34m\u001b[1mtrain: \u001b[0mWARNING ⚠️ /content/Scence-Text-Detection-4/train/images/sy_-255-_jpg.rf.40b4977f3dd73a9f8f5504676770493a.jpg: ignoring corrupt image/label: Label class 3 exceeds dataset class count 1. Possible class labels are 0-0\n",
            "\u001b[34m\u001b[1mtrain: \u001b[0mWARNING ⚠️ /content/Scence-Text-Detection-4/train/images/sy_-257-_jpg.rf.35e7cbee73367f12310aa6027ad75e69.jpg: ignoring corrupt image/label: Label class 896 exceeds dataset class count 1. Possible class labels are 0-0\n",
            "\u001b[34m\u001b[1mtrain: \u001b[0mWARNING ⚠️ /content/Scence-Text-Detection-4/train/images/sy_-258-_jpg.rf.489b2dc28c7809d5ad4877e85e9ddea3.jpg: ignoring corrupt image/label: Label class 2 exceeds dataset class count 1. Possible class labels are 0-0\n",
            "\u001b[34m\u001b[1mtrain: \u001b[0mWARNING ⚠️ /content/Scence-Text-Detection-4/train/images/sy_-26-_jpg.rf.d3cd5f4346aaf0958df03f1191fb74fe.jpg: ignoring corrupt image/label: Label class 3 exceeds dataset class count 1. Possible class labels are 0-0\n",
            "\u001b[34m\u001b[1mtrain: \u001b[0mWARNING ⚠️ /content/Scence-Text-Detection-4/train/images/sy_-261-_jpg.rf.9eb4ea1cf5452c6339badfeed8ef3691.jpg: ignoring corrupt image/label: Label class 3 exceeds dataset class count 1. Possible class labels are 0-0\n",
            "\u001b[34m\u001b[1mtrain: \u001b[0mWARNING ⚠️ /content/Scence-Text-Detection-4/train/images/sy_-263-_jpg.rf.6b4804b2a6852852f92d7b0d170a7bcd.jpg: ignoring corrupt image/label: Label class 819 exceeds dataset class count 1. Possible class labels are 0-0\n",
            "\u001b[34m\u001b[1mtrain: \u001b[0mWARNING ⚠️ /content/Scence-Text-Detection-4/train/images/sy_-266-_jpg.rf.be601bb6e0fe15553b4fd9f6deb8ad5d.jpg: ignoring corrupt image/label: Label class 2 exceeds dataset class count 1. Possible class labels are 0-0\n",
            "\u001b[34m\u001b[1mtrain: \u001b[0mWARNING ⚠️ /content/Scence-Text-Detection-4/train/images/sy_-269-_jpg.rf.2b90b901ca3655eaa50f67727f5e7bc8.jpg: ignoring corrupt image/label: Label class 3 exceeds dataset class count 1. Possible class labels are 0-0\n",
            "\u001b[34m\u001b[1mtrain: \u001b[0mWARNING ⚠️ /content/Scence-Text-Detection-4/train/images/sy_-270-_jpg.rf.e0a3de3e0d04082d18a4d792ae5880fc.jpg: ignoring corrupt image/label: Label class 2150 exceeds dataset class count 1. Possible class labels are 0-0\n",
            "\u001b[34m\u001b[1mtrain: \u001b[0mWARNING ⚠️ /content/Scence-Text-Detection-4/train/images/sy_-273-_jpg.rf.3c7b21d3cb319eccef914a016159677c.jpg: ignoring corrupt image/label: Label class 664 exceeds dataset class count 1. Possible class labels are 0-0\n",
            "\u001b[34m\u001b[1mtrain: \u001b[0mWARNING ⚠️ /content/Scence-Text-Detection-4/train/images/sy_-279-_jpg.rf.5ff7fbcf47db6e1e62334d6ebd1c0875.jpg: ignoring corrupt image/label: Label class 2282 exceeds dataset class count 1. Possible class labels are 0-0\n",
            "\u001b[34m\u001b[1mtrain: \u001b[0mWARNING ⚠️ /content/Scence-Text-Detection-4/train/images/sy_-280-_jpg.rf.8fcc47649e770efe16b714ecc6dfefd7.jpg: ignoring corrupt image/label: Label class 4 exceeds dataset class count 1. Possible class labels are 0-0\n",
            "\u001b[34m\u001b[1mtrain: \u001b[0mWARNING ⚠️ /content/Scence-Text-Detection-4/train/images/sy_-282-_jpg.rf.1f1b58366ed5505ee6d932776a81fbd4.jpg: ignoring corrupt image/label: Label class 2 exceeds dataset class count 1. Possible class labels are 0-0\n",
            "\u001b[34m\u001b[1mtrain: \u001b[0mWARNING ⚠️ /content/Scence-Text-Detection-4/train/images/sy_-283-_jpg.rf.663ee7412bf4bb7ebab6839372111910.jpg: ignoring corrupt image/label: Label class 2 exceeds dataset class count 1. Possible class labels are 0-0\n",
            "\u001b[34m\u001b[1mtrain: \u001b[0mWARNING ⚠️ /content/Scence-Text-Detection-4/train/images/sy_-284-_jpg.rf.9c053a14b2db4ebcb4987dd8debb043f.jpg: ignoring corrupt image/label: Label class 2 exceeds dataset class count 1. Possible class labels are 0-0\n",
            "\u001b[34m\u001b[1mtrain: \u001b[0mWARNING ⚠️ /content/Scence-Text-Detection-4/train/images/sy_-285-_jpg.rf.46388dda8f77eaa3ccc3617ee6fde357.jpg: ignoring corrupt image/label: Label class 6 exceeds dataset class count 1. Possible class labels are 0-0\n",
            "\u001b[34m\u001b[1mtrain: \u001b[0mWARNING ⚠️ /content/Scence-Text-Detection-4/train/images/sy_-294-_jpg.rf.0518ecd76d83a0d31f525b2f3aea6a72.jpg: ignoring corrupt image/label: Label class 2 exceeds dataset class count 1. Possible class labels are 0-0\n",
            "\u001b[34m\u001b[1mtrain: \u001b[0mWARNING ⚠️ /content/Scence-Text-Detection-4/train/images/sy_-297-_jpg.rf.ef12b8dd92840cd2f4d33a1db0683e8e.jpg: ignoring corrupt image/label: Label class 33 exceeds dataset class count 1. Possible class labels are 0-0\n",
            "\u001b[34m\u001b[1mtrain: \u001b[0mWARNING ⚠️ /content/Scence-Text-Detection-4/train/images/sy_-298-_jpg.rf.073ba7585b07396430f8b44924211c4b.jpg: ignoring corrupt image/label: Label class 1756 exceeds dataset class count 1. Possible class labels are 0-0\n",
            "\u001b[34m\u001b[1mtrain: \u001b[0mWARNING ⚠️ /content/Scence-Text-Detection-4/train/images/sy_-299-_jpg.rf.c7f5d357f0579adb306ace2a2476fee6.jpg: ignoring corrupt image/label: Label class 2 exceeds dataset class count 1. Possible class labels are 0-0\n",
            "\u001b[34m\u001b[1mtrain: \u001b[0mWARNING ⚠️ /content/Scence-Text-Detection-4/train/images/sy_-302-_jpg.rf.7497f67b0afc04e03dc55794acccbd8b.jpg: ignoring corrupt image/label: Label class 2 exceeds dataset class count 1. Possible class labels are 0-0\n",
            "\u001b[34m\u001b[1mtrain: \u001b[0mWARNING ⚠️ /content/Scence-Text-Detection-4/train/images/sy_-308-_jpg.rf.c1e865c6fa60da51d63d6cee923db02e.jpg: ignoring corrupt image/label: Label class 2273 exceeds dataset class count 1. Possible class labels are 0-0\n",
            "\u001b[34m\u001b[1mtrain: \u001b[0mWARNING ⚠️ /content/Scence-Text-Detection-4/train/images/sy_-309-_jpg.rf.cf396a5b623b3858a84c4c251583672b.jpg: ignoring corrupt image/label: Label class 2 exceeds dataset class count 1. Possible class labels are 0-0\n",
            "\u001b[34m\u001b[1mtrain: \u001b[0mWARNING ⚠️ /content/Scence-Text-Detection-4/train/images/sy_-310-_jpg.rf.f3629f3dd5ab0a4e561535f9e0035042.jpg: ignoring corrupt image/label: Label class 2278 exceeds dataset class count 1. Possible class labels are 0-0\n",
            "\u001b[34m\u001b[1mtrain: \u001b[0mWARNING ⚠️ /content/Scence-Text-Detection-4/train/images/sy_-313-_jpg.rf.27708f1f7378c9029e25ef4161e7c6f9.jpg: ignoring corrupt image/label: Label class 2 exceeds dataset class count 1. Possible class labels are 0-0\n",
            "\u001b[34m\u001b[1mtrain: \u001b[0mWARNING ⚠️ /content/Scence-Text-Detection-4/train/images/sy_-314-_jpg.rf.9ec535692fb7d1c8b1f1b155aaf8ec7a.jpg: ignoring corrupt image/label: Label class 1894 exceeds dataset class count 1. Possible class labels are 0-0\n",
            "\u001b[34m\u001b[1mtrain: \u001b[0mWARNING ⚠️ /content/Scence-Text-Detection-4/train/images/sy_-315-_jpg.rf.7a9e242e99a804b04634a3b3103fd271.jpg: ignoring corrupt image/label: Label class 1142 exceeds dataset class count 1. Possible class labels are 0-0\n",
            "\u001b[34m\u001b[1mtrain: \u001b[0mWARNING ⚠️ /content/Scence-Text-Detection-4/train/images/sy_-316-_jpg.rf.fbdb3b77e808945e106f6f9fc3b20615.jpg: ignoring corrupt image/label: Label class 2045 exceeds dataset class count 1. Possible class labels are 0-0\n",
            "\u001b[34m\u001b[1mtrain: \u001b[0mWARNING ⚠️ /content/Scence-Text-Detection-4/train/images/sy_-317-_jpg.rf.3dbb3b092f156082689166d5c13ae943.jpg: ignoring corrupt image/label: Label class 1401 exceeds dataset class count 1. Possible class labels are 0-0\n",
            "\u001b[34m\u001b[1mtrain: \u001b[0mWARNING ⚠️ /content/Scence-Text-Detection-4/train/images/sy_-318-_jpg.rf.241d47011b66722d1df7bfee13daee49.jpg: ignoring corrupt image/label: Label class 1074 exceeds dataset class count 1. Possible class labels are 0-0\n",
            "\u001b[34m\u001b[1mtrain: \u001b[0mWARNING ⚠️ /content/Scence-Text-Detection-4/train/images/sy_-319-_jpg.rf.fd3499276e3f05a0e5b5216e99e2a055.jpg: ignoring corrupt image/label: Label class 2 exceeds dataset class count 1. Possible class labels are 0-0\n",
            "\u001b[34m\u001b[1mtrain: \u001b[0mWARNING ⚠️ /content/Scence-Text-Detection-4/train/images/sy_-320-_jpg.rf.2d5ebddccfc8700532700c2c309eff9a.jpg: ignoring corrupt image/label: Label class 40 exceeds dataset class count 1. Possible class labels are 0-0\n",
            "\u001b[34m\u001b[1mtrain: \u001b[0mWARNING ⚠️ /content/Scence-Text-Detection-4/train/images/sy_-322-_jpg.rf.741a89a769ac7635b05f245822a1cb79.jpg: ignoring corrupt image/label: Label class 1794 exceeds dataset class count 1. Possible class labels are 0-0\n",
            "\u001b[34m\u001b[1mtrain: \u001b[0mWARNING ⚠️ /content/Scence-Text-Detection-4/train/images/sy_-324-_jpg.rf.d83152b411aadf92a72ff072ed2e633d.jpg: ignoring corrupt image/label: Label class 2147 exceeds dataset class count 1. Possible class labels are 0-0\n",
            "\u001b[34m\u001b[1mtrain: \u001b[0mWARNING ⚠️ /content/Scence-Text-Detection-4/train/images/sy_-325-_jpg.rf.760082919cb7f110657e8c4ac7bb88b3.jpg: ignoring corrupt image/label: Label class 2 exceeds dataset class count 1. Possible class labels are 0-0\n",
            "\u001b[34m\u001b[1mtrain: \u001b[0mWARNING ⚠️ /content/Scence-Text-Detection-4/train/images/sy_-326-_jpg.rf.05dfc11d11785ef19aedbffa7ce331e8.jpg: ignoring corrupt image/label: Label class 2099 exceeds dataset class count 1. Possible class labels are 0-0\n",
            "\u001b[34m\u001b[1mtrain: \u001b[0mWARNING ⚠️ /content/Scence-Text-Detection-4/train/images/sy_-330-_jpg.rf.ee9c6d66f4d2b643703e20a5d12aef0a.jpg: ignoring corrupt image/label: Label class 3 exceeds dataset class count 1. Possible class labels are 0-0\n",
            "\u001b[34m\u001b[1mtrain: \u001b[0mWARNING ⚠️ /content/Scence-Text-Detection-4/train/images/sy_-333-_jpg.rf.2736e9544a2e963de3b36d9992515f62.jpg: ignoring corrupt image/label: Label class 1152 exceeds dataset class count 1. Possible class labels are 0-0\n",
            "\u001b[34m\u001b[1mtrain: \u001b[0mWARNING ⚠️ /content/Scence-Text-Detection-4/train/images/sy_-334-_jpg.rf.f51472c6b10902349232beadcc58aee6.jpg: ignoring corrupt image/label: Label class 2045 exceeds dataset class count 1. Possible class labels are 0-0\n",
            "\u001b[34m\u001b[1mtrain: \u001b[0mWARNING ⚠️ /content/Scence-Text-Detection-4/train/images/sy_-335-_jpg.rf.2b7e375593afc0f76dddc781f8d29c39.jpg: ignoring corrupt image/label: Label class 247 exceeds dataset class count 1. Possible class labels are 0-0\n",
            "\u001b[34m\u001b[1mtrain: \u001b[0mWARNING ⚠️ /content/Scence-Text-Detection-4/train/images/sy_-337-_jpg.rf.ce7a6d6ed0872828add866e40dab3270.jpg: ignoring corrupt image/label: Label class 286 exceeds dataset class count 1. Possible class labels are 0-0\n",
            "\u001b[34m\u001b[1mtrain: \u001b[0mWARNING ⚠️ /content/Scence-Text-Detection-4/train/images/sy_-339-_jpg.rf.08453d882ea1cd6fac35b69140c66567.jpg: ignoring corrupt image/label: Label class 1296 exceeds dataset class count 1. Possible class labels are 0-0\n",
            "\u001b[34m\u001b[1mtrain: \u001b[0mWARNING ⚠️ /content/Scence-Text-Detection-4/train/images/sy_-340-_jpg.rf.e1ebaa4efd1af30347bbfffd4c1955ca.jpg: ignoring corrupt image/label: Label class 2 exceeds dataset class count 1. Possible class labels are 0-0\n",
            "\u001b[34m\u001b[1mtrain: \u001b[0mWARNING ⚠️ /content/Scence-Text-Detection-4/train/images/sy_-342-_jpg.rf.b8cd63cf8528882fecda6eb7213c19b0.jpg: ignoring corrupt image/label: Label class 2 exceeds dataset class count 1. Possible class labels are 0-0\n",
            "\u001b[34m\u001b[1mtrain: \u001b[0mWARNING ⚠️ /content/Scence-Text-Detection-4/train/images/sy_-344-_jpg.rf.986674780725e50af3e8bdde666d0cf8.jpg: ignoring corrupt image/label: Label class 1261 exceeds dataset class count 1. Possible class labels are 0-0\n",
            "\u001b[34m\u001b[1mtrain: \u001b[0mWARNING ⚠️ /content/Scence-Text-Detection-4/train/images/sy_-345-_jpg.rf.310d8ce906b53207f28d22f9805a647e.jpg: ignoring corrupt image/label: Label class 1589 exceeds dataset class count 1. Possible class labels are 0-0\n",
            "\u001b[34m\u001b[1mtrain: \u001b[0mWARNING ⚠️ /content/Scence-Text-Detection-4/train/images/sy_-346-_jpg.rf.749bd77087a425579578ac43cc0d8baa.jpg: ignoring corrupt image/label: Label class 1232 exceeds dataset class count 1. Possible class labels are 0-0\n",
            "\u001b[34m\u001b[1mtrain: \u001b[0mWARNING ⚠️ /content/Scence-Text-Detection-4/train/images/sy_-347-_jpg.rf.85114575de45bf75cdd2b4211d6e350a.jpg: ignoring corrupt image/label: Label class 1794 exceeds dataset class count 1. Possible class labels are 0-0\n",
            "\u001b[34m\u001b[1mtrain: \u001b[0mWARNING ⚠️ /content/Scence-Text-Detection-4/train/images/sy_-354-_jpg.rf.e814283f370658867585f5e5a53e6b9c.jpg: ignoring corrupt image/label: Label class 2045 exceeds dataset class count 1. Possible class labels are 0-0\n",
            "\u001b[34m\u001b[1mtrain: \u001b[0mWARNING ⚠️ /content/Scence-Text-Detection-4/train/images/sy_-356-_jpg.rf.1594999018263f4b293880be71757d1a.jpg: ignoring corrupt image/label: Label class 2243 exceeds dataset class count 1. Possible class labels are 0-0\n",
            "\u001b[34m\u001b[1mtrain: \u001b[0mWARNING ⚠️ /content/Scence-Text-Detection-4/train/images/sy_-358-_jpg.rf.73f05546b07351ee3ebcc5f21de4e9c0.jpg: ignoring corrupt image/label: Label class 1591 exceeds dataset class count 1. Possible class labels are 0-0\n",
            "\u001b[34m\u001b[1mtrain: \u001b[0mWARNING ⚠️ /content/Scence-Text-Detection-4/train/images/sy_-36-_jpg.rf.c459eb7db3f7086c62d74395caf14f3f.jpg: ignoring corrupt image/label: Label class 2 exceeds dataset class count 1. Possible class labels are 0-0\n",
            "\u001b[34m\u001b[1mtrain: \u001b[0mWARNING ⚠️ /content/Scence-Text-Detection-4/train/images/sy_-363-_jpg.rf.39fdb8d0af0c261bc99fc4895205f142.jpg: ignoring corrupt image/label: Label class 1412 exceeds dataset class count 1. Possible class labels are 0-0\n",
            "\u001b[34m\u001b[1mtrain: \u001b[0mWARNING ⚠️ /content/Scence-Text-Detection-4/train/images/sy_-367-_jpg.rf.3883a145d204fd33cdcb3d3650c0fa3a.jpg: ignoring corrupt image/label: Label class 1502 exceeds dataset class count 1. Possible class labels are 0-0\n",
            "\u001b[34m\u001b[1mtrain: \u001b[0mWARNING ⚠️ /content/Scence-Text-Detection-4/train/images/sy_-370-_jpg.rf.3c890c9eb220596668be7239f353a817.jpg: ignoring corrupt image/label: Label class 1463 exceeds dataset class count 1. Possible class labels are 0-0\n",
            "\u001b[34m\u001b[1mtrain: \u001b[0mWARNING ⚠️ /content/Scence-Text-Detection-4/train/images/sy_-372-_jpg.rf.512c7b49fc55ea7b347e0fcb0cc73066.jpg: ignoring corrupt image/label: Label class 1994 exceeds dataset class count 1. Possible class labels are 0-0\n",
            "\u001b[34m\u001b[1mtrain: \u001b[0mWARNING ⚠️ /content/Scence-Text-Detection-4/train/images/sy_-374-_jpg.rf.0db14c8b0e1eece86c2e8be2dd1b52f9.jpg: ignoring corrupt image/label: Label class 2 exceeds dataset class count 1. Possible class labels are 0-0\n",
            "\u001b[34m\u001b[1mtrain: \u001b[0mWARNING ⚠️ /content/Scence-Text-Detection-4/train/images/sy_-375-_jpg.rf.daf28410e2f9a0410e9e19da6b824291.jpg: ignoring corrupt image/label: Label class 2 exceeds dataset class count 1. Possible class labels are 0-0\n",
            "\u001b[34m\u001b[1mtrain: \u001b[0mWARNING ⚠️ /content/Scence-Text-Detection-4/train/images/sy_-376-_jpg.rf.6a10cc388212ec8b08fe4df139df5ceb.jpg: ignoring corrupt image/label: Label class 1065 exceeds dataset class count 1. Possible class labels are 0-0\n",
            "\u001b[34m\u001b[1mtrain: \u001b[0mWARNING ⚠️ /content/Scence-Text-Detection-4/train/images/sy_-377-_jpg.rf.41440a363339e667896ae27cba0d81ee.jpg: ignoring corrupt image/label: Label class 4 exceeds dataset class count 1. Possible class labels are 0-0\n",
            "\u001b[34m\u001b[1mtrain: \u001b[0mWARNING ⚠️ /content/Scence-Text-Detection-4/train/images/sy_-379-_jpg.rf.56eefc39a62776cbcdc61d988afacf56.jpg: ignoring corrupt image/label: Label class 1155 exceeds dataset class count 1. Possible class labels are 0-0\n",
            "\u001b[34m\u001b[1mtrain: \u001b[0mWARNING ⚠️ /content/Scence-Text-Detection-4/train/images/sy_-381-_jpg.rf.1970804aedf533835e1d6d74b0b1c007.jpg: ignoring corrupt image/label: Label class 665 exceeds dataset class count 1. Possible class labels are 0-0\n",
            "\u001b[34m\u001b[1mtrain: \u001b[0mWARNING ⚠️ /content/Scence-Text-Detection-4/train/images/sy_-383-_jpg.rf.206fac4e44361de64b8b0d7560acad2f.jpg: ignoring corrupt image/label: Label class 1745 exceeds dataset class count 1. Possible class labels are 0-0\n",
            "\u001b[34m\u001b[1mtrain: \u001b[0mWARNING ⚠️ /content/Scence-Text-Detection-4/train/images/sy_-384-_jpg.rf.26acc8ed867ae3ce39d62123df320c8d.jpg: ignoring corrupt image/label: Label class 2 exceeds dataset class count 1. Possible class labels are 0-0\n",
            "\u001b[34m\u001b[1mtrain: \u001b[0mWARNING ⚠️ /content/Scence-Text-Detection-4/train/images/sy_-385-_jpg.rf.34a49f5677182d15b78c2020443b2cc3.jpg: ignoring corrupt image/label: Label class 9 exceeds dataset class count 1. Possible class labels are 0-0\n",
            "\u001b[34m\u001b[1mtrain: \u001b[0mWARNING ⚠️ /content/Scence-Text-Detection-4/train/images/sy_-388-_jpg.rf.6f813831219f391cfb2ff7fbeaf66399.jpg: ignoring corrupt image/label: Label class 677 exceeds dataset class count 1. Possible class labels are 0-0\n",
            "\u001b[34m\u001b[1mtrain: \u001b[0mWARNING ⚠️ /content/Scence-Text-Detection-4/train/images/sy_-389-_jpg.rf.c720dd6b436792e6d0c54935cc39dc1f.jpg: ignoring corrupt image/label: Label class 2282 exceeds dataset class count 1. Possible class labels are 0-0\n",
            "\u001b[34m\u001b[1mtrain: \u001b[0mWARNING ⚠️ /content/Scence-Text-Detection-4/train/images/sy_-39-_jpg.rf.f1260eb8d9108299b5d4a6ad398f74ca.jpg: ignoring corrupt image/label: Label class 3 exceeds dataset class count 1. Possible class labels are 0-0\n",
            "\u001b[34m\u001b[1mtrain: \u001b[0mWARNING ⚠️ /content/Scence-Text-Detection-4/train/images/sy_-390-_jpg.rf.90842baa9861dbc2e90c6848f43c9d71.jpg: ignoring corrupt image/label: Label class 2 exceeds dataset class count 1. Possible class labels are 0-0\n",
            "\u001b[34m\u001b[1mtrain: \u001b[0mWARNING ⚠️ /content/Scence-Text-Detection-4/train/images/sy_-391-_jpg.rf.0c5d06b3f69586c095cc1f4464507d93.jpg: ignoring corrupt image/label: Label class 1862 exceeds dataset class count 1. Possible class labels are 0-0\n",
            "\u001b[34m\u001b[1mtrain: \u001b[0mWARNING ⚠️ /content/Scence-Text-Detection-4/train/images/sy_-392-_jpg.rf.7e9caefee95f8631ed292103772b06fc.jpg: ignoring corrupt image/label: Label class 1279 exceeds dataset class count 1. Possible class labels are 0-0\n",
            "\u001b[34m\u001b[1mtrain: \u001b[0mWARNING ⚠️ /content/Scence-Text-Detection-4/train/images/sy_-394-_jpg.rf.fdc8b4cf2a29ae6adfc7023f3860c203.jpg: ignoring corrupt image/label: Label class 1403 exceeds dataset class count 1. Possible class labels are 0-0\n",
            "\u001b[34m\u001b[1mtrain: \u001b[0mWARNING ⚠️ /content/Scence-Text-Detection-4/train/images/sy_-397-_jpg.rf.ff4c93ca2425343f31eaf49e171b47cb.jpg: ignoring corrupt image/label: Label class 2090 exceeds dataset class count 1. Possible class labels are 0-0\n",
            "\u001b[34m\u001b[1mtrain: \u001b[0mWARNING ⚠️ /content/Scence-Text-Detection-4/train/images/sy_-4-_jpg.rf.c6864ed29d24a4a9dafcb0a7a95549b3.jpg: ignoring corrupt image/label: Label class 1691 exceeds dataset class count 1. Possible class labels are 0-0\n",
            "\u001b[34m\u001b[1mtrain: \u001b[0mWARNING ⚠️ /content/Scence-Text-Detection-4/train/images/sy_-40-_jpg.rf.93013f096faffb56245b70e263493d2c.jpg: ignoring corrupt image/label: Label class 2282 exceeds dataset class count 1. Possible class labels are 0-0\n",
            "\u001b[34m\u001b[1mtrain: \u001b[0mWARNING ⚠️ /content/Scence-Text-Detection-4/train/images/sy_-401-_jpg.rf.b1a97d51f166abfca1e7e8e4f6fd1e8c.jpg: ignoring corrupt image/label: Label class 3 exceeds dataset class count 1. Possible class labels are 0-0\n",
            "\u001b[34m\u001b[1mtrain: \u001b[0mWARNING ⚠️ /content/Scence-Text-Detection-4/train/images/sy_-407-_jpg.rf.79d77340af36259db14b135764e49909.jpg: ignoring corrupt image/label: Label class 1419 exceeds dataset class count 1. Possible class labels are 0-0\n",
            "\u001b[34m\u001b[1mtrain: \u001b[0mWARNING ⚠️ /content/Scence-Text-Detection-4/train/images/sy_-408-_jpg.rf.cc8f8578fbf8cc816710477aea0e0520.jpg: ignoring corrupt image/label: Label class 2243 exceeds dataset class count 1. Possible class labels are 0-0\n",
            "\u001b[34m\u001b[1mtrain: \u001b[0mWARNING ⚠️ /content/Scence-Text-Detection-4/train/images/sy_-410-_jpg.rf.1d9199b4f10d7a046ce42d5b78f354e8.jpg: ignoring corrupt image/label: Label class 1521 exceeds dataset class count 1. Possible class labels are 0-0\n",
            "\u001b[34m\u001b[1mtrain: \u001b[0mWARNING ⚠️ /content/Scence-Text-Detection-4/train/images/sy_-411-_jpg.rf.f452903e6d62e27bb965422912540043.jpg: ignoring corrupt image/label: Label class 2 exceeds dataset class count 1. Possible class labels are 0-0\n",
            "\u001b[34m\u001b[1mtrain: \u001b[0mWARNING ⚠️ /content/Scence-Text-Detection-4/train/images/sy_-412-_jpg.rf.e8a4f54a59e9985689034bcab56cda68.jpg: ignoring corrupt image/label: Label class 659 exceeds dataset class count 1. Possible class labels are 0-0\n",
            "\u001b[34m\u001b[1mtrain: \u001b[0mWARNING ⚠️ /content/Scence-Text-Detection-4/train/images/sy_-413-_jpg.rf.e51d646f0538e0ed9bc3051dbd30d691.jpg: ignoring corrupt image/label: Label class 1016 exceeds dataset class count 1. Possible class labels are 0-0\n",
            "\u001b[34m\u001b[1mtrain: \u001b[0mWARNING ⚠️ /content/Scence-Text-Detection-4/train/images/sy_-414-_jpg.rf.50548460af2fa2520e0658a71a0d62cd.jpg: ignoring corrupt image/label: Label class 2 exceeds dataset class count 1. Possible class labels are 0-0\n",
            "\u001b[34m\u001b[1mtrain: \u001b[0mWARNING ⚠️ /content/Scence-Text-Detection-4/train/images/sy_-416-_jpg.rf.cbc69ef29608fbd29dfc863f13da220c.jpg: ignoring corrupt image/label: Label class 1513 exceeds dataset class count 1. Possible class labels are 0-0\n",
            "\u001b[34m\u001b[1mtrain: \u001b[0mWARNING ⚠️ /content/Scence-Text-Detection-4/train/images/sy_-417-_jpg.rf.5e15d3a47be393dd24c194cc69d440b8.jpg: ignoring corrupt image/label: Label class 1492 exceeds dataset class count 1. Possible class labels are 0-0\n",
            "\u001b[34m\u001b[1mtrain: \u001b[0mWARNING ⚠️ /content/Scence-Text-Detection-4/train/images/sy_-419-_jpg.rf.f7425f2ca71f1931e77b50b517349b94.jpg: ignoring corrupt image/label: Label class 1083 exceeds dataset class count 1. Possible class labels are 0-0\n",
            "\u001b[34m\u001b[1mtrain: \u001b[0mWARNING ⚠️ /content/Scence-Text-Detection-4/train/images/sy_-421-_jpg.rf.ad4b050d7335055a474e9f0c7c5dace5.jpg: ignoring corrupt image/label: Label class 1533 exceeds dataset class count 1. Possible class labels are 0-0\n",
            "\u001b[34m\u001b[1mtrain: \u001b[0mWARNING ⚠️ /content/Scence-Text-Detection-4/train/images/sy_-424-_jpg.rf.1c7557aecbbc9baf14c1901c137ffd08.jpg: ignoring corrupt image/label: Label class 4 exceeds dataset class count 1. Possible class labels are 0-0\n",
            "\u001b[34m\u001b[1mtrain: \u001b[0mWARNING ⚠️ /content/Scence-Text-Detection-4/train/images/sy_-425-_jpg.rf.0ff5509d1ba60de2ffa5f7bc623d91b7.jpg: ignoring corrupt image/label: Label class 776 exceeds dataset class count 1. Possible class labels are 0-0\n",
            "\u001b[34m\u001b[1mtrain: \u001b[0mWARNING ⚠️ /content/Scence-Text-Detection-4/train/images/sy_-426-_jpg.rf.06cb9c83db3e6ee91724d8107d7e58e8.jpg: ignoring corrupt image/label: Label class 2192 exceeds dataset class count 1. Possible class labels are 0-0\n",
            "\u001b[34m\u001b[1mtrain: \u001b[0mWARNING ⚠️ /content/Scence-Text-Detection-4/train/images/sy_-427-_jpg.rf.ae4eb42bfbd7ccd7568b9a0e7c7606cd.jpg: ignoring corrupt image/label: Label class 1550 exceeds dataset class count 1. Possible class labels are 0-0\n",
            "\u001b[34m\u001b[1mtrain: \u001b[0mWARNING ⚠️ /content/Scence-Text-Detection-4/train/images/sy_-43-_jpg.rf.34dbbdbdadb3bf96739f7fa49dc2b688.jpg: ignoring corrupt image/label: Label class 1616 exceeds dataset class count 1. Possible class labels are 0-0\n",
            "\u001b[34m\u001b[1mtrain: \u001b[0mWARNING ⚠️ /content/Scence-Text-Detection-4/train/images/sy_-430-_jpg.rf.801957ef958d4dfb08199f9b7d4e684c.jpg: ignoring corrupt image/label: Label class 1420 exceeds dataset class count 1. Possible class labels are 0-0\n",
            "\u001b[34m\u001b[1mtrain: \u001b[0mWARNING ⚠️ /content/Scence-Text-Detection-4/train/images/sy_-431-_jpg.rf.90a1bf81b9a5b3f4a69c3208197cff77.jpg: ignoring corrupt image/label: Label class 2 exceeds dataset class count 1. Possible class labels are 0-0\n",
            "\u001b[34m\u001b[1mtrain: \u001b[0mWARNING ⚠️ /content/Scence-Text-Detection-4/train/images/sy_-432-_jpg.rf.0a3f2a37c6af73e54d75b200192c6ed3.jpg: ignoring corrupt image/label: Label class 2 exceeds dataset class count 1. Possible class labels are 0-0\n",
            "\u001b[34m\u001b[1mtrain: \u001b[0mWARNING ⚠️ /content/Scence-Text-Detection-4/train/images/sy_-433-_jpg.rf.c3a977039303eedac7b974468e39d300.jpg: ignoring corrupt image/label: Label class 2 exceeds dataset class count 1. Possible class labels are 0-0\n",
            "\u001b[34m\u001b[1mtrain: \u001b[0mWARNING ⚠️ /content/Scence-Text-Detection-4/train/images/sy_-435-_jpg.rf.e7c0234ec6845f1941ded2564fd024af.jpg: ignoring corrupt image/label: Label class 663 exceeds dataset class count 1. Possible class labels are 0-0\n",
            "\u001b[34m\u001b[1mtrain: \u001b[0mWARNING ⚠️ /content/Scence-Text-Detection-4/train/images/sy_-441-_jpg.rf.b1fd372028fe863f02d78080f535ddb8.jpg: ignoring corrupt image/label: Label class 1500 exceeds dataset class count 1. Possible class labels are 0-0\n",
            "\u001b[34m\u001b[1mtrain: \u001b[0mWARNING ⚠️ /content/Scence-Text-Detection-4/train/images/sy_-443-_jpg.rf.c79eb25c639c76cbad9e65d1fe004ab0.jpg: ignoring corrupt image/label: Label class 806 exceeds dataset class count 1. Possible class labels are 0-0\n",
            "\u001b[34m\u001b[1mtrain: \u001b[0mWARNING ⚠️ /content/Scence-Text-Detection-4/train/images/sy_-446-_jpg.rf.7cb3d3c458e27197c2357d608d53d114.jpg: ignoring corrupt image/label: Label class 1435 exceeds dataset class count 1. Possible class labels are 0-0\n",
            "\u001b[34m\u001b[1mtrain: \u001b[0mWARNING ⚠️ /content/Scence-Text-Detection-4/train/images/sy_-447-_jpg.rf.d28284f116d5c7a77ac07d99597a8308.jpg: ignoring corrupt image/label: Label class 888 exceeds dataset class count 1. Possible class labels are 0-0\n",
            "\u001b[34m\u001b[1mtrain: \u001b[0mWARNING ⚠️ /content/Scence-Text-Detection-4/train/images/sy_-451-_jpg.rf.696c44c0f99ea1305f5ae164e5e980da.jpg: ignoring corrupt image/label: Label class 1191 exceeds dataset class count 1. Possible class labels are 0-0\n",
            "\u001b[34m\u001b[1mtrain: \u001b[0mWARNING ⚠️ /content/Scence-Text-Detection-4/train/images/sy_-456-_jpg.rf.2ed2e12cb8a0eceb90b7b913e061f58f.jpg: ignoring corrupt image/label: Label class 662 exceeds dataset class count 1. Possible class labels are 0-0\n",
            "\u001b[34m\u001b[1mtrain: \u001b[0mWARNING ⚠️ /content/Scence-Text-Detection-4/train/images/sy_-459-_jpg.rf.d2554756eb4be44def7b703f68d10c64.jpg: ignoring corrupt image/label: Label class 1381 exceeds dataset class count 1. Possible class labels are 0-0\n",
            "\u001b[34m\u001b[1mtrain: \u001b[0mWARNING ⚠️ /content/Scence-Text-Detection-4/train/images/sy_-461-_jpg.rf.39286c536bb834b0f0d67c641cd3afe7.jpg: ignoring corrupt image/label: Label class 423 exceeds dataset class count 1. Possible class labels are 0-0\n",
            "\u001b[34m\u001b[1mtrain: \u001b[0mWARNING ⚠️ /content/Scence-Text-Detection-4/train/images/sy_-463-_jpg.rf.c8ace086fca7e9ce91745e9f28bb206e.jpg: ignoring corrupt image/label: Label class 1334 exceeds dataset class count 1. Possible class labels are 0-0\n",
            "\u001b[34m\u001b[1mtrain: \u001b[0mWARNING ⚠️ /content/Scence-Text-Detection-4/train/images/sy_-464-_jpg.rf.0c8c81de9b91308e5a75596cb03e11fe.jpg: ignoring corrupt image/label: Label class 766 exceeds dataset class count 1. Possible class labels are 0-0\n",
            "\u001b[34m\u001b[1mtrain: \u001b[0mWARNING ⚠️ /content/Scence-Text-Detection-4/train/images/sy_-465-_jpg.rf.694b44b5fcef3be7d804dac03f82b172.jpg: ignoring corrupt image/label: Label class 2 exceeds dataset class count 1. Possible class labels are 0-0\n",
            "\u001b[34m\u001b[1mtrain: \u001b[0mWARNING ⚠️ /content/Scence-Text-Detection-4/train/images/sy_-466-_jpg.rf.9a458aa6f77a9fb3d65a06a59617f2a4.jpg: ignoring corrupt image/label: Label class 1815 exceeds dataset class count 1. Possible class labels are 0-0\n",
            "\u001b[34m\u001b[1mtrain: \u001b[0mWARNING ⚠️ /content/Scence-Text-Detection-4/train/images/sy_-467-_jpg.rf.46ce3c9b1ad6ff58a33599249928090f.jpg: ignoring corrupt image/label: Label class 1810 exceeds dataset class count 1. Possible class labels are 0-0\n",
            "\u001b[34m\u001b[1mtrain: \u001b[0mWARNING ⚠️ /content/Scence-Text-Detection-4/train/images/sy_-468-_jpg.rf.a215e971b6c8fc835dbc4c53662c2ccc.jpg: ignoring corrupt image/label: Label class 1876 exceeds dataset class count 1. Possible class labels are 0-0\n",
            "\u001b[34m\u001b[1mtrain: \u001b[0mWARNING ⚠️ /content/Scence-Text-Detection-4/train/images/sy_-470-_jpg.rf.94d6004a8845ea31a379cdaf1cfe8b85.jpg: ignoring corrupt image/label: Label class 4 exceeds dataset class count 1. Possible class labels are 0-0\n",
            "\u001b[34m\u001b[1mtrain: \u001b[0mWARNING ⚠️ /content/Scence-Text-Detection-4/train/images/sy_-473-_jpg.rf.0c07ae2036c31819447edb69a1832a13.jpg: ignoring corrupt image/label: Label class 1427 exceeds dataset class count 1. Possible class labels are 0-0\n",
            "\u001b[34m\u001b[1mtrain: \u001b[0mWARNING ⚠️ /content/Scence-Text-Detection-4/train/images/sy_-474-_jpg.rf.18fd97ac831dcb1645639adc3cb3a14c.jpg: ignoring corrupt image/label: Label class 2 exceeds dataset class count 1. Possible class labels are 0-0\n",
            "\u001b[34m\u001b[1mtrain: \u001b[0mWARNING ⚠️ /content/Scence-Text-Detection-4/train/images/sy_-476-_jpg.rf.50075b53240aedde9f0f11d154d70768.jpg: ignoring corrupt image/label: Label class 2 exceeds dataset class count 1. Possible class labels are 0-0\n",
            "\u001b[34m\u001b[1mtrain: \u001b[0mWARNING ⚠️ /content/Scence-Text-Detection-4/train/images/sy_-479-_jpg.rf.d9fd5b218c7cbcd22289779eb3932229.jpg: ignoring corrupt image/label: Label class 2123 exceeds dataset class count 1. Possible class labels are 0-0\n",
            "\u001b[34m\u001b[1mtrain: \u001b[0mWARNING ⚠️ /content/Scence-Text-Detection-4/train/images/sy_-480-_jpg.rf.2faef6a414686ea967e06091418374d5.jpg: ignoring corrupt image/label: Label class 1750 exceeds dataset class count 1. Possible class labels are 0-0\n",
            "\u001b[34m\u001b[1mtrain: \u001b[0mWARNING ⚠️ /content/Scence-Text-Detection-4/train/images/sy_-486-_jpg.rf.dca1be28fcc1c88ca4ab63a8f0b3e041.jpg: ignoring corrupt image/label: Label class 883 exceeds dataset class count 1. Possible class labels are 0-0\n",
            "\u001b[34m\u001b[1mtrain: \u001b[0mWARNING ⚠️ /content/Scence-Text-Detection-4/train/images/sy_-487-_jpg.rf.749927ca3dda153d53afd1512232c94d.jpg: ignoring corrupt image/label: Label class 2 exceeds dataset class count 1. Possible class labels are 0-0\n",
            "\u001b[34m\u001b[1mtrain: \u001b[0mWARNING ⚠️ /content/Scence-Text-Detection-4/train/images/sy_-488-_jpg.rf.f9d48fa2ff0fbe2eed0fd11c8cbb9e0d.jpg: ignoring corrupt image/label: Label class 3 exceeds dataset class count 1. Possible class labels are 0-0\n",
            "\u001b[34m\u001b[1mtrain: \u001b[0mWARNING ⚠️ /content/Scence-Text-Detection-4/train/images/sy_-489-_jpg.rf.bfe0cee7290facf7920daeebd98d7bcb.jpg: ignoring corrupt image/label: Label class 3 exceeds dataset class count 1. Possible class labels are 0-0\n",
            "\u001b[34m\u001b[1mtrain: \u001b[0mWARNING ⚠️ /content/Scence-Text-Detection-4/train/images/sy_-49-_jpg.rf.a1e855bf46cb2b451ef6b372a4d83a81.jpg: ignoring corrupt image/label: Label class 3 exceeds dataset class count 1. Possible class labels are 0-0\n",
            "\u001b[34m\u001b[1mtrain: \u001b[0mWARNING ⚠️ /content/Scence-Text-Detection-4/train/images/sy_-492-_jpg.rf.c4a80340bbd4e5e48ab7f3637ecb7c11.jpg: ignoring corrupt image/label: Label class 2024 exceeds dataset class count 1. Possible class labels are 0-0\n",
            "\u001b[34m\u001b[1mtrain: \u001b[0mWARNING ⚠️ /content/Scence-Text-Detection-4/train/images/sy_-493-_jpg.rf.e66bef9db2d3ec3e9ed5f4295c0560a0.jpg: ignoring corrupt image/label: Label class 2 exceeds dataset class count 1. Possible class labels are 0-0\n",
            "\u001b[34m\u001b[1mtrain: \u001b[0mWARNING ⚠️ /content/Scence-Text-Detection-4/train/images/sy_-497-_jpg.rf.0a10c5c95d22775aac07fddf284297c0.jpg: ignoring corrupt image/label: Label class 852 exceeds dataset class count 1. Possible class labels are 0-0\n",
            "\u001b[34m\u001b[1mtrain: \u001b[0mWARNING ⚠️ /content/Scence-Text-Detection-4/train/images/sy_-498-_jpg.rf.331a57ee7942c7a765106c985c1ce4a6.jpg: ignoring corrupt image/label: Label class 3 exceeds dataset class count 1. Possible class labels are 0-0\n",
            "\u001b[34m\u001b[1mtrain: \u001b[0mWARNING ⚠️ /content/Scence-Text-Detection-4/train/images/sy_-5-_jpg.rf.3e9bb72289a89929d90c2daecebbebcc.jpg: ignoring corrupt image/label: Label class 951 exceeds dataset class count 1. Possible class labels are 0-0\n",
            "\u001b[34m\u001b[1mtrain: \u001b[0mWARNING ⚠️ /content/Scence-Text-Detection-4/train/images/sy_-57-_jpg.rf.cd082a1173689ad5ed56d63b897d1add.jpg: ignoring corrupt image/label: Label class 1334 exceeds dataset class count 1. Possible class labels are 0-0\n",
            "\u001b[34m\u001b[1mtrain: \u001b[0mWARNING ⚠️ /content/Scence-Text-Detection-4/train/images/sy_-60-_jpg.rf.7a19232ce663262ebf99b31b716f9196.jpg: ignoring corrupt image/label: Label class 2 exceeds dataset class count 1. Possible class labels are 0-0\n",
            "\u001b[34m\u001b[1mtrain: \u001b[0mWARNING ⚠️ /content/Scence-Text-Detection-4/train/images/sy_-67-_jpg.rf.25f6184c369c9f177c2291644c7f1c32.jpg: ignoring corrupt image/label: Label class 2 exceeds dataset class count 1. Possible class labels are 0-0\n",
            "\u001b[34m\u001b[1mtrain: \u001b[0mWARNING ⚠️ /content/Scence-Text-Detection-4/train/images/sy_-69-_jpg.rf.ee06e6ec52c411d0ff3adb6431565c50.jpg: ignoring corrupt image/label: Label class 2 exceeds dataset class count 1. Possible class labels are 0-0\n",
            "\u001b[34m\u001b[1mtrain: \u001b[0mWARNING ⚠️ /content/Scence-Text-Detection-4/train/images/sy_-74-_jpg.rf.dfd776c9048f004409adc19ec9648400.jpg: ignoring corrupt image/label: Label class 2 exceeds dataset class count 1. Possible class labels are 0-0\n",
            "\u001b[34m\u001b[1mtrain: \u001b[0mWARNING ⚠️ /content/Scence-Text-Detection-4/train/images/sy_-78-_jpg.rf.5625ce858938e5fa72180844cde4cd94.jpg: ignoring corrupt image/label: Label class 3 exceeds dataset class count 1. Possible class labels are 0-0\n",
            "\u001b[34m\u001b[1mtrain: \u001b[0mWARNING ⚠️ /content/Scence-Text-Detection-4/train/images/sy_-79-_jpg.rf.76699d2730305eb6c5826994d20b7982.jpg: ignoring corrupt image/label: Label class 2 exceeds dataset class count 1. Possible class labels are 0-0\n",
            "\u001b[34m\u001b[1mtrain: \u001b[0mWARNING ⚠️ /content/Scence-Text-Detection-4/train/images/sy_-80-_jpg.rf.4631041ba1cf9f1cfb55fcde34bba599.jpg: ignoring corrupt image/label: Label class 2 exceeds dataset class count 1. Possible class labels are 0-0\n",
            "\u001b[34m\u001b[1mtrain: \u001b[0mWARNING ⚠️ /content/Scence-Text-Detection-4/train/images/sy_-82-_jpg.rf.3f86f94649be9182a598c451bd34b9c2.jpg: ignoring corrupt image/label: Label class 1297 exceeds dataset class count 1. Possible class labels are 0-0\n",
            "\u001b[34m\u001b[1mtrain: \u001b[0mWARNING ⚠️ /content/Scence-Text-Detection-4/train/images/sy_-83-_jpg.rf.4ac3e9384d758d7724e8ebb8de8bfec6.jpg: ignoring corrupt image/label: Label class 119 exceeds dataset class count 1. Possible class labels are 0-0\n",
            "\u001b[34m\u001b[1mtrain: \u001b[0mWARNING ⚠️ /content/Scence-Text-Detection-4/train/images/sy_-87-_jpg.rf.a9373affc03461d83773d6e12dd26d52.jpg: ignoring corrupt image/label: Label class 972 exceeds dataset class count 1. Possible class labels are 0-0\n",
            "\u001b[34m\u001b[1mtrain: \u001b[0mWARNING ⚠️ /content/Scence-Text-Detection-4/train/images/sy_-92-_jpg.rf.7bbf892eda7de35afb64c1b551e54f7c.jpg: ignoring corrupt image/label: Label class 2 exceeds dataset class count 1. Possible class labels are 0-0\n",
            "\u001b[34m\u001b[1mtrain: \u001b[0mWARNING ⚠️ /content/Scence-Text-Detection-4/train/images/sy_-94-_jpg.rf.8b5f5fae06855537ce3f7a333ecd90d5.jpg: ignoring corrupt image/label: Label class 1046 exceeds dataset class count 1. Possible class labels are 0-0\n",
            "\u001b[34m\u001b[1mtrain: \u001b[0mWARNING ⚠️ /content/Scence-Text-Detection-4/train/images/sy_-95-_jpg.rf.3f3d92cb546f0200288ea2c6b07ae978.jpg: ignoring corrupt image/label: Label class 2266 exceeds dataset class count 1. Possible class labels are 0-0\n",
            "\u001b[34m\u001b[1mtrain: \u001b[0mWARNING ⚠️ /content/Scence-Text-Detection-4/train/images/sy_-98-_jpg.rf.2499182b03eaeea653b633a4b12b678b.jpg: ignoring corrupt image/label: Label class 908 exceeds dataset class count 1. Possible class labels are 0-0\n",
            "WARNING ⚠️ Box and segment counts should be equal, but got len(segments) = 5866, len(boxes) = 5878. To resolve this only boxes will be used and all segments will be removed. To avoid this please supply either a detect or segment dataset, not a detect-segment mixed dataset.\n",
            "\u001b[34m\u001b[1malbumentations: \u001b[0mBlur(p=0.01, blur_limit=(3, 7)), MedianBlur(p=0.01, blur_limit=(3, 7)), ToGray(p=0.01, num_output_channels=3, method='weighted_average'), CLAHE(p=0.01, clip_limit=(1.0, 4.0), tile_grid_size=(8, 8))\n"
          ]
        },
        {
          "output_type": "stream",
          "name": "stderr",
          "text": [
            "\n",
            "\u001b[34m\u001b[1mval: \u001b[0mScanning /content/Scence-Text-Detection-4/valid/labels.cache... 779 images, 4 backgrounds, 342 corrupt: 100%|██████████| 779/779 [00:00<?, ?it/s]"
          ]
        },
        {
          "output_type": "stream",
          "name": "stdout",
          "text": [
            "\u001b[34m\u001b[1mval: \u001b[0mWARNING ⚠️ /content/Scence-Text-Detection-4/valid/images/112_jpg.rf.c0d56defdd9ccbb8bce86fe216d89682.jpg: ignoring corrupt image/label: Label class 388 exceeds dataset class count 1. Possible class labels are 0-0\n",
            "\u001b[34m\u001b[1mval: \u001b[0mWARNING ⚠️ /content/Scence-Text-Detection-4/valid/images/2024-10-31-10-33-37_jpg.rf.f2b9a08801f02294694912021b5aa217.jpg: ignoring corrupt image/label: Label class 2283 exceeds dataset class count 1. Possible class labels are 0-0\n",
            "\u001b[34m\u001b[1mval: \u001b[0mWARNING ⚠️ /content/Scence-Text-Detection-4/valid/images/2024-10-31-10-33-56_jpg.rf.7421573be775faa7213ad265e107410a.jpg: ignoring corrupt image/label: Label class 2283 exceeds dataset class count 1. Possible class labels are 0-0\n",
            "\u001b[34m\u001b[1mval: \u001b[0mWARNING ⚠️ /content/Scence-Text-Detection-4/valid/images/20241022_193348_jpg.rf.90d91d5842efb3115c358267b9290859.jpg: ignoring corrupt image/label: Label class 6 exceeds dataset class count 1. Possible class labels are 0-0\n",
            "\u001b[34m\u001b[1mval: \u001b[0mWARNING ⚠️ /content/Scence-Text-Detection-4/valid/images/20241022_193546_jpg.rf.79cd65311f3f64425e97c1c6fb513103.jpg: ignoring corrupt image/label: Label class 2066 exceeds dataset class count 1. Possible class labels are 0-0\n",
            "\u001b[34m\u001b[1mval: \u001b[0mWARNING ⚠️ /content/Scence-Text-Detection-4/valid/images/20241022_210747_jpg.rf.0235abf0b891115cc40b857ceae1eb2b.jpg: ignoring corrupt image/label: Label class 1499 exceeds dataset class count 1. Possible class labels are 0-0\n",
            "\u001b[34m\u001b[1mval: \u001b[0mWARNING ⚠️ /content/Scence-Text-Detection-4/valid/images/20241023_162758_jpg.rf.6c156e58e0f4ad942afdd96326b05652.jpg: ignoring corrupt image/label: Label class 1883 exceeds dataset class count 1. Possible class labels are 0-0\n",
            "\u001b[34m\u001b[1mval: \u001b[0mWARNING ⚠️ /content/Scence-Text-Detection-4/valid/images/20241023_200711_jpg.rf.d5823189512e06a0a41de8b419c6a2c1.jpg: ignoring corrupt image/label: Label class 1945 exceeds dataset class count 1. Possible class labels are 0-0\n",
            "\u001b[34m\u001b[1mval: \u001b[0mWARNING ⚠️ /content/Scence-Text-Detection-4/valid/images/20241023_201434_jpg.rf.4024f486581acc303c2e34d8ca968a4d.jpg: ignoring corrupt image/label: Label class 1717 exceeds dataset class count 1. Possible class labels are 0-0\n",
            "\u001b[34m\u001b[1mval: \u001b[0mWARNING ⚠️ /content/Scence-Text-Detection-4/valid/images/20241023_201554_jpg.rf.c9945ab2655a08f69bb54d288ea44cc5.jpg: ignoring corrupt image/label: Label class 2246 exceeds dataset class count 1. Possible class labels are 0-0\n",
            "\u001b[34m\u001b[1mval: \u001b[0mWARNING ⚠️ /content/Scence-Text-Detection-4/valid/images/20241023_201611_jpg.rf.a33b0e39067d22f004c6cf3453ae9b50.jpg: ignoring corrupt image/label: Label class 753 exceeds dataset class count 1. Possible class labels are 0-0\n",
            "\u001b[34m\u001b[1mval: \u001b[0mWARNING ⚠️ /content/Scence-Text-Detection-4/valid/images/20241023_201926_jpg.rf.f26ab62dac509fba06bed407fe41b013.jpg: ignoring corrupt image/label: Label class 1563 exceeds dataset class count 1. Possible class labels are 0-0\n",
            "\u001b[34m\u001b[1mval: \u001b[0mWARNING ⚠️ /content/Scence-Text-Detection-4/valid/images/20241023_203931_jpg.rf.fbf9a0ff67304ef226aad1a51ee1bf55.jpg: ignoring corrupt image/label: Label class 1977 exceeds dataset class count 1. Possible class labels are 0-0\n",
            "\u001b[34m\u001b[1mval: \u001b[0mWARNING ⚠️ /content/Scence-Text-Detection-4/valid/images/20241023_204023_jpg.rf.56d864e5c0d34017eef0cb1d33753575.jpg: ignoring corrupt image/label: Label class 1978 exceeds dataset class count 1. Possible class labels are 0-0\n",
            "\u001b[34m\u001b[1mval: \u001b[0mWARNING ⚠️ /content/Scence-Text-Detection-4/valid/images/20241023_204644_jpg.rf.4849f6fcdc76712cdac1025f9899613d.jpg: ignoring corrupt image/label: Label class 2066 exceeds dataset class count 1. Possible class labels are 0-0\n",
            "\u001b[34m\u001b[1mval: \u001b[0mWARNING ⚠️ /content/Scence-Text-Detection-4/valid/images/20241023_210108_jpg.rf.a738cbd8c1b384b40945de98fa4d94ba.jpg: ignoring corrupt image/label: Label class 2 exceeds dataset class count 1. Possible class labels are 0-0\n",
            "\u001b[34m\u001b[1mval: \u001b[0mWARNING ⚠️ /content/Scence-Text-Detection-4/valid/images/20241023_213958_jpg.rf.6aebbdd1e301d04aa7bb199e7877f874.jpg: ignoring corrupt image/label: Label class 497 exceeds dataset class count 1. Possible class labels are 0-0\n",
            "\u001b[34m\u001b[1mval: \u001b[0mWARNING ⚠️ /content/Scence-Text-Detection-4/valid/images/20241024_163229_jpg.rf.c7d3d829b9b405729153ee1169a7d032.jpg: ignoring corrupt image/label: Label class 1158 exceeds dataset class count 1. Possible class labels are 0-0\n",
            "\u001b[34m\u001b[1mval: \u001b[0mWARNING ⚠️ /content/Scence-Text-Detection-4/valid/images/20241024_164841_jpg.rf.15808e53ed2385fa502b55e7aacb88e7.jpg: ignoring corrupt image/label: Label class 1321 exceeds dataset class count 1. Possible class labels are 0-0\n",
            "\u001b[34m\u001b[1mval: \u001b[0mWARNING ⚠️ /content/Scence-Text-Detection-4/valid/images/20241024_164845_jpg.rf.333b892e7b52c8a6223787af5539b0ae.jpg: ignoring corrupt image/label: Label class 1335 exceeds dataset class count 1. Possible class labels are 0-0\n",
            "\u001b[34m\u001b[1mval: \u001b[0mWARNING ⚠️ /content/Scence-Text-Detection-4/valid/images/20241024_170539_jpg.rf.11c098100aac48ddcc2e40af2eab2e6f.jpg: ignoring corrupt image/label: Label class 3 exceeds dataset class count 1. Possible class labels are 0-0\n",
            "\u001b[34m\u001b[1mval: \u001b[0mWARNING ⚠️ /content/Scence-Text-Detection-4/valid/images/20241024_191039_jpg.rf.9070f3ab25b6c686f09ff74a03457245.jpg: ignoring corrupt image/label: Label class 2283 exceeds dataset class count 1. Possible class labels are 0-0\n",
            "\u001b[34m\u001b[1mval: \u001b[0mWARNING ⚠️ /content/Scence-Text-Detection-4/valid/images/20241024_191123_jpg.rf.683c25f79b332629eccb697d11734a8b.jpg: ignoring corrupt image/label: Label class 2283 exceeds dataset class count 1. Possible class labels are 0-0\n",
            "\u001b[34m\u001b[1mval: \u001b[0mWARNING ⚠️ /content/Scence-Text-Detection-4/valid/images/20241108_193152_jpg.rf.0e37f4f690c6ee029b26dc4d1de8bed9.jpg: ignoring corrupt image/label: Label class 2283 exceeds dataset class count 1. Possible class labels are 0-0\n",
            "\u001b[34m\u001b[1mval: \u001b[0mWARNING ⚠️ /content/Scence-Text-Detection-4/valid/images/20241108_193312_jpg.rf.0e3a648e20aecdc1a60927008601ea39.jpg: ignoring corrupt image/label: Label class 2283 exceeds dataset class count 1. Possible class labels are 0-0\n",
            "\u001b[34m\u001b[1mval: \u001b[0mWARNING ⚠️ /content/Scence-Text-Detection-4/valid/images/20241108_193751_jpg.rf.ca1a371646292e9c2bb99482244818e9.jpg: ignoring corrupt image/label: Label class 2283 exceeds dataset class count 1. Possible class labels are 0-0\n",
            "\u001b[34m\u001b[1mval: \u001b[0mWARNING ⚠️ /content/Scence-Text-Detection-4/valid/images/22_jpg.rf.cc1bdc11538d9660398d053ac5aaa08b.jpg: ignoring corrupt image/label: Label class 2 exceeds dataset class count 1. Possible class labels are 0-0\n",
            "\u001b[34m\u001b[1mval: \u001b[0mWARNING ⚠️ /content/Scence-Text-Detection-4/valid/images/77_jpg.rf.4e1d94bf14b618fb0fa87b944d38676c.jpg: ignoring corrupt image/label: Label class 3 exceeds dataset class count 1. Possible class labels are 0-0\n",
            "\u001b[34m\u001b[1mval: \u001b[0mWARNING ⚠️ /content/Scence-Text-Detection-4/valid/images/DB-f10img11_jpg.rf.c6c72cb27b546d2522f6ec32e65cdab3.jpg: ignoring corrupt image/label: Label class 375 exceeds dataset class count 1. Possible class labels are 0-0\n",
            "\u001b[34m\u001b[1mval: \u001b[0mWARNING ⚠️ /content/Scence-Text-Detection-4/valid/images/DB-f10img18_jpg.rf.bec86eb1e785328c2bfaf476156a54a5.jpg: ignoring corrupt image/label: Label class 2162 exceeds dataset class count 1. Possible class labels are 0-0\n",
            "\u001b[34m\u001b[1mval: \u001b[0mWARNING ⚠️ /content/Scence-Text-Detection-4/valid/images/DB-f10img19_jpg.rf.1f42a330c482c1dbbfdda24b1910eace.jpg: ignoring corrupt image/label: Label class 2067 exceeds dataset class count 1. Possible class labels are 0-0\n",
            "\u001b[34m\u001b[1mval: \u001b[0mWARNING ⚠️ /content/Scence-Text-Detection-4/valid/images/DB-f11img1_jpg.rf.a097e4a67d2b06e08248cb7848fb19ff.jpg: ignoring corrupt image/label: Label class 2188 exceeds dataset class count 1. Possible class labels are 0-0\n",
            "\u001b[34m\u001b[1mval: \u001b[0mWARNING ⚠️ /content/Scence-Text-Detection-4/valid/images/DB-f11img4_jpg.rf.ca0ec1cb062282db1c58ababf9b2942d.jpg: ignoring corrupt image/label: Label class 439 exceeds dataset class count 1. Possible class labels are 0-0\n",
            "\u001b[34m\u001b[1mval: \u001b[0mWARNING ⚠️ /content/Scence-Text-Detection-4/valid/images/DB-f11img9_jpg.rf.7088401fcf1a280d9827a8aa04243186.jpg: ignoring corrupt image/label: Label class 422 exceeds dataset class count 1. Possible class labels are 0-0\n",
            "\u001b[34m\u001b[1mval: \u001b[0mWARNING ⚠️ /content/Scence-Text-Detection-4/valid/images/DB-f12img14_jpg.rf.b71ef389e73bb703e5682526a2450018.jpg: ignoring corrupt image/label: Label class 403 exceeds dataset class count 1. Possible class labels are 0-0\n",
            "\u001b[34m\u001b[1mval: \u001b[0mWARNING ⚠️ /content/Scence-Text-Detection-4/valid/images/DB-f15img16_jpg.rf.21d109cb33ecd3f74da5458789e93219.jpg: ignoring corrupt image/label: Label class 282 exceeds dataset class count 1. Possible class labels are 0-0\n",
            "\u001b[34m\u001b[1mval: \u001b[0mWARNING ⚠️ /content/Scence-Text-Detection-4/valid/images/DB-f18img18_jpg.rf.d58d6160d5198df94e539b83d1344b1a.jpg: ignoring corrupt image/label: Label class 440 exceeds dataset class count 1. Possible class labels are 0-0\n",
            "\u001b[34m\u001b[1mval: \u001b[0mWARNING ⚠️ /content/Scence-Text-Detection-4/valid/images/DB-f19img14_jpg.rf.24e50bb532aece4953b8175362e39e7b.jpg: ignoring corrupt image/label: Label class 540 exceeds dataset class count 1. Possible class labels are 0-0\n",
            "\u001b[34m\u001b[1mval: \u001b[0mWARNING ⚠️ /content/Scence-Text-Detection-4/valid/images/DB-f19img15_jpg.rf.9a4404613aa16c9657678d241610236a.jpg: ignoring corrupt image/label: Label class 2052 exceeds dataset class count 1. Possible class labels are 0-0\n",
            "\u001b[34m\u001b[1mval: \u001b[0mWARNING ⚠️ /content/Scence-Text-Detection-4/valid/images/DB-f20img7_jpg.rf.086ef834819495ab4d1c6be8db05afeb.jpg: ignoring corrupt image/label: Label class 1983 exceeds dataset class count 1. Possible class labels are 0-0\n",
            "\u001b[34m\u001b[1mval: \u001b[0mWARNING ⚠️ /content/Scence-Text-Detection-4/valid/images/DB-f21img10_jpg.rf.99ffaecb7b5e6834f3663dc0c0ad401f.jpg: ignoring corrupt image/label: Label class 369 exceeds dataset class count 1. Possible class labels are 0-0\n",
            "\u001b[34m\u001b[1mval: \u001b[0mWARNING ⚠️ /content/Scence-Text-Detection-4/valid/images/DB-f21img14_jpg.rf.d4dc49d54c77b3432a59f2c257410dd4.jpg: ignoring corrupt image/label: Label class 439 exceeds dataset class count 1. Possible class labels are 0-0\n",
            "\u001b[34m\u001b[1mval: \u001b[0mWARNING ⚠️ /content/Scence-Text-Detection-4/valid/images/DB-f21img15_jpg.rf.84cd423febb9b4319c8b55e68871d536.jpg: ignoring corrupt image/label: Label class 309 exceeds dataset class count 1. Possible class labels are 0-0\n",
            "\u001b[34m\u001b[1mval: \u001b[0mWARNING ⚠️ /content/Scence-Text-Detection-4/valid/images/DB-f21img3_jpg.rf.338640e223fede8a8c99d0603e224fc0.jpg: ignoring corrupt image/label: Label class 1944 exceeds dataset class count 1. Possible class labels are 0-0\n",
            "\u001b[34m\u001b[1mval: \u001b[0mWARNING ⚠️ /content/Scence-Text-Detection-4/valid/images/DB-f21img7_jpg.rf.0e748b1d47787affd6e62a6693d89deb.jpg: ignoring corrupt image/label: Label class 385 exceeds dataset class count 1. Possible class labels are 0-0\n",
            "\u001b[34m\u001b[1mval: \u001b[0mWARNING ⚠️ /content/Scence-Text-Detection-4/valid/images/DB-f22img12_jpg.rf.d04042c254ea878778c335a1f425e761.jpg: ignoring corrupt image/label: Label class 1663 exceeds dataset class count 1. Possible class labels are 0-0\n",
            "\u001b[34m\u001b[1mval: \u001b[0mWARNING ⚠️ /content/Scence-Text-Detection-4/valid/images/DB-f24img4_jpg.rf.bc2b521991263af66346b348fd70d73f.jpg: ignoring corrupt image/label: Label class 439 exceeds dataset class count 1. Possible class labels are 0-0\n",
            "\u001b[34m\u001b[1mval: \u001b[0mWARNING ⚠️ /content/Scence-Text-Detection-4/valid/images/DB-f2img14_jpg.rf.9948ea618755e631d81a69400cf3dc54.jpg: ignoring corrupt image/label: Label class 2038 exceeds dataset class count 1. Possible class labels are 0-0\n",
            "\u001b[34m\u001b[1mval: \u001b[0mWARNING ⚠️ /content/Scence-Text-Detection-4/valid/images/DB-f2img1_jpg.rf.45c4a170ccbea31d74dd9c1b388c22c6.jpg: ignoring corrupt image/label: Label class 1976 exceeds dataset class count 1. Possible class labels are 0-0\n",
            "\u001b[34m\u001b[1mval: \u001b[0mWARNING ⚠️ /content/Scence-Text-Detection-4/valid/images/DB-f6img7_jpg.rf.9fd5436ce0282103c390cf9ab79e9b6b.jpg: ignoring corrupt image/label: Label class 482 exceeds dataset class count 1. Possible class labels are 0-0\n",
            "\u001b[34m\u001b[1mval: \u001b[0mWARNING ⚠️ /content/Scence-Text-Detection-4/valid/images/DB-f6img9_jpg.rf.847c887ce77923d56e433f06d767498a.jpg: ignoring corrupt image/label: Label class 482 exceeds dataset class count 1. Possible class labels are 0-0\n",
            "\u001b[34m\u001b[1mval: \u001b[0mWARNING ⚠️ /content/Scence-Text-Detection-4/valid/images/DB-f7img2_jpg.rf.851a2610a903155bcbdd0d7b231ae4d2.jpg: ignoring corrupt image/label: Label class 349 exceeds dataset class count 1. Possible class labels are 0-0\n",
            "\u001b[34m\u001b[1mval: \u001b[0mWARNING ⚠️ /content/Scence-Text-Detection-4/valid/images/Gen8Group4Noch300_jpg.rf.058d398f63d4438c78cbf549a864fd97.jpg: ignoring corrupt image/label: Label class 3 exceeds dataset class count 1. Possible class labels are 0-0\n",
            "\u001b[34m\u001b[1mval: \u001b[0mWARNING ⚠️ /content/Scence-Text-Detection-4/valid/images/Gen8Group4Noch306_jpg.rf.fc9eae9bdcde2b4d0b20fee41141a63d.jpg: ignoring corrupt image/label: Label class 25 exceeds dataset class count 1. Possible class labels are 0-0\n",
            "\u001b[34m\u001b[1mval: \u001b[0mWARNING ⚠️ /content/Scence-Text-Detection-4/valid/images/IMG_0636_JPG.rf.d146f09bc0773f9459ce6b71eafd9075.jpg: ignoring corrupt image/label: Label class 2056 exceeds dataset class count 1. Possible class labels are 0-0\n",
            "\u001b[34m\u001b[1mval: \u001b[0mWARNING ⚠️ /content/Scence-Text-Detection-4/valid/images/IMG_0831_JPG.rf.52282a9f977cd77b3b421791575c32ea.jpg: ignoring corrupt image/label: Label class 3 exceeds dataset class count 1. Possible class labels are 0-0\n",
            "\u001b[34m\u001b[1mval: \u001b[0mWARNING ⚠️ /content/Scence-Text-Detection-4/valid/images/IMG_0850_JPG.rf.41da7beebbcdceef0eea9be4be4a9987.jpg: ignoring corrupt image/label: Label class 316 exceeds dataset class count 1. Possible class labels are 0-0\n",
            "\u001b[34m\u001b[1mval: \u001b[0mWARNING ⚠️ /content/Scence-Text-Detection-4/valid/images/IMG_0909_JPG.rf.019bb27605d7b67309a20f4cb47bb5ee.jpg: ignoring corrupt image/label: Label class 431 exceeds dataset class count 1. Possible class labels are 0-0\n",
            "\u001b[34m\u001b[1mval: \u001b[0mWARNING ⚠️ /content/Scence-Text-Detection-4/valid/images/IMG_0967_JPG.rf.4a0cf069ba79bf35e4989513fbf7fc1f.jpg: ignoring corrupt image/label: Label class 1617 exceeds dataset class count 1. Possible class labels are 0-0\n",
            "\u001b[34m\u001b[1mval: \u001b[0mWARNING ⚠️ /content/Scence-Text-Detection-4/valid/images/IMG_1038_JPG.rf.852039fe052a90b14384585f2fd6bdf7.jpg: ignoring corrupt image/label: Label class 351 exceeds dataset class count 1. Possible class labels are 0-0\n",
            "\u001b[34m\u001b[1mval: \u001b[0mWARNING ⚠️ /content/Scence-Text-Detection-4/valid/images/IMG_1096_JPG.rf.c8201e64c6ef4274f0e1904a7c716937.jpg: ignoring corrupt image/label: Label class 2282 exceeds dataset class count 1. Possible class labels are 0-0\n",
            "\u001b[34m\u001b[1mval: \u001b[0mWARNING ⚠️ /content/Scence-Text-Detection-4/valid/images/IMG_1102_JPG.rf.4c502a9e154f7a2fc94e578979b7cc94.jpg: ignoring corrupt image/label: Label class 2 exceeds dataset class count 1. Possible class labels are 0-0\n",
            "\u001b[34m\u001b[1mval: \u001b[0mWARNING ⚠️ /content/Scence-Text-Detection-4/valid/images/IMG_1112_JPG.rf.6858dcb248024d31e5d413c59d79ad1d.jpg: ignoring corrupt image/label: Label class 389 exceeds dataset class count 1. Possible class labels are 0-0\n",
            "\u001b[34m\u001b[1mval: \u001b[0mWARNING ⚠️ /content/Scence-Text-Detection-4/valid/images/IMG_1505_JPG.rf.066e3fed505f9610450b7511c7ecad7d.jpg: ignoring corrupt image/label: Label class 3 exceeds dataset class count 1. Possible class labels are 0-0\n",
            "\u001b[34m\u001b[1mval: \u001b[0mWARNING ⚠️ /content/Scence-Text-Detection-4/valid/images/IMG_2397_JPG.rf.3579643d2a75cf0619f38a843bcd7f0d.jpg: ignoring corrupt image/label: Label class 2228 exceeds dataset class count 1. Possible class labels are 0-0\n",
            "\u001b[34m\u001b[1mval: \u001b[0mWARNING ⚠️ /content/Scence-Text-Detection-4/valid/images/IMG_5388_JPG.rf.797c4f2846d521ea75a8996a8dcccc20.jpg: ignoring corrupt image/label: Label class 3 exceeds dataset class count 1. Possible class labels are 0-0\n",
            "\u001b[34m\u001b[1mval: \u001b[0mWARNING ⚠️ /content/Scence-Text-Detection-4/valid/images/IMG_5447_JPG.rf.55ff295ad47bb984862957701372d308.jpg: ignoring corrupt image/label: Label class 3 exceeds dataset class count 1. Possible class labels are 0-0\n",
            "\u001b[34m\u001b[1mval: \u001b[0mWARNING ⚠️ /content/Scence-Text-Detection-4/valid/images/IMG_5490_JPG.rf.1e1a5e69c9ee2025ce64b72d50645fac.jpg: ignoring corrupt image/label: Label class 2282 exceeds dataset class count 1. Possible class labels are 0-0\n",
            "\u001b[34m\u001b[1mval: \u001b[0mWARNING ⚠️ /content/Scence-Text-Detection-4/valid/images/IMG_5520_JPG.rf.3e36b915786a5dc57aa6e440c8441ff0.jpg: ignoring corrupt image/label: Label class 2 exceeds dataset class count 1. Possible class labels are 0-0\n",
            "\u001b[34m\u001b[1mval: \u001b[0mWARNING ⚠️ /content/Scence-Text-Detection-4/valid/images/IMG_5524_JPG.rf.a89d43cc57dc436e540a1389dbd7412a.jpg: ignoring corrupt image/label: Label class 2282 exceeds dataset class count 1. Possible class labels are 0-0\n",
            "\u001b[34m\u001b[1mval: \u001b[0mWARNING ⚠️ /content/Scence-Text-Detection-4/valid/images/IMG_5532_JPG.rf.2e9d3f440e65384c971eb5135522d065.jpg: ignoring corrupt image/label: Label class 1829 exceeds dataset class count 1. Possible class labels are 0-0\n",
            "\u001b[34m\u001b[1mval: \u001b[0mWARNING ⚠️ /content/Scence-Text-Detection-4/valid/images/IMG_5577_JPG.rf.fbfaa8b1cb6a8d9107d45c402cf7fe57.jpg: ignoring corrupt image/label: Label class 2 exceeds dataset class count 1. Possible class labels are 0-0\n",
            "\u001b[34m\u001b[1mval: \u001b[0mWARNING ⚠️ /content/Scence-Text-Detection-4/valid/images/IMG_5579_JPG.rf.32e5f15e5bb5abccd6792e42270e9fc3.jpg: ignoring corrupt image/label: Label class 2068 exceeds dataset class count 1. Possible class labels are 0-0\n",
            "\u001b[34m\u001b[1mval: \u001b[0mWARNING ⚠️ /content/Scence-Text-Detection-4/valid/images/IMG_5593_JPG.rf.577d76d39ab3e9269f6fa1509b0f28cd.jpg: ignoring corrupt image/label: Label class 1395 exceeds dataset class count 1. Possible class labels are 0-0\n",
            "\u001b[34m\u001b[1mval: \u001b[0mWARNING ⚠️ /content/Scence-Text-Detection-4/valid/images/IMG_5605_JPG.rf.d32949242e595fb936a49a46146e9743.jpg: ignoring corrupt image/label: Label class 1923 exceeds dataset class count 1. Possible class labels are 0-0\n",
            "\u001b[34m\u001b[1mval: \u001b[0mWARNING ⚠️ /content/Scence-Text-Detection-4/valid/images/IMG_5630_JPG.rf.be3ec6e537349cc8774a75e41ae912fe.jpg: ignoring corrupt image/label: Label class 2246 exceeds dataset class count 1. Possible class labels are 0-0\n",
            "\u001b[34m\u001b[1mval: \u001b[0mWARNING ⚠️ /content/Scence-Text-Detection-4/valid/images/IMG_5634_JPG.rf.a2d58df02ef630135fecf064738310a3.jpg: ignoring corrupt image/label: Label class 2230 exceeds dataset class count 1. Possible class labels are 0-0\n",
            "\u001b[34m\u001b[1mval: \u001b[0mWARNING ⚠️ /content/Scence-Text-Detection-4/valid/images/IMG_5664_JPG.rf.cf113e66efb471e1df52f59312520def.jpg: ignoring corrupt image/label: Label class 2045 exceeds dataset class count 1. Possible class labels are 0-0\n",
            "\u001b[34m\u001b[1mval: \u001b[0mWARNING ⚠️ /content/Scence-Text-Detection-4/valid/images/IMG_5773_JPG.rf.4cfa22b280949581ac712463edafd5ce.jpg: ignoring corrupt image/label: Label class 2227 exceeds dataset class count 1. Possible class labels are 0-0\n",
            "\u001b[34m\u001b[1mval: \u001b[0mWARNING ⚠️ /content/Scence-Text-Detection-4/valid/images/IMG_5798_JPG.rf.4c0e76157142a1df446cdf67583d850f.jpg: ignoring corrupt image/label: Label class 1930 exceeds dataset class count 1. Possible class labels are 0-0\n",
            "\u001b[34m\u001b[1mval: \u001b[0mWARNING ⚠️ /content/Scence-Text-Detection-4/valid/images/IMG_5806_JPG.rf.daa5998d3a84ae2e9574cdf6b49e8b54.jpg: ignoring corrupt image/label: Label class 1810 exceeds dataset class count 1. Possible class labels are 0-0\n",
            "\u001b[34m\u001b[1mval: \u001b[0mWARNING ⚠️ /content/Scence-Text-Detection-4/valid/images/IMG_5810_JPG.rf.613120efec7e00afbcfc07a4be500e54.jpg: ignoring corrupt image/label: Label class 2 exceeds dataset class count 1. Possible class labels are 0-0\n",
            "\u001b[34m\u001b[1mval: \u001b[0mWARNING ⚠️ /content/Scence-Text-Detection-4/valid/images/IMG_5813_JPG.rf.12e59c6f75333271a5aa68218539ec3f.jpg: ignoring corrupt image/label: Label class 1904 exceeds dataset class count 1. Possible class labels are 0-0\n",
            "\u001b[34m\u001b[1mval: \u001b[0mWARNING ⚠️ /content/Scence-Text-Detection-4/valid/images/LT-f14img1_jpg.rf.03adbb050d8372dffb99341e703b8cc2.jpg: ignoring corrupt image/label: Label class 2 exceeds dataset class count 1. Possible class labels are 0-0\n",
            "\u001b[34m\u001b[1mval: \u001b[0mWARNING ⚠️ /content/Scence-Text-Detection-4/valid/images/LT-f14img20_jpg.rf.5d77a6799c6ce6a24b8591f2e56dd022.jpg: ignoring corrupt image/label: Label class 1562 exceeds dataset class count 1. Possible class labels are 0-0\n",
            "\u001b[34m\u001b[1mval: \u001b[0mWARNING ⚠️ /content/Scence-Text-Detection-4/valid/images/LT-f16img9_jpg.rf.3a5ecda83deedb38d5284c5103d6e7b7.jpg: ignoring corrupt image/label: Label class 1213 exceeds dataset class count 1. Possible class labels are 0-0\n",
            "\u001b[34m\u001b[1mval: \u001b[0mWARNING ⚠️ /content/Scence-Text-Detection-4/valid/images/LT-f17img8_jpg.rf.ab5b43015e850acebed025d2730e59cd.jpg: ignoring corrupt image/label: Label class 2162 exceeds dataset class count 1. Possible class labels are 0-0\n",
            "\u001b[34m\u001b[1mval: \u001b[0mWARNING ⚠️ /content/Scence-Text-Detection-4/valid/images/LT-f19img15_jpg.rf.003cbff1a21201017f2709b14a61a688.jpg: ignoring corrupt image/label: Label class 1225 exceeds dataset class count 1. Possible class labels are 0-0\n",
            "\u001b[34m\u001b[1mval: \u001b[0mWARNING ⚠️ /content/Scence-Text-Detection-4/valid/images/LT-f19img18_jpg.rf.eb7934a503b470ba99fb9057c8af2c48.jpg: ignoring corrupt image/label: Label class 2045 exceeds dataset class count 1. Possible class labels are 0-0\n",
            "\u001b[34m\u001b[1mval: \u001b[0mWARNING ⚠️ /content/Scence-Text-Detection-4/valid/images/LT-f19img8_jpg.rf.1f2a223c1c8c09b44ef9e6d9e40486be.jpg: ignoring corrupt image/label: Label class 1124 exceeds dataset class count 1. Possible class labels are 0-0\n",
            "\u001b[34m\u001b[1mval: \u001b[0mWARNING ⚠️ /content/Scence-Text-Detection-4/valid/images/LT-f20img5_jpg.rf.fd8642551f5b145b3815a5ad0ccc61ee.jpg: ignoring corrupt image/label: Label class 1165 exceeds dataset class count 1. Possible class labels are 0-0\n",
            "\u001b[34m\u001b[1mval: \u001b[0mWARNING ⚠️ /content/Scence-Text-Detection-4/valid/images/LT-f21img13_jpg.rf.37a990bf1c3ac3e6eb70b6eee2e9b3ec.jpg: ignoring corrupt image/label: Label class 798 exceeds dataset class count 1. Possible class labels are 0-0\n",
            "\u001b[34m\u001b[1mval: \u001b[0mWARNING ⚠️ /content/Scence-Text-Detection-4/valid/images/LT-f22img2_jpg.rf.db5279c255acc9171f1b9630f6a3359d.jpg: ignoring corrupt image/label: Label class 1363 exceeds dataset class count 1. Possible class labels are 0-0\n",
            "\u001b[34m\u001b[1mval: \u001b[0mWARNING ⚠️ /content/Scence-Text-Detection-4/valid/images/LT-f23img10_jpg.rf.eb702d6277844fd9730783dd4ee4b41c.jpg: ignoring corrupt image/label: Label class 998 exceeds dataset class count 1. Possible class labels are 0-0\n",
            "\u001b[34m\u001b[1mval: \u001b[0mWARNING ⚠️ /content/Scence-Text-Detection-4/valid/images/LT-f23img12_jpg.rf.b85f7e6f2d28d3c838638607dd096615.jpg: ignoring corrupt image/label: Label class 2102 exceeds dataset class count 1. Possible class labels are 0-0\n",
            "\u001b[34m\u001b[1mval: \u001b[0mWARNING ⚠️ /content/Scence-Text-Detection-4/valid/images/LT-f24img11_jpg.rf.2993543b314b7d6b413c0191a0959440.jpg: ignoring corrupt image/label: Label class 783 exceeds dataset class count 1. Possible class labels are 0-0\n",
            "\u001b[34m\u001b[1mval: \u001b[0mWARNING ⚠️ /content/Scence-Text-Detection-4/valid/images/LT-f25img14_jpg.rf.ebab7dddc4378327007aa2abdaf1f5a8.jpg: ignoring corrupt image/label: Label class 578 exceeds dataset class count 1. Possible class labels are 0-0\n",
            "\u001b[34m\u001b[1mval: \u001b[0mWARNING ⚠️ /content/Scence-Text-Detection-4/valid/images/Messenger_creation_3D43F5E3-B6F9-4C23-A970-B94A4D59EC88_jpeg.rf.7892ee24d438ab3b95ab1b7e462eb1e5.jpg: ignoring corrupt image/label: Label class 2283 exceeds dataset class count 1. Possible class labels are 0-0\n",
            "\u001b[34m\u001b[1mval: \u001b[0mWARNING ⚠️ /content/Scence-Text-Detection-4/valid/images/Messenger_creation_98A38116-D20D-4FE4-B8B4-BBF45BDC4D00_jpeg.rf.078e10bf1b25c21ac6da14b12934d91a.jpg: ignoring corrupt image/label: Label class 2283 exceeds dataset class count 1. Possible class labels are 0-0\n",
            "\u001b[34m\u001b[1mval: \u001b[0mWARNING ⚠️ /content/Scence-Text-Detection-4/valid/images/TP-f1-img17_jpg.rf.3c3c2a99300b33f84d69a687d0b0c3d9.jpg: ignoring corrupt image/label: Label class 1683 exceeds dataset class count 1. Possible class labels are 0-0\n",
            "\u001b[34m\u001b[1mval: \u001b[0mWARNING ⚠️ /content/Scence-Text-Detection-4/valid/images/TP-f10-img3_jpeg.rf.16985f4663a4a7d86ee3f44e4eb1883a.jpg: ignoring corrupt image/label: Label class 1361 exceeds dataset class count 1. Possible class labels are 0-0\n",
            "\u001b[34m\u001b[1mval: \u001b[0mWARNING ⚠️ /content/Scence-Text-Detection-4/valid/images/TP-f10-img4_jpeg.rf.baab0e1400130f3a36f8b314100b193b.jpg: ignoring corrupt image/label: Label class 2269 exceeds dataset class count 1. Possible class labels are 0-0\n",
            "\u001b[34m\u001b[1mval: \u001b[0mWARNING ⚠️ /content/Scence-Text-Detection-4/valid/images/TP-f10-img9_jpeg.rf.9eefc7de553c98f9464749bbdc13c3c7.jpg: ignoring corrupt image/label: Label class 1884 exceeds dataset class count 1. Possible class labels are 0-0\n",
            "\u001b[34m\u001b[1mval: \u001b[0mWARNING ⚠️ /content/Scence-Text-Detection-4/valid/images/TP-f11-img7_jpg.rf.f7a5421489517702cc0521c8c26fee0d.jpg: ignoring corrupt image/label: Label class 1829 exceeds dataset class count 1. Possible class labels are 0-0\n",
            "\u001b[34m\u001b[1mval: \u001b[0mWARNING ⚠️ /content/Scence-Text-Detection-4/valid/images/TP-f13-img11_jpg.rf.4c5a1d82628cacce1b5643560a124f90.jpg: ignoring corrupt image/label: Label class 1999 exceeds dataset class count 1. Possible class labels are 0-0\n",
            "\u001b[34m\u001b[1mval: \u001b[0mWARNING ⚠️ /content/Scence-Text-Detection-4/valid/images/TP-f17-img7_jpg.rf.9437d5fcd5ea102b6a0efa534c05b55a.jpg: ignoring corrupt image/label: Label class 2 exceeds dataset class count 1. Possible class labels are 0-0\n",
            "\u001b[34m\u001b[1mval: \u001b[0mWARNING ⚠️ /content/Scence-Text-Detection-4/valid/images/TP-f22-img9_jpg.rf.245807f2b8639dddc53a6b96d4d94e9c.jpg: ignoring corrupt image/label: Label class 1660 exceeds dataset class count 1. Possible class labels are 0-0\n",
            "\u001b[34m\u001b[1mval: \u001b[0mWARNING ⚠️ /content/Scence-Text-Detection-4/valid/images/TP-f4-img16_jpg.rf.fdc3a73a87220232470e1fe4f7e5a79a.jpg: ignoring corrupt image/label: Label class 384 exceeds dataset class count 1. Possible class labels are 0-0\n",
            "\u001b[34m\u001b[1mval: \u001b[0mWARNING ⚠️ /content/Scence-Text-Detection-4/valid/images/a10_jpg.rf.8983cdbe8ddc7f6621ffed836746c609.jpg: ignoring corrupt image/label: Label class 2119 exceeds dataset class count 1. Possible class labels are 0-0\n",
            "\u001b[34m\u001b[1mval: \u001b[0mWARNING ⚠️ /content/Scence-Text-Detection-4/valid/images/dv_10_jpg.rf.7c1df50c8b35a2ea311af516af6c52aa.jpg: ignoring corrupt image/label: Label class 1423 exceeds dataset class count 1. Possible class labels are 0-0\n",
            "\u001b[34m\u001b[1mval: \u001b[0mWARNING ⚠️ /content/Scence-Text-Detection-4/valid/images/dv_11_jpg.rf.b2520c63f5dbbb0463ecf922b37ec981.jpg: ignoring corrupt image/label: Label class 170 exceeds dataset class count 1. Possible class labels are 0-0\n",
            "\u001b[34m\u001b[1mval: \u001b[0mWARNING ⚠️ /content/Scence-Text-Detection-4/valid/images/dv_13_jpg.rf.561a4473d3a5fc7a02b3083f68a30ff9.jpg: ignoring corrupt image/label: Label class 253 exceeds dataset class count 1. Possible class labels are 0-0\n",
            "\u001b[34m\u001b[1mval: \u001b[0mWARNING ⚠️ /content/Scence-Text-Detection-4/valid/images/dv_14_jpg.rf.fa588f997f7ac3656a8b01675579fb4a.jpg: ignoring corrupt image/label: Label class 549 exceeds dataset class count 1. Possible class labels are 0-0\n",
            "\u001b[34m\u001b[1mval: \u001b[0mWARNING ⚠️ /content/Scence-Text-Detection-4/valid/images/dv_15_jpg.rf.ec0c33d8c80e15b22814e39b803db2af.jpg: ignoring corrupt image/label: Label class 1815 exceeds dataset class count 1. Possible class labels are 0-0\n",
            "\u001b[34m\u001b[1mval: \u001b[0mWARNING ⚠️ /content/Scence-Text-Detection-4/valid/images/dv_17_jpg.rf.aaeeb57ab893f54dda7afc8e5ebeda45.jpg: ignoring corrupt image/label: Label class 1697 exceeds dataset class count 1. Possible class labels are 0-0\n",
            "\u001b[34m\u001b[1mval: \u001b[0mWARNING ⚠️ /content/Scence-Text-Detection-4/valid/images/dv_19_jpg.rf.f440680df0cc1cc546f8c09f43944939.jpg: ignoring corrupt image/label: Label class 1423 exceeds dataset class count 1. Possible class labels are 0-0\n",
            "\u001b[34m\u001b[1mval: \u001b[0mWARNING ⚠️ /content/Scence-Text-Detection-4/valid/images/dv_26_jpg.rf.3893420bec88206c97cfac26cfd7305a.jpg: ignoring corrupt image/label: Label class 2265 exceeds dataset class count 1. Possible class labels are 0-0\n",
            "\u001b[34m\u001b[1mval: \u001b[0mWARNING ⚠️ /content/Scence-Text-Detection-4/valid/images/dv_29_jpg.rf.d43672263fc9628a046dc2963aa1f1c8.jpg: ignoring corrupt image/label: Label class 1694 exceeds dataset class count 1. Possible class labels are 0-0\n",
            "\u001b[34m\u001b[1mval: \u001b[0mWARNING ⚠️ /content/Scence-Text-Detection-4/valid/images/dv_32_jpg.rf.d1fbaf3901dc42625872af680b652555.jpg: ignoring corrupt image/label: Label class 1934 exceeds dataset class count 1. Possible class labels are 0-0\n",
            "\u001b[34m\u001b[1mval: \u001b[0mWARNING ⚠️ /content/Scence-Text-Detection-4/valid/images/dv_34_jpg.rf.b0b377b052e6f24f4b2521e5c8e79c03.jpg: ignoring corrupt image/label: Label class 2 exceeds dataset class count 1. Possible class labels are 0-0\n",
            "\u001b[34m\u001b[1mval: \u001b[0mWARNING ⚠️ /content/Scence-Text-Detection-4/valid/images/dv_35_jpg.rf.02ff5b7e73e1aea33e6a16b606fa2ff4.jpg: ignoring corrupt image/label: Label class 2 exceeds dataset class count 1. Possible class labels are 0-0\n",
            "\u001b[34m\u001b[1mval: \u001b[0mWARNING ⚠️ /content/Scence-Text-Detection-4/valid/images/dv_37_jpg.rf.bb2398b56dfb81f2ecf8565c27a79473.jpg: ignoring corrupt image/label: Label class 1523 exceeds dataset class count 1. Possible class labels are 0-0\n",
            "\u001b[34m\u001b[1mval: \u001b[0mWARNING ⚠️ /content/Scence-Text-Detection-4/valid/images/dv_38_jpg.rf.34ba9a4aabf67089fe59e4fa60c021d4.jpg: ignoring corrupt image/label: Label class 3 exceeds dataset class count 1. Possible class labels are 0-0\n",
            "\u001b[34m\u001b[1mval: \u001b[0mWARNING ⚠️ /content/Scence-Text-Detection-4/valid/images/dv_39_jpg.rf.bbca62e998de262c95c24f0154aa295c.jpg: ignoring corrupt image/label: Label class 233 exceeds dataset class count 1. Possible class labels are 0-0\n",
            "\u001b[34m\u001b[1mval: \u001b[0mWARNING ⚠️ /content/Scence-Text-Detection-4/valid/images/dv_3_jpg.rf.a1818536e75f20fa59dc605bd2baae9b.jpg: ignoring corrupt image/label: Label class 1530 exceeds dataset class count 1. Possible class labels are 0-0\n",
            "\u001b[34m\u001b[1mval: \u001b[0mWARNING ⚠️ /content/Scence-Text-Detection-4/valid/images/dv_42_jpg.rf.443c0253ca472dbf663a7d98ba1c77bb.jpg: ignoring corrupt image/label: Label class 2128 exceeds dataset class count 1. Possible class labels are 0-0\n",
            "\u001b[34m\u001b[1mval: \u001b[0mWARNING ⚠️ /content/Scence-Text-Detection-4/valid/images/dv_43_jpg.rf.1a7566719b4febf52338938b115050b5.jpg: ignoring corrupt image/label: Label class 1121 exceeds dataset class count 1. Possible class labels are 0-0\n",
            "\u001b[34m\u001b[1mval: \u001b[0mWARNING ⚠️ /content/Scence-Text-Detection-4/valid/images/dv_44_jpg.rf.8b795082e4b4ec1ca86bb10fff170940.jpg: ignoring corrupt image/label: Label class 561 exceeds dataset class count 1. Possible class labels are 0-0\n",
            "\u001b[34m\u001b[1mval: \u001b[0mWARNING ⚠️ /content/Scence-Text-Detection-4/valid/images/dv_45_jpg.rf.f71269646c297ad217a4b598cbeef4bc.jpg: ignoring corrupt image/label: Label class 2032 exceeds dataset class count 1. Possible class labels are 0-0\n",
            "\u001b[34m\u001b[1mval: \u001b[0mWARNING ⚠️ /content/Scence-Text-Detection-4/valid/images/dv_46_jpg.rf.fdbf404ccc09feff441ef951059ff742.jpg: ignoring corrupt image/label: Label class 2081 exceeds dataset class count 1. Possible class labels are 0-0\n",
            "\u001b[34m\u001b[1mval: \u001b[0mWARNING ⚠️ /content/Scence-Text-Detection-4/valid/images/dv_48_jpg.rf.57555a15621b071fcfedcd2b9645543a.jpg: ignoring corrupt image/label: Label class 1073 exceeds dataset class count 1. Possible class labels are 0-0\n",
            "\u001b[34m\u001b[1mval: \u001b[0mWARNING ⚠️ /content/Scence-Text-Detection-4/valid/images/dv_50_jpg.rf.0fc5d1d06a1a0346e6e9d3cd819a632e.jpg: ignoring corrupt image/label: Label class 940 exceeds dataset class count 1. Possible class labels are 0-0\n",
            "\u001b[34m\u001b[1mval: \u001b[0mWARNING ⚠️ /content/Scence-Text-Detection-4/valid/images/dv_54_jpg.rf.8c93a292a7dae166d141c17eb3234fbd.jpg: ignoring corrupt image/label: Label class 1595 exceeds dataset class count 1. Possible class labels are 0-0\n",
            "\u001b[34m\u001b[1mval: \u001b[0mWARNING ⚠️ /content/Scence-Text-Detection-4/valid/images/dv_55_jpg.rf.9d0f3cd9189c1f05e510f8783c9ba319.jpg: ignoring corrupt image/label: Label class 1551 exceeds dataset class count 1. Possible class labels are 0-0\n",
            "\u001b[34m\u001b[1mval: \u001b[0mWARNING ⚠️ /content/Scence-Text-Detection-4/valid/images/dv_57_jpg.rf.ffb458bd4aa56a6376c7125e52bbb1aa.jpg: ignoring corrupt image/label: Label class 825 exceeds dataset class count 1. Possible class labels are 0-0\n",
            "\u001b[34m\u001b[1mval: \u001b[0mWARNING ⚠️ /content/Scence-Text-Detection-4/valid/images/dv_59_jpg.rf.563307f219be720100df8eea4f51ff1b.jpg: ignoring corrupt image/label: Label class 2102 exceeds dataset class count 1. Possible class labels are 0-0\n",
            "\u001b[34m\u001b[1mval: \u001b[0mWARNING ⚠️ /content/Scence-Text-Detection-4/valid/images/dv_5_jpg.rf.9a56eb02ddef7cfe88ff17498b4121ed.jpg: ignoring corrupt image/label: Label class 1423 exceeds dataset class count 1. Possible class labels are 0-0\n",
            "\u001b[34m\u001b[1mval: \u001b[0mWARNING ⚠️ /content/Scence-Text-Detection-4/valid/images/dv_60_jpg.rf.0b839b1d7ff97c7dba925ead10ad2ca7.jpg: ignoring corrupt image/label: Label class 1269 exceeds dataset class count 1. Possible class labels are 0-0\n",
            "\u001b[34m\u001b[1mval: \u001b[0mWARNING ⚠️ /content/Scence-Text-Detection-4/valid/images/dv_61_jpg.rf.7cdbd8ba9bb3b092d5dc2728cab870ce.jpg: ignoring corrupt image/label: Label class 1449 exceeds dataset class count 1. Possible class labels are 0-0\n",
            "\u001b[34m\u001b[1mval: \u001b[0mWARNING ⚠️ /content/Scence-Text-Detection-4/valid/images/dv_63_jpg.rf.1085856d678208596bd2fb85ea6da3f5.jpg: ignoring corrupt image/label: Label class 573 exceeds dataset class count 1. Possible class labels are 0-0\n",
            "\u001b[34m\u001b[1mval: \u001b[0mWARNING ⚠️ /content/Scence-Text-Detection-4/valid/images/dv_65_jpg.rf.6adda7dc5f1978d64fe3f109f8069c85.jpg: ignoring corrupt image/label: Label class 4 exceeds dataset class count 1. Possible class labels are 0-0\n",
            "\u001b[34m\u001b[1mval: \u001b[0mWARNING ⚠️ /content/Scence-Text-Detection-4/valid/images/dv_70_jpg.rf.893025c4aea29237a082e9d06694cbc3.jpg: ignoring corrupt image/label: Label class 1851 exceeds dataset class count 1. Possible class labels are 0-0\n",
            "\u001b[34m\u001b[1mval: \u001b[0mWARNING ⚠️ /content/Scence-Text-Detection-4/valid/images/dv_73_jpg.rf.593af0fa2a610a148079e7c2c2e62a62.jpg: ignoring corrupt image/label: Label class 1077 exceeds dataset class count 1. Possible class labels are 0-0\n",
            "\u001b[34m\u001b[1mval: \u001b[0mWARNING ⚠️ /content/Scence-Text-Detection-4/valid/images/dv_74_jpg.rf.13ec4b881671561810ed5ff5e028688f.jpg: ignoring corrupt image/label: Label class 2282 exceeds dataset class count 1. Possible class labels are 0-0\n",
            "\u001b[34m\u001b[1mval: \u001b[0mWARNING ⚠️ /content/Scence-Text-Detection-4/valid/images/dv_76_jpg.rf.2130368bd81c81aff8b2d3c0753abe3a.jpg: ignoring corrupt image/label: Label class 2270 exceeds dataset class count 1. Possible class labels are 0-0\n",
            "\u001b[34m\u001b[1mval: \u001b[0mWARNING ⚠️ /content/Scence-Text-Detection-4/valid/images/dv_84_jpg.rf.cb0f499361715331999adc958d7bf1a4.jpg: ignoring corrupt image/label: Label class 2 exceeds dataset class count 1. Possible class labels are 0-0\n",
            "\u001b[34m\u001b[1mval: \u001b[0mWARNING ⚠️ /content/Scence-Text-Detection-4/valid/images/dv_86_jpg.rf.c8a3c9a10ddb490fc75684424d2bca31.jpg: ignoring corrupt image/label: Label class 2 exceeds dataset class count 1. Possible class labels are 0-0\n",
            "\u001b[34m\u001b[1mval: \u001b[0mWARNING ⚠️ /content/Scence-Text-Detection-4/valid/images/dv_88_jpg.rf.7f8e8dbfa9d4ecc06a02e581de11dbde.jpg: ignoring corrupt image/label: Label class 99 exceeds dataset class count 1. Possible class labels are 0-0\n",
            "\u001b[34m\u001b[1mval: \u001b[0mWARNING ⚠️ /content/Scence-Text-Detection-4/valid/images/dv_8_jpg.rf.a6f4b2bba439074adada7ef5dc49f058.jpg: ignoring corrupt image/label: Label class 1694 exceeds dataset class count 1. Possible class labels are 0-0\n",
            "\u001b[34m\u001b[1mval: \u001b[0mWARNING ⚠️ /content/Scence-Text-Detection-4/valid/images/dv_90_jpg.rf.dabed44efbab9f5fead83392519b38c5.jpg: ignoring corrupt image/label: Label class 2 exceeds dataset class count 1. Possible class labels are 0-0\n",
            "\u001b[34m\u001b[1mval: \u001b[0mWARNING ⚠️ /content/Scence-Text-Detection-4/valid/images/dv_91_jpg.rf.7682df643c5b2e94c22e7ceedb40bc31.jpg: ignoring corrupt image/label: Label class 2 exceeds dataset class count 1. Possible class labels are 0-0\n",
            "\u001b[34m\u001b[1mval: \u001b[0mWARNING ⚠️ /content/Scence-Text-Detection-4/valid/images/dv_92_jpg.rf.ebf5c71d35be7897323cda8b915b354c.jpg: ignoring corrupt image/label: Label class 2 exceeds dataset class count 1. Possible class labels are 0-0\n",
            "\u001b[34m\u001b[1mval: \u001b[0mWARNING ⚠️ /content/Scence-Text-Detection-4/valid/images/dv_93_jpg.rf.7c59ad9b7be8ada67fe43c8e248ebe9c.jpg: ignoring corrupt image/label: Label class 240 exceeds dataset class count 1. Possible class labels are 0-0\n",
            "\u001b[34m\u001b[1mval: \u001b[0mWARNING ⚠️ /content/Scence-Text-Detection-4/valid/images/dv_94_jpg.rf.20f59b5e979015fa8d43f565a5643c33.jpg: ignoring corrupt image/label: Label class 2152 exceeds dataset class count 1. Possible class labels are 0-0\n",
            "\u001b[34m\u001b[1mval: \u001b[0mWARNING ⚠️ /content/Scence-Text-Detection-4/valid/images/f10_kl_g3_20_jpg.rf.eaa2be885e0980e042c5d9dc47f5d792.jpg: ignoring corrupt image/label: Label class 1857 exceeds dataset class count 1. Possible class labels are 0-0\n",
            "\u001b[34m\u001b[1mval: \u001b[0mWARNING ⚠️ /content/Scence-Text-Detection-4/valid/images/f10_kn_g3_20_jpg.rf.1b2f4b4bf22df1decfb8c738d4a91211.jpg: ignoring corrupt image/label: Label class 2102 exceeds dataset class count 1. Possible class labels are 0-0\n",
            "\u001b[34m\u001b[1mval: \u001b[0mWARNING ⚠️ /content/Scence-Text-Detection-4/valid/images/f10_sr_g3_6_jpeg.rf.fa85d6f85af7dd75bd1310c51194c757.jpg: ignoring corrupt image/label: Label class 1890 exceeds dataset class count 1. Possible class labels are 0-0\n",
            "\u001b[34m\u001b[1mval: \u001b[0mWARNING ⚠️ /content/Scence-Text-Detection-4/valid/images/f11_kn_g3_15_jpg.rf.e4129e019eff8d8a8893879c66e5da06.jpg: ignoring corrupt image/label: Label class 85 exceeds dataset class count 1. Possible class labels are 0-0\n",
            "\u001b[34m\u001b[1mval: \u001b[0mWARNING ⚠️ /content/Scence-Text-Detection-4/valid/images/f11_sk_g3_9_jpg.rf.d66a2ed1b49292cebc86146bcc79ab94.jpg: ignoring corrupt image/label: Label class 3 exceeds dataset class count 1. Possible class labels are 0-0\n",
            "\u001b[34m\u001b[1mval: \u001b[0mWARNING ⚠️ /content/Scence-Text-Detection-4/valid/images/f11_sr_g3_15_jpeg.rf.814a828bccf04b186a1ce4801d864869.jpg: ignoring corrupt image/label: Label class 2 exceeds dataset class count 1. Possible class labels are 0-0\n",
            "\u001b[34m\u001b[1mval: \u001b[0mWARNING ⚠️ /content/Scence-Text-Detection-4/valid/images/f12_kl_g3_5_jpg.rf.88d2fa3bf96ba2a6e439be9a5f96a5e6.jpg: ignoring corrupt image/label: Label class 2045 exceeds dataset class count 1. Possible class labels are 0-0\n",
            "\u001b[34m\u001b[1mval: \u001b[0mWARNING ⚠️ /content/Scence-Text-Detection-4/valid/images/f12_kn_g3_8_jpg.rf.e08e9582207ec1464bb023cb27651e6b.jpg: ignoring corrupt image/label: Label class 5 exceeds dataset class count 1. Possible class labels are 0-0\n",
            "\u001b[34m\u001b[1mval: \u001b[0mWARNING ⚠️ /content/Scence-Text-Detection-4/valid/images/f12_sk_g3_15_jpg.rf.30e1bbd7613b13414a9d755f453ad941.jpg: ignoring corrupt image/label: Label class 2 exceeds dataset class count 1. Possible class labels are 0-0\n",
            "\u001b[34m\u001b[1mval: \u001b[0mWARNING ⚠️ /content/Scence-Text-Detection-4/valid/images/f12_sk_g3_5_jpg.rf.90e44945ef9436b4f4f7114ece41fa19.jpg: ignoring corrupt image/label: Label class 986 exceeds dataset class count 1. Possible class labels are 0-0\n",
            "\u001b[34m\u001b[1mval: \u001b[0mWARNING ⚠️ /content/Scence-Text-Detection-4/valid/images/f12_sr_g3_16_jpeg.rf.30223cd65ab1954ee0acb5338570b84e.jpg: ignoring corrupt image/label: Label class 2234 exceeds dataset class count 1. Possible class labels are 0-0\n",
            "\u001b[34m\u001b[1mval: \u001b[0mWARNING ⚠️ /content/Scence-Text-Detection-4/valid/images/f13_kl_g3_13_jpg.rf.7a6b96d7ffe69e788eb50346ad354d5d.jpg: ignoring corrupt image/label: Label class 1200 exceeds dataset class count 1. Possible class labels are 0-0\n",
            "\u001b[34m\u001b[1mval: \u001b[0mWARNING ⚠️ /content/Scence-Text-Detection-4/valid/images/f14_kl_g3_16_jpg.rf.9869f7a70c2aba7498c43d1f69683c5d.jpg: ignoring corrupt image/label: Label class 2174 exceeds dataset class count 1. Possible class labels are 0-0\n",
            "\u001b[34m\u001b[1mval: \u001b[0mWARNING ⚠️ /content/Scence-Text-Detection-4/valid/images/f14_kl_g3_19_jpg.rf.8854658712d5dc4b64a1e2c15af9acb7.jpg: ignoring corrupt image/label: Label class 1921 exceeds dataset class count 1. Possible class labels are 0-0\n",
            "\u001b[34m\u001b[1mval: \u001b[0mWARNING ⚠️ /content/Scence-Text-Detection-4/valid/images/f15_kl_g3_14_jpg.rf.d8aea8a769e19271a0b2ab4c8fc6d5ab.jpg: ignoring corrupt image/label: Label class 114 exceeds dataset class count 1. Possible class labels are 0-0\n",
            "\u001b[34m\u001b[1mval: \u001b[0mWARNING ⚠️ /content/Scence-Text-Detection-4/valid/images/f15_kl_g3_16_jpg.rf.711591f111e09235975f9b2d6c9b0399.jpg: ignoring corrupt image/label: Label class 1660 exceeds dataset class count 1. Possible class labels are 0-0\n",
            "\u001b[34m\u001b[1mval: \u001b[0mWARNING ⚠️ /content/Scence-Text-Detection-4/valid/images/f15_kl_g3_19_jpg.rf.78f957c4ff25dffd5f12b40af9780a95.jpg: ignoring corrupt image/label: Label class 548 exceeds dataset class count 1. Possible class labels are 0-0\n",
            "\u001b[34m\u001b[1mval: \u001b[0mWARNING ⚠️ /content/Scence-Text-Detection-4/valid/images/f15_kl_g3_1_jpg.rf.0a9d1c5d1261295950b1ffba919875e8.jpg: ignoring corrupt image/label: Label class 2282 exceeds dataset class count 1. Possible class labels are 0-0\n",
            "\u001b[34m\u001b[1mval: \u001b[0mWARNING ⚠️ /content/Scence-Text-Detection-4/valid/images/f15_kl_g3_5_jpg.rf.4a4e15c5ea380c4edc5fb8658c0a1ccc.jpg: ignoring corrupt image/label: Label class 2172 exceeds dataset class count 1. Possible class labels are 0-0\n",
            "\u001b[34m\u001b[1mval: \u001b[0mWARNING ⚠️ /content/Scence-Text-Detection-4/valid/images/f15_kn_g3_9_jpg.rf.89d99cdd5773961ed8e830e6099ab4dc.jpg: ignoring corrupt image/label: Label class 2235 exceeds dataset class count 1. Possible class labels are 0-0\n",
            "\u001b[34m\u001b[1mval: \u001b[0mWARNING ⚠️ /content/Scence-Text-Detection-4/valid/images/f15_sk_g3_8_jpg.rf.5ec258d09c1f5c1e62d83d09a31deabe.jpg: ignoring corrupt image/label: Label class 2 exceeds dataset class count 1. Possible class labels are 0-0\n",
            "\u001b[34m\u001b[1mval: \u001b[0mWARNING ⚠️ /content/Scence-Text-Detection-4/valid/images/f16_kl_g3_14_jpg.rf.963682be1154635165e226c03b3a2e69.jpg: ignoring corrupt image/label: Label class 1060 exceeds dataset class count 1. Possible class labels are 0-0\n",
            "\u001b[34m\u001b[1mval: \u001b[0mWARNING ⚠️ /content/Scence-Text-Detection-4/valid/images/f16_kl_g3_17_jpg.rf.5a0e05d992c990c7488a9ea48dd2979d.jpg: ignoring corrupt image/label: Label class 372 exceeds dataset class count 1. Possible class labels are 0-0\n",
            "\u001b[34m\u001b[1mval: \u001b[0mWARNING ⚠️ /content/Scence-Text-Detection-4/valid/images/f16_kl_g3_18_jpg.rf.f27f4f767ab040f8fe253902a05126e2.jpg: ignoring corrupt image/label: Label class 1230 exceeds dataset class count 1. Possible class labels are 0-0\n",
            "\u001b[34m\u001b[1mval: \u001b[0mWARNING ⚠️ /content/Scence-Text-Detection-4/valid/images/f17_kl_g3_13_jpg.rf.f17731d2d455e0e576ebb0180b9e026d.jpg: ignoring corrupt image/label: Label class 1621 exceeds dataset class count 1. Possible class labels are 0-0\n",
            "\u001b[34m\u001b[1mval: \u001b[0mWARNING ⚠️ /content/Scence-Text-Detection-4/valid/images/f17_kl_g3_14_jpg.rf.b8c311171ade8aceeafcecfcf3d99e3e.jpg: ignoring corrupt image/label: Label class 1758 exceeds dataset class count 1. Possible class labels are 0-0\n",
            "\u001b[34m\u001b[1mval: \u001b[0mWARNING ⚠️ /content/Scence-Text-Detection-4/valid/images/f17_kl_g3_17_jpg.rf.49ae59dba36952bc6e552a6f9412fcec.jpg: ignoring corrupt image/label: Label class 1364 exceeds dataset class count 1. Possible class labels are 0-0\n",
            "\u001b[34m\u001b[1mval: \u001b[0mWARNING ⚠️ /content/Scence-Text-Detection-4/valid/images/f17_kl_g3_18_jpg.rf.7c5e392cd0becb065c2f8459e8a5967d.jpg: ignoring corrupt image/label: Label class 3 exceeds dataset class count 1. Possible class labels are 0-0\n",
            "\u001b[34m\u001b[1mval: \u001b[0mWARNING ⚠️ /content/Scence-Text-Detection-4/valid/images/f17_kl_g3_1_jpg.rf.e967346fc40d49df0063281735fefd90.jpg: ignoring corrupt image/label: Label class 1894 exceeds dataset class count 1. Possible class labels are 0-0\n",
            "\u001b[34m\u001b[1mval: \u001b[0mWARNING ⚠️ /content/Scence-Text-Detection-4/valid/images/f17_kl_g3_2_jpg.rf.6eef263a4274ea42bb9c676a7fcda7ec.jpg: ignoring corrupt image/label: Label class 103 exceeds dataset class count 1. Possible class labels are 0-0\n",
            "\u001b[34m\u001b[1mval: \u001b[0mWARNING ⚠️ /content/Scence-Text-Detection-4/valid/images/f17_kl_g3_3_jpg.rf.8cbc9a1d1c17aa1a575979cdb525a29f.jpg: ignoring corrupt image/label: Label class 912 exceeds dataset class count 1. Possible class labels are 0-0\n",
            "\u001b[34m\u001b[1mval: \u001b[0mWARNING ⚠️ /content/Scence-Text-Detection-4/valid/images/f17_kl_g3_7_jpg.rf.54482bbe2c8808cbb04245b1561c9ece.jpg: ignoring corrupt image/label: Label class 2 exceeds dataset class count 1. Possible class labels are 0-0\n",
            "\u001b[34m\u001b[1mval: \u001b[0mWARNING ⚠️ /content/Scence-Text-Detection-4/valid/images/f17_kl_g3_9_jpg.rf.a0f2a1fc416a3fe41d0e6bca3ce71647.jpg: ignoring corrupt image/label: Label class 1773 exceeds dataset class count 1. Possible class labels are 0-0\n",
            "\u001b[34m\u001b[1mval: \u001b[0mWARNING ⚠️ /content/Scence-Text-Detection-4/valid/images/f18_kl_g3_15_jpg.rf.33a22e7ca5450df295336e119dc28327.jpg: ignoring corrupt image/label: Label class 1538 exceeds dataset class count 1. Possible class labels are 0-0\n",
            "\u001b[34m\u001b[1mval: \u001b[0mWARNING ⚠️ /content/Scence-Text-Detection-4/valid/images/f18_kl_g3_16_jpg.rf.7f9423661f87994bd059d027fbfc9ce2.jpg: ignoring corrupt image/label: Label class 2 exceeds dataset class count 1. Possible class labels are 0-0\n",
            "\u001b[34m\u001b[1mval: \u001b[0mWARNING ⚠️ /content/Scence-Text-Detection-4/valid/images/f18_kl_g3_17_jpg.rf.dbe7977a2b3875a66efc6ed670bebd30.jpg: ignoring corrupt image/label: Label class 1624 exceeds dataset class count 1. Possible class labels are 0-0\n",
            "\u001b[34m\u001b[1mval: \u001b[0mWARNING ⚠️ /content/Scence-Text-Detection-4/valid/images/f18_kl_g3_19_jpg.rf.c736d6c5f768f79e004c66bb9dbe926e.jpg: ignoring corrupt image/label: Label class 367 exceeds dataset class count 1. Possible class labels are 0-0\n",
            "\u001b[34m\u001b[1mval: \u001b[0mWARNING ⚠️ /content/Scence-Text-Detection-4/valid/images/f18_kl_g3_1_jpg.rf.ab0c036fd7f3a01f88eb0e3b88d3f62b.jpg: ignoring corrupt image/label: Label class 1935 exceeds dataset class count 1. Possible class labels are 0-0\n",
            "\u001b[34m\u001b[1mval: \u001b[0mWARNING ⚠️ /content/Scence-Text-Detection-4/valid/images/f18_sk_g3_20_jpg.rf.548a0a1e00b69d9e4b5319fe28acdb04.jpg: ignoring corrupt image/label: Label class 867 exceeds dataset class count 1. Possible class labels are 0-0\n",
            "\u001b[34m\u001b[1mval: \u001b[0mWARNING ⚠️ /content/Scence-Text-Detection-4/valid/images/f19_kl_g3_12_jpg.rf.1407e397578eb051cd088e3e5f7d4cd5.jpg: ignoring corrupt image/label: Label class 1880 exceeds dataset class count 1. Possible class labels are 0-0\n",
            "\u001b[34m\u001b[1mval: \u001b[0mWARNING ⚠️ /content/Scence-Text-Detection-4/valid/images/f19_kl_g3_15_jpg.rf.e906d64a53f261f9a6c5f7e4c7330106.jpg: ignoring corrupt image/label: Label class 2 exceeds dataset class count 1. Possible class labels are 0-0\n",
            "\u001b[34m\u001b[1mval: \u001b[0mWARNING ⚠️ /content/Scence-Text-Detection-4/valid/images/f19_kl_g3_16_jpg.rf.8ba1f53209f7d3bc100fe4acf18415e8.jpg: ignoring corrupt image/label: Label class 2 exceeds dataset class count 1. Possible class labels are 0-0\n",
            "\u001b[34m\u001b[1mval: \u001b[0mWARNING ⚠️ /content/Scence-Text-Detection-4/valid/images/f19_kl_g3_19_jpg.rf.99febad03c571e1c01c309194e56cdf4.jpg: ignoring corrupt image/label: Label class 254 exceeds dataset class count 1. Possible class labels are 0-0\n",
            "\u001b[34m\u001b[1mval: \u001b[0mWARNING ⚠️ /content/Scence-Text-Detection-4/valid/images/f19_kl_g3_2_jpg.rf.f60acc2e088c9ef710afd166acb1f7c8.jpg: ignoring corrupt image/label: Label class 204 exceeds dataset class count 1. Possible class labels are 0-0\n",
            "\u001b[34m\u001b[1mval: \u001b[0mWARNING ⚠️ /content/Scence-Text-Detection-4/valid/images/f19_kl_g3_3_jpg.rf.a02b181778c23a27fbb427f9b208b408.jpg: ignoring corrupt image/label: Label class 1582 exceeds dataset class count 1. Possible class labels are 0-0\n",
            "\u001b[34m\u001b[1mval: \u001b[0mWARNING ⚠️ /content/Scence-Text-Detection-4/valid/images/f19_kl_g3_4_jpg.rf.154a6fcc64903e537e646691962389c3.jpg: ignoring corrupt image/label: Label class 812 exceeds dataset class count 1. Possible class labels are 0-0\n",
            "\u001b[34m\u001b[1mval: \u001b[0mWARNING ⚠️ /content/Scence-Text-Detection-4/valid/images/f19_kl_g3_7_jpg.rf.6f5b16884f6aabd1d931de4ae7b3189b.jpg: ignoring corrupt image/label: Label class 29 exceeds dataset class count 1. Possible class labels are 0-0\n",
            "\u001b[34m\u001b[1mval: \u001b[0mWARNING ⚠️ /content/Scence-Text-Detection-4/valid/images/f1_sr_g3_14_jpeg.rf.30e708b45abfda4c822fbd22ec735012.jpg: ignoring corrupt image/label: Label class 2256 exceeds dataset class count 1. Possible class labels are 0-0\n",
            "\u001b[34m\u001b[1mval: \u001b[0mWARNING ⚠️ /content/Scence-Text-Detection-4/valid/images/f1_sr_g3_15_jpeg.rf.7b4f838a4926b606b9e195b04cc13059.jpg: ignoring corrupt image/label: Label class 1523 exceeds dataset class count 1. Possible class labels are 0-0\n",
            "\u001b[34m\u001b[1mval: \u001b[0mWARNING ⚠️ /content/Scence-Text-Detection-4/valid/images/f1_sr_g3_17_jpeg.rf.dbfd56c3e38d4139a58b736ace5419a1.jpg: ignoring corrupt image/label: Label class 2102 exceeds dataset class count 1. Possible class labels are 0-0\n",
            "\u001b[34m\u001b[1mval: \u001b[0mWARNING ⚠️ /content/Scence-Text-Detection-4/valid/images/f1_sr_g3_20_jpeg.rf.ec41cfa853ec49860ff938b687b36eb4.jpg: ignoring corrupt image/label: Label class 2152 exceeds dataset class count 1. Possible class labels are 0-0\n",
            "\u001b[34m\u001b[1mval: \u001b[0mWARNING ⚠️ /content/Scence-Text-Detection-4/valid/images/f1_sr_g3_3_jpeg.rf.b771b459b5330b504669e1595c82021d.jpg: ignoring corrupt image/label: Label class 2282 exceeds dataset class count 1. Possible class labels are 0-0\n",
            "\u001b[34m\u001b[1mval: \u001b[0mWARNING ⚠️ /content/Scence-Text-Detection-4/valid/images/f1_sr_g3_4_jpeg.rf.eea97fcec8b837382f224cbfe395021a.jpg: ignoring corrupt image/label: Label class 2 exceeds dataset class count 1. Possible class labels are 0-0\n",
            "\u001b[34m\u001b[1mval: \u001b[0mWARNING ⚠️ /content/Scence-Text-Detection-4/valid/images/f1_sr_g3_5_jpeg.rf.242375289c284dcc393a929c4f695bc7.jpg: ignoring corrupt image/label: Label class 1849 exceeds dataset class count 1. Possible class labels are 0-0\n",
            "\u001b[34m\u001b[1mval: \u001b[0mWARNING ⚠️ /content/Scence-Text-Detection-4/valid/images/f20_kl_g3_10_jpg.rf.fbe378894de3f2e46f06c19285746847.jpg: ignoring corrupt image/label: Label class 1997 exceeds dataset class count 1. Possible class labels are 0-0\n",
            "\u001b[34m\u001b[1mval: \u001b[0mWARNING ⚠️ /content/Scence-Text-Detection-4/valid/images/f20_kl_g3_11_jpg.rf.6a9d843829ba118c6e3a2d0ec123e058.jpg: ignoring corrupt image/label: Label class 1958 exceeds dataset class count 1. Possible class labels are 0-0\n",
            "\u001b[34m\u001b[1mval: \u001b[0mWARNING ⚠️ /content/Scence-Text-Detection-4/valid/images/f20_kl_g3_13_jpg.rf.8c816a4096cfa90f3f5254f79978e14c.jpg: ignoring corrupt image/label: Label class 104 exceeds dataset class count 1. Possible class labels are 0-0\n",
            "\u001b[34m\u001b[1mval: \u001b[0mWARNING ⚠️ /content/Scence-Text-Detection-4/valid/images/f20_kl_g3_14_jpg.rf.6739962ec180193866a36897fa6d821a.jpg: ignoring corrupt image/label: Label class 1846 exceeds dataset class count 1. Possible class labels are 0-0\n",
            "\u001b[34m\u001b[1mval: \u001b[0mWARNING ⚠️ /content/Scence-Text-Detection-4/valid/images/f20_kl_g3_17_jpg.rf.6ca0e09d1e646dff447388c40ddaf675.jpg: ignoring corrupt image/label: Label class 5 exceeds dataset class count 1. Possible class labels are 0-0\n",
            "\u001b[34m\u001b[1mval: \u001b[0mWARNING ⚠️ /content/Scence-Text-Detection-4/valid/images/f20_kl_g3_18_jpg.rf.0f4af714673b524f6d427e3ca6ef03f4.jpg: ignoring corrupt image/label: Label class 2243 exceeds dataset class count 1. Possible class labels are 0-0\n",
            "\u001b[34m\u001b[1mval: \u001b[0mWARNING ⚠️ /content/Scence-Text-Detection-4/valid/images/f20_kl_g3_19_jpg.rf.aac6aa5011d3dcf255a904f9a3a18a32.jpg: ignoring corrupt image/label: Label class 2 exceeds dataset class count 1. Possible class labels are 0-0\n",
            "\u001b[34m\u001b[1mval: \u001b[0mWARNING ⚠️ /content/Scence-Text-Detection-4/valid/images/f20_kl_g3_1_jpg.rf.e552321174733756daadbf9277ed2fa1.jpg: ignoring corrupt image/label: Label class 3 exceeds dataset class count 1. Possible class labels are 0-0\n",
            "\u001b[34m\u001b[1mval: \u001b[0mWARNING ⚠️ /content/Scence-Text-Detection-4/valid/images/f20_kl_g3_2_jpg.rf.8855ac8292c8f1b7ba01bef622e6832d.jpg: ignoring corrupt image/label: Label class 1923 exceeds dataset class count 1. Possible class labels are 0-0\n",
            "\u001b[34m\u001b[1mval: \u001b[0mWARNING ⚠️ /content/Scence-Text-Detection-4/valid/images/f20_kl_g3_6_jpg.rf.e65e806826b1749cb0d066e70d0c403c.jpg: ignoring corrupt image/label: Label class 1426 exceeds dataset class count 1. Possible class labels are 0-0\n",
            "\u001b[34m\u001b[1mval: \u001b[0mWARNING ⚠️ /content/Scence-Text-Detection-4/valid/images/f20_kl_g3_7_jpg.rf.f862f1542b2f9117a6360e7fe8b9282f.jpg: ignoring corrupt image/label: Label class 901 exceeds dataset class count 1. Possible class labels are 0-0\n",
            "\u001b[34m\u001b[1mval: \u001b[0mWARNING ⚠️ /content/Scence-Text-Detection-4/valid/images/f20_sk_g3_15_jpg.rf.c24c7cc924bf8938cd8b862b1448926b.jpg: ignoring corrupt image/label: Label class 1287 exceeds dataset class count 1. Possible class labels are 0-0\n",
            "\u001b[34m\u001b[1mval: \u001b[0mWARNING ⚠️ /content/Scence-Text-Detection-4/valid/images/f2_sr_g3_18_jpeg.rf.402090c94f67ef882ab920b9c110f235.jpg: ignoring corrupt image/label: Label class 1471 exceeds dataset class count 1. Possible class labels are 0-0\n",
            "\u001b[34m\u001b[1mval: \u001b[0mWARNING ⚠️ /content/Scence-Text-Detection-4/valid/images/f2_sr_g3_3_jpeg.rf.dcb6bf860f6ee9ba01eb3872df74e5d8.jpg: ignoring corrupt image/label: Label class 2 exceeds dataset class count 1. Possible class labels are 0-0\n",
            "\u001b[34m\u001b[1mval: \u001b[0mWARNING ⚠️ /content/Scence-Text-Detection-4/valid/images/f2_sr_g3_4_jpeg.rf.f6577a8cbd57f08d55325e4d2e2eab6c.jpg: ignoring corrupt image/label: Label class 1906 exceeds dataset class count 1. Possible class labels are 0-0\n",
            "\u001b[34m\u001b[1mval: \u001b[0mWARNING ⚠️ /content/Scence-Text-Detection-4/valid/images/f2_sr_g3_6_jpeg.rf.9a35db07ea814ee54d51ef09bd8a0526.jpg: ignoring corrupt image/label: Label class 2063 exceeds dataset class count 1. Possible class labels are 0-0\n",
            "\u001b[34m\u001b[1mval: \u001b[0mWARNING ⚠️ /content/Scence-Text-Detection-4/valid/images/f2_sr_g3_9_jpeg.rf.0bd084564aa23c800253d0f8150fc6ae.jpg: ignoring corrupt image/label: Label class 613 exceeds dataset class count 1. Possible class labels are 0-0\n",
            "\u001b[34m\u001b[1mval: \u001b[0mWARNING ⚠️ /content/Scence-Text-Detection-4/valid/images/f3_kl_g3_18_jpg.rf.66c3b4bbef62e35632354b7b58e40dc4.jpg: ignoring corrupt image/label: Label class 2034 exceeds dataset class count 1. Possible class labels are 0-0\n",
            "\u001b[34m\u001b[1mval: \u001b[0mWARNING ⚠️ /content/Scence-Text-Detection-4/valid/images/f3_kn_g3_19_jpg.rf.8ef251ac3dfeb8afd0b41e85bd214890.jpg: ignoring corrupt image/label: Label class 2 exceeds dataset class count 1. Possible class labels are 0-0\n",
            "\u001b[34m\u001b[1mval: \u001b[0mWARNING ⚠️ /content/Scence-Text-Detection-4/valid/images/f3_sr_g3_10_jpeg.rf.0802f60fbe5f509f40ea236ebb85be46.jpg: ignoring corrupt image/label: Label class 1356 exceeds dataset class count 1. Possible class labels are 0-0\n",
            "\u001b[34m\u001b[1mval: \u001b[0mWARNING ⚠️ /content/Scence-Text-Detection-4/valid/images/f3_sr_g3_11_jpeg.rf.7f8d53dc83f9280b230dd9a4f5e8d4a0.jpg: ignoring corrupt image/label: Label class 1443 exceeds dataset class count 1. Possible class labels are 0-0\n",
            "\u001b[34m\u001b[1mval: \u001b[0mWARNING ⚠️ /content/Scence-Text-Detection-4/valid/images/f3_sr_g3_12_jpeg.rf.129354b4ddf831e2b5a8a30e447eef93.jpg: ignoring corrupt image/label: Label class 1288 exceeds dataset class count 1. Possible class labels are 0-0\n",
            "\u001b[34m\u001b[1mval: \u001b[0mWARNING ⚠️ /content/Scence-Text-Detection-4/valid/images/f3_sr_g3_13_jpeg.rf.98d429675ce3bb98e8ab178d5c7bfc28.jpg: ignoring corrupt image/label: Label class 2213 exceeds dataset class count 1. Possible class labels are 0-0\n",
            "\u001b[34m\u001b[1mval: \u001b[0mWARNING ⚠️ /content/Scence-Text-Detection-4/valid/images/f3_sr_g3_14_jpeg.rf.a8af8a0929944e5b9b21628d9b70920d.jpg: ignoring corrupt image/label: Label class 294 exceeds dataset class count 1. Possible class labels are 0-0\n",
            "\u001b[34m\u001b[1mval: \u001b[0mWARNING ⚠️ /content/Scence-Text-Detection-4/valid/images/f3_sr_g3_15_jpeg.rf.4a5f95e367dffb4a86b60012d19dd87e.jpg: ignoring corrupt image/label: Label class 1588 exceeds dataset class count 1. Possible class labels are 0-0\n",
            "\u001b[34m\u001b[1mval: \u001b[0mWARNING ⚠️ /content/Scence-Text-Detection-4/valid/images/f3_sr_g3_16_jpeg.rf.850049914b470cab02ebc93c1ba9668f.jpg: ignoring corrupt image/label: Label class 2045 exceeds dataset class count 1. Possible class labels are 0-0\n",
            "\u001b[34m\u001b[1mval: \u001b[0mWARNING ⚠️ /content/Scence-Text-Detection-4/valid/images/f3_sr_g3_1_jpeg.rf.e44825040481374b475a82430b9654a0.jpg: ignoring corrupt image/label: Label class 809 exceeds dataset class count 1. Possible class labels are 0-0\n",
            "\u001b[34m\u001b[1mval: \u001b[0mWARNING ⚠️ /content/Scence-Text-Detection-4/valid/images/f3_sr_g3_20_jpeg.rf.f22d8e94bdb556ef57d9f48168252655.jpg: ignoring corrupt image/label: Label class 2211 exceeds dataset class count 1. Possible class labels are 0-0\n",
            "\u001b[34m\u001b[1mval: \u001b[0mWARNING ⚠️ /content/Scence-Text-Detection-4/valid/images/f3_sr_g3_3_jpeg.rf.f31ddab5e4cbcb8c66654d55d0bc8e7f.jpg: ignoring corrupt image/label: Label class 1489 exceeds dataset class count 1. Possible class labels are 0-0\n",
            "\u001b[34m\u001b[1mval: \u001b[0mWARNING ⚠️ /content/Scence-Text-Detection-4/valid/images/f3_sr_g3_5_jpeg.rf.f2507660c013f90093e3b775b08eb5ba.jpg: ignoring corrupt image/label: Label class 907 exceeds dataset class count 1. Possible class labels are 0-0\n",
            "\u001b[34m\u001b[1mval: \u001b[0mWARNING ⚠️ /content/Scence-Text-Detection-4/valid/images/f4_kl_g3_6_jpg.rf.b8f79cc143b2f52a17b87816e022b6b4.jpg: ignoring corrupt image/label: Label class 1257 exceeds dataset class count 1. Possible class labels are 0-0\n",
            "\u001b[34m\u001b[1mval: \u001b[0mWARNING ⚠️ /content/Scence-Text-Detection-4/valid/images/f4_sr_g3_10_jpeg.rf.9055986ceccf24cf30181a61f8d62ece.jpg: ignoring corrupt image/label: Label class 2184 exceeds dataset class count 1. Possible class labels are 0-0\n",
            "\u001b[34m\u001b[1mval: \u001b[0mWARNING ⚠️ /content/Scence-Text-Detection-4/valid/images/f4_sr_g3_11_jpeg.rf.1768569fc3cb3104be4a19c2569128a0.jpg: ignoring corrupt image/label: Label class 2 exceeds dataset class count 1. Possible class labels are 0-0\n",
            "\u001b[34m\u001b[1mval: \u001b[0mWARNING ⚠️ /content/Scence-Text-Detection-4/valid/images/f4_sr_g3_12_jpeg.rf.926d92afaaccc31bc934e4a9e092a174.jpg: ignoring corrupt image/label: Label class 2 exceeds dataset class count 1. Possible class labels are 0-0\n",
            "\u001b[34m\u001b[1mval: \u001b[0mWARNING ⚠️ /content/Scence-Text-Detection-4/valid/images/f4_sr_g3_13_jpeg.rf.a22c4927be941b9107a4cfaa87ca402d.jpg: ignoring corrupt image/label: Label class 3 exceeds dataset class count 1. Possible class labels are 0-0\n",
            "\u001b[34m\u001b[1mval: \u001b[0mWARNING ⚠️ /content/Scence-Text-Detection-4/valid/images/f4_sr_g3_14_jpeg.rf.f8386c346451942aceb4a447780b4a8b.jpg: ignoring corrupt image/label: Label class 2 exceeds dataset class count 1. Possible class labels are 0-0\n",
            "\u001b[34m\u001b[1mval: \u001b[0mWARNING ⚠️ /content/Scence-Text-Detection-4/valid/images/f4_sr_g3_15_jpeg.rf.f56732344f07c5c660b83a7b4bbaaa08.jpg: ignoring corrupt image/label: Label class 1320 exceeds dataset class count 1. Possible class labels are 0-0\n",
            "\u001b[34m\u001b[1mval: \u001b[0mWARNING ⚠️ /content/Scence-Text-Detection-4/valid/images/f4_sr_g3_17_jpeg.rf.38f8167ffa0d062989ddf003ba42223a.jpg: ignoring corrupt image/label: Label class 906 exceeds dataset class count 1. Possible class labels are 0-0\n",
            "\u001b[34m\u001b[1mval: \u001b[0mWARNING ⚠️ /content/Scence-Text-Detection-4/valid/images/f4_sr_g3_18_jpeg.rf.32320d51226537ca295408852ab8ed6c.jpg: ignoring corrupt image/label: Label class 1243 exceeds dataset class count 1. Possible class labels are 0-0\n",
            "\u001b[34m\u001b[1mval: \u001b[0mWARNING ⚠️ /content/Scence-Text-Detection-4/valid/images/f4_sr_g3_19_jpeg.rf.64a9fb4c240e75ac1a91edb6dc4edf02.jpg: ignoring corrupt image/label: Label class 2 exceeds dataset class count 1. Possible class labels are 0-0\n",
            "\u001b[34m\u001b[1mval: \u001b[0mWARNING ⚠️ /content/Scence-Text-Detection-4/valid/images/f4_sr_g3_1_jpeg.rf.7ad64d4c914dad663e0c6cc781a9e255.jpg: ignoring corrupt image/label: Label class 1713 exceeds dataset class count 1. Possible class labels are 0-0\n",
            "\u001b[34m\u001b[1mval: \u001b[0mWARNING ⚠️ /content/Scence-Text-Detection-4/valid/images/f4_sr_g3_20_jpeg.rf.d1dd5cdb569cea0fd846abb5147677b1.jpg: ignoring corrupt image/label: Label class 1143 exceeds dataset class count 1. Possible class labels are 0-0\n",
            "\u001b[34m\u001b[1mval: \u001b[0mWARNING ⚠️ /content/Scence-Text-Detection-4/valid/images/f4_sr_g3_2_jpeg.rf.8f068964194466f6675c2456fead48ce.jpg: ignoring corrupt image/label: Label class 511 exceeds dataset class count 1. Possible class labels are 0-0\n",
            "\u001b[34m\u001b[1mval: \u001b[0mWARNING ⚠️ /content/Scence-Text-Detection-4/valid/images/f4_sr_g3_3_jpeg.rf.d7da79cd36c6a6aad9990e016fcd1c22.jpg: ignoring corrupt image/label: Label class 2 exceeds dataset class count 1. Possible class labels are 0-0\n",
            "\u001b[34m\u001b[1mval: \u001b[0mWARNING ⚠️ /content/Scence-Text-Detection-4/valid/images/f4_sr_g3_4_jpeg.rf.3e6bb90745008d5565996dcc85496254.jpg: ignoring corrupt image/label: Label class 1255 exceeds dataset class count 1. Possible class labels are 0-0\n",
            "\u001b[34m\u001b[1mval: \u001b[0mWARNING ⚠️ /content/Scence-Text-Detection-4/valid/images/f4_sr_g3_5_jpeg.rf.1d5c26f6e9c7454b28286324e6db7887.jpg: ignoring corrupt image/label: Label class 1989 exceeds dataset class count 1. Possible class labels are 0-0\n",
            "\u001b[34m\u001b[1mval: \u001b[0mWARNING ⚠️ /content/Scence-Text-Detection-4/valid/images/f4_sr_g3_8_jpeg.rf.bfc7dddb9386396ee59af3bcbf74eec9.jpg: ignoring corrupt image/label: Label class 368 exceeds dataset class count 1. Possible class labels are 0-0\n",
            "\u001b[34m\u001b[1mval: \u001b[0mWARNING ⚠️ /content/Scence-Text-Detection-4/valid/images/f5_kl_g3_16_jpg.rf.fc8854da271298021cc67ab1effd4404.jpg: ignoring corrupt image/label: Label class 2131 exceeds dataset class count 1. Possible class labels are 0-0\n",
            "\u001b[34m\u001b[1mval: \u001b[0mWARNING ⚠️ /content/Scence-Text-Detection-4/valid/images/f5_kl_g3_17_jpg.rf.3a557b088e0a5a3b56997cf52cdea700.jpg: ignoring corrupt image/label: Label class 2204 exceeds dataset class count 1. Possible class labels are 0-0\n",
            "\u001b[34m\u001b[1mval: \u001b[0mWARNING ⚠️ /content/Scence-Text-Detection-4/valid/images/f5_sr_g3_12_jpeg.rf.cc21969f01503c577ae3f095b44cf56f.jpg: ignoring corrupt image/label: Label class 1616 exceeds dataset class count 1. Possible class labels are 0-0\n",
            "\u001b[34m\u001b[1mval: \u001b[0mWARNING ⚠️ /content/Scence-Text-Detection-4/valid/images/f5_sr_g3_15_jpeg.rf.0d9c2285cf1055c996bee2964f9ede2c.jpg: ignoring corrupt image/label: Label class 466 exceeds dataset class count 1. Possible class labels are 0-0\n",
            "\u001b[34m\u001b[1mval: \u001b[0mWARNING ⚠️ /content/Scence-Text-Detection-4/valid/images/f5_sr_g3_19_jpeg.rf.9e175132c35f654aea51cc1fcff07111.jpg: ignoring corrupt image/label: Label class 3 exceeds dataset class count 1. Possible class labels are 0-0\n",
            "\u001b[34m\u001b[1mval: \u001b[0mWARNING ⚠️ /content/Scence-Text-Detection-4/valid/images/f5_sr_g3_8_jpeg.rf.fa6c7b2ddaa7a807385522c85c9aa31e.jpg: ignoring corrupt image/label: Label class 1872 exceeds dataset class count 1. Possible class labels are 0-0\n",
            "\u001b[34m\u001b[1mval: \u001b[0mWARNING ⚠️ /content/Scence-Text-Detection-4/valid/images/f6_sr_g3_13_jpeg.rf.638690e1dbb7a3c1e34967d7a5aa850d.jpg: ignoring corrupt image/label: Label class 2284 exceeds dataset class count 1. Possible class labels are 0-0\n",
            "\u001b[34m\u001b[1mval: \u001b[0mWARNING ⚠️ /content/Scence-Text-Detection-4/valid/images/f6_sr_g3_14_jpeg.rf.6c8395dda9b0bd32b689d69ea7d7c518.jpg: ignoring corrupt image/label: Label class 1965 exceeds dataset class count 1. Possible class labels are 0-0\n",
            "\u001b[34m\u001b[1mval: \u001b[0mWARNING ⚠️ /content/Scence-Text-Detection-4/valid/images/f6_sr_g3_16_jpeg.rf.8b7f68613d81b1d07c604e2f4ce900a1.jpg: ignoring corrupt image/label: Label class 1750 exceeds dataset class count 1. Possible class labels are 0-0\n",
            "\u001b[34m\u001b[1mval: \u001b[0mWARNING ⚠️ /content/Scence-Text-Detection-4/valid/images/f6_sr_g3_18_jpeg.rf.fc29287fa4af6cbb87076c6885285b52.jpg: ignoring corrupt image/label: Label class 2016 exceeds dataset class count 1. Possible class labels are 0-0\n",
            "\u001b[34m\u001b[1mval: \u001b[0mWARNING ⚠️ /content/Scence-Text-Detection-4/valid/images/f6_sr_g3_19_jpeg.rf.ab020537b09b3c39c490cc080e859353.jpg: ignoring corrupt image/label: Label class 2245 exceeds dataset class count 1. Possible class labels are 0-0\n",
            "\u001b[34m\u001b[1mval: \u001b[0mWARNING ⚠️ /content/Scence-Text-Detection-4/valid/images/f6_sr_g3_6_jpeg.rf.d8c6c3db51a7c1cd253d4d7c19d7161d.jpg: ignoring corrupt image/label: Label class 511 exceeds dataset class count 1. Possible class labels are 0-0\n",
            "\u001b[34m\u001b[1mval: \u001b[0mWARNING ⚠️ /content/Scence-Text-Detection-4/valid/images/f6_sr_g3_8_jpeg.rf.9809a789bbbfb812e68c18dc62c8de83.jpg: ignoring corrupt image/label: Label class 2187 exceeds dataset class count 1. Possible class labels are 0-0\n",
            "\u001b[34m\u001b[1mval: \u001b[0mWARNING ⚠️ /content/Scence-Text-Detection-4/valid/images/f6_sr_g3_9_jpeg.rf.fb41747faf78f340dc1543c3fc35e3cd.jpg: ignoring corrupt image/label: Label class 2186 exceeds dataset class count 1. Possible class labels are 0-0\n",
            "\u001b[34m\u001b[1mval: \u001b[0mWARNING ⚠️ /content/Scence-Text-Detection-4/valid/images/f7_sk_g3_13_jpg.rf.443d5b0286cda421df44879498e7504b.jpg: ignoring corrupt image/label: Label class 2 exceeds dataset class count 1. Possible class labels are 0-0\n",
            "\u001b[34m\u001b[1mval: \u001b[0mWARNING ⚠️ /content/Scence-Text-Detection-4/valid/images/f7_sr_g3_10_jpeg.rf.5bbfe6add84e01f4dbfd327445ffeb08.jpg: ignoring corrupt image/label: Label class 963 exceeds dataset class count 1. Possible class labels are 0-0\n",
            "\u001b[34m\u001b[1mval: \u001b[0mWARNING ⚠️ /content/Scence-Text-Detection-4/valid/images/f7_sr_g3_12_jpeg.rf.309f06e7a95a87abfdd129ab20d20b7e.jpg: ignoring corrupt image/label: Label class 1065 exceeds dataset class count 1. Possible class labels are 0-0\n",
            "\u001b[34m\u001b[1mval: \u001b[0mWARNING ⚠️ /content/Scence-Text-Detection-4/valid/images/f7_sr_g3_14_jpeg.rf.075292074c4748ff791f7f9aa1dcf0c6.jpg: ignoring corrupt image/label: Label class 993 exceeds dataset class count 1. Possible class labels are 0-0\n",
            "\u001b[34m\u001b[1mval: \u001b[0mWARNING ⚠️ /content/Scence-Text-Detection-4/valid/images/f7_sr_g3_15_jpeg.rf.4236900e5bcf6f5bceddc2af445835fc.jpg: ignoring corrupt image/label: Label class 2045 exceeds dataset class count 1. Possible class labels are 0-0\n",
            "\u001b[34m\u001b[1mval: \u001b[0mWARNING ⚠️ /content/Scence-Text-Detection-4/valid/images/f7_sr_g3_17_jpeg.rf.ef4bbbe32244a6db41e6a928fb86e2d2.jpg: ignoring corrupt image/label: Label class 2184 exceeds dataset class count 1. Possible class labels are 0-0\n",
            "\u001b[34m\u001b[1mval: \u001b[0mWARNING ⚠️ /content/Scence-Text-Detection-4/valid/images/f7_sr_g3_19_jpeg.rf.cd8dcff994e5dcbbab1e3b9bd70c0aca.jpg: ignoring corrupt image/label: Label class 987 exceeds dataset class count 1. Possible class labels are 0-0\n",
            "\u001b[34m\u001b[1mval: \u001b[0mWARNING ⚠️ /content/Scence-Text-Detection-4/valid/images/f7_sr_g3_1_jpeg.rf.22ffa08a4ea9414f78813f68c17ef931.jpg: ignoring corrupt image/label: Label class 1065 exceeds dataset class count 1. Possible class labels are 0-0\n",
            "\u001b[34m\u001b[1mval: \u001b[0mWARNING ⚠️ /content/Scence-Text-Detection-4/valid/images/f7_sr_g3_20_jpeg.rf.cf3a9f50d0ecc5f0b9a3ed78793b67d8.jpg: ignoring corrupt image/label: Label class 987 exceeds dataset class count 1. Possible class labels are 0-0\n",
            "\u001b[34m\u001b[1mval: \u001b[0mWARNING ⚠️ /content/Scence-Text-Detection-4/valid/images/f7_sr_g3_2_jpeg.rf.221f0ffd717d8d988bd6f5246bfb70ff.jpg: ignoring corrupt image/label: Label class 2234 exceeds dataset class count 1. Possible class labels are 0-0\n",
            "\u001b[34m\u001b[1mval: \u001b[0mWARNING ⚠️ /content/Scence-Text-Detection-4/valid/images/f7_sr_g3_5_jpeg.rf.117f03ed2e63f7df84db38defc2c5252.jpg: ignoring corrupt image/label: Label class 1648 exceeds dataset class count 1. Possible class labels are 0-0\n",
            "\u001b[34m\u001b[1mval: \u001b[0mWARNING ⚠️ /content/Scence-Text-Detection-4/valid/images/f7_sr_g3_6_jpeg.rf.f076fe98b674781e55e95bc6a8368e98.jpg: ignoring corrupt image/label: Label class 982 exceeds dataset class count 1. Possible class labels are 0-0\n",
            "\u001b[34m\u001b[1mval: \u001b[0mWARNING ⚠️ /content/Scence-Text-Detection-4/valid/images/f7_sr_g3_7_jpeg.rf.ffc45295d55d4cb2b6a8d2bd94771ebf.jpg: ignoring corrupt image/label: Label class 982 exceeds dataset class count 1. Possible class labels are 0-0\n",
            "\u001b[34m\u001b[1mval: \u001b[0mWARNING ⚠️ /content/Scence-Text-Detection-4/valid/images/f7_sr_g3_9_jpeg.rf.4ca64057c592c05ab99f5c369ab6d7fb.jpg: ignoring corrupt image/label: Label class 963 exceeds dataset class count 1. Possible class labels are 0-0\n",
            "\u001b[34m\u001b[1mval: \u001b[0mWARNING ⚠️ /content/Scence-Text-Detection-4/valid/images/f8_sr_g3_14_jpeg.rf.86de7c7be31117515ee17e3d41888638.jpg: ignoring corrupt image/label: Label class 1950 exceeds dataset class count 1. Possible class labels are 0-0\n",
            "\u001b[34m\u001b[1mval: \u001b[0mWARNING ⚠️ /content/Scence-Text-Detection-4/valid/images/f8_sr_g3_15_jpeg.rf.30038280d1acbac95e8668f58760fa61.jpg: ignoring corrupt image/label: Label class 524 exceeds dataset class count 1. Possible class labels are 0-0\n",
            "\u001b[34m\u001b[1mval: \u001b[0mWARNING ⚠️ /content/Scence-Text-Detection-4/valid/images/f8_sr_g3_16_jpeg.rf.cc1610b885b1ba2a9606523807acf35a.jpg: ignoring corrupt image/label: Label class 2039 exceeds dataset class count 1. Possible class labels are 0-0\n",
            "\u001b[34m\u001b[1mval: \u001b[0mWARNING ⚠️ /content/Scence-Text-Detection-4/valid/images/f8_sr_g3_17_jpeg.rf.ff610581f39c19d36749f0670461a340.jpg: ignoring corrupt image/label: Label class 1923 exceeds dataset class count 1. Possible class labels are 0-0\n",
            "\u001b[34m\u001b[1mval: \u001b[0mWARNING ⚠️ /content/Scence-Text-Detection-4/valid/images/f8_sr_g3_18_jpeg.rf.bf2ff6dff0ee6feb8ff4c6c5c894a893.jpg: ignoring corrupt image/label: Label class 1937 exceeds dataset class count 1. Possible class labels are 0-0\n",
            "\u001b[34m\u001b[1mval: \u001b[0mWARNING ⚠️ /content/Scence-Text-Detection-4/valid/images/f8_sr_g3_7_jpeg.rf.219a44acec07f29d783888ce7354617f.jpg: ignoring corrupt image/label: Label class 1608 exceeds dataset class count 1. Possible class labels are 0-0\n",
            "\u001b[34m\u001b[1mval: \u001b[0mWARNING ⚠️ /content/Scence-Text-Detection-4/valid/images/f9_kl_g3_12_jpg.rf.962fbc9e7c94ea041c1f5a5e5ad8d72a.jpg: ignoring corrupt image/label: Label class 1952 exceeds dataset class count 1. Possible class labels are 0-0\n",
            "\u001b[34m\u001b[1mval: \u001b[0mWARNING ⚠️ /content/Scence-Text-Detection-4/valid/images/f9_kl_g3_13_jpg.rf.7632df42a943a8d74ac074fb323edd6c.jpg: ignoring corrupt image/label: Label class 1929 exceeds dataset class count 1. Possible class labels are 0-0\n",
            "\u001b[34m\u001b[1mval: \u001b[0mWARNING ⚠️ /content/Scence-Text-Detection-4/valid/images/f9_sr_g3_13_jpeg.rf.35a8a35fd22b1d9aa79b6ccd7a4d7a77.jpg: ignoring corrupt image/label: Label class 2282 exceeds dataset class count 1. Possible class labels are 0-0\n",
            "\u001b[34m\u001b[1mval: \u001b[0mWARNING ⚠️ /content/Scence-Text-Detection-4/valid/images/f9_sr_g3_14_jpeg.rf.df1e6bf1d66e44b7e0a5aed1a7f35569.jpg: ignoring corrupt image/label: Label class 1577 exceeds dataset class count 1. Possible class labels are 0-0\n",
            "\u001b[34m\u001b[1mval: \u001b[0mWARNING ⚠️ /content/Scence-Text-Detection-4/valid/images/f9_sr_g3_17_jpeg.rf.993918d91206fc255e817c2dc990d780.jpg: ignoring corrupt image/label: Label class 1598 exceeds dataset class count 1. Possible class labels are 0-0\n",
            "\u001b[34m\u001b[1mval: \u001b[0mWARNING ⚠️ /content/Scence-Text-Detection-4/valid/images/f9_sr_g3_18_jpeg.rf.e92bb1e927c363c8868166b4d1285da9.jpg: ignoring corrupt image/label: Label class 1742 exceeds dataset class count 1. Possible class labels are 0-0\n",
            "\u001b[34m\u001b[1mval: \u001b[0mWARNING ⚠️ /content/Scence-Text-Detection-4/valid/images/f9_sr_g3_20_jpeg.rf.6a1362cb22666b790aade98fdb8479e1.jpg: ignoring corrupt image/label: Label class 2045 exceeds dataset class count 1. Possible class labels are 0-0\n",
            "\u001b[34m\u001b[1mval: \u001b[0mWARNING ⚠️ /content/Scence-Text-Detection-4/valid/images/f9_sr_g3_2_jpeg.rf.c405f5884af6db86fe2caf7024b5bddb.jpg: ignoring corrupt image/label: Label class 2282 exceeds dataset class count 1. Possible class labels are 0-0\n",
            "\u001b[34m\u001b[1mval: \u001b[0mWARNING ⚠️ /content/Scence-Text-Detection-4/valid/images/f9_sr_g3_3_jpeg.rf.7aca7a96c792c0f96cda378baea9903a.jpg: ignoring corrupt image/label: Label class 2282 exceeds dataset class count 1. Possible class labels are 0-0\n",
            "\u001b[34m\u001b[1mval: \u001b[0mWARNING ⚠️ /content/Scence-Text-Detection-4/valid/images/f9_sr_g3_5_jpeg.rf.e01b1842845bf8b3a3a886e1ca906765.jpg: ignoring corrupt image/label: Label class 2282 exceeds dataset class count 1. Possible class labels are 0-0\n",
            "\u001b[34m\u001b[1mval: \u001b[0mWARNING ⚠️ /content/Scence-Text-Detection-4/valid/images/f9_sr_g3_6_jpeg.rf.43ac96ea0c0ac003992328a7ca0dae68.jpg: ignoring corrupt image/label: Label class 2282 exceeds dataset class count 1. Possible class labels are 0-0\n",
            "\u001b[34m\u001b[1mval: \u001b[0mWARNING ⚠️ /content/Scence-Text-Detection-4/valid/images/f9_sr_g3_7_jpeg.rf.4525c9115fdb664ab1794bd2b9fda65d.jpg: ignoring corrupt image/label: Label class 2282 exceeds dataset class count 1. Possible class labels are 0-0\n",
            "\u001b[34m\u001b[1mval: \u001b[0mWARNING ⚠️ /content/Scence-Text-Detection-4/valid/images/f9_sr_g3_8_jpeg.rf.110034e42a6d99ba0b5858f6fce25578.jpg: ignoring corrupt image/label: Label class 2282 exceeds dataset class count 1. Possible class labels are 0-0\n",
            "\u001b[34m\u001b[1mval: \u001b[0mWARNING ⚠️ /content/Scence-Text-Detection-4/valid/images/f9_sr_g3_9_jpeg.rf.e7479a8e4739a48fa076ed546413ed14.jpg: ignoring corrupt image/label: Label class 2282 exceeds dataset class count 1. Possible class labels are 0-0\n",
            "\u001b[34m\u001b[1mval: \u001b[0mWARNING ⚠️ /content/Scence-Text-Detection-4/valid/images/img13_ls_g3_11_jpg.rf.cf0534052f79337291c86e9fea33ab43.jpg: ignoring corrupt image/label: Label class 3 exceeds dataset class count 1. Possible class labels are 0-0\n",
            "\u001b[34m\u001b[1mval: \u001b[0mWARNING ⚠️ /content/Scence-Text-Detection-4/valid/images/img14_ls_g3_8_jpg.rf.f699c3f7ce62b5010292323e47da10c8.jpg: ignoring corrupt image/label: Label class 2 exceeds dataset class count 1. Possible class labels are 0-0\n",
            "\u001b[34m\u001b[1mval: \u001b[0mWARNING ⚠️ /content/Scence-Text-Detection-4/valid/images/img17_ls_g3_12_jpg.rf.a2db6eab88b5c9e42910f799515e2452.jpg: ignoring corrupt image/label: Label class 2 exceeds dataset class count 1. Possible class labels are 0-0\n",
            "\u001b[34m\u001b[1mval: \u001b[0mWARNING ⚠️ /content/Scence-Text-Detection-4/valid/images/img19_ls_g3_15_jpg.rf.388a0d164a399bf74ed06b77c39df3b7.jpg: ignoring corrupt image/label: Label class 2 exceeds dataset class count 1. Possible class labels are 0-0\n",
            "\u001b[34m\u001b[1mval: \u001b[0mWARNING ⚠️ /content/Scence-Text-Detection-4/valid/images/img2_ls_g3_19_jpg.rf.639eb783048cc2bc58f5eb21eef55716.jpg: ignoring corrupt image/label: Label class 2 exceeds dataset class count 1. Possible class labels are 0-0\n",
            "\u001b[34m\u001b[1mval: \u001b[0mWARNING ⚠️ /content/Scence-Text-Detection-4/valid/images/img6_ls_g3_9_jpg.rf.2e56e8bd80a9a1a24007775e7a730cf4.jpg: ignoring corrupt image/label: Label class 415 exceeds dataset class count 1. Possible class labels are 0-0\n",
            "\u001b[34m\u001b[1mval: \u001b[0mWARNING ⚠️ /content/Scence-Text-Detection-4/valid/images/img9_ls_g3_15_jpg.rf.a1a12041d46e5e058682cf08ebd83701.jpg: ignoring corrupt image/label: Label class 2045 exceeds dataset class count 1. Possible class labels are 0-0\n",
            "\u001b[34m\u001b[1mval: \u001b[0mWARNING ⚠️ /content/Scence-Text-Detection-4/valid/images/img_64_jpg.rf.408d6815154ba96da291ff4f186af3ec.jpg: ignoring corrupt image/label: Label class 2 exceeds dataset class count 1. Possible class labels are 0-0\n",
            "\u001b[34m\u001b[1mval: \u001b[0mWARNING ⚠️ /content/Scence-Text-Detection-4/valid/images/photo_18_2024-11-05_23-58-35_jpg.rf.3e404086713541ca279afcf66acba024.jpg: ignoring corrupt image/label: Label class 746 exceeds dataset class count 1. Possible class labels are 0-0\n",
            "\u001b[34m\u001b[1mval: \u001b[0mWARNING ⚠️ /content/Scence-Text-Detection-4/valid/images/photo_1_2024-11-02_22-10-57_jpg.rf.5b83137f0c4a4f4e10253d865a23b08f.jpg: ignoring corrupt image/label: Label class 864 exceeds dataset class count 1. Possible class labels are 0-0\n",
            "\u001b[34m\u001b[1mval: \u001b[0mWARNING ⚠️ /content/Scence-Text-Detection-4/valid/images/photo_2024-10-24-10-26-51_jpeg.rf.06eeaff0b44fc917b6b0d3e3332e4a5b.jpg: ignoring corrupt image/label: Label class 2283 exceeds dataset class count 1. Possible class labels are 0-0\n",
            "\u001b[34m\u001b[1mval: \u001b[0mWARNING ⚠️ /content/Scence-Text-Detection-4/valid/images/photo_2024-10-24-10-26-57_jpeg.rf.46fbced316062e54705c57387323bd15.jpg: ignoring corrupt image/label: Label class 2283 exceeds dataset class count 1. Possible class labels are 0-0\n",
            "\u001b[34m\u001b[1mval: \u001b[0mWARNING ⚠️ /content/Scence-Text-Detection-4/valid/images/photo_2024-10-24-10-26-58_jpeg.rf.5d3e9e00ec6e2796261ef0fe4679fb61.jpg: ignoring corrupt image/label: Label class 2283 exceeds dataset class count 1. Possible class labels are 0-0\n",
            "\u001b[34m\u001b[1mval: \u001b[0mWARNING ⚠️ /content/Scence-Text-Detection-4/valid/images/photo_2024-10-24-10-27-16_jpeg.rf.493bbbc59cfad9c53b629dc3f342cec9.jpg: ignoring corrupt image/label: Label class 2283 exceeds dataset class count 1. Possible class labels are 0-0\n",
            "\u001b[34m\u001b[1mval: \u001b[0mWARNING ⚠️ /content/Scence-Text-Detection-4/valid/images/photo_2024-10-24-10-27-29-1-_jpeg.rf.05f96b701e1e6e00df33094f783925d8.jpg: ignoring corrupt image/label: Label class 2283 exceeds dataset class count 1. Possible class labels are 0-0\n",
            "\u001b[34m\u001b[1mval: \u001b[0mWARNING ⚠️ /content/Scence-Text-Detection-4/valid/images/photo_2024-10-24-10-27-39_jpeg.rf.00417423a89eaee6dfb96dd4e2668a9d.jpg: ignoring corrupt image/label: Label class 2283 exceeds dataset class count 1. Possible class labels are 0-0\n",
            "\u001b[34m\u001b[1mval: \u001b[0mWARNING ⚠️ /content/Scence-Text-Detection-4/valid/images/photo_2024-10-24-10-27-41_jpeg.rf.46c0db817b073cf46496192ddb697e15.jpg: ignoring corrupt image/label: Label class 2283 exceeds dataset class count 1. Possible class labels are 0-0\n",
            "\u001b[34m\u001b[1mval: \u001b[0mWARNING ⚠️ /content/Scence-Text-Detection-4/valid/images/photo_2024-10-24-10-27-55_jpeg.rf.9eca5ccc801f432ea7722e1080b9ceab.jpg: ignoring corrupt image/label: Label class 2283 exceeds dataset class count 1. Possible class labels are 0-0\n",
            "\u001b[34m\u001b[1mval: \u001b[0mWARNING ⚠️ /content/Scence-Text-Detection-4/valid/images/photo_2024-10-24-10-28-09_jpeg.rf.7f1607e40a8a39d6a19e310b8cd29c6f.jpg: ignoring corrupt image/label: Label class 2283 exceeds dataset class count 1. Possible class labels are 0-0\n",
            "\u001b[34m\u001b[1mval: \u001b[0mWARNING ⚠️ /content/Scence-Text-Detection-4/valid/images/photo_2024-10-31_13-53-22_jpg.rf.259a0cbeb9bf351bc33ffdaedf1f07eb.jpg: ignoring corrupt image/label: Label class 5 exceeds dataset class count 1. Possible class labels are 0-0\n",
            "\u001b[34m\u001b[1mval: \u001b[0mWARNING ⚠️ /content/Scence-Text-Detection-4/valid/images/photo_26_2024-11-02_17-08-43_jpg.rf.7b773e57592f286015bc0a5940631692.jpg: ignoring corrupt image/label: Label class 1069 exceeds dataset class count 1. Possible class labels are 0-0\n",
            "\u001b[34m\u001b[1mval: \u001b[0mWARNING ⚠️ /content/Scence-Text-Detection-4/valid/images/photo_28_2024-11-05_23-58-22_jpg.rf.88346fb5cf22a9bfa28570205f123982.jpg: ignoring corrupt image/label: Label class 2 exceeds dataset class count 1. Possible class labels are 0-0\n",
            "\u001b[34m\u001b[1mval: \u001b[0mWARNING ⚠️ /content/Scence-Text-Detection-4/valid/images/photo_30_2024-11-02_17-08-43_jpg.rf.99ef644dd735489cd5d9c2a91b7924b3.jpg: ignoring corrupt image/label: Label class 807 exceeds dataset class count 1. Possible class labels are 0-0\n",
            "\u001b[34m\u001b[1mval: \u001b[0mWARNING ⚠️ /content/Scence-Text-Detection-4/valid/images/photo_31_2024-11-05_23-58-22_jpg.rf.74ff02c1327e5c49f03ba19b10d34d9f.jpg: ignoring corrupt image/label: Label class 2 exceeds dataset class count 1. Possible class labels are 0-0\n",
            "\u001b[34m\u001b[1mval: \u001b[0mWARNING ⚠️ /content/Scence-Text-Detection-4/valid/images/photo_35_2024-10-26_23-16-21_jpg.rf.c61e8d0fd8fa27367a44fd0401ce776a.jpg: ignoring corrupt image/label: Label class 2 exceeds dataset class count 1. Possible class labels are 0-0\n",
            "\u001b[34m\u001b[1mval: \u001b[0mWARNING ⚠️ /content/Scence-Text-Detection-4/valid/images/photo_37_2024-10-26_23-16-21_jpg.rf.56d6164978d56871d6827adece5a03da.jpg: ignoring corrupt image/label: Label class 1526 exceeds dataset class count 1. Possible class labels are 0-0\n",
            "\u001b[34m\u001b[1mval: \u001b[0mWARNING ⚠️ /content/Scence-Text-Detection-4/valid/images/photo_55_2024-11-05_23-58-35_jpg.rf.9d77033d4bc7a9bfca4b237ab5b22581.jpg: ignoring corrupt image/label: Label class 928 exceeds dataset class count 1. Possible class labels are 0-0\n",
            "\u001b[34m\u001b[1mval: \u001b[0mWARNING ⚠️ /content/Scence-Text-Detection-4/valid/images/photo_56_2024-11-05_23-58-35_jpg.rf.0632e7554fe37cd6c718c26373e7d5a4.jpg: ignoring corrupt image/label: Label class 855 exceeds dataset class count 1. Possible class labels are 0-0\n",
            "\u001b[34m\u001b[1mval: \u001b[0mWARNING ⚠️ /content/Scence-Text-Detection-4/valid/images/photo_78_2024-11-06_16-34-45_jpg.rf.a993027ce4c01fb1ffd3f169d2f8da14.jpg: ignoring corrupt image/label: Label class 2045 exceeds dataset class count 1. Possible class labels are 0-0\n",
            "\u001b[34m\u001b[1mval: \u001b[0mWARNING ⚠️ /content/Scence-Text-Detection-4/valid/images/photo_86_2024-11-06_16-34-45_jpg.rf.f06c0e182cb6b82ad5806a67add82833.jpg: ignoring corrupt image/label: Label class 1566 exceeds dataset class count 1. Possible class labels are 0-0\n",
            "\u001b[34m\u001b[1mval: \u001b[0mWARNING ⚠️ /content/Scence-Text-Detection-4/valid/images/photo_89_2024-11-05_23-58-22_jpg.rf.3ac8f84980086ff1ee69d03f81d23608.jpg: ignoring corrupt image/label: Label class 4 exceeds dataset class count 1. Possible class labels are 0-0\n",
            "\u001b[34m\u001b[1mval: \u001b[0mWARNING ⚠️ /content/Scence-Text-Detection-4/valid/images/sy_-222-_jpg.rf.37ce76ac85edde1df273883ee1feebbc.jpg: ignoring corrupt image/label: Label class 2041 exceeds dataset class count 1. Possible class labels are 0-0\n",
            "\u001b[34m\u001b[1mval: \u001b[0mWARNING ⚠️ /content/Scence-Text-Detection-4/valid/images/sy_-295-_jpg.rf.5fb54c99db541e13266ec62acd0d430f.jpg: ignoring corrupt image/label: Label class 490 exceeds dataset class count 1. Possible class labels are 0-0\n",
            "\u001b[34m\u001b[1mval: \u001b[0mWARNING ⚠️ /content/Scence-Text-Detection-4/valid/images/sy_-321-_jpg.rf.d55cd66dc12783c07166329d87caabb8.jpg: ignoring corrupt image/label: Label class 1794 exceeds dataset class count 1. Possible class labels are 0-0\n",
            "\u001b[34m\u001b[1mval: \u001b[0mWARNING ⚠️ /content/Scence-Text-Detection-4/valid/images/sy_-359-_jpg.rf.53f1b0c4d646cb9b8df9815d4df78b84.jpg: ignoring corrupt image/label: Label class 673 exceeds dataset class count 1. Possible class labels are 0-0\n",
            "\u001b[34m\u001b[1mval: \u001b[0mWARNING ⚠️ /content/Scence-Text-Detection-4/valid/images/sy_-364-_jpg.rf.67455f1243fb95edd61ddc65f1cb96c1.jpg: ignoring corrupt image/label: Label class 4 exceeds dataset class count 1. Possible class labels are 0-0\n",
            "\u001b[34m\u001b[1mval: \u001b[0mWARNING ⚠️ /content/Scence-Text-Detection-4/valid/images/sy_-454-_jpg.rf.d94a88d1d4afa899b287a36a836f9909.jpg: ignoring corrupt image/label: Label class 4 exceeds dataset class count 1. Possible class labels are 0-0\n",
            "\u001b[34m\u001b[1mval: \u001b[0mWARNING ⚠️ /content/Scence-Text-Detection-4/valid/images/sy_-91-_jpg.rf.894c488b4ef0a5cfec09959ee47621a1.jpg: ignoring corrupt image/label: Label class 2 exceeds dataset class count 1. Possible class labels are 0-0\n",
            "\u001b[34m\u001b[1mval: \u001b[0mWARNING ⚠️ /content/Scence-Text-Detection-4/valid/images/sy_-96-_jpg.rf.6f4a70d85ca36924cc1f01d2ee9954e6.jpg: ignoring corrupt image/label: Label class 2 exceeds dataset class count 1. Possible class labels are 0-0\n"
          ]
        },
        {
          "output_type": "stream",
          "name": "stderr",
          "text": [
            "\n"
          ]
        },
        {
          "output_type": "stream",
          "name": "stdout",
          "text": [
            "Plotting labels to runs/detect/train2/labels.jpg... \n",
            "\u001b[34m\u001b[1moptimizer:\u001b[0m 'optimizer=auto' found, ignoring 'lr0=0.01' and 'momentum=0.937' and determining best 'optimizer', 'lr0' and 'momentum' automatically... \n",
            "\u001b[34m\u001b[1moptimizer:\u001b[0m AdamW(lr=0.002, momentum=0.9) with parameter groups 57 weight(decay=0.0), 64 weight(decay=0.0005), 63 bias(decay=0.0)\n",
            "\u001b[34m\u001b[1mTensorBoard: \u001b[0mmodel graph visualization added ✅\n",
            "Image sizes 640 train, 640 val\n",
            "Using 2 dataloader workers\n",
            "Logging results to \u001b[1mruns/detect/train2\u001b[0m\n",
            "Starting training for 100 epochs...\n",
            "\n",
            "      Epoch    GPU_mem   box_loss   cls_loss   dfl_loss  Instances       Size\n"
          ]
        },
        {
          "output_type": "stream",
          "name": "stderr",
          "text": [
            "      1/100      4.19G      1.728      2.292      1.569         28        640: 100%|██████████| 196/196 [01:05<00:00,  2.97it/s]\n",
            "                 Class     Images  Instances      Box(P          R      mAP50  mAP50-95): 100%|██████████| 14/14 [00:03<00:00,  4.00it/s]\n"
          ]
        },
        {
          "output_type": "stream",
          "name": "stdout",
          "text": [
            "                   all        437        816      0.519      0.396      0.411      0.215\n",
            "\n",
            "      Epoch    GPU_mem   box_loss   cls_loss   dfl_loss  Instances       Size\n"
          ]
        },
        {
          "output_type": "stream",
          "name": "stderr",
          "text": [
            "      2/100      4.19G      1.718      1.855      1.561         20        640: 100%|██████████| 196/196 [01:01<00:00,  3.17it/s]\n",
            "                 Class     Images  Instances      Box(P          R      mAP50  mAP50-95): 100%|██████████| 14/14 [00:05<00:00,  2.53it/s]\n"
          ]
        },
        {
          "output_type": "stream",
          "name": "stdout",
          "text": [
            "                   all        437        816      0.631       0.35      0.397      0.209\n",
            "\n",
            "      Epoch    GPU_mem   box_loss   cls_loss   dfl_loss  Instances       Size\n"
          ]
        },
        {
          "output_type": "stream",
          "name": "stderr",
          "text": [
            "      3/100      4.16G      1.765      1.823      1.615         17        640: 100%|██████████| 196/196 [01:00<00:00,  3.26it/s]\n",
            "                 Class     Images  Instances      Box(P          R      mAP50  mAP50-95): 100%|██████████| 14/14 [00:05<00:00,  2.68it/s]"
          ]
        },
        {
          "output_type": "stream",
          "name": "stdout",
          "text": [
            "                   all        437        816      0.674      0.479      0.494      0.279\n"
          ]
        },
        {
          "output_type": "stream",
          "name": "stderr",
          "text": [
            "\n"
          ]
        },
        {
          "output_type": "stream",
          "name": "stdout",
          "text": [
            "\n",
            "      Epoch    GPU_mem   box_loss   cls_loss   dfl_loss  Instances       Size\n"
          ]
        },
        {
          "output_type": "stream",
          "name": "stderr",
          "text": [
            "      4/100      4.19G      1.689      1.713      1.578         13        640: 100%|██████████| 196/196 [00:59<00:00,  3.27it/s]\n",
            "                 Class     Images  Instances      Box(P          R      mAP50  mAP50-95): 100%|██████████| 14/14 [00:03<00:00,  4.07it/s]\n"
          ]
        },
        {
          "output_type": "stream",
          "name": "stdout",
          "text": [
            "                   all        437        816      0.684       0.47        0.5      0.266\n",
            "\n",
            "      Epoch    GPU_mem   box_loss   cls_loss   dfl_loss  Instances       Size\n"
          ]
        },
        {
          "output_type": "stream",
          "name": "stderr",
          "text": [
            "      5/100      4.15G      1.655      1.615      1.539         31        640: 100%|██████████| 196/196 [01:03<00:00,  3.07it/s]\n",
            "                 Class     Images  Instances      Box(P          R      mAP50  mAP50-95): 100%|██████████| 14/14 [00:03<00:00,  3.63it/s]\n"
          ]
        },
        {
          "output_type": "stream",
          "name": "stdout",
          "text": [
            "                   all        437        816      0.748      0.521       0.55      0.319\n",
            "\n",
            "      Epoch    GPU_mem   box_loss   cls_loss   dfl_loss  Instances       Size\n"
          ]
        },
        {
          "output_type": "stream",
          "name": "stderr",
          "text": [
            "      6/100      4.19G      1.609      1.568      1.509         13        640: 100%|██████████| 196/196 [00:59<00:00,  3.27it/s]\n",
            "                 Class     Images  Instances      Box(P          R      mAP50  mAP50-95): 100%|██████████| 14/14 [00:05<00:00,  2.35it/s]"
          ]
        },
        {
          "output_type": "stream",
          "name": "stdout",
          "text": [
            "                   all        437        816      0.808        0.5      0.558      0.331\n"
          ]
        },
        {
          "output_type": "stream",
          "name": "stderr",
          "text": [
            "\n"
          ]
        },
        {
          "output_type": "stream",
          "name": "stdout",
          "text": [
            "\n",
            "      Epoch    GPU_mem   box_loss   cls_loss   dfl_loss  Instances       Size\n"
          ]
        },
        {
          "output_type": "stream",
          "name": "stderr",
          "text": [
            "      7/100      4.17G       1.59      1.495      1.486         19        640: 100%|██████████| 196/196 [01:00<00:00,  3.22it/s]\n",
            "                 Class     Images  Instances      Box(P          R      mAP50  mAP50-95): 100%|██████████| 14/14 [00:03<00:00,  3.80it/s]"
          ]
        },
        {
          "output_type": "stream",
          "name": "stdout",
          "text": [
            "                   all        437        816      0.728      0.531      0.562      0.329\n"
          ]
        },
        {
          "output_type": "stream",
          "name": "stderr",
          "text": [
            "\n"
          ]
        },
        {
          "output_type": "stream",
          "name": "stdout",
          "text": [
            "\n",
            "      Epoch    GPU_mem   box_loss   cls_loss   dfl_loss  Instances       Size\n"
          ]
        },
        {
          "output_type": "stream",
          "name": "stderr",
          "text": [
            "      8/100      4.16G       1.57      1.508      1.488         11        640: 100%|██████████| 196/196 [01:02<00:00,  3.16it/s]\n",
            "                 Class     Images  Instances      Box(P          R      mAP50  mAP50-95): 100%|██████████| 14/14 [00:03<00:00,  4.00it/s]"
          ]
        },
        {
          "output_type": "stream",
          "name": "stdout",
          "text": [
            "                   all        437        816      0.741      0.545      0.572      0.329\n"
          ]
        },
        {
          "output_type": "stream",
          "name": "stderr",
          "text": [
            "\n"
          ]
        },
        {
          "output_type": "stream",
          "name": "stdout",
          "text": [
            "\n",
            "      Epoch    GPU_mem   box_loss   cls_loss   dfl_loss  Instances       Size\n"
          ]
        },
        {
          "output_type": "stream",
          "name": "stderr",
          "text": [
            "      9/100      4.14G      1.559      1.475      1.484         22        640: 100%|██████████| 196/196 [01:02<00:00,  3.15it/s]\n",
            "                 Class     Images  Instances      Box(P          R      mAP50  mAP50-95): 100%|██████████| 14/14 [00:04<00:00,  3.32it/s]"
          ]
        },
        {
          "output_type": "stream",
          "name": "stdout",
          "text": [
            "                   all        437        816      0.788      0.544      0.595      0.358\n"
          ]
        },
        {
          "output_type": "stream",
          "name": "stderr",
          "text": [
            "\n"
          ]
        },
        {
          "output_type": "stream",
          "name": "stdout",
          "text": [
            "\n",
            "      Epoch    GPU_mem   box_loss   cls_loss   dfl_loss  Instances       Size\n"
          ]
        },
        {
          "output_type": "stream",
          "name": "stderr",
          "text": [
            "     10/100      4.15G       1.52      1.431      1.453         21        640: 100%|██████████| 196/196 [01:00<00:00,  3.23it/s]\n",
            "                 Class     Images  Instances      Box(P          R      mAP50  mAP50-95): 100%|██████████| 14/14 [00:05<00:00,  2.51it/s]"
          ]
        },
        {
          "output_type": "stream",
          "name": "stdout",
          "text": [
            "                   all        437        816      0.786      0.551        0.6      0.357\n"
          ]
        },
        {
          "output_type": "stream",
          "name": "stderr",
          "text": [
            "\n"
          ]
        },
        {
          "output_type": "stream",
          "name": "stdout",
          "text": [
            "\n",
            "      Epoch    GPU_mem   box_loss   cls_loss   dfl_loss  Instances       Size\n"
          ]
        },
        {
          "output_type": "stream",
          "name": "stderr",
          "text": [
            "     11/100      4.16G      1.517      1.434      1.452         13        640: 100%|██████████| 196/196 [01:01<00:00,  3.20it/s]\n",
            "                 Class     Images  Instances      Box(P          R      mAP50  mAP50-95): 100%|██████████| 14/14 [00:03<00:00,  3.62it/s]"
          ]
        },
        {
          "output_type": "stream",
          "name": "stdout",
          "text": [
            "                   all        437        816      0.818      0.564      0.615      0.393\n"
          ]
        },
        {
          "output_type": "stream",
          "name": "stderr",
          "text": [
            "\n"
          ]
        },
        {
          "output_type": "stream",
          "name": "stdout",
          "text": [
            "\n",
            "      Epoch    GPU_mem   box_loss   cls_loss   dfl_loss  Instances       Size\n"
          ]
        },
        {
          "output_type": "stream",
          "name": "stderr",
          "text": [
            "     12/100      4.15G      1.509      1.402      1.449         19        640: 100%|██████████| 196/196 [01:02<00:00,  3.14it/s]\n",
            "                 Class     Images  Instances      Box(P          R      mAP50  mAP50-95): 100%|██████████| 14/14 [00:03<00:00,  3.99it/s]\n"
          ]
        },
        {
          "output_type": "stream",
          "name": "stdout",
          "text": [
            "                   all        437        816      0.849      0.554      0.625      0.382\n",
            "\n",
            "      Epoch    GPU_mem   box_loss   cls_loss   dfl_loss  Instances       Size\n"
          ]
        },
        {
          "output_type": "stream",
          "name": "stderr",
          "text": [
            "     13/100      4.15G      1.481      1.327      1.427         19        640: 100%|██████████| 196/196 [01:03<00:00,  3.07it/s]\n",
            "                 Class     Images  Instances      Box(P          R      mAP50  mAP50-95): 100%|██████████| 14/14 [00:04<00:00,  2.93it/s]"
          ]
        },
        {
          "output_type": "stream",
          "name": "stdout",
          "text": [
            "                   all        437        816      0.818       0.59      0.634      0.394\n"
          ]
        },
        {
          "output_type": "stream",
          "name": "stderr",
          "text": [
            "\n"
          ]
        },
        {
          "output_type": "stream",
          "name": "stdout",
          "text": [
            "\n",
            "      Epoch    GPU_mem   box_loss   cls_loss   dfl_loss  Instances       Size\n"
          ]
        },
        {
          "output_type": "stream",
          "name": "stderr",
          "text": [
            "     14/100      4.14G      1.495       1.36      1.443         17        640: 100%|██████████| 196/196 [01:00<00:00,  3.27it/s]\n",
            "                 Class     Images  Instances      Box(P          R      mAP50  mAP50-95): 100%|██████████| 14/14 [00:05<00:00,  2.38it/s]"
          ]
        },
        {
          "output_type": "stream",
          "name": "stdout",
          "text": [
            "                   all        437        816      0.864      0.577       0.63        0.4\n"
          ]
        },
        {
          "output_type": "stream",
          "name": "stderr",
          "text": [
            "\n"
          ]
        },
        {
          "output_type": "stream",
          "name": "stdout",
          "text": [
            "\n",
            "      Epoch    GPU_mem   box_loss   cls_loss   dfl_loss  Instances       Size\n"
          ]
        },
        {
          "output_type": "stream",
          "name": "stderr",
          "text": [
            "     15/100      4.17G      1.445      1.306      1.413         32        640: 100%|██████████| 196/196 [01:00<00:00,  3.22it/s]\n",
            "                 Class     Images  Instances      Box(P          R      mAP50  mAP50-95): 100%|██████████| 14/14 [00:03<00:00,  3.64it/s]"
          ]
        },
        {
          "output_type": "stream",
          "name": "stdout",
          "text": [
            "                   all        437        816      0.797      0.567      0.612      0.389\n"
          ]
        },
        {
          "output_type": "stream",
          "name": "stderr",
          "text": [
            "\n"
          ]
        },
        {
          "output_type": "stream",
          "name": "stdout",
          "text": [
            "\n",
            "      Epoch    GPU_mem   box_loss   cls_loss   dfl_loss  Instances       Size\n"
          ]
        },
        {
          "output_type": "stream",
          "name": "stderr",
          "text": [
            "     16/100      4.16G       1.47      1.338      1.426         27        640: 100%|██████████| 196/196 [01:04<00:00,  3.06it/s]\n",
            "                 Class     Images  Instances      Box(P          R      mAP50  mAP50-95): 100%|██████████| 14/14 [00:03<00:00,  3.85it/s]"
          ]
        },
        {
          "output_type": "stream",
          "name": "stdout",
          "text": [
            "                   all        437        816      0.803      0.586       0.62      0.401\n"
          ]
        },
        {
          "output_type": "stream",
          "name": "stderr",
          "text": [
            "\n"
          ]
        },
        {
          "output_type": "stream",
          "name": "stdout",
          "text": [
            "\n",
            "      Epoch    GPU_mem   box_loss   cls_loss   dfl_loss  Instances       Size\n"
          ]
        },
        {
          "output_type": "stream",
          "name": "stderr",
          "text": [
            "     17/100      4.18G      1.447      1.323       1.42         18        640: 100%|██████████| 196/196 [01:03<00:00,  3.11it/s]\n",
            "                 Class     Images  Instances      Box(P          R      mAP50  mAP50-95): 100%|██████████| 14/14 [00:05<00:00,  2.77it/s]\n"
          ]
        },
        {
          "output_type": "stream",
          "name": "stdout",
          "text": [
            "                   all        437        816      0.811      0.594      0.627      0.398\n",
            "\n",
            "      Epoch    GPU_mem   box_loss   cls_loss   dfl_loss  Instances       Size\n"
          ]
        },
        {
          "output_type": "stream",
          "name": "stderr",
          "text": [
            "     18/100      4.14G       1.43      1.287      1.404         23        640: 100%|██████████| 196/196 [01:00<00:00,  3.25it/s]\n",
            "                 Class     Images  Instances      Box(P          R      mAP50  mAP50-95): 100%|██████████| 14/14 [00:05<00:00,  2.74it/s]"
          ]
        },
        {
          "output_type": "stream",
          "name": "stdout",
          "text": [
            "                   all        437        816      0.803      0.588      0.627      0.391\n"
          ]
        },
        {
          "output_type": "stream",
          "name": "stderr",
          "text": [
            "\n"
          ]
        },
        {
          "output_type": "stream",
          "name": "stdout",
          "text": [
            "\n",
            "      Epoch    GPU_mem   box_loss   cls_loss   dfl_loss  Instances       Size\n"
          ]
        },
        {
          "output_type": "stream",
          "name": "stderr",
          "text": [
            "     19/100      4.17G      1.434      1.289        1.4         29        640: 100%|██████████| 196/196 [01:00<00:00,  3.22it/s]\n",
            "                 Class     Images  Instances      Box(P          R      mAP50  mAP50-95): 100%|██████████| 14/14 [00:03<00:00,  3.86it/s]\n"
          ]
        },
        {
          "output_type": "stream",
          "name": "stdout",
          "text": [
            "                   all        437        816      0.841      0.588      0.633      0.419\n",
            "\n",
            "      Epoch    GPU_mem   box_loss   cls_loss   dfl_loss  Instances       Size\n"
          ]
        },
        {
          "output_type": "stream",
          "name": "stderr",
          "text": [
            "     20/100      4.16G      1.414      1.265      1.398         17        640: 100%|██████████| 196/196 [01:03<00:00,  3.07it/s]\n",
            "                 Class     Images  Instances      Box(P          R      mAP50  mAP50-95): 100%|██████████| 14/14 [00:03<00:00,  3.96it/s]\n"
          ]
        },
        {
          "output_type": "stream",
          "name": "stdout",
          "text": [
            "                   all        437        816      0.858      0.566      0.635      0.411\n",
            "\n",
            "      Epoch    GPU_mem   box_loss   cls_loss   dfl_loss  Instances       Size\n"
          ]
        },
        {
          "output_type": "stream",
          "name": "stderr",
          "text": [
            "     21/100      4.17G      1.412      1.245      1.393         18        640: 100%|██████████| 196/196 [01:02<00:00,  3.13it/s]\n",
            "                 Class     Images  Instances      Box(P          R      mAP50  mAP50-95): 100%|██████████| 14/14 [00:05<00:00,  2.63it/s]"
          ]
        },
        {
          "output_type": "stream",
          "name": "stdout",
          "text": [
            "                   all        437        816       0.86      0.574      0.638      0.414\n"
          ]
        },
        {
          "output_type": "stream",
          "name": "stderr",
          "text": [
            "\n"
          ]
        },
        {
          "output_type": "stream",
          "name": "stdout",
          "text": [
            "\n",
            "      Epoch    GPU_mem   box_loss   cls_loss   dfl_loss  Instances       Size\n"
          ]
        },
        {
          "output_type": "stream",
          "name": "stderr",
          "text": [
            "     22/100      4.16G      1.409      1.265       1.39         19        640: 100%|██████████| 196/196 [01:00<00:00,  3.23it/s]\n",
            "                 Class     Images  Instances      Box(P          R      mAP50  mAP50-95): 100%|██████████| 14/14 [00:04<00:00,  3.25it/s]"
          ]
        },
        {
          "output_type": "stream",
          "name": "stdout",
          "text": [
            "                   all        437        816      0.854      0.562      0.625      0.413\n"
          ]
        },
        {
          "output_type": "stream",
          "name": "stderr",
          "text": [
            "\n"
          ]
        },
        {
          "output_type": "stream",
          "name": "stdout",
          "text": [
            "\n",
            "      Epoch    GPU_mem   box_loss   cls_loss   dfl_loss  Instances       Size\n"
          ]
        },
        {
          "output_type": "stream",
          "name": "stderr",
          "text": [
            "     23/100      4.18G       1.41       1.26      1.389         18        640: 100%|██████████| 196/196 [01:02<00:00,  3.16it/s]\n",
            "                 Class     Images  Instances      Box(P          R      mAP50  mAP50-95): 100%|██████████| 14/14 [00:03<00:00,  3.93it/s]\n"
          ]
        },
        {
          "output_type": "stream",
          "name": "stdout",
          "text": [
            "                   all        437        816      0.842      0.597      0.644       0.41\n",
            "\n",
            "      Epoch    GPU_mem   box_loss   cls_loss   dfl_loss  Instances       Size\n"
          ]
        },
        {
          "output_type": "stream",
          "name": "stderr",
          "text": [
            "     24/100      4.19G       1.39       1.22      1.374         17        640: 100%|██████████| 196/196 [01:03<00:00,  3.09it/s]\n",
            "                 Class     Images  Instances      Box(P          R      mAP50  mAP50-95): 100%|██████████| 14/14 [00:04<00:00,  3.46it/s]"
          ]
        },
        {
          "output_type": "stream",
          "name": "stdout",
          "text": [
            "                   all        437        816      0.854        0.6      0.651       0.43\n"
          ]
        },
        {
          "output_type": "stream",
          "name": "stderr",
          "text": [
            "\n"
          ]
        },
        {
          "output_type": "stream",
          "name": "stdout",
          "text": [
            "\n",
            "      Epoch    GPU_mem   box_loss   cls_loss   dfl_loss  Instances       Size\n"
          ]
        },
        {
          "output_type": "stream",
          "name": "stderr",
          "text": [
            "     25/100      4.14G      1.383      1.224      1.372         13        640: 100%|██████████| 196/196 [01:01<00:00,  3.21it/s]\n",
            "                 Class     Images  Instances      Box(P          R      mAP50  mAP50-95): 100%|██████████| 14/14 [00:05<00:00,  2.33it/s]"
          ]
        },
        {
          "output_type": "stream",
          "name": "stdout",
          "text": [
            "                   all        437        816      0.838      0.598      0.645      0.416\n"
          ]
        },
        {
          "output_type": "stream",
          "name": "stderr",
          "text": [
            "\n"
          ]
        },
        {
          "output_type": "stream",
          "name": "stdout",
          "text": [
            "\n",
            "      Epoch    GPU_mem   box_loss   cls_loss   dfl_loss  Instances       Size\n"
          ]
        },
        {
          "output_type": "stream",
          "name": "stderr",
          "text": [
            "     26/100      4.18G      1.384       1.22      1.376         10        640: 100%|██████████| 196/196 [01:01<00:00,  3.17it/s]\n",
            "                 Class     Images  Instances      Box(P          R      mAP50  mAP50-95): 100%|██████████| 14/14 [00:03<00:00,  3.83it/s]"
          ]
        },
        {
          "output_type": "stream",
          "name": "stdout",
          "text": [
            "                   all        437        816      0.877      0.588      0.644      0.416\n"
          ]
        },
        {
          "output_type": "stream",
          "name": "stderr",
          "text": [
            "\n"
          ]
        },
        {
          "output_type": "stream",
          "name": "stdout",
          "text": [
            "\n",
            "      Epoch    GPU_mem   box_loss   cls_loss   dfl_loss  Instances       Size\n"
          ]
        },
        {
          "output_type": "stream",
          "name": "stderr",
          "text": [
            "     27/100      4.17G      1.368      1.187      1.361         11        640: 100%|██████████| 196/196 [01:02<00:00,  3.12it/s]\n",
            "                 Class     Images  Instances      Box(P          R      mAP50  mAP50-95): 100%|██████████| 14/14 [00:03<00:00,  3.90it/s]\n"
          ]
        },
        {
          "output_type": "stream",
          "name": "stdout",
          "text": [
            "                   all        437        816      0.882      0.593      0.643       0.41\n",
            "\n",
            "      Epoch    GPU_mem   box_loss   cls_loss   dfl_loss  Instances       Size\n"
          ]
        },
        {
          "output_type": "stream",
          "name": "stderr",
          "text": [
            "     28/100      4.14G      1.377      1.191      1.363         12        640: 100%|██████████| 196/196 [01:00<00:00,  3.26it/s]\n",
            "                 Class     Images  Instances      Box(P          R      mAP50  mAP50-95): 100%|██████████| 14/14 [00:05<00:00,  2.35it/s]"
          ]
        },
        {
          "output_type": "stream",
          "name": "stdout",
          "text": [
            "                   all        437        816      0.877      0.592       0.65      0.425\n"
          ]
        },
        {
          "output_type": "stream",
          "name": "stderr",
          "text": [
            "\n"
          ]
        },
        {
          "output_type": "stream",
          "name": "stdout",
          "text": [
            "\n",
            "      Epoch    GPU_mem   box_loss   cls_loss   dfl_loss  Instances       Size\n"
          ]
        },
        {
          "output_type": "stream",
          "name": "stderr",
          "text": [
            "     29/100      4.14G      1.363      1.169      1.358         28        640: 100%|██████████| 196/196 [00:59<00:00,  3.30it/s]\n",
            "                 Class     Images  Instances      Box(P          R      mAP50  mAP50-95): 100%|██████████| 14/14 [00:03<00:00,  3.57it/s]"
          ]
        },
        {
          "output_type": "stream",
          "name": "stdout",
          "text": [
            "                   all        437        816      0.867      0.608      0.658      0.427\n"
          ]
        },
        {
          "output_type": "stream",
          "name": "stderr",
          "text": [
            "\n"
          ]
        },
        {
          "output_type": "stream",
          "name": "stdout",
          "text": [
            "\n",
            "      Epoch    GPU_mem   box_loss   cls_loss   dfl_loss  Instances       Size\n"
          ]
        },
        {
          "output_type": "stream",
          "name": "stderr",
          "text": [
            "     30/100      4.18G      1.363       1.19       1.37         15        640: 100%|██████████| 196/196 [01:02<00:00,  3.12it/s]\n",
            "                 Class     Images  Instances      Box(P          R      mAP50  mAP50-95): 100%|██████████| 14/14 [00:03<00:00,  3.82it/s]\n"
          ]
        },
        {
          "output_type": "stream",
          "name": "stdout",
          "text": [
            "                   all        437        816      0.871       0.62       0.66      0.425\n",
            "\n",
            "      Epoch    GPU_mem   box_loss   cls_loss   dfl_loss  Instances       Size\n"
          ]
        },
        {
          "output_type": "stream",
          "name": "stderr",
          "text": [
            "     31/100      4.14G      1.354      1.182      1.362         13        640: 100%|██████████| 196/196 [01:00<00:00,  3.26it/s]\n",
            "                 Class     Images  Instances      Box(P          R      mAP50  mAP50-95): 100%|██████████| 14/14 [00:05<00:00,  2.38it/s]\n"
          ]
        },
        {
          "output_type": "stream",
          "name": "stdout",
          "text": [
            "                   all        437        816      0.828      0.615      0.643      0.422\n",
            "\n",
            "      Epoch    GPU_mem   box_loss   cls_loss   dfl_loss  Instances       Size\n"
          ]
        },
        {
          "output_type": "stream",
          "name": "stderr",
          "text": [
            "     32/100      4.14G      1.349       1.17      1.343         29        640: 100%|██████████| 196/196 [00:58<00:00,  3.33it/s]\n",
            "                 Class     Images  Instances      Box(P          R      mAP50  mAP50-95): 100%|██████████| 14/14 [00:04<00:00,  3.11it/s]"
          ]
        },
        {
          "output_type": "stream",
          "name": "stdout",
          "text": [
            "                   all        437        816      0.883      0.615      0.665      0.429\n"
          ]
        },
        {
          "output_type": "stream",
          "name": "stderr",
          "text": [
            "\n"
          ]
        },
        {
          "output_type": "stream",
          "name": "stdout",
          "text": [
            "\n",
            "      Epoch    GPU_mem   box_loss   cls_loss   dfl_loss  Instances       Size\n"
          ]
        },
        {
          "output_type": "stream",
          "name": "stderr",
          "text": [
            "     33/100      4.16G      1.342      1.153      1.339         20        640: 100%|██████████| 196/196 [01:01<00:00,  3.17it/s]\n",
            "                 Class     Images  Instances      Box(P          R      mAP50  mAP50-95): 100%|██████████| 14/14 [00:03<00:00,  3.94it/s]\n"
          ]
        },
        {
          "output_type": "stream",
          "name": "stdout",
          "text": [
            "                   all        437        816      0.885      0.593      0.657      0.436\n",
            "\n",
            "      Epoch    GPU_mem   box_loss   cls_loss   dfl_loss  Instances       Size\n"
          ]
        },
        {
          "output_type": "stream",
          "name": "stderr",
          "text": [
            "     34/100      4.17G      1.337      1.138      1.347         27        640: 100%|██████████| 196/196 [01:02<00:00,  3.13it/s]\n",
            "                 Class     Images  Instances      Box(P          R      mAP50  mAP50-95): 100%|██████████| 14/14 [00:05<00:00,  2.66it/s]\n"
          ]
        },
        {
          "output_type": "stream",
          "name": "stdout",
          "text": [
            "                   all        437        816      0.874      0.604      0.652      0.424\n",
            "\n",
            "      Epoch    GPU_mem   box_loss   cls_loss   dfl_loss  Instances       Size\n"
          ]
        },
        {
          "output_type": "stream",
          "name": "stderr",
          "text": [
            "     35/100      4.18G      1.355      1.178      1.362         17        640: 100%|██████████| 196/196 [00:59<00:00,  3.29it/s]\n",
            "                 Class     Images  Instances      Box(P          R      mAP50  mAP50-95): 100%|██████████| 14/14 [00:04<00:00,  3.03it/s]"
          ]
        },
        {
          "output_type": "stream",
          "name": "stdout",
          "text": [
            "                   all        437        816      0.874      0.608      0.653      0.419\n"
          ]
        },
        {
          "output_type": "stream",
          "name": "stderr",
          "text": [
            "\n"
          ]
        },
        {
          "output_type": "stream",
          "name": "stdout",
          "text": [
            "\n",
            "      Epoch    GPU_mem   box_loss   cls_loss   dfl_loss  Instances       Size\n"
          ]
        },
        {
          "output_type": "stream",
          "name": "stderr",
          "text": [
            "     36/100      4.17G      1.315      1.112      1.329         21        640: 100%|██████████| 196/196 [01:01<00:00,  3.21it/s]\n",
            "                 Class     Images  Instances      Box(P          R      mAP50  mAP50-95): 100%|██████████| 14/14 [00:03<00:00,  3.92it/s]\n"
          ]
        },
        {
          "output_type": "stream",
          "name": "stdout",
          "text": [
            "                   all        437        816      0.873       0.62       0.67      0.445\n",
            "\n",
            "      Epoch    GPU_mem   box_loss   cls_loss   dfl_loss  Instances       Size\n"
          ]
        },
        {
          "output_type": "stream",
          "name": "stderr",
          "text": [
            "     37/100      4.15G      1.324      1.129      1.328         24        640: 100%|██████████| 196/196 [01:02<00:00,  3.14it/s]\n",
            "                 Class     Images  Instances      Box(P          R      mAP50  mAP50-95): 100%|██████████| 14/14 [00:04<00:00,  3.19it/s]\n"
          ]
        },
        {
          "output_type": "stream",
          "name": "stdout",
          "text": [
            "                   all        437        816        0.9      0.591      0.656      0.434\n",
            "\n",
            "      Epoch    GPU_mem   box_loss   cls_loss   dfl_loss  Instances       Size\n"
          ]
        },
        {
          "output_type": "stream",
          "name": "stderr",
          "text": [
            "     38/100      4.14G      1.327       1.14      1.347         32        640: 100%|██████████| 196/196 [01:00<00:00,  3.23it/s]\n",
            "                 Class     Images  Instances      Box(P          R      mAP50  mAP50-95): 100%|██████████| 14/14 [00:04<00:00,  3.01it/s]"
          ]
        },
        {
          "output_type": "stream",
          "name": "stdout",
          "text": [
            "                   all        437        816      0.875      0.592      0.645       0.43\n"
          ]
        },
        {
          "output_type": "stream",
          "name": "stderr",
          "text": [
            "\n"
          ]
        },
        {
          "output_type": "stream",
          "name": "stdout",
          "text": [
            "\n",
            "      Epoch    GPU_mem   box_loss   cls_loss   dfl_loss  Instances       Size\n"
          ]
        },
        {
          "output_type": "stream",
          "name": "stderr",
          "text": [
            "     39/100      4.16G      1.316      1.137       1.33         25        640: 100%|██████████| 196/196 [01:01<00:00,  3.18it/s]\n",
            "                 Class     Images  Instances      Box(P          R      mAP50  mAP50-95): 100%|██████████| 14/14 [00:03<00:00,  3.95it/s]"
          ]
        },
        {
          "output_type": "stream",
          "name": "stdout",
          "text": [
            "                   all        437        816      0.883      0.601      0.661      0.431\n"
          ]
        },
        {
          "output_type": "stream",
          "name": "stderr",
          "text": [
            "\n"
          ]
        },
        {
          "output_type": "stream",
          "name": "stdout",
          "text": [
            "\n",
            "      Epoch    GPU_mem   box_loss   cls_loss   dfl_loss  Instances       Size\n"
          ]
        },
        {
          "output_type": "stream",
          "name": "stderr",
          "text": [
            "     40/100      4.17G      1.308      1.119      1.328         30        640: 100%|██████████| 196/196 [01:02<00:00,  3.16it/s]\n",
            "                 Class     Images  Instances      Box(P          R      mAP50  mAP50-95): 100%|██████████| 14/14 [00:04<00:00,  3.11it/s]\n"
          ]
        },
        {
          "output_type": "stream",
          "name": "stdout",
          "text": [
            "                   all        437        816      0.885      0.588      0.653      0.427\n",
            "\n",
            "      Epoch    GPU_mem   box_loss   cls_loss   dfl_loss  Instances       Size\n"
          ]
        },
        {
          "output_type": "stream",
          "name": "stderr",
          "text": [
            "     41/100      4.17G      1.315      1.111       1.33         21        640: 100%|██████████| 196/196 [00:59<00:00,  3.31it/s]\n",
            "                 Class     Images  Instances      Box(P          R      mAP50  mAP50-95): 100%|██████████| 14/14 [00:05<00:00,  2.54it/s]"
          ]
        },
        {
          "output_type": "stream",
          "name": "stdout",
          "text": [
            "                   all        437        816      0.887      0.608      0.659      0.437\n"
          ]
        },
        {
          "output_type": "stream",
          "name": "stderr",
          "text": [
            "\n"
          ]
        },
        {
          "output_type": "stream",
          "name": "stdout",
          "text": [
            "\n",
            "      Epoch    GPU_mem   box_loss   cls_loss   dfl_loss  Instances       Size\n"
          ]
        },
        {
          "output_type": "stream",
          "name": "stderr",
          "text": [
            "     42/100      4.16G      1.288      1.105      1.319         30        640: 100%|██████████| 196/196 [01:00<00:00,  3.24it/s]\n",
            "                 Class     Images  Instances      Box(P          R      mAP50  mAP50-95): 100%|██████████| 14/14 [00:03<00:00,  3.77it/s]\n"
          ]
        },
        {
          "output_type": "stream",
          "name": "stdout",
          "text": [
            "                   all        437        816      0.869      0.602      0.658      0.438\n",
            "\n",
            "      Epoch    GPU_mem   box_loss   cls_loss   dfl_loss  Instances       Size\n"
          ]
        },
        {
          "output_type": "stream",
          "name": "stderr",
          "text": [
            "     43/100      4.17G      1.314      1.103      1.324         18        640: 100%|██████████| 196/196 [01:03<00:00,  3.07it/s]\n",
            "                 Class     Images  Instances      Box(P          R      mAP50  mAP50-95): 100%|██████████| 14/14 [00:03<00:00,  4.03it/s]\n"
          ]
        },
        {
          "output_type": "stream",
          "name": "stdout",
          "text": [
            "                   all        437        816      0.867      0.614      0.659      0.433\n",
            "\n",
            "      Epoch    GPU_mem   box_loss   cls_loss   dfl_loss  Instances       Size\n"
          ]
        },
        {
          "output_type": "stream",
          "name": "stderr",
          "text": [
            "     44/100      4.14G      1.313      1.107      1.325         24        640: 100%|██████████| 196/196 [01:00<00:00,  3.25it/s]\n",
            "                 Class     Images  Instances      Box(P          R      mAP50  mAP50-95): 100%|██████████| 14/14 [00:06<00:00,  2.31it/s]"
          ]
        },
        {
          "output_type": "stream",
          "name": "stdout",
          "text": [
            "                   all        437        816      0.883      0.607      0.656      0.436\n"
          ]
        },
        {
          "output_type": "stream",
          "name": "stderr",
          "text": [
            "\n"
          ]
        },
        {
          "output_type": "stream",
          "name": "stdout",
          "text": [
            "\n",
            "      Epoch    GPU_mem   box_loss   cls_loss   dfl_loss  Instances       Size\n"
          ]
        },
        {
          "output_type": "stream",
          "name": "stderr",
          "text": [
            "     45/100      4.19G      1.285      1.078      1.308         12        640: 100%|██████████| 196/196 [00:59<00:00,  3.29it/s]\n",
            "                 Class     Images  Instances      Box(P          R      mAP50  mAP50-95): 100%|██████████| 14/14 [00:03<00:00,  3.69it/s]"
          ]
        },
        {
          "output_type": "stream",
          "name": "stdout",
          "text": [
            "                   all        437        816      0.874       0.61      0.662      0.437\n"
          ]
        },
        {
          "output_type": "stream",
          "name": "stderr",
          "text": [
            "\n"
          ]
        },
        {
          "output_type": "stream",
          "name": "stdout",
          "text": [
            "\n",
            "      Epoch    GPU_mem   box_loss   cls_loss   dfl_loss  Instances       Size\n"
          ]
        },
        {
          "output_type": "stream",
          "name": "stderr",
          "text": [
            "     46/100      4.15G      1.283      1.106      1.316         23        640: 100%|██████████| 196/196 [01:02<00:00,  3.13it/s]\n",
            "                 Class     Images  Instances      Box(P          R      mAP50  mAP50-95): 100%|██████████| 14/14 [00:03<00:00,  3.92it/s]\n"
          ]
        },
        {
          "output_type": "stream",
          "name": "stdout",
          "text": [
            "                   all        437        816      0.872      0.603      0.663      0.433\n",
            "\n",
            "      Epoch    GPU_mem   box_loss   cls_loss   dfl_loss  Instances       Size\n"
          ]
        },
        {
          "output_type": "stream",
          "name": "stderr",
          "text": [
            "     47/100      4.18G      1.288      1.078      1.311         23        640: 100%|██████████| 196/196 [01:01<00:00,  3.17it/s]\n",
            "                 Class     Images  Instances      Box(P          R      mAP50  mAP50-95): 100%|██████████| 14/14 [00:04<00:00,  3.05it/s]\n"
          ]
        },
        {
          "output_type": "stream",
          "name": "stdout",
          "text": [
            "                   all        437        816      0.873      0.608      0.661      0.439\n",
            "\n",
            "      Epoch    GPU_mem   box_loss   cls_loss   dfl_loss  Instances       Size\n"
          ]
        },
        {
          "output_type": "stream",
          "name": "stderr",
          "text": [
            "     48/100      4.14G      1.284      1.089      1.316         18        640: 100%|██████████| 196/196 [01:00<00:00,  3.26it/s]\n",
            "                 Class     Images  Instances      Box(P          R      mAP50  mAP50-95): 100%|██████████| 14/14 [00:04<00:00,  2.98it/s]"
          ]
        },
        {
          "output_type": "stream",
          "name": "stdout",
          "text": [
            "                   all        437        816       0.86      0.608      0.648      0.414\n"
          ]
        },
        {
          "output_type": "stream",
          "name": "stderr",
          "text": [
            "\n"
          ]
        },
        {
          "output_type": "stream",
          "name": "stdout",
          "text": [
            "\n",
            "      Epoch    GPU_mem   box_loss   cls_loss   dfl_loss  Instances       Size\n"
          ]
        },
        {
          "output_type": "stream",
          "name": "stderr",
          "text": [
            "     49/100      4.16G      1.271      1.059      1.304         41        640: 100%|██████████| 196/196 [01:00<00:00,  3.26it/s]\n",
            "                 Class     Images  Instances      Box(P          R      mAP50  mAP50-95): 100%|██████████| 14/14 [00:03<00:00,  3.76it/s]\n"
          ]
        },
        {
          "output_type": "stream",
          "name": "stdout",
          "text": [
            "                   all        437        816      0.875      0.625      0.666      0.446\n",
            "\n",
            "      Epoch    GPU_mem   box_loss   cls_loss   dfl_loss  Instances       Size\n"
          ]
        },
        {
          "output_type": "stream",
          "name": "stderr",
          "text": [
            "     50/100      4.16G      1.274      1.067      1.305         15        640: 100%|██████████| 196/196 [01:04<00:00,  3.06it/s]\n",
            "                 Class     Images  Instances      Box(P          R      mAP50  mAP50-95): 100%|██████████| 14/14 [00:03<00:00,  3.91it/s]\n"
          ]
        },
        {
          "output_type": "stream",
          "name": "stdout",
          "text": [
            "                   all        437        816      0.857      0.619      0.666      0.443\n",
            "\n",
            "      Epoch    GPU_mem   box_loss   cls_loss   dfl_loss  Instances       Size\n"
          ]
        },
        {
          "output_type": "stream",
          "name": "stderr",
          "text": [
            "     51/100      4.18G      1.277      1.066      1.305         21        640: 100%|██████████| 196/196 [01:01<00:00,  3.21it/s]\n",
            "                 Class     Images  Instances      Box(P          R      mAP50  mAP50-95): 100%|██████████| 14/14 [00:05<00:00,  2.53it/s]"
          ]
        },
        {
          "output_type": "stream",
          "name": "stdout",
          "text": [
            "                   all        437        816      0.872      0.607      0.652      0.438\n"
          ]
        },
        {
          "output_type": "stream",
          "name": "stderr",
          "text": [
            "\n"
          ]
        },
        {
          "output_type": "stream",
          "name": "stdout",
          "text": [
            "\n",
            "      Epoch    GPU_mem   box_loss   cls_loss   dfl_loss  Instances       Size\n"
          ]
        },
        {
          "output_type": "stream",
          "name": "stderr",
          "text": [
            "     52/100      4.14G      1.252      1.047      1.292         31        640: 100%|██████████| 196/196 [01:00<00:00,  3.26it/s]\n",
            "                 Class     Images  Instances      Box(P          R      mAP50  mAP50-95): 100%|██████████| 14/14 [00:04<00:00,  3.42it/s]"
          ]
        },
        {
          "output_type": "stream",
          "name": "stdout",
          "text": [
            "                   all        437        816      0.885      0.611      0.663      0.441\n"
          ]
        },
        {
          "output_type": "stream",
          "name": "stderr",
          "text": [
            "\n"
          ]
        },
        {
          "output_type": "stream",
          "name": "stdout",
          "text": [
            "\n",
            "      Epoch    GPU_mem   box_loss   cls_loss   dfl_loss  Instances       Size\n"
          ]
        },
        {
          "output_type": "stream",
          "name": "stderr",
          "text": [
            "     53/100      4.14G      1.252      1.044      1.292         14        640: 100%|██████████| 196/196 [01:02<00:00,  3.14it/s]\n",
            "                 Class     Images  Instances      Box(P          R      mAP50  mAP50-95): 100%|██████████| 14/14 [00:03<00:00,  3.98it/s]\n"
          ]
        },
        {
          "output_type": "stream",
          "name": "stdout",
          "text": [
            "                   all        437        816      0.875      0.598      0.658      0.437\n",
            "\n",
            "      Epoch    GPU_mem   box_loss   cls_loss   dfl_loss  Instances       Size\n"
          ]
        },
        {
          "output_type": "stream",
          "name": "stderr",
          "text": [
            "     54/100      4.18G       1.28      1.062      1.308         17        640: 100%|██████████| 196/196 [01:02<00:00,  3.13it/s]\n",
            "                 Class     Images  Instances      Box(P          R      mAP50  mAP50-95): 100%|██████████| 14/14 [00:04<00:00,  3.00it/s]\n"
          ]
        },
        {
          "output_type": "stream",
          "name": "stdout",
          "text": [
            "                   all        437        816      0.876      0.604      0.664      0.449\n",
            "\n",
            "      Epoch    GPU_mem   box_loss   cls_loss   dfl_loss  Instances       Size\n"
          ]
        },
        {
          "output_type": "stream",
          "name": "stderr",
          "text": [
            "     55/100      4.18G      1.249      1.041      1.291         16        640: 100%|██████████| 196/196 [01:01<00:00,  3.18it/s]\n",
            "                 Class     Images  Instances      Box(P          R      mAP50  mAP50-95): 100%|██████████| 14/14 [00:04<00:00,  3.16it/s]"
          ]
        },
        {
          "output_type": "stream",
          "name": "stdout",
          "text": [
            "                   all        437        816      0.915      0.588      0.664      0.451\n"
          ]
        },
        {
          "output_type": "stream",
          "name": "stderr",
          "text": [
            "\n"
          ]
        },
        {
          "output_type": "stream",
          "name": "stdout",
          "text": [
            "\n",
            "      Epoch    GPU_mem   box_loss   cls_loss   dfl_loss  Instances       Size\n"
          ]
        },
        {
          "output_type": "stream",
          "name": "stderr",
          "text": [
            "     56/100      4.16G      1.242      1.024      1.286          6        640: 100%|██████████| 196/196 [01:03<00:00,  3.09it/s]\n",
            "                 Class     Images  Instances      Box(P          R      mAP50  mAP50-95): 100%|██████████| 14/14 [00:03<00:00,  3.88it/s]"
          ]
        },
        {
          "output_type": "stream",
          "name": "stdout",
          "text": [
            "                   all        437        816      0.853      0.627      0.671      0.451\n"
          ]
        },
        {
          "output_type": "stream",
          "name": "stderr",
          "text": [
            "\n"
          ]
        },
        {
          "output_type": "stream",
          "name": "stdout",
          "text": [
            "\n",
            "      Epoch    GPU_mem   box_loss   cls_loss   dfl_loss  Instances       Size\n"
          ]
        },
        {
          "output_type": "stream",
          "name": "stderr",
          "text": [
            "     57/100      4.14G      1.235       1.03      1.287         32        640: 100%|██████████| 196/196 [01:03<00:00,  3.10it/s]\n",
            "                 Class     Images  Instances      Box(P          R      mAP50  mAP50-95): 100%|██████████| 14/14 [00:04<00:00,  3.17it/s]"
          ]
        },
        {
          "output_type": "stream",
          "name": "stdout",
          "text": [
            "                   all        437        816      0.866      0.624      0.669      0.448\n"
          ]
        },
        {
          "output_type": "stream",
          "name": "stderr",
          "text": [
            "\n"
          ]
        },
        {
          "output_type": "stream",
          "name": "stdout",
          "text": [
            "\n",
            "      Epoch    GPU_mem   box_loss   cls_loss   dfl_loss  Instances       Size\n"
          ]
        },
        {
          "output_type": "stream",
          "name": "stderr",
          "text": [
            "     58/100      4.15G      1.254      1.049      1.287         21        640: 100%|██████████| 196/196 [01:00<00:00,  3.26it/s]\n",
            "                 Class     Images  Instances      Box(P          R      mAP50  mAP50-95): 100%|██████████| 14/14 [00:05<00:00,  2.68it/s]"
          ]
        },
        {
          "output_type": "stream",
          "name": "stdout",
          "text": [
            "                   all        437        816        0.9      0.614      0.668       0.45\n"
          ]
        },
        {
          "output_type": "stream",
          "name": "stderr",
          "text": [
            "\n"
          ]
        },
        {
          "output_type": "stream",
          "name": "stdout",
          "text": [
            "\n",
            "      Epoch    GPU_mem   box_loss   cls_loss   dfl_loss  Instances       Size\n"
          ]
        },
        {
          "output_type": "stream",
          "name": "stderr",
          "text": [
            "     59/100      4.15G      1.236      1.022      1.279         22        640: 100%|██████████| 196/196 [01:01<00:00,  3.17it/s]\n",
            "                 Class     Images  Instances      Box(P          R      mAP50  mAP50-95): 100%|██████████| 14/14 [00:03<00:00,  4.12it/s]"
          ]
        },
        {
          "output_type": "stream",
          "name": "stdout",
          "text": [
            "                   all        437        816      0.882      0.607      0.663      0.446\n"
          ]
        },
        {
          "output_type": "stream",
          "name": "stderr",
          "text": [
            "\n"
          ]
        },
        {
          "output_type": "stream",
          "name": "stdout",
          "text": [
            "\n",
            "      Epoch    GPU_mem   box_loss   cls_loss   dfl_loss  Instances       Size\n"
          ]
        },
        {
          "output_type": "stream",
          "name": "stderr",
          "text": [
            "     60/100      4.14G      1.233       1.02      1.285         19        640: 100%|██████████| 196/196 [01:02<00:00,  3.15it/s]\n",
            "                 Class     Images  Instances      Box(P          R      mAP50  mAP50-95): 100%|██████████| 14/14 [00:03<00:00,  3.70it/s]"
          ]
        },
        {
          "output_type": "stream",
          "name": "stdout",
          "text": [
            "                   all        437        816      0.881      0.615      0.662      0.448\n"
          ]
        },
        {
          "output_type": "stream",
          "name": "stderr",
          "text": [
            "\n"
          ]
        },
        {
          "output_type": "stream",
          "name": "stdout",
          "text": [
            "\n",
            "      Epoch    GPU_mem   box_loss   cls_loss   dfl_loss  Instances       Size\n"
          ]
        },
        {
          "output_type": "stream",
          "name": "stderr",
          "text": [
            "     61/100      4.16G      1.224      1.003       1.27         17        640: 100%|██████████| 196/196 [01:00<00:00,  3.27it/s]\n",
            "                 Class     Images  Instances      Box(P          R      mAP50  mAP50-95): 100%|██████████| 14/14 [00:05<00:00,  2.44it/s]"
          ]
        },
        {
          "output_type": "stream",
          "name": "stdout",
          "text": [
            "                   all        437        816      0.913      0.602      0.668      0.452\n"
          ]
        },
        {
          "output_type": "stream",
          "name": "stderr",
          "text": [
            "\n"
          ]
        },
        {
          "output_type": "stream",
          "name": "stdout",
          "text": [
            "\n",
            "      Epoch    GPU_mem   box_loss   cls_loss   dfl_loss  Instances       Size\n"
          ]
        },
        {
          "output_type": "stream",
          "name": "stderr",
          "text": [
            "     62/100      4.14G      1.219      1.005      1.271         14        640: 100%|██████████| 196/196 [01:00<00:00,  3.26it/s]\n",
            "                 Class     Images  Instances      Box(P          R      mAP50  mAP50-95): 100%|██████████| 14/14 [00:03<00:00,  3.91it/s]\n"
          ]
        },
        {
          "output_type": "stream",
          "name": "stdout",
          "text": [
            "                   all        437        816      0.884      0.606      0.666      0.451\n",
            "\n",
            "      Epoch    GPU_mem   box_loss   cls_loss   dfl_loss  Instances       Size\n"
          ]
        },
        {
          "output_type": "stream",
          "name": "stderr",
          "text": [
            "     63/100      4.14G      1.205     0.9955      1.262         32        640: 100%|██████████| 196/196 [01:03<00:00,  3.10it/s]\n",
            "                 Class     Images  Instances      Box(P          R      mAP50  mAP50-95): 100%|██████████| 14/14 [00:03<00:00,  3.96it/s]\n"
          ]
        },
        {
          "output_type": "stream",
          "name": "stdout",
          "text": [
            "                   all        437        816      0.906      0.608      0.664      0.443\n",
            "\n",
            "      Epoch    GPU_mem   box_loss   cls_loss   dfl_loss  Instances       Size\n"
          ]
        },
        {
          "output_type": "stream",
          "name": "stderr",
          "text": [
            "     64/100      4.15G      1.213     0.9874      1.258         18        640: 100%|██████████| 196/196 [01:00<00:00,  3.23it/s]\n",
            "                 Class     Images  Instances      Box(P          R      mAP50  mAP50-95): 100%|██████████| 14/14 [00:05<00:00,  2.36it/s]"
          ]
        },
        {
          "output_type": "stream",
          "name": "stdout",
          "text": [
            "                   all        437        816      0.886      0.604      0.669      0.453\n"
          ]
        },
        {
          "output_type": "stream",
          "name": "stderr",
          "text": [
            "\n"
          ]
        },
        {
          "output_type": "stream",
          "name": "stdout",
          "text": [
            "\n",
            "      Epoch    GPU_mem   box_loss   cls_loss   dfl_loss  Instances       Size\n"
          ]
        },
        {
          "output_type": "stream",
          "name": "stderr",
          "text": [
            "     65/100      4.18G      1.219     0.9972      1.266         20        640: 100%|██████████| 196/196 [01:01<00:00,  3.20it/s]\n",
            "                 Class     Images  Instances      Box(P          R      mAP50  mAP50-95): 100%|██████████| 14/14 [00:03<00:00,  3.94it/s]"
          ]
        },
        {
          "output_type": "stream",
          "name": "stdout",
          "text": [
            "                   all        437        816      0.867      0.614      0.661      0.443\n"
          ]
        },
        {
          "output_type": "stream",
          "name": "stderr",
          "text": [
            "\n"
          ]
        },
        {
          "output_type": "stream",
          "name": "stdout",
          "text": [
            "\n",
            "      Epoch    GPU_mem   box_loss   cls_loss   dfl_loss  Instances       Size\n"
          ]
        },
        {
          "output_type": "stream",
          "name": "stderr",
          "text": [
            "     66/100      4.19G      1.207     0.9918       1.27          9        640: 100%|██████████| 196/196 [01:02<00:00,  3.13it/s]\n",
            "                 Class     Images  Instances      Box(P          R      mAP50  mAP50-95): 100%|██████████| 14/14 [00:03<00:00,  3.81it/s]\n"
          ]
        },
        {
          "output_type": "stream",
          "name": "stdout",
          "text": [
            "                   all        437        816        0.9      0.618      0.675      0.452\n",
            "\n",
            "      Epoch    GPU_mem   box_loss   cls_loss   dfl_loss  Instances       Size\n"
          ]
        },
        {
          "output_type": "stream",
          "name": "stderr",
          "text": [
            "     67/100      4.14G      1.204     0.9794      1.262         17        640: 100%|██████████| 196/196 [01:00<00:00,  3.22it/s]\n",
            "                 Class     Images  Instances      Box(P          R      mAP50  mAP50-95): 100%|██████████| 14/14 [00:05<00:00,  2.40it/s]"
          ]
        },
        {
          "output_type": "stream",
          "name": "stdout",
          "text": [
            "                   all        437        816      0.922      0.607      0.675      0.454\n"
          ]
        },
        {
          "output_type": "stream",
          "name": "stderr",
          "text": [
            "\n"
          ]
        },
        {
          "output_type": "stream",
          "name": "stdout",
          "text": [
            "\n",
            "      Epoch    GPU_mem   box_loss   cls_loss   dfl_loss  Instances       Size\n"
          ]
        },
        {
          "output_type": "stream",
          "name": "stderr",
          "text": [
            "     68/100      4.15G       1.21     0.9866      1.267         21        640: 100%|██████████| 196/196 [01:00<00:00,  3.27it/s]\n",
            "                 Class     Images  Instances      Box(P          R      mAP50  mAP50-95): 100%|██████████| 14/14 [00:03<00:00,  4.00it/s]\n"
          ]
        },
        {
          "output_type": "stream",
          "name": "stdout",
          "text": [
            "                   all        437        816      0.886      0.609      0.668      0.452\n",
            "\n",
            "      Epoch    GPU_mem   box_loss   cls_loss   dfl_loss  Instances       Size\n"
          ]
        },
        {
          "output_type": "stream",
          "name": "stderr",
          "text": [
            "     69/100      4.14G      1.201     0.9921      1.259         19        640: 100%|██████████| 196/196 [01:02<00:00,  3.13it/s]\n",
            "                 Class     Images  Instances      Box(P          R      mAP50  mAP50-95): 100%|██████████| 14/14 [00:03<00:00,  4.04it/s]\n"
          ]
        },
        {
          "output_type": "stream",
          "name": "stdout",
          "text": [
            "                   all        437        816      0.915      0.598      0.667      0.451\n",
            "\n",
            "      Epoch    GPU_mem   box_loss   cls_loss   dfl_loss  Instances       Size\n"
          ]
        },
        {
          "output_type": "stream",
          "name": "stderr",
          "text": [
            "     70/100      4.14G      1.204     0.9708      1.261         26        640: 100%|██████████| 196/196 [01:02<00:00,  3.16it/s]\n",
            "                 Class     Images  Instances      Box(P          R      mAP50  mAP50-95): 100%|██████████| 14/14 [00:05<00:00,  2.43it/s]\n"
          ]
        },
        {
          "output_type": "stream",
          "name": "stdout",
          "text": [
            "                   all        437        816      0.921      0.602      0.671      0.452\n",
            "\n",
            "      Epoch    GPU_mem   box_loss   cls_loss   dfl_loss  Instances       Size\n"
          ]
        },
        {
          "output_type": "stream",
          "name": "stderr",
          "text": [
            "     71/100      4.16G      1.196     0.9838      1.265         14        640: 100%|██████████| 196/196 [01:00<00:00,  3.23it/s]\n",
            "                 Class     Images  Instances      Box(P          R      mAP50  mAP50-95): 100%|██████████| 14/14 [00:04<00:00,  3.02it/s]"
          ]
        },
        {
          "output_type": "stream",
          "name": "stdout",
          "text": [
            "                   all        437        816      0.894      0.623      0.679      0.454\n"
          ]
        },
        {
          "output_type": "stream",
          "name": "stderr",
          "text": [
            "\n"
          ]
        },
        {
          "output_type": "stream",
          "name": "stdout",
          "text": [
            "\n",
            "      Epoch    GPU_mem   box_loss   cls_loss   dfl_loss  Instances       Size\n"
          ]
        },
        {
          "output_type": "stream",
          "name": "stderr",
          "text": [
            "     72/100      4.15G      1.201      0.977      1.263         15        640: 100%|██████████| 196/196 [01:02<00:00,  3.15it/s]\n",
            "                 Class     Images  Instances      Box(P          R      mAP50  mAP50-95): 100%|██████████| 14/14 [00:03<00:00,  3.78it/s]"
          ]
        },
        {
          "output_type": "stream",
          "name": "stdout",
          "text": [
            "                   all        437        816      0.897      0.614      0.674      0.452\n"
          ]
        },
        {
          "output_type": "stream",
          "name": "stderr",
          "text": [
            "\n"
          ]
        },
        {
          "output_type": "stream",
          "name": "stdout",
          "text": [
            "\n",
            "      Epoch    GPU_mem   box_loss   cls_loss   dfl_loss  Instances       Size\n"
          ]
        },
        {
          "output_type": "stream",
          "name": "stderr",
          "text": [
            "     73/100      4.16G      1.173     0.9567      1.248         21        640: 100%|██████████| 196/196 [01:03<00:00,  3.07it/s]\n",
            "                 Class     Images  Instances      Box(P          R      mAP50  mAP50-95): 100%|██████████| 14/14 [00:04<00:00,  3.48it/s]\n"
          ]
        },
        {
          "output_type": "stream",
          "name": "stdout",
          "text": [
            "                   all        437        816      0.887      0.618      0.674      0.461\n",
            "\n",
            "      Epoch    GPU_mem   box_loss   cls_loss   dfl_loss  Instances       Size\n"
          ]
        },
        {
          "output_type": "stream",
          "name": "stderr",
          "text": [
            "     74/100      4.16G      1.189     0.9704      1.255         33        640: 100%|██████████| 196/196 [01:01<00:00,  3.18it/s]\n",
            "                 Class     Images  Instances      Box(P          R      mAP50  mAP50-95): 100%|██████████| 14/14 [00:05<00:00,  2.46it/s]"
          ]
        },
        {
          "output_type": "stream",
          "name": "stdout",
          "text": [
            "                   all        437        816        0.9      0.607      0.669      0.448\n"
          ]
        },
        {
          "output_type": "stream",
          "name": "stderr",
          "text": [
            "\n"
          ]
        },
        {
          "output_type": "stream",
          "name": "stdout",
          "text": [
            "\n",
            "      Epoch    GPU_mem   box_loss   cls_loss   dfl_loss  Instances       Size\n"
          ]
        },
        {
          "output_type": "stream",
          "name": "stderr",
          "text": [
            "     75/100      4.18G        1.2     0.9635      1.254         23        640: 100%|██████████| 196/196 [01:00<00:00,  3.24it/s]\n",
            "                 Class     Images  Instances      Box(P          R      mAP50  mAP50-95): 100%|██████████| 14/14 [00:04<00:00,  3.40it/s]"
          ]
        },
        {
          "output_type": "stream",
          "name": "stdout",
          "text": [
            "                   all        437        816       0.89      0.615      0.666      0.449\n"
          ]
        },
        {
          "output_type": "stream",
          "name": "stderr",
          "text": [
            "\n"
          ]
        },
        {
          "output_type": "stream",
          "name": "stdout",
          "text": [
            "\n",
            "      Epoch    GPU_mem   box_loss   cls_loss   dfl_loss  Instances       Size\n"
          ]
        },
        {
          "output_type": "stream",
          "name": "stderr",
          "text": [
            "     76/100      4.18G      1.155     0.9321      1.236         41        640: 100%|██████████| 196/196 [01:03<00:00,  3.11it/s]\n",
            "                 Class     Images  Instances      Box(P          R      mAP50  mAP50-95): 100%|██████████| 14/14 [00:03<00:00,  3.90it/s]\n"
          ]
        },
        {
          "output_type": "stream",
          "name": "stdout",
          "text": [
            "                   all        437        816      0.878      0.617       0.67       0.45\n",
            "\n",
            "      Epoch    GPU_mem   box_loss   cls_loss   dfl_loss  Instances       Size\n"
          ]
        },
        {
          "output_type": "stream",
          "name": "stderr",
          "text": [
            "     77/100      4.18G      1.195     0.9708      1.269         15        640: 100%|██████████| 196/196 [01:02<00:00,  3.15it/s]\n",
            "                 Class     Images  Instances      Box(P          R      mAP50  mAP50-95): 100%|██████████| 14/14 [00:05<00:00,  2.54it/s]"
          ]
        },
        {
          "output_type": "stream",
          "name": "stdout",
          "text": [
            "                   all        437        816      0.912      0.608      0.665      0.449\n"
          ]
        },
        {
          "output_type": "stream",
          "name": "stderr",
          "text": [
            "\n"
          ]
        },
        {
          "output_type": "stream",
          "name": "stdout",
          "text": [
            "\n",
            "      Epoch    GPU_mem   box_loss   cls_loss   dfl_loss  Instances       Size\n"
          ]
        },
        {
          "output_type": "stream",
          "name": "stderr",
          "text": [
            "     78/100      4.16G      1.166     0.9546      1.249         22        640: 100%|██████████| 196/196 [01:00<00:00,  3.23it/s]\n",
            "                 Class     Images  Instances      Box(P          R      mAP50  mAP50-95): 100%|██████████| 14/14 [00:04<00:00,  3.06it/s]"
          ]
        },
        {
          "output_type": "stream",
          "name": "stdout",
          "text": [
            "                   all        437        816      0.915      0.602      0.669       0.45\n"
          ]
        },
        {
          "output_type": "stream",
          "name": "stderr",
          "text": [
            "\n"
          ]
        },
        {
          "output_type": "stream",
          "name": "stdout",
          "text": [
            "\n",
            "      Epoch    GPU_mem   box_loss   cls_loss   dfl_loss  Instances       Size\n"
          ]
        },
        {
          "output_type": "stream",
          "name": "stderr",
          "text": [
            "     79/100      4.18G      1.169     0.9316      1.237         24        640: 100%|██████████| 196/196 [01:01<00:00,  3.17it/s]\n",
            "                 Class     Images  Instances      Box(P          R      mAP50  mAP50-95): 100%|██████████| 14/14 [00:03<00:00,  3.88it/s]\n"
          ]
        },
        {
          "output_type": "stream",
          "name": "stdout",
          "text": [
            "                   all        437        816      0.868      0.622      0.658      0.445\n",
            "\n",
            "      Epoch    GPU_mem   box_loss   cls_loss   dfl_loss  Instances       Size\n"
          ]
        },
        {
          "output_type": "stream",
          "name": "stderr",
          "text": [
            "     80/100      4.14G      1.169     0.9493      1.244         33        640: 100%|██████████| 196/196 [01:02<00:00,  3.13it/s]\n",
            "                 Class     Images  Instances      Box(P          R      mAP50  mAP50-95): 100%|██████████| 14/14 [00:04<00:00,  3.34it/s]\n"
          ]
        },
        {
          "output_type": "stream",
          "name": "stdout",
          "text": [
            "                   all        437        816      0.908      0.614      0.663      0.446\n",
            "\n",
            "      Epoch    GPU_mem   box_loss   cls_loss   dfl_loss  Instances       Size\n"
          ]
        },
        {
          "output_type": "stream",
          "name": "stderr",
          "text": [
            "     81/100      4.18G      1.161     0.9306      1.244         13        640: 100%|██████████| 196/196 [01:00<00:00,  3.22it/s]\n",
            "                 Class     Images  Instances      Box(P          R      mAP50  mAP50-95): 100%|██████████| 14/14 [00:06<00:00,  2.33it/s]"
          ]
        },
        {
          "output_type": "stream",
          "name": "stdout",
          "text": [
            "                   all        437        816      0.919       0.61      0.674      0.452\n"
          ]
        },
        {
          "output_type": "stream",
          "name": "stderr",
          "text": [
            "\n"
          ]
        },
        {
          "output_type": "stream",
          "name": "stdout",
          "text": [
            "\n",
            "      Epoch    GPU_mem   box_loss   cls_loss   dfl_loss  Instances       Size\n"
          ]
        },
        {
          "output_type": "stream",
          "name": "stderr",
          "text": [
            "     82/100      4.15G      1.165     0.9383      1.238         20        640: 100%|██████████| 196/196 [01:01<00:00,  3.20it/s]\n",
            "                 Class     Images  Instances      Box(P          R      mAP50  mAP50-95): 100%|██████████| 14/14 [00:03<00:00,  3.91it/s]"
          ]
        },
        {
          "output_type": "stream",
          "name": "stdout",
          "text": [
            "                   all        437        816      0.886       0.62      0.665      0.449\n"
          ]
        },
        {
          "output_type": "stream",
          "name": "stderr",
          "text": [
            "\n"
          ]
        },
        {
          "output_type": "stream",
          "name": "stdout",
          "text": [
            "\n",
            "      Epoch    GPU_mem   box_loss   cls_loss   dfl_loss  Instances       Size\n"
          ]
        },
        {
          "output_type": "stream",
          "name": "stderr",
          "text": [
            "     83/100      4.15G      1.152     0.9288      1.238         20        640: 100%|██████████| 196/196 [01:03<00:00,  3.09it/s]\n",
            "                 Class     Images  Instances      Box(P          R      mAP50  mAP50-95): 100%|██████████| 14/14 [00:03<00:00,  3.96it/s]\n"
          ]
        },
        {
          "output_type": "stream",
          "name": "stdout",
          "text": [
            "                   all        437        816      0.898      0.616      0.668      0.451\n",
            "\n",
            "      Epoch    GPU_mem   box_loss   cls_loss   dfl_loss  Instances       Size\n"
          ]
        },
        {
          "output_type": "stream",
          "name": "stderr",
          "text": [
            "     84/100      4.19G      1.146     0.9244      1.228         17        640: 100%|██████████| 196/196 [01:01<00:00,  3.17it/s]\n",
            "                 Class     Images  Instances      Box(P          R      mAP50  mAP50-95): 100%|██████████| 14/14 [00:04<00:00,  2.96it/s]\n"
          ]
        },
        {
          "output_type": "stream",
          "name": "stdout",
          "text": [
            "                   all        437        816      0.902      0.611      0.668      0.452\n",
            "\n",
            "      Epoch    GPU_mem   box_loss   cls_loss   dfl_loss  Instances       Size\n"
          ]
        },
        {
          "output_type": "stream",
          "name": "stderr",
          "text": [
            "     85/100      4.17G      1.148     0.9323      1.232         17        640: 100%|██████████| 196/196 [01:00<00:00,  3.23it/s]\n",
            "                 Class     Images  Instances      Box(P          R      mAP50  mAP50-95): 100%|██████████| 14/14 [00:05<00:00,  2.74it/s]"
          ]
        },
        {
          "output_type": "stream",
          "name": "stdout",
          "text": [
            "                   all        437        816      0.908      0.607      0.668      0.458\n"
          ]
        },
        {
          "output_type": "stream",
          "name": "stderr",
          "text": [
            "\n"
          ]
        },
        {
          "output_type": "stream",
          "name": "stdout",
          "text": [
            "\n",
            "      Epoch    GPU_mem   box_loss   cls_loss   dfl_loss  Instances       Size\n"
          ]
        },
        {
          "output_type": "stream",
          "name": "stderr",
          "text": [
            "     86/100      4.16G      1.153      0.933      1.229         10        640: 100%|██████████| 196/196 [01:03<00:00,  3.09it/s]\n",
            "                 Class     Images  Instances      Box(P          R      mAP50  mAP50-95): 100%|██████████| 14/14 [00:03<00:00,  3.97it/s]"
          ]
        },
        {
          "output_type": "stream",
          "name": "stdout",
          "text": [
            "                   all        437        816      0.896      0.615      0.668      0.453\n"
          ]
        },
        {
          "output_type": "stream",
          "name": "stderr",
          "text": [
            "\n"
          ]
        },
        {
          "output_type": "stream",
          "name": "stdout",
          "text": [
            "\n",
            "      Epoch    GPU_mem   box_loss   cls_loss   dfl_loss  Instances       Size\n"
          ]
        },
        {
          "output_type": "stream",
          "name": "stderr",
          "text": [
            "     87/100      4.14G      1.123     0.9024       1.22         15        640: 100%|██████████| 196/196 [01:02<00:00,  3.15it/s]\n",
            "                 Class     Images  Instances      Box(P          R      mAP50  mAP50-95): 100%|██████████| 14/14 [00:03<00:00,  3.95it/s]"
          ]
        },
        {
          "output_type": "stream",
          "name": "stdout",
          "text": [
            "                   all        437        816      0.912      0.607      0.667      0.451\n"
          ]
        },
        {
          "output_type": "stream",
          "name": "stderr",
          "text": [
            "\n"
          ]
        },
        {
          "output_type": "stream",
          "name": "stdout",
          "text": [
            "\n",
            "      Epoch    GPU_mem   box_loss   cls_loss   dfl_loss  Instances       Size\n"
          ]
        },
        {
          "output_type": "stream",
          "name": "stderr",
          "text": [
            "     88/100      4.18G      1.133     0.9107      1.232         20        640: 100%|██████████| 196/196 [01:01<00:00,  3.21it/s]\n",
            "                 Class     Images  Instances      Box(P          R      mAP50  mAP50-95): 100%|██████████| 14/14 [00:05<00:00,  2.70it/s]\n"
          ]
        },
        {
          "output_type": "stream",
          "name": "stdout",
          "text": [
            "                   all        437        816      0.901      0.614      0.673      0.454\n",
            "\n",
            "      Epoch    GPU_mem   box_loss   cls_loss   dfl_loss  Instances       Size\n"
          ]
        },
        {
          "output_type": "stream",
          "name": "stderr",
          "text": [
            "     89/100      4.14G      1.128     0.8977      1.214         23        640: 100%|██████████| 196/196 [01:00<00:00,  3.24it/s]\n",
            "                 Class     Images  Instances      Box(P          R      mAP50  mAP50-95): 100%|██████████| 14/14 [00:04<00:00,  2.89it/s]"
          ]
        },
        {
          "output_type": "stream",
          "name": "stdout",
          "text": [
            "                   all        437        816      0.905      0.605      0.669      0.453\n"
          ]
        },
        {
          "output_type": "stream",
          "name": "stderr",
          "text": [
            "\n"
          ]
        },
        {
          "output_type": "stream",
          "name": "stdout",
          "text": [
            "\n",
            "      Epoch    GPU_mem   box_loss   cls_loss   dfl_loss  Instances       Size\n"
          ]
        },
        {
          "output_type": "stream",
          "name": "stderr",
          "text": [
            "     90/100      4.15G      1.142     0.9154      1.227         23        640: 100%|██████████| 196/196 [01:01<00:00,  3.17it/s]\n",
            "                 Class     Images  Instances      Box(P          R      mAP50  mAP50-95): 100%|██████████| 14/14 [00:03<00:00,  4.02it/s]\n"
          ]
        },
        {
          "output_type": "stream",
          "name": "stdout",
          "text": [
            "                   all        437        816      0.892       0.62       0.67      0.462\n",
            "Closing dataloader mosaic\n",
            "\u001b[34m\u001b[1malbumentations: \u001b[0mBlur(p=0.01, blur_limit=(3, 7)), MedianBlur(p=0.01, blur_limit=(3, 7)), ToGray(p=0.01, num_output_channels=3, method='weighted_average'), CLAHE(p=0.01, clip_limit=(1.0, 4.0), tile_grid_size=(8, 8))\n",
            "\n",
            "      Epoch    GPU_mem   box_loss   cls_loss   dfl_loss  Instances       Size\n"
          ]
        },
        {
          "output_type": "stream",
          "name": "stderr",
          "text": [
            "     91/100      4.14G      1.054     0.8351      1.185         13        640: 100%|██████████| 196/196 [01:01<00:00,  3.17it/s]\n",
            "                 Class     Images  Instances      Box(P          R      mAP50  mAP50-95): 100%|██████████| 14/14 [00:03<00:00,  3.99it/s]\n"
          ]
        },
        {
          "output_type": "stream",
          "name": "stdout",
          "text": [
            "                   all        437        816       0.91      0.613      0.671      0.458\n",
            "\n",
            "      Epoch    GPU_mem   box_loss   cls_loss   dfl_loss  Instances       Size\n"
          ]
        },
        {
          "output_type": "stream",
          "name": "stderr",
          "text": [
            "     92/100      4.16G      1.044     0.8184       1.18         13        640: 100%|██████████| 196/196 [00:57<00:00,  3.38it/s]\n",
            "                 Class     Images  Instances      Box(P          R      mAP50  mAP50-95): 100%|██████████| 14/14 [00:04<00:00,  3.02it/s]"
          ]
        },
        {
          "output_type": "stream",
          "name": "stdout",
          "text": [
            "                   all        437        816      0.925      0.608       0.67      0.454\n"
          ]
        },
        {
          "output_type": "stream",
          "name": "stderr",
          "text": [
            "\n"
          ]
        },
        {
          "output_type": "stream",
          "name": "stdout",
          "text": [
            "\n",
            "      Epoch    GPU_mem   box_loss   cls_loss   dfl_loss  Instances       Size\n"
          ]
        },
        {
          "output_type": "stream",
          "name": "stderr",
          "text": [
            "     93/100      4.14G      1.036     0.8198      1.176         11        640: 100%|██████████| 196/196 [01:00<00:00,  3.23it/s]\n",
            "                 Class     Images  Instances      Box(P          R      mAP50  mAP50-95): 100%|██████████| 14/14 [00:03<00:00,  3.91it/s]\n"
          ]
        },
        {
          "output_type": "stream",
          "name": "stdout",
          "text": [
            "                   all        437        816      0.899      0.613      0.678      0.458\n",
            "\n",
            "      Epoch    GPU_mem   box_loss   cls_loss   dfl_loss  Instances       Size\n"
          ]
        },
        {
          "output_type": "stream",
          "name": "stderr",
          "text": [
            "     94/100      4.14G      1.035     0.8031      1.174         17        640: 100%|██████████| 196/196 [00:59<00:00,  3.30it/s]\n",
            "                 Class     Images  Instances      Box(P          R      mAP50  mAP50-95): 100%|██████████| 14/14 [00:05<00:00,  2.49it/s]"
          ]
        },
        {
          "output_type": "stream",
          "name": "stdout",
          "text": [
            "                   all        437        816      0.897      0.624      0.683      0.463\n"
          ]
        },
        {
          "output_type": "stream",
          "name": "stderr",
          "text": [
            "\n"
          ]
        },
        {
          "output_type": "stream",
          "name": "stdout",
          "text": [
            "\n",
            "      Epoch    GPU_mem   box_loss   cls_loss   dfl_loss  Instances       Size\n"
          ]
        },
        {
          "output_type": "stream",
          "name": "stderr",
          "text": [
            "     95/100      4.16G      1.026     0.8088      1.168         13        640: 100%|██████████| 196/196 [01:00<00:00,  3.26it/s]\n",
            "                 Class     Images  Instances      Box(P          R      mAP50  mAP50-95): 100%|██████████| 14/14 [00:03<00:00,  3.91it/s]\n"
          ]
        },
        {
          "output_type": "stream",
          "name": "stdout",
          "text": [
            "                   all        437        816      0.911      0.616      0.677      0.458\n",
            "\n",
            "      Epoch    GPU_mem   box_loss   cls_loss   dfl_loss  Instances       Size\n"
          ]
        },
        {
          "output_type": "stream",
          "name": "stderr",
          "text": [
            "     96/100      4.14G       1.02     0.7983      1.168          9        640: 100%|██████████| 196/196 [01:01<00:00,  3.21it/s]\n",
            "                 Class     Images  Instances      Box(P          R      mAP50  mAP50-95): 100%|██████████| 14/14 [00:04<00:00,  3.08it/s]\n"
          ]
        },
        {
          "output_type": "stream",
          "name": "stdout",
          "text": [
            "                   all        437        816      0.906      0.614      0.677      0.459\n",
            "\n",
            "      Epoch    GPU_mem   box_loss   cls_loss   dfl_loss  Instances       Size\n"
          ]
        },
        {
          "output_type": "stream",
          "name": "stderr",
          "text": [
            "     97/100      4.14G       1.02     0.8039      1.165          7        640: 100%|██████████| 196/196 [00:58<00:00,  3.35it/s]\n",
            "                 Class     Images  Instances      Box(P          R      mAP50  mAP50-95): 100%|██████████| 14/14 [00:04<00:00,  3.35it/s]"
          ]
        },
        {
          "output_type": "stream",
          "name": "stdout",
          "text": [
            "                   all        437        816      0.895      0.615      0.679       0.46\n"
          ]
        },
        {
          "output_type": "stream",
          "name": "stderr",
          "text": [
            "\n"
          ]
        },
        {
          "output_type": "stream",
          "name": "stdout",
          "text": [
            "\n",
            "      Epoch    GPU_mem   box_loss   cls_loss   dfl_loss  Instances       Size\n"
          ]
        },
        {
          "output_type": "stream",
          "name": "stderr",
          "text": [
            "     98/100      4.14G      1.022     0.7953       1.17         11        640: 100%|██████████| 196/196 [01:01<00:00,  3.20it/s]\n",
            "                 Class     Images  Instances      Box(P          R      mAP50  mAP50-95): 100%|██████████| 14/14 [00:03<00:00,  3.95it/s]"
          ]
        },
        {
          "output_type": "stream",
          "name": "stdout",
          "text": [
            "                   all        437        816        0.9      0.616       0.68      0.463\n"
          ]
        },
        {
          "output_type": "stream",
          "name": "stderr",
          "text": [
            "\n"
          ]
        },
        {
          "output_type": "stream",
          "name": "stdout",
          "text": [
            "\n",
            "      Epoch    GPU_mem   box_loss   cls_loss   dfl_loss  Instances       Size\n"
          ]
        },
        {
          "output_type": "stream",
          "name": "stderr",
          "text": [
            "     99/100      4.14G       1.01     0.7925      1.167         11        640: 100%|██████████| 196/196 [00:59<00:00,  3.29it/s]\n",
            "                 Class     Images  Instances      Box(P          R      mAP50  mAP50-95): 100%|██████████| 14/14 [00:04<00:00,  3.26it/s]"
          ]
        },
        {
          "output_type": "stream",
          "name": "stdout",
          "text": [
            "                   all        437        816      0.911      0.607      0.679      0.461\n"
          ]
        },
        {
          "output_type": "stream",
          "name": "stderr",
          "text": [
            "\n"
          ]
        },
        {
          "output_type": "stream",
          "name": "stdout",
          "text": [
            "\n",
            "      Epoch    GPU_mem   box_loss   cls_loss   dfl_loss  Instances       Size\n"
          ]
        },
        {
          "output_type": "stream",
          "name": "stderr",
          "text": [
            "    100/100      4.14G      1.007     0.7819      1.158         13        640: 100%|██████████| 196/196 [01:00<00:00,  3.26it/s]\n",
            "                 Class     Images  Instances      Box(P          R      mAP50  mAP50-95): 100%|██████████| 14/14 [00:03<00:00,  3.97it/s]\n"
          ]
        },
        {
          "output_type": "stream",
          "name": "stdout",
          "text": [
            "                   all        437        816      0.899      0.612      0.679      0.463\n",
            "\n",
            "100 epochs completed in 1.854 hours.\n",
            "Optimizer stripped from runs/detect/train2/weights/last.pt, 6.3MB\n",
            "Optimizer stripped from runs/detect/train2/weights/best.pt, 6.3MB\n",
            "\n",
            "Validating runs/detect/train2/weights/best.pt...\n",
            "Ultralytics 8.3.53 🚀 Python-3.10.12 torch-2.5.1+cu121 CUDA:0 (Tesla T4, 15102MiB)\n",
            "Model summary (fused): 168 layers, 3,005,843 parameters, 0 gradients, 8.1 GFLOPs\n"
          ]
        },
        {
          "output_type": "stream",
          "name": "stderr",
          "text": [
            "                 Class     Images  Instances      Box(P          R      mAP50  mAP50-95): 100%|██████████| 14/14 [00:05<00:00,  2.49it/s]\n"
          ]
        },
        {
          "output_type": "stream",
          "name": "stdout",
          "text": [
            "                   all        437        816      0.895      0.625      0.683      0.463\n",
            "Speed: 0.3ms preprocess, 2.3ms inference, 0.0ms loss, 2.3ms postprocess per image\n",
            "Results saved to \u001b[1mruns/detect/train2\u001b[0m\n",
            "ultralytics.utils.metrics.DetMetrics object with attributes:\n",
            "\n",
            "ap_class_index: array([0])\n",
            "box: ultralytics.utils.metrics.Metric object\n",
            "confusion_matrix: <ultralytics.utils.metrics.ConfusionMatrix object at 0x7ee3fc0dda20>\n",
            "curves: ['Precision-Recall(B)', 'F1-Confidence(B)', 'Precision-Confidence(B)', 'Recall-Confidence(B)']\n",
            "curves_results: [[array([          0,    0.001001,    0.002002,    0.003003,    0.004004,    0.005005,    0.006006,    0.007007,    0.008008,    0.009009,     0.01001,    0.011011,    0.012012,    0.013013,    0.014014,    0.015015,    0.016016,    0.017017,    0.018018,    0.019019,     0.02002,    0.021021,    0.022022,    0.023023,\n",
            "          0.024024,    0.025025,    0.026026,    0.027027,    0.028028,    0.029029,     0.03003,    0.031031,    0.032032,    0.033033,    0.034034,    0.035035,    0.036036,    0.037037,    0.038038,    0.039039,     0.04004,    0.041041,    0.042042,    0.043043,    0.044044,    0.045045,    0.046046,    0.047047,\n",
            "          0.048048,    0.049049,     0.05005,    0.051051,    0.052052,    0.053053,    0.054054,    0.055055,    0.056056,    0.057057,    0.058058,    0.059059,     0.06006,    0.061061,    0.062062,    0.063063,    0.064064,    0.065065,    0.066066,    0.067067,    0.068068,    0.069069,     0.07007,    0.071071,\n",
            "          0.072072,    0.073073,    0.074074,    0.075075,    0.076076,    0.077077,    0.078078,    0.079079,     0.08008,    0.081081,    0.082082,    0.083083,    0.084084,    0.085085,    0.086086,    0.087087,    0.088088,    0.089089,     0.09009,    0.091091,    0.092092,    0.093093,    0.094094,    0.095095,\n",
            "          0.096096,    0.097097,    0.098098,    0.099099,      0.1001,      0.1011,      0.1021,      0.1031,      0.1041,     0.10511,     0.10611,     0.10711,     0.10811,     0.10911,     0.11011,     0.11111,     0.11211,     0.11311,     0.11411,     0.11512,     0.11612,     0.11712,     0.11812,     0.11912,\n",
            "           0.12012,     0.12112,     0.12212,     0.12312,     0.12412,     0.12513,     0.12613,     0.12713,     0.12813,     0.12913,     0.13013,     0.13113,     0.13213,     0.13313,     0.13413,     0.13514,     0.13614,     0.13714,     0.13814,     0.13914,     0.14014,     0.14114,     0.14214,     0.14314,\n",
            "           0.14414,     0.14515,     0.14615,     0.14715,     0.14815,     0.14915,     0.15015,     0.15115,     0.15215,     0.15315,     0.15415,     0.15516,     0.15616,     0.15716,     0.15816,     0.15916,     0.16016,     0.16116,     0.16216,     0.16316,     0.16416,     0.16517,     0.16617,     0.16717,\n",
            "           0.16817,     0.16917,     0.17017,     0.17117,     0.17217,     0.17317,     0.17417,     0.17518,     0.17618,     0.17718,     0.17818,     0.17918,     0.18018,     0.18118,     0.18218,     0.18318,     0.18418,     0.18519,     0.18619,     0.18719,     0.18819,     0.18919,     0.19019,     0.19119,\n",
            "           0.19219,     0.19319,     0.19419,      0.1952,      0.1962,      0.1972,      0.1982,      0.1992,      0.2002,      0.2012,      0.2022,      0.2032,      0.2042,     0.20521,     0.20621,     0.20721,     0.20821,     0.20921,     0.21021,     0.21121,     0.21221,     0.21321,     0.21421,     0.21522,\n",
            "           0.21622,     0.21722,     0.21822,     0.21922,     0.22022,     0.22122,     0.22222,     0.22322,     0.22422,     0.22523,     0.22623,     0.22723,     0.22823,     0.22923,     0.23023,     0.23123,     0.23223,     0.23323,     0.23423,     0.23524,     0.23624,     0.23724,     0.23824,     0.23924,\n",
            "           0.24024,     0.24124,     0.24224,     0.24324,     0.24424,     0.24525,     0.24625,     0.24725,     0.24825,     0.24925,     0.25025,     0.25125,     0.25225,     0.25325,     0.25425,     0.25526,     0.25626,     0.25726,     0.25826,     0.25926,     0.26026,     0.26126,     0.26226,     0.26326,\n",
            "           0.26426,     0.26527,     0.26627,     0.26727,     0.26827,     0.26927,     0.27027,     0.27127,     0.27227,     0.27327,     0.27427,     0.27528,     0.27628,     0.27728,     0.27828,     0.27928,     0.28028,     0.28128,     0.28228,     0.28328,     0.28428,     0.28529,     0.28629,     0.28729,\n",
            "           0.28829,     0.28929,     0.29029,     0.29129,     0.29229,     0.29329,     0.29429,      0.2953,      0.2963,      0.2973,      0.2983,      0.2993,      0.3003,      0.3013,      0.3023,      0.3033,      0.3043,     0.30531,     0.30631,     0.30731,     0.30831,     0.30931,     0.31031,     0.31131,\n",
            "           0.31231,     0.31331,     0.31431,     0.31532,     0.31632,     0.31732,     0.31832,     0.31932,     0.32032,     0.32132,     0.32232,     0.32332,     0.32432,     0.32533,     0.32633,     0.32733,     0.32833,     0.32933,     0.33033,     0.33133,     0.33233,     0.33333,     0.33433,     0.33534,\n",
            "           0.33634,     0.33734,     0.33834,     0.33934,     0.34034,     0.34134,     0.34234,     0.34334,     0.34434,     0.34535,     0.34635,     0.34735,     0.34835,     0.34935,     0.35035,     0.35135,     0.35235,     0.35335,     0.35435,     0.35536,     0.35636,     0.35736,     0.35836,     0.35936,\n",
            "           0.36036,     0.36136,     0.36236,     0.36336,     0.36436,     0.36537,     0.36637,     0.36737,     0.36837,     0.36937,     0.37037,     0.37137,     0.37237,     0.37337,     0.37437,     0.37538,     0.37638,     0.37738,     0.37838,     0.37938,     0.38038,     0.38138,     0.38238,     0.38338,\n",
            "           0.38438,     0.38539,     0.38639,     0.38739,     0.38839,     0.38939,     0.39039,     0.39139,     0.39239,     0.39339,     0.39439,      0.3954,      0.3964,      0.3974,      0.3984,      0.3994,      0.4004,      0.4014,      0.4024,      0.4034,      0.4044,     0.40541,     0.40641,     0.40741,\n",
            "           0.40841,     0.40941,     0.41041,     0.41141,     0.41241,     0.41341,     0.41441,     0.41542,     0.41642,     0.41742,     0.41842,     0.41942,     0.42042,     0.42142,     0.42242,     0.42342,     0.42442,     0.42543,     0.42643,     0.42743,     0.42843,     0.42943,     0.43043,     0.43143,\n",
            "           0.43243,     0.43343,     0.43443,     0.43544,     0.43644,     0.43744,     0.43844,     0.43944,     0.44044,     0.44144,     0.44244,     0.44344,     0.44444,     0.44545,     0.44645,     0.44745,     0.44845,     0.44945,     0.45045,     0.45145,     0.45245,     0.45345,     0.45445,     0.45546,\n",
            "           0.45646,     0.45746,     0.45846,     0.45946,     0.46046,     0.46146,     0.46246,     0.46346,     0.46446,     0.46547,     0.46647,     0.46747,     0.46847,     0.46947,     0.47047,     0.47147,     0.47247,     0.47347,     0.47447,     0.47548,     0.47648,     0.47748,     0.47848,     0.47948,\n",
            "           0.48048,     0.48148,     0.48248,     0.48348,     0.48448,     0.48549,     0.48649,     0.48749,     0.48849,     0.48949,     0.49049,     0.49149,     0.49249,     0.49349,     0.49449,      0.4955,      0.4965,      0.4975,      0.4985,      0.4995,      0.5005,      0.5015,      0.5025,      0.5035,\n",
            "            0.5045,     0.50551,     0.50651,     0.50751,     0.50851,     0.50951,     0.51051,     0.51151,     0.51251,     0.51351,     0.51451,     0.51552,     0.51652,     0.51752,     0.51852,     0.51952,     0.52052,     0.52152,     0.52252,     0.52352,     0.52452,     0.52553,     0.52653,     0.52753,\n",
            "           0.52853,     0.52953,     0.53053,     0.53153,     0.53253,     0.53353,     0.53453,     0.53554,     0.53654,     0.53754,     0.53854,     0.53954,     0.54054,     0.54154,     0.54254,     0.54354,     0.54454,     0.54555,     0.54655,     0.54755,     0.54855,     0.54955,     0.55055,     0.55155,\n",
            "           0.55255,     0.55355,     0.55455,     0.55556,     0.55656,     0.55756,     0.55856,     0.55956,     0.56056,     0.56156,     0.56256,     0.56356,     0.56456,     0.56557,     0.56657,     0.56757,     0.56857,     0.56957,     0.57057,     0.57157,     0.57257,     0.57357,     0.57457,     0.57558,\n",
            "           0.57658,     0.57758,     0.57858,     0.57958,     0.58058,     0.58158,     0.58258,     0.58358,     0.58458,     0.58559,     0.58659,     0.58759,     0.58859,     0.58959,     0.59059,     0.59159,     0.59259,     0.59359,     0.59459,      0.5956,      0.5966,      0.5976,      0.5986,      0.5996,\n",
            "            0.6006,      0.6016,      0.6026,      0.6036,      0.6046,     0.60561,     0.60661,     0.60761,     0.60861,     0.60961,     0.61061,     0.61161,     0.61261,     0.61361,     0.61461,     0.61562,     0.61662,     0.61762,     0.61862,     0.61962,     0.62062,     0.62162,     0.62262,     0.62362,\n",
            "           0.62462,     0.62563,     0.62663,     0.62763,     0.62863,     0.62963,     0.63063,     0.63163,     0.63263,     0.63363,     0.63463,     0.63564,     0.63664,     0.63764,     0.63864,     0.63964,     0.64064,     0.64164,     0.64264,     0.64364,     0.64464,     0.64565,     0.64665,     0.64765,\n",
            "           0.64865,     0.64965,     0.65065,     0.65165,     0.65265,     0.65365,     0.65465,     0.65566,     0.65666,     0.65766,     0.65866,     0.65966,     0.66066,     0.66166,     0.66266,     0.66366,     0.66466,     0.66567,     0.66667,     0.66767,     0.66867,     0.66967,     0.67067,     0.67167,\n",
            "           0.67267,     0.67367,     0.67467,     0.67568,     0.67668,     0.67768,     0.67868,     0.67968,     0.68068,     0.68168,     0.68268,     0.68368,     0.68468,     0.68569,     0.68669,     0.68769,     0.68869,     0.68969,     0.69069,     0.69169,     0.69269,     0.69369,     0.69469,      0.6957,\n",
            "            0.6967,      0.6977,      0.6987,      0.6997,      0.7007,      0.7017,      0.7027,      0.7037,      0.7047,     0.70571,     0.70671,     0.70771,     0.70871,     0.70971,     0.71071,     0.71171,     0.71271,     0.71371,     0.71471,     0.71572,     0.71672,     0.71772,     0.71872,     0.71972,\n",
            "           0.72072,     0.72172,     0.72272,     0.72372,     0.72472,     0.72573,     0.72673,     0.72773,     0.72873,     0.72973,     0.73073,     0.73173,     0.73273,     0.73373,     0.73473,     0.73574,     0.73674,     0.73774,     0.73874,     0.73974,     0.74074,     0.74174,     0.74274,     0.74374,\n",
            "           0.74474,     0.74575,     0.74675,     0.74775,     0.74875,     0.74975,     0.75075,     0.75175,     0.75275,     0.75375,     0.75475,     0.75576,     0.75676,     0.75776,     0.75876,     0.75976,     0.76076,     0.76176,     0.76276,     0.76376,     0.76476,     0.76577,     0.76677,     0.76777,\n",
            "           0.76877,     0.76977,     0.77077,     0.77177,     0.77277,     0.77377,     0.77477,     0.77578,     0.77678,     0.77778,     0.77878,     0.77978,     0.78078,     0.78178,     0.78278,     0.78378,     0.78478,     0.78579,     0.78679,     0.78779,     0.78879,     0.78979,     0.79079,     0.79179,\n",
            "           0.79279,     0.79379,     0.79479,      0.7958,      0.7968,      0.7978,      0.7988,      0.7998,      0.8008,      0.8018,      0.8028,      0.8038,      0.8048,     0.80581,     0.80681,     0.80781,     0.80881,     0.80981,     0.81081,     0.81181,     0.81281,     0.81381,     0.81481,     0.81582,\n",
            "           0.81682,     0.81782,     0.81882,     0.81982,     0.82082,     0.82182,     0.82282,     0.82382,     0.82482,     0.82583,     0.82683,     0.82783,     0.82883,     0.82983,     0.83083,     0.83183,     0.83283,     0.83383,     0.83483,     0.83584,     0.83684,     0.83784,     0.83884,     0.83984,\n",
            "           0.84084,     0.84184,     0.84284,     0.84384,     0.84484,     0.84585,     0.84685,     0.84785,     0.84885,     0.84985,     0.85085,     0.85185,     0.85285,     0.85385,     0.85485,     0.85586,     0.85686,     0.85786,     0.85886,     0.85986,     0.86086,     0.86186,     0.86286,     0.86386,\n",
            "           0.86486,     0.86587,     0.86687,     0.86787,     0.86887,     0.86987,     0.87087,     0.87187,     0.87287,     0.87387,     0.87487,     0.87588,     0.87688,     0.87788,     0.87888,     0.87988,     0.88088,     0.88188,     0.88288,     0.88388,     0.88488,     0.88589,     0.88689,     0.88789,\n",
            "           0.88889,     0.88989,     0.89089,     0.89189,     0.89289,     0.89389,     0.89489,      0.8959,      0.8969,      0.8979,      0.8989,      0.8999,      0.9009,      0.9019,      0.9029,      0.9039,      0.9049,     0.90591,     0.90691,     0.90791,     0.90891,     0.90991,     0.91091,     0.91191,\n",
            "           0.91291,     0.91391,     0.91491,     0.91592,     0.91692,     0.91792,     0.91892,     0.91992,     0.92092,     0.92192,     0.92292,     0.92392,     0.92492,     0.92593,     0.92693,     0.92793,     0.92893,     0.92993,     0.93093,     0.93193,     0.93293,     0.93393,     0.93493,     0.93594,\n",
            "           0.93694,     0.93794,     0.93894,     0.93994,     0.94094,     0.94194,     0.94294,     0.94394,     0.94494,     0.94595,     0.94695,     0.94795,     0.94895,     0.94995,     0.95095,     0.95195,     0.95295,     0.95395,     0.95495,     0.95596,     0.95696,     0.95796,     0.95896,     0.95996,\n",
            "           0.96096,     0.96196,     0.96296,     0.96396,     0.96496,     0.96597,     0.96697,     0.96797,     0.96897,     0.96997,     0.97097,     0.97197,     0.97297,     0.97397,     0.97497,     0.97598,     0.97698,     0.97798,     0.97898,     0.97998,     0.98098,     0.98198,     0.98298,     0.98398,\n",
            "           0.98498,     0.98599,     0.98699,     0.98799,     0.98899,     0.98999,     0.99099,     0.99199,     0.99299,     0.99399,     0.99499,       0.996,       0.997,       0.998,       0.999,           1]), array([[          1,           1,           1,           1,           1,           1,           1,           1,           1,           1,           1,           1,           1,           1,           1,           1,           1,           1,           1,           1,           1,           1,           1,\n",
            "                  1,           1,           1,           1,           1,           1,           1,           1,           1,           1,           1,           1,           1,           1,           1,           1,           1,           1,           1,           1,           1,           1,           1,\n",
            "                  1,           1,           1,           1,           1,           1,           1,           1,           1,           1,           1,           1,           1,           1,           1,           1,     0.99338,     0.99338,     0.99338,     0.99338,     0.99338,     0.99338,     0.99338,\n",
            "            0.99338,     0.99338,     0.99338,     0.99338,     0.99338,     0.99338,     0.99338,     0.99338,     0.99338,     0.99338,     0.99338,     0.99338,     0.99338,     0.99338,     0.99338,     0.99338,     0.99338,     0.99338,     0.99338,     0.99338,     0.99338,     0.99338,     0.99338,\n",
            "            0.99338,     0.99338,     0.99338,     0.99338,     0.99338,     0.99338,     0.99338,     0.99338,     0.99338,     0.99338,     0.99338,     0.99338,     0.99338,     0.99338,     0.99338,     0.99338,     0.99338,     0.99338,     0.99338,     0.99338,     0.99338,     0.99338,     0.99338,\n",
            "            0.99338,     0.99338,     0.99338,     0.99338,     0.99338,     0.99338,     0.99338,     0.99338,     0.99338,     0.99338,     0.99338,     0.99338,     0.99338,     0.99338,     0.99338,     0.99338,     0.99338,     0.99338,     0.99338,     0.99338,     0.99338,     0.99338,     0.99338,\n",
            "            0.99338,     0.99338,     0.99338,     0.99338,     0.99338,     0.99338,     0.99338,     0.99338,     0.99338,     0.99338,     0.99338,     0.99338,     0.99338,     0.99338,     0.99338,     0.99338,     0.99338,     0.99338,     0.99338,     0.99338,     0.99338,     0.99338,     0.99338,\n",
            "            0.99338,     0.99338,     0.99338,     0.99338,     0.99338,     0.99338,     0.99338,     0.99338,     0.99338,     0.99338,     0.99338,     0.99338,     0.99338,     0.99338,     0.99338,     0.99338,     0.99338,     0.99338,     0.99338,     0.99338,     0.99338,     0.99338,     0.99338,\n",
            "             0.9871,      0.9871,      0.9871,      0.9871,     0.98413,     0.98413,     0.98413,     0.98413,     0.98413,     0.98413,     0.98413,     0.98413,     0.98413,     0.98413,     0.98413,     0.98413,     0.98413,     0.98413,     0.98413,     0.98413,     0.98413,     0.98413,     0.98413,\n",
            "            0.98413,     0.98413,     0.98413,     0.98413,     0.98413,     0.98413,     0.98413,     0.98413,     0.98413,     0.98413,     0.98413,     0.98413,     0.98413,     0.98413,     0.98413,     0.98413,     0.98413,     0.98413,     0.98413,     0.98413,     0.98413,     0.98413,     0.98413,\n",
            "            0.98413,     0.98413,     0.98413,     0.98413,     0.98413,     0.98413,     0.98413,     0.98413,     0.98413,     0.98413,     0.98413,     0.98413,     0.98413,     0.98413,     0.98413,     0.98413,     0.98413,     0.98413,     0.98413,     0.98413,     0.98413,     0.98413,     0.98413,\n",
            "            0.98413,     0.98413,     0.98413,     0.98413,     0.98413,     0.98413,     0.98413,     0.98413,     0.98413,     0.98413,     0.98413,     0.98413,     0.98413,     0.98413,     0.98413,     0.98413,     0.98413,     0.98413,     0.98413,     0.98413,     0.98413,     0.98413,     0.98413,\n",
            "            0.98413,     0.98413,     0.98413,     0.98413,     0.98413,     0.98413,     0.98413,     0.98413,     0.98413,     0.98413,     0.98413,     0.98413,     0.98413,     0.98413,     0.98413,     0.98413,     0.98413,     0.98413,     0.98413,     0.98413,     0.98413,     0.98413,     0.98413,\n",
            "            0.98413,     0.98413,     0.98413,     0.98413,     0.98413,     0.98252,     0.98252,     0.98252,     0.98252,     0.98252,     0.98252,     0.98252,     0.98252,     0.98252,     0.98252,     0.98252,     0.98252,     0.98252,     0.98252,     0.98252,     0.98252,     0.98252,     0.98252,\n",
            "            0.98252,     0.98252,     0.98252,     0.98252,     0.98252,     0.98252,     0.98252,     0.98252,     0.98252,     0.98252,     0.98252,     0.98252,     0.98252,     0.98252,     0.98252,     0.98252,     0.98252,     0.98252,     0.98252,     0.98252,     0.98252,     0.98252,     0.98252,\n",
            "            0.98131,     0.98131,     0.98131,     0.98131,     0.98131,     0.98131,     0.98131,     0.98131,     0.98131,     0.98131,     0.98131,     0.98131,     0.98131,     0.98131,     0.98131,     0.98131,     0.98131,     0.98131,     0.98131,     0.98131,     0.98131,     0.98131,     0.98131,\n",
            "            0.98131,     0.98131,     0.98131,     0.98131,     0.98131,     0.98131,     0.98131,     0.98131,     0.98131,     0.98131,     0.98131,     0.98131,     0.98131,     0.98131,     0.98131,     0.98131,     0.98131,     0.98131,     0.97971,     0.97971,     0.97971,     0.97971,     0.97971,\n",
            "            0.97971,     0.97971,     0.97971,     0.97971,     0.97971,     0.97971,     0.97971,     0.97971,     0.97971,     0.97971,     0.97971,     0.97971,     0.97971,     0.97971,     0.97971,     0.97971,     0.97971,     0.97971,     0.97971,     0.97971,     0.97971,     0.97971,     0.97971,\n",
            "             0.9774,      0.9774,      0.9774,      0.9774,      0.9774,      0.9774,      0.9774,      0.9774,      0.9774,      0.9774,     0.97214,     0.97214,     0.97214,     0.97214,     0.96995,     0.96995,     0.96995,     0.96995,     0.96995,     0.96995,     0.96995,     0.96825,     0.96825,\n",
            "            0.96825,     0.96825,     0.96825,     0.96825,     0.96825,     0.96825,     0.96825,     0.96825,     0.96825,     0.96825,     0.96825,     0.96825,     0.96742,     0.96742,     0.96742,     0.96742,     0.96742,     0.96742,     0.96742,     0.96742,     0.96742,     0.96742,     0.96742,\n",
            "            0.96742,     0.96742,     0.96742,     0.96742,     0.96742,     0.96742,     0.96742,     0.96742,     0.96742,     0.96742,     0.96742,     0.96742,     0.96742,     0.96643,     0.96643,     0.96643,     0.96643,     0.96643,     0.96643,     0.96643,     0.96643,     0.96643,     0.96643,\n",
            "            0.96643,     0.96643,     0.96643,     0.96643,     0.96643,     0.96643,     0.96643,     0.96643,     0.96643,     0.96643,     0.96643,     0.96536,     0.96536,     0.96536,     0.96536,     0.96536,     0.96536,     0.96536,     0.96536,     0.96536,     0.96536,     0.96536,     0.96536,\n",
            "            0.96536,     0.96536,     0.96536,     0.96536,     0.96536,     0.96536,      0.9646,      0.9646,      0.9646,      0.9646,      0.9646,      0.9646,      0.9646,      0.9646,      0.9646,      0.9646,      0.9646,      0.9646,      0.9646,      0.9646,      0.9646,      0.9646,      0.9646,\n",
            "             0.9646,      0.9646,      0.9646,      0.9646,      0.9646,      0.9628,      0.9628,      0.9628,      0.9628,      0.9628,     0.96104,     0.96104,     0.96104,     0.96104,     0.96104,     0.95983,     0.95983,     0.95983,     0.95983,     0.95983,     0.95983,     0.95983,     0.95983,\n",
            "            0.95983,     0.95983,     0.95983,     0.95983,     0.95825,     0.95825,     0.95825,     0.95825,     0.95825,     0.95825,     0.95652,     0.95652,     0.95652,     0.95652,     0.95464,     0.95132,     0.95132,     0.95132,     0.95132,     0.95132,     0.95132,     0.95132,     0.95132,\n",
            "            0.94769,     0.94769,     0.94622,     0.94622,     0.94622,     0.94622,     0.94622,     0.94521,     0.94521,     0.94521,     0.94521,     0.94521,     0.94521,     0.94521,     0.94521,     0.94521,     0.94521,     0.94347,     0.94197,     0.94197,     0.94197,     0.94197,     0.93846,\n",
            "            0.93333,     0.93333,     0.92817,     0.92817,     0.92655,     0.92495,     0.92351,     0.92351,     0.92351,     0.92037,     0.92037,     0.91882,     0.91225,     0.90433,     0.90433,     0.90433,     0.90288,     0.90196,     0.90196,     0.90196,     0.90196,     0.90196,     0.90088,\n",
            "            0.90088,     0.90088,     0.90088,     0.89474,     0.88256,     0.87543,     0.87543,     0.87543,     0.87119,     0.85738,     0.85738,     0.85738,     0.85338,     0.85338,      0.8527,      0.8527,      0.8527,     0.84058,     0.84058,     0.83016,      0.8265,     0.82547,     0.81705,\n",
            "            0.81705,     0.81705,     0.80734,     0.78024,     0.77713,     0.77551,     0.77551,     0.77551,     0.76691,     0.75105,     0.71909,     0.67934,     0.67934,     0.66296,     0.65054,     0.63486,     0.60538,     0.60538,     0.60111,     0.57294,     0.56799,     0.56373,     0.56186,\n",
            "            0.56186,     0.55431,     0.54105,     0.53307,     0.53191,     0.53191,     0.53191,      0.5293,     0.51734,     0.51634,     0.51634,     0.50594,     0.50409,     0.49777,     0.49777,     0.46154,     0.46154,     0.45603,     0.45603,     0.44243,     0.44044,     0.44044,     0.43916,\n",
            "            0.43328,     0.43328,      0.4314,     0.41907,     0.41907,      0.4146,     0.40672,     0.39474,     0.39352,     0.39352,     0.39273,     0.39273,     0.37152,     0.37073,     0.35955,     0.35955,     0.35883,     0.35547,     0.35391,     0.34462,     0.34462,     0.33996,      0.3255,\n",
            "            0.32497,     0.31466,     0.30564,     0.30564,     0.29656,      0.2916,     0.28215,     0.27954,     0.27954,     0.27909,     0.26197,     0.25672,     0.25593,      0.2475,      0.2475,     0.24556,     0.24228,     0.23918,     0.23636,     0.23636,     0.23021,     0.22936,     0.22594,\n",
            "            0.21851,     0.21851,      0.2136,     0.21283,     0.21117,     0.20861,     0.20597,     0.20597,     0.20403,     0.20253,     0.19696,     0.19447,     0.19447,     0.19447,     0.18786,     0.18334,     0.17064,     0.16937,     0.16937,     0.16047,     0.16031,     0.15743,      0.1503,\n",
            "             0.1503,     0.14723,     0.14435,     0.14415,      0.1413,     0.13998,     0.13998,     0.13656,     0.13343,     0.13144,     0.12641,     0.12641,      0.1258,     0.12407,     0.11874,     0.11874,     0.11739,     0.11739,     0.11688,     0.11251,     0.10902,     0.10703,     0.10703,\n",
            "            0.10698,     0.10651,     0.10588,     0.10465,     0.10336,     0.10336,       0.102,    0.098236,    0.098236,    0.097513,    0.097513,    0.096919,    0.093718,    0.088124,    0.083429,    0.078973,    0.078973,    0.077933,    0.074322,    0.074322,    0.072342,    0.072342,    0.071647,\n",
            "           0.071444,    0.071274,    0.067114,    0.067114,    0.066754,    0.065447,    0.063239,    0.058149,    0.055091,    0.055091,    0.053945,    0.053041,    0.053041,    0.052835,    0.052835,    0.052516,    0.051979,    0.049682,    0.049657,    0.049291,    0.049291,    0.046658,    0.045586,\n",
            "           0.044098,    0.042822,    0.042822,    0.040241,    0.040241,    0.040186,    0.039005,    0.038933,    0.038933,    0.038857,    0.037737,    0.037562,    0.037447,    0.037447,    0.037369,    0.036139,    0.036139,     0.03593,    0.033872,    0.033872,    0.033269,     0.03279,    0.032492,\n",
            "            0.03175,     0.03175,    0.031744,    0.030926,    0.029818,    0.029757,    0.027351,    0.027351,    0.025849,    0.025459,    0.023996,    0.023709,    0.023709,    0.023269,    0.020383,     0.01953,    0.019505,    0.019505,    0.018539,    0.018422,    0.017882,    0.017744,    0.016909,\n",
            "           0.016775,     0.01664,    0.016506,    0.016372,    0.016238,    0.016104,    0.015969,    0.015835,    0.015701,    0.015567,    0.015433,    0.015299,    0.015164,     0.01503,    0.014896,    0.014762,    0.014628,    0.014493,    0.014359,    0.014225,    0.014091,    0.013957,    0.013822,\n",
            "           0.013688,    0.013554,     0.01342,    0.013286,    0.013151,    0.013017,    0.012883,    0.012749,    0.012615,     0.01248,    0.012346,    0.012212,    0.012078,    0.011944,    0.011809,    0.011675,    0.011541,    0.011407,    0.011273,    0.011138,    0.011004,     0.01087,    0.010736,\n",
            "           0.010602,    0.010467,    0.010333,    0.010199,    0.010065,   0.0099306,   0.0097964,   0.0096622,    0.009528,   0.0093938,   0.0092596,   0.0091254,   0.0089912,    0.008857,   0.0087228,   0.0085886,   0.0084544,   0.0083202,    0.008186,   0.0080518,   0.0079176,   0.0077835,   0.0076493,\n",
            "          0.0075151,   0.0073809,   0.0072467,   0.0071125,   0.0069783,   0.0068441,   0.0067099,   0.0065757,   0.0064415,   0.0063073,   0.0061731,   0.0060389,   0.0059047,   0.0057705,   0.0056363,   0.0055021,   0.0053679,   0.0052337,   0.0050995,   0.0049653,   0.0048311,   0.0046969,   0.0045627,\n",
            "          0.0044285,   0.0042943,   0.0041601,   0.0040259,   0.0038917,   0.0037575,   0.0036233,   0.0034891,   0.0033549,   0.0032207,   0.0030865,   0.0029523,   0.0028181,   0.0026839,   0.0025498,   0.0024156,   0.0022814,   0.0021472,    0.002013,   0.0018788,   0.0017446,   0.0016104,   0.0014762,\n",
            "           0.001342,   0.0012078,   0.0010736,  0.00093938,  0.00080518,  0.00067099,  0.00053679,  0.00040259,  0.00026839,   0.0001342,           0]]), 'Recall', 'Precision'], [array([          0,    0.001001,    0.002002,    0.003003,    0.004004,    0.005005,    0.006006,    0.007007,    0.008008,    0.009009,     0.01001,    0.011011,    0.012012,    0.013013,    0.014014,    0.015015,    0.016016,    0.017017,    0.018018,    0.019019,     0.02002,    0.021021,    0.022022,    0.023023,\n",
            "          0.024024,    0.025025,    0.026026,    0.027027,    0.028028,    0.029029,     0.03003,    0.031031,    0.032032,    0.033033,    0.034034,    0.035035,    0.036036,    0.037037,    0.038038,    0.039039,     0.04004,    0.041041,    0.042042,    0.043043,    0.044044,    0.045045,    0.046046,    0.047047,\n",
            "          0.048048,    0.049049,     0.05005,    0.051051,    0.052052,    0.053053,    0.054054,    0.055055,    0.056056,    0.057057,    0.058058,    0.059059,     0.06006,    0.061061,    0.062062,    0.063063,    0.064064,    0.065065,    0.066066,    0.067067,    0.068068,    0.069069,     0.07007,    0.071071,\n",
            "          0.072072,    0.073073,    0.074074,    0.075075,    0.076076,    0.077077,    0.078078,    0.079079,     0.08008,    0.081081,    0.082082,    0.083083,    0.084084,    0.085085,    0.086086,    0.087087,    0.088088,    0.089089,     0.09009,    0.091091,    0.092092,    0.093093,    0.094094,    0.095095,\n",
            "          0.096096,    0.097097,    0.098098,    0.099099,      0.1001,      0.1011,      0.1021,      0.1031,      0.1041,     0.10511,     0.10611,     0.10711,     0.10811,     0.10911,     0.11011,     0.11111,     0.11211,     0.11311,     0.11411,     0.11512,     0.11612,     0.11712,     0.11812,     0.11912,\n",
            "           0.12012,     0.12112,     0.12212,     0.12312,     0.12412,     0.12513,     0.12613,     0.12713,     0.12813,     0.12913,     0.13013,     0.13113,     0.13213,     0.13313,     0.13413,     0.13514,     0.13614,     0.13714,     0.13814,     0.13914,     0.14014,     0.14114,     0.14214,     0.14314,\n",
            "           0.14414,     0.14515,     0.14615,     0.14715,     0.14815,     0.14915,     0.15015,     0.15115,     0.15215,     0.15315,     0.15415,     0.15516,     0.15616,     0.15716,     0.15816,     0.15916,     0.16016,     0.16116,     0.16216,     0.16316,     0.16416,     0.16517,     0.16617,     0.16717,\n",
            "           0.16817,     0.16917,     0.17017,     0.17117,     0.17217,     0.17317,     0.17417,     0.17518,     0.17618,     0.17718,     0.17818,     0.17918,     0.18018,     0.18118,     0.18218,     0.18318,     0.18418,     0.18519,     0.18619,     0.18719,     0.18819,     0.18919,     0.19019,     0.19119,\n",
            "           0.19219,     0.19319,     0.19419,      0.1952,      0.1962,      0.1972,      0.1982,      0.1992,      0.2002,      0.2012,      0.2022,      0.2032,      0.2042,     0.20521,     0.20621,     0.20721,     0.20821,     0.20921,     0.21021,     0.21121,     0.21221,     0.21321,     0.21421,     0.21522,\n",
            "           0.21622,     0.21722,     0.21822,     0.21922,     0.22022,     0.22122,     0.22222,     0.22322,     0.22422,     0.22523,     0.22623,     0.22723,     0.22823,     0.22923,     0.23023,     0.23123,     0.23223,     0.23323,     0.23423,     0.23524,     0.23624,     0.23724,     0.23824,     0.23924,\n",
            "           0.24024,     0.24124,     0.24224,     0.24324,     0.24424,     0.24525,     0.24625,     0.24725,     0.24825,     0.24925,     0.25025,     0.25125,     0.25225,     0.25325,     0.25425,     0.25526,     0.25626,     0.25726,     0.25826,     0.25926,     0.26026,     0.26126,     0.26226,     0.26326,\n",
            "           0.26426,     0.26527,     0.26627,     0.26727,     0.26827,     0.26927,     0.27027,     0.27127,     0.27227,     0.27327,     0.27427,     0.27528,     0.27628,     0.27728,     0.27828,     0.27928,     0.28028,     0.28128,     0.28228,     0.28328,     0.28428,     0.28529,     0.28629,     0.28729,\n",
            "           0.28829,     0.28929,     0.29029,     0.29129,     0.29229,     0.29329,     0.29429,      0.2953,      0.2963,      0.2973,      0.2983,      0.2993,      0.3003,      0.3013,      0.3023,      0.3033,      0.3043,     0.30531,     0.30631,     0.30731,     0.30831,     0.30931,     0.31031,     0.31131,\n",
            "           0.31231,     0.31331,     0.31431,     0.31532,     0.31632,     0.31732,     0.31832,     0.31932,     0.32032,     0.32132,     0.32232,     0.32332,     0.32432,     0.32533,     0.32633,     0.32733,     0.32833,     0.32933,     0.33033,     0.33133,     0.33233,     0.33333,     0.33433,     0.33534,\n",
            "           0.33634,     0.33734,     0.33834,     0.33934,     0.34034,     0.34134,     0.34234,     0.34334,     0.34434,     0.34535,     0.34635,     0.34735,     0.34835,     0.34935,     0.35035,     0.35135,     0.35235,     0.35335,     0.35435,     0.35536,     0.35636,     0.35736,     0.35836,     0.35936,\n",
            "           0.36036,     0.36136,     0.36236,     0.36336,     0.36436,     0.36537,     0.36637,     0.36737,     0.36837,     0.36937,     0.37037,     0.37137,     0.37237,     0.37337,     0.37437,     0.37538,     0.37638,     0.37738,     0.37838,     0.37938,     0.38038,     0.38138,     0.38238,     0.38338,\n",
            "           0.38438,     0.38539,     0.38639,     0.38739,     0.38839,     0.38939,     0.39039,     0.39139,     0.39239,     0.39339,     0.39439,      0.3954,      0.3964,      0.3974,      0.3984,      0.3994,      0.4004,      0.4014,      0.4024,      0.4034,      0.4044,     0.40541,     0.40641,     0.40741,\n",
            "           0.40841,     0.40941,     0.41041,     0.41141,     0.41241,     0.41341,     0.41441,     0.41542,     0.41642,     0.41742,     0.41842,     0.41942,     0.42042,     0.42142,     0.42242,     0.42342,     0.42442,     0.42543,     0.42643,     0.42743,     0.42843,     0.42943,     0.43043,     0.43143,\n",
            "           0.43243,     0.43343,     0.43443,     0.43544,     0.43644,     0.43744,     0.43844,     0.43944,     0.44044,     0.44144,     0.44244,     0.44344,     0.44444,     0.44545,     0.44645,     0.44745,     0.44845,     0.44945,     0.45045,     0.45145,     0.45245,     0.45345,     0.45445,     0.45546,\n",
            "           0.45646,     0.45746,     0.45846,     0.45946,     0.46046,     0.46146,     0.46246,     0.46346,     0.46446,     0.46547,     0.46647,     0.46747,     0.46847,     0.46947,     0.47047,     0.47147,     0.47247,     0.47347,     0.47447,     0.47548,     0.47648,     0.47748,     0.47848,     0.47948,\n",
            "           0.48048,     0.48148,     0.48248,     0.48348,     0.48448,     0.48549,     0.48649,     0.48749,     0.48849,     0.48949,     0.49049,     0.49149,     0.49249,     0.49349,     0.49449,      0.4955,      0.4965,      0.4975,      0.4985,      0.4995,      0.5005,      0.5015,      0.5025,      0.5035,\n",
            "            0.5045,     0.50551,     0.50651,     0.50751,     0.50851,     0.50951,     0.51051,     0.51151,     0.51251,     0.51351,     0.51451,     0.51552,     0.51652,     0.51752,     0.51852,     0.51952,     0.52052,     0.52152,     0.52252,     0.52352,     0.52452,     0.52553,     0.52653,     0.52753,\n",
            "           0.52853,     0.52953,     0.53053,     0.53153,     0.53253,     0.53353,     0.53453,     0.53554,     0.53654,     0.53754,     0.53854,     0.53954,     0.54054,     0.54154,     0.54254,     0.54354,     0.54454,     0.54555,     0.54655,     0.54755,     0.54855,     0.54955,     0.55055,     0.55155,\n",
            "           0.55255,     0.55355,     0.55455,     0.55556,     0.55656,     0.55756,     0.55856,     0.55956,     0.56056,     0.56156,     0.56256,     0.56356,     0.56456,     0.56557,     0.56657,     0.56757,     0.56857,     0.56957,     0.57057,     0.57157,     0.57257,     0.57357,     0.57457,     0.57558,\n",
            "           0.57658,     0.57758,     0.57858,     0.57958,     0.58058,     0.58158,     0.58258,     0.58358,     0.58458,     0.58559,     0.58659,     0.58759,     0.58859,     0.58959,     0.59059,     0.59159,     0.59259,     0.59359,     0.59459,      0.5956,      0.5966,      0.5976,      0.5986,      0.5996,\n",
            "            0.6006,      0.6016,      0.6026,      0.6036,      0.6046,     0.60561,     0.60661,     0.60761,     0.60861,     0.60961,     0.61061,     0.61161,     0.61261,     0.61361,     0.61461,     0.61562,     0.61662,     0.61762,     0.61862,     0.61962,     0.62062,     0.62162,     0.62262,     0.62362,\n",
            "           0.62462,     0.62563,     0.62663,     0.62763,     0.62863,     0.62963,     0.63063,     0.63163,     0.63263,     0.63363,     0.63463,     0.63564,     0.63664,     0.63764,     0.63864,     0.63964,     0.64064,     0.64164,     0.64264,     0.64364,     0.64464,     0.64565,     0.64665,     0.64765,\n",
            "           0.64865,     0.64965,     0.65065,     0.65165,     0.65265,     0.65365,     0.65465,     0.65566,     0.65666,     0.65766,     0.65866,     0.65966,     0.66066,     0.66166,     0.66266,     0.66366,     0.66466,     0.66567,     0.66667,     0.66767,     0.66867,     0.66967,     0.67067,     0.67167,\n",
            "           0.67267,     0.67367,     0.67467,     0.67568,     0.67668,     0.67768,     0.67868,     0.67968,     0.68068,     0.68168,     0.68268,     0.68368,     0.68468,     0.68569,     0.68669,     0.68769,     0.68869,     0.68969,     0.69069,     0.69169,     0.69269,     0.69369,     0.69469,      0.6957,\n",
            "            0.6967,      0.6977,      0.6987,      0.6997,      0.7007,      0.7017,      0.7027,      0.7037,      0.7047,     0.70571,     0.70671,     0.70771,     0.70871,     0.70971,     0.71071,     0.71171,     0.71271,     0.71371,     0.71471,     0.71572,     0.71672,     0.71772,     0.71872,     0.71972,\n",
            "           0.72072,     0.72172,     0.72272,     0.72372,     0.72472,     0.72573,     0.72673,     0.72773,     0.72873,     0.72973,     0.73073,     0.73173,     0.73273,     0.73373,     0.73473,     0.73574,     0.73674,     0.73774,     0.73874,     0.73974,     0.74074,     0.74174,     0.74274,     0.74374,\n",
            "           0.74474,     0.74575,     0.74675,     0.74775,     0.74875,     0.74975,     0.75075,     0.75175,     0.75275,     0.75375,     0.75475,     0.75576,     0.75676,     0.75776,     0.75876,     0.75976,     0.76076,     0.76176,     0.76276,     0.76376,     0.76476,     0.76577,     0.76677,     0.76777,\n",
            "           0.76877,     0.76977,     0.77077,     0.77177,     0.77277,     0.77377,     0.77477,     0.77578,     0.77678,     0.77778,     0.77878,     0.77978,     0.78078,     0.78178,     0.78278,     0.78378,     0.78478,     0.78579,     0.78679,     0.78779,     0.78879,     0.78979,     0.79079,     0.79179,\n",
            "           0.79279,     0.79379,     0.79479,      0.7958,      0.7968,      0.7978,      0.7988,      0.7998,      0.8008,      0.8018,      0.8028,      0.8038,      0.8048,     0.80581,     0.80681,     0.80781,     0.80881,     0.80981,     0.81081,     0.81181,     0.81281,     0.81381,     0.81481,     0.81582,\n",
            "           0.81682,     0.81782,     0.81882,     0.81982,     0.82082,     0.82182,     0.82282,     0.82382,     0.82482,     0.82583,     0.82683,     0.82783,     0.82883,     0.82983,     0.83083,     0.83183,     0.83283,     0.83383,     0.83483,     0.83584,     0.83684,     0.83784,     0.83884,     0.83984,\n",
            "           0.84084,     0.84184,     0.84284,     0.84384,     0.84484,     0.84585,     0.84685,     0.84785,     0.84885,     0.84985,     0.85085,     0.85185,     0.85285,     0.85385,     0.85485,     0.85586,     0.85686,     0.85786,     0.85886,     0.85986,     0.86086,     0.86186,     0.86286,     0.86386,\n",
            "           0.86486,     0.86587,     0.86687,     0.86787,     0.86887,     0.86987,     0.87087,     0.87187,     0.87287,     0.87387,     0.87487,     0.87588,     0.87688,     0.87788,     0.87888,     0.87988,     0.88088,     0.88188,     0.88288,     0.88388,     0.88488,     0.88589,     0.88689,     0.88789,\n",
            "           0.88889,     0.88989,     0.89089,     0.89189,     0.89289,     0.89389,     0.89489,      0.8959,      0.8969,      0.8979,      0.8989,      0.8999,      0.9009,      0.9019,      0.9029,      0.9039,      0.9049,     0.90591,     0.90691,     0.90791,     0.90891,     0.90991,     0.91091,     0.91191,\n",
            "           0.91291,     0.91391,     0.91491,     0.91592,     0.91692,     0.91792,     0.91892,     0.91992,     0.92092,     0.92192,     0.92292,     0.92392,     0.92492,     0.92593,     0.92693,     0.92793,     0.92893,     0.92993,     0.93093,     0.93193,     0.93293,     0.93393,     0.93493,     0.93594,\n",
            "           0.93694,     0.93794,     0.93894,     0.93994,     0.94094,     0.94194,     0.94294,     0.94394,     0.94494,     0.94595,     0.94695,     0.94795,     0.94895,     0.94995,     0.95095,     0.95195,     0.95295,     0.95395,     0.95495,     0.95596,     0.95696,     0.95796,     0.95896,     0.95996,\n",
            "           0.96096,     0.96196,     0.96296,     0.96396,     0.96496,     0.96597,     0.96697,     0.96797,     0.96897,     0.96997,     0.97097,     0.97197,     0.97297,     0.97397,     0.97497,     0.97598,     0.97698,     0.97798,     0.97898,     0.97998,     0.98098,     0.98198,     0.98298,     0.98398,\n",
            "           0.98498,     0.98599,     0.98699,     0.98799,     0.98899,     0.98999,     0.99099,     0.99199,     0.99299,     0.99399,     0.99499,       0.996,       0.997,       0.998,       0.999,           1]), array([[   0.033201,    0.033201,    0.046751,    0.062678,    0.077953,     0.09419,     0.11013,     0.12664,     0.14222,     0.15893,     0.17612,     0.19071,     0.20588,     0.22249,     0.23902,     0.25395,     0.26701,      0.2797,     0.29483,     0.30801,     0.32009,     0.33053,      0.3435,\n",
            "            0.35552,     0.36797,     0.37719,     0.38757,     0.39869,     0.40839,      0.4178,     0.42635,     0.43568,     0.44164,      0.4506,     0.45985,     0.46497,     0.47342,     0.48073,     0.49081,     0.49901,     0.50384,     0.50886,     0.51324,     0.51923,     0.52254,     0.52702,\n",
            "            0.53128,     0.53258,     0.53615,     0.53833,     0.54317,     0.54751,     0.55008,     0.55326,     0.55653,     0.56022,     0.56181,      0.5643,     0.56763,     0.57174,     0.57508,     0.57534,     0.57893,      0.5803,     0.58407,     0.58664,     0.58926,     0.59102,     0.59399,\n",
            "            0.59412,     0.59457,     0.59753,      0.5991,     0.60136,     0.60285,     0.60402,     0.60609,     0.60721,     0.60827,     0.61003,     0.61011,     0.61071,     0.61284,     0.61355,     0.61496,     0.61663,     0.61733,     0.62005,     0.62165,     0.62321,     0.62471,     0.62604,\n",
            "            0.62719,     0.62886,     0.62997,     0.63129,     0.63221,     0.63191,     0.63226,     0.63274,     0.63512,     0.63663,     0.63705,     0.63775,     0.63843,     0.63968,     0.64182,     0.64258,     0.64326,     0.64394,     0.64512,     0.64538,     0.64593,     0.64627,     0.64664,\n",
            "            0.64732,     0.64692,     0.64803,     0.64865,     0.64929,     0.65105,     0.65142,     0.65172,     0.65261,     0.65363,     0.65406,     0.65452,     0.65422,     0.65473,     0.65566,      0.6558,     0.65593,     0.65605,     0.65736,     0.65833,     0.65961,     0.66006,     0.66022,\n",
            "            0.66044,     0.66129,     0.66296,     0.66373,     0.66448,      0.6654,     0.66705,      0.6675,     0.66784,      0.6676,     0.66798,     0.66876,     0.66884,     0.66893,     0.66901,     0.66909,     0.66967,     0.67089,     0.67171,     0.67299,     0.67376,     0.67562,     0.67626,\n",
            "            0.67706,     0.67756,     0.67859,     0.67963,     0.68118,     0.68176,     0.68271,     0.68375,     0.68461,      0.6847,      0.6848,     0.68489,     0.68498,     0.68571,     0.68531,      0.6864,     0.68701,     0.68755,     0.68823,      0.6884,     0.68857,      0.6887,     0.68883,\n",
            "            0.68895,     0.68953,     0.68969,     0.68984,     0.69061,     0.69112,     0.69151,     0.69254,     0.69409,     0.69458,     0.69508,     0.69557,     0.69626,     0.69744,     0.69777,     0.69801,     0.69836,     0.69896,     0.69919,      0.6993,     0.69873,      0.6992,     0.69988,\n",
            "            0.70054,     0.70071,     0.70089,     0.70123,     0.70168,     0.70229,     0.70256,     0.70327,     0.70367,     0.70385,     0.70402,     0.70463,     0.70498,     0.70544,     0.70524,     0.70496,     0.70468,     0.70523,     0.70538,     0.70554,     0.70595,      0.7063,     0.70663,\n",
            "            0.70698,     0.70733,     0.70755,     0.70769,     0.70784,     0.70804,      0.7083,     0.70796,     0.70744,     0.70717,      0.7069,     0.70686,     0.70739,     0.70685,     0.70728,     0.70739,      0.7075,     0.70761,     0.70788,     0.70748,     0.70778,     0.70788,     0.70799,\n",
            "             0.7081,     0.70821,     0.70893,     0.70923,     0.70945,     0.70967,     0.70989,      0.7101,     0.71027,     0.71042,     0.71057,     0.71102,     0.71167,     0.71223,      0.7129,     0.71458,     0.71541,     0.71554,     0.71563,     0.71573,     0.71582,     0.71592,     0.71649,\n",
            "            0.71657,     0.71666,     0.71674,     0.71682,     0.71692,     0.71777,     0.71814,     0.71798,     0.71779,     0.71861,     0.71883,     0.71908,     0.71937,     0.72015,     0.72093,     0.72134,     0.72072,     0.72013,     0.71969,     0.71989,      0.7201,      0.7203,      0.7205,\n",
            "            0.72081,      0.7212,      0.7213,      0.7214,     0.72149,     0.72159,      0.7218,     0.72217,      0.7223,     0.72244,     0.72257,     0.72289,     0.72237,     0.72232,     0.72239,     0.72246,     0.72254,     0.72261,     0.72268,     0.72276,     0.72226,     0.72198,     0.72241,\n",
            "            0.72297,     0.72314,     0.72331,     0.72254,     0.72295,      0.7232,     0.72343,     0.72358,      0.7237,     0.72382,     0.72394,      0.7246,     0.72479,     0.72498,     0.72513,     0.72528,     0.72543,     0.72575,     0.72606,     0.72629,     0.72658,     0.72766,     0.72773,\n",
            "            0.72781,     0.72788,     0.72796,     0.72803,     0.72811,     0.72819,     0.72828,     0.72837,     0.72846,     0.72855,     0.72864,     0.72882,     0.72905,     0.72965,      0.7302,     0.73008,     0.72996,     0.72984,     0.72972,      0.7296,     0.72948,     0.72935,     0.72833,\n",
            "            0.72811,      0.7279,     0.72768,     0.72779,     0.72718,     0.72729,      0.7274,     0.72751,     0.72762,     0.72822,     0.72829,     0.72836,     0.72843,      0.7285,     0.72857,     0.72864,      0.7277,     0.72745,     0.72721,     0.72696,     0.72625,     0.72637,     0.72672,\n",
            "            0.72703,     0.72755,     0.72781,     0.72812,     0.72876,     0.72962,     0.72968,     0.72974,      0.7298,     0.72986,     0.72992,     0.72998,     0.73004,     0.73011,     0.73018,     0.73026,     0.73034,     0.73042,      0.7305,     0.73058,     0.73078,     0.73087,     0.73087,\n",
            "            0.73117,     0.73162,     0.73121,      0.7308,     0.73065,     0.73049,     0.73034,     0.73018,     0.73003,     0.73006,     0.73014,     0.73022,      0.7303,     0.73038,     0.73046,     0.73158,     0.73165,     0.73172,     0.73179,     0.73186,     0.73193,       0.732,     0.73207,\n",
            "            0.73245,     0.73249,      0.7323,     0.73211,     0.73193,     0.73174,     0.73182,     0.73195,     0.73209,     0.73222,      0.7324,     0.73258,     0.73276,     0.73281,     0.73287,     0.73292,     0.73298,     0.73303,     0.73309,     0.73315,      0.7332,     0.73326,     0.73334,\n",
            "            0.73344,     0.73355,     0.73366,     0.73377,     0.73414,     0.73504,     0.73531,     0.73552,      0.7357,     0.73588,     0.73579,      0.7356,     0.73542,     0.73523,     0.73504,     0.73509,     0.73516,     0.73524,     0.73532,      0.7354,     0.73547,     0.73556,     0.73574,\n",
            "            0.73592,     0.73614,     0.73664,     0.73682,       0.737,     0.73695,      0.7362,     0.73609,     0.73597,     0.73585,     0.73574,     0.73562,      0.7355,     0.73538,     0.73463,     0.73487,     0.73474,      0.7346,     0.73447,     0.73433,      0.7342,     0.73406,     0.73389,\n",
            "            0.73371,     0.73352,     0.73333,     0.73314,     0.73274,     0.73227,     0.73198,     0.73174,     0.73151,     0.73127,     0.73173,     0.73156,     0.73132,     0.73109,     0.73086,     0.73042,     0.72954,     0.72968,     0.72981,     0.72995,     0.73009,     0.73028,     0.73046,\n",
            "            0.73062,     0.73071,      0.7308,      0.7309,     0.73099,     0.73108,     0.73116,     0.73122,     0.73128,     0.73134,      0.7314,     0.73146,     0.73153,     0.73159,     0.73165,       0.732,     0.73191,     0.73143,     0.73146,     0.73174,     0.73195,     0.73213,     0.73232,\n",
            "            0.73257,     0.73285,     0.73295,     0.73303,      0.7331,     0.73318,     0.73325,     0.73332,      0.7334,     0.73318,      0.7327,     0.73282,     0.73191,     0.73159,     0.73127,     0.73129,     0.73148,     0.73166,     0.73191,     0.73219,     0.73148,     0.73052,     0.73049,\n",
            "            0.73063,     0.73076,      0.7309,     0.73049,     0.72958,     0.73011,     0.72972,     0.72933,     0.72975,     0.72981,     0.72987,     0.72993,     0.72999,     0.73006,     0.73012,     0.73018,     0.73024,      0.7304,     0.73059,     0.73077,     0.73064,     0.73047,     0.73029,\n",
            "            0.73012,     0.72994,     0.72975,     0.72956,     0.72936,     0.72917,     0.72898,     0.72925,     0.73023,     0.73051,     0.73037,     0.73023,      0.7301,     0.72996,     0.72982,     0.72968,     0.72967,     0.72989,     0.73012,     0.73031,     0.73049,     0.73068,     0.72782,\n",
            "            0.72786,     0.72791,     0.72795,     0.72799,     0.72804,     0.72808,     0.72812,     0.72817,     0.72821,     0.72825,      0.7283,     0.72834,     0.72834,     0.72827,     0.72819,     0.72812,     0.72804,     0.72796,     0.72789,     0.72781,     0.72774,     0.72766,     0.72759,\n",
            "            0.72751,     0.72744,     0.72777,     0.72784,     0.72766,     0.72748,      0.7273,     0.72712,     0.72583,     0.72518,     0.72496,     0.72483,      0.7247,     0.72457,     0.72444,     0.72431,     0.72417,     0.72359,     0.72215,     0.72165,     0.72117,     0.72077,     0.72037,\n",
            "            0.72028,     0.72033,     0.72039,     0.72044,     0.72049,     0.72055,      0.7206,     0.72065,     0.72071,     0.72076,     0.72065,     0.72031,     0.71998,     0.71973,     0.71957,      0.7194,     0.71924,     0.71907,      0.7189,      0.7182,      0.7177,     0.71745,      0.7172,\n",
            "            0.71695,     0.71702,     0.71718,     0.71734,     0.71734,     0.71705,     0.71677,     0.71648,     0.71554,     0.71567,     0.71579,     0.71591,     0.71604,     0.71612,     0.71621,      0.7163,     0.71638,     0.71647,     0.71655,     0.71585,     0.71435,     0.71344,     0.71276,\n",
            "            0.71181,     0.71108,     0.71081,     0.71118,     0.71136,     0.71152,     0.71168,     0.71125,     0.71096,     0.71028,      0.7096,     0.70871,     0.70879,      0.7081,     0.70742,     0.70577,     0.70526,     0.70397,     0.70435,     0.70387,     0.70272,     0.70206,     0.70164,\n",
            "            0.70033,     0.70018,     0.70003,     0.69988,     0.69974,     0.69959,     0.69944,     0.69674,     0.69489,     0.69445,     0.69415,     0.69346,     0.69293,     0.69126,     0.69088,     0.69108,     0.69038,     0.68898,     0.68828,     0.68726,     0.68579,     0.68256,       0.682,\n",
            "            0.68146,     0.68075,     0.67879,     0.67581,     0.67506,     0.67398,     0.67168,     0.66862,     0.66485,     0.66375,     0.66274,       0.662,     0.66098,     0.66017,     0.65785,     0.65616,     0.65542,     0.65325,     0.65162,     0.64934,     0.64821,     0.64596,     0.64319,\n",
            "            0.63919,     0.63756,       0.634,     0.63129,     0.62899,     0.62327,     0.61866,     0.61632,     0.61244,     0.60981,     0.60861,     0.60507,     0.60166,     0.60062,     0.59363,     0.59111,     0.58911,     0.58582,     0.58178,      0.5773,     0.57595,      0.5711,     0.57025,\n",
            "            0.56459,     0.55972,     0.55716,     0.55431,     0.55059,     0.54315,     0.53828,     0.53261,     0.52332,     0.51859,     0.51768,     0.51512,     0.50973,     0.50599,      0.4991,     0.49217,     0.48929,     0.47802,     0.47086,     0.46596,       0.464,     0.45695,       0.454,\n",
            "            0.45072,     0.44477,     0.43281,      0.4249,     0.42031,     0.41286,     0.40409,     0.40032,      0.3813,     0.37391,     0.36337,     0.35343,     0.34291,      0.3369,     0.32491,     0.31621,     0.30806,      0.3012,     0.29375,     0.28651,     0.27738,     0.27136,     0.26255,\n",
            "            0.25503,     0.24745,     0.23879,     0.23749,     0.23008,     0.22228,     0.21442,     0.20937,     0.20571,     0.19439,     0.18828,     0.18214,     0.17391,     0.16766,     0.15306,     0.14877,     0.14235,     0.13162,     0.12239,     0.11633,     0.11483,     0.11189,     0.10816,\n",
            "            0.10509,     0.10255,    0.091577,    0.084746,    0.080127,    0.075485,    0.064006,    0.059236,    0.056481,    0.055294,    0.047562,    0.040124,    0.035694,    0.030426,    0.025541,    0.022424,    0.019156,    0.018169,    0.017182,    0.016194,    0.015205,    0.014324,    0.013616,\n",
            "           0.012908,    0.012199,    0.011697,      0.0112,    0.010703,    0.010206,   0.0096969,   0.0090747,   0.0084521,   0.0078291,   0.0071886,   0.0064757,   0.0057622,   0.0050483,           0,           0,           0,           0,           0,           0,           0,           0,           0,\n",
            "                  0,           0,           0,           0,           0,           0,           0,           0,           0,           0,           0,           0,           0,           0,           0,           0,           0,           0,           0,           0,           0,           0,           0,\n",
            "                  0,           0,           0,           0,           0,           0,           0,           0,           0,           0,           0,           0,           0,           0,           0,           0,           0,           0,           0,           0,           0,           0,           0,\n",
            "                  0,           0,           0,           0,           0,           0,           0,           0,           0,           0,           0,           0,           0,           0,           0,           0,           0,           0,           0,           0,           0,           0,           0,\n",
            "                  0,           0,           0,           0,           0,           0,           0,           0,           0,           0,           0]]), 'Confidence', 'F1'], [array([          0,    0.001001,    0.002002,    0.003003,    0.004004,    0.005005,    0.006006,    0.007007,    0.008008,    0.009009,     0.01001,    0.011011,    0.012012,    0.013013,    0.014014,    0.015015,    0.016016,    0.017017,    0.018018,    0.019019,     0.02002,    0.021021,    0.022022,    0.023023,\n",
            "          0.024024,    0.025025,    0.026026,    0.027027,    0.028028,    0.029029,     0.03003,    0.031031,    0.032032,    0.033033,    0.034034,    0.035035,    0.036036,    0.037037,    0.038038,    0.039039,     0.04004,    0.041041,    0.042042,    0.043043,    0.044044,    0.045045,    0.046046,    0.047047,\n",
            "          0.048048,    0.049049,     0.05005,    0.051051,    0.052052,    0.053053,    0.054054,    0.055055,    0.056056,    0.057057,    0.058058,    0.059059,     0.06006,    0.061061,    0.062062,    0.063063,    0.064064,    0.065065,    0.066066,    0.067067,    0.068068,    0.069069,     0.07007,    0.071071,\n",
            "          0.072072,    0.073073,    0.074074,    0.075075,    0.076076,    0.077077,    0.078078,    0.079079,     0.08008,    0.081081,    0.082082,    0.083083,    0.084084,    0.085085,    0.086086,    0.087087,    0.088088,    0.089089,     0.09009,    0.091091,    0.092092,    0.093093,    0.094094,    0.095095,\n",
            "          0.096096,    0.097097,    0.098098,    0.099099,      0.1001,      0.1011,      0.1021,      0.1031,      0.1041,     0.10511,     0.10611,     0.10711,     0.10811,     0.10911,     0.11011,     0.11111,     0.11211,     0.11311,     0.11411,     0.11512,     0.11612,     0.11712,     0.11812,     0.11912,\n",
            "           0.12012,     0.12112,     0.12212,     0.12312,     0.12412,     0.12513,     0.12613,     0.12713,     0.12813,     0.12913,     0.13013,     0.13113,     0.13213,     0.13313,     0.13413,     0.13514,     0.13614,     0.13714,     0.13814,     0.13914,     0.14014,     0.14114,     0.14214,     0.14314,\n",
            "           0.14414,     0.14515,     0.14615,     0.14715,     0.14815,     0.14915,     0.15015,     0.15115,     0.15215,     0.15315,     0.15415,     0.15516,     0.15616,     0.15716,     0.15816,     0.15916,     0.16016,     0.16116,     0.16216,     0.16316,     0.16416,     0.16517,     0.16617,     0.16717,\n",
            "           0.16817,     0.16917,     0.17017,     0.17117,     0.17217,     0.17317,     0.17417,     0.17518,     0.17618,     0.17718,     0.17818,     0.17918,     0.18018,     0.18118,     0.18218,     0.18318,     0.18418,     0.18519,     0.18619,     0.18719,     0.18819,     0.18919,     0.19019,     0.19119,\n",
            "           0.19219,     0.19319,     0.19419,      0.1952,      0.1962,      0.1972,      0.1982,      0.1992,      0.2002,      0.2012,      0.2022,      0.2032,      0.2042,     0.20521,     0.20621,     0.20721,     0.20821,     0.20921,     0.21021,     0.21121,     0.21221,     0.21321,     0.21421,     0.21522,\n",
            "           0.21622,     0.21722,     0.21822,     0.21922,     0.22022,     0.22122,     0.22222,     0.22322,     0.22422,     0.22523,     0.22623,     0.22723,     0.22823,     0.22923,     0.23023,     0.23123,     0.23223,     0.23323,     0.23423,     0.23524,     0.23624,     0.23724,     0.23824,     0.23924,\n",
            "           0.24024,     0.24124,     0.24224,     0.24324,     0.24424,     0.24525,     0.24625,     0.24725,     0.24825,     0.24925,     0.25025,     0.25125,     0.25225,     0.25325,     0.25425,     0.25526,     0.25626,     0.25726,     0.25826,     0.25926,     0.26026,     0.26126,     0.26226,     0.26326,\n",
            "           0.26426,     0.26527,     0.26627,     0.26727,     0.26827,     0.26927,     0.27027,     0.27127,     0.27227,     0.27327,     0.27427,     0.27528,     0.27628,     0.27728,     0.27828,     0.27928,     0.28028,     0.28128,     0.28228,     0.28328,     0.28428,     0.28529,     0.28629,     0.28729,\n",
            "           0.28829,     0.28929,     0.29029,     0.29129,     0.29229,     0.29329,     0.29429,      0.2953,      0.2963,      0.2973,      0.2983,      0.2993,      0.3003,      0.3013,      0.3023,      0.3033,      0.3043,     0.30531,     0.30631,     0.30731,     0.30831,     0.30931,     0.31031,     0.31131,\n",
            "           0.31231,     0.31331,     0.31431,     0.31532,     0.31632,     0.31732,     0.31832,     0.31932,     0.32032,     0.32132,     0.32232,     0.32332,     0.32432,     0.32533,     0.32633,     0.32733,     0.32833,     0.32933,     0.33033,     0.33133,     0.33233,     0.33333,     0.33433,     0.33534,\n",
            "           0.33634,     0.33734,     0.33834,     0.33934,     0.34034,     0.34134,     0.34234,     0.34334,     0.34434,     0.34535,     0.34635,     0.34735,     0.34835,     0.34935,     0.35035,     0.35135,     0.35235,     0.35335,     0.35435,     0.35536,     0.35636,     0.35736,     0.35836,     0.35936,\n",
            "           0.36036,     0.36136,     0.36236,     0.36336,     0.36436,     0.36537,     0.36637,     0.36737,     0.36837,     0.36937,     0.37037,     0.37137,     0.37237,     0.37337,     0.37437,     0.37538,     0.37638,     0.37738,     0.37838,     0.37938,     0.38038,     0.38138,     0.38238,     0.38338,\n",
            "           0.38438,     0.38539,     0.38639,     0.38739,     0.38839,     0.38939,     0.39039,     0.39139,     0.39239,     0.39339,     0.39439,      0.3954,      0.3964,      0.3974,      0.3984,      0.3994,      0.4004,      0.4014,      0.4024,      0.4034,      0.4044,     0.40541,     0.40641,     0.40741,\n",
            "           0.40841,     0.40941,     0.41041,     0.41141,     0.41241,     0.41341,     0.41441,     0.41542,     0.41642,     0.41742,     0.41842,     0.41942,     0.42042,     0.42142,     0.42242,     0.42342,     0.42442,     0.42543,     0.42643,     0.42743,     0.42843,     0.42943,     0.43043,     0.43143,\n",
            "           0.43243,     0.43343,     0.43443,     0.43544,     0.43644,     0.43744,     0.43844,     0.43944,     0.44044,     0.44144,     0.44244,     0.44344,     0.44444,     0.44545,     0.44645,     0.44745,     0.44845,     0.44945,     0.45045,     0.45145,     0.45245,     0.45345,     0.45445,     0.45546,\n",
            "           0.45646,     0.45746,     0.45846,     0.45946,     0.46046,     0.46146,     0.46246,     0.46346,     0.46446,     0.46547,     0.46647,     0.46747,     0.46847,     0.46947,     0.47047,     0.47147,     0.47247,     0.47347,     0.47447,     0.47548,     0.47648,     0.47748,     0.47848,     0.47948,\n",
            "           0.48048,     0.48148,     0.48248,     0.48348,     0.48448,     0.48549,     0.48649,     0.48749,     0.48849,     0.48949,     0.49049,     0.49149,     0.49249,     0.49349,     0.49449,      0.4955,      0.4965,      0.4975,      0.4985,      0.4995,      0.5005,      0.5015,      0.5025,      0.5035,\n",
            "            0.5045,     0.50551,     0.50651,     0.50751,     0.50851,     0.50951,     0.51051,     0.51151,     0.51251,     0.51351,     0.51451,     0.51552,     0.51652,     0.51752,     0.51852,     0.51952,     0.52052,     0.52152,     0.52252,     0.52352,     0.52452,     0.52553,     0.52653,     0.52753,\n",
            "           0.52853,     0.52953,     0.53053,     0.53153,     0.53253,     0.53353,     0.53453,     0.53554,     0.53654,     0.53754,     0.53854,     0.53954,     0.54054,     0.54154,     0.54254,     0.54354,     0.54454,     0.54555,     0.54655,     0.54755,     0.54855,     0.54955,     0.55055,     0.55155,\n",
            "           0.55255,     0.55355,     0.55455,     0.55556,     0.55656,     0.55756,     0.55856,     0.55956,     0.56056,     0.56156,     0.56256,     0.56356,     0.56456,     0.56557,     0.56657,     0.56757,     0.56857,     0.56957,     0.57057,     0.57157,     0.57257,     0.57357,     0.57457,     0.57558,\n",
            "           0.57658,     0.57758,     0.57858,     0.57958,     0.58058,     0.58158,     0.58258,     0.58358,     0.58458,     0.58559,     0.58659,     0.58759,     0.58859,     0.58959,     0.59059,     0.59159,     0.59259,     0.59359,     0.59459,      0.5956,      0.5966,      0.5976,      0.5986,      0.5996,\n",
            "            0.6006,      0.6016,      0.6026,      0.6036,      0.6046,     0.60561,     0.60661,     0.60761,     0.60861,     0.60961,     0.61061,     0.61161,     0.61261,     0.61361,     0.61461,     0.61562,     0.61662,     0.61762,     0.61862,     0.61962,     0.62062,     0.62162,     0.62262,     0.62362,\n",
            "           0.62462,     0.62563,     0.62663,     0.62763,     0.62863,     0.62963,     0.63063,     0.63163,     0.63263,     0.63363,     0.63463,     0.63564,     0.63664,     0.63764,     0.63864,     0.63964,     0.64064,     0.64164,     0.64264,     0.64364,     0.64464,     0.64565,     0.64665,     0.64765,\n",
            "           0.64865,     0.64965,     0.65065,     0.65165,     0.65265,     0.65365,     0.65465,     0.65566,     0.65666,     0.65766,     0.65866,     0.65966,     0.66066,     0.66166,     0.66266,     0.66366,     0.66466,     0.66567,     0.66667,     0.66767,     0.66867,     0.66967,     0.67067,     0.67167,\n",
            "           0.67267,     0.67367,     0.67467,     0.67568,     0.67668,     0.67768,     0.67868,     0.67968,     0.68068,     0.68168,     0.68268,     0.68368,     0.68468,     0.68569,     0.68669,     0.68769,     0.68869,     0.68969,     0.69069,     0.69169,     0.69269,     0.69369,     0.69469,      0.6957,\n",
            "            0.6967,      0.6977,      0.6987,      0.6997,      0.7007,      0.7017,      0.7027,      0.7037,      0.7047,     0.70571,     0.70671,     0.70771,     0.70871,     0.70971,     0.71071,     0.71171,     0.71271,     0.71371,     0.71471,     0.71572,     0.71672,     0.71772,     0.71872,     0.71972,\n",
            "           0.72072,     0.72172,     0.72272,     0.72372,     0.72472,     0.72573,     0.72673,     0.72773,     0.72873,     0.72973,     0.73073,     0.73173,     0.73273,     0.73373,     0.73473,     0.73574,     0.73674,     0.73774,     0.73874,     0.73974,     0.74074,     0.74174,     0.74274,     0.74374,\n",
            "           0.74474,     0.74575,     0.74675,     0.74775,     0.74875,     0.74975,     0.75075,     0.75175,     0.75275,     0.75375,     0.75475,     0.75576,     0.75676,     0.75776,     0.75876,     0.75976,     0.76076,     0.76176,     0.76276,     0.76376,     0.76476,     0.76577,     0.76677,     0.76777,\n",
            "           0.76877,     0.76977,     0.77077,     0.77177,     0.77277,     0.77377,     0.77477,     0.77578,     0.77678,     0.77778,     0.77878,     0.77978,     0.78078,     0.78178,     0.78278,     0.78378,     0.78478,     0.78579,     0.78679,     0.78779,     0.78879,     0.78979,     0.79079,     0.79179,\n",
            "           0.79279,     0.79379,     0.79479,      0.7958,      0.7968,      0.7978,      0.7988,      0.7998,      0.8008,      0.8018,      0.8028,      0.8038,      0.8048,     0.80581,     0.80681,     0.80781,     0.80881,     0.80981,     0.81081,     0.81181,     0.81281,     0.81381,     0.81481,     0.81582,\n",
            "           0.81682,     0.81782,     0.81882,     0.81982,     0.82082,     0.82182,     0.82282,     0.82382,     0.82482,     0.82583,     0.82683,     0.82783,     0.82883,     0.82983,     0.83083,     0.83183,     0.83283,     0.83383,     0.83483,     0.83584,     0.83684,     0.83784,     0.83884,     0.83984,\n",
            "           0.84084,     0.84184,     0.84284,     0.84384,     0.84484,     0.84585,     0.84685,     0.84785,     0.84885,     0.84985,     0.85085,     0.85185,     0.85285,     0.85385,     0.85485,     0.85586,     0.85686,     0.85786,     0.85886,     0.85986,     0.86086,     0.86186,     0.86286,     0.86386,\n",
            "           0.86486,     0.86587,     0.86687,     0.86787,     0.86887,     0.86987,     0.87087,     0.87187,     0.87287,     0.87387,     0.87487,     0.87588,     0.87688,     0.87788,     0.87888,     0.87988,     0.88088,     0.88188,     0.88288,     0.88388,     0.88488,     0.88589,     0.88689,     0.88789,\n",
            "           0.88889,     0.88989,     0.89089,     0.89189,     0.89289,     0.89389,     0.89489,      0.8959,      0.8969,      0.8979,      0.8989,      0.8999,      0.9009,      0.9019,      0.9029,      0.9039,      0.9049,     0.90591,     0.90691,     0.90791,     0.90891,     0.90991,     0.91091,     0.91191,\n",
            "           0.91291,     0.91391,     0.91491,     0.91592,     0.91692,     0.91792,     0.91892,     0.91992,     0.92092,     0.92192,     0.92292,     0.92392,     0.92492,     0.92593,     0.92693,     0.92793,     0.92893,     0.92993,     0.93093,     0.93193,     0.93293,     0.93393,     0.93493,     0.93594,\n",
            "           0.93694,     0.93794,     0.93894,     0.93994,     0.94094,     0.94194,     0.94294,     0.94394,     0.94494,     0.94595,     0.94695,     0.94795,     0.94895,     0.94995,     0.95095,     0.95195,     0.95295,     0.95395,     0.95495,     0.95596,     0.95696,     0.95796,     0.95896,     0.95996,\n",
            "           0.96096,     0.96196,     0.96296,     0.96396,     0.96496,     0.96597,     0.96697,     0.96797,     0.96897,     0.96997,     0.97097,     0.97197,     0.97297,     0.97397,     0.97497,     0.97598,     0.97698,     0.97798,     0.97898,     0.97998,     0.98098,     0.98198,     0.98298,     0.98398,\n",
            "           0.98498,     0.98599,     0.98699,     0.98799,     0.98899,     0.98999,     0.99099,     0.99199,     0.99299,     0.99399,     0.99499,       0.996,       0.997,       0.998,       0.999,           1]), array([[   0.016922,    0.016922,    0.024028,    0.032538,    0.040895,    0.049956,     0.05907,    0.068709,    0.078057,    0.088284,    0.099123,     0.10862,     0.11872,     0.13004,     0.14169,      0.1525,     0.16219,     0.17178,     0.18333,      0.1938,     0.20382,     0.21287,     0.22398,\n",
            "            0.23469,     0.24622,     0.25469,     0.26474,     0.27523,     0.28513,      0.2946,     0.30339,     0.31316,     0.31959,     0.32959,     0.33959,     0.34578,     0.35582,      0.3648,     0.37724,     0.38702,     0.39441,     0.40059,     0.40606,     0.41404,     0.41889,     0.42495,\n",
            "            0.43051,     0.43367,     0.43892,     0.44239,     0.44944,     0.45575,      0.4601,     0.46513,     0.46977,     0.47506,     0.47734,     0.48095,      0.4858,     0.49186,     0.49682,     0.49852,     0.50393,     0.50737,     0.51318,     0.51859,      0.5227,     0.52547,     0.53095,\n",
            "            0.53293,     0.53418,     0.53899,     0.54235,     0.54606,     0.54852,     0.55047,     0.55391,     0.55664,     0.55843,      0.5614,     0.56328,      0.5643,     0.56794,     0.57007,      0.5728,     0.57632,     0.57755,     0.58233,     0.58516,     0.58793,     0.59062,     0.59299,\n",
            "            0.59506,     0.59806,     0.60008,     0.60349,     0.60532,     0.60565,     0.60631,     0.60718,     0.61158,      0.6144,     0.61517,     0.61648,     0.61774,      0.6201,     0.62414,     0.62557,     0.62687,     0.62816,     0.63041,     0.63089,     0.63196,      0.6326,     0.63331,\n",
            "            0.63463,     0.63498,     0.63713,     0.63833,     0.63957,       0.643,      0.6437,     0.64431,     0.64604,     0.64804,     0.64888,     0.64979,      0.6504,      0.6514,     0.65326,     0.65353,     0.65378,     0.65403,     0.65664,     0.65858,     0.66113,     0.66273,     0.66361,\n",
            "            0.66406,     0.66577,     0.66918,     0.67075,     0.67228,     0.67416,     0.67755,     0.67848,     0.67919,     0.68001,      0.6808,     0.68242,     0.68259,     0.68276,     0.68294,     0.68311,     0.68433,     0.68688,      0.6886,     0.69129,     0.69292,     0.69685,     0.69821,\n",
            "            0.69994,       0.701,     0.70321,     0.70544,      0.7088,     0.71005,     0.71212,     0.71439,     0.71627,     0.71647,     0.71667,     0.71687,     0.71708,     0.71867,     0.71927,     0.72168,     0.72303,     0.72422,     0.72572,     0.72611,     0.72649,     0.72678,     0.72706,\n",
            "            0.72734,     0.72864,     0.72898,     0.72932,     0.73105,     0.73219,     0.73307,     0.73538,      0.7389,        0.74,     0.74113,     0.74226,     0.74382,     0.74653,     0.74729,     0.74782,     0.74864,     0.75002,     0.75056,     0.75101,     0.75111,      0.7522,     0.75376,\n",
            "             0.7553,     0.75569,     0.75611,     0.75691,     0.75794,     0.75937,     0.76001,     0.76168,     0.76262,     0.76303,     0.76343,     0.76487,     0.76569,     0.76677,     0.76681,      0.7667,     0.76659,     0.76798,     0.76834,     0.76871,     0.76968,     0.77052,      0.7713,\n",
            "            0.77214,     0.77297,     0.77349,     0.77385,      0.7742,     0.77469,      0.7753,     0.77535,     0.77515,     0.77505,     0.77494,     0.77533,      0.7766,     0.77684,      0.7781,     0.77836,     0.77862,     0.77888,     0.78013,     0.78034,     0.78107,     0.78133,     0.78159,\n",
            "            0.78186,     0.78212,     0.78387,     0.78463,     0.78516,     0.78569,     0.78623,     0.78676,     0.78717,     0.78754,     0.78791,     0.78901,     0.79063,     0.79199,     0.79366,     0.79783,     0.79991,     0.80023,     0.80047,     0.80071,     0.80094,     0.80118,     0.80261,\n",
            "            0.80282,     0.80303,     0.80324,     0.80345,     0.80369,     0.80584,     0.80677,     0.80721,      0.8078,     0.80987,     0.81044,     0.81108,     0.81181,      0.8138,      0.8158,     0.81683,     0.81682,     0.81663,     0.81654,     0.81706,     0.81758,     0.81811,     0.81863,\n",
            "            0.81943,     0.82044,     0.82069,     0.82094,     0.82119,     0.82144,     0.82199,     0.82294,     0.82329,     0.82364,       0.824,     0.82539,     0.82523,     0.82535,     0.82554,     0.82573,     0.82592,     0.82611,      0.8263,     0.82649,     0.82634,     0.82649,     0.82762,\n",
            "            0.82909,     0.82954,     0.82999,     0.83003,     0.83111,     0.83176,     0.83236,     0.83277,     0.83309,     0.83341,     0.83373,     0.83548,     0.83598,     0.83648,     0.83689,     0.83728,     0.83767,     0.83853,     0.84045,      0.8421,     0.84289,      0.8458,       0.846,\n",
            "             0.8462,      0.8464,      0.8466,      0.8468,       0.847,     0.84722,     0.84746,     0.84771,     0.84795,      0.8482,     0.84845,     0.84894,     0.84957,     0.85119,     0.85268,     0.85267,     0.85264,      0.8526,     0.85257,     0.85254,      0.8525,     0.85247,     0.85219,\n",
            "            0.85213,     0.85207,     0.85202,     0.85331,     0.85323,     0.85353,     0.85384,     0.85414,     0.85444,     0.85609,     0.85628,     0.85648,     0.85667,     0.85687,     0.85706,     0.85725,     0.85712,     0.85706,     0.85699,     0.85693,     0.85674,     0.85772,     0.85872,\n",
            "            0.85958,     0.86101,     0.86176,     0.86263,     0.86443,     0.86685,     0.86702,     0.86719,     0.86736,     0.86753,     0.86771,     0.86788,     0.86805,     0.86822,     0.86844,     0.86866,     0.86888,     0.86911,     0.86933,     0.86955,     0.87013,     0.87112,     0.87273,\n",
            "             0.8736,     0.87488,     0.87529,     0.87519,     0.87515,     0.87512,     0.87508,     0.87504,     0.87501,     0.87519,     0.87541,     0.87564,     0.87587,      0.8761,     0.87633,     0.87956,     0.87976,     0.87997,     0.88017,     0.88037,     0.88057,     0.88077,     0.88097,\n",
            "            0.88208,     0.88253,     0.88249,     0.88244,      0.8824,     0.88236,     0.88267,     0.88306,     0.88346,     0.88385,     0.88436,     0.88489,     0.88541,     0.88558,     0.88574,      0.8859,     0.88606,     0.88622,     0.88639,     0.88655,     0.88671,     0.88687,     0.88711,\n",
            "            0.88742,     0.88774,     0.88806,     0.88837,     0.88945,     0.89211,     0.89291,     0.89353,     0.89406,      0.8946,     0.89471,     0.89467,     0.89463,     0.89459,     0.89456,     0.89475,     0.89498,     0.89521,     0.89544,     0.89567,      0.8959,     0.89615,     0.89669,\n",
            "            0.89723,     0.89789,     0.89937,     0.89991,     0.90045,     0.90085,      0.9007,     0.90068,     0.90066,     0.90064,     0.90061,     0.90059,     0.90057,     0.90055,     0.90106,     0.90195,     0.90192,      0.9019,     0.90187,     0.90185,     0.90182,      0.9018,     0.90176,\n",
            "            0.90173,     0.90169,     0.90166,     0.90162,     0.90154,     0.90145,      0.9014,     0.90135,     0.90131,     0.90126,     0.90274,     0.90284,     0.90279,     0.90275,     0.90272,     0.90415,     0.90401,     0.90443,     0.90485,     0.90527,     0.90572,     0.90628,     0.90684,\n",
            "            0.90734,     0.90762,      0.9079,     0.90819,     0.90847,     0.90875,       0.909,     0.90919,     0.90937,     0.90956,     0.90975,     0.90994,     0.91013,     0.91032,     0.91051,     0.91161,      0.9122,     0.91211,     0.91266,     0.91352,     0.91418,     0.91475,     0.91532,\n",
            "            0.91613,     0.91699,     0.91732,     0.91755,     0.91778,     0.91802,     0.91825,     0.91848,     0.91871,     0.91878,      0.9187,     0.91967,     0.92019,     0.92014,     0.92009,     0.92047,     0.92105,     0.92164,     0.92244,     0.92333,     0.92339,     0.92324,      0.9236,\n",
            "            0.92404,     0.92448,     0.92493,     0.92649,     0.92642,     0.92817,     0.92811,     0.92805,     0.92991,     0.93011,     0.93031,     0.93051,     0.93071,     0.93091,     0.93112,     0.93132,     0.93152,     0.93204,     0.93265,     0.93325,     0.93331,     0.93329,     0.93327,\n",
            "            0.93324,     0.93322,     0.93319,     0.93317,     0.93314,     0.93311,     0.93309,     0.93422,     0.93746,     0.93846,     0.93844,     0.93842,     0.93841,     0.93839,     0.93837,     0.93835,     0.93861,     0.93935,     0.94009,     0.94072,     0.94135,     0.94197,     0.94164,\n",
            "            0.94178,     0.94193,     0.94207,     0.94222,     0.94236,      0.9425,     0.94265,     0.94279,     0.94294,     0.94308,     0.94323,     0.94337,     0.94347,     0.94346,     0.94345,     0.94344,     0.94343,     0.94342,     0.94341,     0.94341,      0.9434,     0.94339,     0.94338,\n",
            "            0.94337,     0.94336,     0.94459,     0.94519,     0.94517,     0.94515,     0.94513,     0.94511,     0.94497,     0.94489,     0.94487,     0.94485,     0.94484,     0.94482,     0.94481,      0.9448,     0.94478,     0.94471,     0.94455,     0.94449,     0.94444,     0.94439,     0.94435,\n",
            "            0.94446,     0.94464,     0.94483,     0.94501,     0.94519,     0.94538,     0.94556,     0.94574,     0.94593,     0.94611,      0.9462,     0.94616,     0.94613,      0.9461,     0.94608,     0.94606,     0.94604,     0.94602,     0.94601,     0.94593,     0.94587,     0.94585,     0.94582,\n",
            "            0.94579,     0.94621,     0.94677,     0.94733,     0.94768,     0.94764,     0.94761,     0.94758,     0.94767,     0.94811,     0.94855,     0.94898,     0.94941,     0.94972,     0.95002,     0.95032,     0.95063,     0.95093,     0.95123,     0.95124,     0.95109,       0.951,     0.95093,\n",
            "            0.95084,     0.95076,     0.95123,     0.95257,      0.9532,     0.95378,     0.95435,     0.95459,     0.95649,     0.95643,     0.95637,     0.95628,     0.95824,     0.95818,     0.95812,     0.95797,     0.95793,     0.95817,     0.95955,     0.95978,     0.95969,     0.95963,      0.9596,\n",
            "            0.95948,     0.95947,     0.95946,     0.95945,     0.95943,     0.95942,     0.95941,     0.95918,     0.95902,     0.95956,     0.96098,     0.96093,     0.96088,     0.96074,     0.96126,     0.96278,     0.96273,     0.96262,     0.96256,     0.96248,     0.96446,     0.96421,     0.96417,\n",
            "            0.96413,     0.96407,     0.96392,     0.96369,     0.96363,     0.96354,     0.96336,      0.9653,     0.96502,     0.96494,     0.96486,      0.9648,     0.96472,     0.96466,     0.96448,     0.96435,     0.96429,     0.96412,     0.96627,      0.9661,     0.96602,     0.96585,     0.96564,\n",
            "            0.96533,     0.96521,     0.96732,     0.96712,     0.96695,     0.96652,     0.96617,     0.96599,     0.96821,     0.96802,     0.96793,     0.96767,     0.96741,     0.96967,     0.96945,     0.97195,     0.97728,      0.9771,     0.97699,     0.97947,      0.9794,     0.97916,     0.97912,\n",
            "            0.97883,     0.97858,     0.97845,      0.9783,     0.98115,      0.9808,     0.98056,     0.98029,     0.97982,     0.97957,     0.97953,     0.97939,     0.98062,     0.98234,     0.98201,     0.98168,     0.98154,     0.98098,     0.98061,     0.98034,     0.98411,     0.98379,     0.98366,\n",
            "            0.98351,     0.98323,     0.98264,     0.98224,       0.982,     0.98159,      0.9811,     0.98088,     0.97971,     0.97923,      0.9785,     0.97778,     0.98261,     0.98224,     0.98147,     0.98087,     0.99332,     0.99314,     0.99294,     0.99273,     0.99246,     0.99226,     0.99196,\n",
            "            0.99169,     0.99141,     0.99105,       0.991,     0.99067,     0.99031,     0.98991,     0.98964,     0.98944,     0.98876,     0.98836,     0.98793,     0.98731,      0.9868,     0.98544,       0.985,     0.98428,     0.98292,     0.98157,     0.98056,           1,           1,           1,\n",
            "                  1,           1,           1,           1,           1,           1,           1,           1,           1,           1,           1,           1,           1,           1,           1,           1,           1,           1,           1,           1,           1,           1,           1,\n",
            "                  1,           1,           1,           1,           1,           1,           1,           1,           1,           1,           1,           1,           1,           1,           1,           1,           1,           1,           1,           1,           1,           1,           1,\n",
            "                  1,           1,           1,           1,           1,           1,           1,           1,           1,           1,           1,           1,           1,           1,           1,           1,           1,           1,           1,           1,           1,           1,           1,\n",
            "                  1,           1,           1,           1,           1,           1,           1,           1,           1,           1,           1,           1,           1,           1,           1,           1,           1,           1,           1,           1,           1,           1,           1,\n",
            "                  1,           1,           1,           1,           1,           1,           1,           1,           1,           1,           1,           1,           1,           1,           1,           1,           1,           1,           1,           1,           1,           1,           1,\n",
            "                  1,           1,           1,           1,           1,           1,           1,           1,           1,           1,           1]]), 'Confidence', 'Precision'], [array([          0,    0.001001,    0.002002,    0.003003,    0.004004,    0.005005,    0.006006,    0.007007,    0.008008,    0.009009,     0.01001,    0.011011,    0.012012,    0.013013,    0.014014,    0.015015,    0.016016,    0.017017,    0.018018,    0.019019,     0.02002,    0.021021,    0.022022,    0.023023,\n",
            "          0.024024,    0.025025,    0.026026,    0.027027,    0.028028,    0.029029,     0.03003,    0.031031,    0.032032,    0.033033,    0.034034,    0.035035,    0.036036,    0.037037,    0.038038,    0.039039,     0.04004,    0.041041,    0.042042,    0.043043,    0.044044,    0.045045,    0.046046,    0.047047,\n",
            "          0.048048,    0.049049,     0.05005,    0.051051,    0.052052,    0.053053,    0.054054,    0.055055,    0.056056,    0.057057,    0.058058,    0.059059,     0.06006,    0.061061,    0.062062,    0.063063,    0.064064,    0.065065,    0.066066,    0.067067,    0.068068,    0.069069,     0.07007,    0.071071,\n",
            "          0.072072,    0.073073,    0.074074,    0.075075,    0.076076,    0.077077,    0.078078,    0.079079,     0.08008,    0.081081,    0.082082,    0.083083,    0.084084,    0.085085,    0.086086,    0.087087,    0.088088,    0.089089,     0.09009,    0.091091,    0.092092,    0.093093,    0.094094,    0.095095,\n",
            "          0.096096,    0.097097,    0.098098,    0.099099,      0.1001,      0.1011,      0.1021,      0.1031,      0.1041,     0.10511,     0.10611,     0.10711,     0.10811,     0.10911,     0.11011,     0.11111,     0.11211,     0.11311,     0.11411,     0.11512,     0.11612,     0.11712,     0.11812,     0.11912,\n",
            "           0.12012,     0.12112,     0.12212,     0.12312,     0.12412,     0.12513,     0.12613,     0.12713,     0.12813,     0.12913,     0.13013,     0.13113,     0.13213,     0.13313,     0.13413,     0.13514,     0.13614,     0.13714,     0.13814,     0.13914,     0.14014,     0.14114,     0.14214,     0.14314,\n",
            "           0.14414,     0.14515,     0.14615,     0.14715,     0.14815,     0.14915,     0.15015,     0.15115,     0.15215,     0.15315,     0.15415,     0.15516,     0.15616,     0.15716,     0.15816,     0.15916,     0.16016,     0.16116,     0.16216,     0.16316,     0.16416,     0.16517,     0.16617,     0.16717,\n",
            "           0.16817,     0.16917,     0.17017,     0.17117,     0.17217,     0.17317,     0.17417,     0.17518,     0.17618,     0.17718,     0.17818,     0.17918,     0.18018,     0.18118,     0.18218,     0.18318,     0.18418,     0.18519,     0.18619,     0.18719,     0.18819,     0.18919,     0.19019,     0.19119,\n",
            "           0.19219,     0.19319,     0.19419,      0.1952,      0.1962,      0.1972,      0.1982,      0.1992,      0.2002,      0.2012,      0.2022,      0.2032,      0.2042,     0.20521,     0.20621,     0.20721,     0.20821,     0.20921,     0.21021,     0.21121,     0.21221,     0.21321,     0.21421,     0.21522,\n",
            "           0.21622,     0.21722,     0.21822,     0.21922,     0.22022,     0.22122,     0.22222,     0.22322,     0.22422,     0.22523,     0.22623,     0.22723,     0.22823,     0.22923,     0.23023,     0.23123,     0.23223,     0.23323,     0.23423,     0.23524,     0.23624,     0.23724,     0.23824,     0.23924,\n",
            "           0.24024,     0.24124,     0.24224,     0.24324,     0.24424,     0.24525,     0.24625,     0.24725,     0.24825,     0.24925,     0.25025,     0.25125,     0.25225,     0.25325,     0.25425,     0.25526,     0.25626,     0.25726,     0.25826,     0.25926,     0.26026,     0.26126,     0.26226,     0.26326,\n",
            "           0.26426,     0.26527,     0.26627,     0.26727,     0.26827,     0.26927,     0.27027,     0.27127,     0.27227,     0.27327,     0.27427,     0.27528,     0.27628,     0.27728,     0.27828,     0.27928,     0.28028,     0.28128,     0.28228,     0.28328,     0.28428,     0.28529,     0.28629,     0.28729,\n",
            "           0.28829,     0.28929,     0.29029,     0.29129,     0.29229,     0.29329,     0.29429,      0.2953,      0.2963,      0.2973,      0.2983,      0.2993,      0.3003,      0.3013,      0.3023,      0.3033,      0.3043,     0.30531,     0.30631,     0.30731,     0.30831,     0.30931,     0.31031,     0.31131,\n",
            "           0.31231,     0.31331,     0.31431,     0.31532,     0.31632,     0.31732,     0.31832,     0.31932,     0.32032,     0.32132,     0.32232,     0.32332,     0.32432,     0.32533,     0.32633,     0.32733,     0.32833,     0.32933,     0.33033,     0.33133,     0.33233,     0.33333,     0.33433,     0.33534,\n",
            "           0.33634,     0.33734,     0.33834,     0.33934,     0.34034,     0.34134,     0.34234,     0.34334,     0.34434,     0.34535,     0.34635,     0.34735,     0.34835,     0.34935,     0.35035,     0.35135,     0.35235,     0.35335,     0.35435,     0.35536,     0.35636,     0.35736,     0.35836,     0.35936,\n",
            "           0.36036,     0.36136,     0.36236,     0.36336,     0.36436,     0.36537,     0.36637,     0.36737,     0.36837,     0.36937,     0.37037,     0.37137,     0.37237,     0.37337,     0.37437,     0.37538,     0.37638,     0.37738,     0.37838,     0.37938,     0.38038,     0.38138,     0.38238,     0.38338,\n",
            "           0.38438,     0.38539,     0.38639,     0.38739,     0.38839,     0.38939,     0.39039,     0.39139,     0.39239,     0.39339,     0.39439,      0.3954,      0.3964,      0.3974,      0.3984,      0.3994,      0.4004,      0.4014,      0.4024,      0.4034,      0.4044,     0.40541,     0.40641,     0.40741,\n",
            "           0.40841,     0.40941,     0.41041,     0.41141,     0.41241,     0.41341,     0.41441,     0.41542,     0.41642,     0.41742,     0.41842,     0.41942,     0.42042,     0.42142,     0.42242,     0.42342,     0.42442,     0.42543,     0.42643,     0.42743,     0.42843,     0.42943,     0.43043,     0.43143,\n",
            "           0.43243,     0.43343,     0.43443,     0.43544,     0.43644,     0.43744,     0.43844,     0.43944,     0.44044,     0.44144,     0.44244,     0.44344,     0.44444,     0.44545,     0.44645,     0.44745,     0.44845,     0.44945,     0.45045,     0.45145,     0.45245,     0.45345,     0.45445,     0.45546,\n",
            "           0.45646,     0.45746,     0.45846,     0.45946,     0.46046,     0.46146,     0.46246,     0.46346,     0.46446,     0.46547,     0.46647,     0.46747,     0.46847,     0.46947,     0.47047,     0.47147,     0.47247,     0.47347,     0.47447,     0.47548,     0.47648,     0.47748,     0.47848,     0.47948,\n",
            "           0.48048,     0.48148,     0.48248,     0.48348,     0.48448,     0.48549,     0.48649,     0.48749,     0.48849,     0.48949,     0.49049,     0.49149,     0.49249,     0.49349,     0.49449,      0.4955,      0.4965,      0.4975,      0.4985,      0.4995,      0.5005,      0.5015,      0.5025,      0.5035,\n",
            "            0.5045,     0.50551,     0.50651,     0.50751,     0.50851,     0.50951,     0.51051,     0.51151,     0.51251,     0.51351,     0.51451,     0.51552,     0.51652,     0.51752,     0.51852,     0.51952,     0.52052,     0.52152,     0.52252,     0.52352,     0.52452,     0.52553,     0.52653,     0.52753,\n",
            "           0.52853,     0.52953,     0.53053,     0.53153,     0.53253,     0.53353,     0.53453,     0.53554,     0.53654,     0.53754,     0.53854,     0.53954,     0.54054,     0.54154,     0.54254,     0.54354,     0.54454,     0.54555,     0.54655,     0.54755,     0.54855,     0.54955,     0.55055,     0.55155,\n",
            "           0.55255,     0.55355,     0.55455,     0.55556,     0.55656,     0.55756,     0.55856,     0.55956,     0.56056,     0.56156,     0.56256,     0.56356,     0.56456,     0.56557,     0.56657,     0.56757,     0.56857,     0.56957,     0.57057,     0.57157,     0.57257,     0.57357,     0.57457,     0.57558,\n",
            "           0.57658,     0.57758,     0.57858,     0.57958,     0.58058,     0.58158,     0.58258,     0.58358,     0.58458,     0.58559,     0.58659,     0.58759,     0.58859,     0.58959,     0.59059,     0.59159,     0.59259,     0.59359,     0.59459,      0.5956,      0.5966,      0.5976,      0.5986,      0.5996,\n",
            "            0.6006,      0.6016,      0.6026,      0.6036,      0.6046,     0.60561,     0.60661,     0.60761,     0.60861,     0.60961,     0.61061,     0.61161,     0.61261,     0.61361,     0.61461,     0.61562,     0.61662,     0.61762,     0.61862,     0.61962,     0.62062,     0.62162,     0.62262,     0.62362,\n",
            "           0.62462,     0.62563,     0.62663,     0.62763,     0.62863,     0.62963,     0.63063,     0.63163,     0.63263,     0.63363,     0.63463,     0.63564,     0.63664,     0.63764,     0.63864,     0.63964,     0.64064,     0.64164,     0.64264,     0.64364,     0.64464,     0.64565,     0.64665,     0.64765,\n",
            "           0.64865,     0.64965,     0.65065,     0.65165,     0.65265,     0.65365,     0.65465,     0.65566,     0.65666,     0.65766,     0.65866,     0.65966,     0.66066,     0.66166,     0.66266,     0.66366,     0.66466,     0.66567,     0.66667,     0.66767,     0.66867,     0.66967,     0.67067,     0.67167,\n",
            "           0.67267,     0.67367,     0.67467,     0.67568,     0.67668,     0.67768,     0.67868,     0.67968,     0.68068,     0.68168,     0.68268,     0.68368,     0.68468,     0.68569,     0.68669,     0.68769,     0.68869,     0.68969,     0.69069,     0.69169,     0.69269,     0.69369,     0.69469,      0.6957,\n",
            "            0.6967,      0.6977,      0.6987,      0.6997,      0.7007,      0.7017,      0.7027,      0.7037,      0.7047,     0.70571,     0.70671,     0.70771,     0.70871,     0.70971,     0.71071,     0.71171,     0.71271,     0.71371,     0.71471,     0.71572,     0.71672,     0.71772,     0.71872,     0.71972,\n",
            "           0.72072,     0.72172,     0.72272,     0.72372,     0.72472,     0.72573,     0.72673,     0.72773,     0.72873,     0.72973,     0.73073,     0.73173,     0.73273,     0.73373,     0.73473,     0.73574,     0.73674,     0.73774,     0.73874,     0.73974,     0.74074,     0.74174,     0.74274,     0.74374,\n",
            "           0.74474,     0.74575,     0.74675,     0.74775,     0.74875,     0.74975,     0.75075,     0.75175,     0.75275,     0.75375,     0.75475,     0.75576,     0.75676,     0.75776,     0.75876,     0.75976,     0.76076,     0.76176,     0.76276,     0.76376,     0.76476,     0.76577,     0.76677,     0.76777,\n",
            "           0.76877,     0.76977,     0.77077,     0.77177,     0.77277,     0.77377,     0.77477,     0.77578,     0.77678,     0.77778,     0.77878,     0.77978,     0.78078,     0.78178,     0.78278,     0.78378,     0.78478,     0.78579,     0.78679,     0.78779,     0.78879,     0.78979,     0.79079,     0.79179,\n",
            "           0.79279,     0.79379,     0.79479,      0.7958,      0.7968,      0.7978,      0.7988,      0.7998,      0.8008,      0.8018,      0.8028,      0.8038,      0.8048,     0.80581,     0.80681,     0.80781,     0.80881,     0.80981,     0.81081,     0.81181,     0.81281,     0.81381,     0.81481,     0.81582,\n",
            "           0.81682,     0.81782,     0.81882,     0.81982,     0.82082,     0.82182,     0.82282,     0.82382,     0.82482,     0.82583,     0.82683,     0.82783,     0.82883,     0.82983,     0.83083,     0.83183,     0.83283,     0.83383,     0.83483,     0.83584,     0.83684,     0.83784,     0.83884,     0.83984,\n",
            "           0.84084,     0.84184,     0.84284,     0.84384,     0.84484,     0.84585,     0.84685,     0.84785,     0.84885,     0.84985,     0.85085,     0.85185,     0.85285,     0.85385,     0.85485,     0.85586,     0.85686,     0.85786,     0.85886,     0.85986,     0.86086,     0.86186,     0.86286,     0.86386,\n",
            "           0.86486,     0.86587,     0.86687,     0.86787,     0.86887,     0.86987,     0.87087,     0.87187,     0.87287,     0.87387,     0.87487,     0.87588,     0.87688,     0.87788,     0.87888,     0.87988,     0.88088,     0.88188,     0.88288,     0.88388,     0.88488,     0.88589,     0.88689,     0.88789,\n",
            "           0.88889,     0.88989,     0.89089,     0.89189,     0.89289,     0.89389,     0.89489,      0.8959,      0.8969,      0.8979,      0.8989,      0.8999,      0.9009,      0.9019,      0.9029,      0.9039,      0.9049,     0.90591,     0.90691,     0.90791,     0.90891,     0.90991,     0.91091,     0.91191,\n",
            "           0.91291,     0.91391,     0.91491,     0.91592,     0.91692,     0.91792,     0.91892,     0.91992,     0.92092,     0.92192,     0.92292,     0.92392,     0.92492,     0.92593,     0.92693,     0.92793,     0.92893,     0.92993,     0.93093,     0.93193,     0.93293,     0.93393,     0.93493,     0.93594,\n",
            "           0.93694,     0.93794,     0.93894,     0.93994,     0.94094,     0.94194,     0.94294,     0.94394,     0.94494,     0.94595,     0.94695,     0.94795,     0.94895,     0.94995,     0.95095,     0.95195,     0.95295,     0.95395,     0.95495,     0.95596,     0.95696,     0.95796,     0.95896,     0.95996,\n",
            "           0.96096,     0.96196,     0.96296,     0.96396,     0.96496,     0.96597,     0.96697,     0.96797,     0.96897,     0.96997,     0.97097,     0.97197,     0.97297,     0.97397,     0.97497,     0.97598,     0.97698,     0.97798,     0.97898,     0.97998,     0.98098,     0.98198,     0.98298,     0.98398,\n",
            "           0.98498,     0.98599,     0.98699,     0.98799,     0.98899,     0.98999,     0.99099,     0.99199,     0.99299,     0.99399,     0.99499,       0.996,       0.997,       0.998,       0.999,           1]), array([[    0.87377,     0.87377,     0.86152,     0.85049,     0.83088,      0.8223,      0.8125,      0.8076,     0.79902,     0.79534,     0.78922,     0.78064,     0.77442,     0.76961,     0.76348,     0.75858,      0.7549,     0.75245,     0.75245,        0.75,      0.7451,     0.73897,     0.73652,\n",
            "            0.73284,     0.72794,     0.72672,     0.72304,     0.72304,     0.71936,     0.71814,     0.71691,     0.71569,     0.71446,     0.71201,     0.71201,     0.70956,     0.70711,     0.70466,     0.70221,     0.70221,      0.6973,      0.6973,      0.6973,     0.69608,     0.69435,     0.69363,\n",
            "            0.69363,     0.68995,     0.68873,      0.6874,     0.68627,     0.68552,     0.68382,      0.6826,      0.6826,      0.6826,      0.6826,      0.6826,      0.6826,      0.6826,      0.6826,     0.68015,     0.68015,      0.6777,      0.6777,     0.67525,     0.67525,     0.67525,     0.67402,\n",
            "            0.67118,     0.67034,     0.67034,     0.66912,     0.66912,     0.66912,     0.66912,     0.66912,     0.66789,     0.66789,     0.66789,     0.66544,     0.66544,     0.66544,     0.66422,     0.66383,     0.66299,     0.66299,     0.66299,     0.66299,     0.66299,     0.66299,     0.66299,\n",
            "            0.66299,     0.66299,     0.66299,     0.66176,      0.6616,     0.66054,     0.66054,     0.66054,     0.66054,     0.66054,     0.66054,     0.66054,     0.66054,     0.66054,     0.66054,     0.66054,     0.66054,     0.66054,     0.66054,     0.66054,     0.66054,     0.66054,     0.66054,\n",
            "            0.66054,     0.65931,     0.65931,     0.65931,     0.65931,     0.65931,     0.65931,     0.65931,     0.65931,     0.65931,     0.65931,     0.65931,     0.65809,     0.65809,     0.65809,     0.65809,     0.65809,     0.65809,     0.65809,     0.65809,     0.65809,     0.65741,     0.65686,\n",
            "            0.65686,     0.65686,     0.65686,     0.65686,     0.65686,     0.65686,     0.65686,     0.65686,     0.65686,     0.65564,     0.65564,     0.65564,     0.65564,     0.65564,     0.65564,     0.65564,     0.65564,     0.65564,     0.65564,     0.65564,     0.65564,     0.65564,     0.65564,\n",
            "            0.65564,     0.65564,     0.65564,     0.65564,     0.65564,     0.65564,     0.65564,     0.65564,     0.65564,     0.65564,     0.65564,     0.65564,     0.65564,     0.65564,     0.65441,     0.65441,     0.65441,     0.65441,     0.65441,     0.65441,     0.65441,     0.65441,     0.65441,\n",
            "            0.65441,     0.65441,     0.65441,     0.65441,     0.65441,     0.65441,     0.65441,     0.65441,     0.65441,     0.65441,     0.65441,     0.65441,     0.65441,     0.65441,     0.65441,     0.65441,     0.65441,     0.65441,     0.65441,     0.65425,     0.65319,     0.65319,     0.65319,\n",
            "            0.65319,     0.65319,     0.65319,     0.65319,     0.65319,     0.65319,     0.65319,     0.65319,     0.65319,     0.65319,     0.65319,     0.65319,     0.65319,     0.65319,     0.65283,     0.65243,     0.65203,     0.65196,     0.65196,     0.65196,     0.65196,     0.65196,     0.65196,\n",
            "            0.65196,     0.65196,     0.65196,     0.65196,     0.65196,     0.65196,     0.65196,     0.65135,     0.65061,     0.65022,     0.64984,     0.64951,     0.64951,     0.64843,     0.64828,     0.64828,     0.64828,     0.64828,     0.64788,     0.64706,     0.64706,     0.64706,     0.64706,\n",
            "            0.64706,     0.64706,     0.64706,     0.64706,     0.64706,     0.64706,     0.64706,     0.64706,     0.64706,     0.64706,     0.64706,     0.64706,     0.64706,     0.64706,     0.64706,     0.64706,     0.64706,     0.64706,     0.64706,     0.64706,     0.64706,     0.64706,     0.64706,\n",
            "            0.64706,     0.64706,     0.64706,     0.64706,     0.64706,     0.64706,     0.64706,     0.64652,     0.64583,     0.64583,     0.64583,     0.64583,     0.64583,     0.64583,     0.64583,     0.64583,     0.64484,     0.64402,     0.64338,     0.64338,     0.64338,     0.64338,     0.64338,\n",
            "            0.64338,     0.64338,     0.64338,     0.64338,     0.64338,     0.64338,     0.64338,     0.64338,     0.64338,     0.64338,     0.64338,     0.64303,     0.64231,     0.64216,     0.64216,     0.64216,     0.64216,     0.64216,     0.64216,     0.64216,     0.64147,     0.64093,     0.64093,\n",
            "            0.64093,     0.64093,     0.64093,     0.63971,     0.63971,     0.63971,     0.63971,     0.63971,     0.63971,     0.63971,     0.63971,     0.63971,     0.63971,     0.63971,     0.63971,     0.63971,     0.63971,     0.63971,     0.63908,     0.63848,     0.63848,     0.63848,     0.63848,\n",
            "            0.63848,     0.63848,     0.63848,     0.63848,     0.63848,     0.63848,     0.63848,     0.63848,     0.63848,     0.63848,     0.63848,     0.63848,     0.63848,     0.63848,     0.63848,     0.63832,     0.63815,     0.63798,     0.63781,     0.63765,     0.63748,     0.63731,      0.6359,\n",
            "            0.63561,     0.63531,     0.63502,     0.63446,     0.63358,     0.63358,     0.63358,     0.63358,     0.63358,     0.63358,     0.63358,     0.63358,     0.63358,     0.63358,     0.63358,     0.63358,     0.63224,      0.6319,     0.63157,     0.63123,     0.63026,      0.6299,      0.6299,\n",
            "             0.6299,      0.6299,      0.6299,      0.6299,      0.6299,      0.6299,      0.6299,      0.6299,      0.6299,      0.6299,      0.6299,      0.6299,      0.6299,      0.6299,      0.6299,      0.6299,      0.6299,      0.6299,      0.6299,      0.6299,      0.6299,     0.62952,     0.62868,\n",
            "            0.62868,     0.62868,     0.62787,     0.62731,      0.6271,     0.62689,     0.62668,     0.62647,     0.62626,     0.62623,     0.62623,     0.62623,     0.62623,     0.62623,     0.62623,     0.62623,     0.62623,     0.62623,     0.62623,     0.62623,     0.62623,     0.62623,     0.62623,\n",
            "            0.62623,     0.62605,      0.6258,     0.62555,      0.6253,     0.62505,       0.625,       0.625,       0.625,       0.625,       0.625,       0.625,       0.625,       0.625,       0.625,       0.625,       0.625,       0.625,       0.625,       0.625,       0.625,       0.625,       0.625,\n",
            "              0.625,       0.625,       0.625,       0.625,       0.625,       0.625,       0.625,       0.625,       0.625,       0.625,     0.62481,     0.62456,     0.62431,     0.62406,     0.62381,     0.62377,     0.62377,     0.62377,     0.62377,     0.62377,     0.62377,     0.62377,     0.62377,\n",
            "            0.62377,     0.62377,     0.62377,     0.62377,     0.62377,     0.62351,     0.62251,     0.62236,      0.6222,     0.62204,     0.62188,     0.62173,     0.62157,     0.62141,      0.6201,     0.62002,     0.61984,     0.61966,     0.61948,      0.6193,     0.61912,     0.61894,     0.61872,\n",
            "            0.61847,     0.61821,     0.61796,     0.61771,     0.61718,     0.61655,     0.61617,     0.61586,     0.61554,     0.61523,      0.6152,     0.61491,     0.61459,     0.61428,     0.61397,      0.6127,     0.61152,     0.61152,     0.61152,     0.61152,     0.61152,     0.61152,     0.61152,\n",
            "            0.61152,     0.61152,     0.61152,     0.61152,     0.61152,     0.61152,     0.61152,     0.61152,     0.61152,     0.61152,     0.61152,     0.61152,     0.61152,     0.61152,     0.61152,     0.61152,     0.61113,      0.6105,     0.61029,     0.61029,     0.61029,     0.61029,     0.61029,\n",
            "            0.61029,     0.61029,     0.61029,     0.61029,     0.61029,     0.61029,     0.61029,     0.61029,     0.61029,     0.60996,     0.60934,     0.60907,     0.60759,     0.60717,     0.60675,     0.60662,     0.60662,     0.60662,     0.60662,     0.60662,     0.60562,     0.60436,     0.60417,\n",
            "            0.60417,     0.60417,     0.60417,     0.60294,     0.60173,     0.60171,     0.60121,      0.6007,     0.60049,     0.60049,     0.60049,     0.60049,     0.60049,     0.60049,     0.60049,     0.60049,     0.60049,     0.60049,     0.60049,     0.60049,     0.60029,     0.60006,     0.59984,\n",
            "            0.59961,     0.59938,     0.59914,     0.59889,     0.59864,     0.59838,     0.59813,     0.59804,     0.59804,     0.59801,     0.59783,     0.59765,     0.59747,     0.59729,     0.59711,     0.59693,     0.59681,     0.59681,     0.59681,     0.59681,     0.59681,     0.59681,     0.59314,\n",
            "            0.59314,     0.59314,     0.59314,     0.59314,     0.59314,     0.59314,     0.59314,     0.59314,     0.59314,     0.59314,     0.59314,     0.59314,     0.59311,     0.59301,     0.59291,     0.59282,     0.59272,     0.59262,     0.59253,     0.59243,     0.59233,     0.59224,     0.59214,\n",
            "            0.59204,     0.59195,     0.59191,     0.59176,     0.59153,      0.5913,     0.59107,     0.59084,      0.5892,     0.58836,     0.58809,     0.58793,     0.58776,     0.58759,     0.58742,     0.58726,     0.58709,     0.58635,     0.58452,     0.58389,     0.58328,     0.58277,     0.58227,\n",
            "            0.58211,     0.58211,     0.58211,     0.58211,     0.58211,     0.58211,     0.58211,     0.58211,     0.58211,     0.58211,     0.58193,     0.58151,     0.58109,     0.58078,     0.58057,     0.58036,     0.58015,     0.57994,     0.57973,     0.57884,     0.57822,     0.57791,     0.57759,\n",
            "            0.57728,     0.57721,     0.57721,     0.57721,     0.57708,     0.57672,     0.57636,       0.576,     0.57475,     0.57475,     0.57475,     0.57475,     0.57475,     0.57475,     0.57475,     0.57475,     0.57475,     0.57475,     0.57475,     0.57384,     0.57198,     0.57084,        0.57,\n",
            "            0.56882,     0.56792,      0.5674,      0.5674,      0.5674,      0.5674,      0.5674,     0.56677,     0.56573,      0.5649,     0.56406,     0.56297,     0.56238,     0.56155,     0.56071,     0.55869,     0.55806,     0.55637,     0.55637,      0.5557,     0.55431,      0.5535,     0.55299,\n",
            "             0.5514,     0.55122,     0.55104,     0.55086,     0.55068,      0.5505,     0.55032,     0.54707,     0.54484,     0.54412,      0.5433,     0.54247,     0.54184,     0.53983,     0.53922,     0.53898,     0.53814,     0.53648,     0.53565,     0.53444,     0.53206,     0.52825,     0.52759,\n",
            "            0.52696,     0.52613,     0.52384,     0.52037,     0.51949,     0.51824,     0.51558,     0.51143,     0.50711,     0.50586,      0.5047,     0.50386,      0.5027,     0.50178,     0.49916,     0.49725,     0.49641,     0.49397,     0.49156,     0.48901,     0.48775,     0.48525,     0.48218,\n",
            "            0.47777,     0.47599,     0.47152,     0.46857,     0.46609,     0.45993,       0.455,     0.45252,     0.44787,      0.4451,     0.44385,     0.44014,     0.43659,     0.43505,     0.42779,      0.4247,     0.42164,      0.4183,     0.41422,     0.40926,     0.40792,     0.40311,     0.40227,\n",
            "             0.3967,     0.39195,     0.38947,     0.38672,     0.38267,     0.37556,     0.37096,     0.36564,       0.357,     0.35264,      0.3518,     0.34946,     0.34436,     0.34076,     0.33457,     0.32841,     0.32587,       0.316,     0.30981,     0.30561,     0.30356,     0.29758,      0.2951,\n",
            "            0.29235,     0.28739,     0.27752,     0.27108,     0.26738,     0.26141,     0.25445,     0.25148,     0.23671,     0.23107,     0.22311,      0.2157,     0.20769,     0.20332,     0.19468,     0.18849,      0.1823,     0.17752,     0.17237,     0.16741,     0.16122,     0.15717,      0.1513,\n",
            "            0.14633,     0.14137,     0.13575,     0.13491,     0.13016,     0.12519,     0.12023,     0.11707,     0.11479,     0.10779,     0.10405,     0.10031,    0.095351,    0.091614,    0.082974,    0.080462,    0.076724,    0.070535,    0.065261,    0.061834,    0.060911,     0.05926,    0.057173,\n",
            "           0.055461,    0.054048,    0.047985,    0.044248,    0.041735,    0.039223,    0.033061,    0.030522,    0.029061,    0.028433,     0.02436,    0.020473,    0.018171,    0.015448,    0.012936,    0.011339,   0.0096705,    0.009168,   0.0086655,   0.0081631,   0.0076606,   0.0072138,   0.0068549,\n",
            "           0.006496,   0.0061371,    0.005883,   0.0056317,   0.0053805,   0.0051293,   0.0048721,    0.004558,    0.004244,   0.0039299,   0.0036072,   0.0032483,   0.0028894,   0.0025305,           0,           0,           0,           0,           0,           0,           0,           0,           0,\n",
            "                  0,           0,           0,           0,           0,           0,           0,           0,           0,           0,           0,           0,           0,           0,           0,           0,           0,           0,           0,           0,           0,           0,           0,\n",
            "                  0,           0,           0,           0,           0,           0,           0,           0,           0,           0,           0,           0,           0,           0,           0,           0,           0,           0,           0,           0,           0,           0,           0,\n",
            "                  0,           0,           0,           0,           0,           0,           0,           0,           0,           0,           0,           0,           0,           0,           0,           0,           0,           0,           0,           0,           0,           0,           0,\n",
            "                  0,           0,           0,           0,           0,           0,           0,           0,           0,           0,           0]]), 'Confidence', 'Recall']]\n",
            "fitness: 0.4850172628694102\n",
            "keys: ['metrics/precision(B)', 'metrics/recall(B)', 'metrics/mAP50(B)', 'metrics/mAP50-95(B)']\n",
            "maps: array([    0.46303])\n",
            "names: {0: 'object'}\n",
            "plot: True\n",
            "results_dict: {'metrics/precision(B)': 0.8946707321510763, 'metrics/recall(B)': 0.6245620620620621, 'metrics/mAP50(B)': 0.6829011309954853, 'metrics/mAP50-95(B)': 0.4630301664109574, 'fitness': 0.4850172628694102}\n",
            "save_dir: PosixPath('runs/detect/train2')\n",
            "speed: {'preprocess': 0.27205469406442184, 'inference': 2.3064225980291653, 'loss': 0.00056194768071993, 'postprocess': 2.3132996373645773}\n",
            "task: 'detect'\n"
          ]
        }
      ],
      "source": [
        "from ultralytics import YOLO\n",
        "\n",
        "# Load the YOLOv8 model\n",
        "model = YOLO(\"yolov8n.pt\")  # Load a specific YOLOv8 model (e.g., yolov8s, yolov8m, yolov8l)\n",
        "\n",
        "# Train the model with the --single-cls flag\n",
        "results = model.train(data=r\"/content/Scence-Text-Detection-4/data.yaml\", epochs=100, imgsz=640, single_cls=True)\n",
        "\n",
        "# Print the training results\n",
        "print(results)"
      ]
    },
    {
      "cell_type": "code",
      "source": [
        "model.save(\"trained_yolov8n.pt\")"
      ],
      "metadata": {
        "id": "UNKAZzI93qty"
      },
      "execution_count": 7,
      "outputs": []
    },
    {
      "cell_type": "code",
      "source": [
        "import shutil\n",
        "import os\n",
        "from google.colab import files\n",
        "\n",
        "def ship_project_folder_colab(source_folder, output_file):\n",
        "    \"\"\"\n",
        "    Compress the entire project folder into a zip file in Google Colab\n",
        "    and allow downloading it.\n",
        "\n",
        "    :param source_folder: Path to the folder you want to ship.\n",
        "    :param output_file: Name of the resulting zip file.\n",
        "    \"\"\"\n",
        "    if not os.path.exists(source_folder):\n",
        "        print(f\"The source folder '{source_folder}' does not exist.\")\n",
        "        return\n",
        "\n",
        "    try:\n",
        "        # Create a zip file\n",
        "        shutil.make_archive(output_file, 'zip', source_folder)\n",
        "        zip_file = f\"{output_file}.zip\"\n",
        "        print(f\"Project folder '{source_folder}' has been successfully compressed to '{zip_file}'.\")\n",
        "\n",
        "        # Download the zip file to local machine\n",
        "        files.download(zip_file)\n",
        "    except Exception as e:\n",
        "        print(f\"An error occurred: {e}\")\n",
        "\n",
        "# Example usage\n",
        "source_folder = \"/content\"  # Replace with your project's folder path\n",
        "output_file = \"/content/project_backup\"  # Replace with your desired zip file name (no .zip extension)\n",
        "ship_project_folder_colab(source_folder, output_file)"
      ],
      "metadata": {
        "colab": {
          "base_uri": "https://localhost:8080/",
          "height": 52
        },
        "id": "1ciaRDYJ4n3i",
        "outputId": "e1c5671a-e629-48d3-9ced-a49f2407f32d"
      },
      "execution_count": 8,
      "outputs": [
        {
          "output_type": "stream",
          "name": "stdout",
          "text": [
            "Project folder '/content' has been successfully compressed to '/content/project_backup.zip'.\n"
          ]
        },
        {
          "output_type": "display_data",
          "data": {
            "text/plain": [
              "<IPython.core.display.Javascript object>"
            ],
            "application/javascript": [
              "\n",
              "    async function download(id, filename, size) {\n",
              "      if (!google.colab.kernel.accessAllowed) {\n",
              "        return;\n",
              "      }\n",
              "      const div = document.createElement('div');\n",
              "      const label = document.createElement('label');\n",
              "      label.textContent = `Downloading \"${filename}\": `;\n",
              "      div.appendChild(label);\n",
              "      const progress = document.createElement('progress');\n",
              "      progress.max = size;\n",
              "      div.appendChild(progress);\n",
              "      document.body.appendChild(div);\n",
              "\n",
              "      const buffers = [];\n",
              "      let downloaded = 0;\n",
              "\n",
              "      const channel = await google.colab.kernel.comms.open(id);\n",
              "      // Send a message to notify the kernel that we're ready.\n",
              "      channel.send({})\n",
              "\n",
              "      for await (const message of channel.messages) {\n",
              "        // Send a message to notify the kernel that we're ready.\n",
              "        channel.send({})\n",
              "        if (message.buffers) {\n",
              "          for (const buffer of message.buffers) {\n",
              "            buffers.push(buffer);\n",
              "            downloaded += buffer.byteLength;\n",
              "            progress.value = downloaded;\n",
              "          }\n",
              "        }\n",
              "      }\n",
              "      const blob = new Blob(buffers, {type: 'application/binary'});\n",
              "      const a = document.createElement('a');\n",
              "      a.href = window.URL.createObjectURL(blob);\n",
              "      a.download = filename;\n",
              "      div.appendChild(a);\n",
              "      a.click();\n",
              "      div.remove();\n",
              "    }\n",
              "  "
            ]
          },
          "metadata": {}
        },
        {
          "output_type": "display_data",
          "data": {
            "text/plain": [
              "<IPython.core.display.Javascript object>"
            ],
            "application/javascript": [
              "download(\"download_84a5d38c-a091-488e-be14-33473a84049a\", \"project_backup.zip\", 425932446)"
            ]
          },
          "metadata": {}
        }
      ]
    }
  ],
  "metadata": {
    "kernelspec": {
      "display_name": "Python 3",
      "name": "python3"
    },
    "language_info": {
      "codemirror_mode": {
        "name": "ipython",
        "version": 3
      },
      "file_extension": ".py",
      "mimetype": "text/x-python",
      "name": "python",
      "nbconvert_exporter": "python",
      "pygments_lexer": "ipython3",
      "version": "3.11.5"
    },
    "colab": {
      "provenance": [],
      "gpuType": "T4"
    },
    "accelerator": "GPU"
  },
  "nbformat": 4,
  "nbformat_minor": 0
}